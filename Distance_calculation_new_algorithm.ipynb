{
 "cells": [
  {
   "cell_type": "code",
   "execution_count": 1,
   "id": "6565a8a5",
   "metadata": {},
   "outputs": [],
   "source": [
    "from utils import *"
   ]
  },
  {
   "cell_type": "code",
   "execution_count": 2,
   "id": "27e13982",
   "metadata": {},
   "outputs": [],
   "source": [
    "def haversine_distance(lat1, lon1, lat2, lon2):\n",
    "\n",
    "    # Convert latitude and longitude from degrees to radians\n",
    "    lat1, lon1, lat2, lon2 = np.radians([lat1, lon1, lat2, lon2])\n",
    "\n",
    "    # Haversine formula\n",
    "    dlat = lat2 - lat1\n",
    "    dlon = lon2 - lon1\n",
    "    a = np.sin(dlat / 2.0) ** 2 + np.cos(lat1) * np.cos(lat2) * np.sin(dlon / 2.0) ** 2\n",
    "    c = 2 * np.arctan2(np.sqrt(a), np.sqrt(1 - a))\n",
    "\n",
    "    # Radius of Earth in kilometers\n",
    "    r = 6371.0\n",
    "    return r * c"
   ]
  },
  {
   "cell_type": "code",
   "execution_count": 3,
   "id": "b374f215",
   "metadata": {},
   "outputs": [],
   "source": [
    "data = pd.read_pickle(\"./data/df_gesamt_15_08_prepocessed_einworner_added.pkl\")"
   ]
  },
  {
   "cell_type": "code",
   "execution_count": 4,
   "id": "9cb78378",
   "metadata": {},
   "outputs": [],
   "source": [
    "c_data = data[[\"Qid\", \"GJ\", \"Laenge\", \"Breite\"]].copy()"
   ]
  },
  {
   "cell_type": "code",
   "execution_count": 5,
   "id": "3953eca8",
   "metadata": {},
   "outputs": [],
   "source": [
    "c_data_2018 = c_data[c_data.GJ == 2018].copy()"
   ]
  },
  {
   "cell_type": "code",
   "execution_count": 6,
   "id": "cab77ea4",
   "metadata": {},
   "outputs": [],
   "source": [
    "# The parameters should be adjusted manually.\n",
    "breite_bin_count = 2200\n",
    "laenge_bin_count = 2200\n",
    "c_data_2018[\"Breite_bin\"] = pd.cut(c_data_2018.Breite, bins=np.linspace(c_data_2018.Breite.min(), c_data_2018.Breite.max(), breite_bin_count), labels=np.arange(breite_bin_count-1), precision=24, include_lowest=True)\n",
    "c_data_2018[\"Laenge_bin\"] = pd.cut(c_data_2018.Laenge, bins=np.linspace(c_data_2018.Laenge.min(), c_data_2018.Laenge.max(), laenge_bin_count), labels=np.arange(laenge_bin_count-1), precision=24, include_lowest=True)"
   ]
  },
  {
   "cell_type": "code",
   "execution_count": 7,
   "id": "9839e26c",
   "metadata": {},
   "outputs": [
    {
     "name": "stdout",
     "output_type": "stream",
     "text": [
      "0.4917,\n",
      "0.4917,\n",
      "0.4633,\n",
      "0.4633\n"
     ]
    }
   ],
   "source": [
    "# Check wheter the minimum cell is big enough\n",
    "B = np.linspace(c_data_2018.Breite.min(), c_data_2018.Breite.max(), breite_bin_count)\n",
    "L = np.linspace(c_data_2018.Laenge.min(), c_data_2018.Laenge.max(), laenge_bin_count)\n",
    "\n",
    "a = haversine_distance(B[0], L[0], B[1], L[1])\n",
    "b = haversine_distance(B[0], L[-2], B[1], L[-1]) \n",
    "c = haversine_distance(B[-2], L[-2], B[-1], L[-1])\n",
    "d = haversine_distance(B[-2], L[0], B[-1], L[1])\n",
    "\n",
    "print(f\"{a:.4f},\\n{b:.4f},\\n{c:.4f},\\n{d:.4f}\")"
   ]
  },
  {
   "cell_type": "code",
   "execution_count": 8,
   "id": "eba5a4df",
   "metadata": {},
   "outputs": [],
   "source": [
    "# Sliding window size: KxK kernel, stride is 1\n",
    "K = 3\n",
    "breite_windows = np.arange(K) + np.arange(breite_bin_count-K+1)[..., None]\n",
    "laenge_windows = np.arange(K) + np.arange(laenge_bin_count-K+1)[..., None]"
   ]
  },
  {
   "cell_type": "code",
   "execution_count": 9,
   "id": "554814cf",
   "metadata": {},
   "outputs": [],
   "source": [
    "# Set the Qid column as index in order to get them from groups in future\n",
    "c_data_2018.set_index(\"Qid\", drop=True, inplace=True)"
   ]
  },
  {
   "cell_type": "code",
   "execution_count": 10,
   "id": "8ca927ae",
   "metadata": {},
   "outputs": [],
   "source": [
    "# Group the data by the corresponding bins\n",
    "grouped_data_2018 = c_data_2018.groupby([\"Breite_bin\", \"Laenge_bin\"])"
   ]
  },
  {
   "cell_type": "code",
   "execution_count": 11,
   "id": "c71e0602",
   "metadata": {},
   "outputs": [
    {
     "name": "stderr",
     "output_type": "stream",
     "text": [
      "100%|████████████████████████████████████████████████████████████████| 2198/2198 [00:22<00:00, 99.24it/s]\n"
     ]
    }
   ],
   "source": [
    "pairwise_qids = []\n",
    "\n",
    "for idx, breite_window in enumerate(tqdm(breite_windows)):       \n",
    "    for jdx, laenge_window in enumerate(laenge_windows):\n",
    "        \n",
    "        local_group = []\n",
    "        \n",
    "        # Combine all cells of KxK window\n",
    "        for i in range(K):\n",
    "            for j in range(K):\n",
    "                one_cell_qids = grouped_data_2018.groups.get((breite_window[i], laenge_window[j]))\n",
    "                \n",
    "                # Check if the cell is not empty\n",
    "                if one_cell_qids is not None:\n",
    "                    local_group.append(one_cell_qids)\n",
    "        \n",
    "        # Check for empty window\n",
    "        if len(local_group) == 0:\n",
    "            continue\n",
    "        \n",
    "        # Concatenate the results for the window\n",
    "        local_group = np.concatenate(local_group)\n",
    "        \n",
    "        # Repeat Qids (pairwise)\n",
    "        pairwise_qid = np.stack([local_group.repeat(local_group.shape[0]), local_group[..., None].repeat(local_group.shape[0], 1).T.flatten()], axis=-1)\n",
    "\n",
    "        pairwise_qids.append(pairwise_qid)"
   ]
  },
  {
   "cell_type": "code",
   "execution_count": 12,
   "id": "9851954c",
   "metadata": {},
   "outputs": [],
   "source": [
    "# Concatenate all arrays\n",
    "pairwise_qids = np.concatenate(pairwise_qids, axis=0)"
   ]
  },
  {
   "cell_type": "code",
   "execution_count": 13,
   "id": "ad0fd486",
   "metadata": {},
   "outputs": [],
   "source": [
    "# Make dataframe from the array\n",
    "distances_2018 = pd.DataFrame(data=pairwise_qids, columns=[\"Qid_1\", \"Qid_2\"])"
   ]
  },
  {
   "cell_type": "code",
   "execution_count": 14,
   "id": "7d341681",
   "metadata": {},
   "outputs": [],
   "source": [
    "# Add coordinates\n",
    "distances_2018[[\"Laenge_1\", \"Breite_1\"]] = c_data_2018.loc[pairwise_qids[:, 0]][[\"Laenge\", \"Breite\"]].reset_index(drop=True)\n",
    "distances_2018[[\"Laenge_2\", \"Breite_2\"]] = c_data_2018.loc[pairwise_qids[:, 1]][[\"Laenge\", \"Breite\"]].reset_index(drop=True)"
   ]
  },
  {
   "cell_type": "code",
   "execution_count": 15,
   "id": "bcc989ed",
   "metadata": {},
   "outputs": [],
   "source": [
    "# Calculate distances\n",
    "distances_2018[\"distance\"] = haversine_distance(distances_2018.Breite_1, distances_2018.Laenge_1,\n",
    "                                                distances_2018.Breite_2, distances_2018.Laenge_2)"
   ]
  },
  {
   "cell_type": "code",
   "execution_count": 16,
   "id": "6a184fa3",
   "metadata": {},
   "outputs": [],
   "source": [
    "# Filter the data by the threshold\n",
    "DISTANCE_THRESHOLD = 0.5\n",
    "distances_2018 = distances_2018[distances_2018.distance <= DISTANCE_THRESHOLD]"
   ]
  },
  {
   "cell_type": "code",
   "execution_count": 17,
   "id": "2c64d0df",
   "metadata": {},
   "outputs": [],
   "source": [
    "# Set (Qid_1, Qid_2) paris as index and filter out duplicated results (because of the sliding window method)\n",
    "distances_2018.set_index([\"Qid_1\", \"Qid_2\"], drop=True, inplace=True)\n",
    "distances_2018 = distances_2018[~distances_2018.index.duplicated()]"
   ]
  },
  {
   "cell_type": "code",
   "execution_count": 18,
   "id": "a6a145e4",
   "metadata": {},
   "outputs": [
    {
     "data": {
      "text/html": [
       "<div>\n",
       "<style scoped>\n",
       "    .dataframe tbody tr th:only-of-type {\n",
       "        vertical-align: middle;\n",
       "    }\n",
       "\n",
       "    .dataframe tbody tr th {\n",
       "        vertical-align: top;\n",
       "    }\n",
       "\n",
       "    .dataframe thead th {\n",
       "        text-align: right;\n",
       "    }\n",
       "</style>\n",
       "<table border=\"1\" class=\"dataframe\">\n",
       "  <thead>\n",
       "    <tr style=\"text-align: right;\">\n",
       "      <th></th>\n",
       "      <th></th>\n",
       "      <th>Laenge_1</th>\n",
       "      <th>Breite_1</th>\n",
       "      <th>Laenge_2</th>\n",
       "      <th>Breite_2</th>\n",
       "      <th>distance</th>\n",
       "    </tr>\n",
       "    <tr>\n",
       "      <th>Qid_1</th>\n",
       "      <th>Qid_2</th>\n",
       "      <th></th>\n",
       "      <th></th>\n",
       "      <th></th>\n",
       "      <th></th>\n",
       "      <th></th>\n",
       "    </tr>\n",
       "  </thead>\n",
       "  <tbody>\n",
       "    <tr>\n",
       "      <th rowspan=\"2\" valign=\"top\">734001.0</th>\n",
       "      <th>734001.0</th>\n",
       "      <td>10.176197</td>\n",
       "      <td>47.355011</td>\n",
       "      <td>10.176197</td>\n",
       "      <td>47.355011</td>\n",
       "      <td>0.000000</td>\n",
       "    </tr>\n",
       "    <tr>\n",
       "      <th>734002.0</th>\n",
       "      <td>10.176197</td>\n",
       "      <td>47.355011</td>\n",
       "      <td>10.176208</td>\n",
       "      <td>47.355008</td>\n",
       "      <td>0.000892</td>\n",
       "    </tr>\n",
       "    <tr>\n",
       "      <th rowspan=\"2\" valign=\"top\">734002.0</th>\n",
       "      <th>734001.0</th>\n",
       "      <td>10.176208</td>\n",
       "      <td>47.355008</td>\n",
       "      <td>10.176197</td>\n",
       "      <td>47.355011</td>\n",
       "      <td>0.000892</td>\n",
       "    </tr>\n",
       "    <tr>\n",
       "      <th>734002.0</th>\n",
       "      <td>10.176208</td>\n",
       "      <td>47.355008</td>\n",
       "      <td>10.176208</td>\n",
       "      <td>47.355008</td>\n",
       "      <td>0.000000</td>\n",
       "    </tr>\n",
       "    <tr>\n",
       "      <th>734003.0</th>\n",
       "      <th>734003.0</th>\n",
       "      <td>10.198566</td>\n",
       "      <td>47.365186</td>\n",
       "      <td>10.198566</td>\n",
       "      <td>47.365186</td>\n",
       "      <td>0.000000</td>\n",
       "    </tr>\n",
       "    <tr>\n",
       "      <th>...</th>\n",
       "      <th>...</th>\n",
       "      <td>...</td>\n",
       "      <td>...</td>\n",
       "      <td>...</td>\n",
       "      <td>...</td>\n",
       "      <td>...</td>\n",
       "    </tr>\n",
       "    <tr>\n",
       "      <th>719060.0</th>\n",
       "      <th>786860.0</th>\n",
       "      <td>8.908550</td>\n",
       "      <td>54.874788</td>\n",
       "      <td>8.909086</td>\n",
       "      <td>54.874755</td>\n",
       "      <td>0.034507</td>\n",
       "    </tr>\n",
       "    <tr>\n",
       "      <th rowspan=\"4\" valign=\"top\">786860.0</th>\n",
       "      <th>417648.0</th>\n",
       "      <td>8.909086</td>\n",
       "      <td>54.874755</td>\n",
       "      <td>8.906080</td>\n",
       "      <td>54.871213</td>\n",
       "      <td>0.438323</td>\n",
       "    </tr>\n",
       "    <tr>\n",
       "      <th>189223.0</th>\n",
       "      <td>8.909086</td>\n",
       "      <td>54.874755</td>\n",
       "      <td>8.908775</td>\n",
       "      <td>54.874165</td>\n",
       "      <td>0.068545</td>\n",
       "    </tr>\n",
       "    <tr>\n",
       "      <th>719060.0</th>\n",
       "      <td>8.909086</td>\n",
       "      <td>54.874755</td>\n",
       "      <td>8.908550</td>\n",
       "      <td>54.874788</td>\n",
       "      <td>0.034507</td>\n",
       "    </tr>\n",
       "    <tr>\n",
       "      <th>786860.0</th>\n",
       "      <td>8.909086</td>\n",
       "      <td>54.874755</td>\n",
       "      <td>8.909086</td>\n",
       "      <td>54.874755</td>\n",
       "      <td>0.000000</td>\n",
       "    </tr>\n",
       "  </tbody>\n",
       "</table>\n",
       "<p>2161364 rows × 5 columns</p>\n",
       "</div>"
      ],
      "text/plain": [
       "                    Laenge_1   Breite_1   Laenge_2   Breite_2  distance\n",
       "Qid_1    Qid_2                                                         \n",
       "734001.0 734001.0  10.176197  47.355011  10.176197  47.355011  0.000000\n",
       "         734002.0  10.176197  47.355011  10.176208  47.355008  0.000892\n",
       "734002.0 734001.0  10.176208  47.355008  10.176197  47.355011  0.000892\n",
       "         734002.0  10.176208  47.355008  10.176208  47.355008  0.000000\n",
       "734003.0 734003.0  10.198566  47.365186  10.198566  47.365186  0.000000\n",
       "...                      ...        ...        ...        ...       ...\n",
       "719060.0 786860.0   8.908550  54.874788   8.909086  54.874755  0.034507\n",
       "786860.0 417648.0   8.909086  54.874755   8.906080  54.871213  0.438323\n",
       "         189223.0   8.909086  54.874755   8.908775  54.874165  0.068545\n",
       "         719060.0   8.909086  54.874755   8.908550  54.874788  0.034507\n",
       "         786860.0   8.909086  54.874755   8.909086  54.874755  0.000000\n",
       "\n",
       "[2161364 rows x 5 columns]"
      ]
     },
     "execution_count": 18,
     "metadata": {},
     "output_type": "execute_result"
    }
   ],
   "source": [
    "distances_2018"
   ]
  },
  {
   "cell_type": "code",
   "execution_count": 19,
   "id": "40316146",
   "metadata": {},
   "outputs": [],
   "source": [
    "# Save the result\n",
    "# distances_2018.to_csv(\"./data/distances/distances_2018_new_algo.csv\")"
   ]
  }
 ],
 "metadata": {
  "kernelspec": {
   "display_name": "Python 3 (ipykernel)",
   "language": "python",
   "name": "python3"
  },
  "language_info": {
   "codemirror_mode": {
    "name": "ipython",
    "version": 3
   },
   "file_extension": ".py",
   "mimetype": "text/x-python",
   "name": "python",
   "nbconvert_exporter": "python",
   "pygments_lexer": "ipython3",
   "version": "3.9.12"
  }
 },
 "nbformat": 4,
 "nbformat_minor": 5
}
