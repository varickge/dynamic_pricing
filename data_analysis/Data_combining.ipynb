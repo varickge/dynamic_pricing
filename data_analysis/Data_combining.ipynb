{
 "cells": [
  {
   "cell_type": "code",
   "execution_count": 1,
   "id": "7a14e925",
   "metadata": {},
   "outputs": [],
   "source": [
    "import pandas as pd\n",
    "from utils import *"
   ]
  },
  {
   "cell_type": "code",
   "execution_count": 2,
   "id": "f77f60c5",
   "metadata": {},
   "outputs": [],
   "source": [
    "old_df = pd.read_pickle(\"./data/df_gesamt_15_08_prepocessed_einworner_added.pkl\")\n",
    "old_df.drop(\"Einwohner\", inplace=True, axis=1)\n",
    "new_df = pd.read_pickle(\"./data/decade_price_data_combined.pkl\")\n",
    "condition = (new_df.reset_index(drop=True).groupby(\"Qid\")[\"GJ\"].apply(lambda x: x.unique().shape[0]) == new_df.reset_index(drop=True).groupby(\"Qid\")[\"GJ\"].count())\n",
    "new_df = new_df[new_df.Qid.isin(condition[condition].index)]"
   ]
  },
  {
   "cell_type": "code",
   "execution_count": 3,
   "id": "da42abef",
   "metadata": {},
   "outputs": [
    {
     "data": {
      "text/plain": [
       "Index(['GJ', 'Qid', 'TD01', 'TD02', 'TD03', 'TD04', 'TD05', 'TD06', 'TD07',\n",
       "       'TD08', 'TD09', 'TD10', 'TD11', 'TD12', 'TD13', 'TD14', 'TD15', 'TD16',\n",
       "       'TD17', 'TD18', 'TD19', 'TD20', 'TD21', 'TD22', 'TD23', 'TD24', 'TD25',\n",
       "       'TD26', 'TD27', 'TD28', 'TD29', 'TD30', 'TD31', 'TD32', 'TD33', 'TD34',\n",
       "       'Ort', 'Preis', 'PLZ', 'Beleuchtet', 'Laenge', 'Breite', 'PPSVACWert',\n",
       "       'T1', 'T2', 'T3', 'T4', 'T5', 'T6', 'T7', 'T8', 'T9', 'T10', 'T11',\n",
       "       'T12', 'T13', 'T14', 'T15', 'T16', 'T17', 'T18', 'T19', 'T20', 'T21',\n",
       "       'T22', 'T23', 'T24', 'T25', 'T26', 'T27', 'T28', 'T29', 'T30', 'T31',\n",
       "       'T32', 'T33', 'T34', 'Eigenfläche', 'Stellensubart_1',\n",
       "       'Stellensubart_2', 'Stellensubart_3', 'Stellensubart_4'],\n",
       "      dtype='object')"
      ]
     },
     "execution_count": 3,
     "metadata": {},
     "output_type": "execute_result"
    }
   ],
   "source": [
    "new_df.columns"
   ]
  },
  {
   "cell_type": "code",
   "execution_count": 4,
   "id": "e9a53fcd",
   "metadata": {},
   "outputs": [],
   "source": [
    "list_of_t = ['TD01', 'TD02', 'TD03', 'TD04', 'TD05', 'TD06', 'TD07',\n",
    "     'TD08', 'TD09', 'TD10', 'TD11', 'TD12', 'TD13', 'TD14', 'TD15', 'TD16',\n",
    "     'TD17', 'TD18', 'TD19', 'TD20', 'TD21', 'TD22', 'TD23', 'TD24', 'TD25',\n",
    "     'TD26', 'TD27', 'TD28', 'TD29', 'TD30', 'TD31', 'TD32', 'TD33', 'TD34', 'Preis']\n",
    "\n",
    "for i in list_of_t:\n",
    "    old_df[i] = old_df.Preis"
   ]
  },
  {
   "cell_type": "code",
   "execution_count": 5,
   "id": "cc8252c6",
   "metadata": {},
   "outputs": [
    {
     "data": {
      "text/plain": [
       "((813064, 82), (319594, 82))"
      ]
     },
     "execution_count": 5,
     "metadata": {},
     "output_type": "execute_result"
    }
   ],
   "source": [
    "old_df.shape, new_df.shape"
   ]
  },
  {
   "cell_type": "code",
   "execution_count": 6,
   "id": "c8d95160",
   "metadata": {},
   "outputs": [],
   "source": [
    "combined = pd.concat([new_df, old_df[~(old_df.Qid.isin(new_df.Qid.unique()))]])"
   ]
  },
  {
   "cell_type": "code",
   "execution_count": 7,
   "id": "f115ba28",
   "metadata": {},
   "outputs": [
    {
     "data": {
      "text/plain": [
       "(806415, 82)"
      ]
     },
     "execution_count": 7,
     "metadata": {},
     "output_type": "execute_result"
    }
   ],
   "source": [
    "combined.shape"
   ]
  },
  {
   "cell_type": "code",
   "execution_count": 8,
   "id": "9a576096",
   "metadata": {},
   "outputs": [
    {
     "data": {
      "text/html": [
       "<div>\n",
       "<style scoped>\n",
       "    .dataframe tbody tr th:only-of-type {\n",
       "        vertical-align: middle;\n",
       "    }\n",
       "\n",
       "    .dataframe tbody tr th {\n",
       "        vertical-align: top;\n",
       "    }\n",
       "\n",
       "    .dataframe thead th {\n",
       "        text-align: right;\n",
       "    }\n",
       "</style>\n",
       "<table border=\"1\" class=\"dataframe\">\n",
       "  <thead>\n",
       "    <tr style=\"text-align: right;\">\n",
       "      <th></th>\n",
       "      <th>GJ</th>\n",
       "      <th>Qid</th>\n",
       "      <th>TD01</th>\n",
       "      <th>TD02</th>\n",
       "      <th>TD03</th>\n",
       "      <th>TD04</th>\n",
       "      <th>TD05</th>\n",
       "      <th>TD06</th>\n",
       "      <th>TD07</th>\n",
       "      <th>TD08</th>\n",
       "      <th>...</th>\n",
       "      <th>T30</th>\n",
       "      <th>T31</th>\n",
       "      <th>T32</th>\n",
       "      <th>T33</th>\n",
       "      <th>T34</th>\n",
       "      <th>Eigenfläche</th>\n",
       "      <th>Stellensubart_1</th>\n",
       "      <th>Stellensubart_2</th>\n",
       "      <th>Stellensubart_3</th>\n",
       "      <th>Stellensubart_4</th>\n",
       "    </tr>\n",
       "  </thead>\n",
       "  <tbody>\n",
       "    <tr>\n",
       "      <th>0</th>\n",
       "      <td>2018.0</td>\n",
       "      <td>100019.0</td>\n",
       "      <td>0.000000</td>\n",
       "      <td>0.000</td>\n",
       "      <td>0.000</td>\n",
       "      <td>0.000000</td>\n",
       "      <td>0.000000</td>\n",
       "      <td>0.000</td>\n",
       "      <td>0.000000</td>\n",
       "      <td>6.427</td>\n",
       "      <td>...</td>\n",
       "      <td>1.0</td>\n",
       "      <td>0.0</td>\n",
       "      <td>0.0</td>\n",
       "      <td>0.0</td>\n",
       "      <td>0.0</td>\n",
       "      <td>1.0</td>\n",
       "      <td>0.0</td>\n",
       "      <td>0.0</td>\n",
       "      <td>0.0</td>\n",
       "      <td>0.0</td>\n",
       "    </tr>\n",
       "    <tr>\n",
       "      <th>52544</th>\n",
       "      <td>2019.0</td>\n",
       "      <td>100019.0</td>\n",
       "      <td>0.650000</td>\n",
       "      <td>0.000</td>\n",
       "      <td>0.000</td>\n",
       "      <td>0.000000</td>\n",
       "      <td>0.000000</td>\n",
       "      <td>0.000</td>\n",
       "      <td>0.000000</td>\n",
       "      <td>0.000</td>\n",
       "      <td>...</td>\n",
       "      <td>0.0</td>\n",
       "      <td>0.0</td>\n",
       "      <td>0.0</td>\n",
       "      <td>0.0</td>\n",
       "      <td>0.0</td>\n",
       "      <td>1.0</td>\n",
       "      <td>0.0</td>\n",
       "      <td>0.0</td>\n",
       "      <td>0.0</td>\n",
       "      <td>0.0</td>\n",
       "    </tr>\n",
       "    <tr>\n",
       "      <th>106327</th>\n",
       "      <td>2020.0</td>\n",
       "      <td>100019.0</td>\n",
       "      <td>0.000000</td>\n",
       "      <td>0.000</td>\n",
       "      <td>0.000</td>\n",
       "      <td>5.967000</td>\n",
       "      <td>0.000000</td>\n",
       "      <td>5.967</td>\n",
       "      <td>0.000000</td>\n",
       "      <td>0.000</td>\n",
       "      <td>...</td>\n",
       "      <td>0.0</td>\n",
       "      <td>0.0</td>\n",
       "      <td>0.0</td>\n",
       "      <td>0.0</td>\n",
       "      <td>0.0</td>\n",
       "      <td>1.0</td>\n",
       "      <td>0.0</td>\n",
       "      <td>0.0</td>\n",
       "      <td>0.0</td>\n",
       "      <td>0.0</td>\n",
       "    </tr>\n",
       "    <tr>\n",
       "      <th>160287</th>\n",
       "      <td>2022.0</td>\n",
       "      <td>100019.0</td>\n",
       "      <td>1.176364</td>\n",
       "      <td>0.000</td>\n",
       "      <td>1.294</td>\n",
       "      <td>6.183636</td>\n",
       "      <td>1.294000</td>\n",
       "      <td>0.000</td>\n",
       "      <td>0.000000</td>\n",
       "      <td>0.000</td>\n",
       "      <td>...</td>\n",
       "      <td>0.0</td>\n",
       "      <td>0.0</td>\n",
       "      <td>0.0</td>\n",
       "      <td>0.0</td>\n",
       "      <td>0.0</td>\n",
       "      <td>1.0</td>\n",
       "      <td>0.0</td>\n",
       "      <td>0.0</td>\n",
       "      <td>0.0</td>\n",
       "      <td>0.0</td>\n",
       "    </tr>\n",
       "    <tr>\n",
       "      <th>213041</th>\n",
       "      <td>2021.0</td>\n",
       "      <td>100019.0</td>\n",
       "      <td>6.427273</td>\n",
       "      <td>0.000</td>\n",
       "      <td>2.156</td>\n",
       "      <td>1.960000</td>\n",
       "      <td>0.715000</td>\n",
       "      <td>0.000</td>\n",
       "      <td>0.000000</td>\n",
       "      <td>0.000</td>\n",
       "      <td>...</td>\n",
       "      <td>0.0</td>\n",
       "      <td>0.0</td>\n",
       "      <td>0.0</td>\n",
       "      <td>0.0</td>\n",
       "      <td>1.0</td>\n",
       "      <td>1.0</td>\n",
       "      <td>0.0</td>\n",
       "      <td>0.0</td>\n",
       "      <td>0.0</td>\n",
       "      <td>0.0</td>\n",
       "    </tr>\n",
       "    <tr>\n",
       "      <th>268236</th>\n",
       "      <td>2023.0</td>\n",
       "      <td>100019.0</td>\n",
       "      <td>0.000000</td>\n",
       "      <td>1.411</td>\n",
       "      <td>0.000</td>\n",
       "      <td>0.000000</td>\n",
       "      <td>1.282727</td>\n",
       "      <td>0.000</td>\n",
       "      <td>1.282727</td>\n",
       "      <td>0.000</td>\n",
       "      <td>...</td>\n",
       "      <td>-1.0</td>\n",
       "      <td>-1.0</td>\n",
       "      <td>-1.0</td>\n",
       "      <td>-1.0</td>\n",
       "      <td>-1.0</td>\n",
       "      <td>1.0</td>\n",
       "      <td>0.0</td>\n",
       "      <td>0.0</td>\n",
       "      <td>0.0</td>\n",
       "      <td>0.0</td>\n",
       "    </tr>\n",
       "  </tbody>\n",
       "</table>\n",
       "<p>6 rows × 82 columns</p>\n",
       "</div>"
      ],
      "text/plain": [
       "            GJ       Qid      TD01   TD02   TD03      TD04      TD05   TD06  \\\n",
       "0       2018.0  100019.0  0.000000  0.000  0.000  0.000000  0.000000  0.000   \n",
       "52544   2019.0  100019.0  0.650000  0.000  0.000  0.000000  0.000000  0.000   \n",
       "106327  2020.0  100019.0  0.000000  0.000  0.000  5.967000  0.000000  5.967   \n",
       "160287  2022.0  100019.0  1.176364  0.000  1.294  6.183636  1.294000  0.000   \n",
       "213041  2021.0  100019.0  6.427273  0.000  2.156  1.960000  0.715000  0.000   \n",
       "268236  2023.0  100019.0  0.000000  1.411  0.000  0.000000  1.282727  0.000   \n",
       "\n",
       "            TD07   TD08  ...  T30  T31  T32  T33  T34  Eigenfläche  \\\n",
       "0       0.000000  6.427  ...  1.0  0.0  0.0  0.0  0.0          1.0   \n",
       "52544   0.000000  0.000  ...  0.0  0.0  0.0  0.0  0.0          1.0   \n",
       "106327  0.000000  0.000  ...  0.0  0.0  0.0  0.0  0.0          1.0   \n",
       "160287  0.000000  0.000  ...  0.0  0.0  0.0  0.0  0.0          1.0   \n",
       "213041  0.000000  0.000  ...  0.0  0.0  0.0  0.0  1.0          1.0   \n",
       "268236  1.282727  0.000  ... -1.0 -1.0 -1.0 -1.0 -1.0          1.0   \n",
       "\n",
       "        Stellensubart_1  Stellensubart_2  Stellensubart_3  Stellensubart_4  \n",
       "0                   0.0              0.0              0.0              0.0  \n",
       "52544               0.0              0.0              0.0              0.0  \n",
       "106327              0.0              0.0              0.0              0.0  \n",
       "160287              0.0              0.0              0.0              0.0  \n",
       "213041              0.0              0.0              0.0              0.0  \n",
       "268236              0.0              0.0              0.0              0.0  \n",
       "\n",
       "[6 rows x 82 columns]"
      ]
     },
     "execution_count": 8,
     "metadata": {},
     "output_type": "execute_result"
    }
   ],
   "source": [
    "combined[combined.Qid == 100019.0]"
   ]
  },
  {
   "cell_type": "code",
   "execution_count": null,
   "id": "b1d151ce",
   "metadata": {},
   "outputs": [],
   "source": [
    "combined.to_pickle(\"./data/decade_price_data_combined_01_09.pkl\")"
   ]
  }
 ],
 "metadata": {
  "kernelspec": {
   "display_name": "Python 3 (ipykernel)",
   "language": "python",
   "name": "python3"
  },
  "language_info": {
   "codemirror_mode": {
    "name": "ipython",
    "version": 3
   },
   "file_extension": ".py",
   "mimetype": "text/x-python",
   "name": "python",
   "nbconvert_exporter": "python",
   "pygments_lexer": "ipython3",
   "version": "3.9.12"
  }
 },
 "nbformat": 4,
 "nbformat_minor": 5
}
