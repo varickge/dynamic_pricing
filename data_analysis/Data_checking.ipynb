{
 "cells": [
  {
   "cell_type": "code",
   "execution_count": 11,
   "id": "30e67250",
   "metadata": {},
   "outputs": [],
   "source": [
    "import numpy as np\n",
    "import pandas as pd\n",
    "import torch\n",
    "import haversine as hs\n",
    "import matplotlib.pyplot as plt\n",
    "from sklearn.model_selection import train_test_split\n",
    "from utils import *"
   ]
  },
  {
   "cell_type": "markdown",
   "id": "cd3d64a3",
   "metadata": {},
   "source": [
    "#### Duplicates"
   ]
  },
  {
   "cell_type": "code",
   "execution_count": 205,
   "id": "8058c865",
   "metadata": {},
   "outputs": [],
   "source": [
    "df = pd.read_pickle(\"data/df_gesamt_15_08_prepocessed_einworner_added.pkl\")"
   ]
  },
  {
   "cell_type": "code",
   "execution_count": 206,
   "id": "30311ade-7757-4b6f-9a3a-f6926a04182c",
   "metadata": {},
   "outputs": [],
   "source": [
    "df.Breite = np.round(df.Breite.values, decimals=6)"
   ]
  },
  {
   "cell_type": "code",
   "execution_count": 207,
   "id": "0d941d62-88c8-44f1-a42a-ec66c833d05f",
   "metadata": {},
   "outputs": [],
   "source": [
    "df_2018 = df[df.GJ == 2018].copy()\n",
    "df_2019 = df[df.GJ == 2019].copy()\n",
    "df_2022 = df[df.GJ == 2022].copy()\n",
    "df_2023 = df[df.GJ == 2023].copy()"
   ]
  },
  {
   "cell_type": "code",
   "execution_count": 208,
   "id": "e1b0af6b-248c-48bf-bced-2d666fd78379",
   "metadata": {},
   "outputs": [],
   "source": [
    "frames = [\n",
    "    df_2018[df_2018.duplicated(subset=[\"Laenge\", \"Breite\"], keep=False)],\n",
    "    df_2019[df_2019.duplicated(subset=[\"Laenge\", \"Breite\"], keep=False)],\n",
    "    df_2022[df_2022.duplicated(subset=[\"Laenge\", \"Breite\"], keep=False)],\n",
    "    df_2023[df_2023.duplicated(subset=[\"Laenge\", \"Breite\"], keep=False)],\n",
    "]"
   ]
  },
  {
   "cell_type": "code",
   "execution_count": 209,
   "id": "c3b3edb8-01c4-40b6-a2eb-233a2d3a0fc8",
   "metadata": {},
   "outputs": [
    {
     "data": {
      "text/plain": [
       "(19641, 20901, 23818, 26361)"
      ]
     },
     "execution_count": 209,
     "metadata": {},
     "output_type": "execute_result"
    }
   ],
   "source": [
    "duplicates_count_2018 = df_2018.duplicated(\n",
    "    subset=[\"Laenge\", \"Breite\"], keep=False\n",
    ").sum()\n",
    "duplicates_count_2019 = df_2019.duplicated(\n",
    "    subset=[\"Laenge\", \"Breite\"], keep=False\n",
    ").sum()\n",
    "duplicates_count_2022 = df_2022.duplicated(\n",
    "    subset=[\"Laenge\", \"Breite\"], keep=False\n",
    ").sum()\n",
    "duplicates_count_2023 = df_2023.duplicated(\n",
    "    subset=[\"Laenge\", \"Breite\"], keep=False\n",
    ").sum()\n",
    "duplicates_count_2018, duplicates_count_2019, duplicates_count_2022, duplicates_count_2023"
   ]
  },
  {
   "cell_type": "code",
   "execution_count": 210,
   "id": "72749e3a-6bf1-435f-8d37-61860146f195",
   "metadata": {},
   "outputs": [],
   "source": [
    "def duplicates(df_):\n",
    "    return df_.duplicated(subset=[\"Laenge\", \"Breite\"], keep=False).sum()"
   ]
  },
  {
   "cell_type": "code",
   "execution_count": 211,
   "id": "c64342b1-0425-494d-8351-e97a2df609bd",
   "metadata": {},
   "outputs": [
    {
     "data": {
      "text/plain": [
       "{2018: 19641, 2019: 20901, 2022: 23818, 2023: 26361}"
      ]
     },
     "execution_count": 211,
     "metadata": {},
     "output_type": "execute_result"
    }
   ],
   "source": [
    "{\n",
    "    2018: duplicates(df_2018),\n",
    "    2019: duplicates(df_2019),\n",
    "    2022: duplicates(df_2022),\n",
    "    2023: duplicates(df_2023),\n",
    "}"
   ]
  },
  {
   "cell_type": "markdown",
   "id": "b45c5695",
   "metadata": {},
   "source": [
    "#### Calculate distances"
   ]
  },
  {
   "cell_type": "code",
   "execution_count": 29,
   "id": "1fcd4e7c",
   "metadata": {},
   "outputs": [],
   "source": [
    "# # haversine distance calculator function\n",
    "\n",
    "\n",
    "def haversine_distance(lat1, lon1, lat2, lon2):\n",
    "    \"\"\"\n",
    "    Calculate the Haversine distance between two points on the Earth.\n",
    "\n",
    "    Parameters:\n",
    "    - lat1 Laenge1 (float): Latitude of the first point in degrees.\n",
    "    - lon1 Breite1 (float): Longitude of the first point in degrees.\n",
    "    - lat2 Laenge2 (float): Latitude of the second point in degrees.\n",
    "    - lon2 Breite2 (float): Longitude of the second point in degrees.\n",
    "\n",
    "    Returns:\n",
    "    - float: Distance between the two points in meters.\n",
    "\n",
    "    Note:\n",
    "    This function assumes the Earth is a perfect sphere with a radius of 6,371,000 meters.\n",
    "    \"\"\"\n",
    "\n",
    "    # Convert latitude and longitude from degrees to radians\n",
    "    lat1, lon1, lat2, lon2 = np.radians([lat1, lon1, lat2, lon2])\n",
    "\n",
    "    # Haversine formula\n",
    "    dlat = lat2 - lat1\n",
    "    dlon = lon2 - lon1\n",
    "    a = np.sin(dlat / 2.0) ** 2 + np.cos(lat1) * np.cos(lat2) * np.sin(dlon / 2.0) ** 2\n",
    "    c = 2 * np.arctan2(np.sqrt(a), np.sqrt(1 - a))\n",
    "\n",
    "    # Radius of Earth in kilometers\n",
    "    r = 6371.0\n",
    "    return r * c"
   ]
  },
  {
   "cell_type": "markdown",
   "id": "6d6b9526",
   "metadata": {},
   "source": [
    "#### Neighbors count"
   ]
  },
  {
   "cell_type": "code",
   "execution_count": 213,
   "id": "446b42bb",
   "metadata": {},
   "outputs": [],
   "source": [
    "def neighbors_count(year=None, max_count=True):\n",
    "    \"\"\"\n",
    "    This function return the max count of neighbors for each year, or if you select the year, the neighbors or max count\n",
    "\n",
    "    \"\"\"\n",
    "    neighbors = {}\n",
    "\n",
    "    if year:\n",
    "        try:\n",
    "            neighbor_by_year = (\n",
    "                pd.read_csv(f\"./data/distances_{year}.csv\")\n",
    "                .groupby(\"Qid1\")[\"Qid2\"]\n",
    "                .agg(list)\n",
    "                .apply(len)\n",
    "                .sort_values(ascending=True)\n",
    "            )\n",
    "            return neighbor_by_year.max() if max_count else neighbor_by_year\n",
    "        except:\n",
    "            print(f\"No data found for the year {year}\")\n",
    "\n",
    "    for i in range(2018, 2024):\n",
    "        if i not in (2020, 2021):\n",
    "            neighbors[i] = (\n",
    "                pd.read_csv(f\"./data/distances_{i}.csv\")\n",
    "                .groupby(\"Qid1\")[\"Qid2\"]\n",
    "                .agg(list)\n",
    "                .apply(len)\n",
    "                .max()\n",
    "            )\n",
    "    return neighbors"
   ]
  },
  {
   "cell_type": "code",
   "execution_count": 214,
   "id": "98170b28",
   "metadata": {},
   "outputs": [],
   "source": [
    "# neighbors_count(2023, max_count=False),neighbors_count()"
   ]
  },
  {
   "cell_type": "markdown",
   "id": "7adab36c",
   "metadata": {},
   "source": [
    "#### Binary decoding cities' names"
   ]
  },
  {
   "cell_type": "code",
   "execution_count": 215,
   "id": "74a7d9ab",
   "metadata": {},
   "outputs": [],
   "source": [
    "from tqdm import tqdm\n",
    "\n",
    "\n",
    "def binary_decode(encoded_data, label_mapping=None):\n",
    "    l = []\n",
    "    if label_mapping == None:\n",
    "        label_mapping = {\n",
    "            k: v\n",
    "            for v, k in enumerate(\n",
    "                pd.read_pickle(\"./data/df_gesamt_upd.pkl\")[\"Ort\"].unique()\n",
    "            )\n",
    "        }\n",
    "\n",
    "    for j in range(encoded_data.shape[0]):\n",
    "        binary_string = \"\".join(\n",
    "            str(int(encoded_data[f\"c_name{i}\"].iloc[j])) for i in range(1, 14)\n",
    "        )\n",
    "\n",
    "        # Convert binary string to integer\n",
    "        decoded_int = int(binary_string, 2)\n",
    "\n",
    "        # Reverse the label mapping to get the original city name\n",
    "        reverse_label_mapping = {v: k for k, v in label_mapping.items()}\n",
    "        decoded_city_name = reverse_label_mapping.get(decoded_int, \"Unknown\")\n",
    "        l.append(decoded_city_name)\n",
    "    encoded_data[\"Ort\"] = l\n",
    "\n",
    "\n",
    "# binary_decode(d,label_mapping)"
   ]
  },
  {
   "cell_type": "markdown",
   "id": "9a17cb34",
   "metadata": {},
   "source": [
    "#### Neighbors in 200 meters (top 10)"
   ]
  },
  {
   "cell_type": "code",
   "execution_count": 217,
   "id": "b41dd2ce",
   "metadata": {},
   "outputs": [],
   "source": [
    "def takeTopNeighbours(df, qid, top=10, shuffle=False):\n",
    "    current_data = df[df.Qid1 == qid]\n",
    "    sorted_data = current_data.sort_values(by=\"distance\")\n",
    "    self_pair = sorted_data[sorted_data.Qid2 == qid]\n",
    "\n",
    "    if not self_pair.empty:\n",
    "        sorted_data = sorted_data[sorted_data.Qid2 != qid].iloc[: top - 1]\n",
    "        if shuffle:\n",
    "            sorted_data = sorted_data.sample(n=sorted_data.shape[0], ignore_index=True)\n",
    "        sorted_data = pd.concat([self_pair, sorted_data], ignore_index=True)\n",
    "    elif self_pair.shape[0] == 1:\n",
    "        sorted_data = self_pair\n",
    "\n",
    "    return sorted_data.Qid2.values"
   ]
  },
  {
   "cell_type": "code",
   "execution_count": 218,
   "id": "2beac3b8",
   "metadata": {},
   "outputs": [
    {
     "data": {
      "text/plain": [
       "array([5004.])"
      ]
     },
     "execution_count": 218,
     "metadata": {},
     "output_type": "execute_result"
    }
   ],
   "source": [
    "takeTopNeighbours(distance_2019, 5004)"
   ]
  },
  {
   "cell_type": "markdown",
   "id": "ad35d3dd",
   "metadata": {},
   "source": [
    "#### Plots"
   ]
  },
  {
   "cell_type": "code",
   "execution_count": null,
   "id": "6d03a7c5",
   "metadata": {},
   "outputs": [],
   "source": [
    "# label_mapping = {k: v for v, k in enumerate(pd.read_pickle('./data/old_data/df_gesamt_upd.pkl')['Ort'].unique())}\n",
    "# binary_decode(df, label_mapping=label_mapping)"
   ]
  },
  {
   "cell_type": "code",
   "execution_count": null,
   "id": "02def717",
   "metadata": {},
   "outputs": [],
   "source": [
    "city = df.Ort == \"Essen\""
   ]
  },
  {
   "cell_type": "code",
   "execution_count": null,
   "id": "eb8f608b",
   "metadata": {},
   "outputs": [],
   "source": [
    "city.sum()"
   ]
  },
  {
   "cell_type": "code",
   "execution_count": null,
   "id": "ca6d6239",
   "metadata": {},
   "outputs": [],
   "source": [
    "add1 = df[city & (df.Qid == 16326)].iloc[0]\n",
    "add2 = df[city & (df.Qid == 29485.0)].iloc[0]\n",
    "add3 = df[city & (df.Qid == 9333.0)].iloc[0]\n",
    "add4 = df[city & (df.Qid == 24665.0)].iloc[0]\n",
    "add5 = df[city & (df.Qid == 9600.0)].iloc[0]\n",
    "add6 = df[city & (df.Qid == 761666.0)].iloc[0]\n",
    "add7 = df[city & (df.Qid == 9745.0)].iloc[0]"
   ]
  },
  {
   "cell_type": "code",
   "execution_count": null,
   "id": "027ffd01",
   "metadata": {},
   "outputs": [],
   "source": [
    "selected_qids = np.array([16326, 29485, 9333, 24665, 9600, 761666, 9745])"
   ]
  },
  {
   "cell_type": "code",
   "execution_count": null,
   "id": "5d66e16f",
   "metadata": {},
   "outputs": [],
   "source": [
    "region = (\n",
    "    df[\"PLZ\"]\n",
    "    .astype(str)\n",
    "    .apply(lambda x: \"0\" if x == \"nan\" else x)\n",
    "    .apply(lambda x: x[:3])\n",
    "    .astype(float)\n",
    "    .astype(int)\n",
    ")"
   ]
  },
  {
   "cell_type": "code",
   "execution_count": null,
   "id": "6fd78f55",
   "metadata": {},
   "outputs": [],
   "source": [
    "plt.figure(figsize=(10, 10))\n",
    "labels = [f\"Qid_{i}\" for i in selected_qids]\n",
    "adds = [add1, add2, add3, add4, add5, add6, add7]\n",
    "plt.scatter(\n",
    "    df[df.Ort == \"Essen\"][\"Laenge\"],\n",
    "    df[df.Ort == \"Essen\"][\"Breite\"],\n",
    "    c=\"gray\",\n",
    "    cmap=\"magma\",\n",
    ")\n",
    "colors = [\n",
    "    \"red\",\n",
    "    \"blue\",\n",
    "    \"darkgreen\",\n",
    "    \"darkorange\",\n",
    "    \"rebeccapurple\",\n",
    "    \"olivedrab\",\n",
    "    \"teal\",\n",
    "]\n",
    "for i, add in enumerate(adds):\n",
    "    plt.scatter(add[\"Laenge\"], add[\"Breite\"], c=colors[i], cmap=\"magma\")\n",
    "    plt.annotate(\n",
    "        labels[i],\n",
    "        (add[\"Laenge\"], add[\"Breite\"]),\n",
    "        textcoords=\"offset points\",\n",
    "        xytext=(0, 10),\n",
    "        ha=\"center\",\n",
    "        c=colors[i],\n",
    "        bbox=dict(facecolor=\"white\", edgecolor=\"none\", pad=0),\n",
    "    )\n",
    "plt.axis(\"equal\")\n",
    "plt.show()"
   ]
  },
  {
   "cell_type": "markdown",
   "id": "923b51b6",
   "metadata": {},
   "source": [
    "#### Selected qids\n"
   ]
  },
  {
   "cell_type": "code",
   "execution_count": null,
   "id": "224d9cf2",
   "metadata": {},
   "outputs": [],
   "source": [
    "qids = [9860, 9673, 9855, 9333]"
   ]
  },
  {
   "cell_type": "code",
   "execution_count": null,
   "id": "fa09a737",
   "metadata": {},
   "outputs": [],
   "source": [
    "qid_9860 = df[city & (df.Qid == 9860)].iloc[0]\n",
    "qid_9673 = df[city & (df.Qid == 9673)].iloc[0]\n",
    "qid_9855 = df[city & (df.Qid == 9855)].iloc[0]\n",
    "qid_9333 = df[city & (df.Qid == 9333)].iloc[0]"
   ]
  },
  {
   "cell_type": "code",
   "execution_count": null,
   "id": "1b486104",
   "metadata": {},
   "outputs": [],
   "source": [
    "# haversine_distance(*df[df.Qid.isin(qids)][['Breite', 'Laenge']].values.T,*df[df.Qid.isin(qids)][['Breite', 'Laenge']].values.T)"
   ]
  },
  {
   "cell_type": "code",
   "execution_count": null,
   "id": "1bd4383f",
   "metadata": {},
   "outputs": [],
   "source": [
    "city = df.Ort == \"Essen\""
   ]
  },
  {
   "cell_type": "code",
   "execution_count": 75,
   "id": "0d32568c",
   "metadata": {},
   "outputs": [
    {
     "ename": "NameError",
     "evalue": "name 'df' is not defined",
     "output_type": "error",
     "traceback": [
      "\u001b[0;31m---------------------------------------------------------------------------\u001b[0m",
      "\u001b[0;31mNameError\u001b[0m                                 Traceback (most recent call last)",
      "Cell \u001b[0;32mIn[75], line 5\u001b[0m\n\u001b[1;32m      2\u001b[0m labels \u001b[38;5;241m=\u001b[39m [\u001b[38;5;124mf\u001b[39m\u001b[38;5;124m\"\u001b[39m\u001b[38;5;124mQid=\u001b[39m\u001b[38;5;132;01m{\u001b[39;00mi\u001b[38;5;132;01m}\u001b[39;00m\u001b[38;5;124m\"\u001b[39m \u001b[38;5;28;01mfor\u001b[39;00m i \u001b[38;5;129;01min\u001b[39;00m qids]\n\u001b[1;32m      3\u001b[0m \u001b[38;5;66;03m# adds = [qid_9860, qid_9673, qid_9855, qid_9333]\u001b[39;00m\n\u001b[1;32m      4\u001b[0m plt\u001b[38;5;241m.\u001b[39mscatter(\n\u001b[0;32m----> 5\u001b[0m     \u001b[43mdf\u001b[49m[df\u001b[38;5;241m.\u001b[39mOrt \u001b[38;5;241m==\u001b[39m \u001b[38;5;124m\"\u001b[39m\u001b[38;5;124mEssen\u001b[39m\u001b[38;5;124m\"\u001b[39m][\u001b[38;5;124m\"\u001b[39m\u001b[38;5;124mLaenge\u001b[39m\u001b[38;5;124m\"\u001b[39m],\n\u001b[1;32m      6\u001b[0m     df[df\u001b[38;5;241m.\u001b[39mOrt \u001b[38;5;241m==\u001b[39m \u001b[38;5;124m\"\u001b[39m\u001b[38;5;124mEssen\u001b[39m\u001b[38;5;124m\"\u001b[39m][\u001b[38;5;124m\"\u001b[39m\u001b[38;5;124mBreite\u001b[39m\u001b[38;5;124m\"\u001b[39m],\n\u001b[1;32m      7\u001b[0m     c\u001b[38;5;241m=\u001b[39m\u001b[38;5;124m\"\u001b[39m\u001b[38;5;124mgray\u001b[39m\u001b[38;5;124m\"\u001b[39m,\n\u001b[1;32m      8\u001b[0m     cmap\u001b[38;5;241m=\u001b[39m\u001b[38;5;124m\"\u001b[39m\u001b[38;5;124mmagma\u001b[39m\u001b[38;5;124m\"\u001b[39m,\n\u001b[1;32m      9\u001b[0m )\n\u001b[1;32m     10\u001b[0m colors \u001b[38;5;241m=\u001b[39m [\n\u001b[1;32m     11\u001b[0m     \u001b[38;5;124m\"\u001b[39m\u001b[38;5;124mred\u001b[39m\u001b[38;5;124m\"\u001b[39m,\n\u001b[1;32m     12\u001b[0m     \u001b[38;5;124m\"\u001b[39m\u001b[38;5;124mblue\u001b[39m\u001b[38;5;124m\"\u001b[39m,\n\u001b[0;32m   (...)\u001b[0m\n\u001b[1;32m     17\u001b[0m     \u001b[38;5;124m\"\u001b[39m\u001b[38;5;124mteal\u001b[39m\u001b[38;5;124m\"\u001b[39m,\n\u001b[1;32m     18\u001b[0m ]\n\u001b[1;32m     19\u001b[0m add \u001b[38;5;241m=\u001b[39m test_data\n",
      "\u001b[0;31mNameError\u001b[0m: name 'df' is not defined"
     ]
    },
    {
     "data": {
      "text/plain": [
       "<Figure size 1000x1000 with 0 Axes>"
      ]
     },
     "metadata": {},
     "output_type": "display_data"
    }
   ],
   "source": [
    "plt.figure(figsize=(10, 10))\n",
    "labels = [f\"Qid={i}\" for i in qids]\n",
    "adds = [qid_9860, qid_9673, qid_9855, qid_9333]\n",
    "plt.scatter(\n",
    "    df[df.Ort == \"Essen\"][\"Laenge\"],\n",
    "    df[df.Ort == \"Essen\"][\"Breite\"],\n",
    "    c=\"gray\",\n",
    "    cmap=\"magma\",\n",
    ")\n",
    "colors = [\n",
    "    \"red\",\n",
    "    \"blue\",\n",
    "    \"darkorange\",\n",
    "    \"darkgreen\",\n",
    "    \"rebeccapurple\",\n",
    "    \"olivedrab\",\n",
    "    \"teal\",\n",
    "]\n",
    "\n",
    "for i, add in enumerate(adds):\n",
    "    plt.scatter(add[\"Laenge\"], add[\"Breite\"], c=colors[i], cmap=\"magma\")\n",
    "    plt.annotate(\n",
    "        labels[i],\n",
    "        (add[\"Laenge\"], add[\"Breite\"]),\n",
    "        textcoords=\"offset points\",\n",
    "        xytext=(0, 10),\n",
    "        ha=\"center\",\n",
    "        c=colors[i],\n",
    "        bbox=dict(facecolor=\"white\", edgecolor=\"none\", pad=0),\n",
    "    )\n",
    "\n",
    "plt.axis(\"equal\")\n",
    "plt.show()"
   ]
  },
  {
   "cell_type": "code",
   "execution_count": null,
   "id": "954fe599",
   "metadata": {},
   "outputs": [],
   "source": [
    "loader = CustomDataLoader()"
   ]
  },
  {
   "cell_type": "code",
   "execution_count": null,
   "id": "d2066183",
   "metadata": {},
   "outputs": [],
   "source": [
    "X_train, X_val, y_train, y_val = loader.loader()"
   ]
  },
  {
   "cell_type": "code",
   "execution_count": null,
   "id": "ceee0887",
   "metadata": {},
   "outputs": [],
   "source": [
    "X_train.shape, X_val.shape"
   ]
  },
  {
   "cell_type": "code",
   "execution_count": null,
   "id": "f1ee1a2e",
   "metadata": {},
   "outputs": [],
   "source": [
    "torch.save(X_train, \"data/selected_qids.pt\")"
   ]
  },
  {
   "cell_type": "markdown",
   "id": "d6f77211",
   "metadata": {},
   "source": [
    "#### Price distribution "
   ]
  },
  {
   "cell_type": "code",
   "execution_count": null,
   "id": "3a9e89f8",
   "metadata": {},
   "outputs": [],
   "source": [
    "years = [2018, 2019, 2022, 2023]\n",
    "colors = [\"blue\", \"yellow\", \"red\", \"green\"]\n",
    "labels = [str(year) for year in years]\n",
    "\n",
    "plt.figure(figsize=(8, 6))\n",
    "\n",
    "for year, color, label in zip(years, colors, labels):\n",
    "    prices = df[df.GJ == year][\"Preis\"]\n",
    "    plt.hist(prices, bins=20, density=True, alpha=0.7, color=color, label=label)\n",
    "\n",
    "plt.xlabel(\"Value\")\n",
    "plt.ylabel(\"Density\")\n",
    "plt.title(\"Distribution of Price\")\n",
    "plt.legend()\n",
    "plt.show()"
   ]
  },
  {
   "cell_type": "markdown",
   "id": "e017b2e1",
   "metadata": {},
   "source": [
    "#### Augmentation"
   ]
  },
  {
   "cell_type": "code",
   "execution_count": null,
   "id": "573742f7",
   "metadata": {},
   "outputs": [],
   "source": [
    "df = pd.read_pickle(\"data/df_gesamt_prepocessed_reordered.pkl\")"
   ]
  },
  {
   "cell_type": "code",
   "execution_count": null,
   "id": "af79d3dd",
   "metadata": {},
   "outputs": [],
   "source": [
    "def augmentation(data, size=0.1, k_factor=2):\n",
    "    size = int(data.shape[0] * size / 4)\n",
    "    decades = [f\"T{i}\" for i in range(1, 35)]\n",
    "\n",
    "    data_2018 = (\n",
    "        data[data.GJ == 2018]\n",
    "        .copy()\n",
    "        .sample(n=size, random_state=42)\n",
    "        .sort_values(by=\"Qid\")\n",
    "    )\n",
    "    data_2019 = (\n",
    "        data[data.GJ == 2019]\n",
    "        .copy()\n",
    "        .sample(n=size, random_state=42)\n",
    "        .sort_values(by=\"Qid\")\n",
    "    )\n",
    "    data_2022 = (\n",
    "        data[data.GJ == 2022]\n",
    "        .copy()\n",
    "        .sample(n=size, random_state=42)\n",
    "        .sort_values(by=\"Qid\")\n",
    "    )\n",
    "    data_2023 = (\n",
    "        data[data.GJ == 2023]\n",
    "        .copy()\n",
    "        .sample(n=size, random_state=42)\n",
    "        .sort_values(by=\"Qid\")\n",
    "    )\n",
    "\n",
    "    years = [data_2018, data_2019, data_2022, data_2023]\n",
    "\n",
    "    for year in years:\n",
    "        year[\"Preis\"] = (\n",
    "            data[data.Qid.isin(year.Qid)].groupby(\"Qid\")[\"Preis\"].apply(max).values\n",
    "        )\n",
    "        year[\"Qid\"] += 0.1\n",
    "        year[decades] = 0\n",
    "\n",
    "    augmented_data = pd.concat(\n",
    "        [data, data_2018, data_2019, data_2022, data_2023], ignore_index=True\n",
    "    )\n",
    "    return augmented_data"
   ]
  },
  {
   "cell_type": "code",
   "execution_count": null,
   "id": "699c2fd9",
   "metadata": {},
   "outputs": [],
   "source": [
    "augm = augmentation(df)"
   ]
  },
  {
   "cell_type": "code",
   "execution_count": 35,
   "id": "c58ba4a4",
   "metadata": {},
   "outputs": [
    {
     "data": {
      "text/plain": [
       "torch.Size([1, 10, 78])"
      ]
     },
     "execution_count": 35,
     "metadata": {},
     "output_type": "execute_result"
    }
   ],
   "source": [
    "tensor = torch.zeros(0, 10, 78) \n",
    "tensor1 = torch.rand(10, 78)\n",
    "tensor = torch.cat([tensor, tensor1[None]], dim=0)\n",
    "tensor.shape"
   ]
  },
  {
   "cell_type": "markdown",
   "id": "3d9253e0",
   "metadata": {},
   "source": [
    "#### New data architecture"
   ]
  },
  {
   "cell_type": "code",
   "execution_count": null,
   "id": "84e8af79",
   "metadata": {},
   "outputs": [],
   "source": [
    "data = pd.read_pickle(\"data/df_gesamt_10_08_prepocessed.pkl\")"
   ]
  },
  {
   "cell_type": "code",
   "execution_count": null,
   "id": "e930ef3a",
   "metadata": {},
   "outputs": [],
   "source": [
    "class CustomDataLoader2:\n",
    "    def __init__(\n",
    "        self, data_path=\"./data/df_gesamt_10_08_prepocessed.pkl\", test_size=0.05\n",
    "    ):\n",
    "        self.data = pd.read_pickle(data_path).reset_index(drop=True)\n",
    "\n",
    "        # Normalize the columns\n",
    "        self.data.Laenge = self.min_max_norm(self.data.Laenge, -180, +180)\n",
    "        self.data.Breite = self.min_max_norm(self.data.Breite, -90, +90)\n",
    "        self.data.PPSVACWert = self.gaussian_norm(self.data.PPSVACWert)\n",
    "\n",
    "        # Train / Val split\n",
    "        self.Qid_train, self.Qid_val = train_test_split(\n",
    "            self.data[\"Qid\"].unique(), test_size=test_size, random_state=23\n",
    "        )\n",
    "\n",
    "        # Load distances\n",
    "        self.distances_2018 = pd.read_csv(\"data/distances/distances_2018.csv\")\n",
    "        self.distances_2019 = pd.read_csv(\"data/distances/distances_2019.csv\")\n",
    "        self.distances_2020 = pd.read_csv(\"data/distances/distances_2020.csv\")\n",
    "        self.distances_2021 = pd.read_csv(\"data/distances/distances_2021.csv\")\n",
    "        self.distances_2022 = pd.read_csv(\"data/distances/distances_2022.csv\")\n",
    "        self.distances_2023 = pd.read_csv(\"data/distances/distances_2023.csv\")\n",
    "\n",
    "        self.decades = pd.read_csv(\"./data/decades.csv\")\n",
    "\n",
    "        self.data_2023 = self.data[self.data.GJ == 2023].copy()\n",
    "\n",
    "        # define constants\n",
    "        self.CHUNK_SIZE = 20_000\n",
    "        self.MAX_NEIGHBOURS_SIZE = 10\n",
    "        self.DECADE_WINDOWS_SIZE = 3\n",
    "        self.NUM_DECADES = 34 * (self.data.GJ.unique().shape[0] - 1)\n",
    "        self.DECADE_COLUMN_SLICES = [\n",
    "            [f\"T{i}\" for i in range(k, k + self.DECADE_WINDOWS_SIZE)]\n",
    "            for k in range(1, self.NUM_DECADES - self.DECADE_WINDOWS_SIZE + 2)\n",
    "        ]\n",
    "        self.CONST_COLUMNS = [\n",
    "            \"Stellensubart_0\",\n",
    "            \"Stellensubart_1\",\n",
    "            \"Stellensubart_2\",\n",
    "            \"Stellensubart_3\",\n",
    "            \"Stellensubart_4\",\n",
    "            \"Stellensubart_5\",\n",
    "            \"Stellensubart_6\",\n",
    "            \"Stellensubart_7\",\n",
    "            \"Stellensubart_8\",\n",
    "            \"Stellensubart_9\",\n",
    "            \"Stellensubart_10\",\n",
    "            \"Stellensubart_11\",\n",
    "            \"Stellensubart_12\",\n",
    "            \"Stellensubart_13\",\n",
    "            \"Stellensubart_14\",\n",
    "            \"Preis\",\n",
    "            \"Beleuchtet\",\n",
    "            \"Laenge\",\n",
    "            \"Breite\",\n",
    "            \"Eigenfläche\",\n",
    "            \"PPSVACWert\",\n",
    "        ]\n",
    "\n",
    "    def min_max_norm(self, x, min_, max_):\n",
    "        x_norm = (x - min_) / (max_ - min_)\n",
    "        return x_norm\n",
    "\n",
    "    def gaussian_norm(self, x):\n",
    "        x_norm = (x - x.mean()) / x.std()\n",
    "\n",
    "        return x_norm\n",
    "\n",
    "    def load_and_save(self):\n",
    "        train_chunks = torch.split(torch.tensor(self.Qid_train), self.CHUNK_SIZE)\n",
    "\n",
    "        for i, chunk in enumerate(tqdm(train_chunks, position=0, leave=True)):\n",
    "            X, y = self.load(chunk.numpy())\n",
    "\n",
    "            torch.save(X, f\"./data/saved_train_val_data/X_train_{i}.pt\")\n",
    "            torch.save(y, f\"./data/saved_train_val_data/y_train_{i}.pt\")\n",
    "\n",
    "            del X, y\n",
    "\n",
    "        X, y = self.load(self.Qid_val)\n",
    "        #         torch.save(X, f\"./data/saved_train_val_data/X_val.pt\")\n",
    "        #         torch.save(y, f\"./data/saved_train_val_data/y_val.pt\")\n",
    "\n",
    "        del X, y\n",
    "\n",
    "    def load(self, qid_chunks):\n",
    "        X, y = [], []\n",
    "\n",
    "        for qid in tqdm(qid_chunks, position=0, leave=True):\n",
    "            qid2_2018 = self.takeTopNeighbours(self.distances_2018, qid)\n",
    "            qid2_2019 = self.takeTopNeighbours(self.distances_2019, qid)\n",
    "            qid2_2020 = self.takeTopNeighbours(self.distances_2020, qid)\n",
    "            qid2_2021 = self.takeTopNeighbours(self.distances_2021, qid)\n",
    "            qid2_2022 = self.takeTopNeighbours(self.distances_2022, qid)\n",
    "            print(qid, qid2_2018, qid2_2019, qid2_2020, qid2_2021, qid2_2022)\n",
    "            qid_complete_T = pd.concat(\n",
    "                [\n",
    "                    self.decades[self.decades.Qid.isin(qid2_2018)]\n",
    "                    .loc[:, \"T1\":\"T34\"]\n",
    "                    .reset_index(drop=True),\n",
    "                    self.decades[self.decades.Qid.isin(qid2_2019)]\n",
    "                    .loc[:, \"T35\":\"T68\"]\n",
    "                    .reset_index(drop=True),\n",
    "                    self.decades[self.decades.Qid.isin(qid2_2020)]\n",
    "                    .loc[:, \"T69\":\"T102\"]\n",
    "                    .reset_index(drop=True),\n",
    "                    self.decades[self.decades.Qid.isin(qid2_2021)]\n",
    "                    .loc[:, \"T103\":\"T136\"]\n",
    "                    .reset_index(drop=True),\n",
    "                    self.decades[self.decades.Qid.isin(qid2_2022)]\n",
    "                    .loc[:, \"T137\":\"T170\"]\n",
    "                    .reset_index(drop=True),\n",
    "                ],\n",
    "                axis=1,\n",
    "                ignore_index=True,\n",
    "            ).fillna(-1)\n",
    "\n",
    "            qid_complete_T.columns = [f\"T{i}\" for i in range(1, self.NUM_DECADES + 1)]\n",
    "            print(qid_complete_T.shape)\n",
    "            currData = self.takeByQid(\n",
    "                qid,\n",
    "                qid_complete_T,\n",
    "                qid2_2018,\n",
    "                qid2_2019,\n",
    "                qid2_2020,\n",
    "                qid2_2021,\n",
    "                qid2_2022,\n",
    "            )\n",
    "            print(currData.shape)\n",
    "            X.append(currData)\n",
    "            y.append(self.takeTarget(qid))\n",
    "\n",
    "        return torch.stack(X, dim=0), torch.stack(y, dim=0)\n",
    "\n",
    "    def pad_to_size(self, tensor):\n",
    "        # Check if the tensor is 2D\n",
    "        if len(tensor.shape) != 2:\n",
    "            raise ValueError(\"Input tensor should be 2D\")\n",
    "\n",
    "        current_x, current_y = tensor.shape\n",
    "        pad_left = 0\n",
    "        pad_right = 0\n",
    "        pad_top = 0\n",
    "        pad_bottom = max(0, self.MAX_NEIGHBOURS_SIZE - current_x)\n",
    "\n",
    "        return torch.nn.functional.pad(\n",
    "            tensor, (pad_left, pad_right, pad_top, pad_bottom), \"constant\", -1\n",
    "        )\n",
    "\n",
    "    def takeTarget(self, qid):\n",
    "        targetRows = self.data_2023[self.data_2023.Qid == qid].copy()\n",
    "\n",
    "        if targetRows.shape[0]:\n",
    "            T = targetRows.loc[:, \"T1\":\"T22\"].copy()\n",
    "            T[T == -1] = 0  # TODO: check later\n",
    "            meanOf_T = T.mean().mean()\n",
    "            return torch.tensor([meanOf_T])\n",
    "\n",
    "        return torch.tensor([0.0])\n",
    "\n",
    "    def takeConstPart(self, qids, year):\n",
    "        # TODO: check the case when there is no `year` data for that Qid\n",
    "\n",
    "        data_part = self.data[self.data[\"GJ\"] == year]\n",
    "        one_year_data = data_part[data_part.Qid.isin(qids)]\n",
    "\n",
    "        if one_year_data.shape[0]:\n",
    "            one_year_data = one_year_data.loc[:, self.CONST_COLUMNS].copy()\n",
    "            one_year_data = torch.tensor(one_year_data.astype(float).values)\n",
    "\n",
    "            # TODO: add pad_to_size\n",
    "            return self.pad_to_size(one_year_data)\n",
    "        else:\n",
    "            return -torch.ones(self.MAX_NEIGHBOURS_SIZE, len(self.CONST_COLUMNS))\n",
    "\n",
    "    def get2023data(self, qid):\n",
    "        # TODO: check the case when there is no 2023 data for that Qid\n",
    "\n",
    "        data_part_2023 = self.data_2023[self.data_2023.Qid == qid]\n",
    "\n",
    "        if data_part_2023.shape[0]:\n",
    "            data_part_2023 = data_part_2023.loc[:, self.CONST_COLUMNS].copy()\n",
    "            data_part_2023[\"PPSVACWert\"] = -1  # TODO: check later.\n",
    "            data_part_2023 = torch.tensor(data_part_2023.astype(float).values)\n",
    "            data_part_2023 = data_part_2023.repeat(10, 1)\n",
    "            return data_part_2023\n",
    "\n",
    "        else:\n",
    "            return -torch.ones(self.MAX_NEIGHBOURS_SIZE, len(self.CONST_COLUMNS))\n",
    "\n",
    "    def get_year(self, index):\n",
    "        if index <= 34:\n",
    "            return 2018\n",
    "        elif index <= 68:\n",
    "            return 2019\n",
    "        elif index <= 102:\n",
    "            return 2020\n",
    "        elif index <= 136:\n",
    "            return 2021\n",
    "        else:\n",
    "            return 2022\n",
    "\n",
    "    def takeByQid(\n",
    "        self, qid, decades, qid2_2018, qid2_2019, qid2_2020, qid2_2021, qid2_2022\n",
    "    ):\n",
    "        data_part_2018 = self.takeConstPart(qid2_2018, 2018)\n",
    "        data_part_2019 = self.takeConstPart(qid2_2019, 2019)\n",
    "        data_part_2020 = self.takeConstPart(qid2_2020, 2020)\n",
    "        data_part_2021 = self.takeConstPart(qid2_2021, 2021)\n",
    "        data_part_2022 = self.takeConstPart(qid2_2022, 2022)\n",
    "        data_part_2023 = self.get2023data(qid)\n",
    "\n",
    "        choice = {\n",
    "            2018: data_part_2018,\n",
    "            2019: data_part_2019,\n",
    "            2020: data_part_2020,\n",
    "            2021: data_part_2021,\n",
    "            2022: data_part_2022,\n",
    "        }\n",
    "\n",
    "        return_value = []\n",
    "\n",
    "        for decade_columns in self.DECADE_COLUMN_SLICES:\n",
    "            decade_slice = decades.loc[:, decade_columns].copy()\n",
    "            decade_slice = torch.tensor(decade_slice.astype(float).values)\n",
    "\n",
    "            # TODO: check the case when there is no 10 neighbours\n",
    "\n",
    "            if decade_slice.shape[0] != self.MAX_NEIGHBOURS_SIZE:\n",
    "                decade_slice = self.pad_to_size(decade_slice)\n",
    "\n",
    "            current_sequence = [decade_slice]\n",
    "\n",
    "            for column in decade_columns:\n",
    "                index = int(column[1:])\n",
    "                year = self.get_year(index)\n",
    "                current_sequence.extend([choice[year], data_part_2023])\n",
    "\n",
    "            current_sequence = torch.cat(current_sequence, dim=-1)\n",
    "\n",
    "            return_value.append(current_sequence)\n",
    "\n",
    "        return torch.stack(return_value, dim=0)\n",
    "\n",
    "    def takeTopNeighbours(self, df, qid, top=10):\n",
    "        current_data = df[df.Qid1 == qid]\n",
    "        sorted_data = current_data.sort_values(by=\"distance\")\n",
    "        self_pair = sorted_data[sorted_data.Qid2 == qid]\n",
    "\n",
    "        if not self_pair.empty and self_pair.shape[1] > 1:\n",
    "            sorted_data = sorted_data[sorted_data.Qid2 != qid]\n",
    "            sorted_data = pd.concat([self_pair, sorted_data], ignore_index=True)\n",
    "\n",
    "        elif self_pair.shape[0] == 1:\n",
    "            sorted_data = self_pair\n",
    "\n",
    "        return sorted_data.iloc[:top].Qid2.values"
   ]
  },
  {
   "cell_type": "code",
   "execution_count": null,
   "id": "2792007a",
   "metadata": {},
   "outputs": [],
   "source": [
    "loader = CustomDataLoader2()"
   ]
  },
  {
   "cell_type": "code",
   "execution_count": null,
   "id": "25b1dbee",
   "metadata": {},
   "outputs": [],
   "source": [
    "loader.load_and_save()"
   ]
  },
  {
   "cell_type": "code",
   "execution_count": null,
   "id": "748fd297",
   "metadata": {},
   "outputs": [],
   "source": [
    "takeTopNeighbours(pd.read_csv(\"data/distances/distances_2023.csv\"), 899114.0)"
   ]
  },
  {
   "cell_type": "markdown",
   "id": "5b08cb9d",
   "metadata": {},
   "source": [
    "#### Data architecture with shuffled neighbors"
   ]
  },
  {
   "cell_type": "code",
   "execution_count": null,
   "id": "4b30de1a",
   "metadata": {},
   "outputs": [],
   "source": [
    "class CustomDataLoader:\n",
    "    def __init__(self, test_size=0.05):\n",
    "        \"\"\"\n",
    "        The Dataloader returns a tensor with a shape of [N, yearsCount, MAX_NEIGHBOURS_SIZE, FEATURES_COUNT],\n",
    "        with shuffled neighbors.\n",
    "\n",
    "        \"\"\"\n",
    "        self.MAX_NEIGHBOURS_SIZE = 10\n",
    "        self.fillingValueForPadding = -1\n",
    "        self.yearsCount = 6\n",
    "        self.listOfT = [f\"T{i+1}\" for i in range(34)]\n",
    "        self.CONST_COLUMNS = [\n",
    "            \"Stellensubart_1\",\n",
    "            \"Stellensubart_2\",\n",
    "            \"Stellensubart_3\",\n",
    "            \"Stellensubart_4\",\n",
    "            \"T1\",\n",
    "            \"T2\",\n",
    "            \"T3\",\n",
    "            \"T4\",\n",
    "            \"T5\",\n",
    "            \"T6\",\n",
    "            \"T7\",\n",
    "            \"T8\",\n",
    "            \"T9\",\n",
    "            \"T10\",\n",
    "            \"T11\",\n",
    "            \"T12\",\n",
    "            \"T13\",\n",
    "            \"T14\",\n",
    "            \"T15\",\n",
    "            \"T16\",\n",
    "            \"T17\",\n",
    "            \"T18\",\n",
    "            \"T19\",\n",
    "            \"T20\",\n",
    "            \"T21\",\n",
    "            \"T22\",\n",
    "            \"T23\",\n",
    "            \"T24\",\n",
    "            \"T25\",\n",
    "            \"T26\",\n",
    "            \"T27\",\n",
    "            \"T28\",\n",
    "            \"T29\",\n",
    "            \"T30\",\n",
    "            \"T31\",\n",
    "            \"T32\",\n",
    "            \"T33\",\n",
    "            \"T34\",\n",
    "            #'Einwohner',\n",
    "            \"Preis\",\n",
    "            \"Beleuchtet\",\n",
    "            \"Laenge\",\n",
    "            \"Breite\",\n",
    "            \"Eigenfläche\",\n",
    "            \"PPSVACWert\",\n",
    "        ]\n",
    "\n",
    "        self.data = pd.read_pickle(\n",
    "            \"data/df_gesamt_15_08_prepocessed_einworner_added.pkl\"\n",
    "        )\n",
    "        self.data.reset_index(drop=True, inplace=True)\n",
    "        self.data.drop(columns=[\"PLZ\", \"Ort\"], inplace=True)\n",
    "        self.drop_less_years(self.data)\n",
    "        self.Qid_train, self.Qid_val = train_test_split(\n",
    "            self.data[\"Qid\"].unique(), test_size=test_size, random_state=23\n",
    "        )\n",
    "        #         self.Qid_train=self.Qid_train[:4]\n",
    "        #         self.Qid_val=self.Qid_val[:2]\n",
    "        self.data.Laenge = self.normalize_longitude(self.data.Laenge.values)\n",
    "        self.data.Breite = self.normalize_latitude(self.data.Breite.values)\n",
    "        # normalizing columns without last year data\n",
    "        self.normalize_data(self.data, \"PPSVACWert\")\n",
    "        #         self.normalize_min_max(self.data, \"Einwohner\")\n",
    "\n",
    "        # splitting data to years\n",
    "        self.data_2018 = self.data[self.data[\"GJ\"] == 2018].copy()\n",
    "        self.data_2019 = self.data[self.data[\"GJ\"] == 2019].copy()\n",
    "        self.data_2020 = self.data[self.data[\"GJ\"] == 2020].copy()\n",
    "        self.data_2021 = self.data[self.data[\"GJ\"] == 2021].copy()\n",
    "        self.data_2022 = self.data[self.data[\"GJ\"] == 2022].copy()\n",
    "        self.data_2023 = self.data[self.data[\"GJ\"] == 2023].copy()\n",
    "\n",
    "        # dropping unnecessary columns\n",
    "        self.data.drop(columns=[\"GJ\"], inplace=True)\n",
    "        self.data_2018.drop(columns=[\"GJ\"], inplace=True)\n",
    "        self.data_2019.drop(columns=[\"GJ\"], inplace=True)\n",
    "        self.data_2020.drop(columns=[\"GJ\"], inplace=True)\n",
    "        self.data_2021.drop(columns=[\"GJ\"], inplace=True)\n",
    "        self.data_2022.drop(columns=[\"GJ\"], inplace=True)\n",
    "        self.data_2023.drop(columns=[\"GJ\"], inplace=True)\n",
    "\n",
    "        self.distances_2018 = pd.read_csv(\"data/distances/distances_2018.csv\")\n",
    "        self.distances_2019 = pd.read_csv(\"data/distances/distances_2019.csv\")\n",
    "        self.distances_2020 = pd.read_csv(\"data/distances/distances_2020.csv\")\n",
    "        self.distances_2021 = pd.read_csv(\"data/distances/distances_2021.csv\")\n",
    "        self.distances_2022 = pd.read_csv(\"data/distances/distances_2022.csv\")\n",
    "        self.distances_2023 = pd.read_csv(\"data/distances/distances_2023.csv\")\n",
    "\n",
    "    def normalize_longitude(self, longitude):\n",
    "        min_lon = -180.0\n",
    "        max_lon = 180.0\n",
    "        normalized_lon = (longitude - min_lon) / (max_lon - min_lon)\n",
    "        return normalized_lon\n",
    "\n",
    "    def normalize_latitude(self, latitude):\n",
    "        min_lat = -90.0\n",
    "        max_lat = 90.0\n",
    "        normalized_lat = (latitude - min_lat) / (max_lat - min_lat)\n",
    "        return normalized_lat\n",
    "\n",
    "    def normalize_data(self, data, col):\n",
    "        def mean_std_norm(x):\n",
    "            return (x - x.mean()) / x.std()\n",
    "\n",
    "        index = data.index\n",
    "        data.loc[index, col] = mean_std_norm(data.loc[index, col])\n",
    "\n",
    "    def normalize_min_max(self, data, col):\n",
    "        def min_max(x):\n",
    "            return (x - x.min()) / (x.max() - x.min())\n",
    "\n",
    "        index = data.index\n",
    "        data.loc[index, col] = min_max(data.loc[index, col])\n",
    "\n",
    "    def loader(self):\n",
    "        train_dataReturn_X, val_dataReturn_X = [], []\n",
    "        train_dataReturn_Y, val_dataReturn_Y = [], []\n",
    "\n",
    "        # Define a function to process a single Qid\n",
    "        def process_qid(qid):\n",
    "            qid2_2018 = self.takeTopNeighbours(self.distances_2018, qid)\n",
    "            qid2_2019 = self.takeTopNeighbours(self.distances_2019, qid)\n",
    "            qid2_2020 = self.takeTopNeighbours(self.distances_2020, qid)\n",
    "            qid2_2021 = self.takeTopNeighbours(self.distances_2021, qid)\n",
    "            qid2_2022 = self.takeTopNeighbours(self.distances_2022, qid)\n",
    "\n",
    "            curr_2018_X = self.takeByQid(self.data_2018, self.distances_2018, qid2_2018)\n",
    "            curr_2019_X = self.takeByQid(self.data_2019, self.distances_2019, qid2_2019)\n",
    "            curr_2020_X = self.takeByQid(self.data_2020, self.distances_2020, qid2_2020)\n",
    "            curr_2021_X = self.takeByQid(self.data_2021, self.distances_2021, qid2_2021)\n",
    "            curr_2022_X = self.takeByQid(self.data_2022, self.distances_2022, qid2_2022)\n",
    "            curr_2023_X = self.takeByQidLastYear(self.data_2023, qid)\n",
    "            currData_X = torch.cat(\n",
    "                [\n",
    "                    curr_2018_X,\n",
    "                    curr_2019_X,\n",
    "                    curr_2020_X,\n",
    "                    curr_2021_X,\n",
    "                    curr_2022_X,\n",
    "                    curr_2023_X,\n",
    "                ],\n",
    "                axis=0,\n",
    "            )\n",
    "            currData_Y = self.takeTargetByQid(self.data_2023, qid)\n",
    "\n",
    "            return currData_X, currData_Y\n",
    "\n",
    "        for qid in tqdm(self.Qid_train):\n",
    "            currData_X, currData_Y = process_qid(qid)\n",
    "            train_dataReturn_X.append(currData_X)\n",
    "            train_dataReturn_Y.append(currData_Y)\n",
    "\n",
    "        for qid in tqdm(self.Qid_val):\n",
    "            currData_X, currData_Y = process_qid(qid)\n",
    "            val_dataReturn_X.append(currData_X)\n",
    "            val_dataReturn_Y.append(currData_Y)\n",
    "\n",
    "        X_train = torch.squeeze(torch.stack(train_dataReturn_X))\n",
    "        y_train = torch.stack(train_dataReturn_Y)\n",
    "\n",
    "        X_val = torch.squeeze(torch.stack(val_dataReturn_X))\n",
    "        y_val = torch.stack(val_dataReturn_Y)\n",
    "\n",
    "        return X_train, X_val, y_train, y_val\n",
    "\n",
    "    def takeByQid(self, dataPart, dist, qids):\n",
    "        currData_X = dataPart[dataPart.Qid.isin(qids)].copy()\n",
    "        drop_columns = [\"Qid\"]\n",
    "        currdata_X = currData_X.loc[:, self.CONST_COLUMNS]\n",
    "        return self.pad_to_size(torch.tensor(currdata_X.values.astype(float))).permute(\n",
    "            2, 0, 1\n",
    "        )\n",
    "\n",
    "    def takeByQidLastYear(self, dataPart, qid):\n",
    "        currData = dataPart[dataPart.Qid == qid].copy()\n",
    "        if currData.shape[0]:\n",
    "            currData.drop(columns=[\"Qid\"], inplace=True)\n",
    "            currData = currData.loc[:, self.CONST_COLUMNS]\n",
    "            currData[\"PPSVACWert\"] = -1\n",
    "            currData[self.listOfT] = -1\n",
    "            return self.pad_to_size(\n",
    "                torch.tensor(currData.astype(float).values)\n",
    "            ).permute(2, 0, 1)\n",
    "\n",
    "    def takeTargetByQid(self, dataPart, qid):\n",
    "        targetRows = dataPart[dataPart.Qid == qid].copy()\n",
    "        if targetRows.shape[0]:\n",
    "            T = targetRows.loc[:, \"T1\":\"T22\"].copy()\n",
    "            T[T == -1] = 0\n",
    "            meanOf_T = T.mean().mean()\n",
    "            return torch.tensor([meanOf_T])\n",
    "\n",
    "    def takeTopNeighbours(self, df, qid, top=10):\n",
    "        current_data = df[df.Qid1 == qid]\n",
    "        sorted_data = current_data.sort_values(by=\"distance\")\n",
    "        self_pair = sorted_data[sorted_data.Qid2 == qid]\n",
    "\n",
    "        if not self_pair.empty:\n",
    "            sorted_data = sorted_data[sorted_data.Qid2 != qid].iloc[: top - 1]\n",
    "            sorted_data = sorted_data.sample(n=sorted_data.shape[0], ignore_index=True)\n",
    "            sorted_data = pd.concat([self_pair, sorted_data], ignore_index=True)\n",
    "        elif self_pair.shape[0] == 1:\n",
    "            sorted_data = self_pair\n",
    "\n",
    "        return sorted_data.Qid2.values\n",
    "\n",
    "    def pad_to_size(self, tensor):\n",
    "        # Check if the tensor is 2D\n",
    "        if len(tensor.shape) != 2:\n",
    "            raise ValueError(\"Input tensor should be 2D\")\n",
    "\n",
    "        current_x, current_y = tensor.shape\n",
    "        pad_left = 0\n",
    "        pad_right = 0\n",
    "        pad_top = 0\n",
    "        pad_bottom = max(0, self.MAX_NEIGHBOURS_SIZE - current_x)\n",
    "\n",
    "        return torch.nn.functional.pad(\n",
    "            tensor,\n",
    "            (pad_left, pad_right, pad_top, pad_bottom),\n",
    "            \"constant\",\n",
    "            self.fillingValueForPadding,\n",
    "        )[..., None]\n",
    "\n",
    "    def drop_less_years(self, data):\n",
    "        mask = (\n",
    "            data.groupby([\"Qid\"])[[\"GJ\"]].transform(\"count\") < self.yearsCount\n",
    "        ).values\n",
    "        data.drop(index=data[mask].index, inplace=True)"
   ]
  },
  {
   "cell_type": "code",
   "execution_count": null,
   "id": "cfe1de11",
   "metadata": {},
   "outputs": [],
   "source": [
    "loader = CustomDataLoader()"
   ]
  },
  {
   "cell_type": "code",
   "execution_count": null,
   "id": "a8dfc13c",
   "metadata": {},
   "outputs": [],
   "source": [
    "class CustomDataset(torch.utils.data.Dataset):\n",
    "    def __init__(self, path_x, path_y, p=0.1):\n",
    "        self.data_x = torch.load(path_x)\n",
    "        self.data_y = torch.load(path_y)\n",
    "        self.p = p\n",
    "\n",
    "    def __getitem__(self, index):\n",
    "        tmp = self.data_x[index].clone()\n",
    "\n",
    "        if torch.rand(1) < self.p:\n",
    "            return self._transform(tmp, self.data_y[index].clone())\n",
    "        else:\n",
    "            return tmp, self.data_y[index]\n",
    "\n",
    "    def _transform(self, data_x, data_y, k_factor=2):\n",
    "        maxPrice = max(data_x[[0, 31, 61, -1], 0, 0])\n",
    "\n",
    "        data_x[-1, 0, 0] = k_factor * maxPrice\n",
    "        data_y *= 0\n",
    "\n",
    "        return data_x, data_y\n",
    "\n",
    "    def __len__(self):\n",
    "        return len(self.data_x)\n",
    "\n",
    "\n",
    "class LSTMModel(nn.Module):\n",
    "    def __init__(self, input_size, hidden_size, num_layers, output_size):\n",
    "        super(LSTMModel, self).__init__()\n",
    "        self.hidden_size = hidden_size\n",
    "        self.num_layers = num_layers\n",
    "        self.lstm = nn.LSTM(input_size, hidden_size, num_layers, batch_first=True)\n",
    "        self.fc = nn.Linear(hidden_size, output_size)\n",
    "\n",
    "    def forward(self, X):\n",
    "        X = X.reshape(*X.shape[:2], -1)\n",
    "        out, _ = self.lstm(X)\n",
    "        out = self.fc(out[:, -1])\n",
    "        pos_out = torch.sigmoid(out)\n",
    "\n",
    "        return pos_out"
   ]
  },
  {
   "cell_type": "code",
   "execution_count": null,
   "id": "3d0de97e",
   "metadata": {},
   "outputs": [],
   "source": [
    "X_train, X_val, y_train, y_val = loader.loader()"
   ]
  },
  {
   "cell_type": "code",
   "execution_count": null,
   "id": "4807ace1",
   "metadata": {},
   "outputs": [],
   "source": [
    "X_train.shape, X_val.shape, y_train.shape, y_val.shape"
   ]
  },
  {
   "cell_type": "code",
   "execution_count": null,
   "id": "320f4341",
   "metadata": {},
   "outputs": [],
   "source": [
    "class CustomDataset(torch.utils.data.Dataset):\n",
    "    def __init__(self, path_x, path_y, p=0.1):\n",
    "        #         self.data_x = torch.load(path_x)\n",
    "        #         self.data_y = torch.load(path_y)\n",
    "        self.data_x = path_x\n",
    "        self.data_y = path_y\n",
    "        self.p = p\n",
    "\n",
    "    def __getitem__(self, index):\n",
    "        tmp = self.data_x[index].clone()\n",
    "\n",
    "        if torch.rand(1) < self.p:\n",
    "            return self._transform(tmp, self.data_y[index].clone())\n",
    "        else:\n",
    "            return tmp, self.data_y[index]\n",
    "\n",
    "    def _transform(self, data_x, data_y, k_factor=2):\n",
    "        maxPrice = max(data_x[:, 0, -6])\n",
    "\n",
    "        data_x[-1, 0, -6] = k_factor * maxPrice\n",
    "        data_y *= 0\n",
    "\n",
    "        return data_x, data_y\n",
    "\n",
    "    def __len__(self):\n",
    "        return len(self.data_x)"
   ]
  },
  {
   "cell_type": "code",
   "execution_count": null,
   "id": "02a0e269",
   "metadata": {},
   "outputs": [],
   "source": [
    "class LSTMModel(nn.Module):\n",
    "    def __init__(self, input_size, hidden_size, num_layers, output_size):\n",
    "        super(LSTMModel, self).__init__()\n",
    "        self.hidden_size = hidden_size\n",
    "        self.num_layers = num_layers\n",
    "        self.lstm = nn.LSTM(\n",
    "            input_size,\n",
    "            hidden_size,\n",
    "            num_layers,\n",
    "            batch_first=True,\n",
    "            bias=True,\n",
    "            dropout=0.0,\n",
    "        )\n",
    "        #         self.fc = nn.Linear(hidden_size, output_size)\n",
    "\n",
    "        self.fc = nn.Sequential(\n",
    "            nn.Linear(hidden_size // 1, hidden_size // 2),\n",
    "            nn.LeakyReLU(),\n",
    "            nn.Dropout1d(0.007),\n",
    "            nn.Linear(hidden_size // 2, hidden_size // 4),\n",
    "            nn.LeakyReLU(),\n",
    "            nn.Dropout1d(0.007),\n",
    "            nn.Linear(hidden_size // 4, hidden_size // 8),\n",
    "            nn.LeakyReLU(),\n",
    "            nn.Dropout1d(0.007),\n",
    "            nn.Linear(hidden_size // 8, output_size),\n",
    "        )\n",
    "\n",
    "        self.fcc = nn.Linear(44, 1)\n",
    "\n",
    "    def forward(self, X):\n",
    "        X = self.fcc(X)[..., 0]\n",
    "        out, _ = self.lstm(X)\n",
    "        out = self.fc(out[:, -1])\n",
    "\n",
    "        return out"
   ]
  },
  {
   "cell_type": "code",
   "execution_count": null,
   "id": "3cd0af4b",
   "metadata": {},
   "outputs": [],
   "source": [
    "train_dataset = CustomDataset(X_train, y_train)\n",
    "val_dataset = CustomDataset(X_val, y_val)"
   ]
  },
  {
   "cell_type": "code",
   "execution_count": null,
   "id": "b74f8e09",
   "metadata": {},
   "outputs": [],
   "source": [
    "# Defining hyperparams\n",
    "BATCH_SIZE = 64\n",
    "NUM_SEQUENCE = 6\n",
    "NUM_FEATURES = 10  # * 45\n",
    "NUM_LAYERS = 3\n",
    "OUTPUT_SIZE = 1\n",
    "HIDDEN_SIZE = 64\n",
    "INPUT_SIZE = NUM_FEATURES\n",
    "\n",
    "# Create a DataLoader to handle batching\n",
    "train_dataloader = DataLoader(train_dataset, batch_size=BATCH_SIZE, shuffle=True)\n",
    "val_dataloader = DataLoader(val_dataset, batch_size=BATCH_SIZE, shuffle=True)"
   ]
  },
  {
   "cell_type": "code",
   "execution_count": null,
   "id": "d8c3f2f6",
   "metadata": {},
   "outputs": [],
   "source": [
    "# Creating model\n",
    "model = LSTMModel(INPUT_SIZE, HIDDEN_SIZE, NUM_LAYERS, OUTPUT_SIZE)\n",
    "model.to(DEVICE)\n",
    "# Defining Loss function\n",
    "criterion = nn.MSELoss()\n",
    "# Defining optimizer\n",
    "lr = 0.0001\n",
    "optimizer = torch.optim.Adam(model.parameters(), lr=lr)"
   ]
  },
  {
   "cell_type": "code",
   "execution_count": null,
   "id": "aacb35e0",
   "metadata": {},
   "outputs": [],
   "source": [
    "num_epochs = 100\n",
    "history = []\n",
    "\n",
    "iters = len(train_dataloader)\n",
    "scheduler = torch.optim.lr_scheduler.CyclicLR(\n",
    "    optimizer, base_lr=lr, max_lr=0.001, cycle_momentum=False\n",
    ")\n",
    "\n",
    "val_min_loss = None\n",
    "\n",
    "model_name = \"T_18_08\"\n",
    "\n",
    "for epoch in range(num_epochs):\n",
    "    train_running_loss = 0.0\n",
    "    model.train()\n",
    "    for i, batch in enumerate(tqdm(train_dataloader, position=0, leave=True)):\n",
    "        # Every data instance is an input + label pair\n",
    "        X_train1, y_train1 = batch[0].to(torch.float32).to(DEVICE), batch[1].to(\n",
    "            torch.float32\n",
    "        ).to(DEVICE)\n",
    "\n",
    "        # Make predictions for this batch\n",
    "        outputs = model(X_train1)\n",
    "\n",
    "        # Compute the loss and its gradients\n",
    "        loss = criterion(outputs, y_train1)\n",
    "\n",
    "        loss.backward()\n",
    "\n",
    "        # Adjust learning weights\n",
    "        optimizer.step()\n",
    "\n",
    "        # Zero your gradients for every batch!\n",
    "        optimizer.zero_grad()\n",
    "\n",
    "        # Gather data and report\n",
    "        train_running_loss += loss.item()\n",
    "\n",
    "    scheduler.step()\n",
    "    model.eval()\n",
    "    val_running_loss = 0.0\n",
    "\n",
    "    with torch.no_grad():\n",
    "        for i, batch in enumerate(tqdm(val_dataloader, position=0, leave=True)):\n",
    "            # Every data instance is an input + label pair\n",
    "            X_val1, y_val1 = batch[0].to(torch.float32).to(DEVICE), batch[1].to(\n",
    "                torch.float32\n",
    "            ).to(DEVICE)\n",
    "\n",
    "            # Make predictions for this batch\n",
    "            outputs = model(X_val1)\n",
    "            # Compute the loss and its gradients\n",
    "            loss = criterion(outputs, y_val1)\n",
    "\n",
    "            # Gather data and report\n",
    "            val_running_loss += loss.item()\n",
    "\n",
    "    mean_train_loss = train_running_loss / len(train_dataloader)\n",
    "    mean_val_loss = val_running_loss / len(val_dataloader)\n",
    "\n",
    "    if val_min_loss is None:\n",
    "        val_min_loss = mean_val_loss\n",
    "    else:\n",
    "        if mean_val_loss < val_min_loss:\n",
    "            val_min_loss = mean_val_loss\n",
    "            torch.save(model.state_dict(), f\"./models/{model_name}.pth\")\n",
    "\n",
    "    history.append([mean_train_loss, mean_val_loss])\n",
    "\n",
    "    print(\n",
    "        f\"Epoch [{epoch+1}/{num_epochs}]\\nTrain Loss: {round(mean_train_loss, 4)}\\nVal Loss: {round(mean_val_loss, 4)}\"\n",
    "    )"
   ]
  },
  {
   "cell_type": "code",
   "execution_count": null,
   "id": "42258242",
   "metadata": {},
   "outputs": [],
   "source": [
    "history = np.array(history)\n",
    "plt.plot(history)\n",
    "plt.legend([\"train\", \"val\"])\n",
    "plt.show()"
   ]
  },
  {
   "cell_type": "code",
   "execution_count": null,
   "id": "4ee6244f",
   "metadata": {},
   "outputs": [],
   "source": [
    "model.eval()\n",
    "preds = model(X_val.to(torch.float32).to(DEVICE)).detach().cpu().numpy()\n",
    "ground_truth = (y_val).numpy()"
   ]
  },
  {
   "cell_type": "code",
   "execution_count": null,
   "id": "2d42409b",
   "metadata": {},
   "outputs": [],
   "source": [
    "# Create KDE plots for predictions and ground truth\n",
    "plt.figure(figsize=(8, 6))\n",
    "sns.kdeplot(preds.squeeze(), label=\"Predictions\", color=\"blue\")\n",
    "sns.kdeplot(ground_truth.squeeze(), label=\"Ground Truth\", color=\"red\")\n",
    "\n",
    "# Set labels and title\n",
    "plt.xlabel(\"Mean Booking\")\n",
    "plt.ylabel(\"Density\")\n",
    "plt.title(\"Kernel Density Estimation - Predictions vs. Ground Truth\")\n",
    "plt.legend()\n",
    "\n",
    "# Show the plot\n",
    "plt.show()"
   ]
  },
  {
   "cell_type": "code",
   "execution_count": null,
   "id": "1fe192e1",
   "metadata": {},
   "outputs": [],
   "source": [
    "# Create a diagonal line for y = x\n",
    "x_values = np.linspace(\n",
    "    min(preds[..., 0].min(), ground_truth[..., 0].min()),\n",
    "    max(preds[..., 0].max(), ground_truth[..., 0].max()),\n",
    "    100,\n",
    ")\n",
    "y_values = x_values\n",
    "\n",
    "# Plot the scatter plot\n",
    "plt.figure(figsize=(8, 6))\n",
    "sns.scatterplot(x=preds[..., 0], y=ground_truth[..., 0])\n",
    "\n",
    "# Plot the diagonal line\n",
    "plt.plot(x_values, y_values, color=\"red\", linestyle=\"dashed\", label=\"y = x\")\n",
    "\n",
    "# Set labels and title\n",
    "plt.xlabel(\"Predictions\")\n",
    "plt.ylabel(\"Ground Truth\")\n",
    "plt.title(\"Scatter plot - Predictions vs. Ground Truth\")\n",
    "\n",
    "# Show the plot\n",
    "plt.legend()\n",
    "plt.show()"
   ]
  },
  {
   "cell_type": "markdown",
   "id": "d021c2f0",
   "metadata": {},
   "source": [
    "#### Mean of top neighbors' values"
   ]
  },
  {
   "cell_type": "code",
   "execution_count": null,
   "id": "d89a544c",
   "metadata": {},
   "outputs": [],
   "source": [
    "def NeighborsMean(df, year, data, qid, top=10):\n",
    "    current_data = df[df.Qid1 == qid].copy()\n",
    "    sorted_data = current_data.sort_values(by=\"distance\").iloc[:10]\n",
    "    first_row = data[(data.GJ == year) & (data.Qid == qid)]\n",
    "\n",
    "    if sorted_data.shape[0] > 1:\n",
    "        sorted_data = sorted_data[sorted_data.Qid2 != qid]\n",
    "        sorted_data = data[(data.GJ == year) & (data.Qid.isin(sorted_data.Qid2))].mean(\n",
    "            axis=0\n",
    "        )\n",
    "        return pd.concat(\n",
    "            [first_row, pd.DataFrame(sorted_data.values, sorted_data.index).T],\n",
    "            ignore_index=True,\n",
    "            axis=0,\n",
    "        )\n",
    "\n",
    "    else:\n",
    "        return pd.concat(\n",
    "            [\n",
    "                first_row,\n",
    "                pd.DataFrame(\n",
    "                    (\n",
    "                        -torch.ones_like(\n",
    "                            torch.tensor(\n",
    "                                data[(data.GJ == 2019) & (data.Qid == 788796)].values\n",
    "                            )\n",
    "                        )\n",
    "                    ).reshape(-1),\n",
    "                    data.columns,\n",
    "                ).T,\n",
    "            ],\n",
    "            ignore_index=True,\n",
    "            axis=0,\n",
    "        )"
   ]
  },
  {
   "cell_type": "code",
   "execution_count": null,
   "id": "7b8fdbf8",
   "metadata": {},
   "outputs": [],
   "source": [
    "tensor = torch.randint(high=3000, size=(7, 22))"
   ]
  },
  {
   "cell_type": "code",
   "execution_count": null,
   "id": "4742ced6",
   "metadata": {},
   "outputs": [],
   "source": [
    "def pad_to_size(tensor):\n",
    "    # Check if the tensor is 2D\n",
    "    if len(tensor.shape) != 2:\n",
    "        raise ValueError(\"Input tensor should be 2D\")\n",
    "\n",
    "    current_x, current_y = tensor.shape\n",
    "    pad_left = 0\n",
    "    pad_right = 0\n",
    "    pad_top = 0\n",
    "    pad_bottom = max(0, 10 - current_x)\n",
    "\n",
    "    return torch.nn.functional.pad(\n",
    "        tensor, (pad_left, pad_right, pad_top, pad_bottom), \"constant\", -1\n",
    "    )[..., None]"
   ]
  },
  {
   "cell_type": "code",
   "execution_count": null,
   "id": "0117b0cd",
   "metadata": {},
   "outputs": [],
   "source": [
    "def takeTargetByQid(dataPart, qid):\n",
    "    targetRows = dataPart[dataPart.Qid == qid].copy()\n",
    "    if targetRows.shape[0]:\n",
    "        T = targetRows.loc[:, \"T1\":\"T22\"].copy()\n",
    "        T[T == -1] = 0\n",
    "        meanOf_T = T.mean().mean()\n",
    "        return torch.tensor([meanOf_T])\n",
    "\n",
    "    return torch.tensor([0.0])"
   ]
  },
  {
   "cell_type": "code",
   "execution_count": null,
   "id": "17c6d61f",
   "metadata": {},
   "outputs": [],
   "source": [
    "distance_2019 = pd.read_csv(\"data/distances/distances_2019.csv\")"
   ]
  },
  {
   "cell_type": "code",
   "execution_count": null,
   "id": "9966ea34",
   "metadata": {},
   "outputs": [],
   "source": [
    "variable_name = [name for name in globals() if globals()[name] is distance_2019][0]"
   ]
  },
  {
   "cell_type": "code",
   "execution_count": null,
   "id": "be683cac",
   "metadata": {
    "scrolled": true
   },
   "outputs": [],
   "source": [
    "# data.drop(columns='Ort', inplace=True)\n",
    "NeighborsMean(\n",
    "    distance_2019,\n",
    "    int(\n",
    "        re.findall(\n",
    "            r\"\\d+\", [name for name in globals() if globals()[name] is distance_2019][0]\n",
    "        )[0]\n",
    "    ),\n",
    "    data,\n",
    "    788796.0,\n",
    ")"
   ]
  },
  {
   "cell_type": "markdown",
   "id": "cd66ae5d",
   "metadata": {},
   "source": [
    "#### Drop Qids that have a neighbor count less than the top"
   ]
  },
  {
   "cell_type": "code",
   "execution_count": null,
   "id": "20c8a4ad",
   "metadata": {},
   "outputs": [],
   "source": [
    "def drop_less_years(data):\n",
    "    mask = (data.groupby([\"Qid\"])[[\"GJ\"]].transform(\"count\") < 6).values\n",
    "    data.drop(index=data[mask].index, inplace=True)\n",
    "    print(data.shape)"
   ]
  },
  {
   "cell_type": "code",
   "execution_count": null,
   "id": "1c0e46c6",
   "metadata": {},
   "outputs": [],
   "source": [
    "def drop_less_top(data, TOP_N):\n",
    "    qids = np.array([])\n",
    "    years = [i for i in range(2018, 2024)]\n",
    "\n",
    "    for year in years:\n",
    "        distance = pd.read_csv(f\"data/distances/distances_{year}.csv\")\n",
    "        neighbors_count = distance.Qid1.value_counts()\n",
    "        qids = np.append(qids, neighbors_count[neighbors_count < TOP_N].index.values)\n",
    "\n",
    "    indexes = data[data.Qid.isin(set(qids))].index.values\n",
    "    data.drop(index=indexes, inplace=True)\n",
    "    return qids"
   ]
  },
  {
   "cell_type": "code",
   "execution_count": null,
   "id": "7f9e1ad5",
   "metadata": {},
   "outputs": [],
   "source": []
  },
  {
   "cell_type": "markdown",
   "id": "918319a9",
   "metadata": {},
   "source": [
    "#### Proof of concept"
   ]
  },
  {
   "cell_type": "code",
   "execution_count": null,
   "id": "1b29bf93",
   "metadata": {},
   "outputs": [],
   "source": [
    "data = pd.read_pickle(\"data/df_gesamt_15_08_prepocessed_einworner_added.pkl\")"
   ]
  },
  {
   "cell_type": "code",
   "execution_count": null,
   "id": "38d4c8c6",
   "metadata": {},
   "outputs": [],
   "source": [
    "CONST_COLUMNS = [\n",
    "    \"Stellensubart_1\",\n",
    "    \"Stellensubart_2\",\n",
    "    \"Stellensubart_3\",\n",
    "    \"Stellensubart_4\",\n",
    "    \"T1\",\n",
    "    \"T2\",\n",
    "    \"T3\",\n",
    "    \"T4\",\n",
    "    \"T5\",\n",
    "    \"T6\",\n",
    "    \"T7\",\n",
    "    \"T8\",\n",
    "    \"T9\",\n",
    "    \"T10\",\n",
    "    \"T11\",\n",
    "    \"T12\",\n",
    "    \"T13\",\n",
    "    \"T14\",\n",
    "    \"T15\",\n",
    "    \"T16\",\n",
    "    \"T17\",\n",
    "    \"T18\",\n",
    "    \"T19\",\n",
    "    \"T20\",\n",
    "    \"T21\",\n",
    "    \"T22\",\n",
    "    \"T23\",\n",
    "    \"T24\",\n",
    "    \"T25\",\n",
    "    \"T26\",\n",
    "    \"T27\",\n",
    "    \"T28\",\n",
    "    \"T29\",\n",
    "    \"T30\",\n",
    "    \"T31\",\n",
    "    \"T32\",\n",
    "    \"T33\",\n",
    "    \"T34\",\n",
    "    \"Preis\",\n",
    "    \"Beleuchtet\",\n",
    "    \"Laenge\",\n",
    "    \"Breite\",\n",
    "    \"Eigenfläche\",\n",
    "    \"PPSVACWert\",\n",
    "    \"Qid\",\n",
    "    \"GJ\",\n",
    "]"
   ]
  },
  {
   "cell_type": "code",
   "execution_count": null,
   "id": "4fe29d59",
   "metadata": {},
   "outputs": [],
   "source": [
    "distance_2018 = pd.read_csv(\"./data/distances/distances_2018_truncated.csv\").set_index(\n",
    "    \"Qid1\"\n",
    ")\n",
    "distance_2019 = pd.read_csv(\"./data/distances/distances_2019_truncated.csv\").set_index(\n",
    "    \"Qid1\"\n",
    ")\n",
    "distance_2020 = pd.read_csv(\"./data/distances/distances_2020_truncated.csv\").set_index(\n",
    "    \"Qid1\"\n",
    ")\n",
    "distance_2021 = pd.read_csv(\"./data/distances/distances_2021_truncated.csv\").set_index(\n",
    "    \"Qid1\"\n",
    ")\n",
    "distance_2022 = pd.read_csv(\"./data/distances/distances_2022_truncated.csv\").set_index(\n",
    "    \"Qid1\"\n",
    ")"
   ]
  },
  {
   "cell_type": "code",
   "execution_count": null,
   "id": "6cbec63c",
   "metadata": {},
   "outputs": [],
   "source": [
    "year_count = data.groupby([\"Qid\"])[\"GJ\"].count()"
   ]
  },
  {
   "cell_type": "code",
   "execution_count": null,
   "id": "6f19c77a",
   "metadata": {},
   "outputs": [],
   "source": [
    "cleaned_data = data[data.Qid.isin(year_count[year_count == 6].index)].copy()\n",
    "cleaned_data = cleaned_data.sort_values(by=[\"Qid\", \"GJ\"]).set_index(\"Qid\", drop=False)"
   ]
  },
  {
   "cell_type": "code",
   "execution_count": null,
   "id": "d3efb087",
   "metadata": {},
   "outputs": [],
   "source": [
    "cleaned_data = cleaned_data.loc[:, CONST_COLUMNS]"
   ]
  },
  {
   "cell_type": "code",
   "execution_count": null,
   "id": "14591d7a",
   "metadata": {},
   "outputs": [],
   "source": [
    "data_2018 = cleaned_data[cleaned_data.GJ == 2018].drop(columns=[\"Qid\", \"GJ\"]).copy()\n",
    "data_2019 = cleaned_data[cleaned_data.GJ == 2019].drop(columns=[\"Qid\", \"GJ\"]).copy()\n",
    "data_2020 = cleaned_data[cleaned_data.GJ == 2020].drop(columns=[\"Qid\", \"GJ\"]).copy()\n",
    "data_2021 = cleaned_data[cleaned_data.GJ == 2021].drop(columns=[\"Qid\", \"GJ\"]).copy()\n",
    "data_2022 = cleaned_data[cleaned_data.GJ == 2022].drop(columns=[\"Qid\", \"GJ\"]).copy()\n",
    "data_2023 = cleaned_data[cleaned_data.GJ == 2023].drop(columns=[\"Qid\", \"GJ\"]).copy()"
   ]
  },
  {
   "cell_type": "code",
   "execution_count": null,
   "id": "e261ce50",
   "metadata": {},
   "outputs": [],
   "source": [
    "data_2023.loc[:, \"T1\":\"T22\"] = data_2023.loc[:, \"T1\":\"T22\"].replace(-1, 0)"
   ]
  },
  {
   "cell_type": "code",
   "execution_count": null,
   "id": "58a8eb99",
   "metadata": {},
   "outputs": [],
   "source": [
    "qid_train, qid_val = train_test_split(all_valid_qids, test_size=0.05, random_state=7)\n",
    "qid_train = qid_train.iloc[:10]"
   ]
  },
  {
   "cell_type": "code",
   "execution_count": null,
   "id": "37bcd5b7",
   "metadata": {},
   "outputs": [],
   "source": [
    "def min_max(arg):\n",
    "    return torch.softmax(-torch.from_numpy(arg) * 0.1, dim=0).numpy()"
   ]
  },
  {
   "cell_type": "code",
   "execution_count": null,
   "id": "02446d84",
   "metadata": {},
   "outputs": [],
   "source": [
    "def CustomDataLoader3(qids):\n",
    "    \"\"\"\n",
    "    With weighted sum dependent on the distance of neighbors.\n",
    "    \"\"\"\n",
    "    global data_2018, data_2019, data_2020, data_2021, data_2022, data_2023\n",
    "    global distance_2018, distance_2019, distance_2020, distance_2021, distance_2022\n",
    "    X, x, y = [], [], []\n",
    "\n",
    "    for idx, qid in enumerate(tqdm(qids)):\n",
    "        ##########################################\n",
    "        neighbours_2018 = distance_2018.loc[qid]\n",
    "\n",
    "        if isinstance(neighbours_2018, pd.core.series.Series) or (\n",
    "            neighbours_2018.shape[0] <= 1\n",
    "        ):\n",
    "            continue\n",
    "\n",
    "        neighbours_2018 = neighbours_2018[neighbours_2018.Qid2 != qid]\n",
    "\n",
    "        neighbour_distances_2018 = neighbours_2018.distance\n",
    "        neighbours_2018 = neighbours_2018.Qid2\n",
    "\n",
    "        #########################################\n",
    "        neighbours_2019 = distance_2019.loc[qid]\n",
    "\n",
    "        if isinstance(neighbours_2019, pd.core.series.Series) or (\n",
    "            neighbours_2019.shape[0] <= 1\n",
    "        ):\n",
    "            continue\n",
    "\n",
    "        neighbours_2019 = neighbours_2019[neighbours_2019.Qid2 != qid]\n",
    "        neighbour_distances_2019 = neighbours_2019.distance\n",
    "        neighbours_2019 = neighbours_2019.Qid2\n",
    "\n",
    "        #########################################\n",
    "        neighbours_2020 = distance_2020.loc[qid]\n",
    "\n",
    "        if isinstance(neighbours_2020, pd.core.series.Series) or (\n",
    "            neighbours_2020.shape[0] <= 1\n",
    "        ):\n",
    "            continue\n",
    "\n",
    "        neighbours_2020 = neighbours_2020[neighbours_2020.Qid2 != qid]\n",
    "        neighbour_distances_2020 = neighbours_2020.distance\n",
    "        neighbours_2020 = neighbours_2020.Qid2\n",
    "\n",
    "        #########################################\n",
    "        neighbours_2021 = distance_2021.loc[qid]\n",
    "\n",
    "        if isinstance(neighbours_2021, pd.core.series.Series) or (\n",
    "            neighbours_2021.shape[0] <= 1\n",
    "        ):\n",
    "            continue\n",
    "\n",
    "        neighbours_2021 = neighbours_2021[neighbours_2021.Qid2 != qid]\n",
    "        neighbour_distances_2021 = neighbours_2021.distance\n",
    "        neighbours_2021 = neighbours_2021.Qid2\n",
    "\n",
    "        #########################################\n",
    "        neighbours_2022 = distance_2022.loc[qid]\n",
    "\n",
    "        if isinstance(neighbours_2022, pd.core.series.Series) or (\n",
    "            neighbours_2022.shape[0] <= 1\n",
    "        ):\n",
    "            continue\n",
    "\n",
    "        neighbours_2022 = neighbours_2022[neighbours_2022.Qid2 != qid]\n",
    "        neighbour_distances_2022 = neighbours_2022.distance\n",
    "        neighbours_2022 = neighbours_2022.Qid2\n",
    "        #########################################\n",
    "\n",
    "        neighbours_2018_data = data_2018.loc[neighbours_2018.values].values\n",
    "        neighbours_2019_data = data_2019.loc[neighbours_2019.values].values\n",
    "        neighbours_2020_data = data_2020.loc[neighbours_2020.values].values\n",
    "        neighbours_2021_data = data_2021.loc[neighbours_2021.values].values\n",
    "        neighbours_2022_data = data_2022.loc[neighbours_2022.values].values\n",
    "\n",
    "        self_data_2018 = torch.from_numpy(data_2018.loc[qid].values)\n",
    "        self_data_2019 = torch.from_numpy(data_2019.loc[qid].values)\n",
    "        self_data_2020 = torch.from_numpy(data_2020.loc[qid].values)\n",
    "        self_data_2021 = torch.from_numpy(data_2021.loc[qid].values)\n",
    "        self_data_2022 = torch.from_numpy(data_2022.loc[qid].values)\n",
    "        self_data_2022 = torch.from_numpy(data_2022.loc[qid].values)\n",
    "        self_data_2023 = torch.from_numpy(\n",
    "            data_2023.loc[qid]\n",
    "            .drop(labels=[\"PPSVACWert\", *[f\"T{i}\" for i in range(1, 35)]])\n",
    "            .values\n",
    "        )\n",
    "\n",
    "        neighbours_2018_data = torch.from_numpy(\n",
    "            min_max(neighbour_distances_2018.values) @ neighbours_2018_data\n",
    "        )\n",
    "        neighbours_2019_data = torch.from_numpy(\n",
    "            min_max(neighbour_distances_2019.values) @ neighbours_2019_data\n",
    "        )\n",
    "        neighbours_2020_data = torch.from_numpy(\n",
    "            min_max(neighbour_distances_2020.values) @ neighbours_2020_data\n",
    "        )\n",
    "        neighbours_2021_data = torch.from_numpy(\n",
    "            min_max(neighbour_distances_2021.values) @ neighbours_2021_data\n",
    "        )\n",
    "        neighbours_2022_data = torch.from_numpy(\n",
    "            min_max(neighbour_distances_2022.values) @ neighbours_2022_data\n",
    "        )\n",
    "\n",
    "        data_point_2018 = torch.stack([neighbours_2018_data, self_data_2018], dim=-1)\n",
    "        data_point_2019 = torch.stack([neighbours_2019_data, self_data_2019], dim=-1)\n",
    "        data_point_2020 = torch.stack([neighbours_2020_data, self_data_2020], dim=-1)\n",
    "        data_point_2021 = torch.stack([neighbours_2021_data, self_data_2021], dim=-1)\n",
    "        data_point_2022 = torch.stack([neighbours_2022_data, self_data_2022], dim=-1)\n",
    "\n",
    "        neighbours_features = torch.stack(\n",
    "            [\n",
    "                data_point_2018,\n",
    "                data_point_2019,\n",
    "                data_point_2020,\n",
    "                data_point_2021,\n",
    "                data_point_2022,\n",
    "            ]\n",
    "        )\n",
    "\n",
    "        label = torch.tensor(data_2023.loc[qid, \"T1\":\"T22\"].mean())\n",
    "\n",
    "        X.append(neighbours_features)\n",
    "        x.append(self_data_2023)\n",
    "        y.append(label)\n",
    "\n",
    "    X = torch.stack(X, dim=0)\n",
    "    x = torch.stack(x, dim=0)\n",
    "    y = torch.stack(y, dim=0)\n",
    "    print(X.shape, x.shape, y.shape)\n",
    "    return X, x, y"
   ]
  },
  {
   "cell_type": "code",
   "execution_count": null,
   "id": "b368b3d1",
   "metadata": {},
   "outputs": [],
   "source": [
    "X_train, x_train, y_train = CustomDataLoader3(qid_train)"
   ]
  },
  {
   "cell_type": "code",
   "execution_count": null,
   "id": "95d949f3",
   "metadata": {},
   "outputs": [],
   "source": [
    "data.columns"
   ]
  },
  {
   "cell_type": "markdown",
   "id": "2e1545ae",
   "metadata": {},
   "source": [
    "### New Data loader without competitor"
   ]
  },
  {
   "cell_type": "code",
   "execution_count": null,
   "id": "d547fb84",
   "metadata": {},
   "outputs": [],
   "source": [
    "data = pd.read_pickle(\"data/df_gesamt_15_08_prepocessed_einworner_added.pkl\")\n"
   ]
  },
  {
   "cell_type": "code",
   "execution_count": null,
   "id": "2342bf1a",
   "metadata": {},
   "outputs": [],
   "source": [
    "class CustomDataLoader:\n",
    "    def __init__(self, test_size=0.05):\n",
    "        self.fillingValueForPadding = -1\n",
    "        self.decade = 34\n",
    "        self.yearsCount = 6\n",
    "        self.data = pd.read_pickle(\n",
    "            \"data/df_gesamt_15_08_prepocessed_einworner_added.pkl\"\n",
    "        )\n",
    "\n",
    "        self.drop_less_years(self.data)\n",
    "\n",
    "        self.listOfT = [f\"T{i+1}\" for i in range(self.decade)]\n",
    "\n",
    "        self.data.reset_index(drop=True, inplace=True)\n",
    "        self.data.drop(columns=[\"PLZ\", \"Ort\"], inplace=True)\n",
    "        \n",
    "        self.Qid_train, self.Qid_val = train_test_split(\n",
    "            self.data[\"Qid\"].unique(), test_size=test_size, random_state=23\n",
    "        )\n",
    "        \n",
    "        self.data.Laenge = self.normalize_longitude(self.data.Laenge.values)\n",
    "        self.data.Breite = self.normalize_latitude(self.data.Breite.values)\n",
    "        # normalize Price\n",
    "        self.normalize_without_target_year(self.data, \"PPSVACWert\")\n",
    "\n",
    "\n",
    "\n",
    "        self.data_2018 = self.data[self.data[\"GJ\"] == 2018].copy()\n",
    "        self.data_2019 = self.data[self.data[\"GJ\"] == 2019].copy()\n",
    "        self.data_2020 = self.data[self.data[\"GJ\"] == 2020].copy()\n",
    "        self.data_2021 = self.data[self.data[\"GJ\"] == 2021].copy()\n",
    "        self.data_2022 = self.data[self.data[\"GJ\"] == 2022].copy()\n",
    "        self.data_2023 = self.data[self.data[\"GJ\"] == 2023].copy()\n",
    "\n",
    "        self.data.drop(columns=[\"GJ\"], inplace=True)\n",
    "        self.data_2018.drop(columns=[\"GJ\"], inplace=True)\n",
    "        self.data_2019.drop(columns=[\"GJ\"], inplace=True)\n",
    "        self.data_2020.drop(columns=[\"GJ\"], inplace=True)\n",
    "        self.data_2021.drop(columns=[\"GJ\"], inplace=True)\n",
    "        self.data_2022.drop(columns=[\"GJ\"], inplace=True)\n",
    "        self.data_2023.drop(columns=[\"GJ\"], inplace=True)\n",
    "\n",
    "    def drop_less_years(self, data):\n",
    "        mask = (\n",
    "            data.groupby([\"Qid\"])[[\"GJ\"]].transform(\"count\") < self.yearsCount\n",
    "        ).values\n",
    "        data.drop(index=data[mask].index, inplace=True)\n",
    "\n",
    "    def normalize_longitude(self, longitude):\n",
    "        min_lon = -180.0\n",
    "        max_lon = 180.0\n",
    "        normalized_lon = (longitude - min_lon) / (max_lon - min_lon)\n",
    "        return normalized_lon\n",
    "\n",
    "    def normalize_latitude(self, latitude):\n",
    "        min_lat = -90.0\n",
    "        max_lat = 90.0\n",
    "        normalized_lat = (latitude - min_lat) / (max_lat - min_lat)\n",
    "        return normalized_lat\n",
    "\n",
    "    def normalize_without_target_year(self, data, col):\n",
    "        def mean_std_norm(x):\n",
    "            return (x - x.mean()) / x.std()\n",
    "\n",
    "        index = data.index\n",
    "        data.loc[index, col] = mean_std_norm(data.loc[index, col])\n",
    "\n",
    "    def loader(self):\n",
    "        train_dataReturn_X, val_dataReturn_X = [], []\n",
    "        train_dataReturn_Y, val_dataReturn_Y = [], []\n",
    "\n",
    "        def process_qid(qid):\n",
    "            curr_2018_X = self.takeByQid(self.data_2018, qid)\n",
    "            curr_2019_X = self.takeByQid(self.data_2019, qid)\n",
    "            curr_2020_X = self.takeByQid(self.data_2020, qid)\n",
    "            curr_2021_X = self.takeByQid(self.data_2021, qid)\n",
    "            curr_2022_X = self.takeByQid(self.data_2022, qid)\n",
    "            curr_2023_X = self.takeByQidLastYear(self.data_2023, qid)\n",
    "\n",
    "            CurrData_X = torch.cat(\n",
    "                [curr_2018_X, curr_2019_X, curr_2020_X, curr_2021_X, curr_2022_X, curr_2023_X], axis=0\n",
    "            )\n",
    "            CurrData_Y = self.takeTargetByQid(self.data_2023, qid)\n",
    "            return CurrData_X, CurrData_Y\n",
    "\n",
    "        for qid in tqdm(self.Qid_train):\n",
    "            currData_X, currData_Y = process_qid(qid)\n",
    "            train_dataReturn_X.append(currData_X)\n",
    "            train_dataReturn_Y.append(currData_Y)\n",
    "\n",
    "        for qid in tqdm(self.Qid_val):\n",
    "            currData_X, currData_Y = process_qid(qid)\n",
    "            val_dataReturn_X.append(currData_X)\n",
    "            val_dataReturn_Y.append(currData_Y)\n",
    "\n",
    "        X_train = torch.stack(train_dataReturn_X)\n",
    "        y_train = torch.stack(train_dataReturn_Y)\n",
    "\n",
    "        X_val = torch.stack(val_dataReturn_X)\n",
    "        y_val = torch.stack(val_dataReturn_Y)\n",
    "\n",
    "        return X_train, X_val, y_train, y_val\n",
    "\n",
    "    def takeByQid(self, dataPart, qid):\n",
    "        CurrData_X = dataPart[dataPart.Qid == qid].copy()\n",
    "        CurrData_X.drop(columns=[\"Qid\"], inplace=True)\n",
    "        return torch.tensor(CurrData_X.values)\n",
    "\n",
    "    def takeTargetByQid(self, dataPart, qid):\n",
    "        targetRows = dataPart[dataPart.Qid == qid].copy()\n",
    "        if targetRows.shape[0]:\n",
    "            T = targetRows.loc[:, \"T1\":\"T22\"].copy()\n",
    "            T[T == -1] = 0\n",
    "            meanOf_T = T.mean().mean()\n",
    "            return torch.tensor([meanOf_T])\n",
    "\n",
    "        return torch.tensor([0.0])\n",
    "\n",
    "    def takeByQidLastYear(self, dataPart, qid):\n",
    "        currData = dataPart[dataPart.Qid == qid].copy()\n",
    "        currData[self.listOfT] = -1\n",
    "        currData[\"PPSVACWert\"] = -1\n",
    "        currData.drop(columns=[\"Qid\"], inplace=True)\n",
    "        return torch.tensor(currData.values)\n",
    "\n"
   ]
  },
  {
   "cell_type": "markdown",
   "id": "b2d8d572",
   "metadata": {},
   "source": [
    "### New Data loader without competitor (5 years + 1)"
   ]
  },
  {
   "cell_type": "code",
   "execution_count": null,
   "id": "68d6299c",
   "metadata": {},
   "outputs": [],
   "source": [
    "data.columns"
   ]
  },
  {
   "cell_type": "code",
   "execution_count": null,
   "id": "842950ef",
   "metadata": {},
   "outputs": [],
   "source": [
    "if torch.cuda.is_available():\n",
    "    DEVICE = \"cuda:1\"\n",
    "else:\n",
    "    DEVICE = \"cpu\""
   ]
  },
  {
   "cell_type": "code",
   "execution_count": null,
   "id": "1d82a7b4",
   "metadata": {},
   "outputs": [],
   "source": [
    "class CustomDataLoader:\n",
    "    def __init__(self, test_size=0.05):\n",
    "        self.fillingValueForPadding = -1\n",
    "        self.decade = 34\n",
    "        self.yearsCount = 6\n",
    "        self.data = pd.read_pickle(\n",
    "            \"data/df_gesamt_15_08_prepocessed_einworner_added.pkl\"\n",
    "        )\n",
    "\n",
    "        self.drop_less_years(self.data)\n",
    "\n",
    "        self.listOfT = [f\"T{i+1}\" for i in range(self.decade)]\n",
    "\n",
    "        self.data.reset_index(drop=True, inplace=True)\n",
    "        self.data.drop(columns=[\"PLZ\", \"Ort\", \"Einwohner\", 'Stellensubart_1', 'Stellensubart_2', 'Stellensubart_3',\n",
    "       'Stellensubart_4', 'Eigenfläche'], inplace=True)\n",
    "        \n",
    "        self.Qid_train, self.Qid_val = train_test_split(\n",
    "            self.data[\"Qid\"].unique(), test_size=test_size, random_state=23)\n",
    "        \n",
    "        self.data.Laenge = self.normalize_longitude(self.data.Laenge.values)\n",
    "        self.data.Breite = self.normalize_latitude(self.data.Breite.values)\n",
    "        # normalize Price\n",
    "        self.normalize_without_target_year(self.data, \"PPSVACWert\")\n",
    "        self.normalize_without_target_year(self.data, \"Preis\")\n",
    "\n",
    "\n",
    "        self.data_2018 = self.data[self.data[\"GJ\"] == 2018].copy()\n",
    "        self.data_2019 = self.data[self.data[\"GJ\"] == 2019].copy()\n",
    "        self.data_2020 = self.data[self.data[\"GJ\"] == 2020].copy()\n",
    "        self.data_2021 = self.data[self.data[\"GJ\"] == 2021].copy()\n",
    "        self.data_2022 = self.data[self.data[\"GJ\"] == 2022].copy()\n",
    "        self.data_2023 = self.data[self.data[\"GJ\"] == 2023].copy()\n",
    "\n",
    "        self.data.drop(columns=[\"GJ\"], inplace=True)\n",
    "        self.data_2018.drop(columns=[\"GJ\"], inplace=True)\n",
    "        self.data_2019.drop(columns=[\"GJ\"], inplace=True)\n",
    "        self.data_2020.drop(columns=[\"GJ\"], inplace=True)\n",
    "        self.data_2021.drop(columns=[\"GJ\"], inplace=True)\n",
    "        self.data_2022.drop(columns=[\"GJ\"], inplace=True)\n",
    "        self.data_2023.drop(columns=[\"GJ\"], inplace=True)\n",
    "        \n",
    "\n",
    "    def drop_less_years(self, data):\n",
    "        mask = (\n",
    "            data.groupby([\"Qid\"])[[\"GJ\"]].transform(\"count\") < self.yearsCount\n",
    "        ).values\n",
    "        data.drop(index=data[mask].index, inplace=True)\n",
    "\n",
    "    def normalize_longitude(self, longitude):\n",
    "        min_lon = -180.0\n",
    "        max_lon = 180.0\n",
    "        normalized_lon = (longitude - min_lon) / (max_lon - min_lon)\n",
    "        return normalized_lon\n",
    "\n",
    "    def normalize_latitude(self, latitude):\n",
    "        min_lat = -90.0\n",
    "        max_lat = 90.0\n",
    "        normalized_lat = (latitude - min_lat) / (max_lat - min_lat)\n",
    "        return normalized_lat\n",
    "\n",
    "    def normalize_without_target_year(self, data, col):\n",
    "        def mean_std_norm(x):\n",
    "            return (x - x.mean()) / x.std()\n",
    "\n",
    "        index = data.index\n",
    "        data.loc[index, col] = mean_std_norm(data.loc[index, col])\n",
    "\n",
    "    def loader(self):\n",
    "        train_dataReturn_X, train_dataReturn_2023_X, val_dataReturn_X, val_dataReturn_2023_X = [], [], [], []\n",
    "        train_dataReturn_Y,  val_dataReturn_Y = [], []\n",
    "\n",
    "        def process_qid(qid):\n",
    "            curr_2018_X = self.takeByQid(self.data_2018, qid)\n",
    "            curr_2019_X = self.takeByQid(self.data_2019, qid)\n",
    "            curr_2020_X = self.takeByQid(self.data_2020, qid)\n",
    "            curr_2021_X = self.takeByQid(self.data_2021, qid)\n",
    "            curr_2022_X = self.takeByQid(self.data_2022, qid)\n",
    "            curr_2023_X = self.takeByQidLastYear(self.data_2023, qid)\n",
    "\n",
    "            CurrData_X = torch.cat(\n",
    "                [curr_2018_X, curr_2019_X, curr_2020_X, curr_2021_X, curr_2022_X], axis=0\n",
    "            )\n",
    "             \n",
    "            CurrData_Y = self.takeTargetByQid(self.data_2023, qid)\n",
    "            return CurrData_X, CurrData_Y, curr_2023_X\n",
    "\n",
    "        for qid in tqdm(self.Qid_train):\n",
    "            currData_X, currData_Y, currData_2023_X = process_qid(qid)\n",
    "            train_dataReturn_X.append(currData_X)\n",
    "            train_dataReturn_2023_X.append(currData_2023_X)\n",
    "            train_dataReturn_Y.append(currData_Y)\n",
    "            \n",
    "\n",
    "        for qid in tqdm(self.Qid_val):\n",
    "            currData_X, currData_Y, currData_2023_X = process_qid(qid)\n",
    "            val_dataReturn_X.append(currData_X)\n",
    "            val_dataReturn_2023_X.append(currData_2023_X)\n",
    "            val_dataReturn_Y.append(currData_Y)\n",
    "\n",
    "        X_train = torch.stack(train_dataReturn_X)\n",
    "        X_train_2023 = torch.stack(train_dataReturn_2023_X)\n",
    "        y_train = torch.stack(train_dataReturn_Y)\n",
    "\n",
    "        X_val = torch.stack(val_dataReturn_X)\n",
    "        X_val_2023 = torch.stack(val_dataReturn_2023_X)\n",
    "        y_val = torch.stack(val_dataReturn_Y)\n",
    "\n",
    "        return X_train, X_train_2023, X_val, X_val_2023, y_train, y_val\n",
    "\n",
    "    def takeByQid(self, dataPart, qid):\n",
    "        \n",
    "        CurrData_X = dataPart[dataPart.Qid == qid].copy()\n",
    "        CurrData_X.drop(columns=[\"Qid\"], inplace=True)\n",
    "        return torch.tensor(CurrData_X.values)\n",
    "\n",
    "    def takeTargetByQid(self, dataPart, qid):\n",
    "        targetRows = dataPart[dataPart.Qid == qid].copy()\n",
    "        \n",
    "        if targetRows.shape[0]:\n",
    "            T = targetRows.loc[:, \"T1\":\"T22\"].copy()\n",
    "            T[T == -1] = 0\n",
    "            meanOf_T = T.mean().mean()\n",
    "            return torch.tensor([meanOf_T])\n",
    "\n",
    "        return torch.tensor([0.0])\n",
    "\n",
    "    def takeByQidLastYear(self, dataPart, qid):\n",
    "        currData = dataPart[dataPart.Qid == qid].copy()\n",
    "        currData[self.listOfT] = -1\n",
    "        currData[\"PPSVACWert\"] = -1\n",
    "        currData.drop(columns=[\"Qid\"], inplace=True)\n",
    "#         currData.drop(columns=[\"Qid\", *self.listOfT, \"PPSVACWert\"], inplace=True)\n",
    "        return torch.tensor(currData.values)\n",
    "\n"
   ]
  },
  {
   "cell_type": "code",
   "execution_count": null,
   "id": "049bfacf",
   "metadata": {},
   "outputs": [],
   "source": [
    "dl = CustomDataLoader()"
   ]
  },
  {
   "cell_type": "code",
   "execution_count": null,
   "id": "2bf5570d",
   "metadata": {},
   "outputs": [],
   "source": [
    "X_train, X_train_2023, X_val, X_val_2023, y_train, y_val = dl.loader()"
   ]
  },
  {
   "cell_type": "code",
   "execution_count": null,
   "id": "050b050c",
   "metadata": {},
   "outputs": [],
   "source": [
    "# X_train, X_train_2023, X_val, X_val_2023 = torch.load(\"./data/proof_of_concept/X_train_lstm_without_neighbours.pt\"), torch.load(\"./data/proof_of_concept/x_train_lstm_without_neighbours.pt\"), torch.load(\"./data/proof_of_concept/X_val_lstm_without_neighbours.pt\"),torch.load(\"./data/proof_of_concept/x_val_lstm_without_neighbours.pt\")\n",
    "# y_train, y_val = torch.load(\"./data/proof_of_concept/y_train_lstm_without_neighbours.pt\"), torch.load(\"./data/proof_of_concept/y_val_lstm_without_neighbours.pt\")"
   ]
  },
  {
   "cell_type": "code",
   "execution_count": null,
   "id": "5b2c4af8",
   "metadata": {},
   "outputs": [],
   "source": [
    "X_train.shape, X_train_2023.shape, X_val.shape, X_val_2023.shape, y_train.shape, y_val.shape"
   ]
  },
  {
   "cell_type": "code",
   "execution_count": null,
   "id": "60cee479",
   "metadata": {},
   "outputs": [],
   "source": [
    "class CustomDataset(torch.utils.data.Dataset):\n",
    "    def __init__(self, path_x, path_x_2023, path_y, p=0.1):\n",
    "#         self.data_x = torch.load(path_x)\n",
    "#         self.data_y = torch.load(path_y)\n",
    "        self.data_x = path_x\n",
    "        self.data_2023_x = path_x_2023\n",
    "        self.data_y = path_y\n",
    "        self.p = p\n",
    "\n",
    "    def __getitem__(self, index):\n",
    "        tmp = self.data_x[index].clone()\n",
    "        x_2023 = self.data_2023_x[index].clone()\n",
    "#         if torch.rand(1) < self.p:\n",
    "#             return self._transform(tmp, self.data_y[index].clone())\n",
    "#         else:\n",
    "        return tmp, x_2023, self.data_y[index]\n",
    "\n",
    "    def _transform(self, data_x, data_y, k_factor=2):\n",
    "        maxPrice = max(data_x[[0, 31, 61, -1], 0, 15])\n",
    "\n",
    "        data_x[-1, 0, 15] = k_factor * maxPrice\n",
    "        data_y *= 0\n",
    "\n",
    "        return data_x, data_y\n",
    "\n",
    "    def __len__(self):\n",
    "        return len(self.data_x)\n",
    "\n",
    "\n"
   ]
  },
  {
   "cell_type": "code",
   "execution_count": null,
   "id": "65e7ac94",
   "metadata": {},
   "outputs": [],
   "source": [
    "class LSTMModel(nn.Module):\n",
    "    def __init__(self, input_size, hidden_size, num_layers, output_size):\n",
    "        super(LSTMModel, self).__init__()\n",
    "        self.hidden_size = hidden_size\n",
    "        self.num_layers = num_layers\n",
    "\n",
    "        self.lstm = nn.LSTM(\n",
    "            input_size,\n",
    "            hidden_size,\n",
    "            num_layers,\n",
    "            batch_first=True,\n",
    "            bias=True,\n",
    "            dropout=0.,\n",
    "        )\n",
    "        \n",
    "        self.fc_2 = nn.Sequential(\n",
    "            nn.Linear(hidden_size + 44, hidden_size // 2),\n",
    "            nn.Sigmoid(),\n",
    "#             nn.BatchNorm1d(hidden_size // 2),\n",
    "            nn.Dropout1d(0.),\n",
    "            nn.Linear(hidden_size // 2, hidden_size // 4),\n",
    "            nn.Sigmoid(),\n",
    "            nn.BatchNorm1d(hidden_size // 4),\n",
    "            nn.Dropout1d(0.),\n",
    "            nn.Linear(hidden_size // 4, hidden_size // 8),\n",
    "            nn.Sigmoid(),\n",
    "#             nn.BatchNorm1d(hidden_size // 8),\n",
    "            nn.Dropout1d(0.),\n",
    "            nn.Linear(hidden_size // 8, output_size),\n",
    "        )\n",
    "\n",
    "    def forward(self, x, x_target):\n",
    "\n",
    "        out, _ = self.lstm(x)\n",
    "        out = out[:, -1, ...]\n",
    "        out = torch.cat([out, x_target.squeeze(dim=1)], dim=-1)\n",
    "#         out = torch.cat([out, x_target], dim=-1)\n",
    "        out = self.fc_2(out)\n",
    "\n",
    "        return out"
   ]
  },
  {
   "cell_type": "code",
   "execution_count": null,
   "id": "37a49da8",
   "metadata": {},
   "outputs": [],
   "source": [
    "train_dataset = CustomDataset(X_train, X_train_2023, y_train)\n",
    "\n",
    "val_dataset = CustomDataset(X_val, X_val_2023, y_val)"
   ]
  },
  {
   "cell_type": "code",
   "execution_count": null,
   "id": "09786dd8",
   "metadata": {},
   "outputs": [],
   "source": [
    "# Defining hyperparams\n",
    "BATCH_SIZE = 64\n",
    "NUM_SEQUENCE = 5\n",
    "NUM_FEATURES = 44\n",
    "NUM_LAYERS = 8\n",
    "OUTPUT_SIZE = 1\n",
    "HIDDEN_SIZE = 128\n",
    "INPUT_SIZE = NUM_FEATURES\n",
    "\n",
    "# Create a DataLoader to handle batching\n",
    "train_dataloader = DataLoader(train_dataset, batch_size=BATCH_SIZE, shuffle=True)\n",
    "val_dataloader = DataLoader(val_dataset, batch_size=BATCH_SIZE, shuffle=True)"
   ]
  },
  {
   "cell_type": "code",
   "execution_count": null,
   "id": "48dd3e90",
   "metadata": {},
   "outputs": [],
   "source": [
    "# Creating model\n",
    "    \n",
    "model = LSTMModel(INPUT_SIZE, HIDDEN_SIZE, NUM_LAYERS, OUTPUT_SIZE)\n",
    "\n",
    "model.to(DEVICE)\n",
    "# Defining Loss function\n",
    "criterion = nn.MSELoss()\n",
    "# Defining optimizer\n",
    "lr = 0.001\n",
    "optimizer = torch.optim.Adam(model.parameters(), lr=lr)"
   ]
  },
  {
   "cell_type": "code",
   "execution_count": null,
   "id": "23322ede",
   "metadata": {
    "scrolled": true
   },
   "outputs": [],
   "source": [
    "num_epochs = 20\n",
    "history = []\n",
    "\n",
    "iters = len(train_dataloader)\n",
    "scheduler = torch.optim.lr_scheduler.CyclicLR(\n",
    "    optimizer, base_lr=lr, max_lr=0.003, cycle_momentum=False\n",
    ")\n",
    "\n",
    "val_min_loss = None\n",
    "\n",
    "model_name = \"T_29_08\"\n",
    "\n",
    "for epoch in range(num_epochs):\n",
    "    train_running_loss = 0.0\n",
    "    model.train()\n",
    "    for i, batch in enumerate(tqdm(train_dataloader, position=0, leave=True)):\n",
    "        # Every data instance is an input + label pair\n",
    "        X_train1, X_train1_2023, y_train1 = batch[0].to(torch.float32).to(DEVICE), batch[1].to(torch.float32).to(DEVICE), batch[2].to(torch.float32).to(DEVICE)\n",
    "\n",
    "        # Make predictions for this batch\n",
    "        outputs = model(X_train1, X_train1_2023)\n",
    "\n",
    "        # Compute the loss and its gradients\n",
    "        loss = criterion(outputs, y_train1)\n",
    "        loss.backward()\n",
    "\n",
    "        # Adjust learning weights\n",
    "        optimizer.step()\n",
    "\n",
    "        # Zero your gradients for every batch!\n",
    "        optimizer.zero_grad()\n",
    "\n",
    "        # Gather data and report\n",
    "        train_running_loss += loss.item()\n",
    "\n",
    "    scheduler.step()\n",
    "    model.eval()\n",
    "    val_running_loss = 0.0\n",
    "\n",
    "    with torch.no_grad():\n",
    "        for i, batch in enumerate(tqdm(val_dataloader, position=0, leave=True)):\n",
    "            # Every data instance is an input + label pair\n",
    "            \n",
    "            X_val1, X_val1_2023, y_val1 = batch[0].xto(torch.float32).to(DEVICE), batch[1].to(torch.float32).to(DEVICE), batch[2].to(torch.float32).to(DEVICE)\n",
    "\n",
    "            # Make predictions for this batch\n",
    "            outputs = model(X_val1, X_val1_2023)\n",
    "            # Compute the loss and its gradients\n",
    "            loss = criterion(outputs, y_val1)\n",
    "\n",
    "            # Gather data and report\n",
    "            val_running_loss += loss.item()\n",
    "\n",
    "    mean_train_loss = train_running_loss / len(train_dataloader)\n",
    "    mean_val_loss = val_running_loss / len(val_dataloader)\n",
    "\n",
    "    if val_min_loss is None:\n",
    "        val_min_loss = mean_val_loss\n",
    "    else:\n",
    "        if mean_val_loss < val_min_loss:\n",
    "            val_min_loss = mean_val_loss\n",
    "            torch.save(model.state_dict(), f\"./models/{model_name}.pth\")\n",
    "\n",
    "    history.append([mean_train_loss, mean_val_loss])\n",
    "\n",
    "    print(\n",
    "        f\"Epoch [{epoch+1}/{num_epochs}]\\nTrain Loss: {round(mean_train_loss, 4)}\\nVal Loss: {round(mean_val_loss, 4)}\"\n",
    "    )"
   ]
  },
  {
   "cell_type": "code",
   "execution_count": null,
   "id": "1eb7506c",
   "metadata": {},
   "outputs": [],
   "source": [
    "predictions = model(X_val.to(torch.float32).to(DEVICE), X_val_2023.to(torch.float32).to(DEVICE)).detach().cpu().numpy()\n",
    "ground_truth = y_val.numpy()"
   ]
  },
  {
   "cell_type": "code",
   "execution_count": null,
   "id": "9aa7bc06",
   "metadata": {},
   "outputs": [],
   "source": [
    "plt.plot(history)\n",
    "plt.legend([\"train\", \"val\"])"
   ]
  },
  {
   "cell_type": "code",
   "execution_count": null,
   "id": "0d5ecf5a",
   "metadata": {},
   "outputs": [],
   "source": [
    "sns.kdeplot(ground_truth.flatten())\n",
    "sns.kdeplot( predictions.flatten())\n",
    "plt.legend([\"Ground truth\", \"Prediction\"])\n",
    "plt.show()"
   ]
  },
  {
   "cell_type": "code",
   "execution_count": null,
   "id": "52ee2f9d",
   "metadata": {},
   "outputs": [],
   "source": [
    "x_values = np.linspace(\n",
    "    min(predictions.min(), ground_truth.min()),\n",
    "    max(predictions.max(), ground_truth.max()),\n",
    "    1_000,\n",
    ")\n",
    "y_values = x_values\n",
    "\n",
    "plt.figure(figsize=(8, 6))\n",
    "sns.scatterplot(x=ground_truth.flatten(), y=predictions.flatten())\n",
    "\n",
    "plt.plot(x_values, y_values, color=\"red\", linestyle=\"dashed\", label=\"y = x\")\n",
    "\n",
    "plt.xlabel(\"Ground Truth\")\n",
    "plt.ylabel(\"Predictions\")\n",
    "plt.title(\"Scatter plot - Predictions vs. Ground Truth\")\n",
    "plt.legend()\n",
    "plt.show()"
   ]
  },
  {
   "cell_type": "markdown",
   "id": "7f2c67aa",
   "metadata": {},
   "source": [
    "### Check the distance datas"
   ]
  },
  {
   "cell_type": "code",
   "execution_count": 42,
   "id": "8abeb4ea",
   "metadata": {},
   "outputs": [],
   "source": [
    "data_decade_price_data_combined = pd.read_pickle(\"./data/decade_price_data_combined.pkl\")\n",
    "df_gesamt=pd.read_pickle('data/df_gesamt_15_08_prepocessed_einworner_added.pkl')"
   ]
  },
  {
   "cell_type": "code",
   "execution_count": 97,
   "id": "b28ae937",
   "metadata": {},
   "outputs": [],
   "source": [
    "distance_2018_new = pd.read_csv(\n",
    "    \"./data/distances/distances_2018_decade_price_data_01_09.csv\"\n",
    ")\n",
    "distance_2018_old = pd.read_csv(\n",
    "    \"./data/distances/distances_2018.csv\"\n",
    ")    \n",
    "distance_2019_new = pd.read_csv(\n",
    "    \"./data/distances/distances_2019_decade_price_data_01_09.csv\"\n",
    ")\n",
    "distance_2019_old = pd.read_csv(\n",
    "    \"./data/distances/distances_2019.csv\"\n",
    ")\n",
    "    \n",
    "distance_2020_new = pd.read_csv(\n",
    "    \"./data/distances/distances_2020_decade_price_data_01_09.csv\"\n",
    ")\n",
    "distance_2020_old = pd.read_csv(\n",
    "    \"./data/distances/distances_2020.csv\"\n",
    ")\n",
    "    \n",
    "distance_2021_new = pd.read_csv(\n",
    "    \"./data/distances/distances_2021_decade_price_data_01_09.csv\"\n",
    ")\n",
    "distance_2021_old = pd.read_csv(\n",
    "    \"./data/distances/distances_2021.csv\"\n",
    ")\n",
    "\n",
    "distance_2022_new = pd.read_csv(\n",
    "    \"./data/distances/distances_2022_decade_price_data_01_09.csv\"\n",
    ")\n",
    "distance_2022_old = pd.read_csv(\n",
    "    \"./data/distances/distances_2022.csv\"\n",
    ")\n",
    "\n",
    "distance_2023_new = pd.read_csv(\n",
    "    \"./data/distances/distances_2023_decade_price_data_01_09.csv\"\n",
    ")\n",
    "distance_2023_old = pd.read_csv(\n",
    "    \"./data/distances/distances_2023.csv\"\n",
    ")\n",
    "\n"
   ]
  },
  {
   "cell_type": "code",
   "execution_count": 98,
   "id": "72d6749d",
   "metadata": {},
   "outputs": [],
   "source": [
    "distances_old=[distance_2018_old, distance_2019_old, distance_2020_old, distance_2021_old, distance_2022_old, distance_2023_old]\n",
    "distances_new=[distance_2018_new, distance_2019_new, distance_2020_new, distance_2021_new, distance_2022_new, distance_2023_new]"
   ]
  },
  {
   "cell_type": "code",
   "execution_count": 107,
   "id": "1078028f",
   "metadata": {},
   "outputs": [
    {
     "data": {
      "text/plain": [
       "(1.3099772606478037, 1.3099772606478037)"
      ]
     },
     "execution_count": 107,
     "metadata": {},
     "output_type": "execute_result"
    }
   ],
   "source": [
    " hs.haversine([51.483259, 6.979812], [51.473259, 6.969812]),  hs.haversine([51.483259, 6.979812], [51.473259, 6.969812])"
   ]
  },
  {
   "cell_type": "code",
   "execution_count": 99,
   "id": "2f395133",
   "metadata": {},
   "outputs": [
    {
     "ename": "NameError",
     "evalue": "name 'haversine_distance' is not defined",
     "output_type": "error",
     "traceback": [
      "\u001b[0;31m---------------------------------------------------------------------------\u001b[0m",
      "\u001b[0;31mNameError\u001b[0m                                 Traceback (most recent call last)",
      "Cell \u001b[0;32mIn[99], line 2\u001b[0m\n\u001b[1;32m      1\u001b[0m \u001b[38;5;66;03m#with 9948\u001b[39;00m\n\u001b[0;32m----> 2\u001b[0m \u001b[43mhaversine_distance\u001b[49m(\u001b[38;5;241m51.483259\u001b[39m, \u001b[38;5;241m6.979812\u001b[39m,  \u001b[38;5;241m51.483267\u001b[39m, \u001b[38;5;241m6.979759\u001b[39m), hs\u001b[38;5;241m.\u001b[39mhaversine([\u001b[38;5;241m51.483259\u001b[39m, \u001b[38;5;241m6.979812\u001b[39m], [\u001b[38;5;241m51.483267\u001b[39m, \u001b[38;5;241m6.979759\u001b[39m])\n",
      "\u001b[0;31mNameError\u001b[0m: name 'haversine_distance' is not defined"
     ]
    }
   ],
   "source": [
    "#with 9948\n",
    "haversine_distance(51.483259, 6.979812,  51.483267, 6.979759), hs.haversine([51.483259, 6.979812], [51.483267, 6.979759])"
   ]
  },
  {
   "cell_type": "code",
   "execution_count": 33,
   "id": "d20f0524",
   "metadata": {},
   "outputs": [
    {
     "data": {
      "text/plain": [
       "(0.1103513634754132, 0.1103515158992083)"
      ]
     },
     "execution_count": 33,
     "metadata": {},
     "output_type": "execute_result"
    }
   ],
   "source": [
    "#with 786708\n",
    "haversine_distance(51.483259, 6.979812, 51.48424, 6.979571), hs.haversine([51.483259, 6.979812], [51.48424, 6.979571])"
   ]
  },
  {
   "cell_type": "code",
   "execution_count": 34,
   "id": "3aadd46d",
   "metadata": {},
   "outputs": [
    {
     "data": {
      "text/plain": [
       "(0.13059021725189798, 0.13059039763078856)"
      ]
     },
     "execution_count": 34,
     "metadata": {},
     "output_type": "execute_result"
    }
   ],
   "source": [
    "#with 814900\n",
    "haversine_distance(51.483259, 6.979812, 51.482842,6.978049), hs.haversine([51.483259, 6.979812], [51.482842,6.978049])"
   ]
  },
  {
   "cell_type": "code",
   "execution_count": 35,
   "id": "9f789a2e",
   "metadata": {},
   "outputs": [
    {
     "data": {
      "text/plain": [
       "(0.044719698801858776, 0.04471976057133757)"
      ]
     },
     "execution_count": 35,
     "metadata": {},
     "output_type": "execute_result"
    }
   ],
   "source": [
    "#with 842866.0\n",
    "haversine_distance(51.483259, 6.979812, 51.483031, 6.97928), hs.haversine([51.483259, 6.979812], [51.483031, 6.97928])"
   ]
  },
  {
   "cell_type": "markdown",
   "id": "2be3fc76",
   "metadata": {},
   "source": [
    "### Prediction Statistics "
   ]
  },
  {
   "cell_type": "code",
   "execution_count": 3,
   "id": "6675b0fe",
   "metadata": {},
   "outputs": [],
   "source": [
    "# Original price VS optimal price\n",
    "#ToDos: Add neighbors qids, plot each Qid with neighbors, "
   ]
  },
  {
   "cell_type": "code",
   "execution_count": 62,
   "id": "4abfae4c",
   "metadata": {},
   "outputs": [],
   "source": [
    "data = pd.read_pickle('data/decade_price_data_combined_01_09.pkl')"
   ]
  },
  {
   "cell_type": "code",
   "execution_count": 65,
   "id": "52bf0440",
   "metadata": {},
   "outputs": [],
   "source": [
    "qids = [9333, 9855, 9673, 9860]\n",
    "test_data = data[(data.GJ==2023)]"
   ]
  },
  {
   "cell_type": "code",
   "execution_count": 92,
   "id": "c88f8c19",
   "metadata": {},
   "outputs": [
    {
     "data": {
      "text/plain": [
       "{9333: 11.3, 9855: 11.3, 9673: 15.5, 9860: 12.3}"
      ]
     },
     "execution_count": 92,
     "metadata": {},
     "output_type": "execute_result"
    }
   ],
   "source": [
    "# original price\n",
    "original_price = {qids[i]:test_data.Preis.values[i] for i in range(len(qids))}\n",
    "original_price"
   ]
  },
  {
   "cell_type": "code",
   "execution_count": 67,
   "id": "49ceb7f3",
   "metadata": {},
   "outputs": [],
   "source": [
    "qids_with_neighbors=[]\n",
    "for qid in qids:\n",
    "    neighbors = distance_2023_new[(distance_2023_new.Qid1 == qid) & (distance_2023_new.Qid2 != qid)].Qid2.values\n",
    "    if len(neighbors):\n",
    "        qids_with_neighbors.append({qid:neighbors})"
   ]
  },
  {
   "cell_type": "code",
   "execution_count": 68,
   "id": "ca526f14",
   "metadata": {},
   "outputs": [
    {
     "data": {
      "text/plain": [
       "[{9333: array([  9339.,   9340.,   9350.,   9352.,   9394.,   9400.,   9404.,\n",
       "           9405.,   9502.,   9503.,   9525.,   9526.,   9641.,   9642.,\n",
       "           9815.,   9816.,   9817.,   9818.,   9846.,   9847.,   9858.,\n",
       "           9859.,   9932.,   9933., 785704., 931305., 931326.])},\n",
       " {9855: array([  9948.,  20457.,  20472.,  20594.,  20595.,  20643.,  20775.,\n",
       "          20917.,  20918.,  20919.,  20941.,  24605.,  26395.,  26396.,\n",
       "         327508., 327509., 344212., 814900., 840435., 842866., 887322.,\n",
       "         931310., 931324.])},\n",
       " {9673: array([9672., 9674.])}]"
      ]
     },
     "execution_count": 68,
     "metadata": {},
     "output_type": "execute_result"
    }
   ],
   "source": [
    "qids_with_neighbors"
   ]
  },
  {
   "cell_type": "code",
   "execution_count": 69,
   "id": "badc8df8",
   "metadata": {},
   "outputs": [
    {
     "data": {
      "text/plain": [
       "(320616    6.979812\n",
       " Name: Laenge, dtype: float64,\n",
       " 320616    51.483259\n",
       " Name: Breite, dtype: float64)"
      ]
     },
     "execution_count": 69,
     "metadata": {},
     "output_type": "execute_result"
    }
   ],
   "source": [
    "test_data[test_data.Qid == 9855].Laenge, test_data[test_data.Qid == 9855].Breite"
   ]
  },
  {
   "cell_type": "code",
   "execution_count": 93,
   "id": "820a0ef9",
   "metadata": {},
   "outputs": [],
   "source": [
    "# optimal price\n",
    "optimal_price = [11.3, 11 , 18, 27]\n",
    "optimal_price = {qids[i]:optimal_price[i] for i in range(len(qids))}"
   ]
  },
  {
   "cell_type": "code",
   "execution_count": 94,
   "id": "270d396c",
   "metadata": {},
   "outputs": [],
   "source": [
    "increased = 0\n",
    "decreased = 0\n",
    "unchanged = 0\n",
    "\n",
    "for original, predicted in zip(original_price.values(), optimal_price.values()):\n",
    "    price_difference = original - predicted\n",
    "\n",
    "    if price_difference > 0:\n",
    "        decreased += 1\n",
    "    elif price_difference < 0:\n",
    "        increased += 1\n",
    "    else:\n",
    "        unchanged += 1\n",
    "        \n"
   ]
  },
  {
   "cell_type": "code",
   "execution_count": 95,
   "id": "7fc00f1f",
   "metadata": {},
   "outputs": [
    {
     "name": "stdout",
     "output_type": "stream",
     "text": [
      "9333\n"
     ]
    },
    {
     "data": {
      "image/png": "[encoded data removed]",
      "text/plain": [
       "<Figure size 640x480 with 1 Axes>"
      ]
     },
     "metadata": {},
     "output_type": "display_data"
    },
    {
     "name": "stdout",
     "output_type": "stream",
     "text": [
      "9855\n"
     ]
    },
    {
     "data": {
      "image/png": "[encoded data removed]",
      "text/plain": [
       "<Figure size 640x480 with 1 Axes>"
      ]
     },
     "metadata": {},
     "output_type": "display_data"
    },
    {
     "name": "stdout",
     "output_type": "stream",
     "text": [
      "9673\n"
     ]
    },
    {
     "data": {
      "image/png": "[encoded data removed]",
      "text/plain": [
       "<Figure size 640x480 with 1 Axes>"
      ]
     },
     "metadata": {},
     "output_type": "display_data"
    }
   ],
   "source": [
    "increased = 0\n",
    "decreased = 0\n",
    "unchanged = 0\n",
    "\n",
    "for qid_dict in qids_with_neighbors:    \n",
    "    qid=list(qid_dict.keys())[0]\n",
    "    print(qid)\n",
    "    price_difference = original_price[qid] - optimal_price[qid]\n",
    "    \n",
    "    if price_difference > 0:\n",
    "        decreased += 1\n",
    "    elif price_difference < 0:\n",
    "        increased += 1\n",
    "    else:\n",
    "        unchanged += 1\n",
    "        \n",
    "    plt.scatter(x=test_data[test_data.Qid==qid].Laenge, y=test_data[test_data.Qid==qid].Breite, label=qid)\n",
    "    plt.scatter(test_data[test_data.Qid.isin(list(qids_with_neighbors[0].values())[0])].Laenge, test_data[test_data.Qid.isin(list(qids_with_neighbors[0].values())[0])].Breite)\n",
    "    plt.annotate(optimal_price[qid], (test_data[test_data.Qid==qid].Laenge+2e-5, test_data[test_data.Qid==qid].Breite+2e-5))\n",
    "\n",
    "    plt.legend(loc='lower right')\n",
    "    plt.show()"
   ]
  },
  {
   "cell_type": "code",
   "execution_count": 96,
   "id": "b5a21f5c",
   "metadata": {},
   "outputs": [
    {
     "data": {
      "image/png": "[encoded data removed]",
      "text/plain": [
       "<Figure size 640x480 with 1 Axes>"
      ]
     },
     "metadata": {},
     "output_type": "display_data"
    },
    {
     "data": {
      "image/png": "[encoded data removed]",
      "text/plain": [
       "<Figure size 640x480 with 1 Axes>"
      ]
     },
     "metadata": {},
     "output_type": "display_data"
    },
    {
     "data": {
      "image/png": "[encoded data removed]",
      "text/plain": [
       "<Figure size 640x480 with 1 Axes>"
      ]
     },
     "metadata": {},
     "output_type": "display_data"
    },
    {
     "data": {
      "image/png": "[encoded data removed]",
      "text/plain": [
       "<Figure size 640x480 with 1 Axes>"
      ]
     },
     "metadata": {},
     "output_type": "display_data"
    },
    {
     "data": {
      "image/png": "[encoded data removed]",
      "text/plain": [
       "<Figure size 640x480 with 1 Axes>"
      ]
     },
     "metadata": {},
     "output_type": "display_data"
    },
    {
     "name": "stdout",
     "output_type": "stream",
     "text": [
      "Increased: 2 50.0%\n",
      "Decreased: 1 25.0%\n",
      "Unchanged: 1 25.0%\n"
     ]
    }
   ],
   "source": [
    "increased = 0\n",
    "decreased = 0\n",
    "unchanged = 0\n",
    "\n",
    "for qid in qids:    \n",
    "    price_difference = original_price[qid] - optimal_price[qid]\n",
    "    \n",
    "    if price_difference > 0:\n",
    "        decreased += 1\n",
    "    elif price_difference < 0:\n",
    "        increased += 1\n",
    "    else:\n",
    "        unchanged += 1\n",
    "        \n",
    "    plt.scatter(x=test_data[test_data.Qid==qid].Laenge, y=test_data[test_data.Qid==qid].Breite, label=qid)\n",
    "\n",
    "#     plt.scatter(x=test_data[test_data.Qid==qid].Laenge+0.001, y=test_data[test_data.Qid==qid].Breite+0.02, c='black')\n",
    "    plt.annotate(optimal_price[qid], (test_data[test_data.Qid==qid].Laenge+2e-5, test_data[test_data.Qid==qid].Breite++2e-5))\n",
    "\n",
    "    plt.legend(loc='lower right')\n",
    "    plt.show()\n",
    "\n",
    "\n",
    "percentage = [increased, decreased, unchanged]\n",
    "label = ['Increased', 'Decreased', 'Unchanged']\n",
    "plt.pie(percentage, labels=label, autopct='%1.1f%%', colors=sns.color_palette('Set2'))\n",
    "plt.show()\n",
    "    \n",
    "total_prices = len(original_price)\n",
    "\n",
    "percentage_increased = (increased / total_prices) * 100\n",
    "percentage_decreased = (decreased / total_prices) * 100\n",
    "percentage_unchanged = (unchanged / total_prices) * 100\n",
    "\n",
    "print(f\"Increased: {increased} {percentage_increased}%\")\n",
    "print(f\"Decreased: {decreased} {percentage_decreased}%\")\n",
    "print(f\"Unchanged: {unchanged} {percentage_unchanged}%\")"
   ]
  },
  {
   "cell_type": "code",
   "execution_count": null,
   "id": "9910cb00",
   "metadata": {},
   "outputs": [],
   "source": [
    "## fig, ax = plt.subplots()\n",
    "percentage = [increased, decreased, unchanged]\n",
    "label = ['Increased', 'Decreased', 'Unchanged']\n",
    "plt.pie(percentage, labels=label, autopct='%1.1f%%')\n",
    "plt.show()"
   ]
  },
  {
   "cell_type": "code",
   "execution_count": 118,
   "id": "eaf62b73",
   "metadata": {},
   "outputs": [],
   "source": [
    "qid=106050"
   ]
  },
  {
   "cell_type": "code",
   "execution_count": 122,
   "id": "8bd98979",
   "metadata": {},
   "outputs": [],
   "source": [
    "distance=pd.read_csv('data/distances/test.csv')"
   ]
  },
  {
   "cell_type": "code",
   "execution_count": 149,
   "id": "9fa798c6",
   "metadata": {},
   "outputs": [
    {
     "data": {
      "text/html": [
       "<div>\n",
       "<style scoped>\n",
       "    .dataframe tbody tr th:only-of-type {\n",
       "        vertical-align: middle;\n",
       "    }\n",
       "\n",
       "    .dataframe tbody tr th {\n",
       "        vertical-align: top;\n",
       "    }\n",
       "\n",
       "    .dataframe thead th {\n",
       "        text-align: right;\n",
       "    }\n",
       "</style>\n",
       "<table border=\"1\" class=\"dataframe\">\n",
       "  <thead>\n",
       "    <tr style=\"text-align: right;\">\n",
       "      <th></th>\n",
       "      <th>Qid_1</th>\n",
       "      <th>Qid_2</th>\n",
       "      <th>Laenge_1</th>\n",
       "      <th>Breite_1</th>\n",
       "      <th>Laenge_2</th>\n",
       "      <th>Breite_2</th>\n",
       "      <th>distance</th>\n",
       "    </tr>\n",
       "  </thead>\n",
       "  <tbody>\n",
       "    <tr>\n",
       "      <th>172965</th>\n",
       "      <td>106050</td>\n",
       "      <td>106050</td>\n",
       "      <td>11.424496</td>\n",
       "      <td>48.142597</td>\n",
       "      <td>11.424496</td>\n",
       "      <td>48.142597</td>\n",
       "      <td>0.000000</td>\n",
       "    </tr>\n",
       "    <tr>\n",
       "      <th>172966</th>\n",
       "      <td>106050</td>\n",
       "      <td>106051</td>\n",
       "      <td>11.424496</td>\n",
       "      <td>48.142597</td>\n",
       "      <td>11.424490</td>\n",
       "      <td>48.142622</td>\n",
       "      <td>0.002755</td>\n",
       "    </tr>\n",
       "    <tr>\n",
       "      <th>172962</th>\n",
       "      <td>106050</td>\n",
       "      <td>105111</td>\n",
       "      <td>11.424496</td>\n",
       "      <td>48.142597</td>\n",
       "      <td>11.424460</td>\n",
       "      <td>48.142635</td>\n",
       "      <td>0.004968</td>\n",
       "    </tr>\n",
       "    <tr>\n",
       "      <th>172985</th>\n",
       "      <td>106050</td>\n",
       "      <td>348940</td>\n",
       "      <td>11.424496</td>\n",
       "      <td>48.142597</td>\n",
       "      <td>11.424252</td>\n",
       "      <td>48.142534</td>\n",
       "      <td>0.019415</td>\n",
       "    </tr>\n",
       "    <tr>\n",
       "      <th>172978</th>\n",
       "      <td>106050</td>\n",
       "      <td>111701</td>\n",
       "      <td>11.424496</td>\n",
       "      <td>48.142597</td>\n",
       "      <td>11.424284</td>\n",
       "      <td>48.142473</td>\n",
       "      <td>0.020935</td>\n",
       "    </tr>\n",
       "    <tr>\n",
       "      <th>...</th>\n",
       "      <td>...</td>\n",
       "      <td>...</td>\n",
       "      <td>...</td>\n",
       "      <td>...</td>\n",
       "      <td>...</td>\n",
       "      <td>...</td>\n",
       "      <td>...</td>\n",
       "    </tr>\n",
       "    <tr>\n",
       "      <th>172927</th>\n",
       "      <td>106050</td>\n",
       "      <td>738420</td>\n",
       "      <td>11.424496</td>\n",
       "      <td>48.142597</td>\n",
       "      <td>11.418060</td>\n",
       "      <td>48.141961</td>\n",
       "      <td>0.482787</td>\n",
       "    </tr>\n",
       "    <tr>\n",
       "      <th>172928</th>\n",
       "      <td>106050</td>\n",
       "      <td>738421</td>\n",
       "      <td>11.424496</td>\n",
       "      <td>48.142597</td>\n",
       "      <td>11.417943</td>\n",
       "      <td>48.141945</td>\n",
       "      <td>0.491618</td>\n",
       "    </tr>\n",
       "    <tr>\n",
       "      <th>182869</th>\n",
       "      <td>106050</td>\n",
       "      <td>735653</td>\n",
       "      <td>11.424496</td>\n",
       "      <td>48.142597</td>\n",
       "      <td>11.422578</td>\n",
       "      <td>48.147792</td>\n",
       "      <td>0.594861</td>\n",
       "    </tr>\n",
       "    <tr>\n",
       "      <th>182870</th>\n",
       "      <td>106050</td>\n",
       "      <td>735654</td>\n",
       "      <td>11.424496</td>\n",
       "      <td>48.142597</td>\n",
       "      <td>11.422651</td>\n",
       "      <td>48.147816</td>\n",
       "      <td>0.596266</td>\n",
       "    </tr>\n",
       "    <tr>\n",
       "      <th>182867</th>\n",
       "      <td>106050</td>\n",
       "      <td>397097</td>\n",
       "      <td>11.424496</td>\n",
       "      <td>48.142597</td>\n",
       "      <td>11.419733</td>\n",
       "      <td>48.147012</td>\n",
       "      <td>0.604874</td>\n",
       "    </tr>\n",
       "  </tbody>\n",
       "</table>\n",
       "<p>79 rows × 7 columns</p>\n",
       "</div>"
      ],
      "text/plain": [
       "         Qid_1   Qid_2   Laenge_1   Breite_1   Laenge_2   Breite_2  distance\n",
       "172965  106050  106050  11.424496  48.142597  11.424496  48.142597  0.000000\n",
       "172966  106050  106051  11.424496  48.142597  11.424490  48.142622  0.002755\n",
       "172962  106050  105111  11.424496  48.142597  11.424460  48.142635  0.004968\n",
       "172985  106050  348940  11.424496  48.142597  11.424252  48.142534  0.019415\n",
       "172978  106050  111701  11.424496  48.142597  11.424284  48.142473  0.020935\n",
       "...        ...     ...        ...        ...        ...        ...       ...\n",
       "172927  106050  738420  11.424496  48.142597  11.418060  48.141961  0.482787\n",
       "172928  106050  738421  11.424496  48.142597  11.417943  48.141945  0.491618\n",
       "182869  106050  735653  11.424496  48.142597  11.422578  48.147792  0.594861\n",
       "182870  106050  735654  11.424496  48.142597  11.422651  48.147816  0.596266\n",
       "182867  106050  397097  11.424496  48.142597  11.419733  48.147012  0.604874\n",
       "\n",
       "[79 rows x 7 columns]"
      ]
     },
     "execution_count": 149,
     "metadata": {},
     "output_type": "execute_result"
    }
   ],
   "source": [
    "distance_qid=distance[distance.Qid_1==qid].sort_values(by='distance')\n",
    "distance_qid"
   ]
  },
  {
   "cell_type": "code",
   "execution_count": 156,
   "id": "71e58483",
   "metadata": {},
   "outputs": [],
   "source": [
    "neighbourhood = {106050 : distance_qid[distance_qid['Qid_1']==qid].Qid_2.values}"
   ]
  },
  {
   "cell_type": "code",
   "execution_count": 157,
   "id": "4b87f9d9",
   "metadata": {},
   "outputs": [
    {
     "data": {
      "text/plain": [
       "{106050: array([106050, 106051, 105111, 348940, 111701, 111702, 820331, 111703,\n",
       "        820333, 111713, 111712, 111714, 106856, 106857, 106858, 108824,\n",
       "        107765, 106855, 751795, 109805, 104595, 104455, 111087, 111711,\n",
       "         96682,  96683, 104448, 104447, 104965, 104966, 104608, 104609,\n",
       "         87739,  86739,  96482,  96150,  96483,  96151, 100097,  97902,\n",
       "         86738, 106061,  86737,  86938, 106209, 109804,  88970, 105854,\n",
       "         88967,  97900,  88968,  88969, 105303,  97901, 398152,  97903,\n",
       "        100100, 104815, 100099, 100098,  98232, 396629, 396630, 802280,\n",
       "        397087, 847823,  97191, 761279,  97192, 106844, 796912, 796911,\n",
       "        107572, 107949, 738420, 738421, 735653, 735654, 397097])}"
      ]
     },
     "execution_count": 157,
     "metadata": {},
     "output_type": "execute_result"
    }
   ],
   "source": [
    "neighbourhood"
   ]
  },
  {
   "cell_type": "code",
   "execution_count": 167,
   "id": "9faaaec3",
   "metadata": {},
   "outputs": [],
   "source": [
    "neighbours_coords = distance_qid[distance_qid.Qid_2.isin(neighbourhood[qid][1:])][[\"Laenge_2\", \"Breite_2\"]].values.T"
   ]
  },
  {
   "cell_type": "code",
   "execution_count": 183,
   "id": "14e2d570",
   "metadata": {},
   "outputs": [
    {
     "data": {
      "text/plain": [
       "[11.4244902886, 48.1426216111]"
      ]
     },
     "execution_count": 183,
     "metadata": {},
     "output_type": "execute_result"
    }
   ],
   "source": [
    "list(map(list, zip(*neighbours_coords)))"
   ]
  },
  {
   "cell_type": "code",
   "execution_count": 194,
   "id": "04e29862",
   "metadata": {},
   "outputs": [
    {
     "data": {
      "text/plain": [
       "106050"
      ]
     },
     "execution_count": 194,
     "metadata": {},
     "output_type": "execute_result"
    }
   ],
   "source": [
    "qid"
   ]
  },
  {
   "cell_type": "code",
   "execution_count": 244,
   "id": "4c6f5f8f",
   "metadata": {},
   "outputs": [],
   "source": [
    "distance_2018_new[distance_2018_new.Qid1==qid].Qid2.values\n",
    "old_neighbors=data[(data.Qid.isin(distance_2018_new[distance_2018_new.Qid1==qid].Qid2.values))&(data.GJ==2018)][[\"Laenge\", \"Breite\"]]\n",
    "# old_neighbors.values.T"
   ]
  },
  {
   "cell_type": "code",
   "execution_count": null,
   "id": "e2842e03",
   "metadata": {},
   "outputs": [],
   "source": []
  },
  {
   "cell_type": "code",
   "execution_count": 265,
   "id": "2135e7c0",
   "metadata": {},
   "outputs": [
    {
     "data": {
      "image/png": "[encoded data removed]",
      "text/plain": [
       "<Figure size 2000x800 with 1 Axes>"
      ]
     },
     "metadata": {},
     "output_type": "display_data"
    }
   ],
   "source": [
    "self_coords = [distance_qid[[\"Laenge_1\", \"Breite_1\"]].values.T[0][0], distance_qid[[\"Laenge_1\", \"Breite_1\"]].values.T[1][0]]\n",
    "neighbours_coords = distance_qid[distance_qid.Qid_2.isin(neighbourhood[qid][1:])][[\"Laenge_2\", \"Breite_2\"]].values.T\n",
    "\n",
    "fig, ax = plt.subplots(figsize=(20, 8))\n",
    "ax.scatter(self_coords[0],self_coords[1], linewidths=10, c='red')\n",
    "for i, neighbour in enumerate(list(map(list, zip(*neighbours_coords)))):\n",
    "    ax.scatter(x=neighbour[0], y=neighbour[1], s=8, c='blue', linewidths=3)\n",
    "plt.show()"
   ]
  },
  {
   "cell_type": "code",
   "execution_count": 266,
   "id": "50d95d8b",
   "metadata": {},
   "outputs": [
    {
     "data": {
      "text/plain": [
       "11.4244961107"
      ]
     },
     "execution_count": 266,
     "metadata": {},
     "output_type": "execute_result"
    }
   ],
   "source": [
    "self_coords[0]"
   ]
  },
  {
   "cell_type": "code",
   "execution_count": 267,
   "id": "6b641437",
   "metadata": {},
   "outputs": [
    {
     "data": {
      "text/plain": [
       "11.4292595204"
      ]
     },
     "execution_count": 267,
     "metadata": {},
     "output_type": "execute_result"
    }
   ],
   "source": [
    "neighbour[0]+2*abs(self_coords[0]-neighbour[0].min())"
   ]
  },
  {
   "cell_type": "code",
   "execution_count": 273,
   "id": "db406383",
   "metadata": {},
   "outputs": [
    {
     "name": "stdout",
     "output_type": "stream",
     "text": [
      "11.4244902886 48.1426216111\n"
     ]
    },
    {
     "data": {
      "image/png": "[encoded data removed]",
      "text/plain": [
       "<Figure size 2000x800 with 1 Axes>"
      ]
     },
     "metadata": {},
     "output_type": "display_data"
    }
   ],
   "source": [
    "self_coords = [distance_qid[[\"Laenge_1\", \"Breite_1\"]].values.T[0][0], distance_qid[[\"Laenge_1\", \"Breite_1\"]].values.T[1][0]]\n",
    "old_neighbors=data[(data.Qid.isin(distance_2018_new[distance_2018_new.Qid1==qid].Qid2.values))&(data.GJ==2018)][[\"Laenge\", \"Breite\"]].values[1:].T\n",
    "\n",
    "fig, ax = plt.subplots(figsize=(20, 8))\n",
    "ax.scatter(self_coords[0],self_coords[1], linewidths=10, c='red')\n",
    "for i, neighbour in enumerate(list(map(list, zip(*old_neighbors)))):\n",
    "    print(neighbour[0], neighbour[1])\n",
    "    ax.scatter(x=neighbour[0], y= neighbour[1], s=8, c='blue', linewidths=3)\n",
    "ax.scatter(x=neighbour[0]+2*abs(self_coords[0]-neighbour[0].min()), y= neighbour[1], s=8, c='w', linewidths=3)\n",
    "plt.show()"
   ]
  },
  {
   "cell_type": "code",
   "execution_count": 170,
   "id": "ece925dd",
   "metadata": {},
   "outputs": [
    {
     "ename": "NameError",
     "evalue": "name 'qid_data' is not defined",
     "output_type": "error",
     "traceback": [
      "\u001b[0;31m---------------------------------------------------------------------------\u001b[0m",
      "\u001b[0;31mNameError\u001b[0m                                 Traceback (most recent call last)",
      "Cell \u001b[0;32mIn[170], line 11\u001b[0m\n\u001b[1;32m      8\u001b[0m \u001b[38;5;28;01mif\u001b[39;00m \u001b[38;5;28mlen\u001b[39m(neighbours_coords[\u001b[38;5;241m0\u001b[39m]):\n\u001b[1;32m     10\u001b[0m     diff \u001b[38;5;241m=\u001b[39m \u001b[38;5;28mabs\u001b[39m(self_coords[\u001b[38;5;241m1\u001b[39m]\u001b[38;5;241m-\u001b[39mneighbours_coords[\u001b[38;5;241m1\u001b[39m]\u001b[38;5;241m.\u001b[39mmax())\u001b[38;5;241m/\u001b[39m\u001b[38;5;241m14\u001b[39m\n\u001b[0;32m---> 11\u001b[0m     color \u001b[38;5;241m=\u001b[39m (\u001b[43mqid_data\u001b[49m[k]\u001b[38;5;241m.\u001b[39mOptimal_preis\u001b[38;5;241m-\u001b[39mqid_data[k]\u001b[38;5;241m.\u001b[39mPreis)\u001b[38;5;241m/\u001b[39mqid_data[k]\u001b[38;5;241m.\u001b[39mPreis\u001b[38;5;241m*\u001b[39m\u001b[38;5;241m100\u001b[39m\n\u001b[1;32m     13\u001b[0m     fig, ax \u001b[38;5;241m=\u001b[39m plt\u001b[38;5;241m.\u001b[39msubplots(figsize\u001b[38;5;241m=\u001b[39m(\u001b[38;5;241m20\u001b[39m, \u001b[38;5;241m8\u001b[39m))\n\u001b[1;32m     14\u001b[0m     ax\u001b[38;5;241m.\u001b[39mscatter(\u001b[38;5;241m*\u001b[39mself_coords, linewidths\u001b[38;5;241m=\u001b[39m\u001b[38;5;241m10\u001b[39m, c\u001b[38;5;241m=\u001b[39m[cmap(norm(color[\u001b[38;5;241m0\u001b[39m]))] )\n",
      "\u001b[0;31mNameError\u001b[0m: name 'qid_data' is not defined"
     ]
    }
   ],
   "source": [
    "cmap_red = plt.get_cmap('Reds_r')  \n",
    "cmap_green = plt.get_cmap('Greens')\n",
    " \n",
    "\n",
    "\n",
    "if len(neighbours_coords[0]):\n",
    "\n",
    "    diff = abs(self_coords[1]-neighbours_coords[1].max())/14\n",
    "    color = (qid_data[k].Optimal_preis-qid_data[k].Preis)/qid_data[k].Preis*100\n",
    "\n",
    "    fig, ax = plt.subplots(figsize=(20, 8))\n",
    "    ax.scatter(*self_coords, linewidths=10, c=[cmap(norm(color[0]))] )\n",
    "    ax.annotate(xy=(self_coords[0], self_coords[1]+diff), text=int(neighbourhood[qid][0]), weight='bold', size=11)\n",
    "\n",
    "\n",
    "    for i, neighbour in enumerate(list(map(list, zip(*neighbours_coords)))):\n",
    "        if color[i+1] > 0:\n",
    "            cmap = plt.get_cmap('Greens')\n",
    "            norm = plt.Normalize(0, 20)\n",
    "        else:\n",
    "            cmap = plt.get_cmap('Reds_r')\n",
    "            norm = plt.Normalize(-20, 0)\n",
    "        ax.scatter(x=neighbour[0], y= neighbour[1], s=80, c=[cmap(norm(color[i+1]))], linewidths=3)\n",
    "\n",
    "\n",
    "    ax.scatter(x=neighbour[0]+2*abs(self_coords[0]-neighbours_coords[0].min()), y=neighbour[1], s=80, c='w', linewidths=3)\n",
    "    ax.set_facecolor(\"white\")\n",
    "\n",
    "    sm = plt.cm.ScalarMappable(cmap=cmap_red, norm=plt.Normalize(-100, 0))\n",
    "    sm.set_array([])  \n",
    "    cbar = plt.colorbar(sm, ax=ax)\n",
    "    cbar.set_label('Price decreased')  \n",
    "\n",
    "\n",
    "    sm = plt.cm.ScalarMappable(cmap=cmap_green, norm=plt.Normalize(0, 100))\n",
    "    sm.set_array([])  \n",
    "    cbar = plt.colorbar(sm, ax=ax)\n",
    "    cbar.set_label('Price increased')  \n",
    "    ax.set_xticks([]) \n",
    "    ax.set_yticks([]) \n",
    "\n",
    "    plt.show()"
   ]
  },
  {
   "cell_type": "code",
   "execution_count": null,
   "id": "327407cb",
   "metadata": {},
   "outputs": [],
   "source": []
  }
 ],
 "metadata": {
  "kernelspec": {
   "display_name": "Python 3 (ipykernel)",
   "language": "python",
   "name": "python3"
  },
  "language_info": {
   "codemirror_mode": {
    "name": "ipython",
    "version": 3
   },
   "file_extension": ".py",
   "mimetype": "text/x-python",
   "name": "python",
   "nbconvert_exporter": "python",
   "pygments_lexer": "ipython3",
   "version": "3.9.12"
  }
 },
 "nbformat": 4,
 "nbformat_minor": 5
}
