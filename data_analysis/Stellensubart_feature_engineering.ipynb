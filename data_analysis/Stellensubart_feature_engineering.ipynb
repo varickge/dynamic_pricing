{
 "cells": [
  {
   "cell_type": "code",
   "execution_count": 1,
   "id": "1ee84ae1",
   "metadata": {},
   "outputs": [],
   "source": [
    "from utils import *"
   ]
  },
  {
   "cell_type": "code",
   "execution_count": 2,
   "id": "2e21c5f9",
   "metadata": {},
   "outputs": [],
   "source": [
    "data = pd.read_pickle(\"./data/df_gesamt_10_08.pkl\")"
   ]
  },
  {
   "cell_type": "code",
   "execution_count": 3,
   "id": "a87457e0",
   "metadata": {},
   "outputs": [],
   "source": [
    "def binary_encode(data, column):\n",
    "    \n",
    "    # get int value for each unique value of the column\n",
    "    label_mapping = {k: v for v, k in enumerate(data[column].unique())}\n",
    "    int_encoded = data[column].map(label_mapping)\n",
    "    \n",
    "    # get maximum bit length\n",
    "    max_bin_len = int(int_encoded.max()).bit_length()\n",
    "    \n",
    "    # encode the decimal numbers into binary values and split by columns\n",
    "    binary_encoded = (\n",
    "        int_encoded.apply(lambda x: format(x, f\"0{max_bin_len}b\"))\n",
    "        .str.split(\"\", expand=True)\n",
    "        .iloc[:, 1:-1]\n",
    "        .astype(float)\n",
    "    )\n",
    "\n",
    "    return binary_encoded"
   ]
  },
  {
   "cell_type": "code",
   "execution_count": 4,
   "id": "4c788e37",
   "metadata": {},
   "outputs": [],
   "source": [
    "data_stellensubart = data[[\"Stellensubart\"]].copy()"
   ]
  },
  {
   "cell_type": "code",
   "execution_count": 5,
   "id": "e2ed24de",
   "metadata": {},
   "outputs": [],
   "source": [
    "binary_encoded = binary_encode(data_stellensubart, \"Stellensubart\")\n",
    "binary_encoded_column_names = [f\"Stellensubart_binary_encoded_{j}\" for j in range(binary_encoded.shape[-1])]\n",
    "data_stellensubart[binary_encoded_column_names] = binary_encoded"
   ]
  },
  {
   "cell_type": "code",
   "execution_count": 6,
   "id": "5b168f6d",
   "metadata": {},
   "outputs": [],
   "source": [
    "one_hot_encoded = pd.get_dummies(data_stellensubart[\"Stellensubart\"], drop_first=True, ).astype(float)"
   ]
  },
  {
   "cell_type": "code",
   "execution_count": 7,
   "id": "db625657",
   "metadata": {},
   "outputs": [],
   "source": [
    "data_stellensubart = pd.concat([data_stellensubart, one_hot_encoded], axis=1)"
   ]
  },
  {
   "cell_type": "code",
   "execution_count": 8,
   "id": "76231e2b",
   "metadata": {},
   "outputs": [
    {
     "data": {
      "text/plain": [
       "((813074, 4), (813074, 15))"
      ]
     },
     "execution_count": 8,
     "metadata": {},
     "output_type": "execute_result"
    }
   ],
   "source": [
    "binary_encoded.shape, one_hot_encoded.shape"
   ]
  },
  {
   "cell_type": "code",
   "execution_count": 9,
   "id": "97aa0c0d",
   "metadata": {},
   "outputs": [
    {
     "name": "stdout",
     "output_type": "stream",
     "text": [
      "The number of the colums is reduced 3.75 times\n",
      "The stiffness  is reduced 2.61 times\n"
     ]
    }
   ],
   "source": [
    "k = one_hot_encoded.shape[-1] / binary_encoded.shape[-1]\n",
    "n = binary_encoded.mean().mean() / one_hot_encoded.mean().mean()\n",
    "print(f\"The number of the colums is reduced {k:.2f} times\")\n",
    "print(f\"The stiffness  is reduced {n:.2f} times\")"
   ]
  }
 ],
 "metadata": {
  "kernelspec": {
   "display_name": "Python 3 (ipykernel)",
   "language": "python",
   "name": "python3"
  },
  "language_info": {
   "codemirror_mode": {
    "name": "ipython",
    "version": 3
   },
   "file_extension": ".py",
   "mimetype": "text/x-python",
   "name": "python",
   "nbconvert_exporter": "python",
   "pygments_lexer": "ipython3",
   "version": "3.9.12"
  }
 },
 "nbformat": 4,
 "nbformat_minor": 5
}
