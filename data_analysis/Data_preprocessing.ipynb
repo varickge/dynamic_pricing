{
 "cells": [
  {
   "cell_type": "code",
   "execution_count": 9,
   "id": "2a0eff43",
   "metadata": {},
   "outputs": [],
   "source": [
    "import pandas as pd\n",
    "import numpy as np\n",
    "import matplotlib.pyplot as plt\n",
    "import seaborn as sns\n",
    "from tqdm.notebook import tqdm\n",
    "from geopy.geocoders import Nominatim\n",
    "import requests, re"
   ]
  },
  {
   "cell_type": "code",
   "execution_count": 10,
   "id": "320e2c4b",
   "metadata": {},
   "outputs": [],
   "source": [
    "data = pd.read_pickle(\"./data/df_gesamt_10_08.pkl\")"
   ]
  },
  {
   "cell_type": "markdown",
   "id": "fcef9f19",
   "metadata": {},
   "source": [
    "# Check data"
   ]
  },
  {
   "cell_type": "code",
   "execution_count": 11,
   "id": "d6c7f9b7",
   "metadata": {},
   "outputs": [
    {
     "data": {
      "text/plain": [
       "0"
      ]
     },
     "execution_count": 11,
     "metadata": {},
     "output_type": "execute_result"
    }
   ],
   "source": [
    "data.Qid.isna().sum()"
   ]
  },
  {
   "cell_type": "code",
   "execution_count": 12,
   "id": "3810be09",
   "metadata": {},
   "outputs": [
    {
     "data": {
      "text/plain": [
       "0"
      ]
     },
     "execution_count": 12,
     "metadata": {},
     "output_type": "execute_result"
    }
   ],
   "source": [
    "(data.Preis == 0).sum()"
   ]
  },
  {
   "cell_type": "code",
   "execution_count": 13,
   "id": "08d73ed2",
   "metadata": {},
   "outputs": [],
   "source": [
    "def binary_encode(data, column):\n",
    "    label_mapping = {k: v for v, k in enumerate(data[column].unique())}\n",
    "    int_encoded = data[[column]].copy().map(label_mapping)\n",
    "\n",
    "    max_bin_len = int(int_encoded.max()).bit_length()\n",
    "    ort_binary_encoded = (\n",
    "        int_encoded.apply(lambda x: format(x, f\"0{max_bin_len}b\"))\n",
    "        .str.split(\"\", expand=True)\n",
    "        .iloc[:, 1:-1]\n",
    "        .astype(float)\n",
    "    )\n",
    "\n",
    "    return ort_binary_encoded"
   ]
  },
  {
   "cell_type": "markdown",
   "id": "15fd8900",
   "metadata": {},
   "source": [
    "## Check the 'Object' dtypes "
   ]
  },
  {
   "cell_type": "code",
   "execution_count": 14,
   "id": "df6f8f16",
   "metadata": {
    "scrolled": false
   },
   "outputs": [
    {
     "name": "stdout",
     "output_type": "stream",
     "text": [
      "Ort \n",
      " ['Adenbüttel' 'Leiferde' 'Wendeburg' ... 'Eitensheim'\n",
      " 'Rain (Straubing-Bogen)' 'Buchholz (Aller)']\n",
      "(5465,) \n",
      "\n",
      "Au \n",
      " ['222' '025' '089' '368' '252' '400' '135' '118' '336' '400.0' '086' '073'\n",
      " '132' '518.0' '399.0' '525.0' '607.0' '085' '076' '220' '222.0' '25.0'\n",
      " '89.0' '368.0' '252.0' '135.0' '118.0' '86.0' '73.0' '132.0' '85.0'\n",
      " '76.0' '220.0']\n",
      "(33,) \n",
      "\n",
      "Stellenart \n",
      " ['GF']\n",
      "(1,) \n",
      "\n",
      "Stellensubart \n",
      " ['ST' 'EK' 'SE' 'QA' 'BF' 'PH' 'BU' 'CI' 'BX' 'WH' 'BS' 'PP' 'FH' 'SZ'\n",
      " 'BL' 'CP']\n",
      "(16,) \n",
      "\n",
      "Beleuchtet \n",
      " ['U' 'B']\n",
      "(2,) \n",
      "\n"
     ]
    }
   ],
   "source": [
    "object_columns = data.select_dtypes(include=\"object\").columns\n",
    "\n",
    "for col in object_columns:\n",
    "    print(col, \"\\n\", data[col].unique())\n",
    "    print(data[col].unique().shape, \"\\n\")"
   ]
  },
  {
   "cell_type": "markdown",
   "id": "622fe7eb",
   "metadata": {},
   "source": [
    "## Convert some cols to numerical"
   ]
  },
  {
   "cell_type": "code",
   "execution_count": 15,
   "id": "7c59820c",
   "metadata": {},
   "outputs": [],
   "source": [
    "data[\"GJ\"] = data[\"GJ\"].astype(float, errors=\"raise\")"
   ]
  },
  {
   "cell_type": "markdown",
   "id": "6b40614d",
   "metadata": {},
   "source": [
    "# drop Stellenart"
   ]
  },
  {
   "cell_type": "code",
   "execution_count": 16,
   "id": "878852bd",
   "metadata": {},
   "outputs": [],
   "source": [
    "data = data.drop(\"Stellenart\", axis=1)"
   ]
  },
  {
   "cell_type": "markdown",
   "id": "055122e4",
   "metadata": {},
   "source": [
    "# drop Stellen"
   ]
  },
  {
   "cell_type": "code",
   "execution_count": null,
   "id": "74a59f16",
   "metadata": {},
   "outputs": [],
   "source": [
    "data = data.drop(\"Stellen\", axis=1)  # check later"
   ]
  },
  {
   "cell_type": "markdown",
   "id": "8691388d",
   "metadata": {},
   "source": [
    "## Drop Au (the information is in the column Eigenfläche)"
   ]
  },
  {
   "cell_type": "code",
   "execution_count": null,
   "id": "b4045596",
   "metadata": {},
   "outputs": [],
   "source": [
    "data[\"Eigenfläche\"] = data[\"Eigenfläche\"].astype(float)"
   ]
  },
  {
   "cell_type": "code",
   "execution_count": null,
   "id": "70ea2a62",
   "metadata": {},
   "outputs": [],
   "source": [
    "data = data.drop(\"Au\", axis=1)"
   ]
  },
  {
   "cell_type": "markdown",
   "id": "d04ce335",
   "metadata": {},
   "source": [
    "# One Hot Encode  Beleuchtet cols"
   ]
  },
  {
   "cell_type": "code",
   "execution_count": null,
   "id": "ac1558bb",
   "metadata": {},
   "outputs": [],
   "source": [
    "from sklearn.preprocessing import OneHotEncoder\n",
    "from joblib import dump"
   ]
  },
  {
   "cell_type": "code",
   "execution_count": null,
   "id": "d7e4ad27",
   "metadata": {},
   "outputs": [],
   "source": [
    "beleuchtet_encoder = OneHotEncoder(sparse_output=False, drop=\"first\")"
   ]
  },
  {
   "cell_type": "code",
   "execution_count": null,
   "id": "d34ceec5",
   "metadata": {},
   "outputs": [],
   "source": [
    "data[\"Beleuchtet\"] = beleuchtet_encoder.fit_transform(data[[\"Beleuchtet\"]])"
   ]
  },
  {
   "cell_type": "code",
   "execution_count": null,
   "id": "8172c9ee",
   "metadata": {},
   "outputs": [],
   "source": [
    "dump(beleuchtet_encoder, \"./data/encoders/beleuchtet_encoder.joblib\");"
   ]
  },
  {
   "cell_type": "markdown",
   "id": "40ab3780",
   "metadata": {},
   "source": [
    "# Encode the Stellensubart col"
   ]
  },
  {
   "cell_type": "code",
   "execution_count": null,
   "id": "e7cb1495",
   "metadata": {},
   "outputs": [],
   "source": [
    "encoded_stellensubart = binary_encode(data, \"Stellensubart\")"
   ]
  },
  {
   "cell_type": "code",
   "execution_count": null,
   "id": "a7b6af1b",
   "metadata": {},
   "outputs": [],
   "source": [
    "data[\n",
    "    [\"Stellensubart_1\", \"Stellensubart_2\", \"Stellensubart_3\", \"Stellensubart_4\"]\n",
    "] = encoded_stellensubart"
   ]
  },
  {
   "cell_type": "code",
   "execution_count": null,
   "id": "0942212c",
   "metadata": {},
   "outputs": [],
   "source": [
    "data.drop(columns=\"Stellensubart\", inplace=True)"
   ]
  },
  {
   "cell_type": "markdown",
   "id": "5fe31f60",
   "metadata": {},
   "source": [
    "# Handle missng values of Einwohner"
   ]
  },
  {
   "cell_type": "code",
   "execution_count": null,
   "id": "7dfbdf9d",
   "metadata": {},
   "outputs": [],
   "source": [
    "def get_population(city_name):\n",
    "    url = f\"https://en.wikipedia.org/wiki/{city_name}\"\n",
    "\n",
    "    response = requests.get(url)\n",
    "    source = response.text\n",
    "\n",
    "    result = re.findall(\"\"\"<td class=\"infobox-data\">(\\d+,\\d+)</td>\"\"\", source)\n",
    "\n",
    "    if len(result):\n",
    "        return float(result[0].replace(\",\", \"\"))\n",
    "    else:\n",
    "        return None"
   ]
  },
  {
   "cell_type": "code",
   "execution_count": null,
   "id": "081e077e",
   "metadata": {},
   "outputs": [],
   "source": [
    "data[\"Einwohner\"] = data.groupby([\"Ort\", \"GJ\"])[\"Einwohner\"].transform(\n",
    "    lambda group: group.ffill().bfill()\n",
    ")"
   ]
  },
  {
   "cell_type": "code",
   "execution_count": null,
   "id": "1a4b71ed",
   "metadata": {},
   "outputs": [],
   "source": [
    "missing_city_names = data[data.Einwohner.isna()].Ort.unique()"
   ]
  },
  {
   "cell_type": "code",
   "execution_count": null,
   "id": "4796a6f6",
   "metadata": {},
   "outputs": [],
   "source": [
    "result_map = {}\n",
    "\n",
    "for city_name in missing_city_names:\n",
    "    population = get_population(city_name)\n",
    "    result_map[city_name] = population\n",
    "\n",
    "result_map[\"Wörthsee\"] = 0  # It is a sea\n",
    "result_map[\"Winterbach (Rems-Murr-Kreis)\"] = 7671\n",
    "result_map[\"Lohmen (Sächsische Schweiz-Osterzgebirge)\"] = 3112\n",
    "result_map[\"Bruck i.d.OPf.\"] = 4524\n",
    "result_map[\"Anger\"] = 4526\n",
    "result_map[\"Hillesheim (Mainz-Bingen)\"] = 672\n",
    "result_map[\"Schömberg (Calw)\"] = 8068\n",
    "result_map[\"Steinach (Sonneberg)\"] = 3688\n",
    "result_map[\"Steinberg (Vogtlandkreis)\"] = 2681\n",
    "result_map[\"Plate\"] = 3312\n",
    "result_map[\"Eisenach (Eisenach)\"] = 41806"
   ]
  },
  {
   "cell_type": "code",
   "execution_count": null,
   "id": "fbf01280",
   "metadata": {},
   "outputs": [],
   "source": [
    "for key, value in result_map.items():\n",
    "    idx = data[data.Ort == key].index\n",
    "    data.loc[idx, \"Einwohner\"] = value"
   ]
  },
  {
   "cell_type": "code",
   "execution_count": null,
   "id": "a11b50e2",
   "metadata": {},
   "outputs": [],
   "source": [
    "data.Einwohner.isna().sum()"
   ]
  },
  {
   "cell_type": "markdown",
   "id": "2e974fd2",
   "metadata": {},
   "source": [
    "## Handle the missing values of PLZ code using geopy"
   ]
  },
  {
   "cell_type": "code",
   "execution_count": null,
   "id": "0826afc3",
   "metadata": {},
   "outputs": [],
   "source": [
    "data[\"PLZ\"] = data.groupby(\"Qid\")[\"PLZ\"].transform(lambda group: group.ffill().bfill())"
   ]
  },
  {
   "cell_type": "code",
   "execution_count": null,
   "id": "fe04e59a",
   "metadata": {},
   "outputs": [],
   "source": [
    "geo_locator = Nominatim(user_agent=\"geoapiExercises\")"
   ]
  },
  {
   "cell_type": "code",
   "execution_count": null,
   "id": "46ce2c92",
   "metadata": {},
   "outputs": [],
   "source": [
    "unknown_plz = data[data[\"PLZ\"].isna()]\n",
    "\n",
    "for index, row in tqdm(unknown_plz.iterrows(), total=len(unknown_plz)):\n",
    "    coords = f\"\"\"{row[\"Breite\"]},{row[\"Laenge\"]}\"\"\"\n",
    "    location = geo_locator.geocode(coords)\n",
    "    data.loc[index, \"PLZ\"] = float(location[0].split(\",\")[-2].strip())"
   ]
  },
  {
   "cell_type": "markdown",
   "id": "d670d9a7",
   "metadata": {},
   "source": [
    "### Check those rows that have \"0\" PLZ and correct"
   ]
  },
  {
   "cell_type": "code",
   "execution_count": null,
   "id": "f0859ca5",
   "metadata": {},
   "outputs": [],
   "source": [
    "zero_plz = data[data[\"PLZ\"] == 0]\n",
    "\n",
    "for index, row in tqdm(zero_plz.iterrows(), total=len(zero_plz)):\n",
    "    coords = f\"\"\"{row[\"Breite\"]},{row[\"Laenge\"]}\"\"\"\n",
    "    location = geo_locator.geocode(coords)\n",
    "    data.loc[index, \"PLZ\"] = float(location[0].split(\",\")[-2].strip())"
   ]
  },
  {
   "cell_type": "code",
   "execution_count": null,
   "id": "fc54c0c8",
   "metadata": {},
   "outputs": [],
   "source": [
    "data[\"PLZ\"] = data[\"PLZ\"].astype(float)"
   ]
  },
  {
   "cell_type": "markdown",
   "id": "0c609aaa",
   "metadata": {},
   "source": [
    "# Handle the missing values of Ort code using geopy"
   ]
  },
  {
   "cell_type": "code",
   "execution_count": null,
   "id": "81496aeb",
   "metadata": {},
   "outputs": [],
   "source": [
    "missing_cities = data[data[\"Ort\"].isna()]\n",
    "\n",
    "for index, row in tqdm(missing_cities.iterrows()):\n",
    "    coords = f\"\"\"{row[\"Breite\"]},{row[\"Laenge\"]}\"\"\"\n",
    "    location = geo_locator.geocode(coords)\n",
    "    data.loc[index, \"Ort\"] = location[0].split(\",\")[2].strip()"
   ]
  },
  {
   "cell_type": "markdown",
   "id": "e530beb4",
   "metadata": {},
   "source": [
    "# Handle missting values of PPSVACWert"
   ]
  },
  {
   "cell_type": "code",
   "execution_count": null,
   "id": "61e83d86",
   "metadata": {},
   "outputs": [],
   "source": [
    "data[\"PPSVACWert\"] = data.groupby(\"Qid\")[\"PPSVACWert\"].transform(\n",
    "    lambda group: group.ffill().bfill()\n",
    ")"
   ]
  },
  {
   "cell_type": "code",
   "execution_count": null,
   "id": "4a8f5899",
   "metadata": {},
   "outputs": [],
   "source": [
    "data[\"PPSVACWert\"] = data[\"PPSVACWert\"].fillna(0)"
   ]
  },
  {
   "cell_type": "markdown",
   "id": "fb7385c7",
   "metadata": {},
   "source": [
    "## Drop outliers"
   ]
  },
  {
   "cell_type": "code",
   "execution_count": null,
   "id": "a75d9c1a",
   "metadata": {},
   "outputs": [],
   "source": [
    "outlier_indices = data[data[\"PPSVACWert\"] == 16082012.0].index"
   ]
  },
  {
   "cell_type": "code",
   "execution_count": null,
   "id": "fbc0a51f",
   "metadata": {},
   "outputs": [],
   "source": [
    "data.drop(outlier_indices, inplace=True)"
   ]
  },
  {
   "cell_type": "markdown",
   "id": "84439f00",
   "metadata": {},
   "source": [
    "# Handle missing values of $T_{i}$"
   ]
  },
  {
   "cell_type": "code",
   "execution_count": null,
   "id": "5dd56f56",
   "metadata": {},
   "outputs": [],
   "source": [
    "data[[f\"T{i}\" for i in range(1, 35)]] = data[[f\"T{i}\" for i in range(1, 35)]].fillna(-1)"
   ]
  },
  {
   "cell_type": "markdown",
   "id": "fcca335d",
   "metadata": {},
   "source": [
    "# Handle missting values of Preis"
   ]
  },
  {
   "cell_type": "code",
   "execution_count": null,
   "id": "c325f889",
   "metadata": {},
   "outputs": [],
   "source": [
    "old_data = pd.read_pickle(\"./data/df_gesamt.pkl\")"
   ]
  },
  {
   "cell_type": "code",
   "execution_count": null,
   "id": "340f8f24",
   "metadata": {},
   "outputs": [],
   "source": [
    "missing_qids = data[data.Preis.isna()][[\"Qid\", \"GJ\"]]\n",
    "\n",
    "for qid, year in missing_qids.values:\n",
    "    row = old_data[(old_data.Qid == qid) & (old_data.GJ == year)]\n",
    "\n",
    "    if row.shape[0]:\n",
    "        data.loc[row.index, \"Preis\"] = row[\"Preis\"]"
   ]
  },
  {
   "cell_type": "code",
   "execution_count": null,
   "id": "0f1311ae",
   "metadata": {},
   "outputs": [],
   "source": [
    "data[\"Preis\"] = data.groupby(\"Qid\")[\"Preis\"].transform(\n",
    "    lambda group: group.ffill().bfill()\n",
    ")"
   ]
  },
  {
   "cell_type": "code",
   "execution_count": null,
   "id": "b36959ff",
   "metadata": {},
   "outputs": [],
   "source": [
    "data[\"Preis\"] = data[\"Preis\"].fillna(-1)"
   ]
  },
  {
   "cell_type": "markdown",
   "id": "6a718afb",
   "metadata": {},
   "source": [
    "# Save the data"
   ]
  },
  {
   "cell_type": "code",
   "execution_count": null,
   "id": "d1702c92",
   "metadata": {},
   "outputs": [],
   "source": [
    "# reset the indicex\n",
    "data.reset_index(drop=True, inplace=True)"
   ]
  },
  {
   "cell_type": "code",
   "execution_count": null,
   "id": "1ab76c2c",
   "metadata": {},
   "outputs": [],
   "source": [
    "data.to_pickle(\"./data/df_gesamt_15_08_prepocessed_einworner_added.pkl\")"
   ]
  }
 ],
 "metadata": {
  "kernelspec": {
   "display_name": "Python 3 (ipykernel)",
   "language": "python",
   "name": "python3"
  },
  "language_info": {
   "codemirror_mode": {
    "name": "ipython",
    "version": 3
   },
   "file_extension": ".py",
   "mimetype": "text/x-python",
   "name": "python",
   "nbconvert_exporter": "python",
   "pygments_lexer": "ipython3",
   "version": "3.9.12"
  }
 },
 "nbformat": 4,
 "nbformat_minor": 5
}
