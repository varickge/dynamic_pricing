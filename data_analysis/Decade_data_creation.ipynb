{
 "cells": [
  {
   "cell_type": "code",
   "execution_count": null,
   "id": "f7053fa8",
   "metadata": {},
   "outputs": [],
   "source": [
    "from utils import *"
   ]
  },
  {
   "cell_type": "code",
   "execution_count": null,
   "id": "bd482fc9",
   "metadata": {},
   "outputs": [],
   "source": [
    "data = pd.read_pickle(\"data/df_gesamt_10_08_prepocessed.pkl\")"
   ]
  },
  {
   "cell_type": "code",
   "execution_count": null,
   "id": "0ec13760",
   "metadata": {},
   "outputs": [],
   "source": [
    "data_2018 = data[data.GJ == 2018]\n",
    "data_2019 = data[data.GJ == 2019]\n",
    "data_2020 = data[data.GJ == 2020]\n",
    "data_2021 = data[data.GJ == 2021]\n",
    "data_2022 = data[data.GJ == 2022]"
   ]
  },
  {
   "cell_type": "code",
   "execution_count": null,
   "id": "300e2393",
   "metadata": {},
   "outputs": [],
   "source": [
    "NUM_DECADES = 34 * (data.GJ.unique().shape[0] - 1)"
   ]
  },
  {
   "cell_type": "markdown",
   "id": "4feb7514",
   "metadata": {},
   "source": [
    "## Old variant"
   ]
  },
  {
   "cell_type": "code",
   "execution_count": null,
   "id": "495b6d1a",
   "metadata": {},
   "outputs": [],
   "source": [
    "listOfT = [f\"T{i}\" for i in range(1, NUM_DECADES + 1)]\n",
    "\n",
    "qids = data.Qid.unique()\n",
    "d = {'Qid': qids}\n",
    "df = pd.DataFrame(d)\n",
    "\n",
    "# Create a dictionary to hold the column data\n",
    "column_data = {}\n",
    "\n",
    "for t in listOfT:\n",
    "    column_data[t] = -np.ones(df.shape[0])\n",
    "\n",
    "# Use pd.concat to join all columns at once\n",
    "df = pd.concat([df, pd.DataFrame(column_data)], axis=1)    \n",
    "\n",
    "for qid in tqdm(qids):\n",
    "    if (data_2018.Qid == qid).sum():\n",
    "        T_2018 = data_2018[data_2018.Qid == qid].loc[:, \"T1\":\"T34\"]\n",
    "    else:\n",
    "        T_2018 = -np.ones([1, 34])\n",
    "        \n",
    "    if (data_2019.Qid == qid).sum():\n",
    "        T_2019 = data_2019[data_2019.Qid == qid].loc[:, \"T1\":\"T34\"]\n",
    "    else:\n",
    "        T_2019 = -np.ones([1, 34])\n",
    "    \n",
    "    if (data_2020.Qid == qid).sum():\n",
    "        T_2020 = data_2020[data_2020.Qid == qid].loc[:, \"T1\":\"T34\"]\n",
    "    else:\n",
    "        T_2020 = -np.ones([1, 34])\n",
    "    \n",
    "    if (data_2021.Qid == qid).sum():\n",
    "        T_2021 = data_2021[data_2021.Qid == qid].loc[:, \"T1\":\"T34\"]\n",
    "    else:\n",
    "        T_2021 = -np.ones([1, 34])\n",
    "        \n",
    "    if (data_2022.Qid == qid).sum():\n",
    "        T_2022 = data_2022[data_2022.Qid == qid].loc[:, \"T1\":\"T34\"]\n",
    "    else:\n",
    "        T_2022 = -np.ones([1, 34])\n",
    "        \n",
    "    joint_T = np.concatenate([T_2018, T_2019, T_2022], axis=-1)\n",
    "    df.loc[df.Qid == qid, \"T1\":\"T102\"] = joint_T\n",
    "\n",
    "df.to_csv(\"./data/decades.csv\", index=False)"
   ]
  },
  {
   "cell_type": "markdown",
   "id": "6e9695f3",
   "metadata": {},
   "source": [
    "## New variant"
   ]
  },
  {
   "cell_type": "code",
   "execution_count": null,
   "id": "69ddba88",
   "metadata": {},
   "outputs": [],
   "source": [
    "qids = data.Qid.unique()"
   ]
  },
  {
   "cell_type": "code",
   "execution_count": null,
   "id": "74413077",
   "metadata": {},
   "outputs": [],
   "source": [
    "d_2018 = data_2018[data_2018.Qid.isin(qids)].set_index(\"Qid\").loc[:, \"T1\":\"T34\"].copy()\n",
    "d_2019 = data_2019[data_2019.Qid.isin(qids)].set_index(\"Qid\").loc[:, \"T1\":\"T34\"].copy()\n",
    "d_2020 = data_2020[data_2020.Qid.isin(qids)].set_index(\"Qid\").loc[:, \"T1\":\"T34\"].copy()\n",
    "d_2021 = data_2021[data_2021.Qid.isin(qids)].set_index(\"Qid\").loc[:, \"T1\":\"T34\"].copy()\n",
    "d_2022 = data_2022[data_2022.Qid.isin(qids)].set_index(\"Qid\").loc[:, \"T1\":\"T34\"].copy()"
   ]
  },
  {
   "cell_type": "code",
   "execution_count": null,
   "id": "806f2316",
   "metadata": {},
   "outputs": [],
   "source": [
    "decades = pd.concat([d_2018, d_2019, d_2020, d_2021, d_2022], axis=1, )"
   ]
  },
  {
   "cell_type": "code",
   "execution_count": null,
   "id": "00ef234f",
   "metadata": {},
   "outputs": [],
   "source": [
    "#check\n",
    "decades.shape, data[data.GJ != 2023].Qid.unique().shape"
   ]
  },
  {
   "cell_type": "code",
   "execution_count": null,
   "id": "07a844b6",
   "metadata": {},
   "outputs": [],
   "source": [
    "decades.columns = [f\"T{i}\" for i in range(1, NUM_DECADES + 1)]"
   ]
  },
  {
   "cell_type": "code",
   "execution_count": null,
   "id": "cea8072f",
   "metadata": {},
   "outputs": [],
   "source": [
    "decades = decades.fillna(-1)"
   ]
  },
  {
   "cell_type": "code",
   "execution_count": null,
   "id": "3327294b",
   "metadata": {},
   "outputs": [],
   "source": [
    "decades.reset_index(drop=False, inplace=True)"
   ]
  },
  {
   "cell_type": "code",
   "execution_count": null,
   "id": "5327936c",
   "metadata": {},
   "outputs": [],
   "source": [
    "decades.to_csv(\"./data/decades.csv\", index=False)"
   ]
  }
 ],
 "metadata": {
  "kernelspec": {
   "display_name": "Python 3 (ipykernel)",
   "language": "python",
   "name": "python3"
  },
  "language_info": {
   "codemirror_mode": {
    "name": "ipython",
    "version": 3
   },
   "file_extension": ".py",
   "mimetype": "text/x-python",
   "name": "python",
   "nbconvert_exporter": "python",
   "pygments_lexer": "ipython3",
   "version": "3.9.12"
  }
 },
 "nbformat": 4,
 "nbformat_minor": 5
}
