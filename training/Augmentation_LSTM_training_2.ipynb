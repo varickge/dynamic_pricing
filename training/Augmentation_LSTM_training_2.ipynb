{
 "cells": [
  {
   "cell_type": "code",
   "execution_count": 1,
   "id": "48447da3",
   "metadata": {},
   "outputs": [],
   "source": [
    "from utils import *"
   ]
  },
  {
   "cell_type": "markdown",
   "id": "e5387769",
   "metadata": {},
   "source": [
    "### Data Loading"
   ]
  },
  {
   "cell_type": "code",
   "execution_count": 57,
   "id": "28f4a077",
   "metadata": {},
   "outputs": [],
   "source": [
    "class CustomDataLoader:\n",
    "    \n",
    "    def __init__(self, test_size=0.05):\n",
    "        \n",
    "        self.MAX_NEIGHBOURS_SIZE = 10\n",
    "        self.MAX_FEATS = 26\n",
    "        self.fillingValueForPadding = -1\n",
    "        self.decade = 34\n",
    "        self.maxDecade = 34\n",
    "        self.windowSize = 5\n",
    "        self.stride = 1\n",
    "        self.yearsCount = 4\n",
    "        self.fillingTensor = -torch.ones([self.decade-self.windowSize+1, self.MAX_NEIGHBOURS_SIZE, self.MAX_FEATS])\n",
    "        self.data = pd.read_pickle(\"data/df_gesamt_prepocessed_reordered.pkl\")\n",
    "        self.listOfT = [f'T{i+1}' for i in range(self.decade)]\n",
    "        \n",
    "        # to keep indices for train and vals sets\n",
    "        self.data.reset_index(drop=True, inplace=True)\n",
    "        self.data.drop(columns=[\"PLZ\", \"Ort\"], inplace=True)\n",
    "        \n",
    "        # split Qid into train and val\n",
    "        self.Qid_train, self.Qid_val = train_test_split(self.data[\"Qid\"].unique(), \n",
    "                                              test_size=test_size,\n",
    "                                              random_state=23)\n",
    "        \n",
    "        self.data.Laenge = self.normalize_longitude(self.data.Laenge.values)\n",
    "        self.data.Breite = self.normalize_latitude(self.data.Breite.values)\n",
    "\n",
    "        # normalizing columns without last year data\n",
    "        self.normalize_without_target_year(self.data, \"PPSVACWert\")\n",
    "        \n",
    "        \n",
    "        # splitting data to years\n",
    "        self.data_2018 = self.data[self.data[\"GJ\"] == 2018].copy()\n",
    "        self.data_2019 = self.data[self.data[\"GJ\"] == 2019].copy()\n",
    "        self.data_2022 = self.data[self.data[\"GJ\"] == 2022].copy()\n",
    "        self.data_2023 = self.data[self.data[\"GJ\"] == 2023].copy()\n",
    "        \n",
    "        # dropping unnecessary columns\n",
    "        self.data.drop(columns=[\"GJ\"], inplace=True)\n",
    "        self.data_2018.drop(columns=[\"GJ\"], inplace=True)\n",
    "        self.data_2019.drop(columns=[\"GJ\"], inplace=True)\n",
    "        self.data_2022.drop(columns=[\"GJ\"], inplace=True)\n",
    "        self.data_2023.drop(columns=[\"GJ\"], inplace=True)\n",
    "        \n",
    "        \n",
    "        self.distances_2018 = pd.read_csv(\"data/distances/distances_2018.csv\")\n",
    "        self.distances_2019 = pd.read_csv(\"data/distances/distances_2019.csv\")\n",
    "        self.distances_2022 = pd.read_csv(\"data/distances/distances_2022.csv\")\n",
    "        self.distances_2023 = pd.read_csv(\"data/distances/distances_2023.csv\")\n",
    "\n",
    "    def normalize_longitude(self, longitude):\n",
    "        min_lon = -180.0\n",
    "        max_lon = 180.0\n",
    "        normalized_lon = (longitude - min_lon) / (max_lon - min_lon)\n",
    "        return normalized_lon\n",
    "\n",
    "    def normalize_latitude(self, latitude):\n",
    "        min_lat = -90.0\n",
    "        max_lat = 90.0\n",
    "        normalized_lat = (latitude - min_lat) / (max_lat - min_lat)\n",
    "        return normalized_lat\n",
    "    \n",
    "    def normalize_without_target_year(self, data, col):\n",
    "        \n",
    "        def mean_std_norm(x):\n",
    "            return (x - x.mean()) / x.std()\n",
    "        \n",
    "        index = data.index\n",
    "        data.loc[index, col] = mean_std_norm(data.loc[index, col])\n",
    "\n",
    "    def loader(self):       \n",
    "        train_dataReturn_X, val_dataReturn_X = [], []\n",
    "        train_dataReturn_Y, val_dataReturn_Y = [], []\n",
    "        \n",
    "        # Define a function to process a single Qid\n",
    "        def process_qid(qid):\n",
    "            qid2_2018 = self.takeTopNeighbours(self.distances_2018, qid)\n",
    "            qid2_2019 = self.takeTopNeighbours(self.distances_2019, qid)\n",
    "            qid2_2022 = self.takeTopNeighbours(self.distances_2022, qid)\n",
    "            \n",
    "            if qid2_2018.shape[0]:\n",
    "                curr_2018_X = self.takeByQid(self.data_2018, self.distances_2018, qid2_2018)\n",
    "            else:\n",
    "                curr_2018_X = self.fillingTensor\n",
    "                \n",
    "            if qid2_2019.shape[0]:\n",
    "                curr_2019_X = self.takeByQid(self.data_2019, self.distances_2019, qid2_2019)\n",
    "            else:\n",
    "                curr_2019_X = self.fillingTensor\n",
    "                \n",
    "            if qid2_2022.shape[0]:\n",
    "                curr_2022_X = self.takeByQid(self.data_2022, self.distances_2022, qid2_2022)\n",
    "            else:\n",
    "                curr_2022_X = self.fillingTensor\n",
    "                        \n",
    "            curr_2023_X = self.takeByQidLastYear(self.data_2023, qid)\n",
    "            currData_X = torch.cat([curr_2018_X, curr_2019_X, curr_2022_X, curr_2023_X], axis=0)\n",
    "            currData_Y = self.takeTargetByQid(self.data_2023, qid)\n",
    "            return currData_X, currData_Y\n",
    "\n",
    "        for qid in tqdm(self.Qid_train):\n",
    "            currData_X, currData_Y = process_qid(qid)\n",
    "            train_dataReturn_X.append(currData_X)\n",
    "            train_dataReturn_Y.append(currData_Y)\n",
    "\n",
    "        for qid in tqdm(self.Qid_val):\n",
    "            currData_X, currData_Y = process_qid(qid)\n",
    "            val_dataReturn_X.append(currData_X)\n",
    "            val_dataReturn_Y.append(currData_Y)\n",
    "            \n",
    "        X_train = torch.squeeze(torch.stack(train_dataReturn_X))\n",
    "        y_train = torch.stack(train_dataReturn_Y)\n",
    "        \n",
    "        X_val = torch.squeeze(torch.stack(val_dataReturn_X))\n",
    "        y_val = torch.stack(val_dataReturn_Y)\n",
    "        \n",
    "        return X_train, X_val, y_train, y_val\n",
    "\n",
    "    def takeByQid(self, dataPart, dist, qids): \n",
    "        currData_X = dataPart[dataPart.Qid.isin(qids)].copy()\n",
    "\n",
    "        drop_columns = [\"Qid\"]\n",
    "        if self.decade != self.maxDecade:\n",
    "            drop_columns += [f\"T{i}\" for i in range(self.decade + 1, self.maxDecade+1)]\n",
    "\n",
    "        currData_X.drop(columns=drop_columns, inplace=True)\n",
    "        if currData_X.shape[0]:\n",
    "            const = currData_X.loc[:, :'PPSVACWert'].values\n",
    "            window_starts = np.arange(1, (self.decade - (self.windowSize - 1) - 1)//self.stride + 2, self.stride)\n",
    "            num_windows = len(window_starts)\n",
    "            window_ends = window_starts + self.windowSize\n",
    "\n",
    "            retutnData = []\n",
    "            for t in window_starts:\n",
    "                curr_x = np.concatenate([\n",
    "                    const,\n",
    "                    currData_X.loc[:, f\"T{t}\":f\"T{t+self.windowSize-1}\"].values\n",
    "                ], axis=1)\n",
    "\n",
    "                curr_tensor = self.pad_to_size(torch.tensor(curr_x.astype(float)))\n",
    "                retutnData.append(curr_tensor)\n",
    "            \n",
    "            return torch.stack(retutnData)[..., 0]\n",
    "        else: \n",
    "            return self.fillingTensor\n",
    "\n",
    "\n",
    "    def takeByQidLastYear(self, dataPart, qid):\n",
    "        currData = dataPart[dataPart.Qid == qid].copy()\n",
    "        if currData.shape[0]:\n",
    "            price = currData.Preis.values\n",
    "            price_array = np.full(currData[self.listOfT].shape, price)\n",
    "            currData[self.listOfT] = -1\n",
    "            currData[\"PPSVACWert\"] = -1\n",
    "            currData.drop(columns=[\"Qid\"], inplace=True)\n",
    "            currData.drop(columns=[f\"T{i}\" for i in range(self.windowSize+1, self.maxDecade+1)], inplace=True)\n",
    "            return self.pad_to_size(torch.tensor(currData.astype(float).values))[..., 0][None]\n",
    "        else: \n",
    "            return-torch.ones([1, self.MAX_NEIGHBOURS_SIZE, self.MAX_FEATS])\n",
    "        \n",
    "\n",
    "    def takeTargetByQid(self, dataPart, qid):\n",
    "        targetRows = dataPart[dataPart.Qid == qid].copy()\n",
    "        if targetRows.shape[0]:\n",
    "            T = targetRows.loc[:, \"T1\":\"T22\"].copy() \n",
    "            T[T == -1] = 0\n",
    "            meanOf_T = T.mean().mean()\n",
    "            return torch.tensor([meanOf_T])\n",
    "\n",
    "        return torch.tensor([0.])\n",
    "    \n",
    "    \n",
    "    def takeTopNeighbours(self, df, qid, top=10):\n",
    "        current_data = df[df.Qid1 == qid]\n",
    "        sorted_data = current_data.sort_values(by='distance')\n",
    "\n",
    "        self_pair = sorted_data[sorted_data.Qid2 == qid]\n",
    "        \n",
    "        if not self_pair.empty:\n",
    "            sorted_data = sorted_data[sorted_data.Qid2 != qid]\n",
    "            sorted_data = pd.concat([self_pair, sorted_data], ignore_index=True)\n",
    "\n",
    "        return sorted_data.iloc[:top].Qid2.values\n",
    "\n",
    "        \n",
    "    def pad_to_size(self, tensor):\n",
    "        # Check if the tensor is 2D\n",
    "        if len(tensor.shape) != 2:\n",
    "            raise ValueError(\"Input tensor should be 2D\")\n",
    "\n",
    "        current_x, current_y = tensor.shape\n",
    "        pad_left = 0\n",
    "        pad_right = 0\n",
    "        pad_top = 0\n",
    "        pad_bottom = max(0, self.MAX_NEIGHBOURS_SIZE - current_x)\n",
    "\n",
    "        return torch.nn.functional.pad(tensor, (pad_left, pad_right, pad_top, pad_bottom), \"constant\", self.fillingValueForPadding)[..., None]\n",
    "    \n",
    "    def drop_less_years(self, data):\n",
    "        mask = (data.groupby([\"Qid\"])[[\"GJ\"]].transform('count') < self.yearsCount).values\n",
    "        data.drop(index=data[mask].index, inplace=True)\n",
    "\n",
    "class CustomDataset(torch.utils.data.Dataset):\n",
    "    def __init__(self, path_x, path_y, p=0.1):\n",
    "        \n",
    "        self.data_x = torch.load(path_x)\n",
    "        self.data_y = torch.load(path_y)\n",
    "        self.p = p\n",
    "    \n",
    "    def __getitem__(self, index):\n",
    "        \n",
    "        tmp = self.data_x[index].clone()\n",
    "        \n",
    "        if torch.rand(1) < self.p:\n",
    "            return self._transform(tmp, self.data_y[index].clone())\n",
    "        else:\n",
    "            return tmp, self.data_y[index]\n",
    "    \n",
    "    def _transform(self, data_x, data_y, k_factor=2):\n",
    "        \n",
    "        maxPrice = max(data_x[[0, 31, 61, -1], 0, 15])\n",
    "            \n",
    "        data_x[-1, 0, 15] = k_factor * maxPrice\n",
    "        data_y *= 0\n",
    "        \n",
    "        return data_x, data_y        \n",
    "    \n",
    "    def __len__(self):\n",
    "        return len(self.data_x)\n",
    "    \n",
    "class LSTMModel(nn.Module):\n",
    "    \n",
    "    def __init__(self, input_size, hidden_size, num_layers, output_size):\n",
    "        super(LSTMModel, self).__init__()\n",
    "        self.hidden_size = hidden_size\n",
    "        self.num_layers = num_layers\n",
    "        self.lstm = nn.LSTM(input_size, hidden_size, num_layers, batch_first=True)\n",
    "        self.fc = nn.Linear(hidden_size, output_size)\n",
    "        \n",
    "    def forward(self, X):\n",
    "        X = X.reshape(*X.shape[:2],-1)\n",
    "        out, _ = self.lstm(X)\n",
    "        out = self.fc(out[:, -1])\n",
    "        pos_out = torch.sigmoid(out)\n",
    "        \n",
    "        return pos_out"
   ]
  },
  {
   "cell_type": "code",
   "execution_count": 58,
   "id": "cce642bc",
   "metadata": {},
   "outputs": [],
   "source": [
    "dl = CustomDataLoader()"
   ]
  },
  {
   "cell_type": "code",
   "execution_count": 59,
   "id": "b3d390fa",
   "metadata": {},
   "outputs": [
    {
     "name": "stderr",
     "output_type": "stream",
     "text": [
      "100%|█████████████████████████████████| 150236/150236 [1:01:06<00:00, 40.98it/s]\n",
      "100%|███████████████████████████████████████| 7908/7908 [03:15<00:00, 40.48it/s]\n"
     ]
    }
   ],
   "source": [
    "X_train, X_val, y_train, y_val = dl.loader()"
   ]
  },
  {
   "cell_type": "code",
   "execution_count": 62,
   "id": "75074c2b",
   "metadata": {},
   "outputs": [
    {
     "data": {
      "text/plain": [
       "(torch.Size([150236, 91, 10, 26]),\n",
       " torch.Size([7908, 91, 10, 26]),\n",
       " torch.Size([150236, 1]),\n",
       " torch.Size([7908, 1]))"
      ]
     },
     "execution_count": 62,
     "metadata": {},
     "output_type": "execute_result"
    }
   ],
   "source": [
    "X_train.shape, X_val.shape, y_train.shape, y_val.shape"
   ]
  },
  {
   "cell_type": "code",
   "execution_count": 63,
   "id": "d7eee5da",
   "metadata": {},
   "outputs": [],
   "source": [
    "torch.save(X_train, 'data/saved_train_val_data/X_train_normal_10_08.pt')\n",
    "torch.save(y_train, 'data/saved_train_val_data/y_train_normal_10_08.pt')\n",
    "torch.save(X_val, 'data/saved_train_val_data/X_val_normal_10_08.pt')\n",
    "torch.save(y_val, 'data/saved_train_val_data/y_val_normal_10_08.pt')"
   ]
  },
  {
   "cell_type": "code",
   "execution_count": null,
   "id": "b9cf29e6",
   "metadata": {},
   "outputs": [],
   "source": []
  },
  {
   "cell_type": "code",
   "execution_count": 64,
   "id": "3ebe5405",
   "metadata": {},
   "outputs": [],
   "source": [
    "train_dataset = CustomDataset(\"./data/saved_train_val_data/X_train_normal_10_08.pt\", \n",
    "                              \"./data/saved_train_val_data/y_train_normal_10_08.pt\")\n",
    "\n",
    "val_dataset = CustomDataset(\"./data/saved_train_val_data/X_val_normal_10_08.pt\", \n",
    "                            \"./data/saved_train_val_data/y_val_normal_10_08.pt\")"
   ]
  },
  {
   "cell_type": "code",
   "execution_count": 65,
   "id": "5acad957-20c9-4e53-9836-433b2ed8f2aa",
   "metadata": {},
   "outputs": [],
   "source": [
    "# Defining hyperparams\n",
    "BATCH_SIZE = 64\n",
    "NUM_SEQUENCE = 91\n",
    "NUM_FEATURES = 10*26\n",
    "NUM_LAYERS = 3\n",
    "OUTPUT_SIZE = 1\n",
    "HIDDEN_SIZE = 64\n",
    "INPUT_SIZE = NUM_FEATURES\n",
    "\n",
    "# Create a DataLoader to handle batching\n",
    "train_dataloader = DataLoader(train_dataset, batch_size=BATCH_SIZE, shuffle=True)\n",
    "val_dataloader = DataLoader(val_dataset, batch_size=BATCH_SIZE, shuffle=True)"
   ]
  },
  {
   "cell_type": "markdown",
   "id": "63877df3",
   "metadata": {},
   "source": [
    "### Model  |  Loss |  Optimizer Defining"
   ]
  },
  {
   "cell_type": "code",
   "execution_count": 66,
   "id": "6c2c7f7e",
   "metadata": {},
   "outputs": [],
   "source": [
    "# Creating model\n",
    "model = LSTMModel(INPUT_SIZE, HIDDEN_SIZE, NUM_LAYERS, OUTPUT_SIZE)\n",
    "model.to(DEVICE)\n",
    "# Defining Loss function\n",
    "criterion = nn.MSELoss()  \n",
    "# Defining optimizer\n",
    "lr = 0.0003\n",
    "optimizer = torch.optim.Adam(model.parameters(), lr=lr) "
   ]
  },
  {
   "cell_type": "markdown",
   "id": "6ddba2ab",
   "metadata": {},
   "source": [
    "### Training"
   ]
  },
  {
   "cell_type": "code",
   "execution_count": 67,
   "id": "05ba47b2",
   "metadata": {
    "scrolled": true
   },
   "outputs": [
    {
     "name": "stdout",
     "output_type": "stream",
     "text": [
      "Input proper model name:\tpositive_norm\n"
     ]
    },
    {
     "name": "stderr",
     "output_type": "stream",
     "text": [
      "100%|█████████████████████████████████████████████████████████████████████████████████████████████████████████| 2348/2348 [00:17<00:00, 131.23it/s]\n",
      "100%|███████████████████████████████████████████████████████████████████████████████████████████████████████████| 124/124 [00:00<00:00, 155.44it/s]\n"
     ]
    },
    {
     "name": "stdout",
     "output_type": "stream",
     "text": [
      "Epoch [1/50]\n",
      "Train Loss: 0.0376\n",
      "Val Loss: 0.0308\n"
     ]
    },
    {
     "name": "stderr",
     "output_type": "stream",
     "text": [
      "100%|█████████████████████████████████████████████████████████████████████████████████████████████████████████| 2348/2348 [00:17<00:00, 132.17it/s]\n",
      "100%|███████████████████████████████████████████████████████████████████████████████████████████████████████████| 124/124 [00:00<00:00, 161.03it/s]\n"
     ]
    },
    {
     "name": "stdout",
     "output_type": "stream",
     "text": [
      "Epoch [2/50]\n",
      "Train Loss: 0.026\n",
      "Val Loss: 0.0245\n"
     ]
    },
    {
     "name": "stderr",
     "output_type": "stream",
     "text": [
      "100%|█████████████████████████████████████████████████████████████████████████████████████████████████████████| 2348/2348 [00:18<00:00, 128.35it/s]\n",
      "100%|███████████████████████████████████████████████████████████████████████████████████████████████████████████| 124/124 [00:00<00:00, 158.11it/s]\n"
     ]
    },
    {
     "name": "stdout",
     "output_type": "stream",
     "text": [
      "Epoch [3/50]\n",
      "Train Loss: 0.025\n",
      "Val Loss: 0.0239\n"
     ]
    },
    {
     "name": "stderr",
     "output_type": "stream",
     "text": [
      "100%|█████████████████████████████████████████████████████████████████████████████████████████████████████████| 2348/2348 [00:18<00:00, 130.27it/s]\n",
      "100%|███████████████████████████████████████████████████████████████████████████████████████████████████████████| 124/124 [00:00<00:00, 153.47it/s]\n"
     ]
    },
    {
     "name": "stdout",
     "output_type": "stream",
     "text": [
      "Epoch [4/50]\n",
      "Train Loss: 0.0236\n",
      "Val Loss: 0.0239\n"
     ]
    },
    {
     "name": "stderr",
     "output_type": "stream",
     "text": [
      "100%|█████████████████████████████████████████████████████████████████████████████████████████████████████████| 2348/2348 [00:17<00:00, 136.80it/s]\n",
      "100%|███████████████████████████████████████████████████████████████████████████████████████████████████████████| 124/124 [00:00<00:00, 157.79it/s]\n"
     ]
    },
    {
     "name": "stdout",
     "output_type": "stream",
     "text": [
      "Epoch [5/50]\n",
      "Train Loss: 0.0237\n",
      "Val Loss: 0.0226\n"
     ]
    },
    {
     "name": "stderr",
     "output_type": "stream",
     "text": [
      "100%|█████████████████████████████████████████████████████████████████████████████████████████████████████████| 2348/2348 [00:18<00:00, 128.08it/s]\n",
      "100%|███████████████████████████████████████████████████████████████████████████████████████████████████████████| 124/124 [00:00<00:00, 140.55it/s]\n"
     ]
    },
    {
     "name": "stdout",
     "output_type": "stream",
     "text": [
      "Epoch [6/50]\n",
      "Train Loss: 0.023\n",
      "Val Loss: 0.0238\n"
     ]
    },
    {
     "name": "stderr",
     "output_type": "stream",
     "text": [
      "100%|█████████████████████████████████████████████████████████████████████████████████████████████████████████| 2348/2348 [00:18<00:00, 129.11it/s]\n",
      "100%|███████████████████████████████████████████████████████████████████████████████████████████████████████████| 124/124 [00:00<00:00, 156.01it/s]\n"
     ]
    },
    {
     "name": "stdout",
     "output_type": "stream",
     "text": [
      "Epoch [7/50]\n",
      "Train Loss: 0.0228\n",
      "Val Loss: 0.0223\n"
     ]
    },
    {
     "name": "stderr",
     "output_type": "stream",
     "text": [
      "100%|█████████████████████████████████████████████████████████████████████████████████████████████████████████| 2348/2348 [00:17<00:00, 137.18it/s]\n",
      "100%|███████████████████████████████████████████████████████████████████████████████████████████████████████████| 124/124 [00:00<00:00, 158.79it/s]\n"
     ]
    },
    {
     "name": "stdout",
     "output_type": "stream",
     "text": [
      "Epoch [8/50]\n",
      "Train Loss: 0.0228\n",
      "Val Loss: 0.0235\n"
     ]
    },
    {
     "name": "stderr",
     "output_type": "stream",
     "text": [
      "100%|█████████████████████████████████████████████████████████████████████████████████████████████████████████| 2348/2348 [00:17<00:00, 138.00it/s]\n",
      "100%|███████████████████████████████████████████████████████████████████████████████████████████████████████████| 124/124 [00:00<00:00, 158.74it/s]\n"
     ]
    },
    {
     "name": "stdout",
     "output_type": "stream",
     "text": [
      "Epoch [9/50]\n",
      "Train Loss: 0.022\n",
      "Val Loss: 0.0224\n"
     ]
    },
    {
     "name": "stderr",
     "output_type": "stream",
     "text": [
      "100%|█████████████████████████████████████████████████████████████████████████████████████████████████████████| 2348/2348 [00:16<00:00, 138.31it/s]\n",
      "100%|███████████████████████████████████████████████████████████████████████████████████████████████████████████| 124/124 [00:00<00:00, 149.62it/s]\n"
     ]
    },
    {
     "name": "stdout",
     "output_type": "stream",
     "text": [
      "Epoch [10/50]\n",
      "Train Loss: 0.0225\n",
      "Val Loss: 0.0221\n"
     ]
    },
    {
     "name": "stderr",
     "output_type": "stream",
     "text": [
      "100%|█████████████████████████████████████████████████████████████████████████████████████████████████████████| 2348/2348 [00:18<00:00, 125.58it/s]\n",
      "100%|███████████████████████████████████████████████████████████████████████████████████████████████████████████| 124/124 [00:00<00:00, 153.80it/s]\n"
     ]
    },
    {
     "name": "stdout",
     "output_type": "stream",
     "text": [
      "Epoch [11/50]\n",
      "Train Loss: 0.0217\n",
      "Val Loss: 0.0238\n"
     ]
    },
    {
     "name": "stderr",
     "output_type": "stream",
     "text": [
      "100%|█████████████████████████████████████████████████████████████████████████████████████████████████████████| 2348/2348 [00:18<00:00, 129.40it/s]\n",
      "100%|███████████████████████████████████████████████████████████████████████████████████████████████████████████| 124/124 [00:00<00:00, 152.81it/s]\n"
     ]
    },
    {
     "name": "stdout",
     "output_type": "stream",
     "text": [
      "Epoch [12/50]\n",
      "Train Loss: 0.022\n",
      "Val Loss: 0.0219\n"
     ]
    },
    {
     "name": "stderr",
     "output_type": "stream",
     "text": [
      "100%|█████████████████████████████████████████████████████████████████████████████████████████████████████████| 2348/2348 [00:17<00:00, 132.92it/s]\n",
      "100%|███████████████████████████████████████████████████████████████████████████████████████████████████████████| 124/124 [00:00<00:00, 157.12it/s]\n"
     ]
    },
    {
     "name": "stdout",
     "output_type": "stream",
     "text": [
      "Epoch [13/50]\n",
      "Train Loss: 0.0219\n",
      "Val Loss: 0.0226\n"
     ]
    },
    {
     "name": "stderr",
     "output_type": "stream",
     "text": [
      "100%|█████████████████████████████████████████████████████████████████████████████████████████████████████████| 2348/2348 [00:17<00:00, 134.56it/s]\n",
      "100%|███████████████████████████████████████████████████████████████████████████████████████████████████████████| 124/124 [00:00<00:00, 159.16it/s]\n"
     ]
    },
    {
     "name": "stdout",
     "output_type": "stream",
     "text": [
      "Epoch [14/50]\n",
      "Train Loss: 0.0213\n",
      "Val Loss: 0.0219\n"
     ]
    },
    {
     "name": "stderr",
     "output_type": "stream",
     "text": [
      "100%|█████████████████████████████████████████████████████████████████████████████████████████████████████████| 2348/2348 [00:17<00:00, 137.42it/s]\n",
      "100%|███████████████████████████████████████████████████████████████████████████████████████████████████████████| 124/124 [00:00<00:00, 154.23it/s]\n"
     ]
    },
    {
     "name": "stdout",
     "output_type": "stream",
     "text": [
      "Epoch [15/50]\n",
      "Train Loss: 0.0217\n",
      "Val Loss: 0.0216\n"
     ]
    },
    {
     "name": "stderr",
     "output_type": "stream",
     "text": [
      "100%|█████████████████████████████████████████████████████████████████████████████████████████████████████████| 2348/2348 [00:17<00:00, 135.41it/s]\n",
      "100%|███████████████████████████████████████████████████████████████████████████████████████████████████████████| 124/124 [00:00<00:00, 156.24it/s]\n"
     ]
    },
    {
     "name": "stdout",
     "output_type": "stream",
     "text": [
      "Epoch [16/50]\n",
      "Train Loss: 0.0209\n",
      "Val Loss: 0.0229\n"
     ]
    },
    {
     "name": "stderr",
     "output_type": "stream",
     "text": [
      "100%|█████████████████████████████████████████████████████████████████████████████████████████████████████████| 2348/2348 [00:17<00:00, 134.96it/s]\n",
      "100%|███████████████████████████████████████████████████████████████████████████████████████████████████████████| 124/124 [00:00<00:00, 146.72it/s]\n"
     ]
    },
    {
     "name": "stdout",
     "output_type": "stream",
     "text": [
      "Epoch [17/50]\n",
      "Train Loss: 0.0214\n",
      "Val Loss: 0.0215\n"
     ]
    },
    {
     "name": "stderr",
     "output_type": "stream",
     "text": [
      "100%|█████████████████████████████████████████████████████████████████████████████████████████████████████████| 2348/2348 [00:19<00:00, 122.88it/s]\n",
      "100%|███████████████████████████████████████████████████████████████████████████████████████████████████████████| 124/124 [00:00<00:00, 153.25it/s]\n"
     ]
    },
    {
     "name": "stdout",
     "output_type": "stream",
     "text": [
      "Epoch [18/50]\n",
      "Train Loss: 0.0212\n",
      "Val Loss: 0.0218\n"
     ]
    },
    {
     "name": "stderr",
     "output_type": "stream",
     "text": [
      "100%|█████████████████████████████████████████████████████████████████████████████████████████████████████████| 2348/2348 [00:17<00:00, 130.66it/s]\n",
      "100%|███████████████████████████████████████████████████████████████████████████████████████████████████████████| 124/124 [00:00<00:00, 147.26it/s]\n"
     ]
    },
    {
     "name": "stdout",
     "output_type": "stream",
     "text": [
      "Epoch [19/50]\n",
      "Train Loss: 0.0209\n",
      "Val Loss: 0.0209\n"
     ]
    },
    {
     "name": "stderr",
     "output_type": "stream",
     "text": [
      "100%|█████████████████████████████████████████████████████████████████████████████████████████████████████████| 2348/2348 [00:19<00:00, 123.24it/s]\n",
      "100%|███████████████████████████████████████████████████████████████████████████████████████████████████████████| 124/124 [00:00<00:00, 148.51it/s]\n"
     ]
    },
    {
     "name": "stdout",
     "output_type": "stream",
     "text": [
      "Epoch [20/50]\n",
      "Train Loss: 0.0211\n",
      "Val Loss: 0.0211\n"
     ]
    },
    {
     "name": "stderr",
     "output_type": "stream",
     "text": [
      "100%|█████████████████████████████████████████████████████████████████████████████████████████████████████████| 2348/2348 [00:18<00:00, 125.96it/s]\n",
      "100%|███████████████████████████████████████████████████████████████████████████████████████████████████████████| 124/124 [00:00<00:00, 147.96it/s]\n"
     ]
    },
    {
     "name": "stdout",
     "output_type": "stream",
     "text": [
      "Epoch [21/50]\n",
      "Train Loss: 0.0205\n",
      "Val Loss: 0.021\n"
     ]
    },
    {
     "name": "stderr",
     "output_type": "stream",
     "text": [
      "100%|█████████████████████████████████████████████████████████████████████████████████████████████████████████| 2348/2348 [00:18<00:00, 129.49it/s]\n",
      "100%|███████████████████████████████████████████████████████████████████████████████████████████████████████████| 124/124 [00:00<00:00, 157.24it/s]\n"
     ]
    },
    {
     "name": "stdout",
     "output_type": "stream",
     "text": [
      "Epoch [22/50]\n",
      "Train Loss: 0.0209\n",
      "Val Loss: 0.0212\n"
     ]
    },
    {
     "name": "stderr",
     "output_type": "stream",
     "text": [
      "100%|█████████████████████████████████████████████████████████████████████████████████████████████████████████| 2348/2348 [00:17<00:00, 137.22it/s]\n",
      "100%|███████████████████████████████████████████████████████████████████████████████████████████████████████████| 124/124 [00:00<00:00, 161.78it/s]\n"
     ]
    },
    {
     "name": "stdout",
     "output_type": "stream",
     "text": [
      "Epoch [23/50]\n",
      "Train Loss: 0.0204\n",
      "Val Loss: 0.0215\n"
     ]
    },
    {
     "name": "stderr",
     "output_type": "stream",
     "text": [
      "100%|█████████████████████████████████████████████████████████████████████████████████████████████████████████| 2348/2348 [00:17<00:00, 135.50it/s]\n",
      "100%|███████████████████████████████████████████████████████████████████████████████████████████████████████████| 124/124 [00:00<00:00, 156.58it/s]\n"
     ]
    },
    {
     "name": "stdout",
     "output_type": "stream",
     "text": [
      "Epoch [24/50]\n",
      "Train Loss: 0.0205\n",
      "Val Loss: 0.0207\n"
     ]
    },
    {
     "name": "stderr",
     "output_type": "stream",
     "text": [
      "100%|█████████████████████████████████████████████████████████████████████████████████████████████████████████| 2348/2348 [00:18<00:00, 129.19it/s]\n",
      "100%|███████████████████████████████████████████████████████████████████████████████████████████████████████████| 124/124 [00:00<00:00, 153.94it/s]\n"
     ]
    },
    {
     "name": "stdout",
     "output_type": "stream",
     "text": [
      "Epoch [25/50]\n",
      "Train Loss: 0.0205\n",
      "Val Loss: 0.0217\n"
     ]
    },
    {
     "name": "stderr",
     "output_type": "stream",
     "text": [
      "100%|█████████████████████████████████████████████████████████████████████████████████████████████████████████| 2348/2348 [00:17<00:00, 137.83it/s]\n",
      "100%|███████████████████████████████████████████████████████████████████████████████████████████████████████████| 124/124 [00:00<00:00, 154.38it/s]\n"
     ]
    },
    {
     "name": "stdout",
     "output_type": "stream",
     "text": [
      "Epoch [26/50]\n",
      "Train Loss: 0.02\n",
      "Val Loss: 0.021\n"
     ]
    },
    {
     "name": "stderr",
     "output_type": "stream",
     "text": [
      "100%|█████████████████████████████████████████████████████████████████████████████████████████████████████████| 2348/2348 [00:17<00:00, 134.18it/s]\n",
      "100%|███████████████████████████████████████████████████████████████████████████████████████████████████████████| 124/124 [00:00<00:00, 150.94it/s]\n"
     ]
    },
    {
     "name": "stdout",
     "output_type": "stream",
     "text": [
      "Epoch [27/50]\n",
      "Train Loss: 0.0204\n",
      "Val Loss: 0.0211\n"
     ]
    },
    {
     "name": "stderr",
     "output_type": "stream",
     "text": [
      "100%|█████████████████████████████████████████████████████████████████████████████████████████████████████████| 2348/2348 [00:17<00:00, 135.66it/s]\n",
      "100%|███████████████████████████████████████████████████████████████████████████████████████████████████████████| 124/124 [00:00<00:00, 157.92it/s]\n"
     ]
    },
    {
     "name": "stdout",
     "output_type": "stream",
     "text": [
      "Epoch [28/50]\n",
      "Train Loss: 0.0198\n",
      "Val Loss: 0.0209\n"
     ]
    },
    {
     "name": "stderr",
     "output_type": "stream",
     "text": [
      "100%|█████████████████████████████████████████████████████████████████████████████████████████████████████████| 2348/2348 [00:17<00:00, 135.09it/s]\n",
      "100%|███████████████████████████████████████████████████████████████████████████████████████████████████████████| 124/124 [00:00<00:00, 150.10it/s]\n"
     ]
    },
    {
     "name": "stdout",
     "output_type": "stream",
     "text": [
      "Epoch [29/50]\n",
      "Train Loss: 0.0201\n",
      "Val Loss: 0.0208\n"
     ]
    },
    {
     "name": "stderr",
     "output_type": "stream",
     "text": [
      "100%|█████████████████████████████████████████████████████████████████████████████████████████████████████████| 2348/2348 [00:18<00:00, 129.91it/s]\n",
      "100%|███████████████████████████████████████████████████████████████████████████████████████████████████████████| 124/124 [00:00<00:00, 139.89it/s]\n"
     ]
    },
    {
     "name": "stdout",
     "output_type": "stream",
     "text": [
      "Epoch [30/50]\n",
      "Train Loss: 0.0198\n",
      "Val Loss: 0.0212\n"
     ]
    },
    {
     "name": "stderr",
     "output_type": "stream",
     "text": [
      "100%|█████████████████████████████████████████████████████████████████████████████████████████████████████████| 2348/2348 [00:17<00:00, 130.46it/s]\n",
      "100%|███████████████████████████████████████████████████████████████████████████████████████████████████████████| 124/124 [00:00<00:00, 156.81it/s]\n"
     ]
    },
    {
     "name": "stdout",
     "output_type": "stream",
     "text": [
      "Epoch [31/50]\n",
      "Train Loss: 0.0197\n",
      "Val Loss: 0.0208\n"
     ]
    },
    {
     "name": "stderr",
     "output_type": "stream",
     "text": [
      "100%|█████████████████████████████████████████████████████████████████████████████████████████████████████████| 2348/2348 [00:17<00:00, 130.51it/s]\n",
      "100%|███████████████████████████████████████████████████████████████████████████████████████████████████████████| 124/124 [00:00<00:00, 155.67it/s]\n"
     ]
    },
    {
     "name": "stdout",
     "output_type": "stream",
     "text": [
      "Epoch [32/50]\n",
      "Train Loss: 0.02\n",
      "Val Loss: 0.0211\n"
     ]
    },
    {
     "name": "stderr",
     "output_type": "stream",
     "text": [
      "100%|█████████████████████████████████████████████████████████████████████████████████████████████████████████| 2348/2348 [00:17<00:00, 135.94it/s]\n",
      "100%|███████████████████████████████████████████████████████████████████████████████████████████████████████████| 124/124 [00:00<00:00, 163.11it/s]\n"
     ]
    },
    {
     "name": "stdout",
     "output_type": "stream",
     "text": [
      "Epoch [33/50]\n",
      "Train Loss: 0.0194\n",
      "Val Loss: 0.0214\n"
     ]
    },
    {
     "name": "stderr",
     "output_type": "stream",
     "text": [
      "100%|█████████████████████████████████████████████████████████████████████████████████████████████████████████| 2348/2348 [00:17<00:00, 135.33it/s]\n",
      "100%|███████████████████████████████████████████████████████████████████████████████████████████████████████████| 124/124 [00:00<00:00, 161.05it/s]\n"
     ]
    },
    {
     "name": "stdout",
     "output_type": "stream",
     "text": [
      "Epoch [34/50]\n",
      "Train Loss: 0.0198\n",
      "Val Loss: 0.0209\n"
     ]
    },
    {
     "name": "stderr",
     "output_type": "stream",
     "text": [
      "100%|█████████████████████████████████████████████████████████████████████████████████████████████████████████| 2348/2348 [00:17<00:00, 137.37it/s]\n",
      "100%|███████████████████████████████████████████████████████████████████████████████████████████████████████████| 124/124 [00:00<00:00, 161.33it/s]\n"
     ]
    },
    {
     "name": "stdout",
     "output_type": "stream",
     "text": [
      "Epoch [35/50]\n",
      "Train Loss: 0.0194\n",
      "Val Loss: 0.0218\n"
     ]
    },
    {
     "name": "stderr",
     "output_type": "stream",
     "text": [
      "100%|█████████████████████████████████████████████████████████████████████████████████████████████████████████| 2348/2348 [00:17<00:00, 135.57it/s]\n",
      "100%|███████████████████████████████████████████████████████████████████████████████████████████████████████████| 124/124 [00:00<00:00, 158.10it/s]\n"
     ]
    },
    {
     "name": "stdout",
     "output_type": "stream",
     "text": [
      "Epoch [36/50]\n",
      "Train Loss: 0.0194\n",
      "Val Loss: 0.0206\n"
     ]
    },
    {
     "name": "stderr",
     "output_type": "stream",
     "text": [
      "100%|█████████████████████████████████████████████████████████████████████████████████████████████████████████| 2348/2348 [00:17<00:00, 134.28it/s]\n",
      "100%|███████████████████████████████████████████████████████████████████████████████████████████████████████████| 124/124 [00:00<00:00, 161.19it/s]\n"
     ]
    },
    {
     "name": "stdout",
     "output_type": "stream",
     "text": [
      "Epoch [37/50]\n",
      "Train Loss: 0.0196\n",
      "Val Loss: 0.0215\n"
     ]
    },
    {
     "name": "stderr",
     "output_type": "stream",
     "text": [
      "100%|█████████████████████████████████████████████████████████████████████████████████████████████████████████| 2348/2348 [00:17<00:00, 131.66it/s]\n",
      "100%|███████████████████████████████████████████████████████████████████████████████████████████████████████████| 124/124 [00:00<00:00, 155.91it/s]\n"
     ]
    },
    {
     "name": "stdout",
     "output_type": "stream",
     "text": [
      "Epoch [38/50]\n",
      "Train Loss: 0.0189\n",
      "Val Loss: 0.0209\n"
     ]
    },
    {
     "name": "stderr",
     "output_type": "stream",
     "text": [
      "100%|█████████████████████████████████████████████████████████████████████████████████████████████████████████| 2348/2348 [00:18<00:00, 128.50it/s]\n",
      "100%|███████████████████████████████████████████████████████████████████████████████████████████████████████████| 124/124 [00:00<00:00, 156.77it/s]\n"
     ]
    },
    {
     "name": "stdout",
     "output_type": "stream",
     "text": [
      "Epoch [39/50]\n",
      "Train Loss: 0.0194\n",
      "Val Loss: 0.0206\n"
     ]
    },
    {
     "name": "stderr",
     "output_type": "stream",
     "text": [
      "100%|█████████████████████████████████████████████████████████████████████████████████████████████████████████| 2348/2348 [00:17<00:00, 133.99it/s]\n",
      "100%|███████████████████████████████████████████████████████████████████████████████████████████████████████████| 124/124 [00:00<00:00, 149.44it/s]\n"
     ]
    },
    {
     "name": "stdout",
     "output_type": "stream",
     "text": [
      "Epoch [40/50]\n",
      "Train Loss: 0.0189\n",
      "Val Loss: 0.0212\n"
     ]
    },
    {
     "name": "stderr",
     "output_type": "stream",
     "text": [
      "100%|█████████████████████████████████████████████████████████████████████████████████████████████████████████| 2348/2348 [00:17<00:00, 135.37it/s]\n",
      "100%|███████████████████████████████████████████████████████████████████████████████████████████████████████████| 124/124 [00:00<00:00, 154.12it/s]\n"
     ]
    },
    {
     "name": "stdout",
     "output_type": "stream",
     "text": [
      "Epoch [41/50]\n",
      "Train Loss: 0.019\n",
      "Val Loss: 0.021\n"
     ]
    },
    {
     "name": "stderr",
     "output_type": "stream",
     "text": [
      "100%|█████████████████████████████████████████████████████████████████████████████████████████████████████████| 2348/2348 [00:17<00:00, 137.08it/s]\n",
      "100%|███████████████████████████████████████████████████████████████████████████████████████████████████████████| 124/124 [00:00<00:00, 161.47it/s]\n"
     ]
    },
    {
     "name": "stdout",
     "output_type": "stream",
     "text": [
      "Epoch [42/50]\n",
      "Train Loss: 0.0189\n",
      "Val Loss: 0.0209\n"
     ]
    },
    {
     "name": "stderr",
     "output_type": "stream",
     "text": [
      "100%|█████████████████████████████████████████████████████████████████████████████████████████████████████████| 2348/2348 [00:17<00:00, 135.04it/s]\n",
      "100%|███████████████████████████████████████████████████████████████████████████████████████████████████████████| 124/124 [00:00<00:00, 161.97it/s]\n"
     ]
    },
    {
     "name": "stdout",
     "output_type": "stream",
     "text": [
      "Epoch [43/50]\n",
      "Train Loss: 0.0186\n",
      "Val Loss: 0.0204\n"
     ]
    },
    {
     "name": "stderr",
     "output_type": "stream",
     "text": [
      "100%|█████████████████████████████████████████████████████████████████████████████████████████████████████████| 2348/2348 [00:17<00:00, 135.25it/s]\n",
      "100%|███████████████████████████████████████████████████████████████████████████████████████████████████████████| 124/124 [00:00<00:00, 158.69it/s]\n"
     ]
    },
    {
     "name": "stdout",
     "output_type": "stream",
     "text": [
      "Epoch [44/50]\n",
      "Train Loss: 0.0189\n",
      "Val Loss: 0.0208\n"
     ]
    },
    {
     "name": "stderr",
     "output_type": "stream",
     "text": [
      "100%|█████████████████████████████████████████████████████████████████████████████████████████████████████████| 2348/2348 [00:17<00:00, 134.94it/s]\n",
      "100%|███████████████████████████████████████████████████████████████████████████████████████████████████████████| 124/124 [00:00<00:00, 153.50it/s]\n"
     ]
    },
    {
     "name": "stdout",
     "output_type": "stream",
     "text": [
      "Epoch [45/50]\n",
      "Train Loss: 0.0182\n",
      "Val Loss: 0.0219\n"
     ]
    },
    {
     "name": "stderr",
     "output_type": "stream",
     "text": [
      "100%|█████████████████████████████████████████████████████████████████████████████████████████████████████████| 2348/2348 [00:17<00:00, 135.96it/s]\n",
      "100%|███████████████████████████████████████████████████████████████████████████████████████████████████████████| 124/124 [00:00<00:00, 160.83it/s]\n"
     ]
    },
    {
     "name": "stdout",
     "output_type": "stream",
     "text": [
      "Epoch [46/50]\n",
      "Train Loss: 0.0189\n",
      "Val Loss: 0.0207\n"
     ]
    },
    {
     "name": "stderr",
     "output_type": "stream",
     "text": [
      "100%|█████████████████████████████████████████████████████████████████████████████████████████████████████████| 2348/2348 [00:17<00:00, 136.74it/s]\n",
      "100%|███████████████████████████████████████████████████████████████████████████████████████████████████████████| 124/124 [00:00<00:00, 162.12it/s]\n"
     ]
    },
    {
     "name": "stdout",
     "output_type": "stream",
     "text": [
      "Epoch [47/50]\n",
      "Train Loss: 0.0185\n",
      "Val Loss: 0.0212\n"
     ]
    },
    {
     "name": "stderr",
     "output_type": "stream",
     "text": [
      "100%|█████████████████████████████████████████████████████████████████████████████████████████████████████████| 2348/2348 [00:17<00:00, 135.21it/s]\n",
      "100%|███████████████████████████████████████████████████████████████████████████████████████████████████████████| 124/124 [00:00<00:00, 159.63it/s]\n"
     ]
    },
    {
     "name": "stdout",
     "output_type": "stream",
     "text": [
      "Epoch [48/50]\n",
      "Train Loss: 0.0182\n",
      "Val Loss: 0.0218\n"
     ]
    },
    {
     "name": "stderr",
     "output_type": "stream",
     "text": [
      "100%|█████████████████████████████████████████████████████████████████████████████████████████████████████████| 2348/2348 [00:17<00:00, 135.84it/s]\n",
      "100%|███████████████████████████████████████████████████████████████████████████████████████████████████████████| 124/124 [00:00<00:00, 162.61it/s]\n"
     ]
    },
    {
     "name": "stdout",
     "output_type": "stream",
     "text": [
      "Epoch [49/50]\n",
      "Train Loss: 0.0185\n",
      "Val Loss: 0.0206\n"
     ]
    },
    {
     "name": "stderr",
     "output_type": "stream",
     "text": [
      "100%|█████████████████████████████████████████████████████████████████████████████████████████████████████████| 2348/2348 [00:17<00:00, 136.98it/s]\n",
      "100%|███████████████████████████████████████████████████████████████████████████████████████████████████████████| 124/124 [00:00<00:00, 164.69it/s]"
     ]
    },
    {
     "name": "stdout",
     "output_type": "stream",
     "text": [
      "Epoch [50/50]\n",
      "Train Loss: 0.0178\n",
      "Val Loss: 0.0213\n"
     ]
    },
    {
     "name": "stderr",
     "output_type": "stream",
     "text": [
      "\n"
     ]
    }
   ],
   "source": [
    "num_epochs = 50\n",
    "history = []\n",
    "\n",
    "iters = len(train_dataloader)\n",
    "scheduler = torch.optim.lr_scheduler.CyclicLR(optimizer, base_lr=lr, max_lr=0.001, cycle_momentum=False)\n",
    "\n",
    "val_min_loss = None\n",
    "\n",
    "model_name = input(\"Input proper model name:\\t\")\n",
    "\n",
    "for epoch in range(num_epochs):\n",
    "    train_running_loss = 0.0\n",
    "    model.train()\n",
    "    for i, batch in enumerate(tqdm(train_dataloader, position=0, leave=True)):\n",
    "\n",
    "        # Every data instance is an input + label pair\n",
    "        X_train1, y_train1 = batch[0].to(torch.float32).to(DEVICE), batch[1].to(torch.float32).to(DEVICE)\n",
    "\n",
    "        # Make predictions for this batch\n",
    "        outputs = model(X_train1)\n",
    "\n",
    "        # Compute the loss and its gradients\n",
    "        loss = criterion(outputs, y_train1)\n",
    "        loss.backward()\n",
    "\n",
    "        # Adjust learning weights\n",
    "        optimizer.step()\n",
    "        scheduler.step()\n",
    "        \n",
    "        # Zero your gradients for every batch!\n",
    "        optimizer.zero_grad()\n",
    "\n",
    "        # Gather data and report\n",
    "        train_running_loss += loss.item()\n",
    "    \n",
    "    model.eval()\n",
    "    val_running_loss = 0.\n",
    "    \n",
    "    with torch.no_grad():\n",
    "        for i, batch in enumerate(tqdm(val_dataloader, position=0, leave=True)):\n",
    "\n",
    "            # Every data instance is an input + label pair\n",
    "            X_val1, y_val1 = batch[0].to(torch.float32).to(DEVICE), batch[1].to(torch.float32).to(DEVICE)\n",
    "\n",
    "            # Make predictions for this batch\n",
    "            outputs = model(X_val1)\n",
    "            # Compute the loss and its gradients\n",
    "            loss = criterion(outputs, y_val1)\n",
    "            \n",
    "            # Gather data and report\n",
    "            val_running_loss += loss.item()\n",
    "\n",
    "    mean_train_loss = train_running_loss/len(train_dataloader)\n",
    "    mean_val_loss = val_running_loss/len(val_dataloader)\n",
    "    \n",
    "    if val_min_loss is None:\n",
    "        val_min_loss = mean_val_loss\n",
    "    else:\n",
    "        if mean_val_loss < val_min_loss:\n",
    "            val_min_loss = mean_val_loss\n",
    "            torch.save(model.state_dict(), f'./models/{model_name}.pth')\n",
    "    \n",
    "    history.append([mean_train_loss, mean_val_loss])\n",
    "    \n",
    "    print(f\"Epoch [{epoch+1}/{num_epochs}]\\nTrain Loss: {round(mean_train_loss, 4)}\\nVal Loss: {round(mean_val_loss, 4)}\")"
   ]
  },
  {
   "cell_type": "code",
   "execution_count": 68,
   "id": "f5018a04",
   "metadata": {},
   "outputs": [
    {
     "data": {
      "image/png": "[encoded data removed]",
      "text/plain": [
       "<Figure size 640x480 with 1 Axes>"
      ]
     },
     "metadata": {},
     "output_type": "display_data"
    }
   ],
   "source": [
    "history = np.array(history)\n",
    "plt.plot(history)\n",
    "plt.legend([\"train\", \"val\"])\n",
    "plt.show()"
   ]
  },
  {
   "cell_type": "markdown",
   "id": "7eba765e",
   "metadata": {},
   "source": [
    "### Evaluation"
   ]
  },
  {
   "cell_type": "code",
   "execution_count": 69,
   "id": "2b1c3096",
   "metadata": {},
   "outputs": [],
   "source": [
    "X_val = torch.load(\"data/saved_train_val_data/X_val_normal_10_08.pt\")\n",
    "y_val = torch.load(\"data/saved_train_val_data/y_val_normal_10_08.pt\")"
   ]
  },
  {
   "cell_type": "code",
   "execution_count": 70,
   "id": "3ded7c76",
   "metadata": {},
   "outputs": [],
   "source": [
    "model.eval()\n",
    "preds = model(X_val.to(torch.float32).to(DEVICE)).detach().cpu().numpy()\n",
    "ground_truth = (y_val).numpy()"
   ]
  },
  {
   "cell_type": "markdown",
   "id": "f5fe1a1d",
   "metadata": {},
   "source": [
    "### MAE on test data"
   ]
  },
  {
   "cell_type": "code",
   "execution_count": 71,
   "id": "809062c2",
   "metadata": {},
   "outputs": [
    {
     "name": "stdout",
     "output_type": "stream",
     "text": [
      "0.1032\n"
     ]
    }
   ],
   "source": [
    "print(np.abs(preds - ground_truth).mean().round(4))"
   ]
  },
  {
   "cell_type": "markdown",
   "id": "5f915944",
   "metadata": {},
   "source": [
    "### KDE plot of ground truth and prediction"
   ]
  },
  {
   "cell_type": "code",
   "execution_count": 72,
   "id": "0d310f6a",
   "metadata": {},
   "outputs": [
    {
     "data": {
      "image/png": "[encoded data removed]",
      "text/plain": [
       "<Figure size 800x600 with 1 Axes>"
      ]
     },
     "metadata": {},
     "output_type": "display_data"
    }
   ],
   "source": [
    "# Create KDE plots for predictions and ground truth\n",
    "plt.figure(figsize=(8, 6))\n",
    "sns.kdeplot(preds.squeeze(), label='Predictions', color='blue')\n",
    "sns.kdeplot(ground_truth.squeeze(), label='Ground Truth', color='red')\n",
    "\n",
    "# Set labels and title\n",
    "plt.xlabel('Mean Booking')\n",
    "plt.ylabel('Density')\n",
    "plt.title('Kernel Density Estimation - Predictions vs. Ground Truth')\n",
    "plt.legend()\n",
    "\n",
    "# Show the plot\n",
    "plt.show()"
   ]
  },
  {
   "cell_type": "markdown",
   "id": "a819f360",
   "metadata": {},
   "source": [
    "### Scatter plot"
   ]
  },
  {
   "cell_type": "code",
   "execution_count": 73,
   "id": "db60d2d1",
   "metadata": {},
   "outputs": [
    {
     "data": {
      "image/png": "[encoded data removed]",
      "text/plain": [
       "<Figure size 800x600 with 1 Axes>"
      ]
     },
     "metadata": {},
     "output_type": "display_data"
    }
   ],
   "source": [
    "# Create a diagonal line for y = x\n",
    "x_values = np.linspace(min(preds[..., 0].min(), ground_truth[..., 0].min()), max(preds[..., 0].max(), ground_truth[..., 0].max()), 100)\n",
    "y_values = x_values\n",
    "\n",
    "# Plot the scatter plot\n",
    "plt.figure(figsize=(8, 6))\n",
    "sns.scatterplot(x=preds[..., 0], y=ground_truth[..., 0])\n",
    "\n",
    "# Plot the diagonal line\n",
    "plt.plot(x_values, y_values, color='red', linestyle='dashed', label='y = x')\n",
    "\n",
    "# Set labels and title\n",
    "plt.xlabel('Predictions')\n",
    "plt.ylabel('Ground Truth')\n",
    "plt.title('Scatter plot - Predictions vs. Ground Truth')\n",
    "\n",
    "# Show the plot\n",
    "plt.legend()\n",
    "plt.show()\n"
   ]
  },
  {
   "cell_type": "code",
   "execution_count": null,
   "id": "38edbfb6",
   "metadata": {},
   "outputs": [],
   "source": []
  }
 ],
 "metadata": {
  "kernelspec": {
   "display_name": "Python 3 (ipykernel)",
   "language": "python",
   "name": "python3"
  },
  "language_info": {
   "codemirror_mode": {
    "name": "ipython",
    "version": 3
   },
   "file_extension": ".py",
   "mimetype": "text/x-python",
   "name": "python",
   "nbconvert_exporter": "python",
   "pygments_lexer": "ipython3",
   "version": "3.9.12"
  }
 },
 "nbformat": 4,
 "nbformat_minor": 5
}
