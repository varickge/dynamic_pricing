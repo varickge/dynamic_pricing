{
 "cells": [
  {
   "cell_type": "code",
   "execution_count": 1,
   "id": "c5ff7cdc",
   "metadata": {},
   "outputs": [],
   "source": [
    "from utils import *"
   ]
  },
  {
   "cell_type": "markdown",
   "id": "7d2a038d",
   "metadata": {},
   "source": [
    "# Data preprocessing and loading for fast training"
   ]
  },
  {
   "cell_type": "markdown",
   "id": "33799aeb",
   "metadata": {},
   "source": [
    "## Load source data"
   ]
  },
  {
   "cell_type": "code",
   "execution_count": 2,
   "id": "89d7fcb4",
   "metadata": {},
   "outputs": [],
   "source": [
    "CONST_COLUMNS = [\n",
    "    \"Stellensubart_1\",\n",
    "    \"Stellensubart_2\",\n",
    "    \"Stellensubart_3\",\n",
    "    \"Stellensubart_4\",\n",
    "    *[f\"T{i}\" for i in range(1, 35)],\n",
    "    \"Preis\",\n",
    "    \"Beleuchtet\",\n",
    "    \"Laenge\",\n",
    "    \"Breite\",\n",
    "    \"Eigenfläche\",\n",
    "    \"PPSVACWert\",\n",
    "    \"Qid\",\n",
    "    \"GJ\",\n",
    "]\n",
    "data = pd.read_pickle(\"data/df_gesamt_15_08_prepocessed_einworner_added.pkl\")\n",
    "target_year_having_qid = data[data.GJ == 2023].Qid\n",
    "cleaned_data = data[data.Qid.isin(target_year_having_qid)]\n",
    "cleaned_data = cleaned_data.sort_values(by=[\"Qid\", \"GJ\"]).set_index(\"Qid\", drop=False)\n",
    "cleaned_data = cleaned_data.loc[:, CONST_COLUMNS]"
   ]
  },
  {
   "cell_type": "markdown",
   "id": "39df41e5",
   "metadata": {},
   "source": [
    "## Load distance data"
   ]
  },
  {
   "cell_type": "code",
   "execution_count": 3,
   "id": "6a013d49",
   "metadata": {},
   "outputs": [],
   "source": [
    "distance_2018 = pd.read_csv(\"./data/distances/distances_2018.csv\").set_index(\"Qid1\")\n",
    "distance_2019 = pd.read_csv(\"./data/distances/distances_2019.csv\").set_index(\"Qid1\")\n",
    "distance_2020 = pd.read_csv(\"./data/distances/distances_2020.csv\").set_index(\"Qid1\")\n",
    "distance_2021 = pd.read_csv(\"./data/distances/distances_2021.csv\").set_index(\"Qid1\")\n",
    "distance_2022 = pd.read_csv(\"./data/distances/distances_2022.csv\").set_index(\"Qid1\")"
   ]
  },
  {
   "cell_type": "markdown",
   "id": "3871a3c8",
   "metadata": {},
   "source": [
    "## Normalize cols"
   ]
  },
  {
   "cell_type": "code",
   "execution_count": 4,
   "id": "cf65d9ab",
   "metadata": {},
   "outputs": [],
   "source": [
    "cleaned_data.Preis = (\n",
    "    cleaned_data.Preis - cleaned_data.Preis.mean()\n",
    ") / cleaned_data.Preis.std()\n",
    "\n",
    "cleaned_data.Laenge = (cleaned_data.Laenge - (-180.0)) / (2 * 180.0)\n",
    "cleaned_data.Breite = (cleaned_data.Breite - (-90.0)) / (2 * 90.0)\n",
    "\n",
    "cleaned_data.PPSVACWert = (\n",
    "    cleaned_data.PPSVACWert - cleaned_data.PPSVACWert.mean()\n",
    ") / cleaned_data.PPSVACWert.std()"
   ]
  },
  {
   "cell_type": "code",
   "execution_count": 5,
   "id": "2c4cf740",
   "metadata": {},
   "outputs": [],
   "source": [
    "cleaned_data.loc[:, \"T1\":\"T22\"] = cleaned_data.loc[:, \"T1\":\"T22\"].replace(-1, 0)"
   ]
  },
  {
   "cell_type": "markdown",
   "id": "84316edb",
   "metadata": {},
   "source": [
    "## Split data into years"
   ]
  },
  {
   "cell_type": "code",
   "execution_count": 6,
   "id": "060a7586",
   "metadata": {},
   "outputs": [],
   "source": [
    "data_2018 = cleaned_data[cleaned_data.GJ == 2018].drop(columns=[\"Qid\", \"GJ\"]).copy()\n",
    "data_2019 = cleaned_data[cleaned_data.GJ == 2019].drop(columns=[\"Qid\", \"GJ\"]).copy()\n",
    "data_2020 = cleaned_data[cleaned_data.GJ == 2020].drop(columns=[\"Qid\", \"GJ\"]).copy()\n",
    "data_2021 = cleaned_data[cleaned_data.GJ == 2021].drop(columns=[\"Qid\", \"GJ\"]).copy()\n",
    "data_2022 = cleaned_data[cleaned_data.GJ == 2022].drop(columns=[\"Qid\", \"GJ\"]).copy()\n",
    "data_2023 = cleaned_data[cleaned_data.GJ == 2023].drop(columns=[\"Qid\", \"GJ\"]).copy()"
   ]
  },
  {
   "cell_type": "markdown",
   "id": "8086a29a",
   "metadata": {},
   "source": [
    "## Calculate label"
   ]
  },
  {
   "cell_type": "code",
   "execution_count": 7,
   "id": "3c6a4253",
   "metadata": {},
   "outputs": [],
   "source": [
    "data_2023[\"target\"] = data_2023.loc[:, \"T1\":\"T22\"].mean(axis=1)"
   ]
  },
  {
   "cell_type": "markdown",
   "id": "5015a4ff",
   "metadata": {},
   "source": [
    "## Train / Validation split"
   ]
  },
  {
   "cell_type": "code",
   "execution_count": 8,
   "id": "b4199599",
   "metadata": {},
   "outputs": [],
   "source": [
    "all_valid_qids = cleaned_data.Qid.unique()\n",
    "qid_train, qid_val = train_test_split(\n",
    "    all_valid_qids, test_size=0.1, random_state=2023\n",
    ")"
   ]
  },
  {
   "cell_type": "markdown",
   "id": "63c78be7",
   "metadata": {},
   "source": [
    "## Data Loading"
   ]
  },
  {
   "cell_type": "code",
   "execution_count": 9,
   "id": "4cd0e808",
   "metadata": {},
   "outputs": [],
   "source": [
    "all_year_data = [\n",
    "    data_2018,\n",
    "    data_2019,\n",
    "    data_2020,\n",
    "    data_2021,\n",
    "    data_2022,\n",
    "]"
   ]
  },
  {
   "cell_type": "code",
   "execution_count": 10,
   "id": "a63d9487",
   "metadata": {},
   "outputs": [],
   "source": [
    "def preprocess_data(qids, all_year_data, data_2023):\n",
    "    columns_to_drop = [\"PPSVACWert\", *[f\"T{i}\" for i in range(1, 35)], \"target\"]\n",
    "\n",
    "    X, x, y = [], [], []\n",
    "\n",
    "    for idx, qid in enumerate(tqdm(qids)):\n",
    "        features = []\n",
    "\n",
    "        for year_data in all_year_data:\n",
    "            \n",
    "            try:\n",
    "                features.append(torch.from_numpy(year_data.loc[qid].values))\n",
    "            except KeyError:\n",
    "                features.append(torch.zeros(44))\n",
    "            \n",
    "            \n",
    "        self_data_2023 = torch.from_numpy(\n",
    "            data_2023.loc[qid].drop(labels=columns_to_drop).values\n",
    "        )\n",
    "        \n",
    "        features = torch.stack(features, dim=0)\n",
    "        label = torch.tensor([data_2023.loc[qid, \"target\"]])\n",
    "\n",
    "        X.append(features)\n",
    "        x.append(self_data_2023)\n",
    "        y.append(label)\n",
    "\n",
    "    X = torch.stack(X, dim=0)\n",
    "    x = torch.stack(x, dim=0)\n",
    "    y = torch.stack(y, dim=0)\n",
    "\n",
    "    return X, x, y\n"
   ]
  },
  {
   "cell_type": "markdown",
   "id": "653d1c14",
   "metadata": {},
   "source": [
    "### Train data"
   ]
  },
  {
   "cell_type": "code",
   "execution_count": 11,
   "id": "92cc348a",
   "metadata": {},
   "outputs": [
    {
     "name": "stderr",
     "output_type": "stream",
     "text": [
      "100%|█████████████████████████████████| 122307/122307 [00:44<00:00, 2732.38it/s]\n"
     ]
    }
   ],
   "source": [
    "X_train, x_train, y_train = preprocess_data(\n",
    "    qid_train, all_year_data, data_2023\n",
    ")"
   ]
  },
  {
   "cell_type": "code",
   "execution_count": 12,
   "id": "b770e626",
   "metadata": {},
   "outputs": [],
   "source": [
    "torch.save(X_train, \"./data/proof_of_concept/X_train_lstm_without_neighbours.pt\")\n",
    "torch.save(x_train, \"./data/proof_of_concept/x_train_lstm_without_neighbours.pt\")\n",
    "torch.save(y_train, \"./data/proof_of_concept/y_train_lstm_without_neighbours.pt\")"
   ]
  },
  {
   "cell_type": "markdown",
   "id": "13987ac1",
   "metadata": {},
   "source": [
    "### Validation data"
   ]
  },
  {
   "cell_type": "code",
   "execution_count": 13,
   "id": "eb275eea",
   "metadata": {},
   "outputs": [
    {
     "name": "stderr",
     "output_type": "stream",
     "text": [
      "100%|███████████████████████████████████| 13590/13590 [00:04<00:00, 2844.16it/s]\n"
     ]
    }
   ],
   "source": [
    "X_val, x_val, y_val = preprocess_data(\n",
    "    qid_val, all_year_data, data_2023\n",
    ")\n",
    "\n",
    "torch.save(X_val, \"./data/proof_of_concept/X_val_lstm_without_neighbours.pt\")\n",
    "torch.save(x_val, \"./data/proof_of_concept/x_val_lstm_without_neighbours.pt\")\n",
    "torch.save(y_val, \"./data/proof_of_concept/y_val_lstm_without_neighbours.pt\")"
   ]
  },
  {
   "cell_type": "markdown",
   "id": "b5c4138d",
   "metadata": {},
   "source": [
    "### Test data"
   ]
  },
  {
   "cell_type": "code",
   "execution_count": 14,
   "id": "d53758c1",
   "metadata": {},
   "outputs": [],
   "source": [
    "# X_test, x_test, y_test = preprocess_data(\n",
    "#     [9860, 9673, 9855, 9333], all_year_data, all_year_distances, data_2023\n",
    "# )\n",
    "\n",
    "# torch.save(X_test, \"./data/proof_of_concept/X_test_lstm_year_price.pt\")\n",
    "# torch.save(x_test, \"./data/proof_of_concept/x_test_lstm_year_price.pt\")\n",
    "# torch.save(y_test, \"./data/proof_of_concept/y_test_lstm_year_price.pt\")"
   ]
  },
  {
   "cell_type": "markdown",
   "id": "d851d1e4",
   "metadata": {},
   "source": [
    "# Preparation for training"
   ]
  },
  {
   "cell_type": "code",
   "execution_count": 39,
   "id": "341c2e02",
   "metadata": {},
   "outputs": [],
   "source": [
    "class LSTMModel(nn.Module):\n",
    "    def __init__(self, input_size, hidden_size, num_layers, output_size):\n",
    "        super(LSTMModel, self).__init__()\n",
    "        self.hidden_size = hidden_size\n",
    "        self.num_layers = num_layers\n",
    "\n",
    "        self.lstm = nn.LSTM(\n",
    "            input_size,\n",
    "            hidden_size,\n",
    "            num_layers,\n",
    "            batch_first=True,\n",
    "            bias=True,\n",
    "            dropout=0.,\n",
    "        )\n",
    "        \n",
    "        self.fc_2 = nn.Sequential(\n",
    "            nn.Linear(hidden_size + 9, hidden_size // 2),\n",
    "            nn.Sigmoid(),\n",
    "            nn.BatchNorm1d(hidden_size // 2),\n",
    "            nn.Dropout1d(0.06),\n",
    "            nn.Linear(hidden_size // 2, hidden_size // 4),\n",
    "            nn.Sigmoid(),\n",
    "            nn.BatchNorm1d(hidden_size // 4),\n",
    "            nn.Dropout1d(0.06),\n",
    "            nn.Linear(hidden_size // 4, hidden_size // 8),\n",
    "            nn.Sigmoid(),\n",
    "            nn.BatchNorm1d(hidden_size // 8),\n",
    "            nn.Dropout1d(0.06),\n",
    "            nn.Linear(hidden_size // 8, output_size),\n",
    "        )\n",
    "\n",
    "    def forward(self, x, x_target):\n",
    "\n",
    "        out, _ = self.lstm(x)\n",
    "        out = out[:, -1, ...]\n",
    "        out = torch.cat([out, x_target], dim=-1)\n",
    "        out = self.fc_2(out)\n",
    "\n",
    "        return out"
   ]
  },
  {
   "cell_type": "code",
   "execution_count": 40,
   "id": "6bddb246",
   "metadata": {},
   "outputs": [],
   "source": [
    "class CustomDataset(Dataset):\n",
    "    def __init__(\n",
    "        self,\n",
    "        path_X,\n",
    "        path_x,\n",
    "        path_y,\n",
    "    ):\n",
    "        self.data_X = torch.load(path_X).to(dtype=torch.float32)\n",
    "        self.data_x = torch.load(path_x).to(dtype=torch.float32)\n",
    "        self.data_y = torch.load(path_y).to(dtype=torch.float32)\n",
    "\n",
    "\n",
    "    def __getitem__(self, index):\n",
    "        X, x, y = (\n",
    "            self.data_X[index].clone(),\n",
    "            self.data_x[index].clone(),\n",
    "            self.data_y[index].clone(),\n",
    "        )\n",
    "        \n",
    "        return X, x, y\n",
    "\n",
    "    def __len__(self):\n",
    "        return len(self.data_X)"
   ]
  },
  {
   "cell_type": "code",
   "execution_count": 41,
   "id": "3057d8e3",
   "metadata": {},
   "outputs": [],
   "source": [
    "BATCH_SIZE = 64\n",
    "LEARNING_RATE = 0.001"
   ]
  },
  {
   "cell_type": "code",
   "execution_count": 42,
   "id": "ca25474a",
   "metadata": {},
   "outputs": [],
   "source": [
    "model = LSTMModel(44, 512, 5, 1).to(DEVICE)\n",
    "criterion = nn.MSELoss()"
   ]
  },
  {
   "cell_type": "code",
   "execution_count": 43,
   "id": "ead06f92",
   "metadata": {},
   "outputs": [],
   "source": [
    "optimizer = torch.optim.Adam(model.parameters(), lr=LEARNING_RATE)"
   ]
  },
  {
   "cell_type": "code",
   "execution_count": 44,
   "id": "ba46abb0",
   "metadata": {},
   "outputs": [
    {
     "name": "stdout",
     "output_type": "stream",
     "text": [
      "Total training instances:\t122307\n",
      "Total validation instances:\t13590\n"
     ]
    }
   ],
   "source": [
    "train_dataset = CustomDataset(\n",
    "    \"./data/proof_of_concept/X_train_lstm_without_neighbours.pt\",\n",
    "    \"./data/proof_of_concept/x_train_lstm_without_neighbours.pt\",\n",
    "    \"./data/proof_of_concept/y_train_lstm_without_neighbours.pt\",\n",
    ")\n",
    "\n",
    "val_dataset = CustomDataset(\n",
    "    \"./data/proof_of_concept/X_val_lstm_without_neighbours.pt\",\n",
    "    \"./data/proof_of_concept/x_val_lstm_without_neighbours.pt\",\n",
    "    \"./data/proof_of_concept/y_val_lstm_without_neighbours.pt\",\n",
    ")\n",
    "\n",
    "train_dataloader = DataLoader(\n",
    "    train_dataset, batch_size=BATCH_SIZE, shuffle=True, drop_last=False\n",
    ")\n",
    "val_dataloader = DataLoader(\n",
    "    val_dataset, batch_size=BATCH_SIZE, shuffle=False, drop_last=False\n",
    ")\n",
    "\n",
    "print(f\"Total training instances:\\t{train_dataset.data_X.shape[0]}\")\n",
    "print(f\"Total validation instances:\\t{val_dataset.data_X.shape[0]}\")"
   ]
  },
  {
   "cell_type": "markdown",
   "id": "688c72fb",
   "metadata": {},
   "source": [
    "# Training"
   ]
  },
  {
   "cell_type": "code",
   "execution_count": 45,
   "id": "5ac941ea",
   "metadata": {},
   "outputs": [
    {
     "name": "stdout",
     "output_type": "stream",
     "text": [
      "Input proper model name:\ttesto\n"
     ]
    }
   ],
   "source": [
    "num_epochs = 200\n",
    "history = []\n",
    "val_min_loss = float(\"+inf\")\n",
    "\n",
    "model_name = \"\"\n",
    "\n",
    "while model_name == \"\":\n",
    "    model_name = input(\"Input proper model name:\\t\")"
   ]
  },
  {
   "cell_type": "code",
   "execution_count": 46,
   "id": "cb7c527e",
   "metadata": {
    "scrolled": true
   },
   "outputs": [
    {
     "name": "stderr",
     "output_type": "stream",
     "text": [
      "100%|██████████████████████████████████████| 1912/1912 [00:08<00:00, 217.25it/s]\n",
      "100%|████████████████████████████████████████| 213/213 [00:00<00:00, 711.10it/s]\n"
     ]
    },
    {
     "name": "stdout",
     "output_type": "stream",
     "text": [
      "Epoch [1/200]\n",
      "Train Loss: 0.0338\n",
      "Val Loss: 0.0222\n",
      "Best Val loss: inf\n",
      "Saving best model....\n"
     ]
    },
    {
     "name": "stderr",
     "output_type": "stream",
     "text": [
      "100%|██████████████████████████████████████| 1912/1912 [00:08<00:00, 217.42it/s]\n",
      "100%|████████████████████████████████████████| 213/213 [00:00<00:00, 711.36it/s]\n"
     ]
    },
    {
     "name": "stdout",
     "output_type": "stream",
     "text": [
      "Epoch [2/200]\n",
      "Train Loss: 0.0271\n",
      "Val Loss: 0.024\n",
      "Best Val loss: 0.0222\n"
     ]
    },
    {
     "name": "stderr",
     "output_type": "stream",
     "text": [
      "100%|██████████████████████████████████████| 1912/1912 [00:08<00:00, 216.60it/s]\n",
      "100%|████████████████████████████████████████| 213/213 [00:00<00:00, 700.70it/s]\n"
     ]
    },
    {
     "name": "stdout",
     "output_type": "stream",
     "text": [
      "Epoch [3/200]\n",
      "Train Loss: 0.0264\n",
      "Val Loss: 0.0217\n",
      "Best Val loss: 0.0222\n",
      "Saving best model....\n"
     ]
    },
    {
     "name": "stderr",
     "output_type": "stream",
     "text": [
      "100%|██████████████████████████████████████| 1912/1912 [00:08<00:00, 218.45it/s]\n",
      "100%|████████████████████████████████████████| 213/213 [00:00<00:00, 710.08it/s]\n"
     ]
    },
    {
     "name": "stdout",
     "output_type": "stream",
     "text": [
      "Epoch [4/200]\n",
      "Train Loss: 0.0261\n",
      "Val Loss: 0.0189\n",
      "Best Val loss: 0.0217\n",
      "Saving best model....\n"
     ]
    },
    {
     "name": "stderr",
     "output_type": "stream",
     "text": [
      "100%|██████████████████████████████████████| 1912/1912 [00:08<00:00, 218.37it/s]\n",
      "100%|████████████████████████████████████████| 213/213 [00:00<00:00, 710.44it/s]\n"
     ]
    },
    {
     "name": "stdout",
     "output_type": "stream",
     "text": [
      "Epoch [5/200]\n",
      "Train Loss: 0.0256\n",
      "Val Loss: 0.021\n",
      "Best Val loss: 0.0189\n"
     ]
    },
    {
     "name": "stderr",
     "output_type": "stream",
     "text": [
      "100%|██████████████████████████████████████| 1912/1912 [00:08<00:00, 218.52it/s]\n",
      "100%|████████████████████████████████████████| 213/213 [00:00<00:00, 709.49it/s]\n"
     ]
    },
    {
     "name": "stdout",
     "output_type": "stream",
     "text": [
      "Epoch [6/200]\n",
      "Train Loss: 0.0254\n",
      "Val Loss: 0.0178\n",
      "Best Val loss: 0.0189\n",
      "Saving best model....\n"
     ]
    },
    {
     "name": "stderr",
     "output_type": "stream",
     "text": [
      "100%|██████████████████████████████████████| 1912/1912 [00:08<00:00, 217.56it/s]\n",
      "100%|████████████████████████████████████████| 213/213 [00:00<00:00, 709.25it/s]\n"
     ]
    },
    {
     "name": "stdout",
     "output_type": "stream",
     "text": [
      "Epoch [7/200]\n",
      "Train Loss: 0.025\n",
      "Val Loss: 0.0184\n",
      "Best Val loss: 0.0178\n"
     ]
    },
    {
     "name": "stderr",
     "output_type": "stream",
     "text": [
      "100%|██████████████████████████████████████| 1912/1912 [00:08<00:00, 217.52it/s]\n",
      "100%|████████████████████████████████████████| 213/213 [00:00<00:00, 709.02it/s]\n"
     ]
    },
    {
     "name": "stdout",
     "output_type": "stream",
     "text": [
      "Epoch [8/200]\n",
      "Train Loss: 0.0247\n",
      "Val Loss: 0.0216\n",
      "Best Val loss: 0.0178\n"
     ]
    },
    {
     "name": "stderr",
     "output_type": "stream",
     "text": [
      "100%|██████████████████████████████████████| 1912/1912 [00:08<00:00, 217.54it/s]\n",
      "100%|████████████████████████████████████████| 213/213 [00:00<00:00, 709.91it/s]\n"
     ]
    },
    {
     "name": "stdout",
     "output_type": "stream",
     "text": [
      "Epoch [9/200]\n",
      "Train Loss: 0.0245\n",
      "Val Loss: 0.0168\n",
      "Best Val loss: 0.0178\n",
      "Saving best model....\n"
     ]
    },
    {
     "name": "stderr",
     "output_type": "stream",
     "text": [
      "100%|██████████████████████████████████████| 1912/1912 [00:08<00:00, 216.41it/s]\n",
      "100%|████████████████████████████████████████| 213/213 [00:00<00:00, 699.16it/s]\n"
     ]
    },
    {
     "name": "stdout",
     "output_type": "stream",
     "text": [
      "Epoch [10/200]\n",
      "Train Loss: 0.0242\n",
      "Val Loss: 0.0168\n",
      "Best Val loss: 0.0168\n"
     ]
    },
    {
     "name": "stderr",
     "output_type": "stream",
     "text": [
      "100%|██████████████████████████████████████| 1912/1912 [00:08<00:00, 216.83it/s]\n",
      "100%|████████████████████████████████████████| 213/213 [00:00<00:00, 700.42it/s]\n"
     ]
    },
    {
     "name": "stdout",
     "output_type": "stream",
     "text": [
      "Epoch [11/200]\n",
      "Train Loss: 0.0238\n",
      "Val Loss: 0.0198\n",
      "Best Val loss: 0.0168\n"
     ]
    },
    {
     "name": "stderr",
     "output_type": "stream",
     "text": [
      "100%|██████████████████████████████████████| 1912/1912 [00:08<00:00, 216.34it/s]\n",
      "100%|████████████████████████████████████████| 213/213 [00:00<00:00, 699.19it/s]\n"
     ]
    },
    {
     "name": "stdout",
     "output_type": "stream",
     "text": [
      "Epoch [12/200]\n",
      "Train Loss: 0.0234\n",
      "Val Loss: 0.0174\n",
      "Best Val loss: 0.0168\n"
     ]
    },
    {
     "name": "stderr",
     "output_type": "stream",
     "text": [
      "100%|██████████████████████████████████████| 1912/1912 [00:08<00:00, 216.31it/s]\n",
      "100%|████████████████████████████████████████| 213/213 [00:00<00:00, 697.75it/s]\n"
     ]
    },
    {
     "name": "stdout",
     "output_type": "stream",
     "text": [
      "Epoch [13/200]\n",
      "Train Loss: 0.0229\n",
      "Val Loss: 0.0171\n",
      "Best Val loss: 0.0168\n"
     ]
    },
    {
     "name": "stderr",
     "output_type": "stream",
     "text": [
      "100%|██████████████████████████████████████| 1912/1912 [00:08<00:00, 216.22it/s]\n",
      "100%|████████████████████████████████████████| 213/213 [00:00<00:00, 697.07it/s]\n"
     ]
    },
    {
     "name": "stdout",
     "output_type": "stream",
     "text": [
      "Epoch [14/200]\n",
      "Train Loss: 0.0229\n",
      "Val Loss: 0.0172\n",
      "Best Val loss: 0.0168\n"
     ]
    },
    {
     "name": "stderr",
     "output_type": "stream",
     "text": [
      "100%|██████████████████████████████████████| 1912/1912 [00:08<00:00, 216.22it/s]\n",
      "100%|████████████████████████████████████████| 213/213 [00:00<00:00, 696.10it/s]\n"
     ]
    },
    {
     "name": "stdout",
     "output_type": "stream",
     "text": [
      "Epoch [15/200]\n",
      "Train Loss: 0.0225\n",
      "Val Loss: 0.0177\n",
      "Best Val loss: 0.0168\n"
     ]
    },
    {
     "name": "stderr",
     "output_type": "stream",
     "text": [
      "100%|██████████████████████████████████████| 1912/1912 [00:08<00:00, 216.25it/s]\n",
      "100%|████████████████████████████████████████| 213/213 [00:00<00:00, 697.96it/s]\n"
     ]
    },
    {
     "name": "stdout",
     "output_type": "stream",
     "text": [
      "Epoch [16/200]\n",
      "Train Loss: 0.022\n",
      "Val Loss: 0.0175\n",
      "Best Val loss: 0.0168\n"
     ]
    },
    {
     "name": "stderr",
     "output_type": "stream",
     "text": [
      "100%|██████████████████████████████████████| 1912/1912 [00:08<00:00, 216.26it/s]\n",
      "100%|████████████████████████████████████████| 213/213 [00:00<00:00, 698.51it/s]\n"
     ]
    },
    {
     "name": "stdout",
     "output_type": "stream",
     "text": [
      "Epoch [17/200]\n",
      "Train Loss: 0.0214\n",
      "Val Loss: 0.0182\n",
      "Best Val loss: 0.0168\n"
     ]
    },
    {
     "name": "stderr",
     "output_type": "stream",
     "text": [
      "100%|██████████████████████████████████████| 1912/1912 [00:08<00:00, 216.16it/s]\n",
      "100%|████████████████████████████████████████| 213/213 [00:00<00:00, 698.03it/s]\n"
     ]
    },
    {
     "name": "stdout",
     "output_type": "stream",
     "text": [
      "Epoch [18/200]\n",
      "Train Loss: 0.0211\n",
      "Val Loss: 0.0174\n",
      "Best Val loss: 0.0168\n"
     ]
    },
    {
     "name": "stderr",
     "output_type": "stream",
     "text": [
      "100%|██████████████████████████████████████| 1912/1912 [00:08<00:00, 216.27it/s]\n",
      "100%|████████████████████████████████████████| 213/213 [00:00<00:00, 696.53it/s]\n"
     ]
    },
    {
     "name": "stdout",
     "output_type": "stream",
     "text": [
      "Epoch [19/200]\n",
      "Train Loss: 0.0206\n",
      "Val Loss: 0.0181\n",
      "Best Val loss: 0.0168\n"
     ]
    },
    {
     "name": "stderr",
     "output_type": "stream",
     "text": [
      "100%|██████████████████████████████████████| 1912/1912 [00:08<00:00, 216.14it/s]\n",
      "100%|████████████████████████████████████████| 213/213 [00:00<00:00, 698.45it/s]\n"
     ]
    },
    {
     "name": "stdout",
     "output_type": "stream",
     "text": [
      "Epoch [20/200]\n",
      "Train Loss: 0.0203\n",
      "Val Loss: 0.0178\n",
      "Best Val loss: 0.0168\n"
     ]
    },
    {
     "name": "stderr",
     "output_type": "stream",
     "text": [
      "100%|██████████████████████████████████████| 1912/1912 [00:08<00:00, 216.13it/s]\n",
      "100%|████████████████████████████████████████| 213/213 [00:00<00:00, 698.01it/s]\n"
     ]
    },
    {
     "name": "stdout",
     "output_type": "stream",
     "text": [
      "Epoch [21/200]\n",
      "Train Loss: 0.0197\n",
      "Val Loss: 0.0177\n",
      "Best Val loss: 0.0168\n"
     ]
    },
    {
     "name": "stderr",
     "output_type": "stream",
     "text": [
      "100%|██████████████████████████████████████| 1912/1912 [00:08<00:00, 216.10it/s]\n",
      "100%|████████████████████████████████████████| 213/213 [00:00<00:00, 698.27it/s]\n"
     ]
    },
    {
     "name": "stdout",
     "output_type": "stream",
     "text": [
      "Epoch [22/200]\n",
      "Train Loss: 0.0191\n",
      "Val Loss: 0.0194\n",
      "Best Val loss: 0.0168\n"
     ]
    },
    {
     "name": "stderr",
     "output_type": "stream",
     "text": [
      "100%|██████████████████████████████████████| 1912/1912 [00:08<00:00, 216.24it/s]\n",
      "100%|████████████████████████████████████████| 213/213 [00:00<00:00, 698.54it/s]\n"
     ]
    },
    {
     "name": "stdout",
     "output_type": "stream",
     "text": [
      "Epoch [23/200]\n",
      "Train Loss: 0.0187\n",
      "Val Loss: 0.0183\n",
      "Best Val loss: 0.0168\n"
     ]
    },
    {
     "name": "stderr",
     "output_type": "stream",
     "text": [
      "100%|██████████████████████████████████████| 1912/1912 [00:08<00:00, 216.16it/s]\n",
      "100%|████████████████████████████████████████| 213/213 [00:00<00:00, 698.41it/s]\n"
     ]
    },
    {
     "name": "stdout",
     "output_type": "stream",
     "text": [
      "Epoch [24/200]\n",
      "Train Loss: 0.0183\n",
      "Val Loss: 0.0181\n",
      "Best Val loss: 0.0168\n"
     ]
    },
    {
     "name": "stderr",
     "output_type": "stream",
     "text": [
      "100%|██████████████████████████████████████| 1912/1912 [00:08<00:00, 215.99it/s]\n",
      "100%|████████████████████████████████████████| 213/213 [00:00<00:00, 697.19it/s]\n"
     ]
    },
    {
     "name": "stdout",
     "output_type": "stream",
     "text": [
      "Epoch [25/200]\n",
      "Train Loss: 0.0177\n",
      "Val Loss: 0.0191\n",
      "Best Val loss: 0.0168\n"
     ]
    },
    {
     "name": "stderr",
     "output_type": "stream",
     "text": [
      "100%|██████████████████████████████████████| 1912/1912 [00:08<00:00, 215.98it/s]\n",
      "100%|████████████████████████████████████████| 213/213 [00:00<00:00, 696.90it/s]\n"
     ]
    },
    {
     "name": "stdout",
     "output_type": "stream",
     "text": [
      "Epoch [26/200]\n",
      "Train Loss: 0.0174\n",
      "Val Loss: 0.0185\n",
      "Best Val loss: 0.0168\n"
     ]
    },
    {
     "name": "stderr",
     "output_type": "stream",
     "text": [
      "100%|██████████████████████████████████████| 1912/1912 [00:08<00:00, 216.12it/s]\n",
      "100%|████████████████████████████████████████| 213/213 [00:00<00:00, 698.27it/s]\n"
     ]
    },
    {
     "name": "stdout",
     "output_type": "stream",
     "text": [
      "Epoch [27/200]\n",
      "Train Loss: 0.0171\n",
      "Val Loss: 0.0182\n",
      "Best Val loss: 0.0168\n"
     ]
    },
    {
     "name": "stderr",
     "output_type": "stream",
     "text": [
      "100%|██████████████████████████████████████| 1912/1912 [00:08<00:00, 216.02it/s]\n",
      "100%|████████████████████████████████████████| 213/213 [00:00<00:00, 700.18it/s]\n"
     ]
    },
    {
     "name": "stdout",
     "output_type": "stream",
     "text": [
      "Epoch [28/200]\n",
      "Train Loss: 0.0165\n",
      "Val Loss: 0.0196\n",
      "Best Val loss: 0.0168\n"
     ]
    },
    {
     "name": "stderr",
     "output_type": "stream",
     "text": [
      "100%|██████████████████████████████████████| 1912/1912 [00:08<00:00, 216.13it/s]\n",
      "100%|████████████████████████████████████████| 213/213 [00:00<00:00, 699.10it/s]\n"
     ]
    },
    {
     "name": "stdout",
     "output_type": "stream",
     "text": [
      "Epoch [29/200]\n",
      "Train Loss: 0.0165\n",
      "Val Loss: 0.0187\n",
      "Best Val loss: 0.0168\n"
     ]
    },
    {
     "name": "stderr",
     "output_type": "stream",
     "text": [
      "100%|██████████████████████████████████████| 1912/1912 [00:08<00:00, 216.27it/s]\n",
      "100%|████████████████████████████████████████| 213/213 [00:00<00:00, 699.54it/s]\n"
     ]
    },
    {
     "name": "stdout",
     "output_type": "stream",
     "text": [
      "Epoch [30/200]\n",
      "Train Loss: 0.0161\n",
      "Val Loss: 0.0185\n",
      "Best Val loss: 0.0168\n"
     ]
    },
    {
     "name": "stderr",
     "output_type": "stream",
     "text": [
      "100%|██████████████████████████████████████| 1912/1912 [00:08<00:00, 216.34it/s]\n",
      "100%|████████████████████████████████████████| 213/213 [00:00<00:00, 699.13it/s]\n"
     ]
    },
    {
     "name": "stdout",
     "output_type": "stream",
     "text": [
      "Epoch [31/200]\n",
      "Train Loss: 0.0158\n",
      "Val Loss: 0.0192\n",
      "Best Val loss: 0.0168\n"
     ]
    },
    {
     "name": "stderr",
     "output_type": "stream",
     "text": [
      "100%|██████████████████████████████████████| 1912/1912 [00:08<00:00, 216.57it/s]\n",
      "100%|████████████████████████████████████████| 213/213 [00:00<00:00, 710.98it/s]\n"
     ]
    },
    {
     "name": "stdout",
     "output_type": "stream",
     "text": [
      "Epoch [32/200]\n",
      "Train Loss: 0.0156\n",
      "Val Loss: 0.0185\n",
      "Best Val loss: 0.0168\n"
     ]
    },
    {
     "name": "stderr",
     "output_type": "stream",
     "text": [
      "100%|██████████████████████████████████████| 1912/1912 [00:08<00:00, 217.60it/s]\n",
      "100%|████████████████████████████████████████| 213/213 [00:00<00:00, 709.77it/s]\n"
     ]
    },
    {
     "name": "stdout",
     "output_type": "stream",
     "text": [
      "Epoch [33/200]\n",
      "Train Loss: 0.0155\n",
      "Val Loss: 0.019\n",
      "Best Val loss: 0.0168\n"
     ]
    },
    {
     "name": "stderr",
     "output_type": "stream",
     "text": [
      "100%|██████████████████████████████████████| 1912/1912 [00:08<00:00, 217.46it/s]\n",
      "100%|████████████████████████████████████████| 213/213 [00:00<00:00, 710.28it/s]\n"
     ]
    },
    {
     "name": "stdout",
     "output_type": "stream",
     "text": [
      "Epoch [34/200]\n",
      "Train Loss: 0.0152\n",
      "Val Loss: 0.0186\n",
      "Best Val loss: 0.0168\n"
     ]
    },
    {
     "name": "stderr",
     "output_type": "stream",
     "text": [
      "100%|██████████████████████████████████████| 1912/1912 [00:08<00:00, 217.86it/s]\n",
      "100%|████████████████████████████████████████| 213/213 [00:00<00:00, 711.80it/s]\n"
     ]
    },
    {
     "name": "stdout",
     "output_type": "stream",
     "text": [
      "Epoch [35/200]\n",
      "Train Loss: 0.0154\n",
      "Val Loss: 0.0191\n",
      "Best Val loss: 0.0168\n"
     ]
    },
    {
     "name": "stderr",
     "output_type": "stream",
     "text": [
      "100%|██████████████████████████████████████| 1912/1912 [00:08<00:00, 217.67it/s]\n",
      "100%|████████████████████████████████████████| 213/213 [00:00<00:00, 710.99it/s]\n"
     ]
    },
    {
     "name": "stdout",
     "output_type": "stream",
     "text": [
      "Epoch [36/200]\n",
      "Train Loss: 0.0148\n",
      "Val Loss: 0.0192\n",
      "Best Val loss: 0.0168\n"
     ]
    },
    {
     "name": "stderr",
     "output_type": "stream",
     "text": [
      "100%|██████████████████████████████████████| 1912/1912 [00:08<00:00, 217.56it/s]\n",
      "100%|████████████████████████████████████████| 213/213 [00:00<00:00, 710.51it/s]\n"
     ]
    },
    {
     "name": "stdout",
     "output_type": "stream",
     "text": [
      "Epoch [37/200]\n",
      "Train Loss: 0.0148\n",
      "Val Loss: 0.0189\n",
      "Best Val loss: 0.0168\n"
     ]
    },
    {
     "name": "stderr",
     "output_type": "stream",
     "text": [
      "100%|██████████████████████████████████████| 1912/1912 [00:08<00:00, 217.54it/s]\n",
      "100%|████████████████████████████████████████| 213/213 [00:00<00:00, 711.74it/s]\n"
     ]
    },
    {
     "name": "stdout",
     "output_type": "stream",
     "text": [
      "Epoch [38/200]\n",
      "Train Loss: 0.0145\n",
      "Val Loss: 0.019\n",
      "Best Val loss: 0.0168\n"
     ]
    },
    {
     "name": "stderr",
     "output_type": "stream",
     "text": [
      "100%|██████████████████████████████████████| 1912/1912 [00:08<00:00, 217.69it/s]\n",
      "100%|████████████████████████████████████████| 213/213 [00:00<00:00, 711.22it/s]\n"
     ]
    },
    {
     "name": "stdout",
     "output_type": "stream",
     "text": [
      "Epoch [39/200]\n",
      "Train Loss: 0.0143\n",
      "Val Loss: 0.0189\n",
      "Best Val loss: 0.0168\n"
     ]
    },
    {
     "name": "stderr",
     "output_type": "stream",
     "text": [
      "100%|██████████████████████████████████████| 1912/1912 [00:08<00:00, 217.72it/s]\n",
      "100%|████████████████████████████████████████| 213/213 [00:00<00:00, 710.68it/s]\n"
     ]
    },
    {
     "name": "stdout",
     "output_type": "stream",
     "text": [
      "Epoch [40/200]\n",
      "Train Loss: 0.0142\n",
      "Val Loss: 0.0188\n",
      "Best Val loss: 0.0168\n"
     ]
    },
    {
     "name": "stderr",
     "output_type": "stream",
     "text": [
      "100%|██████████████████████████████████████| 1912/1912 [00:08<00:00, 217.85it/s]\n",
      "100%|████████████████████████████████████████| 213/213 [00:00<00:00, 710.70it/s]\n"
     ]
    },
    {
     "name": "stdout",
     "output_type": "stream",
     "text": [
      "Epoch [41/200]\n",
      "Train Loss: 0.0143\n",
      "Val Loss: 0.0191\n",
      "Best Val loss: 0.0168\n"
     ]
    },
    {
     "name": "stderr",
     "output_type": "stream",
     "text": [
      "100%|██████████████████████████████████████| 1912/1912 [00:08<00:00, 217.71it/s]\n",
      "100%|████████████████████████████████████████| 213/213 [00:00<00:00, 710.24it/s]\n"
     ]
    },
    {
     "name": "stdout",
     "output_type": "stream",
     "text": [
      "Epoch [42/200]\n",
      "Train Loss: 0.014\n",
      "Val Loss: 0.0192\n",
      "Best Val loss: 0.0168\n"
     ]
    },
    {
     "name": "stderr",
     "output_type": "stream",
     "text": [
      "100%|██████████████████████████████████████| 1912/1912 [00:08<00:00, 217.83it/s]\n",
      "100%|████████████████████████████████████████| 213/213 [00:00<00:00, 710.66it/s]\n"
     ]
    },
    {
     "name": "stdout",
     "output_type": "stream",
     "text": [
      "Epoch [43/200]\n",
      "Train Loss: 0.0139\n",
      "Val Loss: 0.0191\n",
      "Best Val loss: 0.0168\n"
     ]
    },
    {
     "name": "stderr",
     "output_type": "stream",
     "text": [
      "100%|██████████████████████████████████████| 1912/1912 [00:08<00:00, 217.75it/s]\n",
      "100%|████████████████████████████████████████| 213/213 [00:00<00:00, 711.77it/s]\n"
     ]
    },
    {
     "name": "stdout",
     "output_type": "stream",
     "text": [
      "Epoch [44/200]\n",
      "Train Loss: 0.0139\n",
      "Val Loss: 0.0193\n",
      "Best Val loss: 0.0168\n"
     ]
    },
    {
     "name": "stderr",
     "output_type": "stream",
     "text": [
      "100%|██████████████████████████████████████| 1912/1912 [00:08<00:00, 217.05it/s]\n",
      "100%|████████████████████████████████████████| 213/213 [00:00<00:00, 699.08it/s]\n"
     ]
    },
    {
     "name": "stdout",
     "output_type": "stream",
     "text": [
      "Epoch [45/200]\n",
      "Train Loss: 0.0139\n",
      "Val Loss: 0.0194\n",
      "Best Val loss: 0.0168\n"
     ]
    },
    {
     "name": "stderr",
     "output_type": "stream",
     "text": [
      "100%|██████████████████████████████████████| 1912/1912 [00:08<00:00, 216.55it/s]\n",
      "100%|████████████████████████████████████████| 213/213 [00:00<00:00, 701.13it/s]\n"
     ]
    },
    {
     "name": "stdout",
     "output_type": "stream",
     "text": [
      "Epoch [46/200]\n",
      "Train Loss: 0.0138\n",
      "Val Loss: 0.0192\n",
      "Best Val loss: 0.0168\n"
     ]
    },
    {
     "name": "stderr",
     "output_type": "stream",
     "text": [
      "100%|██████████████████████████████████████| 1912/1912 [00:08<00:00, 216.63it/s]\n",
      "100%|████████████████████████████████████████| 213/213 [00:00<00:00, 701.25it/s]\n"
     ]
    },
    {
     "name": "stdout",
     "output_type": "stream",
     "text": [
      "Epoch [47/200]\n",
      "Train Loss: 0.0137\n",
      "Val Loss: 0.0197\n",
      "Best Val loss: 0.0168\n"
     ]
    },
    {
     "name": "stderr",
     "output_type": "stream",
     "text": [
      "100%|██████████████████████████████████████| 1912/1912 [00:08<00:00, 216.56it/s]\n",
      "100%|████████████████████████████████████████| 213/213 [00:00<00:00, 698.85it/s]\n"
     ]
    },
    {
     "name": "stdout",
     "output_type": "stream",
     "text": [
      "Epoch [48/200]\n",
      "Train Loss: 0.0137\n",
      "Val Loss: 0.019\n",
      "Best Val loss: 0.0168\n"
     ]
    },
    {
     "name": "stderr",
     "output_type": "stream",
     "text": [
      "100%|██████████████████████████████████████| 1912/1912 [00:08<00:00, 216.59it/s]\n",
      "100%|████████████████████████████████████████| 213/213 [00:00<00:00, 699.77it/s]\n"
     ]
    },
    {
     "name": "stdout",
     "output_type": "stream",
     "text": [
      "Epoch [49/200]\n",
      "Train Loss: 0.0134\n",
      "Val Loss: 0.019\n",
      "Best Val loss: 0.0168\n"
     ]
    },
    {
     "name": "stderr",
     "output_type": "stream",
     "text": [
      "100%|██████████████████████████████████████| 1912/1912 [00:08<00:00, 216.60it/s]\n",
      "100%|████████████████████████████████████████| 213/213 [00:00<00:00, 699.51it/s]\n"
     ]
    },
    {
     "name": "stdout",
     "output_type": "stream",
     "text": [
      "Epoch [50/200]\n",
      "Train Loss: 0.0134\n",
      "Val Loss: 0.0189\n",
      "Best Val loss: 0.0168\n"
     ]
    },
    {
     "name": "stderr",
     "output_type": "stream",
     "text": [
      "100%|██████████████████████████████████████| 1912/1912 [00:08<00:00, 216.73it/s]\n",
      "100%|████████████████████████████████████████| 213/213 [00:00<00:00, 708.77it/s]\n"
     ]
    },
    {
     "name": "stdout",
     "output_type": "stream",
     "text": [
      "Epoch [51/200]\n",
      "Train Loss: 0.0137\n",
      "Val Loss: 0.0188\n",
      "Best Val loss: 0.0168\n"
     ]
    },
    {
     "name": "stderr",
     "output_type": "stream",
     "text": [
      "100%|██████████████████████████████████████| 1912/1912 [00:08<00:00, 217.62it/s]\n",
      "100%|████████████████████████████████████████| 213/213 [00:00<00:00, 708.21it/s]\n"
     ]
    },
    {
     "name": "stdout",
     "output_type": "stream",
     "text": [
      "Epoch [52/200]\n",
      "Train Loss: 0.0137\n",
      "Val Loss: 0.019\n",
      "Best Val loss: 0.0168\n"
     ]
    },
    {
     "name": "stderr",
     "output_type": "stream",
     "text": [
      "100%|██████████████████████████████████████| 1912/1912 [00:08<00:00, 217.33it/s]\n",
      "100%|████████████████████████████████████████| 213/213 [00:00<00:00, 705.85it/s]\n"
     ]
    },
    {
     "name": "stdout",
     "output_type": "stream",
     "text": [
      "Epoch [53/200]\n",
      "Train Loss: 0.0132\n",
      "Val Loss: 0.0191\n",
      "Best Val loss: 0.0168\n"
     ]
    },
    {
     "name": "stderr",
     "output_type": "stream",
     "text": [
      "100%|██████████████████████████████████████| 1912/1912 [00:08<00:00, 217.17it/s]\n",
      "100%|████████████████████████████████████████| 213/213 [00:00<00:00, 705.79it/s]\n"
     ]
    },
    {
     "name": "stdout",
     "output_type": "stream",
     "text": [
      "Epoch [54/200]\n",
      "Train Loss: 0.0134\n",
      "Val Loss: 0.0189\n",
      "Best Val loss: 0.0168\n"
     ]
    },
    {
     "name": "stderr",
     "output_type": "stream",
     "text": [
      "100%|██████████████████████████████████████| 1912/1912 [00:08<00:00, 217.35it/s]\n",
      "100%|████████████████████████████████████████| 213/213 [00:00<00:00, 705.74it/s]\n"
     ]
    },
    {
     "name": "stdout",
     "output_type": "stream",
     "text": [
      "Epoch [55/200]\n",
      "Train Loss: 0.0132\n",
      "Val Loss: 0.0193\n",
      "Best Val loss: 0.0168\n"
     ]
    },
    {
     "name": "stderr",
     "output_type": "stream",
     "text": [
      "100%|██████████████████████████████████████| 1912/1912 [00:08<00:00, 217.38it/s]\n",
      "100%|████████████████████████████████████████| 213/213 [00:00<00:00, 705.42it/s]\n"
     ]
    },
    {
     "name": "stdout",
     "output_type": "stream",
     "text": [
      "Epoch [56/200]\n",
      "Train Loss: 0.0132\n",
      "Val Loss: 0.0191\n",
      "Best Val loss: 0.0168\n"
     ]
    },
    {
     "name": "stderr",
     "output_type": "stream",
     "text": [
      "100%|██████████████████████████████████████| 1912/1912 [00:08<00:00, 217.33it/s]\n",
      "100%|████████████████████████████████████████| 213/213 [00:00<00:00, 706.78it/s]\n"
     ]
    },
    {
     "name": "stdout",
     "output_type": "stream",
     "text": [
      "Epoch [57/200]\n",
      "Train Loss: 0.0132\n",
      "Val Loss: 0.0188\n",
      "Best Val loss: 0.0168\n"
     ]
    },
    {
     "name": "stderr",
     "output_type": "stream",
     "text": [
      "100%|██████████████████████████████████████| 1912/1912 [00:08<00:00, 217.46it/s]\n",
      "100%|████████████████████████████████████████| 213/213 [00:00<00:00, 709.35it/s]\n"
     ]
    },
    {
     "name": "stdout",
     "output_type": "stream",
     "text": [
      "Epoch [58/200]\n",
      "Train Loss: 0.0137\n",
      "Val Loss: 0.0208\n",
      "Best Val loss: 0.0168\n"
     ]
    },
    {
     "name": "stderr",
     "output_type": "stream",
     "text": [
      "100%|██████████████████████████████████████| 1912/1912 [00:08<00:00, 216.81it/s]\n",
      "100%|████████████████████████████████████████| 213/213 [00:00<00:00, 699.81it/s]\n"
     ]
    },
    {
     "name": "stdout",
     "output_type": "stream",
     "text": [
      "Epoch [59/200]\n",
      "Train Loss: 0.013\n",
      "Val Loss: 0.0187\n",
      "Best Val loss: 0.0168\n"
     ]
    },
    {
     "name": "stderr",
     "output_type": "stream",
     "text": [
      "100%|██████████████████████████████████████| 1912/1912 [00:08<00:00, 216.75it/s]\n",
      "100%|████████████████████████████████████████| 213/213 [00:00<00:00, 703.45it/s]\n"
     ]
    },
    {
     "name": "stdout",
     "output_type": "stream",
     "text": [
      "Epoch [60/200]\n",
      "Train Loss: 0.013\n",
      "Val Loss: 0.0188\n",
      "Best Val loss: 0.0168\n"
     ]
    },
    {
     "name": "stderr",
     "output_type": "stream",
     "text": [
      "100%|██████████████████████████████████████| 1912/1912 [00:08<00:00, 216.72it/s]\n",
      "100%|████████████████████████████████████████| 213/213 [00:00<00:00, 703.75it/s]\n"
     ]
    },
    {
     "name": "stdout",
     "output_type": "stream",
     "text": [
      "Epoch [61/200]\n",
      "Train Loss: 0.0129\n",
      "Val Loss: 0.0191\n",
      "Best Val loss: 0.0168\n"
     ]
    },
    {
     "name": "stderr",
     "output_type": "stream",
     "text": [
      "100%|██████████████████████████████████████| 1912/1912 [00:08<00:00, 217.57it/s]\n",
      "100%|████████████████████████████████████████| 213/213 [00:00<00:00, 702.54it/s]\n"
     ]
    },
    {
     "name": "stdout",
     "output_type": "stream",
     "text": [
      "Epoch [62/200]\n",
      "Train Loss: 0.0133\n",
      "Val Loss: 0.0188\n",
      "Best Val loss: 0.0168\n"
     ]
    },
    {
     "name": "stderr",
     "output_type": "stream",
     "text": [
      "100%|██████████████████████████████████████| 1912/1912 [00:08<00:00, 216.74it/s]\n",
      "100%|████████████████████████████████████████| 213/213 [00:00<00:00, 701.63it/s]\n"
     ]
    },
    {
     "name": "stdout",
     "output_type": "stream",
     "text": [
      "Epoch [63/200]\n",
      "Train Loss: 0.0129\n",
      "Val Loss: 0.0189\n",
      "Best Val loss: 0.0168\n"
     ]
    },
    {
     "name": "stderr",
     "output_type": "stream",
     "text": [
      "100%|██████████████████████████████████████| 1912/1912 [00:08<00:00, 216.64it/s]\n",
      "100%|████████████████████████████████████████| 213/213 [00:00<00:00, 702.19it/s]\n"
     ]
    },
    {
     "name": "stdout",
     "output_type": "stream",
     "text": [
      "Epoch [64/200]\n",
      "Train Loss: 0.0129\n",
      "Val Loss: 0.0189\n",
      "Best Val loss: 0.0168\n"
     ]
    },
    {
     "name": "stderr",
     "output_type": "stream",
     "text": [
      "100%|██████████████████████████████████████| 1912/1912 [00:08<00:00, 216.65it/s]\n",
      "100%|████████████████████████████████████████| 213/213 [00:00<00:00, 701.76it/s]\n"
     ]
    },
    {
     "name": "stdout",
     "output_type": "stream",
     "text": [
      "Epoch [65/200]\n",
      "Train Loss: 0.013\n",
      "Val Loss: 0.019\n",
      "Best Val loss: 0.0168\n"
     ]
    },
    {
     "name": "stderr",
     "output_type": "stream",
     "text": [
      "100%|██████████████████████████████████████| 1912/1912 [00:08<00:00, 216.64it/s]\n",
      "100%|████████████████████████████████████████| 213/213 [00:00<00:00, 695.36it/s]\n"
     ]
    },
    {
     "name": "stdout",
     "output_type": "stream",
     "text": [
      "Epoch [66/200]\n",
      "Train Loss: 0.0128\n",
      "Val Loss: 0.0189\n",
      "Best Val loss: 0.0168\n"
     ]
    },
    {
     "name": "stderr",
     "output_type": "stream",
     "text": [
      "100%|██████████████████████████████████████| 1912/1912 [00:08<00:00, 216.89it/s]\n",
      "100%|████████████████████████████████████████| 213/213 [00:00<00:00, 701.93it/s]\n"
     ]
    },
    {
     "name": "stdout",
     "output_type": "stream",
     "text": [
      "Epoch [67/200]\n",
      "Train Loss: 0.0127\n",
      "Val Loss: 0.0188\n",
      "Best Val loss: 0.0168\n"
     ]
    },
    {
     "name": "stderr",
     "output_type": "stream",
     "text": [
      "100%|██████████████████████████████████████| 1912/1912 [00:08<00:00, 216.70it/s]\n",
      "100%|████████████████████████████████████████| 213/213 [00:00<00:00, 701.54it/s]\n"
     ]
    },
    {
     "name": "stdout",
     "output_type": "stream",
     "text": [
      "Epoch [68/200]\n",
      "Train Loss: 0.0128\n",
      "Val Loss: 0.019\n",
      "Best Val loss: 0.0168\n"
     ]
    },
    {
     "name": "stderr",
     "output_type": "stream",
     "text": [
      "100%|██████████████████████████████████████| 1912/1912 [00:08<00:00, 216.85it/s]\n",
      "100%|████████████████████████████████████████| 213/213 [00:00<00:00, 701.89it/s]\n"
     ]
    },
    {
     "name": "stdout",
     "output_type": "stream",
     "text": [
      "Epoch [69/200]\n",
      "Train Loss: 0.0129\n",
      "Val Loss: 0.0189\n",
      "Best Val loss: 0.0168\n"
     ]
    },
    {
     "name": "stderr",
     "output_type": "stream",
     "text": [
      "100%|██████████████████████████████████████| 1912/1912 [00:08<00:00, 216.74it/s]\n",
      "100%|████████████████████████████████████████| 213/213 [00:00<00:00, 697.12it/s]\n"
     ]
    },
    {
     "name": "stdout",
     "output_type": "stream",
     "text": [
      "Epoch [70/200]\n",
      "Train Loss: 0.0129\n",
      "Val Loss: 0.0199\n",
      "Best Val loss: 0.0168\n"
     ]
    },
    {
     "name": "stderr",
     "output_type": "stream",
     "text": [
      "100%|██████████████████████████████████████| 1912/1912 [00:08<00:00, 216.75it/s]\n",
      "100%|████████████████████████████████████████| 213/213 [00:00<00:00, 701.93it/s]\n"
     ]
    },
    {
     "name": "stdout",
     "output_type": "stream",
     "text": [
      "Epoch [71/200]\n",
      "Train Loss: 0.013\n",
      "Val Loss: 0.019\n",
      "Best Val loss: 0.0168\n"
     ]
    },
    {
     "name": "stderr",
     "output_type": "stream",
     "text": [
      "100%|██████████████████████████████████████| 1912/1912 [00:08<00:00, 216.60it/s]\n",
      "100%|████████████████████████████████████████| 213/213 [00:00<00:00, 701.92it/s]\n"
     ]
    },
    {
     "name": "stdout",
     "output_type": "stream",
     "text": [
      "Epoch [72/200]\n",
      "Train Loss: 0.0127\n",
      "Val Loss: 0.0188\n",
      "Best Val loss: 0.0168\n"
     ]
    },
    {
     "name": "stderr",
     "output_type": "stream",
     "text": [
      "100%|██████████████████████████████████████| 1912/1912 [00:08<00:00, 216.74it/s]\n",
      "100%|████████████████████████████████████████| 213/213 [00:00<00:00, 702.42it/s]\n"
     ]
    },
    {
     "name": "stdout",
     "output_type": "stream",
     "text": [
      "Epoch [73/200]\n",
      "Train Loss: 0.0127\n",
      "Val Loss: 0.0196\n",
      "Best Val loss: 0.0168\n"
     ]
    },
    {
     "name": "stderr",
     "output_type": "stream",
     "text": [
      "100%|██████████████████████████████████████| 1912/1912 [00:08<00:00, 216.59it/s]\n",
      "100%|████████████████████████████████████████| 213/213 [00:00<00:00, 701.01it/s]\n"
     ]
    },
    {
     "name": "stdout",
     "output_type": "stream",
     "text": [
      "Epoch [74/200]\n",
      "Train Loss: 0.0127\n",
      "Val Loss: 0.0196\n",
      "Best Val loss: 0.0168\n"
     ]
    },
    {
     "name": "stderr",
     "output_type": "stream",
     "text": [
      "100%|██████████████████████████████████████| 1912/1912 [00:08<00:00, 216.83it/s]\n",
      "100%|████████████████████████████████████████| 213/213 [00:00<00:00, 703.28it/s]\n"
     ]
    },
    {
     "name": "stdout",
     "output_type": "stream",
     "text": [
      "Epoch [75/200]\n",
      "Train Loss: 0.013\n",
      "Val Loss: 0.0186\n",
      "Best Val loss: 0.0168\n"
     ]
    },
    {
     "name": "stderr",
     "output_type": "stream",
     "text": [
      "100%|██████████████████████████████████████| 1912/1912 [00:08<00:00, 216.57it/s]\n",
      "100%|████████████████████████████████████████| 213/213 [00:00<00:00, 701.88it/s]\n"
     ]
    },
    {
     "name": "stdout",
     "output_type": "stream",
     "text": [
      "Epoch [76/200]\n",
      "Train Loss: 0.0127\n",
      "Val Loss: 0.0189\n",
      "Best Val loss: 0.0168\n"
     ]
    },
    {
     "name": "stderr",
     "output_type": "stream",
     "text": [
      "100%|██████████████████████████████████████| 1912/1912 [00:08<00:00, 216.55it/s]\n",
      "100%|████████████████████████████████████████| 213/213 [00:00<00:00, 701.04it/s]\n"
     ]
    },
    {
     "name": "stdout",
     "output_type": "stream",
     "text": [
      "Epoch [77/200]\n",
      "Train Loss: 0.0127\n",
      "Val Loss: 0.0188\n",
      "Best Val loss: 0.0168\n"
     ]
    },
    {
     "name": "stderr",
     "output_type": "stream",
     "text": [
      "100%|██████████████████████████████████████| 1912/1912 [00:08<00:00, 216.57it/s]\n",
      "100%|████████████████████████████████████████| 213/213 [00:00<00:00, 701.51it/s]\n"
     ]
    },
    {
     "name": "stdout",
     "output_type": "stream",
     "text": [
      "Epoch [78/200]\n",
      "Train Loss: 0.0126\n",
      "Val Loss: 0.0188\n",
      "Best Val loss: 0.0168\n"
     ]
    },
    {
     "name": "stderr",
     "output_type": "stream",
     "text": [
      "100%|██████████████████████████████████████| 1912/1912 [00:08<00:00, 216.60it/s]\n",
      "100%|████████████████████████████████████████| 213/213 [00:00<00:00, 701.91it/s]\n"
     ]
    },
    {
     "name": "stdout",
     "output_type": "stream",
     "text": [
      "Epoch [79/200]\n",
      "Train Loss: 0.0126\n",
      "Val Loss: 0.0188\n",
      "Best Val loss: 0.0168\n"
     ]
    },
    {
     "name": "stderr",
     "output_type": "stream",
     "text": [
      "100%|██████████████████████████████████████| 1912/1912 [00:08<00:00, 216.56it/s]\n",
      "100%|████████████████████████████████████████| 213/213 [00:00<00:00, 701.62it/s]\n"
     ]
    },
    {
     "name": "stdout",
     "output_type": "stream",
     "text": [
      "Epoch [80/200]\n",
      "Train Loss: 0.0128\n",
      "Val Loss: 0.0191\n",
      "Best Val loss: 0.0168\n"
     ]
    },
    {
     "name": "stderr",
     "output_type": "stream",
     "text": [
      "100%|██████████████████████████████████████| 1912/1912 [00:08<00:00, 216.93it/s]\n",
      "100%|████████████████████████████████████████| 213/213 [00:00<00:00, 702.31it/s]\n"
     ]
    },
    {
     "name": "stdout",
     "output_type": "stream",
     "text": [
      "Epoch [81/200]\n",
      "Train Loss: 0.0127\n",
      "Val Loss: 0.0187\n",
      "Best Val loss: 0.0168\n"
     ]
    },
    {
     "name": "stderr",
     "output_type": "stream",
     "text": [
      "100%|██████████████████████████████████████| 1912/1912 [00:08<00:00, 216.82it/s]\n",
      "100%|████████████████████████████████████████| 213/213 [00:00<00:00, 702.27it/s]\n"
     ]
    },
    {
     "name": "stdout",
     "output_type": "stream",
     "text": [
      "Epoch [82/200]\n",
      "Train Loss: 0.0125\n",
      "Val Loss: 0.0193\n",
      "Best Val loss: 0.0168\n"
     ]
    },
    {
     "name": "stderr",
     "output_type": "stream",
     "text": [
      "100%|██████████████████████████████████████| 1912/1912 [00:08<00:00, 216.60it/s]\n",
      "100%|████████████████████████████████████████| 213/213 [00:00<00:00, 701.61it/s]\n"
     ]
    },
    {
     "name": "stdout",
     "output_type": "stream",
     "text": [
      "Epoch [83/200]\n",
      "Train Loss: 0.0126\n",
      "Val Loss: 0.0208\n",
      "Best Val loss: 0.0168\n"
     ]
    },
    {
     "name": "stderr",
     "output_type": "stream",
     "text": [
      "100%|██████████████████████████████████████| 1912/1912 [00:08<00:00, 216.49it/s]\n",
      "100%|████████████████████████████████████████| 213/213 [00:00<00:00, 701.36it/s]\n"
     ]
    },
    {
     "name": "stdout",
     "output_type": "stream",
     "text": [
      "Epoch [84/200]\n",
      "Train Loss: 0.0126\n",
      "Val Loss: 0.019\n",
      "Best Val loss: 0.0168\n"
     ]
    },
    {
     "name": "stderr",
     "output_type": "stream",
     "text": [
      "100%|██████████████████████████████████████| 1912/1912 [00:08<00:00, 216.55it/s]\n",
      "100%|████████████████████████████████████████| 213/213 [00:00<00:00, 701.34it/s]\n"
     ]
    },
    {
     "name": "stdout",
     "output_type": "stream",
     "text": [
      "Epoch [85/200]\n",
      "Train Loss: 0.0126\n",
      "Val Loss: 0.0187\n",
      "Best Val loss: 0.0168\n"
     ]
    },
    {
     "name": "stderr",
     "output_type": "stream",
     "text": [
      "100%|██████████████████████████████████████| 1912/1912 [00:08<00:00, 216.22it/s]\n",
      "100%|████████████████████████████████████████| 213/213 [00:00<00:00, 701.98it/s]\n"
     ]
    },
    {
     "name": "stdout",
     "output_type": "stream",
     "text": [
      "Epoch [86/200]\n",
      "Train Loss: 0.0125\n",
      "Val Loss: 0.0187\n",
      "Best Val loss: 0.0168\n"
     ]
    },
    {
     "name": "stderr",
     "output_type": "stream",
     "text": [
      "100%|██████████████████████████████████████| 1912/1912 [00:08<00:00, 216.73it/s]\n",
      "100%|████████████████████████████████████████| 213/213 [00:00<00:00, 702.09it/s]\n"
     ]
    },
    {
     "name": "stdout",
     "output_type": "stream",
     "text": [
      "Epoch [87/200]\n",
      "Train Loss: 0.0129\n",
      "Val Loss: 0.019\n",
      "Best Val loss: 0.0168\n"
     ]
    },
    {
     "name": "stderr",
     "output_type": "stream",
     "text": [
      "100%|██████████████████████████████████████| 1912/1912 [00:08<00:00, 216.63it/s]\n",
      "100%|████████████████████████████████████████| 213/213 [00:00<00:00, 702.21it/s]\n"
     ]
    },
    {
     "name": "stdout",
     "output_type": "stream",
     "text": [
      "Epoch [88/200]\n",
      "Train Loss: 0.0127\n",
      "Val Loss: 0.0189\n",
      "Best Val loss: 0.0168\n"
     ]
    },
    {
     "name": "stderr",
     "output_type": "stream",
     "text": [
      "100%|██████████████████████████████████████| 1912/1912 [00:08<00:00, 217.08it/s]\n",
      "100%|████████████████████████████████████████| 213/213 [00:00<00:00, 713.51it/s]\n"
     ]
    },
    {
     "name": "stdout",
     "output_type": "stream",
     "text": [
      "Epoch [89/200]\n",
      "Train Loss: 0.0124\n",
      "Val Loss: 0.019\n",
      "Best Val loss: 0.0168\n"
     ]
    },
    {
     "name": "stderr",
     "output_type": "stream",
     "text": [
      "100%|██████████████████████████████████████| 1912/1912 [00:08<00:00, 217.96it/s]\n",
      "100%|████████████████████████████████████████| 213/213 [00:00<00:00, 712.92it/s]\n"
     ]
    },
    {
     "name": "stdout",
     "output_type": "stream",
     "text": [
      "Epoch [90/200]\n",
      "Train Loss: 0.0124\n",
      "Val Loss: 0.019\n",
      "Best Val loss: 0.0168\n"
     ]
    },
    {
     "name": "stderr",
     "output_type": "stream",
     "text": [
      "100%|██████████████████████████████████████| 1912/1912 [00:08<00:00, 216.61it/s]\n",
      "100%|████████████████████████████████████████| 213/213 [00:00<00:00, 703.53it/s]\n"
     ]
    },
    {
     "name": "stdout",
     "output_type": "stream",
     "text": [
      "Epoch [91/200]\n",
      "Train Loss: 0.0127\n",
      "Val Loss: 0.0188\n",
      "Best Val loss: 0.0168\n"
     ]
    },
    {
     "name": "stderr",
     "output_type": "stream",
     "text": [
      "100%|██████████████████████████████████████| 1912/1912 [00:08<00:00, 216.85it/s]\n",
      "100%|████████████████████████████████████████| 213/213 [00:00<00:00, 704.98it/s]\n"
     ]
    },
    {
     "name": "stdout",
     "output_type": "stream",
     "text": [
      "Epoch [92/200]\n",
      "Train Loss: 0.0126\n",
      "Val Loss: 0.0189\n",
      "Best Val loss: 0.0168\n"
     ]
    },
    {
     "name": "stderr",
     "output_type": "stream",
     "text": [
      "100%|██████████████████████████████████████| 1912/1912 [00:08<00:00, 216.80it/s]\n",
      "100%|████████████████████████████████████████| 213/213 [00:00<00:00, 704.30it/s]\n"
     ]
    },
    {
     "name": "stdout",
     "output_type": "stream",
     "text": [
      "Epoch [93/200]\n",
      "Train Loss: 0.0126\n",
      "Val Loss: 0.0189\n",
      "Best Val loss: 0.0168\n"
     ]
    },
    {
     "name": "stderr",
     "output_type": "stream",
     "text": [
      "100%|██████████████████████████████████████| 1912/1912 [00:08<00:00, 216.63it/s]\n",
      "100%|████████████████████████████████████████| 213/213 [00:00<00:00, 702.73it/s]\n"
     ]
    },
    {
     "name": "stdout",
     "output_type": "stream",
     "text": [
      "Epoch [94/200]\n",
      "Train Loss: 0.0121\n",
      "Val Loss: 0.0187\n",
      "Best Val loss: 0.0168\n"
     ]
    },
    {
     "name": "stderr",
     "output_type": "stream",
     "text": [
      "100%|██████████████████████████████████████| 1912/1912 [00:08<00:00, 216.49it/s]\n",
      "100%|████████████████████████████████████████| 213/213 [00:00<00:00, 702.77it/s]\n"
     ]
    },
    {
     "name": "stdout",
     "output_type": "stream",
     "text": [
      "Epoch [95/200]\n",
      "Train Loss: 0.0123\n",
      "Val Loss: 0.0187\n",
      "Best Val loss: 0.0168\n"
     ]
    },
    {
     "name": "stderr",
     "output_type": "stream",
     "text": [
      "100%|██████████████████████████████████████| 1912/1912 [00:08<00:00, 216.60it/s]\n",
      "100%|████████████████████████████████████████| 213/213 [00:00<00:00, 703.85it/s]\n"
     ]
    },
    {
     "name": "stdout",
     "output_type": "stream",
     "text": [
      "Epoch [96/200]\n",
      "Train Loss: 0.0126\n",
      "Val Loss: 0.0203\n",
      "Best Val loss: 0.0168\n"
     ]
    },
    {
     "name": "stderr",
     "output_type": "stream",
     "text": [
      "100%|██████████████████████████████████████| 1912/1912 [00:08<00:00, 216.74it/s]\n",
      "100%|████████████████████████████████████████| 213/213 [00:00<00:00, 702.79it/s]\n"
     ]
    },
    {
     "name": "stdout",
     "output_type": "stream",
     "text": [
      "Epoch [97/200]\n",
      "Train Loss: 0.0127\n",
      "Val Loss: 0.0209\n",
      "Best Val loss: 0.0168\n"
     ]
    },
    {
     "name": "stderr",
     "output_type": "stream",
     "text": [
      "100%|██████████████████████████████████████| 1912/1912 [00:08<00:00, 216.38it/s]\n",
      "100%|████████████████████████████████████████| 213/213 [00:00<00:00, 701.42it/s]\n"
     ]
    },
    {
     "name": "stdout",
     "output_type": "stream",
     "text": [
      "Epoch [98/200]\n",
      "Train Loss: 0.0125\n",
      "Val Loss: 0.0187\n",
      "Best Val loss: 0.0168\n"
     ]
    },
    {
     "name": "stderr",
     "output_type": "stream",
     "text": [
      "100%|██████████████████████████████████████| 1912/1912 [00:08<00:00, 216.40it/s]\n",
      "100%|████████████████████████████████████████| 213/213 [00:00<00:00, 701.73it/s]\n"
     ]
    },
    {
     "name": "stdout",
     "output_type": "stream",
     "text": [
      "Epoch [99/200]\n",
      "Train Loss: 0.0123\n",
      "Val Loss: 0.0191\n",
      "Best Val loss: 0.0168\n"
     ]
    },
    {
     "name": "stderr",
     "output_type": "stream",
     "text": [
      "100%|██████████████████████████████████████| 1912/1912 [00:08<00:00, 216.38it/s]\n",
      "100%|████████████████████████████████████████| 213/213 [00:00<00:00, 703.28it/s]\n"
     ]
    },
    {
     "name": "stdout",
     "output_type": "stream",
     "text": [
      "Epoch [100/200]\n",
      "Train Loss: 0.0125\n",
      "Val Loss: 0.0188\n",
      "Best Val loss: 0.0168\n"
     ]
    },
    {
     "name": "stderr",
     "output_type": "stream",
     "text": [
      "100%|██████████████████████████████████████| 1912/1912 [00:08<00:00, 216.41it/s]\n",
      "100%|████████████████████████████████████████| 213/213 [00:00<00:00, 702.01it/s]\n"
     ]
    },
    {
     "name": "stdout",
     "output_type": "stream",
     "text": [
      "Epoch [101/200]\n",
      "Train Loss: 0.0126\n",
      "Val Loss: 0.0203\n",
      "Best Val loss: 0.0168\n"
     ]
    },
    {
     "name": "stderr",
     "output_type": "stream",
     "text": [
      "100%|██████████████████████████████████████| 1912/1912 [00:08<00:00, 216.11it/s]\n",
      "100%|████████████████████████████████████████| 213/213 [00:00<00:00, 701.73it/s]\n"
     ]
    },
    {
     "name": "stdout",
     "output_type": "stream",
     "text": [
      "Epoch [102/200]\n",
      "Train Loss: 0.0127\n",
      "Val Loss: 0.0195\n",
      "Best Val loss: 0.0168\n"
     ]
    },
    {
     "name": "stderr",
     "output_type": "stream",
     "text": [
      "100%|██████████████████████████████████████| 1912/1912 [00:08<00:00, 216.40it/s]\n",
      "100%|████████████████████████████████████████| 213/213 [00:00<00:00, 703.06it/s]\n"
     ]
    },
    {
     "name": "stdout",
     "output_type": "stream",
     "text": [
      "Epoch [103/200]\n",
      "Train Loss: 0.0128\n",
      "Val Loss: 0.0189\n",
      "Best Val loss: 0.0168\n"
     ]
    },
    {
     "name": "stderr",
     "output_type": "stream",
     "text": [
      "100%|██████████████████████████████████████| 1912/1912 [00:08<00:00, 216.46it/s]\n",
      "100%|████████████████████████████████████████| 213/213 [00:00<00:00, 702.55it/s]\n"
     ]
    },
    {
     "name": "stdout",
     "output_type": "stream",
     "text": [
      "Epoch [104/200]\n",
      "Train Loss: 0.0125\n",
      "Val Loss: 0.019\n",
      "Best Val loss: 0.0168\n"
     ]
    },
    {
     "name": "stderr",
     "output_type": "stream",
     "text": [
      "100%|██████████████████████████████████████| 1912/1912 [00:08<00:00, 216.42it/s]\n",
      "100%|████████████████████████████████████████| 213/213 [00:00<00:00, 701.31it/s]\n"
     ]
    },
    {
     "name": "stdout",
     "output_type": "stream",
     "text": [
      "Epoch [105/200]\n",
      "Train Loss: 0.0124\n",
      "Val Loss: 0.0191\n",
      "Best Val loss: 0.0168\n"
     ]
    },
    {
     "name": "stderr",
     "output_type": "stream",
     "text": [
      "100%|██████████████████████████████████████| 1912/1912 [00:08<00:00, 216.32it/s]\n",
      "100%|████████████████████████████████████████| 213/213 [00:00<00:00, 702.60it/s]\n"
     ]
    },
    {
     "name": "stdout",
     "output_type": "stream",
     "text": [
      "Epoch [106/200]\n",
      "Train Loss: 0.0125\n",
      "Val Loss: 0.0192\n",
      "Best Val loss: 0.0168\n"
     ]
    },
    {
     "name": "stderr",
     "output_type": "stream",
     "text": [
      "100%|██████████████████████████████████████| 1912/1912 [00:08<00:00, 216.40it/s]\n",
      "100%|████████████████████████████████████████| 213/213 [00:00<00:00, 702.45it/s]\n"
     ]
    },
    {
     "name": "stdout",
     "output_type": "stream",
     "text": [
      "Epoch [107/200]\n",
      "Train Loss: 0.0125\n",
      "Val Loss: 0.019\n",
      "Best Val loss: 0.0168\n"
     ]
    },
    {
     "name": "stderr",
     "output_type": "stream",
     "text": [
      "100%|██████████████████████████████████████| 1912/1912 [00:09<00:00, 211.44it/s]\n",
      "100%|████████████████████████████████████████| 213/213 [00:00<00:00, 702.33it/s]\n"
     ]
    },
    {
     "name": "stdout",
     "output_type": "stream",
     "text": [
      "Epoch [108/200]\n",
      "Train Loss: 0.0127\n",
      "Val Loss: 0.0192\n",
      "Best Val loss: 0.0168\n"
     ]
    },
    {
     "name": "stderr",
     "output_type": "stream",
     "text": [
      "100%|██████████████████████████████████████| 1912/1912 [00:08<00:00, 216.23it/s]\n",
      "100%|████████████████████████████████████████| 213/213 [00:00<00:00, 701.21it/s]\n"
     ]
    },
    {
     "name": "stdout",
     "output_type": "stream",
     "text": [
      "Epoch [109/200]\n",
      "Train Loss: 0.0126\n",
      "Val Loss: 0.0189\n",
      "Best Val loss: 0.0168\n"
     ]
    },
    {
     "name": "stderr",
     "output_type": "stream",
     "text": [
      "100%|██████████████████████████████████████| 1912/1912 [00:08<00:00, 216.16it/s]\n",
      "100%|████████████████████████████████████████| 213/213 [00:00<00:00, 701.47it/s]\n"
     ]
    },
    {
     "name": "stdout",
     "output_type": "stream",
     "text": [
      "Epoch [110/200]\n",
      "Train Loss: 0.0128\n",
      "Val Loss: 0.0191\n",
      "Best Val loss: 0.0168\n"
     ]
    },
    {
     "name": "stderr",
     "output_type": "stream",
     "text": [
      "100%|██████████████████████████████████████| 1912/1912 [00:08<00:00, 216.40it/s]\n",
      "100%|████████████████████████████████████████| 213/213 [00:00<00:00, 700.39it/s]\n"
     ]
    },
    {
     "name": "stdout",
     "output_type": "stream",
     "text": [
      "Epoch [111/200]\n",
      "Train Loss: 0.0127\n",
      "Val Loss: 0.0191\n",
      "Best Val loss: 0.0168\n"
     ]
    },
    {
     "name": "stderr",
     "output_type": "stream",
     "text": [
      "100%|██████████████████████████████████████| 1912/1912 [00:08<00:00, 217.70it/s]\n",
      "100%|████████████████████████████████████████| 213/213 [00:00<00:00, 712.34it/s]\n"
     ]
    },
    {
     "name": "stdout",
     "output_type": "stream",
     "text": [
      "Epoch [112/200]\n",
      "Train Loss: 0.0127\n",
      "Val Loss: 0.019\n",
      "Best Val loss: 0.0168\n"
     ]
    },
    {
     "name": "stderr",
     "output_type": "stream",
     "text": [
      "100%|██████████████████████████████████████| 1912/1912 [00:08<00:00, 217.86it/s]\n",
      "100%|████████████████████████████████████████| 213/213 [00:00<00:00, 712.96it/s]\n"
     ]
    },
    {
     "name": "stdout",
     "output_type": "stream",
     "text": [
      "Epoch [113/200]\n",
      "Train Loss: 0.0126\n",
      "Val Loss: 0.019\n",
      "Best Val loss: 0.0168\n"
     ]
    },
    {
     "name": "stderr",
     "output_type": "stream",
     "text": [
      "100%|██████████████████████████████████████| 1912/1912 [00:08<00:00, 216.75it/s]\n",
      "100%|████████████████████████████████████████| 213/213 [00:00<00:00, 700.42it/s]\n"
     ]
    },
    {
     "name": "stdout",
     "output_type": "stream",
     "text": [
      "Epoch [114/200]\n",
      "Train Loss: 0.0125\n",
      "Val Loss: 0.019\n",
      "Best Val loss: 0.0168\n"
     ]
    },
    {
     "name": "stderr",
     "output_type": "stream",
     "text": [
      "100%|██████████████████████████████████████| 1912/1912 [00:08<00:00, 216.39it/s]\n",
      "100%|████████████████████████████████████████| 213/213 [00:00<00:00, 702.74it/s]\n"
     ]
    },
    {
     "name": "stdout",
     "output_type": "stream",
     "text": [
      "Epoch [115/200]\n",
      "Train Loss: 0.0124\n",
      "Val Loss: 0.0189\n",
      "Best Val loss: 0.0168\n"
     ]
    },
    {
     "name": "stderr",
     "output_type": "stream",
     "text": [
      "100%|██████████████████████████████████████| 1912/1912 [00:08<00:00, 216.32it/s]\n",
      "100%|████████████████████████████████████████| 213/213 [00:00<00:00, 701.99it/s]\n"
     ]
    },
    {
     "name": "stdout",
     "output_type": "stream",
     "text": [
      "Epoch [116/200]\n",
      "Train Loss: 0.0128\n",
      "Val Loss: 0.0192\n",
      "Best Val loss: 0.0168\n"
     ]
    },
    {
     "name": "stderr",
     "output_type": "stream",
     "text": [
      "100%|██████████████████████████████████████| 1912/1912 [00:08<00:00, 216.66it/s]\n",
      "100%|████████████████████████████████████████| 213/213 [00:00<00:00, 700.82it/s]\n"
     ]
    },
    {
     "name": "stdout",
     "output_type": "stream",
     "text": [
      "Epoch [117/200]\n",
      "Train Loss: 0.0125\n",
      "Val Loss: 0.0191\n",
      "Best Val loss: 0.0168\n"
     ]
    },
    {
     "name": "stderr",
     "output_type": "stream",
     "text": [
      "100%|██████████████████████████████████████| 1912/1912 [00:08<00:00, 216.55it/s]\n",
      "100%|████████████████████████████████████████| 213/213 [00:00<00:00, 702.92it/s]\n"
     ]
    },
    {
     "name": "stdout",
     "output_type": "stream",
     "text": [
      "Epoch [118/200]\n",
      "Train Loss: 0.0127\n",
      "Val Loss: 0.0192\n",
      "Best Val loss: 0.0168\n"
     ]
    },
    {
     "name": "stderr",
     "output_type": "stream",
     "text": [
      "100%|██████████████████████████████████████| 1912/1912 [00:08<00:00, 217.23it/s]\n",
      "100%|████████████████████████████████████████| 213/213 [00:00<00:00, 703.22it/s]\n"
     ]
    },
    {
     "name": "stdout",
     "output_type": "stream",
     "text": [
      "Epoch [119/200]\n",
      "Train Loss: 0.0126\n",
      "Val Loss: 0.0191\n",
      "Best Val loss: 0.0168\n"
     ]
    },
    {
     "name": "stderr",
     "output_type": "stream",
     "text": [
      "100%|██████████████████████████████████████| 1912/1912 [00:08<00:00, 216.44it/s]\n",
      "100%|████████████████████████████████████████| 213/213 [00:00<00:00, 703.98it/s]\n"
     ]
    },
    {
     "name": "stdout",
     "output_type": "stream",
     "text": [
      "Epoch [120/200]\n",
      "Train Loss: 0.0127\n",
      "Val Loss: 0.0191\n",
      "Best Val loss: 0.0168\n"
     ]
    },
    {
     "name": "stderr",
     "output_type": "stream",
     "text": [
      "100%|██████████████████████████████████████| 1912/1912 [00:08<00:00, 216.50it/s]\n",
      "100%|████████████████████████████████████████| 213/213 [00:00<00:00, 702.04it/s]\n"
     ]
    },
    {
     "name": "stdout",
     "output_type": "stream",
     "text": [
      "Epoch [121/200]\n",
      "Train Loss: 0.0126\n",
      "Val Loss: 0.0193\n",
      "Best Val loss: 0.0168\n"
     ]
    },
    {
     "name": "stderr",
     "output_type": "stream",
     "text": [
      "100%|██████████████████████████████████████| 1912/1912 [00:08<00:00, 217.04it/s]\n",
      "100%|████████████████████████████████████████| 213/213 [00:00<00:00, 713.28it/s]\n"
     ]
    },
    {
     "name": "stdout",
     "output_type": "stream",
     "text": [
      "Epoch [122/200]\n",
      "Train Loss: 0.0126\n",
      "Val Loss: 0.0195\n",
      "Best Val loss: 0.0168\n"
     ]
    },
    {
     "name": "stderr",
     "output_type": "stream",
     "text": [
      "100%|██████████████████████████████████████| 1912/1912 [00:08<00:00, 217.87it/s]\n",
      "100%|████████████████████████████████████████| 213/213 [00:00<00:00, 714.53it/s]\n"
     ]
    },
    {
     "name": "stdout",
     "output_type": "stream",
     "text": [
      "Epoch [123/200]\n",
      "Train Loss: 0.0125\n",
      "Val Loss: 0.0194\n",
      "Best Val loss: 0.0168\n"
     ]
    },
    {
     "name": "stderr",
     "output_type": "stream",
     "text": [
      "100%|██████████████████████████████████████| 1912/1912 [00:08<00:00, 217.45it/s]\n",
      "100%|████████████████████████████████████████| 213/213 [00:00<00:00, 700.73it/s]\n"
     ]
    },
    {
     "name": "stdout",
     "output_type": "stream",
     "text": [
      "Epoch [124/200]\n",
      "Train Loss: 0.0125\n",
      "Val Loss: 0.0193\n",
      "Best Val loss: 0.0168\n"
     ]
    },
    {
     "name": "stderr",
     "output_type": "stream",
     "text": [
      "100%|██████████████████████████████████████| 1912/1912 [00:08<00:00, 216.24it/s]\n",
      "100%|████████████████████████████████████████| 213/213 [00:00<00:00, 702.23it/s]\n"
     ]
    },
    {
     "name": "stdout",
     "output_type": "stream",
     "text": [
      "Epoch [125/200]\n",
      "Train Loss: 0.0125\n",
      "Val Loss: 0.0192\n",
      "Best Val loss: 0.0168\n"
     ]
    },
    {
     "name": "stderr",
     "output_type": "stream",
     "text": [
      "100%|██████████████████████████████████████| 1912/1912 [00:08<00:00, 216.42it/s]\n",
      "100%|████████████████████████████████████████| 213/213 [00:00<00:00, 701.81it/s]\n"
     ]
    },
    {
     "name": "stdout",
     "output_type": "stream",
     "text": [
      "Epoch [126/200]\n",
      "Train Loss: 0.0127\n",
      "Val Loss: 0.0197\n",
      "Best Val loss: 0.0168\n"
     ]
    },
    {
     "name": "stderr",
     "output_type": "stream",
     "text": [
      "100%|██████████████████████████████████████| 1912/1912 [00:08<00:00, 216.60it/s]\n",
      "100%|████████████████████████████████████████| 213/213 [00:00<00:00, 702.39it/s]\n"
     ]
    },
    {
     "name": "stdout",
     "output_type": "stream",
     "text": [
      "Epoch [127/200]\n",
      "Train Loss: 0.0125\n",
      "Val Loss: 0.0188\n",
      "Best Val loss: 0.0168\n"
     ]
    },
    {
     "name": "stderr",
     "output_type": "stream",
     "text": [
      "100%|██████████████████████████████████████| 1912/1912 [00:08<00:00, 216.57it/s]\n",
      "100%|████████████████████████████████████████| 213/213 [00:00<00:00, 702.26it/s]\n"
     ]
    },
    {
     "name": "stdout",
     "output_type": "stream",
     "text": [
      "Epoch [128/200]\n",
      "Train Loss: 0.0125\n",
      "Val Loss: 0.0191\n",
      "Best Val loss: 0.0168\n"
     ]
    },
    {
     "name": "stderr",
     "output_type": "stream",
     "text": [
      "100%|██████████████████████████████████████| 1912/1912 [00:09<00:00, 191.45it/s]\n",
      "100%|████████████████████████████████████████| 213/213 [00:00<00:00, 701.16it/s]\n"
     ]
    },
    {
     "name": "stdout",
     "output_type": "stream",
     "text": [
      "Epoch [129/200]\n",
      "Train Loss: 0.0128\n",
      "Val Loss: 0.019\n",
      "Best Val loss: 0.0168\n"
     ]
    },
    {
     "name": "stderr",
     "output_type": "stream",
     "text": [
      "100%|██████████████████████████████████████| 1912/1912 [00:09<00:00, 198.86it/s]\n",
      "100%|████████████████████████████████████████| 213/213 [00:00<00:00, 485.68it/s]\n"
     ]
    },
    {
     "name": "stdout",
     "output_type": "stream",
     "text": [
      "Epoch [130/200]\n",
      "Train Loss: 0.0128\n",
      "Val Loss: 0.0192\n",
      "Best Val loss: 0.0168\n"
     ]
    },
    {
     "name": "stderr",
     "output_type": "stream",
     "text": [
      "100%|██████████████████████████████████████| 1912/1912 [00:10<00:00, 188.45it/s]\n",
      "100%|████████████████████████████████████████| 213/213 [00:00<00:00, 702.20it/s]\n"
     ]
    },
    {
     "name": "stdout",
     "output_type": "stream",
     "text": [
      "Epoch [131/200]\n",
      "Train Loss: 0.0126\n",
      "Val Loss: 0.0192\n",
      "Best Val loss: 0.0168\n"
     ]
    },
    {
     "name": "stderr",
     "output_type": "stream",
     "text": [
      "100%|██████████████████████████████████████| 1912/1912 [00:08<00:00, 217.91it/s]\n",
      "100%|████████████████████████████████████████| 213/213 [00:00<00:00, 714.61it/s]\n"
     ]
    },
    {
     "name": "stdout",
     "output_type": "stream",
     "text": [
      "Epoch [132/200]\n",
      "Train Loss: 0.0124\n",
      "Val Loss: 0.0188\n",
      "Best Val loss: 0.0168\n"
     ]
    },
    {
     "name": "stderr",
     "output_type": "stream",
     "text": [
      "100%|██████████████████████████████████████| 1912/1912 [00:08<00:00, 218.04it/s]\n",
      "100%|████████████████████████████████████████| 213/213 [00:00<00:00, 714.78it/s]\n"
     ]
    },
    {
     "name": "stdout",
     "output_type": "stream",
     "text": [
      "Epoch [133/200]\n",
      "Train Loss: 0.0129\n",
      "Val Loss: 0.0203\n",
      "Best Val loss: 0.0168\n"
     ]
    },
    {
     "name": "stderr",
     "output_type": "stream",
     "text": [
      "100%|██████████████████████████████████████| 1912/1912 [00:11<00:00, 168.30it/s]\n",
      "100%|████████████████████████████████████████| 213/213 [00:00<00:00, 497.72it/s]\n"
     ]
    },
    {
     "name": "stdout",
     "output_type": "stream",
     "text": [
      "Epoch [134/200]\n",
      "Train Loss: 0.0127\n",
      "Val Loss: 0.0202\n",
      "Best Val loss: 0.0168\n"
     ]
    },
    {
     "name": "stderr",
     "output_type": "stream",
     "text": [
      " 13%|████▉                                  | 243/1912 [00:01<00:09, 167.80it/s]\n"
     ]
    },
    {
     "ename": "KeyboardInterrupt",
     "evalue": "",
     "output_type": "error",
     "traceback": [
      "\u001b[0;31m---------------------------------------------------------------------------\u001b[0m",
      "\u001b[0;31mKeyboardInterrupt\u001b[0m                         Traceback (most recent call last)",
      "Cell \u001b[0;32mIn[46], line 2\u001b[0m\n\u001b[1;32m      1\u001b[0m \u001b[38;5;28;01mfor\u001b[39;00m epoch \u001b[38;5;129;01min\u001b[39;00m \u001b[38;5;28mrange\u001b[39m(num_epochs):\n\u001b[0;32m----> 2\u001b[0m     mean_train_loss \u001b[38;5;241m=\u001b[39m \u001b[43mtrain\u001b[49m\u001b[43m(\u001b[49m\u001b[43mmodel\u001b[49m\u001b[43m,\u001b[49m\u001b[43m \u001b[49m\u001b[43mtrain_dataloader\u001b[49m\u001b[43m,\u001b[49m\u001b[43m \u001b[49m\u001b[43mcriterion\u001b[49m\u001b[43m,\u001b[49m\u001b[43m \u001b[49m\u001b[43moptimizer\u001b[49m\u001b[43m)\u001b[49m\n\u001b[1;32m      3\u001b[0m     mean_val_loss \u001b[38;5;241m=\u001b[39m validate(model, val_dataloader, criterion)\n\u001b[1;32m      5\u001b[0m     history\u001b[38;5;241m.\u001b[39mappend([mean_train_loss, mean_val_loss])\n",
      "File \u001b[0;32m~/Projects/DynamicPricing/utils.py:271\u001b[0m, in \u001b[0;36mtrain\u001b[0;34m(model, data_loader, criterion, optimizer)\u001b[0m\n\u001b[1;32m    269\u001b[0m x_batch \u001b[38;5;241m=\u001b[39m batch[\u001b[38;5;241m1\u001b[39m]\u001b[38;5;241m.\u001b[39mto(DEVICE)\n\u001b[1;32m    270\u001b[0m y_batch \u001b[38;5;241m=\u001b[39m batch[\u001b[38;5;241m2\u001b[39m]\u001b[38;5;241m.\u001b[39mto(DEVICE)\n\u001b[0;32m--> 271\u001b[0m outputs \u001b[38;5;241m=\u001b[39m \u001b[43mmodel\u001b[49m\u001b[43m(\u001b[49m\u001b[43mX_batch\u001b[49m\u001b[43m,\u001b[49m\u001b[43m \u001b[49m\u001b[43mx_batch\u001b[49m\u001b[43m)\u001b[49m\n\u001b[1;32m    272\u001b[0m loss \u001b[38;5;241m=\u001b[39m criterion(y_batch, outputs)\n\u001b[1;32m    273\u001b[0m loss\u001b[38;5;241m.\u001b[39mbackward()\n",
      "File \u001b[0;32m~/anaconda3/envs/RL_vs/lib/python3.9/site-packages/torch/nn/modules/module.py:1501\u001b[0m, in \u001b[0;36mModule._call_impl\u001b[0;34m(self, *args, **kwargs)\u001b[0m\n\u001b[1;32m   1496\u001b[0m \u001b[38;5;66;03m# If we don't have any hooks, we want to skip the rest of the logic in\u001b[39;00m\n\u001b[1;32m   1497\u001b[0m \u001b[38;5;66;03m# this function, and just call forward.\u001b[39;00m\n\u001b[1;32m   1498\u001b[0m \u001b[38;5;28;01mif\u001b[39;00m \u001b[38;5;129;01mnot\u001b[39;00m (\u001b[38;5;28mself\u001b[39m\u001b[38;5;241m.\u001b[39m_backward_hooks \u001b[38;5;129;01mor\u001b[39;00m \u001b[38;5;28mself\u001b[39m\u001b[38;5;241m.\u001b[39m_backward_pre_hooks \u001b[38;5;129;01mor\u001b[39;00m \u001b[38;5;28mself\u001b[39m\u001b[38;5;241m.\u001b[39m_forward_hooks \u001b[38;5;129;01mor\u001b[39;00m \u001b[38;5;28mself\u001b[39m\u001b[38;5;241m.\u001b[39m_forward_pre_hooks\n\u001b[1;32m   1499\u001b[0m         \u001b[38;5;129;01mor\u001b[39;00m _global_backward_pre_hooks \u001b[38;5;129;01mor\u001b[39;00m _global_backward_hooks\n\u001b[1;32m   1500\u001b[0m         \u001b[38;5;129;01mor\u001b[39;00m _global_forward_hooks \u001b[38;5;129;01mor\u001b[39;00m _global_forward_pre_hooks):\n\u001b[0;32m-> 1501\u001b[0m     \u001b[38;5;28;01mreturn\u001b[39;00m \u001b[43mforward_call\u001b[49m\u001b[43m(\u001b[49m\u001b[38;5;241;43m*\u001b[39;49m\u001b[43margs\u001b[49m\u001b[43m,\u001b[49m\u001b[43m \u001b[49m\u001b[38;5;241;43m*\u001b[39;49m\u001b[38;5;241;43m*\u001b[39;49m\u001b[43mkwargs\u001b[49m\u001b[43m)\u001b[49m\n\u001b[1;32m   1502\u001b[0m \u001b[38;5;66;03m# Do not call functions when jit is used\u001b[39;00m\n\u001b[1;32m   1503\u001b[0m full_backward_hooks, non_full_backward_hooks \u001b[38;5;241m=\u001b[39m [], []\n",
      "Cell \u001b[0;32mIn[39], line 34\u001b[0m, in \u001b[0;36mLSTMModel.forward\u001b[0;34m(self, x, x_target)\u001b[0m\n\u001b[1;32m     32\u001b[0m \u001b[38;5;28;01mdef\u001b[39;00m \u001b[38;5;21mforward\u001b[39m(\u001b[38;5;28mself\u001b[39m, x, x_target):\n\u001b[0;32m---> 34\u001b[0m     out, _ \u001b[38;5;241m=\u001b[39m \u001b[38;5;28;43mself\u001b[39;49m\u001b[38;5;241;43m.\u001b[39;49m\u001b[43mlstm\u001b[49m\u001b[43m(\u001b[49m\u001b[43mx\u001b[49m\u001b[43m)\u001b[49m\n\u001b[1;32m     35\u001b[0m     out \u001b[38;5;241m=\u001b[39m out[:, \u001b[38;5;241m-\u001b[39m\u001b[38;5;241m1\u001b[39m, \u001b[38;5;241m.\u001b[39m\u001b[38;5;241m.\u001b[39m\u001b[38;5;241m.\u001b[39m]\n\u001b[1;32m     36\u001b[0m     out \u001b[38;5;241m=\u001b[39m torch\u001b[38;5;241m.\u001b[39mcat([out, x_target], dim\u001b[38;5;241m=\u001b[39m\u001b[38;5;241m-\u001b[39m\u001b[38;5;241m1\u001b[39m)\n",
      "File \u001b[0;32m~/anaconda3/envs/RL_vs/lib/python3.9/site-packages/torch/nn/modules/module.py:1501\u001b[0m, in \u001b[0;36mModule._call_impl\u001b[0;34m(self, *args, **kwargs)\u001b[0m\n\u001b[1;32m   1496\u001b[0m \u001b[38;5;66;03m# If we don't have any hooks, we want to skip the rest of the logic in\u001b[39;00m\n\u001b[1;32m   1497\u001b[0m \u001b[38;5;66;03m# this function, and just call forward.\u001b[39;00m\n\u001b[1;32m   1498\u001b[0m \u001b[38;5;28;01mif\u001b[39;00m \u001b[38;5;129;01mnot\u001b[39;00m (\u001b[38;5;28mself\u001b[39m\u001b[38;5;241m.\u001b[39m_backward_hooks \u001b[38;5;129;01mor\u001b[39;00m \u001b[38;5;28mself\u001b[39m\u001b[38;5;241m.\u001b[39m_backward_pre_hooks \u001b[38;5;129;01mor\u001b[39;00m \u001b[38;5;28mself\u001b[39m\u001b[38;5;241m.\u001b[39m_forward_hooks \u001b[38;5;129;01mor\u001b[39;00m \u001b[38;5;28mself\u001b[39m\u001b[38;5;241m.\u001b[39m_forward_pre_hooks\n\u001b[1;32m   1499\u001b[0m         \u001b[38;5;129;01mor\u001b[39;00m _global_backward_pre_hooks \u001b[38;5;129;01mor\u001b[39;00m _global_backward_hooks\n\u001b[1;32m   1500\u001b[0m         \u001b[38;5;129;01mor\u001b[39;00m _global_forward_hooks \u001b[38;5;129;01mor\u001b[39;00m _global_forward_pre_hooks):\n\u001b[0;32m-> 1501\u001b[0m     \u001b[38;5;28;01mreturn\u001b[39;00m \u001b[43mforward_call\u001b[49m\u001b[43m(\u001b[49m\u001b[38;5;241;43m*\u001b[39;49m\u001b[43margs\u001b[49m\u001b[43m,\u001b[49m\u001b[43m \u001b[49m\u001b[38;5;241;43m*\u001b[39;49m\u001b[38;5;241;43m*\u001b[39;49m\u001b[43mkwargs\u001b[49m\u001b[43m)\u001b[49m\n\u001b[1;32m   1502\u001b[0m \u001b[38;5;66;03m# Do not call functions when jit is used\u001b[39;00m\n\u001b[1;32m   1503\u001b[0m full_backward_hooks, non_full_backward_hooks \u001b[38;5;241m=\u001b[39m [], []\n",
      "File \u001b[0;32m~/anaconda3/envs/RL_vs/lib/python3.9/site-packages/torch/nn/modules/rnn.py:785\u001b[0m, in \u001b[0;36mLSTM.forward\u001b[0;34m(self, input, hx)\u001b[0m\n\u001b[1;32m    783\u001b[0m num_directions \u001b[38;5;241m=\u001b[39m \u001b[38;5;241m2\u001b[39m \u001b[38;5;28;01mif\u001b[39;00m \u001b[38;5;28mself\u001b[39m\u001b[38;5;241m.\u001b[39mbidirectional \u001b[38;5;28;01melse\u001b[39;00m \u001b[38;5;241m1\u001b[39m\n\u001b[1;32m    784\u001b[0m real_hidden_size \u001b[38;5;241m=\u001b[39m \u001b[38;5;28mself\u001b[39m\u001b[38;5;241m.\u001b[39mproj_size \u001b[38;5;28;01mif\u001b[39;00m \u001b[38;5;28mself\u001b[39m\u001b[38;5;241m.\u001b[39mproj_size \u001b[38;5;241m>\u001b[39m \u001b[38;5;241m0\u001b[39m \u001b[38;5;28;01melse\u001b[39;00m \u001b[38;5;28mself\u001b[39m\u001b[38;5;241m.\u001b[39mhidden_size\n\u001b[0;32m--> 785\u001b[0m h_zeros \u001b[38;5;241m=\u001b[39m \u001b[43mtorch\u001b[49m\u001b[38;5;241;43m.\u001b[39;49m\u001b[43mzeros\u001b[49m\u001b[43m(\u001b[49m\u001b[38;5;28;43mself\u001b[39;49m\u001b[38;5;241;43m.\u001b[39;49m\u001b[43mnum_layers\u001b[49m\u001b[43m \u001b[49m\u001b[38;5;241;43m*\u001b[39;49m\u001b[43m \u001b[49m\u001b[43mnum_directions\u001b[49m\u001b[43m,\u001b[49m\n\u001b[1;32m    786\u001b[0m \u001b[43m                      \u001b[49m\u001b[43mmax_batch_size\u001b[49m\u001b[43m,\u001b[49m\u001b[43m \u001b[49m\u001b[43mreal_hidden_size\u001b[49m\u001b[43m,\u001b[49m\n\u001b[1;32m    787\u001b[0m \u001b[43m                      \u001b[49m\u001b[43mdtype\u001b[49m\u001b[38;5;241;43m=\u001b[39;49m\u001b[38;5;28;43minput\u001b[39;49m\u001b[38;5;241;43m.\u001b[39;49m\u001b[43mdtype\u001b[49m\u001b[43m,\u001b[49m\u001b[43m \u001b[49m\u001b[43mdevice\u001b[49m\u001b[38;5;241;43m=\u001b[39;49m\u001b[38;5;28;43minput\u001b[39;49m\u001b[38;5;241;43m.\u001b[39;49m\u001b[43mdevice\u001b[49m\u001b[43m)\u001b[49m\n\u001b[1;32m    788\u001b[0m c_zeros \u001b[38;5;241m=\u001b[39m torch\u001b[38;5;241m.\u001b[39mzeros(\u001b[38;5;28mself\u001b[39m\u001b[38;5;241m.\u001b[39mnum_layers \u001b[38;5;241m*\u001b[39m num_directions,\n\u001b[1;32m    789\u001b[0m                       max_batch_size, \u001b[38;5;28mself\u001b[39m\u001b[38;5;241m.\u001b[39mhidden_size,\n\u001b[1;32m    790\u001b[0m                       dtype\u001b[38;5;241m=\u001b[39m\u001b[38;5;28minput\u001b[39m\u001b[38;5;241m.\u001b[39mdtype, device\u001b[38;5;241m=\u001b[39m\u001b[38;5;28minput\u001b[39m\u001b[38;5;241m.\u001b[39mdevice)\n\u001b[1;32m    791\u001b[0m hx \u001b[38;5;241m=\u001b[39m (h_zeros, c_zeros)\n",
      "\u001b[0;31mKeyboardInterrupt\u001b[0m: "
     ]
    }
   ],
   "source": [
    "for epoch in range(num_epochs):\n",
    "    mean_train_loss = train(model, train_dataloader, criterion, optimizer)\n",
    "    mean_val_loss = validate(model, val_dataloader, criterion)\n",
    "\n",
    "    history.append([mean_train_loss, mean_val_loss])\n",
    "    print(\n",
    "        f\"Epoch [{epoch+1}/{num_epochs}]\\nTrain Loss: {round(mean_train_loss, 4)}\\nVal Loss: {round(mean_val_loss, 4)}\"\n",
    "        f\"\\nBest Val loss: {round(val_min_loss, 4)}\"\n",
    "    )\n",
    "\n",
    "    if mean_val_loss < val_min_loss:\n",
    "        val_min_loss = mean_val_loss\n",
    "        print(\"Saving best model....\")\n",
    "        torch.save(model.state_dict(), f\"./models/{model_name}_best.pt\")"
   ]
  },
  {
   "cell_type": "code",
   "execution_count": 47,
   "id": "b5e64252",
   "metadata": {},
   "outputs": [],
   "source": [
    "torch.save(model.state_dict(), f\"./models/{model_name}_last.pt\")"
   ]
  },
  {
   "cell_type": "code",
   "execution_count": 48,
   "id": "a1df9555",
   "metadata": {},
   "outputs": [
    {
     "data": {
      "text/plain": [
       "<All keys matched successfully>"
      ]
     },
     "execution_count": 48,
     "metadata": {},
     "output_type": "execute_result"
    }
   ],
   "source": [
    "best_weights = torch.load(f\"./models/{model_name}_best.pt\")\n",
    "model.load_state_dict(best_weights)"
   ]
  },
  {
   "cell_type": "code",
   "execution_count": 49,
   "id": "75b0791c",
   "metadata": {},
   "outputs": [
    {
     "data": {
      "text/plain": [
       "<matplotlib.legend.Legend at 0x7fe7508055e0>"
      ]
     },
     "execution_count": 49,
     "metadata": {},
     "output_type": "execute_result"
    },
    {
     "data": {
      "image/png": "[encoded data removed]",
      "text/plain": [
       "<Figure size 640x480 with 1 Axes>"
      ]
     },
     "metadata": {},
     "output_type": "display_data"
    }
   ],
   "source": [
    "plt.plot(history)\n",
    "plt.legend([\"train\", \"val\"])"
   ]
  },
  {
   "cell_type": "markdown",
   "id": "b3988ecf",
   "metadata": {},
   "source": [
    "# Evaluation"
   ]
  },
  {
   "cell_type": "code",
   "execution_count": 50,
   "id": "97cc68e8",
   "metadata": {},
   "outputs": [],
   "source": [
    "model.eval()\n",
    "\n",
    "X_val = val_dataset.data_X\n",
    "x_val = val_dataset.data_x\n",
    "y_val = val_dataset.data_y\n",
    "\n",
    "predictions = model(X_val.to(DEVICE), x_val.to(DEVICE)).detach().cpu().numpy()\n",
    "ground_truth = y_val.numpy()"
   ]
  },
  {
   "cell_type": "markdown",
   "id": "d78f197c",
   "metadata": {},
   "source": [
    "### MAE"
   ]
  },
  {
   "cell_type": "code",
   "execution_count": 51,
   "id": "18667580",
   "metadata": {},
   "outputs": [
    {
     "name": "stdout",
     "output_type": "stream",
     "text": [
      "0.0992\n"
     ]
    }
   ],
   "source": [
    "print(np.abs(predictions - ground_truth).mean().round(4))"
   ]
  },
  {
   "cell_type": "markdown",
   "id": "2be7803f",
   "metadata": {},
   "source": [
    "### $R^{2}$"
   ]
  },
  {
   "cell_type": "code",
   "execution_count": 52,
   "id": "7683c2c2",
   "metadata": {},
   "outputs": [
    {
     "data": {
      "text/plain": [
       "0.7220172077011814"
      ]
     },
     "execution_count": 52,
     "metadata": {},
     "output_type": "execute_result"
    }
   ],
   "source": [
    "r2_score(ground_truth.flatten(), predictions.flatten())"
   ]
  },
  {
   "cell_type": "markdown",
   "id": "3f4c5a1a",
   "metadata": {},
   "source": [
    "## Kernel Density Estimation plot"
   ]
  },
  {
   "cell_type": "code",
   "execution_count": 53,
   "id": "872ce634",
   "metadata": {},
   "outputs": [
    {
     "data": {
      "image/png": "[encoded data removed]",
      "text/plain": [
       "<Figure size 640x480 with 1 Axes>"
      ]
     },
     "metadata": {},
     "output_type": "display_data"
    }
   ],
   "source": [
    "sns.kdeplot(ground_truth.flatten())\n",
    "sns.kdeplot( predictions.flatten())\n",
    "plt.legend([\"Ground truth\", \"Prediction\"])\n",
    "plt.show()"
   ]
  },
  {
   "cell_type": "markdown",
   "id": "27e58f2a",
   "metadata": {},
   "source": [
    "## Scatter plot of ground_truth and preds"
   ]
  },
  {
   "cell_type": "code",
   "execution_count": 54,
   "id": "95c65d79",
   "metadata": {},
   "outputs": [
    {
     "data": {
      "image/png": "[encoded data removed]",
      "text/plain": [
       "<Figure size 800x600 with 1 Axes>"
      ]
     },
     "metadata": {},
     "output_type": "display_data"
    }
   ],
   "source": [
    "x_values = np.linspace(\n",
    "    min(predictions.min(), ground_truth.min()),\n",
    "    max(predictions.max(), ground_truth.max()),\n",
    "    1_000,\n",
    ")\n",
    "y_values = x_values\n",
    "\n",
    "plt.figure(figsize=(8, 6))\n",
    "sns.scatterplot(x=ground_truth.flatten(), y=predictions.flatten())\n",
    "\n",
    "plt.plot(x_values, y_values, color=\"red\", linestyle=\"dashed\", label=\"y = x\")\n",
    "\n",
    "plt.xlabel(\"Ground Truth\")\n",
    "plt.ylabel(\"Predictions\")\n",
    "plt.title(\"Scatter plot - Predictions vs. Ground Truth\")\n",
    "plt.legend()\n",
    "plt.show()"
   ]
  },
  {
   "cell_type": "code",
   "execution_count": null,
   "id": "e4e38630",
   "metadata": {},
   "outputs": [],
   "source": []
  }
 ],
 "metadata": {
  "kernelspec": {
   "display_name": "Python 3 (ipykernel)",
   "language": "python",
   "name": "python3"
  },
  "language_info": {
   "codemirror_mode": {
    "name": "ipython",
    "version": 3
   },
   "file_extension": ".py",
   "mimetype": "text/x-python",
   "name": "python",
   "nbconvert_exporter": "python",
   "pygments_lexer": "ipython3",
   "version": "3.9.12"
  }
 },
 "nbformat": 4,
 "nbformat_minor": 5
}
