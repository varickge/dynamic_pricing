{
 "cells": [
  {
   "cell_type": "code",
   "execution_count": 1,
   "id": "c5ff7cdc",
   "metadata": {},
   "outputs": [],
   "source": [
    "from utils import *"
   ]
  },
  {
   "cell_type": "code",
   "execution_count": 2,
   "id": "89d7fcb4",
   "metadata": {},
   "outputs": [],
   "source": [
    "CONST_COLUMNS = [ \n",
    "                  'Stellensubart_1', \n",
    "                  'Stellensubart_2',\n",
    "                  'Stellensubart_3', \n",
    "                  'Stellensubart_4', \n",
    "                  'T1', 'T2', 'T3', 'T4', 'T5', 'T6', 'T7', 'T8', 'T9',\n",
    "                  'T10', 'T11', 'T12', 'T13', 'T14', 'T15', 'T16', 'T17', 'T18', 'T19',\n",
    "                  'T20', 'T21', 'T22', 'T23', 'T24', 'T25', 'T26', 'T27', 'T28', 'T29',\n",
    "                  'T30', 'T31', 'T32', 'T33', 'T34',\n",
    "                  'Preis',\n",
    "                  'Beleuchtet', \n",
    "                  'Laenge', \n",
    "                  'Breite', \n",
    "                  'Eigenfläche',\n",
    "                  'PPSVACWert',\n",
    "                  'Qid',\n",
    "                  'GJ']"
   ]
  },
  {
   "cell_type": "code",
   "execution_count": 3,
   "id": "6a013d49",
   "metadata": {},
   "outputs": [],
   "source": [
    "data = pd.read_pickle(\"data/df_gesamt_15_08_prepocessed_einworner_added.pkl\")    "
   ]
  },
  {
   "cell_type": "code",
   "execution_count": 4,
   "id": "586b77bb",
   "metadata": {},
   "outputs": [],
   "source": [
    "distance_2018 = pd.read_csv(\"./data/distances/distances_2018_truncated.csv\").set_index(\"Qid1\")\n",
    "distance_2019 = pd.read_csv(\"./data/distances/distances_2019_truncated.csv\").set_index(\"Qid1\")\n",
    "distance_2020 = pd.read_csv(\"./data/distances/distances_2020_truncated.csv\").set_index(\"Qid1\")\n",
    "distance_2021 = pd.read_csv(\"./data/distances/distances_2021_truncated.csv\").set_index(\"Qid1\")\n",
    "distance_2022 = pd.read_csv(\"./data/distances/distances_2022_truncated.csv\").set_index(\"Qid1\")"
   ]
  },
  {
   "cell_type": "code",
   "execution_count": 5,
   "id": "955863ec",
   "metadata": {},
   "outputs": [],
   "source": [
    "year_count = data.groupby([\"Qid\"])[\"GJ\"].count()"
   ]
  },
  {
   "cell_type": "code",
   "execution_count": 6,
   "id": "4ecc0284",
   "metadata": {},
   "outputs": [],
   "source": [
    "cleaned_data = data[data.Qid.isin(year_count[year_count == 6].index)].copy()"
   ]
  },
  {
   "cell_type": "code",
   "execution_count": 7,
   "id": "4bdd1154",
   "metadata": {},
   "outputs": [],
   "source": [
    "cleaned_data = cleaned_data.sort_values(by=[\"Qid\", \"GJ\"]).set_index(\"Qid\", drop=False)"
   ]
  },
  {
   "cell_type": "code",
   "execution_count": 8,
   "id": "9e36745b",
   "metadata": {},
   "outputs": [],
   "source": [
    "cleaned_data = cleaned_data.loc[:, CONST_COLUMNS]"
   ]
  },
  {
   "cell_type": "markdown",
   "id": "3871a3c8",
   "metadata": {},
   "source": [
    "# Normalize cols"
   ]
  },
  {
   "cell_type": "code",
   "execution_count": 9,
   "id": "fedb5b2f",
   "metadata": {},
   "outputs": [],
   "source": [
    "# cleaned_data.Preis = (cleaned_data.Preis - cleaned_data.Preis.mean()) / cleaned_data.Preis.std()"
   ]
  },
  {
   "cell_type": "code",
   "execution_count": 10,
   "id": "1c30ccd5",
   "metadata": {},
   "outputs": [],
   "source": [
    "cleaned_data.Laenge = (cleaned_data.Laenge - cleaned_data.Laenge.mean()) / cleaned_data.Laenge.std()"
   ]
  },
  {
   "cell_type": "code",
   "execution_count": 11,
   "id": "8772ee11",
   "metadata": {},
   "outputs": [],
   "source": [
    "cleaned_data.Breite = (cleaned_data.Breite - cleaned_data.Breite.mean()) / cleaned_data.Breite.std()"
   ]
  },
  {
   "cell_type": "code",
   "execution_count": 12,
   "id": "aa5fdf3b",
   "metadata": {},
   "outputs": [],
   "source": [
    "cleaned_data.PPSVACWert = (cleaned_data.PPSVACWert - cleaned_data.PPSVACWert.mean()) / cleaned_data.PPSVACWert.std()"
   ]
  },
  {
   "cell_type": "code",
   "execution_count": 13,
   "id": "060a7586",
   "metadata": {},
   "outputs": [],
   "source": [
    "data_2018 = cleaned_data[cleaned_data.GJ == 2018].drop(columns = [\"Qid\", \"GJ\"]).copy()\n",
    "data_2019 = cleaned_data[cleaned_data.GJ == 2019].drop(columns = [\"Qid\", \"GJ\"]).copy()\n",
    "data_2020 = cleaned_data[cleaned_data.GJ == 2020].drop(columns = [\"Qid\", \"GJ\"]).copy()\n",
    "data_2021 = cleaned_data[cleaned_data.GJ == 2021].drop(columns = [\"Qid\", \"GJ\"]).copy()\n",
    "data_2022 = cleaned_data[cleaned_data.GJ == 2022].drop(columns = [\"Qid\", \"GJ\"]).copy()\n",
    "data_2023 = cleaned_data[cleaned_data.GJ == 2023].drop(columns = [\"Qid\", \"GJ\"]).copy()"
   ]
  },
  {
   "cell_type": "code",
   "execution_count": 14,
   "id": "3c6a4253",
   "metadata": {},
   "outputs": [],
   "source": [
    "data_2023.loc[:, \"T1\":\"T22\"] = data_2023.loc[:, \"T1\":\"T22\"].replace(-1, 0)"
   ]
  },
  {
   "cell_type": "code",
   "execution_count": 15,
   "id": "b4199599",
   "metadata": {},
   "outputs": [],
   "source": [
    "all_valid_qids = cleaned_data.Qid"
   ]
  },
  {
   "cell_type": "code",
   "execution_count": 16,
   "id": "cfd7a40b",
   "metadata": {},
   "outputs": [],
   "source": [
    "qid_train, qid_val = train_test_split(all_valid_qids, test_size=0.05, random_state=7 )"
   ]
  },
  {
   "cell_type": "code",
   "execution_count": 17,
   "id": "79c22cef",
   "metadata": {},
   "outputs": [],
   "source": [
    "def min_max(arg):\n",
    "    return torch.softmax(-torch.from_numpy(arg)*0.1, dim=0).numpy()"
   ]
  },
  {
   "cell_type": "markdown",
   "id": "63c78be7",
   "metadata": {},
   "source": [
    "# Data Loading"
   ]
  },
  {
   "cell_type": "code",
   "execution_count": 10,
   "id": "63d69c95",
   "metadata": {
    "scrolled": false
   },
   "outputs": [],
   "source": [
    "def DataPreprocessor(qids):\n",
    "    global data_2018, data_2019, data_2020, data_2021, data_2022, data_2023\n",
    "    global distance_2018, distance_2019, distance_2020, distance_2021, distance_2022\n",
    "    X, x, y = [], [], []\n",
    "\n",
    "    for idx, qid in enumerate(tqdm(qids)):\n",
    "\n",
    "        ##########################################\n",
    "        neighbours_2018 = distance_2018.loc[qid]\n",
    "\n",
    "        if isinstance(neighbours_2018, pd.core.series.Series) or (neighbours_2018.shape[0] <= 1):\n",
    "            continue\n",
    "\n",
    "        neighbours_2018 = neighbours_2018[neighbours_2018.Qid2 != qid]\n",
    "\n",
    "        neighbour_distances_2018 = neighbours_2018.distance\n",
    "        neighbours_2018 = neighbours_2018.Qid2\n",
    "\n",
    "\n",
    "        #########################################\n",
    "        neighbours_2019 = distance_2019.loc[qid]\n",
    "\n",
    "        if isinstance(neighbours_2019, pd.core.series.Series) or (neighbours_2019.shape[0] <= 1):\n",
    "            continue\n",
    "\n",
    "        neighbours_2019 = neighbours_2019[neighbours_2019.Qid2 != qid]\n",
    "        neighbour_distances_2019 = neighbours_2019.distance\n",
    "        neighbours_2019 = neighbours_2019.Qid2\n",
    "\n",
    "        #########################################\n",
    "        neighbours_2020 = distance_2020.loc[qid]\n",
    "\n",
    "        if isinstance(neighbours_2020, pd.core.series.Series) or (neighbours_2020.shape[0] <= 1):\n",
    "            continue\n",
    "\n",
    "        neighbours_2020 = neighbours_2020[neighbours_2020.Qid2 != qid]\n",
    "        neighbour_distances_2020 = neighbours_2020.distance\n",
    "        neighbours_2020 = neighbours_2020.Qid2\n",
    "\n",
    "        #########################################\n",
    "        neighbours_2021 = distance_2021.loc[qid]\n",
    "\n",
    "        if isinstance(neighbours_2021, pd.core.series.Series) or (neighbours_2021.shape[0] <= 1):\n",
    "            continue\n",
    "\n",
    "        neighbours_2021 = neighbours_2021[neighbours_2021.Qid2 != qid]\n",
    "        neighbour_distances_2021 = neighbours_2021.distance\n",
    "        neighbours_2021 = neighbours_2021.Qid2\n",
    "\n",
    "        #########################################\n",
    "        neighbours_2022 = distance_2022.loc[qid]\n",
    "\n",
    "        if isinstance(neighbours_2022, pd.core.series.Series) or (neighbours_2022.shape[0] <= 1):\n",
    "            continue\n",
    "\n",
    "        neighbours_2022 = neighbours_2022[neighbours_2022.Qid2 != qid]\n",
    "        neighbour_distances_2022 = neighbours_2022.distance\n",
    "        neighbours_2022 = neighbours_2022.Qid2\n",
    "        #########################################\n",
    "\n",
    "\n",
    "        neighbours_2018_data = data_2018.loc[neighbours_2018.values].values\n",
    "        neighbours_2019_data = data_2019.loc[neighbours_2019.values].values\n",
    "        neighbours_2020_data = data_2020.loc[neighbours_2020.values].values\n",
    "        neighbours_2021_data = data_2021.loc[neighbours_2021.values].values\n",
    "        neighbours_2022_data = data_2022.loc[neighbours_2022.values].values\n",
    "\n",
    "\n",
    "        self_data_2018 = torch.from_numpy(data_2018.loc[qid].values)\n",
    "        self_data_2019 = torch.from_numpy(data_2019.loc[qid].values)\n",
    "        self_data_2020 = torch.from_numpy(data_2020.loc[qid].values)\n",
    "        self_data_2021 = torch.from_numpy(data_2021.loc[qid].values)\n",
    "        self_data_2022 = torch.from_numpy(data_2022.loc[qid].values)\n",
    "        self_data_2022 = torch.from_numpy(data_2022.loc[qid].values)\n",
    "        self_data_2023 = torch.from_numpy(data_2023.loc[qid].drop(labels=[\"PPSVACWert\", *[f\"T{i}\" for i in range(1, 35)]]).values)\n",
    "\n",
    "\n",
    "\n",
    "        neighbours_2018_data = torch.from_numpy(min_max(neighbour_distances_2018.values) @ neighbours_2018_data)\n",
    "        neighbours_2019_data = torch.from_numpy(min_max(neighbour_distances_2019.values) @ neighbours_2019_data)\n",
    "        neighbours_2020_data = torch.from_numpy(min_max(neighbour_distances_2020.values) @ neighbours_2020_data)\n",
    "        neighbours_2021_data = torch.from_numpy(min_max(neighbour_distances_2021.values) @ neighbours_2021_data)\n",
    "        neighbours_2022_data = torch.from_numpy(min_max(neighbour_distances_2022.values) @ neighbours_2022_data)\n",
    "\n",
    "\n",
    "        data_point_2018 = torch.stack([neighbours_2018_data, self_data_2018], dim=-1)\n",
    "        data_point_2019 = torch.stack([neighbours_2019_data, self_data_2019], dim=-1)\n",
    "        data_point_2020 = torch.stack([neighbours_2020_data, self_data_2020], dim=-1)\n",
    "        data_point_2021 = torch.stack([neighbours_2021_data, self_data_2021], dim=-1)\n",
    "        data_point_2022 = torch.stack([neighbours_2022_data, self_data_2022], dim=-1)\n",
    "\n",
    "\n",
    "        neighbours_features = torch.stack([data_point_2018, \n",
    "                                           data_point_2019,\n",
    "                                           data_point_2020, \n",
    "                                           data_point_2021, \n",
    "                                           data_point_2022,\n",
    "                                          ])\n",
    "\n",
    "        label = torch.tensor(data_2023.loc[qid, \"T1\":\"T22\"].mean())\n",
    "\n",
    "        X.append(neighbours_features)\n",
    "        x.append(self_data_2023)\n",
    "        y.append(label)\n",
    "        \n",
    "    X = torch.stack(X, dim=0)\n",
    "    x = torch.stack(x, dim=0)\n",
    "    y = torch.stack(y, dim=0)\n",
    "    \n",
    "    return X, x, y\n",
    "\n",
    "\n",
    "class CustomDataset(torch.utils.data.Dataset):\n",
    "    def __init__(self, path_X, path_x, path_y, p=0.1):\n",
    "        \n",
    "        self.data_X = torch.load(path_X)\n",
    "        self.data_x = torch.load(path_x)\n",
    "        self.data_y = torch.load(path_y)\n",
    "    \n",
    "        self.p = p\n",
    "        \n",
    "#         self.price_mean = 20.79664930570157\n",
    "#         self.price_std = 11.435527335249834\n",
    "        \n",
    "    def __getitem__(self, index):\n",
    "        if torch.rand(1) < self.p:\n",
    "            return self.__transform(self.data_X[index].clone(), self.data_x[index].clone(), self.data_y[index].clone())\n",
    "        else:\n",
    "            return self.data_X[index], self.data_x[index], self.data_y[index]\n",
    "    \n",
    "    def __len__(self):\n",
    "        return len(self.data_X)\n",
    "    \n",
    "    def __transform(self, item_X, item_x, item_y, k=2):\n",
    "        \n",
    "        max_price = max(item_X[:, -6, -1])\n",
    "        item_x[-5] = k * max_price\n",
    "        item_y = item_y * 0\n",
    "        \n",
    "        return item_X, item_x, item_y"
   ]
  },
  {
   "cell_type": "code",
   "execution_count": 19,
   "id": "13987ac1",
   "metadata": {},
   "outputs": [],
   "source": [
    "# # loading train data\n",
    "# X_train, x_train, y_train = DataPreprocessor(qid_train)\n",
    "\n",
    "# torch.save(X_train, \"./data/proof_of_concept/X_train_16_08.pt\")\n",
    "# torch.save(x_train, \"./data/proof_of_concept/x_train_16_08.pt\")\n",
    "# torch.save(y_train, \"./data/proof_of_concept/y_train_16_08.pt\")"
   ]
  },
  {
   "cell_type": "code",
   "execution_count": 20,
   "id": "49be947c",
   "metadata": {},
   "outputs": [],
   "source": [
    "# # loading val data\n",
    "# X_val, x_val, y_val = DataPreprocessor(qid_val)\n",
    "\n",
    "# torch.save(X_val, \"./data/proof_of_concept/X_val_16_08.pt\")\n",
    "# torch.save(x_val, \"./data/proof_of_concept/x_val_16_08.pt\")\n",
    "# torch.save(y_val, \"./data/proof_of_concept/y_val_16_08.pt\")"
   ]
  },
  {
   "cell_type": "code",
   "execution_count": 22,
   "id": "d53758c1",
   "metadata": {},
   "outputs": [],
   "source": [
    "# # loading test data\n",
    "# X_test, x_test, y_test = DataPreprocessor([9860, 9673, 9855])\n",
    "\n",
    "#error with 9333\n",
    "\n",
    "# torch.save(X_test, \"./data/proof_of_concept/X_test_16_08.pt\")\n",
    "# torch.save(x_test, \"./data/proof_of_concept/x_test_16_08.pt\")\n",
    "# torch.save(y_test, \"./data/proof_of_concept/y_test_16_08.pt\")"
   ]
  },
  {
   "cell_type": "code",
   "execution_count": 23,
   "id": "36c64287",
   "metadata": {},
   "outputs": [],
   "source": [
    "# torch.save(X_train, \"./data/proof_of_concept/X_train_2.pt\")\n",
    "# torch.save(x_train, \"./data/proof_of_concept/x_train_2.pt\")\n",
    "# torch.save(y_train, \"./data/proof_of_concept/y_train_2.pt\")"
   ]
  },
  {
   "cell_type": "markdown",
   "id": "dcc4355e",
   "metadata": {},
   "source": [
    "# Models"
   ]
  },
  {
   "cell_type": "code",
   "execution_count": 7,
   "id": "8e60d3d3",
   "metadata": {},
   "outputs": [],
   "source": [
    "class LSTMModel_1(nn.Module):\n",
    "    \n",
    "    def __init__(self, input_size, hidden_size, num_layers, output_size):\n",
    "        super(LSTMModel_1, self).__init__()\n",
    "        self.hidden_size = hidden_size\n",
    "        self.num_layers = num_layers\n",
    "        self.lstm = nn.LSTM(input_size, hidden_size, num_layers, batch_first=True, bias=True, dropout=0.0)\n",
    "        self.fc_1 = nn.Linear(2, 1, bias=False)\n",
    "        \n",
    "        self.fc_2 = nn.Sequential(nn.Linear(hidden_size // 1, hidden_size // 2),\n",
    "                                  nn.LeakyReLU(),\n",
    "                                  nn.Dropout1d(0.0),\n",
    "                                  nn.Linear(hidden_size // 2, hidden_size // 4),\n",
    "                                  nn.LeakyReLU(),\n",
    "                                  nn.Dropout1d(0.0),\n",
    "                                  nn.Linear(hidden_size // 4, hidden_size // 8),\n",
    "                                  nn.LeakyReLU(),\n",
    "                                  nn.Dropout1d(0.0),\n",
    "                                  nn.Linear(hidden_size // 8, output_size),\n",
    "                                 )\n",
    "        self.fc_b = nn.Linear(input_size - 35, input_size)\n",
    "        \n",
    "    def forward(self, x, x_2023):\n",
    "        \n",
    "        out = self.fc_1(x)\n",
    "        out = out[..., 0]\n",
    "        \n",
    "        x_2023 = self.fc_b(x_2023)[:, None, ...]\n",
    "        out = torch.cat([out, x_2023], axis=1)\n",
    "        \n",
    "        out, _ = self.lstm(out)\n",
    "        out = out[:, -1, ...]\n",
    "        \n",
    "        out = self.fc_2(out)\n",
    "                \n",
    "        return out"
   ]
  },
  {
   "cell_type": "code",
   "execution_count": 2,
   "id": "14faa969",
   "metadata": {},
   "outputs": [],
   "source": [
    "class LSTMModel_2(nn.Module):\n",
    "    \n",
    "    def __init__(self, input_size, hidden_size, num_layers, output_size):\n",
    "        super(LSTMModel_2, self).__init__()\n",
    "        self.hidden_size = hidden_size\n",
    "        self.num_layers = num_layers\n",
    "        self.lstm = nn.LSTM(input_size, hidden_size, num_layers, batch_first=True, bias=True, dropout=0.0)\n",
    "        self.fc_1 = nn.Linear(2, 1, bias=False)\n",
    "        \n",
    "        self.fc_2 = nn.Sequential(nn.Linear(hidden_size // 1, hidden_size // 2),\n",
    "                                  nn.LeakyReLU(),\n",
    "                                  nn.Dropout1d(0.0),\n",
    "                                  nn.Linear(hidden_size // 2, hidden_size // 4),\n",
    "                                  nn.LeakyReLU(),\n",
    "                                  nn.Dropout1d(0.0),\n",
    "                                  nn.Linear(hidden_size // 4, hidden_size // 8),\n",
    "                                  nn.LeakyReLU(),\n",
    "                                  nn.Dropout1d(0.0),\n",
    "                                  nn.Linear(hidden_size // 8, output_size),\n",
    "                                 )\n",
    "        self.fc_b = nn.Bilinear(input_size - 35,  hidden_size, hidden_size)\n",
    "        \n",
    "    def forward(self, x, x_2023):\n",
    "        \n",
    "        out = self.fc_1(x)\n",
    "        out = out[..., 0]\n",
    "                \n",
    "        out, _ = self.lstm(out)\n",
    "        out = out[:, -1, ...]\n",
    "        st = time()\n",
    "        \n",
    "        out = self.fc_b(x_2023, out)\n",
    "        print(time()-st)\n",
    "        \n",
    "        out = self.fc_2(out)\n",
    "                \n",
    "        return out"
   ]
  },
  {
   "cell_type": "markdown",
   "id": "d851d1e4",
   "metadata": {},
   "source": [
    "# Defining hyperparametrs"
   ]
  },
  {
   "cell_type": "code",
   "execution_count": 15,
   "id": "3057d8e3",
   "metadata": {},
   "outputs": [],
   "source": [
    "BATCH_SIZE = 64\n",
    "LEARNING_RATE = 0.001"
   ]
  },
  {
   "cell_type": "code",
   "execution_count": 16,
   "id": "ead06f92",
   "metadata": {},
   "outputs": [],
   "source": [
    "model = LSTMModel_1(44, 512, 5, 1).to(DEVICE)\n",
    "criterion = nn.MSELoss()\n",
    "optimizer = torch.optim.Adam(model.parameters(), lr=LEARNING_RATE) "
   ]
  },
  {
   "cell_type": "code",
   "execution_count": 18,
   "id": "ba46abb0",
   "metadata": {},
   "outputs": [],
   "source": [
    "train_dataset = CustomDataset(\"./data/proof_of_concept/X_train_16_08_old.pt\", \n",
    "                              \"./data/proof_of_concept/x_train_16_08_old.pt\",\n",
    "                              \"./data/proof_of_concept/y_train_16_08_old.pt\")\n",
    "\n",
    "val_dataset = CustomDataset(\"./data/proof_of_concept/X_val_16_08_old.pt\", \n",
    "                              \"./data/proof_of_concept/x_val_16_08_old.pt\",\n",
    "                              \"./data/proof_of_concept/y_val_16_08_old.pt\")"
   ]
  },
  {
   "cell_type": "code",
   "execution_count": 19,
   "id": "d6b630bd",
   "metadata": {},
   "outputs": [],
   "source": [
    "train_dataloader = DataLoader(train_dataset, batch_size=BATCH_SIZE, shuffle=True, drop_last=True, num_workers=24)\n",
    "val_dataloader = DataLoader(val_dataset, batch_size=BATCH_SIZE, shuffle=True, drop_last=True)"
   ]
  },
  {
   "cell_type": "code",
   "execution_count": null,
   "id": "cb7c527e",
   "metadata": {
    "scrolled": true
   },
   "outputs": [
    {
     "name": "stdout",
     "output_type": "stream",
     "text": [
      "Input proper model name:\tLSTM_new_arc\n"
     ]
    },
    {
     "data": {
      "application/vnd.jupyter.widget-view+json": {
       "model_id": "6cc49bac32074d899d0075d02420dcc9",
       "version_major": 2,
       "version_minor": 0
      },
      "text/plain": [
       "  0%|          | 0/8587 [00:00<?, ?it/s]"
      ]
     },
     "metadata": {},
     "output_type": "display_data"
    },
    {
     "data": {
      "application/vnd.jupyter.widget-view+json": {
       "model_id": "f4540d42931c438db7a3b07a313450ac",
       "version_major": 2,
       "version_minor": 0
      },
      "text/plain": [
       "  0%|          | 0/451 [00:00<?, ?it/s]"
      ]
     },
     "metadata": {},
     "output_type": "display_data"
    },
    {
     "name": "stdout",
     "output_type": "stream",
     "text": [
      "Epoch [1/50]\n",
      "Train Loss: 0.0195\n",
      "Val Loss: 0.0142\n"
     ]
    },
    {
     "data": {
      "application/vnd.jupyter.widget-view+json": {
       "model_id": "cf3d288632174e6d94946b694ba714e9",
       "version_major": 2,
       "version_minor": 0
      },
      "text/plain": [
       "  0%|          | 0/8587 [00:00<?, ?it/s]"
      ]
     },
     "metadata": {},
     "output_type": "display_data"
    },
    {
     "data": {
      "application/vnd.jupyter.widget-view+json": {
       "model_id": "323dfbebad9845d1911016ea5c8df77c",
       "version_major": 2,
       "version_minor": 0
      },
      "text/plain": [
       "  0%|          | 0/451 [00:00<?, ?it/s]"
      ]
     },
     "metadata": {},
     "output_type": "display_data"
    },
    {
     "name": "stdout",
     "output_type": "stream",
     "text": [
      "Epoch [2/50]\n",
      "Train Loss: 0.0147\n",
      "Val Loss: 0.0164\n"
     ]
    },
    {
     "data": {
      "application/vnd.jupyter.widget-view+json": {
       "model_id": "02e49d1c9b7d4ae2a9c77e32f53c0ee2",
       "version_major": 2,
       "version_minor": 0
      },
      "text/plain": [
       "  0%|          | 0/8587 [00:00<?, ?it/s]"
      ]
     },
     "metadata": {},
     "output_type": "display_data"
    },
    {
     "data": {
      "application/vnd.jupyter.widget-view+json": {
       "model_id": "29f875f11fbe41ef9501828aa76a9f81",
       "version_major": 2,
       "version_minor": 0
      },
      "text/plain": [
       "  0%|          | 0/451 [00:00<?, ?it/s]"
      ]
     },
     "metadata": {},
     "output_type": "display_data"
    },
    {
     "name": "stdout",
     "output_type": "stream",
     "text": [
      "Epoch [3/50]\n",
      "Train Loss: 0.0138\n",
      "Val Loss: 0.0133\n"
     ]
    },
    {
     "data": {
      "application/vnd.jupyter.widget-view+json": {
       "model_id": "11caae19d40e49c7a2fc63405c4ff3cc",
       "version_major": 2,
       "version_minor": 0
      },
      "text/plain": [
       "  0%|          | 0/8587 [00:00<?, ?it/s]"
      ]
     },
     "metadata": {},
     "output_type": "display_data"
    },
    {
     "data": {
      "application/vnd.jupyter.widget-view+json": {
       "model_id": "2ffa70dc21a6460299b3b8580394bca2",
       "version_major": 2,
       "version_minor": 0
      },
      "text/plain": [
       "  0%|          | 0/451 [00:00<?, ?it/s]"
      ]
     },
     "metadata": {},
     "output_type": "display_data"
    },
    {
     "name": "stdout",
     "output_type": "stream",
     "text": [
      "Epoch [4/50]\n",
      "Train Loss: 0.0126\n",
      "Val Loss: 0.0126\n"
     ]
    },
    {
     "data": {
      "application/vnd.jupyter.widget-view+json": {
       "model_id": "4396b99a42c24d3ca184f3ec8d1ef7d7",
       "version_major": 2,
       "version_minor": 0
      },
      "text/plain": [
       "  0%|          | 0/8587 [00:00<?, ?it/s]"
      ]
     },
     "metadata": {},
     "output_type": "display_data"
    },
    {
     "data": {
      "application/vnd.jupyter.widget-view+json": {
       "model_id": "95eff48a47344df684c647ed85ee6b0f",
       "version_major": 2,
       "version_minor": 0
      },
      "text/plain": [
       "  0%|          | 0/451 [00:00<?, ?it/s]"
      ]
     },
     "metadata": {},
     "output_type": "display_data"
    },
    {
     "name": "stdout",
     "output_type": "stream",
     "text": [
      "Epoch [5/50]\n",
      "Train Loss: 0.0112\n",
      "Val Loss: 0.011\n"
     ]
    },
    {
     "data": {
      "application/vnd.jupyter.widget-view+json": {
       "model_id": "5a712445cd7d40559b22231d440ebdeb",
       "version_major": 2,
       "version_minor": 0
      },
      "text/plain": [
       "  0%|          | 0/8587 [00:00<?, ?it/s]"
      ]
     },
     "metadata": {},
     "output_type": "display_data"
    },
    {
     "data": {
      "application/vnd.jupyter.widget-view+json": {
       "model_id": "0bbfea652f4446d7b6a7607df89ca685",
       "version_major": 2,
       "version_minor": 0
      },
      "text/plain": [
       "  0%|          | 0/451 [00:00<?, ?it/s]"
      ]
     },
     "metadata": {},
     "output_type": "display_data"
    },
    {
     "name": "stdout",
     "output_type": "stream",
     "text": [
      "Epoch [6/50]\n",
      "Train Loss: 0.0094\n",
      "Val Loss: 0.0081\n"
     ]
    },
    {
     "data": {
      "application/vnd.jupyter.widget-view+json": {
       "model_id": "14927feae2e649dc8085c8566e50efd0",
       "version_major": 2,
       "version_minor": 0
      },
      "text/plain": [
       "  0%|          | 0/8587 [00:00<?, ?it/s]"
      ]
     },
     "metadata": {},
     "output_type": "display_data"
    },
    {
     "data": {
      "application/vnd.jupyter.widget-view+json": {
       "model_id": "b20f2773f364467692a9c4355e19b646",
       "version_major": 2,
       "version_minor": 0
      },
      "text/plain": [
       "  0%|          | 0/451 [00:00<?, ?it/s]"
      ]
     },
     "metadata": {},
     "output_type": "display_data"
    },
    {
     "name": "stdout",
     "output_type": "stream",
     "text": [
      "Epoch [7/50]\n",
      "Train Loss: 0.0077\n",
      "Val Loss: 0.0063\n"
     ]
    },
    {
     "data": {
      "application/vnd.jupyter.widget-view+json": {
       "model_id": "3b85a3756199497181df3362283c976a",
       "version_major": 2,
       "version_minor": 0
      },
      "text/plain": [
       "  0%|          | 0/8587 [00:00<?, ?it/s]"
      ]
     },
     "metadata": {},
     "output_type": "display_data"
    }
   ],
   "source": [
    "num_epochs = 50\n",
    "history = []\n",
    "val_min_loss = None\n",
    "model_name = input(\"Input proper model name:\\t\")\n",
    "scheduler = torch.optim.lr_scheduler.CyclicLR(optimizer, base_lr=LEARNING_RATE, max_lr=0.003, cycle_momentum=False)\n",
    "\n",
    "\n",
    "for epoch in range(num_epochs):\n",
    "    \n",
    "    train_running_loss = 0.0\n",
    "    model.train()\n",
    "    \n",
    "    for i, batch in enumerate(tqdm(train_dataloader, position=0, leave=True)):\n",
    "        # Every data instance is an input + label pair\n",
    "        X_train1 = batch[0].to(torch.float32).to(DEVICE)\n",
    "        x_train1 = batch[1].to(torch.float32).to(DEVICE)\n",
    "        y_train1 = batch[2].to(torch.float32).to(DEVICE)\n",
    "\n",
    "        # Make predictions for this batch\n",
    "        outputs = model(X_train1, x_train1)\n",
    "\n",
    "        # Compute the loss and its gradients\n",
    "        loss = criterion(outputs, y_train1.view(-1, 1))\n",
    "        loss.backward()\n",
    "\n",
    "        # Adjust learning weights\n",
    "        optimizer.step()\n",
    "        \n",
    "        # Zero your gradients for every batch!\n",
    "        optimizer.zero_grad()\n",
    "        scheduler.step()\n",
    "\n",
    "        # Gather data and report\n",
    "        train_running_loss += loss.item()\n",
    "\n",
    "    model.eval()\n",
    "    val_running_loss = 0.\n",
    "    \n",
    "    with torch.no_grad():\n",
    "        for i, batch in enumerate(tqdm(val_dataloader, position=0, leave=True)):\n",
    "\n",
    "            # Every data instance is an input + label pair\n",
    "            X_val1 = batch[0].to(torch.float32).to(DEVICE)\n",
    "            x_val1 = batch[1].to(torch.float32).to(DEVICE)\n",
    "            y_val1 = batch[2].to(torch.float32).to(DEVICE)\n",
    "\n",
    "            # Make predictions for this batch\n",
    "            outputs = model(X_val1, x_val1)\n",
    "            # Compute the loss and its gradients\n",
    "            loss = criterion(outputs, y_val1.view(-1, 1))\n",
    "            \n",
    "            # Gather data and report\n",
    "            val_running_loss += loss.item()\n",
    "\n",
    "    mean_train_loss = train_running_loss/len(train_dataloader)\n",
    "    mean_val_loss = val_running_loss/len(val_dataloader)\n",
    "    \n",
    "    if val_min_loss is None:\n",
    "        val_min_loss = mean_val_loss\n",
    "    else:\n",
    "        if mean_val_loss < val_min_loss:\n",
    "            val_min_loss = mean_val_loss\n",
    "            torch.save(model.state_dict(), f'./models/{model_name}.pth')\n",
    "    \n",
    "    \n",
    "    history.append([mean_train_loss, mean_val_loss])\n",
    "    print(f\"Epoch [{epoch+1}/{num_epochs}]\\nTrain Loss: {round(mean_train_loss, 4)}\\nVal Loss: {round(mean_val_loss, 4)}\")"
   ]
  },
  {
   "cell_type": "code",
   "execution_count": 101,
   "id": "75b0791c",
   "metadata": {},
   "outputs": [
    {
     "data": {
      "image/png": "[encoded data removed]",
      "text/plain": [
       "<Figure size 640x480 with 1 Axes>"
      ]
     },
     "metadata": {},
     "output_type": "display_data"
    }
   ],
   "source": [
    "plt.plot(history)\n",
    "plt.legend([\"train\", \"val\"]);"
   ]
  },
  {
   "cell_type": "markdown",
   "id": "b3988ecf",
   "metadata": {},
   "source": [
    "# Evaluation"
   ]
  },
  {
   "cell_type": "code",
   "execution_count": 115,
   "id": "97cc68e8",
   "metadata": {},
   "outputs": [],
   "source": [
    "model.eval()\n",
    "X_val = torch.load(\"./data/proof_of_concept/X_val_16_08_old.pt\")\n",
    "x_val = torch.load( \"./data/proof_of_concept/x_val_16_08_old.pt\")\n",
    "y_val = torch.load(\"./data/proof_of_concept/y_val_16_08_old.pt\")\n",
    "preds = model(X_val.to(torch.float32).to(DEVICE), x_val.to(torch.float32).to(DEVICE)).detach().cpu().numpy()\n",
    "ground_truth = (y_val).numpy()"
   ]
  },
  {
   "cell_type": "markdown",
   "id": "f82d4052",
   "metadata": {},
   "source": [
    "## MAE"
   ]
  },
  {
   "cell_type": "code",
   "execution_count": 119,
   "id": "9fabc03e",
   "metadata": {},
   "outputs": [
    {
     "name": "stdout",
     "output_type": "stream",
     "text": [
      "0.0072\n"
     ]
    }
   ],
   "source": [
    "print(np.abs(preds[..., 0] - ground_truth).mean().round(4))"
   ]
  },
  {
   "cell_type": "markdown",
   "id": "f0d08cf6",
   "metadata": {},
   "source": [
    "## Kernel Density Estimation plot"
   ]
  },
  {
   "cell_type": "code",
   "execution_count": 112,
   "id": "872ce634",
   "metadata": {},
   "outputs": [
    {
     "data": {
      "text/plain": [
       "<matplotlib.legend.Legend at 0x7f7a6a312640>"
      ]
     },
     "execution_count": 112,
     "metadata": {},
     "output_type": "execute_result"
    },
    {
     "data": {
      "image/png": "[encoded data removed]",
      "text/plain": [
       "<Figure size 640x480 with 1 Axes>"
      ]
     },
     "metadata": {},
     "output_type": "display_data"
    }
   ],
   "source": [
    "sns.kdeplot(preds)\n",
    "sns.kdeplot(ground_truth)\n",
    "plt.legend([\"Predicition\", \"Ground truth\"])"
   ]
  },
  {
   "cell_type": "markdown",
   "id": "398333fa",
   "metadata": {},
   "source": [
    "## Scatter plot of ground_truth and preds"
   ]
  },
  {
   "cell_type": "code",
   "execution_count": 113,
   "id": "95c65d79",
   "metadata": {},
   "outputs": [
    {
     "data": {
      "image/png": "[encoded data removed]",
      "text/plain": [
       "<Figure size 800x600 with 1 Axes>"
      ]
     },
     "metadata": {},
     "output_type": "display_data"
    }
   ],
   "source": [
    "# Create a diagonal line for y = x\n",
    "x_values = np.linspace(min(preds[..., 0].min(), ground_truth.min()), max(preds[..., 0].max(), ground_truth.max()), 100)\n",
    "y_values = x_values\n",
    "\n",
    "# Plot the scatter plot\n",
    "plt.figure(figsize=(8, 6))\n",
    "sns.scatterplot(x=ground_truth, y=preds[..., 0])\n",
    "\n",
    "# Plot the diagonal line\n",
    "plt.plot(x_values, y_values, color='red', linestyle='dashed', label='y = x')\n",
    "\n",
    "# Set labels and title\n",
    "plt.xlabel('Ground Truth')\n",
    "\n",
    "plt.ylabel('Predictions')\n",
    "plt.title('Scatter plot - Predictions vs. Ground Truth')\n",
    "\n",
    "# Show the plot\n",
    "plt.legend()\n",
    "plt.show()"
   ]
  },
  {
   "cell_type": "code",
   "execution_count": null,
   "id": "c4acf436",
   "metadata": {},
   "outputs": [],
   "source": []
  }
 ],
 "metadata": {
  "kernelspec": {
   "display_name": "Python 3 (ipykernel)",
   "language": "python",
   "name": "python3"
  },
  "language_info": {
   "codemirror_mode": {
    "name": "ipython",
    "version": 3
   },
   "file_extension": ".py",
   "mimetype": "text/x-python",
   "name": "python",
   "nbconvert_exporter": "python",
   "pygments_lexer": "ipython3",
   "version": "3.9.12"
  }
 },
 "nbformat": 4,
 "nbformat_minor": 5
}
