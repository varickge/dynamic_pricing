{
 "cells": [
  {
   "cell_type": "code",
   "execution_count": 48,
   "id": "c5ff7cdc",
   "metadata": {},
   "outputs": [],
   "source": [
    "from utils import *"
   ]
  },
  {
   "cell_type": "markdown",
   "id": "7d2a038d",
   "metadata": {},
   "source": [
    "# Data preprocessing and loading for fast training"
   ]
  },
  {
   "cell_type": "markdown",
   "id": "33799aeb",
   "metadata": {},
   "source": [
    "## Load source data"
   ]
  },
  {
   "cell_type": "code",
   "execution_count": 52,
   "id": "89d7fcb4",
   "metadata": {},
   "outputs": [],
   "source": [
    "CONST_COLUMNS = [\n",
    "    \"Stellensubart_1\",\n",
    "    \"Stellensubart_2\",\n",
    "    \"Stellensubart_3\",\n",
    "    \"Stellensubart_4\",\n",
    "    *[f\"T{i}\" for i in range(1, 35)],\n",
    "    \"Einwohner\",\n",
    "    \"Preis\",\n",
    "    \"Beleuchtet\",\n",
    "    \"Laenge\",\n",
    "    \"Breite\",\n",
    "    \"Eigenfläche\",\n",
    "    \"PPSVACWert\",\n",
    "    \"Qid\",\n",
    "    \"GJ\",\n",
    "]\n",
    "data = pd.read_pickle(\"data/df_gesamt_15_08_prepocessed_einworner_added.pkl\")\n",
    "target_year_having_qid = data[data.GJ == 2023].Qid\n",
    "cleaned_data = data[data.Qid.isin(target_year_having_qid)]\n",
    "cleaned_data = cleaned_data.sort_values(by=[\"Qid\", \"GJ\"]).set_index(\"Qid\", drop=False)\n",
    "cleaned_data = cleaned_data.loc[:, CONST_COLUMNS]"
   ]
  },
  {
   "cell_type": "markdown",
   "id": "39df41e5",
   "metadata": {},
   "source": [
    "## Load distance data"
   ]
  },
  {
   "cell_type": "code",
   "execution_count": 53,
   "id": "6a013d49",
   "metadata": {},
   "outputs": [],
   "source": [
    "distance_2018 = pd.read_csv(\"./data/distances/distances_2018.csv\").set_index(\"Qid1\")\n",
    "distance_2019 = pd.read_csv(\"./data/distances/distances_2019.csv\").set_index(\"Qid1\")\n",
    "distance_2020 = pd.read_csv(\"./data/distances/distances_2020.csv\").set_index(\"Qid1\")\n",
    "distance_2021 = pd.read_csv(\"./data/distances/distances_2021.csv\").set_index(\"Qid1\")\n",
    "distance_2022 = pd.read_csv(\"./data/distances/distances_2022.csv\").set_index(\"Qid1\")"
   ]
  },
  {
   "cell_type": "markdown",
   "id": "3871a3c8",
   "metadata": {},
   "source": [
    "## Normalize cols"
   ]
  },
  {
   "cell_type": "code",
   "execution_count": 55,
   "id": "cf65d9ab",
   "metadata": {},
   "outputs": [],
   "source": [
    "# cleaned_data.Preis = (\n",
    "#     cleaned_data.Preis - cleaned_data.Preis.mean()\n",
    "# ) / cleaned_data.Preis.std()\n",
    "\n",
    "cleaned_data.Laenge = (cleaned_data.Laenge - (-180.0)) / (2 * 180.0)\n",
    "cleaned_data.Breite = (cleaned_data.Breite - (-90.0)) / (2 * 90.0)\n",
    "\n",
    "cleaned_data.PPSVACWert = (\n",
    "    cleaned_data.PPSVACWert - cleaned_data.PPSVACWert.mean()\n",
    ") / cleaned_data.PPSVACWert.std()\n",
    "\n",
    "cleaned_data.Preis = (\n",
    "    cleaned_data.Preis - cleaned_data.Preis.mean()\n",
    ") / cleaned_data.Preis.std()\n",
    "\n",
    "cleaned_data.Einwohner = (\n",
    "    cleaned_data.Einwohner - cleaned_data.Einwohner.mean()\n",
    ") / cleaned_data.Einwohner.std()"
   ]
  },
  {
   "cell_type": "code",
   "execution_count": 56,
   "id": "2c4cf740",
   "metadata": {},
   "outputs": [],
   "source": [
    "cleaned_data.loc[:, \"T1\":\"T22\"] = cleaned_data.loc[:, \"T1\":\"T22\"].replace(-1, 0)"
   ]
  },
  {
   "cell_type": "markdown",
   "id": "84316edb",
   "metadata": {},
   "source": [
    "## Split data into years"
   ]
  },
  {
   "cell_type": "code",
   "execution_count": 57,
   "id": "060a7586",
   "metadata": {},
   "outputs": [],
   "source": [
    "data_2018 = cleaned_data[cleaned_data.GJ == 2018].drop(columns=[\"Qid\", \"GJ\"]).copy()\n",
    "data_2019 = cleaned_data[cleaned_data.GJ == 2019].drop(columns=[\"Qid\", \"GJ\"]).copy()\n",
    "data_2020 = cleaned_data[cleaned_data.GJ == 2020].drop(columns=[\"Qid\", \"GJ\"]).copy()\n",
    "data_2021 = cleaned_data[cleaned_data.GJ == 2021].drop(columns=[\"Qid\", \"GJ\"]).copy()\n",
    "data_2022 = cleaned_data[cleaned_data.GJ == 2022].drop(columns=[\"Qid\", \"GJ\"]).copy()\n",
    "data_2023 = cleaned_data[cleaned_data.GJ == 2023].drop(columns=[\"Qid\", \"GJ\"]).copy()"
   ]
  },
  {
   "cell_type": "markdown",
   "id": "8086a29a",
   "metadata": {},
   "source": [
    "## Calculate label"
   ]
  },
  {
   "cell_type": "code",
   "execution_count": 63,
   "id": "b0041004",
   "metadata": {},
   "outputs": [],
   "source": [
    "treshold = data_2023.loc[:, \"T1\":\"T22\"].mean(axis=1).quantile(0.5)"
   ]
  },
  {
   "cell_type": "code",
   "execution_count": 65,
   "id": "3c6a4253",
   "metadata": {},
   "outputs": [],
   "source": [
    "data_2023[\"target\"] = (data_2023.loc[:, \"T1\":\"T22\"].mean(axis=1) > 0.5).astype(float)"
   ]
  },
  {
   "cell_type": "markdown",
   "id": "5015a4ff",
   "metadata": {},
   "source": [
    "## Train / Validation split"
   ]
  },
  {
   "cell_type": "code",
   "execution_count": 67,
   "id": "b4199599",
   "metadata": {},
   "outputs": [],
   "source": [
    "all_valid_qids = cleaned_data.Qid.unique()\n",
    "qid_train, qid_val = train_test_split(\n",
    "    all_valid_qids, test_size=0.1, random_state=2908\n",
    ")"
   ]
  },
  {
   "cell_type": "markdown",
   "id": "63c78be7",
   "metadata": {},
   "source": [
    "## Data Loading"
   ]
  },
  {
   "cell_type": "code",
   "execution_count": 72,
   "id": "4cd0e808",
   "metadata": {},
   "outputs": [],
   "source": [
    "all_year_data = [\n",
    "    data_2018,\n",
    "    data_2019,\n",
    "    data_2020,\n",
    "    data_2021,\n",
    "    data_2022,\n",
    "    data_2023,\n",
    "]\n",
    "\n",
    "all_year_distances = [\n",
    "    distance_2018,\n",
    "    distance_2019,\n",
    "    distance_2020,\n",
    "    distance_2021,\n",
    "    distance_2022,\n",
    "]"
   ]
  },
  {
   "cell_type": "code",
   "execution_count": 73,
   "id": "1d90f2db",
   "metadata": {},
   "outputs": [],
   "source": [
    "def preprocess_data(qids, all_year_data, all_year_distances, data_2023):\n",
    "    MAX_NEIGH = 10\n",
    "    columns_to_drop = [\"PPSVACWert\", *[f\"T{i}\" for i in range(1, 35)], \"target\"]\n",
    "\n",
    "    X, x, y = [], [], []\n",
    "\n",
    "    for idx, qid in enumerate(tqdm(qids)):\n",
    "        neighbours_features = []\n",
    "\n",
    "        for year_data, year_distances in zip(all_year_data, all_year_distances):\n",
    "            current_distances = year_distances[year_distances.index == qid]\n",
    "\n",
    "            if current_distances.shape[0] != 0:\n",
    "                current_year_neighbours = current_distances[\n",
    "                    current_distances.Qid2 != qid\n",
    "                ]\n",
    "                current_year_neighbours_data = torch.from_numpy(\n",
    "                    year_data.loc[current_year_neighbours.Qid2].values\n",
    "                )\n",
    "                current_year_neighbours_data_padded = pad(\n",
    "                    current_year_neighbours_data,\n",
    "                    (0, 0, 0, MAX_NEIGH - current_year_neighbours_data.shape[0]),\n",
    "                    \"constant\",\n",
    "                    0,\n",
    "                )\n",
    "\n",
    "                current_year_self_data = torch.from_numpy(year_data.loc[qid].values)\n",
    "\n",
    "                if (current_year_self_data.ndim == 2) and (\n",
    "                    current_year_self_data.shape[0] > 1\n",
    "                ):\n",
    "                    current_year_self_data = current_year_self_data[0]\n",
    "\n",
    "                current_year_data_point = torch.cat(\n",
    "                    [current_year_self_data[None], current_year_neighbours_data_padded],\n",
    "                    dim=0,\n",
    "                )\n",
    "\n",
    "            else:\n",
    "                current_year_data_point = torch.zeros(MAX_NEIGH + 1, year_data.shape[1])\n",
    "\n",
    "            neighbours_features.append(current_year_data_point)\n",
    "\n",
    "        self_data_2023 = torch.from_numpy(\n",
    "            data_2023.loc[qid].drop(labels=columns_to_drop).values\n",
    "        )\n",
    "        neighbours_features = torch.stack(neighbours_features, dim=0)\n",
    "        label = torch.tensor([data_2023.loc[qid, \"target\"]])\n",
    "\n",
    "        X.append(neighbours_features)\n",
    "        x.append(self_data_2023)\n",
    "        y.append(label)\n",
    "\n",
    "    X = torch.stack(X, dim=0)\n",
    "    x = torch.stack(x, dim=0)\n",
    "    y = torch.stack(y, dim=0)\n",
    "\n",
    "    return X, x, y"
   ]
  },
  {
   "cell_type": "code",
   "execution_count": 86,
   "id": "d91bfbf4",
   "metadata": {},
   "outputs": [],
   "source": [
    "class CustomDataset(Dataset):\n",
    "    def __init__(\n",
    "        self,\n",
    "        path_X,\n",
    "        path_x,\n",
    "        path_y,\n",
    "    ):\n",
    "        self.data_X = torch.load(path_X).to(dtype=torch.float32)\n",
    "        self.data_x = torch.load(path_x).to(dtype=torch.float32)\n",
    "        self.data_y = torch.load(path_y).to(dtype=torch.float32)\n",
    "\n",
    "\n",
    "    def __getitem__(self, index):\n",
    "        X, x, y = (\n",
    "            self.data_X[index].clone(),\n",
    "            self.data_x[index].clone(),\n",
    "            self.data_y[index].clone(),\n",
    "        )\n",
    "\n",
    "        return X, x, y\n",
    "\n",
    "    def __len__(self):\n",
    "        return len(self.data_X)"
   ]
  },
  {
   "cell_type": "code",
   "execution_count": 339,
   "id": "dbad026f",
   "metadata": {},
   "outputs": [],
   "source": [
    "class LSTMModel(nn.Module):\n",
    "    def __init__(self, input_size, hidden_size, num_layers, output_size):\n",
    "        super(LSTMModel, self).__init__()\n",
    "        self.hidden_size = hidden_size\n",
    "        self.num_layers = num_layers\n",
    "\n",
    "        self.lstm = nn.LSTM(\n",
    "            input_size,\n",
    "            hidden_size,\n",
    "            num_layers,\n",
    "            batch_first=True,\n",
    "            bias=True,\n",
    "            dropout=0.0,\n",
    "        )\n",
    "\n",
    "        self.fc_1 = nn.Sequential(\n",
    "            nn.Linear(11, 2),\n",
    "            nn.ReLU(),\n",
    "            nn.Linear(2, 1),\n",
    "        )\n",
    "                    \n",
    "        self.fc_2 = nn.Sequential(\n",
    "            nn.Linear(hidden_size + 10, hidden_size // 2),\n",
    "            LReLU(),\n",
    "            nn.Dropout1d(0.1),\n",
    "            nn.Linear(hidden_size // 2, hidden_size // 4),\n",
    "            LReLU(),\n",
    "            nn.Dropout1d(0.1),\n",
    "            nn.Linear(hidden_size // 4, hidden_size // 8),\n",
    "            LReLU(),\n",
    "            nn.Dropout1d(0.1),\n",
    "            nn.Linear(hidden_size // 8, 2),\n",
    "            nn.Softmax(dim=-1)\n",
    "        )\n",
    "\n",
    "    def forward(self, x, x_target):\n",
    "        out = self.fc_1(x)\n",
    "        out = out[..., 0]\n",
    "        out, _ = self.lstm(out)\n",
    "        out = out[:, -1, ...]\n",
    "        out = torch.cat([out, x_target], dim=-1)\n",
    "        out = self.fc_2(out)\n",
    "\n",
    "        return out"
   ]
  },
  {
   "cell_type": "code",
   "execution_count": 416,
   "id": "6c4bfde1",
   "metadata": {},
   "outputs": [],
   "source": [
    "class LReLU(nn.Module):\n",
    "    def __init__(self, slope = 1):\n",
    "        super().__init__()\n",
    "        self.positive_slope = torch.nn.Parameter(torch.zeros(1))\n",
    "        \n",
    "    def forward(self, x):\n",
    "            \n",
    "        return F.relu(x)**2"
   ]
  },
  {
   "cell_type": "markdown",
   "id": "653d1c14",
   "metadata": {},
   "source": [
    "### Train data"
   ]
  },
  {
   "cell_type": "code",
   "execution_count": null,
   "id": "b770e626",
   "metadata": {},
   "outputs": [],
   "source": [
    "X_train, x_train, y_train = preprocess_data(\n",
    "    qid_train, all_year_data, all_year_distances, data_2023\n",
    ")\n",
    "\n",
    "torch.save(X_train.permute(0, 1, 3, 2), \"./data/proof_of_concept/X_train_lstm_year_price_29.pt\")\n",
    "torch.save(x_train, \"./data/proof_of_concept/x_train_lstm_year_price_29.pt\")\n",
    "torch.save(y_train, \"./data/proof_of_concept/y_train_lstm_year_price_29.pt\")"
   ]
  },
  {
   "cell_type": "markdown",
   "id": "13987ac1",
   "metadata": {},
   "source": [
    "### Validation data"
   ]
  },
  {
   "cell_type": "code",
   "execution_count": 78,
   "id": "eb275eea",
   "metadata": {},
   "outputs": [
    {
     "name": "stderr",
     "output_type": "stream",
     "text": [
      "100%|████████████████████████████████████████████████████████████████████████████| 13590/13590 [00:51<00:00, 265.93it/s]\n"
     ]
    }
   ],
   "source": [
    "X_val, x_val, y_val = preprocess_data(\n",
    "    qid_val, all_year_data, all_year_distances, data_2023\n",
    ")\n",
    "\n",
    "torch.save(X_val.permute(0, 1, 3, 2), \"./data/proof_of_concept/X_val_lstm_year_price_29.pt\")\n",
    "torch.save(x_val, \"./data/proof_of_concept/x_val_lstm_year_price_29.pt\")\n",
    "torch.save(y_val, \"./data/proof_of_concept/y_val_lstm_year_price_29.pt\")"
   ]
  },
  {
   "cell_type": "markdown",
   "id": "b5c4138d",
   "metadata": {},
   "source": [
    "### Test data"
   ]
  },
  {
   "cell_type": "code",
   "execution_count": 417,
   "id": "d53758c1",
   "metadata": {},
   "outputs": [],
   "source": [
    "# X_test, x_test, y_test = preprocess_data(\n",
    "#     [9860, 9673, 9855, 9333], all_year_data, all_year_distances, data_2023\n",
    "# )\n",
    "\n",
    "# torch.save(X_test, \"./data/proof_of_concept/X_test_lstm_year_price.pt\")\n",
    "# torch.save(x_test, \"./data/proof_of_concept/x_test_lstm_year_price.pt\")\n",
    "# torch.save(y_test, \"./data/proof_of_concept/y_test_lstm_year_price.pt\")"
   ]
  },
  {
   "cell_type": "markdown",
   "id": "d851d1e4",
   "metadata": {},
   "source": [
    "# Preparation for training"
   ]
  },
  {
   "cell_type": "code",
   "execution_count": 418,
   "id": "3057d8e3",
   "metadata": {},
   "outputs": [],
   "source": [
    "BATCH_SIZE = 64\n",
    "LEARNING_RATE = 0.003\n",
    "WEIGHT_DECAY = 1e-5\n",
    "EPS = torch.tensor([1e-8]).to(DEVICE)"
   ]
  },
  {
   "cell_type": "code",
   "execution_count": 419,
   "id": "bbf13617",
   "metadata": {},
   "outputs": [],
   "source": [
    "def loss_fn(labels, preds):\n",
    "    global EPS\n",
    "    loss = -torch.mean(torch.log(torch.max(torch.gather(preds, dim=1, index=labels.to(int)), EPS)))\n",
    "    return loss"
   ]
  },
  {
   "cell_type": "code",
   "execution_count": 420,
   "id": "ca25474a",
   "metadata": {},
   "outputs": [],
   "source": [
    "model = LSTMModel(45, 512, 5, 1).to(DEVICE)\n",
    "criterion = loss_fn"
   ]
  },
  {
   "cell_type": "code",
   "execution_count": 421,
   "id": "ead06f92",
   "metadata": {},
   "outputs": [],
   "source": [
    "optimizer = torch.optim.Adam(model.parameters(), lr=LEARNING_RATE, weight_decay=WEIGHT_DECAY)"
   ]
  },
  {
   "cell_type": "code",
   "execution_count": 422,
   "id": "a0476f75",
   "metadata": {},
   "outputs": [],
   "source": [
    "# def balacing(data):\n",
    "    \n",
    "#     neg_id = torch.where(data.data_y == 0)[0]\n",
    "#     pos_id = torch.where(data.data_y == 1)[0]\n",
    "    \n",
    "#     k = neg_id.shape[0] // pos_id.shape[0]\n",
    "    \n",
    "#     data.data_y = torch.cat([data.data_y[pos_id].repeat(k, 1), data.data_y[neg_id]])\n",
    "#     data.data_X = torch.cat([data.data_X[pos_id].repeat(k, 1, 1, 1), data.data_X[neg_id]])\n",
    "#     data.data_x = torch.cat([data.data_x[pos_id].repeat(k, 1), data.data_x[neg_id]])    "
   ]
  },
  {
   "cell_type": "code",
   "execution_count": 423,
   "id": "ba46abb0",
   "metadata": {},
   "outputs": [],
   "source": [
    "# train_dataset = CustomDataset(\n",
    "#     \"./data/proof_of_concept/X_train_lstm_year_price_29.pt\",\n",
    "#     \"./data/proof_of_concept/x_train_lstm_year_price_29.pt\",\n",
    "#     \"./data/proof_of_concept/y_train_lstm_year_price_29.pt\",\n",
    "# )\n",
    "\n",
    "val_dataset = CustomDataset(\n",
    "    \"./data/proof_of_concept/X_val_lstm_year_price_29.pt\",\n",
    "    \"./data/proof_of_concept/x_val_lstm_year_price_29.pt\",\n",
    "    \"./data/proof_of_concept/y_val_lstm_year_price_29.pt\",\n",
    ")\n",
    "\n",
    "# train_dataloader = DataLoader(\n",
    "#     train_dataset, batch_size=BATCH_SIZE, shuffle=True, drop_last=False\n",
    "# )\n",
    "val_dataloader = DataLoader(\n",
    "    val_dataset, batch_size=BATCH_SIZE, shuffle=False, drop_last=False\n",
    ")\n",
    "\n",
    "# print(f\"Total training instances:\\t{train_dataset.data_X.shape[0]}\")\n",
    "# print(f\"Total validation instances:\\t{val_dataset.data_X.shape[0]}\")"
   ]
  },
  {
   "cell_type": "code",
   "execution_count": 424,
   "id": "781d947c",
   "metadata": {},
   "outputs": [],
   "source": [
    "# data_X, data_x, data_y = train_dataset.data_X, train_dataset.data_x, train_dataset.data_y\n",
    "\n",
    "# neg_mask = (data_y == 0)[:, 0]\n",
    "# pos_mask = (data_y == 1)[:, 0]\n",
    "\n",
    "# data_X_negative = torch.split(data_X[neg_mask], pos_mask.sum())\n",
    "# data_x_negative = torch.split(data_x[neg_mask], pos_mask.sum())\n",
    "# data_y_negative = torch.split(data_y[neg_mask], pos_mask.sum())\n",
    "\n",
    "# for j, (data_X_neg, data_x_neg, data_y_neg) in enumerate(zip(data_X_negative, data_x_negative, data_y_negative)):\n",
    "    \n",
    "#     torch.save(torch.cat([data_X_neg, data_X[pos_mask]], dim=0), f\"./data/balanced_training/data_X_{j}.pt\")\n",
    "#     torch.save(torch.cat([data_x_neg, data_x[pos_mask]], dim=0), f\"./data/balanced_training/data_x_{j}.pt\")\n",
    "#     torch.save(torch.cat([data_y_neg, data_y[pos_mask]], dim=0), f\"./data/balanced_training/data_y_{j}.pt\")    "
   ]
  },
  {
   "cell_type": "markdown",
   "id": "688c72fb",
   "metadata": {},
   "source": [
    "# Training"
   ]
  },
  {
   "cell_type": "code",
   "execution_count": 425,
   "id": "5ac941ea",
   "metadata": {},
   "outputs": [
    {
     "name": "stdout",
     "output_type": "stream",
     "text": [
      "Input proper model name:\ttest\n"
     ]
    }
   ],
   "source": [
    "num_epochs = 100\n",
    "history = []\n",
    "val_min_loss = float(\"+inf\")\n",
    "\n",
    "model_name = \"\"\n",
    "\n",
    "while model_name == \"\":\n",
    "    model_name = input(\"Input proper model name:\\t\")"
   ]
  },
  {
   "cell_type": "code",
   "execution_count": 426,
   "id": "cb7c527e",
   "metadata": {
    "scrolled": true
   },
   "outputs": [
    {
     "name": "stderr",
     "output_type": "stream",
     "text": [
      "100%|████████████████████████████████████████████████████████████████████████████████| 556/556 [00:03<00:00, 180.37it/s]\n",
      "100%|████████████████████████████████████████████████████████████████████████████████| 213/213 [00:00<00:00, 550.57it/s]\n"
     ]
    },
    {
     "name": "stdout",
     "output_type": "stream",
     "text": [
      "Epoch [1/100]\n",
      "Train Loss: 0.6408\n",
      "Val Loss: 0.5862\n",
      "Best Val loss: inf\n",
      "Saving best model....\n"
     ]
    },
    {
     "name": "stderr",
     "output_type": "stream",
     "text": [
      "100%|████████████████████████████████████████████████████████████████████████████████| 556/556 [00:03<00:00, 180.94it/s]\n",
      "100%|████████████████████████████████████████████████████████████████████████████████| 213/213 [00:00<00:00, 550.32it/s]\n"
     ]
    },
    {
     "name": "stdout",
     "output_type": "stream",
     "text": [
      "Epoch [2/100]\n",
      "Train Loss: 0.6082\n",
      "Val Loss: 0.5438\n",
      "Best Val loss: 0.5862\n",
      "Saving best model....\n"
     ]
    },
    {
     "name": "stderr",
     "output_type": "stream",
     "text": [
      "100%|████████████████████████████████████████████████████████████████████████████████| 556/556 [00:03<00:00, 181.03it/s]\n",
      "100%|████████████████████████████████████████████████████████████████████████████████| 213/213 [00:00<00:00, 550.50it/s]\n"
     ]
    },
    {
     "name": "stdout",
     "output_type": "stream",
     "text": [
      "Epoch [3/100]\n",
      "Train Loss: 0.6027\n",
      "Val Loss: 0.5735\n",
      "Best Val loss: 0.5438\n"
     ]
    },
    {
     "name": "stderr",
     "output_type": "stream",
     "text": [
      "100%|████████████████████████████████████████████████████████████████████████████████| 556/556 [00:03<00:00, 180.76it/s]\n",
      "100%|████████████████████████████████████████████████████████████████████████████████| 213/213 [00:00<00:00, 549.94it/s]\n"
     ]
    },
    {
     "name": "stdout",
     "output_type": "stream",
     "text": [
      "Epoch [4/100]\n",
      "Train Loss: 0.5964\n",
      "Val Loss: 0.6365\n",
      "Best Val loss: 0.5438\n"
     ]
    },
    {
     "name": "stderr",
     "output_type": "stream",
     "text": [
      "100%|████████████████████████████████████████████████████████████████████████████████| 556/556 [00:03<00:00, 180.98it/s]\n",
      "100%|████████████████████████████████████████████████████████████████████████████████| 213/213 [00:00<00:00, 549.22it/s]\n"
     ]
    },
    {
     "name": "stdout",
     "output_type": "stream",
     "text": [
      "Epoch [5/100]\n",
      "Train Loss: 0.5931\n",
      "Val Loss: 0.4888\n",
      "Best Val loss: 0.5438\n",
      "Saving best model....\n"
     ]
    },
    {
     "name": "stderr",
     "output_type": "stream",
     "text": [
      "100%|████████████████████████████████████████████████████████████████████████████████| 556/556 [00:03<00:00, 180.71it/s]\n",
      "100%|████████████████████████████████████████████████████████████████████████████████| 213/213 [00:00<00:00, 549.83it/s]\n"
     ]
    },
    {
     "name": "stdout",
     "output_type": "stream",
     "text": [
      "Epoch [6/100]\n",
      "Train Loss: 0.5916\n",
      "Val Loss: 0.5566\n",
      "Best Val loss: 0.4888\n"
     ]
    },
    {
     "name": "stderr",
     "output_type": "stream",
     "text": [
      "100%|████████████████████████████████████████████████████████████████████████████████| 556/556 [00:03<00:00, 180.91it/s]\n",
      "100%|████████████████████████████████████████████████████████████████████████████████| 213/213 [00:00<00:00, 548.77it/s]\n"
     ]
    },
    {
     "name": "stdout",
     "output_type": "stream",
     "text": [
      "Epoch [7/100]\n",
      "Train Loss: 0.5929\n",
      "Val Loss: 0.5249\n",
      "Best Val loss: 0.4888\n"
     ]
    },
    {
     "name": "stderr",
     "output_type": "stream",
     "text": [
      "100%|████████████████████████████████████████████████████████████████████████████████| 556/556 [00:03<00:00, 180.77it/s]\n",
      "100%|████████████████████████████████████████████████████████████████████████████████| 213/213 [00:00<00:00, 549.64it/s]\n"
     ]
    },
    {
     "name": "stdout",
     "output_type": "stream",
     "text": [
      "Epoch [8/100]\n",
      "Train Loss: 0.5922\n",
      "Val Loss: 0.5574\n",
      "Best Val loss: 0.4888\n"
     ]
    },
    {
     "name": "stderr",
     "output_type": "stream",
     "text": [
      "100%|████████████████████████████████████████████████████████████████████████████████| 556/556 [00:03<00:00, 180.60it/s]\n",
      "100%|████████████████████████████████████████████████████████████████████████████████| 213/213 [00:00<00:00, 549.19it/s]\n"
     ]
    },
    {
     "name": "stdout",
     "output_type": "stream",
     "text": [
      "Epoch [9/100]\n",
      "Train Loss: 0.6193\n",
      "Val Loss: 0.583\n",
      "Best Val loss: 0.4888\n"
     ]
    },
    {
     "name": "stderr",
     "output_type": "stream",
     "text": [
      "100%|████████████████████████████████████████████████████████████████████████████████| 556/556 [00:03<00:00, 180.85it/s]\n",
      "100%|████████████████████████████████████████████████████████████████████████████████| 213/213 [00:00<00:00, 549.48it/s]\n"
     ]
    },
    {
     "name": "stdout",
     "output_type": "stream",
     "text": [
      "Epoch [10/100]\n",
      "Train Loss: 0.5892\n",
      "Val Loss: 0.5111\n",
      "Best Val loss: 0.4888\n"
     ]
    },
    {
     "name": "stderr",
     "output_type": "stream",
     "text": [
      "100%|████████████████████████████████████████████████████████████████████████████████| 556/556 [00:03<00:00, 181.00it/s]\n",
      "100%|████████████████████████████████████████████████████████████████████████████████| 213/213 [00:00<00:00, 549.87it/s]\n"
     ]
    },
    {
     "name": "stdout",
     "output_type": "stream",
     "text": [
      "Epoch [11/100]\n",
      "Train Loss: 0.5869\n",
      "Val Loss: 0.5317\n",
      "Best Val loss: 0.4888\n"
     ]
    },
    {
     "name": "stderr",
     "output_type": "stream",
     "text": [
      "100%|████████████████████████████████████████████████████████████████████████████████| 556/556 [00:03<00:00, 180.97it/s]\n",
      "100%|████████████████████████████████████████████████████████████████████████████████| 213/213 [00:00<00:00, 549.73it/s]\n"
     ]
    },
    {
     "name": "stdout",
     "output_type": "stream",
     "text": [
      "Epoch [12/100]\n",
      "Train Loss: 0.5865\n",
      "Val Loss: 0.495\n",
      "Best Val loss: 0.4888\n"
     ]
    },
    {
     "name": "stderr",
     "output_type": "stream",
     "text": [
      "100%|████████████████████████████████████████████████████████████████████████████████| 556/556 [00:03<00:00, 180.46it/s]\n",
      "100%|████████████████████████████████████████████████████████████████████████████████| 213/213 [00:00<00:00, 548.44it/s]\n"
     ]
    },
    {
     "name": "stdout",
     "output_type": "stream",
     "text": [
      "Epoch [13/100]\n",
      "Train Loss: 0.5877\n",
      "Val Loss: 0.5182\n",
      "Best Val loss: 0.4888\n"
     ]
    },
    {
     "name": "stderr",
     "output_type": "stream",
     "text": [
      "100%|████████████████████████████████████████████████████████████████████████████████| 556/556 [00:03<00:00, 174.60it/s]\n",
      "100%|████████████████████████████████████████████████████████████████████████████████| 213/213 [00:00<00:00, 548.52it/s]\n"
     ]
    },
    {
     "name": "stdout",
     "output_type": "stream",
     "text": [
      "Epoch [14/100]\n",
      "Train Loss: 0.5884\n",
      "Val Loss: 0.5563\n",
      "Best Val loss: 0.4888\n"
     ]
    },
    {
     "name": "stderr",
     "output_type": "stream",
     "text": [
      "100%|████████████████████████████████████████████████████████████████████████████████| 556/556 [00:03<00:00, 174.85it/s]\n",
      "100%|████████████████████████████████████████████████████████████████████████████████| 213/213 [00:00<00:00, 548.49it/s]\n"
     ]
    },
    {
     "name": "stdout",
     "output_type": "stream",
     "text": [
      "Epoch [15/100]\n",
      "Train Loss: 0.5878\n",
      "Val Loss: 0.5047\n",
      "Best Val loss: 0.4888\n"
     ]
    },
    {
     "name": "stderr",
     "output_type": "stream",
     "text": [
      "100%|████████████████████████████████████████████████████████████████████████████████| 556/556 [00:03<00:00, 174.58it/s]\n",
      "100%|████████████████████████████████████████████████████████████████████████████████| 213/213 [00:00<00:00, 548.18it/s]\n"
     ]
    },
    {
     "name": "stdout",
     "output_type": "stream",
     "text": [
      "Epoch [16/100]\n",
      "Train Loss: 0.5875\n",
      "Val Loss: 0.5163\n",
      "Best Val loss: 0.4888\n"
     ]
    },
    {
     "name": "stderr",
     "output_type": "stream",
     "text": [
      "100%|████████████████████████████████████████████████████████████████████████████████| 556/556 [00:03<00:00, 174.22it/s]\n",
      "100%|████████████████████████████████████████████████████████████████████████████████| 213/213 [00:00<00:00, 548.50it/s]\n"
     ]
    },
    {
     "name": "stdout",
     "output_type": "stream",
     "text": [
      "Epoch [17/100]\n",
      "Train Loss: 0.594\n",
      "Val Loss: 0.5513\n",
      "Best Val loss: 0.4888\n"
     ]
    },
    {
     "name": "stderr",
     "output_type": "stream",
     "text": [
      "100%|████████████████████████████████████████████████████████████████████████████████| 556/556 [00:03<00:00, 175.01it/s]\n",
      "100%|████████████████████████████████████████████████████████████████████████████████| 213/213 [00:00<00:00, 547.58it/s]\n"
     ]
    },
    {
     "name": "stdout",
     "output_type": "stream",
     "text": [
      "Epoch [18/100]\n",
      "Train Loss: 0.5899\n",
      "Val Loss: 0.5913\n",
      "Best Val loss: 0.4888\n"
     ]
    },
    {
     "name": "stderr",
     "output_type": "stream",
     "text": [
      "100%|████████████████████████████████████████████████████████████████████████████████| 556/556 [00:03<00:00, 174.29it/s]\n",
      "100%|████████████████████████████████████████████████████████████████████████████████| 213/213 [00:00<00:00, 547.65it/s]\n"
     ]
    },
    {
     "name": "stdout",
     "output_type": "stream",
     "text": [
      "Epoch [19/100]\n",
      "Train Loss: 0.5883\n",
      "Val Loss: 0.5857\n",
      "Best Val loss: 0.4888\n"
     ]
    },
    {
     "name": "stderr",
     "output_type": "stream",
     "text": [
      "100%|████████████████████████████████████████████████████████████████████████████████| 556/556 [00:03<00:00, 174.38it/s]\n",
      "100%|████████████████████████████████████████████████████████████████████████████████| 213/213 [00:00<00:00, 548.30it/s]\n"
     ]
    },
    {
     "name": "stdout",
     "output_type": "stream",
     "text": [
      "Epoch [20/100]\n",
      "Train Loss: 0.588\n",
      "Val Loss: 0.5622\n",
      "Best Val loss: 0.4888\n"
     ]
    },
    {
     "name": "stderr",
     "output_type": "stream",
     "text": [
      "100%|████████████████████████████████████████████████████████████████████████████████| 556/556 [00:03<00:00, 173.99it/s]\n",
      "100%|████████████████████████████████████████████████████████████████████████████████| 213/213 [00:00<00:00, 547.85it/s]\n"
     ]
    },
    {
     "name": "stdout",
     "output_type": "stream",
     "text": [
      "Epoch [21/100]\n",
      "Train Loss: 0.5892\n",
      "Val Loss: 0.4773\n",
      "Best Val loss: 0.4888\n",
      "Saving best model....\n"
     ]
    },
    {
     "name": "stderr",
     "output_type": "stream",
     "text": [
      "100%|████████████████████████████████████████████████████████████████████████████████| 556/556 [00:03<00:00, 173.75it/s]\n",
      "100%|████████████████████████████████████████████████████████████████████████████████| 213/213 [00:00<00:00, 548.90it/s]\n"
     ]
    },
    {
     "name": "stdout",
     "output_type": "stream",
     "text": [
      "Epoch [22/100]\n",
      "Train Loss: 0.5877\n",
      "Val Loss: 0.5413\n",
      "Best Val loss: 0.4773\n"
     ]
    },
    {
     "name": "stderr",
     "output_type": "stream",
     "text": [
      "100%|████████████████████████████████████████████████████████████████████████████████| 556/556 [00:03<00:00, 174.28it/s]\n",
      "100%|████████████████████████████████████████████████████████████████████████████████| 213/213 [00:00<00:00, 547.28it/s]\n"
     ]
    },
    {
     "name": "stdout",
     "output_type": "stream",
     "text": [
      "Epoch [23/100]\n",
      "Train Loss: 0.5884\n",
      "Val Loss: 0.5196\n",
      "Best Val loss: 0.4773\n"
     ]
    },
    {
     "name": "stderr",
     "output_type": "stream",
     "text": [
      "100%|████████████████████████████████████████████████████████████████████████████████| 556/556 [00:03<00:00, 176.55it/s]\n",
      "100%|████████████████████████████████████████████████████████████████████████████████| 213/213 [00:00<00:00, 547.41it/s]\n"
     ]
    },
    {
     "name": "stdout",
     "output_type": "stream",
     "text": [
      "Epoch [24/100]\n",
      "Train Loss: 0.593\n",
      "Val Loss: 0.5098\n",
      "Best Val loss: 0.4773\n"
     ]
    },
    {
     "name": "stderr",
     "output_type": "stream",
     "text": [
      "100%|████████████████████████████████████████████████████████████████████████████████| 556/556 [00:03<00:00, 174.25it/s]\n",
      "100%|████████████████████████████████████████████████████████████████████████████████| 213/213 [00:00<00:00, 547.89it/s]\n"
     ]
    },
    {
     "name": "stdout",
     "output_type": "stream",
     "text": [
      "Epoch [25/100]\n",
      "Train Loss: 0.5898\n",
      "Val Loss: 0.5348\n",
      "Best Val loss: 0.4773\n"
     ]
    },
    {
     "name": "stderr",
     "output_type": "stream",
     "text": [
      "100%|████████████████████████████████████████████████████████████████████████████████| 522/522 [00:02<00:00, 175.45it/s]\n",
      "100%|████████████████████████████████████████████████████████████████████████████████| 213/213 [00:00<00:00, 547.43it/s]\n"
     ]
    },
    {
     "name": "stdout",
     "output_type": "stream",
     "text": [
      "Epoch [26/100]\n",
      "Train Loss: 0.5898\n",
      "Val Loss: 0.6012\n",
      "Best Val loss: 0.4773\n"
     ]
    },
    {
     "name": "stderr",
     "output_type": "stream",
     "text": [
      "100%|████████████████████████████████████████████████████████████████████████████████| 522/522 [00:02<00:00, 174.76it/s]\n",
      "100%|████████████████████████████████████████████████████████████████████████████████| 213/213 [00:00<00:00, 547.36it/s]\n"
     ]
    },
    {
     "name": "stdout",
     "output_type": "stream",
     "text": [
      "Epoch [27/100]\n",
      "Train Loss: 0.5919\n",
      "Val Loss: 0.5869\n",
      "Best Val loss: 0.4773\n"
     ]
    },
    {
     "name": "stderr",
     "output_type": "stream",
     "text": [
      "100%|████████████████████████████████████████████████████████████████████████████████| 522/522 [00:02<00:00, 174.58it/s]\n",
      "100%|████████████████████████████████████████████████████████████████████████████████| 213/213 [00:00<00:00, 547.70it/s]\n"
     ]
    },
    {
     "name": "stdout",
     "output_type": "stream",
     "text": [
      "Epoch [28/100]\n",
      "Train Loss: 0.5891\n",
      "Val Loss: 0.6318\n",
      "Best Val loss: 0.4773\n"
     ]
    },
    {
     "name": "stderr",
     "output_type": "stream",
     "text": [
      "100%|████████████████████████████████████████████████████████████████████████████████| 522/522 [00:02<00:00, 174.18it/s]\n",
      "100%|████████████████████████████████████████████████████████████████████████████████| 213/213 [00:00<00:00, 547.60it/s]\n"
     ]
    },
    {
     "name": "stdout",
     "output_type": "stream",
     "text": [
      "Epoch [29/100]\n",
      "Train Loss: 0.5951\n",
      "Val Loss: 0.5685\n",
      "Best Val loss: 0.4773\n"
     ]
    },
    {
     "name": "stderr",
     "output_type": "stream",
     "text": [
      "100%|████████████████████████████████████████████████████████████████████████████████| 522/522 [00:02<00:00, 174.71it/s]\n",
      "100%|████████████████████████████████████████████████████████████████████████████████| 213/213 [00:00<00:00, 541.31it/s]\n"
     ]
    },
    {
     "name": "stdout",
     "output_type": "stream",
     "text": [
      "Epoch [30/100]\n",
      "Train Loss: 0.5886\n",
      "Val Loss: 0.5316\n",
      "Best Val loss: 0.4773\n"
     ]
    },
    {
     "name": "stderr",
     "output_type": "stream",
     "text": [
      "100%|████████████████████████████████████████████████████████████████████████████████| 556/556 [00:03<00:00, 173.31it/s]\n",
      "100%|████████████████████████████████████████████████████████████████████████████████| 213/213 [00:00<00:00, 539.82it/s]\n"
     ]
    },
    {
     "name": "stdout",
     "output_type": "stream",
     "text": [
      "Epoch [31/100]\n",
      "Train Loss: 0.5917\n",
      "Val Loss: 0.5082\n",
      "Best Val loss: 0.4773\n"
     ]
    },
    {
     "name": "stderr",
     "output_type": "stream",
     "text": [
      "100%|████████████████████████████████████████████████████████████████████████████████| 556/556 [00:03<00:00, 173.35it/s]\n",
      "100%|████████████████████████████████████████████████████████████████████████████████| 213/213 [00:00<00:00, 540.23it/s]\n"
     ]
    },
    {
     "name": "stdout",
     "output_type": "stream",
     "text": [
      "Epoch [32/100]\n",
      "Train Loss: 0.5926\n",
      "Val Loss: 0.543\n",
      "Best Val loss: 0.4773\n"
     ]
    },
    {
     "name": "stderr",
     "output_type": "stream",
     "text": [
      "100%|████████████████████████████████████████████████████████████████████████████████| 556/556 [00:03<00:00, 173.37it/s]\n",
      "100%|████████████████████████████████████████████████████████████████████████████████| 213/213 [00:00<00:00, 540.12it/s]\n"
     ]
    },
    {
     "name": "stdout",
     "output_type": "stream",
     "text": [
      "Epoch [33/100]\n",
      "Train Loss: 0.597\n",
      "Val Loss: 0.554\n",
      "Best Val loss: 0.4773\n"
     ]
    },
    {
     "name": "stderr",
     "output_type": "stream",
     "text": [
      "100%|████████████████████████████████████████████████████████████████████████████████| 556/556 [00:03<00:00, 173.64it/s]\n",
      "100%|████████████████████████████████████████████████████████████████████████████████| 213/213 [00:00<00:00, 539.82it/s]\n"
     ]
    },
    {
     "name": "stdout",
     "output_type": "stream",
     "text": [
      "Epoch [34/100]\n",
      "Train Loss: 0.6019\n",
      "Val Loss: 0.5635\n",
      "Best Val loss: 0.4773\n"
     ]
    },
    {
     "name": "stderr",
     "output_type": "stream",
     "text": [
      "100%|████████████████████████████████████████████████████████████████████████████████| 556/556 [00:03<00:00, 173.47it/s]\n",
      "100%|████████████████████████████████████████████████████████████████████████████████| 213/213 [00:00<00:00, 539.90it/s]\n"
     ]
    },
    {
     "name": "stdout",
     "output_type": "stream",
     "text": [
      "Epoch [35/100]\n",
      "Train Loss: 0.6091\n",
      "Val Loss: 0.5185\n",
      "Best Val loss: 0.4773\n"
     ]
    },
    {
     "name": "stderr",
     "output_type": "stream",
     "text": [
      "100%|████████████████████████████████████████████████████████████████████████████████| 556/556 [00:03<00:00, 174.05it/s]\n",
      "100%|████████████████████████████████████████████████████████████████████████████████| 213/213 [00:00<00:00, 539.62it/s]\n"
     ]
    },
    {
     "name": "stdout",
     "output_type": "stream",
     "text": [
      "Epoch [36/100]\n",
      "Train Loss: 0.6027\n",
      "Val Loss: 0.5403\n",
      "Best Val loss: 0.4773\n"
     ]
    },
    {
     "name": "stderr",
     "output_type": "stream",
     "text": [
      "100%|████████████████████████████████████████████████████████████████████████████████| 556/556 [00:03<00:00, 173.57it/s]\n",
      "100%|████████████████████████████████████████████████████████████████████████████████| 213/213 [00:00<00:00, 539.80it/s]\n"
     ]
    },
    {
     "name": "stdout",
     "output_type": "stream",
     "text": [
      "Epoch [37/100]\n",
      "Train Loss: 0.6008\n",
      "Val Loss: 0.5635\n",
      "Best Val loss: 0.4773\n"
     ]
    },
    {
     "name": "stderr",
     "output_type": "stream",
     "text": [
      "100%|████████████████████████████████████████████████████████████████████████████████| 556/556 [00:03<00:00, 173.34it/s]\n",
      "100%|████████████████████████████████████████████████████████████████████████████████| 213/213 [00:00<00:00, 540.25it/s]\n"
     ]
    },
    {
     "name": "stdout",
     "output_type": "stream",
     "text": [
      "Epoch [38/100]\n",
      "Train Loss: 0.6044\n",
      "Val Loss: 0.5603\n",
      "Best Val loss: 0.4773\n"
     ]
    },
    {
     "name": "stderr",
     "output_type": "stream",
     "text": [
      "100%|████████████████████████████████████████████████████████████████████████████████| 556/556 [00:03<00:00, 173.12it/s]\n",
      "100%|████████████████████████████████████████████████████████████████████████████████| 213/213 [00:00<00:00, 539.65it/s]\n"
     ]
    },
    {
     "name": "stdout",
     "output_type": "stream",
     "text": [
      "Epoch [39/100]\n",
      "Train Loss: 0.6012\n",
      "Val Loss: 0.5161\n",
      "Best Val loss: 0.4773\n"
     ]
    },
    {
     "name": "stderr",
     "output_type": "stream",
     "text": [
      "100%|████████████████████████████████████████████████████████████████████████████████| 556/556 [00:03<00:00, 174.61it/s]\n",
      "100%|████████████████████████████████████████████████████████████████████████████████| 213/213 [00:00<00:00, 540.20it/s]\n"
     ]
    },
    {
     "name": "stdout",
     "output_type": "stream",
     "text": [
      "Epoch [40/100]\n",
      "Train Loss: 0.604\n",
      "Val Loss: 0.5783\n",
      "Best Val loss: 0.4773\n"
     ]
    },
    {
     "name": "stderr",
     "output_type": "stream",
     "text": [
      "100%|████████████████████████████████████████████████████████████████████████████████| 556/556 [00:03<00:00, 173.18it/s]\n",
      "100%|████████████████████████████████████████████████████████████████████████████████| 213/213 [00:00<00:00, 539.86it/s]\n"
     ]
    },
    {
     "name": "stdout",
     "output_type": "stream",
     "text": [
      "Epoch [41/100]\n",
      "Train Loss: 0.6233\n",
      "Val Loss: 0.6137\n",
      "Best Val loss: 0.4773\n"
     ]
    },
    {
     "name": "stderr",
     "output_type": "stream",
     "text": [
      "100%|████████████████████████████████████████████████████████████████████████████████| 556/556 [00:03<00:00, 173.56it/s]\n",
      "100%|████████████████████████████████████████████████████████████████████████████████| 213/213 [00:00<00:00, 539.55it/s]\n"
     ]
    },
    {
     "name": "stdout",
     "output_type": "stream",
     "text": [
      "Epoch [42/100]\n",
      "Train Loss: 1.1297\n",
      "Val Loss: 0.5966\n",
      "Best Val loss: 0.4773\n"
     ]
    },
    {
     "name": "stderr",
     "output_type": "stream",
     "text": [
      "100%|████████████████████████████████████████████████████████████████████████████████| 556/556 [00:03<00:00, 173.57it/s]\n",
      "100%|████████████████████████████████████████████████████████████████████████████████| 213/213 [00:00<00:00, 539.52it/s]\n"
     ]
    },
    {
     "name": "stdout",
     "output_type": "stream",
     "text": [
      "Epoch [43/100]\n",
      "Train Loss: 0.621\n",
      "Val Loss: 0.5738\n",
      "Best Val loss: 0.4773\n"
     ]
    },
    {
     "name": "stderr",
     "output_type": "stream",
     "text": [
      "100%|████████████████████████████████████████████████████████████████████████████████| 556/556 [00:03<00:00, 173.19it/s]\n",
      "100%|████████████████████████████████████████████████████████████████████████████████| 213/213 [00:00<00:00, 539.98it/s]\n"
     ]
    },
    {
     "name": "stdout",
     "output_type": "stream",
     "text": [
      "Epoch [44/100]\n",
      "Train Loss: 0.6194\n",
      "Val Loss: 0.6818\n",
      "Best Val loss: 0.4773\n"
     ]
    },
    {
     "name": "stderr",
     "output_type": "stream",
     "text": [
      "100%|████████████████████████████████████████████████████████████████████████████████| 556/556 [00:03<00:00, 173.27it/s]\n",
      "100%|████████████████████████████████████████████████████████████████████████████████| 213/213 [00:00<00:00, 540.58it/s]\n"
     ]
    },
    {
     "name": "stdout",
     "output_type": "stream",
     "text": [
      "Epoch [45/100]\n",
      "Train Loss: 0.6177\n",
      "Val Loss: 0.6214\n",
      "Best Val loss: 0.4773\n"
     ]
    },
    {
     "name": "stderr",
     "output_type": "stream",
     "text": [
      "100%|████████████████████████████████████████████████████████████████████████████████| 556/556 [00:03<00:00, 173.08it/s]\n",
      "100%|████████████████████████████████████████████████████████████████████████████████| 213/213 [00:00<00:00, 539.83it/s]\n"
     ]
    },
    {
     "name": "stdout",
     "output_type": "stream",
     "text": [
      "Epoch [46/100]\n",
      "Train Loss: 0.6166\n",
      "Val Loss: 0.5958\n",
      "Best Val loss: 0.4773\n"
     ]
    },
    {
     "name": "stderr",
     "output_type": "stream",
     "text": [
      "100%|████████████████████████████████████████████████████████████████████████████████| 556/556 [00:03<00:00, 173.49it/s]\n",
      "100%|████████████████████████████████████████████████████████████████████████████████| 213/213 [00:00<00:00, 539.29it/s]\n"
     ]
    },
    {
     "name": "stdout",
     "output_type": "stream",
     "text": [
      "Epoch [47/100]\n",
      "Train Loss: 0.616\n",
      "Val Loss: 0.5771\n",
      "Best Val loss: 0.4773\n"
     ]
    },
    {
     "name": "stderr",
     "output_type": "stream",
     "text": [
      "100%|████████████████████████████████████████████████████████████████████████████████| 556/556 [00:03<00:00, 173.06it/s]\n",
      "100%|████████████████████████████████████████████████████████████████████████████████| 213/213 [00:00<00:00, 539.56it/s]\n"
     ]
    },
    {
     "name": "stdout",
     "output_type": "stream",
     "text": [
      "Epoch [48/100]\n",
      "Train Loss: 0.62\n",
      "Val Loss: 0.5915\n",
      "Best Val loss: 0.4773\n"
     ]
    },
    {
     "name": "stderr",
     "output_type": "stream",
     "text": [
      "100%|████████████████████████████████████████████████████████████████████████████████| 556/556 [00:03<00:00, 172.98it/s]\n",
      "100%|████████████████████████████████████████████████████████████████████████████████| 213/213 [00:00<00:00, 539.68it/s]\n"
     ]
    },
    {
     "name": "stdout",
     "output_type": "stream",
     "text": [
      "Epoch [49/100]\n",
      "Train Loss: 0.6191\n",
      "Val Loss: 0.5585\n",
      "Best Val loss: 0.4773\n"
     ]
    },
    {
     "name": "stderr",
     "output_type": "stream",
     "text": [
      "100%|████████████████████████████████████████████████████████████████████████████████| 556/556 [00:03<00:00, 173.25it/s]\n",
      "100%|████████████████████████████████████████████████████████████████████████████████| 213/213 [00:00<00:00, 539.60it/s]\n"
     ]
    },
    {
     "name": "stdout",
     "output_type": "stream",
     "text": [
      "Epoch [50/100]\n",
      "Train Loss: 0.6189\n",
      "Val Loss: 0.5941\n",
      "Best Val loss: 0.4773\n"
     ]
    },
    {
     "name": "stderr",
     "output_type": "stream",
     "text": [
      "100%|████████████████████████████████████████████████████████████████████████████████| 556/556 [00:03<00:00, 173.25it/s]\n",
      "100%|████████████████████████████████████████████████████████████████████████████████| 213/213 [00:00<00:00, 539.67it/s]\n"
     ]
    },
    {
     "name": "stdout",
     "output_type": "stream",
     "text": [
      "Epoch [51/100]\n",
      "Train Loss: 0.6217\n",
      "Val Loss: 0.6073\n",
      "Best Val loss: 0.4773\n"
     ]
    },
    {
     "name": "stderr",
     "output_type": "stream",
     "text": [
      "100%|████████████████████████████████████████████████████████████████████████████████| 556/556 [00:03<00:00, 173.11it/s]\n",
      "100%|████████████████████████████████████████████████████████████████████████████████| 213/213 [00:00<00:00, 539.81it/s]\n"
     ]
    },
    {
     "name": "stdout",
     "output_type": "stream",
     "text": [
      "Epoch [52/100]\n",
      "Train Loss: 0.6173\n",
      "Val Loss: 0.5447\n",
      "Best Val loss: 0.4773\n"
     ]
    },
    {
     "name": "stderr",
     "output_type": "stream",
     "text": [
      "100%|████████████████████████████████████████████████████████████████████████████████| 556/556 [00:03<00:00, 174.63it/s]\n",
      "100%|████████████████████████████████████████████████████████████████████████████████| 213/213 [00:00<00:00, 539.88it/s]\n"
     ]
    },
    {
     "name": "stdout",
     "output_type": "stream",
     "text": [
      "Epoch [53/100]\n",
      "Train Loss: 0.6151\n",
      "Val Loss: 0.5319\n",
      "Best Val loss: 0.4773\n"
     ]
    },
    {
     "name": "stderr",
     "output_type": "stream",
     "text": [
      "100%|████████████████████████████████████████████████████████████████████████████████| 556/556 [00:03<00:00, 173.17it/s]\n",
      "100%|████████████████████████████████████████████████████████████████████████████████| 213/213 [00:00<00:00, 539.76it/s]\n"
     ]
    },
    {
     "name": "stdout",
     "output_type": "stream",
     "text": [
      "Epoch [54/100]\n",
      "Train Loss: 0.6174\n",
      "Val Loss: 0.5997\n",
      "Best Val loss: 0.4773\n"
     ]
    },
    {
     "name": "stderr",
     "output_type": "stream",
     "text": [
      "100%|████████████████████████████████████████████████████████████████████████████████| 556/556 [00:03<00:00, 173.25it/s]\n",
      "100%|████████████████████████████████████████████████████████████████████████████████| 213/213 [00:00<00:00, 538.63it/s]\n"
     ]
    },
    {
     "name": "stdout",
     "output_type": "stream",
     "text": [
      "Epoch [55/100]\n",
      "Train Loss: 0.6168\n",
      "Val Loss: 0.5939\n",
      "Best Val loss: 0.4773\n"
     ]
    },
    {
     "name": "stderr",
     "output_type": "stream",
     "text": [
      "100%|████████████████████████████████████████████████████████████████████████████████| 522/522 [00:03<00:00, 173.33it/s]\n",
      "100%|████████████████████████████████████████████████████████████████████████████████| 213/213 [00:00<00:00, 539.54it/s]\n"
     ]
    },
    {
     "name": "stdout",
     "output_type": "stream",
     "text": [
      "Epoch [56/100]\n",
      "Train Loss: 0.6147\n",
      "Val Loss: 0.6068\n",
      "Best Val loss: 0.4773\n"
     ]
    },
    {
     "name": "stderr",
     "output_type": "stream",
     "text": [
      "100%|████████████████████████████████████████████████████████████████████████████████| 522/522 [00:03<00:00, 173.69it/s]\n",
      "100%|████████████████████████████████████████████████████████████████████████████████| 213/213 [00:00<00:00, 539.37it/s]\n"
     ]
    },
    {
     "name": "stdout",
     "output_type": "stream",
     "text": [
      "Epoch [57/100]\n",
      "Train Loss: 0.6147\n",
      "Val Loss: 0.6347\n",
      "Best Val loss: 0.4773\n"
     ]
    },
    {
     "name": "stderr",
     "output_type": "stream",
     "text": [
      "100%|████████████████████████████████████████████████████████████████████████████████| 522/522 [00:03<00:00, 173.31it/s]\n",
      "100%|████████████████████████████████████████████████████████████████████████████████| 213/213 [00:00<00:00, 539.60it/s]\n"
     ]
    },
    {
     "name": "stdout",
     "output_type": "stream",
     "text": [
      "Epoch [58/100]\n",
      "Train Loss: 0.6126\n",
      "Val Loss: 0.7247\n",
      "Best Val loss: 0.4773\n"
     ]
    },
    {
     "name": "stderr",
     "output_type": "stream",
     "text": [
      "100%|████████████████████████████████████████████████████████████████████████████████| 522/522 [00:02<00:00, 174.46it/s]\n",
      "100%|████████████████████████████████████████████████████████████████████████████████| 213/213 [00:00<00:00, 540.32it/s]\n"
     ]
    },
    {
     "name": "stdout",
     "output_type": "stream",
     "text": [
      "Epoch [59/100]\n",
      "Train Loss: 0.6144\n",
      "Val Loss: 0.5737\n",
      "Best Val loss: 0.4773\n"
     ]
    },
    {
     "name": "stderr",
     "output_type": "stream",
     "text": [
      "100%|████████████████████████████████████████████████████████████████████████████████| 522/522 [00:03<00:00, 173.26it/s]\n",
      "100%|████████████████████████████████████████████████████████████████████████████████| 213/213 [00:00<00:00, 540.00it/s]\n"
     ]
    },
    {
     "name": "stdout",
     "output_type": "stream",
     "text": [
      "Epoch [60/100]\n",
      "Train Loss: 0.6138\n",
      "Val Loss: 0.6083\n",
      "Best Val loss: 0.4773\n"
     ]
    },
    {
     "name": "stderr",
     "output_type": "stream",
     "text": [
      "100%|████████████████████████████████████████████████████████████████████████████████| 556/556 [00:03<00:00, 173.69it/s]\n",
      "100%|████████████████████████████████████████████████████████████████████████████████| 213/213 [00:00<00:00, 539.22it/s]\n"
     ]
    },
    {
     "name": "stdout",
     "output_type": "stream",
     "text": [
      "Epoch [61/100]\n",
      "Train Loss: 0.6151\n",
      "Val Loss: 0.6103\n",
      "Best Val loss: 0.4773\n"
     ]
    },
    {
     "name": "stderr",
     "output_type": "stream",
     "text": [
      "100%|████████████████████████████████████████████████████████████████████████████████| 556/556 [00:03<00:00, 172.94it/s]\n",
      "100%|████████████████████████████████████████████████████████████████████████████████| 213/213 [00:00<00:00, 539.82it/s]\n"
     ]
    },
    {
     "name": "stdout",
     "output_type": "stream",
     "text": [
      "Epoch [62/100]\n",
      "Train Loss: 0.6156\n",
      "Val Loss: 0.5517\n",
      "Best Val loss: 0.4773\n"
     ]
    },
    {
     "name": "stderr",
     "output_type": "stream",
     "text": [
      "100%|████████████████████████████████████████████████████████████████████████████████| 556/556 [00:03<00:00, 174.74it/s]\n",
      "100%|████████████████████████████████████████████████████████████████████████████████| 213/213 [00:00<00:00, 539.53it/s]\n"
     ]
    },
    {
     "name": "stdout",
     "output_type": "stream",
     "text": [
      "Epoch [63/100]\n",
      "Train Loss: 0.6408\n",
      "Val Loss: 0.5089\n",
      "Best Val loss: 0.4773\n"
     ]
    },
    {
     "name": "stderr",
     "output_type": "stream",
     "text": [
      "100%|████████████████████████████████████████████████████████████████████████████████| 556/556 [00:03<00:00, 173.25it/s]\n",
      "100%|████████████████████████████████████████████████████████████████████████████████| 213/213 [00:00<00:00, 539.53it/s]\n"
     ]
    },
    {
     "name": "stdout",
     "output_type": "stream",
     "text": [
      "Epoch [64/100]\n",
      "Train Loss: 0.6126\n",
      "Val Loss: 0.5834\n",
      "Best Val loss: 0.4773\n"
     ]
    },
    {
     "name": "stderr",
     "output_type": "stream",
     "text": [
      "100%|████████████████████████████████████████████████████████████████████████████████| 556/556 [00:03<00:00, 173.80it/s]\n",
      "100%|████████████████████████████████████████████████████████████████████████████████| 213/213 [00:00<00:00, 539.61it/s]\n"
     ]
    },
    {
     "name": "stdout",
     "output_type": "stream",
     "text": [
      "Epoch [65/100]\n",
      "Train Loss: 0.6066\n",
      "Val Loss: 0.5787\n",
      "Best Val loss: 0.4773\n"
     ]
    },
    {
     "name": "stderr",
     "output_type": "stream",
     "text": [
      "100%|████████████████████████████████████████████████████████████████████████████████| 556/556 [00:03<00:00, 173.46it/s]\n",
      "100%|████████████████████████████████████████████████████████████████████████████████| 213/213 [00:00<00:00, 539.29it/s]\n"
     ]
    },
    {
     "name": "stdout",
     "output_type": "stream",
     "text": [
      "Epoch [66/100]\n",
      "Train Loss: 0.6052\n",
      "Val Loss: 0.5195\n",
      "Best Val loss: 0.4773\n"
     ]
    },
    {
     "name": "stderr",
     "output_type": "stream",
     "text": [
      "100%|████████████████████████████████████████████████████████████████████████████████| 556/556 [00:03<00:00, 173.55it/s]\n",
      "100%|████████████████████████████████████████████████████████████████████████████████| 213/213 [00:00<00:00, 539.60it/s]\n"
     ]
    },
    {
     "name": "stdout",
     "output_type": "stream",
     "text": [
      "Epoch [67/100]\n",
      "Train Loss: 0.6054\n",
      "Val Loss: 0.5491\n",
      "Best Val loss: 0.4773\n"
     ]
    },
    {
     "name": "stderr",
     "output_type": "stream",
     "text": [
      "100%|████████████████████████████████████████████████████████████████████████████████| 556/556 [00:03<00:00, 176.16it/s]\n",
      "100%|████████████████████████████████████████████████████████████████████████████████| 213/213 [00:00<00:00, 549.66it/s]\n"
     ]
    },
    {
     "name": "stdout",
     "output_type": "stream",
     "text": [
      "Epoch [68/100]\n",
      "Train Loss: 0.6047\n",
      "Val Loss: 0.5674\n",
      "Best Val loss: 0.4773\n"
     ]
    },
    {
     "name": "stderr",
     "output_type": "stream",
     "text": [
      "100%|████████████████████████████████████████████████████████████████████████████████| 556/556 [00:02<00:00, 189.43it/s]\n",
      "100%|████████████████████████████████████████████████████████████████████████████████| 213/213 [00:00<00:00, 549.26it/s]\n"
     ]
    },
    {
     "name": "stdout",
     "output_type": "stream",
     "text": [
      "Epoch [69/100]\n",
      "Train Loss: 0.6025\n",
      "Val Loss: 0.5484\n",
      "Best Val loss: 0.4773\n"
     ]
    },
    {
     "name": "stderr",
     "output_type": "stream",
     "text": [
      "100%|████████████████████████████████████████████████████████████████████████████████| 556/556 [00:02<00:00, 189.29it/s]\n",
      "100%|████████████████████████████████████████████████████████████████████████████████| 213/213 [00:00<00:00, 547.31it/s]\n"
     ]
    },
    {
     "name": "stdout",
     "output_type": "stream",
     "text": [
      "Epoch [70/100]\n",
      "Train Loss: 0.5995\n",
      "Val Loss: 0.546\n",
      "Best Val loss: 0.4773\n"
     ]
    },
    {
     "name": "stderr",
     "output_type": "stream",
     "text": [
      "100%|████████████████████████████████████████████████████████████████████████████████| 556/556 [00:02<00:00, 189.01it/s]\n",
      "100%|████████████████████████████████████████████████████████████████████████████████| 213/213 [00:00<00:00, 547.28it/s]\n"
     ]
    },
    {
     "name": "stdout",
     "output_type": "stream",
     "text": [
      "Epoch [71/100]\n",
      "Train Loss: 0.6104\n",
      "Val Loss: 0.558\n",
      "Best Val loss: 0.4773\n"
     ]
    },
    {
     "name": "stderr",
     "output_type": "stream",
     "text": [
      "100%|████████████████████████████████████████████████████████████████████████████████| 556/556 [00:02<00:00, 189.17it/s]\n",
      "100%|████████████████████████████████████████████████████████████████████████████████| 213/213 [00:00<00:00, 547.06it/s]\n"
     ]
    },
    {
     "name": "stdout",
     "output_type": "stream",
     "text": [
      "Epoch [72/100]\n",
      "Train Loss: 0.6033\n",
      "Val Loss: 0.621\n",
      "Best Val loss: 0.4773\n"
     ]
    },
    {
     "name": "stderr",
     "output_type": "stream",
     "text": [
      "100%|████████████████████████████████████████████████████████████████████████████████| 556/556 [00:02<00:00, 189.22it/s]\n",
      "100%|████████████████████████████████████████████████████████████████████████████████| 213/213 [00:00<00:00, 547.50it/s]\n"
     ]
    },
    {
     "name": "stdout",
     "output_type": "stream",
     "text": [
      "Epoch [73/100]\n",
      "Train Loss: 0.5991\n",
      "Val Loss: 0.5601\n",
      "Best Val loss: 0.4773\n"
     ]
    },
    {
     "name": "stderr",
     "output_type": "stream",
     "text": [
      "100%|████████████████████████████████████████████████████████████████████████████████| 556/556 [00:02<00:00, 189.15it/s]\n",
      "100%|████████████████████████████████████████████████████████████████████████████████| 213/213 [00:00<00:00, 547.48it/s]\n"
     ]
    },
    {
     "name": "stdout",
     "output_type": "stream",
     "text": [
      "Epoch [74/100]\n",
      "Train Loss: 0.599\n",
      "Val Loss: 0.4998\n",
      "Best Val loss: 0.4773\n"
     ]
    },
    {
     "name": "stderr",
     "output_type": "stream",
     "text": [
      "100%|████████████████████████████████████████████████████████████████████████████████| 556/556 [00:02<00:00, 188.80it/s]\n",
      "100%|████████████████████████████████████████████████████████████████████████████████| 213/213 [00:00<00:00, 545.23it/s]\n"
     ]
    },
    {
     "name": "stdout",
     "output_type": "stream",
     "text": [
      "Epoch [75/100]\n",
      "Train Loss: 0.5998\n",
      "Val Loss: 0.5549\n",
      "Best Val loss: 0.4773\n"
     ]
    },
    {
     "name": "stderr",
     "output_type": "stream",
     "text": [
      "100%|████████████████████████████████████████████████████████████████████████████████| 556/556 [00:02<00:00, 188.98it/s]\n",
      "100%|████████████████████████████████████████████████████████████████████████████████| 213/213 [00:00<00:00, 549.42it/s]\n"
     ]
    },
    {
     "name": "stdout",
     "output_type": "stream",
     "text": [
      "Epoch [76/100]\n",
      "Train Loss: 0.6018\n",
      "Val Loss: 0.5382\n",
      "Best Val loss: 0.4773\n"
     ]
    },
    {
     "name": "stderr",
     "output_type": "stream",
     "text": [
      "100%|████████████████████████████████████████████████████████████████████████████████| 556/556 [00:02<00:00, 189.43it/s]\n",
      "100%|████████████████████████████████████████████████████████████████████████████████| 213/213 [00:00<00:00, 548.56it/s]\n"
     ]
    },
    {
     "name": "stdout",
     "output_type": "stream",
     "text": [
      "Epoch [77/100]\n",
      "Train Loss: 0.6003\n",
      "Val Loss: 0.5269\n",
      "Best Val loss: 0.4773\n"
     ]
    },
    {
     "name": "stderr",
     "output_type": "stream",
     "text": [
      "100%|████████████████████████████████████████████████████████████████████████████████| 556/556 [00:02<00:00, 189.38it/s]\n",
      "100%|████████████████████████████████████████████████████████████████████████████████| 213/213 [00:00<00:00, 548.69it/s]\n"
     ]
    },
    {
     "name": "stdout",
     "output_type": "stream",
     "text": [
      "Epoch [78/100]\n",
      "Train Loss: 0.602\n",
      "Val Loss: 0.5845\n",
      "Best Val loss: 0.4773\n"
     ]
    },
    {
     "name": "stderr",
     "output_type": "stream",
     "text": [
      "100%|████████████████████████████████████████████████████████████████████████████████| 556/556 [00:02<00:00, 189.31it/s]\n",
      "100%|████████████████████████████████████████████████████████████████████████████████| 213/213 [00:00<00:00, 547.14it/s]\n"
     ]
    },
    {
     "name": "stdout",
     "output_type": "stream",
     "text": [
      "Epoch [79/100]\n",
      "Train Loss: 0.6013\n",
      "Val Loss: 0.5754\n",
      "Best Val loss: 0.4773\n"
     ]
    },
    {
     "name": "stderr",
     "output_type": "stream",
     "text": [
      "100%|████████████████████████████████████████████████████████████████████████████████| 556/556 [00:02<00:00, 189.22it/s]\n",
      "100%|████████████████████████████████████████████████████████████████████████████████| 213/213 [00:00<00:00, 548.28it/s]\n"
     ]
    },
    {
     "name": "stdout",
     "output_type": "stream",
     "text": [
      "Epoch [80/100]\n",
      "Train Loss: 0.6002\n",
      "Val Loss: 0.5786\n",
      "Best Val loss: 0.4773\n"
     ]
    },
    {
     "name": "stderr",
     "output_type": "stream",
     "text": [
      "100%|████████████████████████████████████████████████████████████████████████████████| 556/556 [00:02<00:00, 188.96it/s]\n",
      "100%|████████████████████████████████████████████████████████████████████████████████| 213/213 [00:00<00:00, 548.02it/s]\n"
     ]
    },
    {
     "name": "stdout",
     "output_type": "stream",
     "text": [
      "Epoch [81/100]\n",
      "Train Loss: 0.5998\n",
      "Val Loss: 0.5202\n",
      "Best Val loss: 0.4773\n"
     ]
    },
    {
     "name": "stderr",
     "output_type": "stream",
     "text": [
      "100%|████████████████████████████████████████████████████████████████████████████████| 556/556 [00:02<00:00, 189.17it/s]\n",
      "100%|████████████████████████████████████████████████████████████████████████████████| 213/213 [00:00<00:00, 547.94it/s]\n"
     ]
    },
    {
     "name": "stdout",
     "output_type": "stream",
     "text": [
      "Epoch [82/100]\n",
      "Train Loss: 0.6038\n",
      "Val Loss: 0.6038\n",
      "Best Val loss: 0.4773\n"
     ]
    },
    {
     "name": "stderr",
     "output_type": "stream",
     "text": [
      "100%|████████████████████████████████████████████████████████████████████████████████| 556/556 [00:02<00:00, 189.11it/s]\n",
      "100%|████████████████████████████████████████████████████████████████████████████████| 213/213 [00:00<00:00, 547.64it/s]\n"
     ]
    },
    {
     "name": "stdout",
     "output_type": "stream",
     "text": [
      "Epoch [83/100]\n",
      "Train Loss: 0.603\n",
      "Val Loss: 0.5694\n",
      "Best Val loss: 0.4773\n"
     ]
    },
    {
     "name": "stderr",
     "output_type": "stream",
     "text": [
      "100%|████████████████████████████████████████████████████████████████████████████████| 556/556 [00:02<00:00, 189.14it/s]\n",
      "100%|████████████████████████████████████████████████████████████████████████████████| 213/213 [00:00<00:00, 547.84it/s]\n"
     ]
    },
    {
     "name": "stdout",
     "output_type": "stream",
     "text": [
      "Epoch [84/100]\n",
      "Train Loss: 2.6642\n",
      "Val Loss: 15.6482\n",
      "Best Val loss: 0.4773\n"
     ]
    },
    {
     "name": "stderr",
     "output_type": "stream",
     "text": [
      "100%|████████████████████████████████████████████████████████████████████████████████| 556/556 [00:02<00:00, 189.23it/s]\n",
      "100%|████████████████████████████████████████████████████████████████████████████████| 213/213 [00:00<00:00, 548.62it/s]\n"
     ]
    },
    {
     "name": "stdout",
     "output_type": "stream",
     "text": [
      "Epoch [85/100]\n",
      "Train Loss: 6.9604\n",
      "Val Loss: 15.6482\n",
      "Best Val loss: 0.4773\n"
     ]
    },
    {
     "name": "stderr",
     "output_type": "stream",
     "text": [
      "100%|████████████████████████████████████████████████████████████████████████████████| 522/522 [00:02<00:00, 189.39it/s]\n",
      "100%|████████████████████████████████████████████████████████████████████████████████| 213/213 [00:00<00:00, 548.70it/s]\n"
     ]
    },
    {
     "name": "stdout",
     "output_type": "stream",
     "text": [
      "Epoch [86/100]\n",
      "Train Loss: 6.4698\n",
      "Val Loss: 15.6482\n",
      "Best Val loss: 0.4773\n"
     ]
    },
    {
     "name": "stderr",
     "output_type": "stream",
     "text": [
      "100%|████████████████████████████████████████████████████████████████████████████████| 522/522 [00:02<00:00, 189.46it/s]\n",
      "100%|████████████████████████████████████████████████████████████████████████████████| 213/213 [00:00<00:00, 548.80it/s]\n"
     ]
    },
    {
     "name": "stdout",
     "output_type": "stream",
     "text": [
      "Epoch [87/100]\n",
      "Train Loss: 6.4385\n",
      "Val Loss: 15.6482\n",
      "Best Val loss: 0.4773\n"
     ]
    },
    {
     "name": "stderr",
     "output_type": "stream",
     "text": [
      "100%|████████████████████████████████████████████████████████████████████████████████| 522/522 [00:02<00:00, 189.48it/s]\n",
      "100%|████████████████████████████████████████████████████████████████████████████████| 213/213 [00:00<00:00, 548.67it/s]\n"
     ]
    },
    {
     "name": "stdout",
     "output_type": "stream",
     "text": [
      "Epoch [88/100]\n",
      "Train Loss: 6.4698\n",
      "Val Loss: 15.6482\n",
      "Best Val loss: 0.4773\n"
     ]
    },
    {
     "name": "stderr",
     "output_type": "stream",
     "text": [
      "100%|████████████████████████████████████████████████████████████████████████████████| 522/522 [00:02<00:00, 189.51it/s]\n",
      "100%|████████████████████████████████████████████████████████████████████████████████| 213/213 [00:00<00:00, 548.84it/s]\n"
     ]
    },
    {
     "name": "stdout",
     "output_type": "stream",
     "text": [
      "Epoch [89/100]\n",
      "Train Loss: 6.5408\n",
      "Val Loss: 2.9061\n",
      "Best Val loss: 0.4773\n"
     ]
    },
    {
     "name": "stderr",
     "output_type": "stream",
     "text": [
      "100%|████████████████████████████████████████████████████████████████████████████████| 522/522 [00:02<00:00, 189.60it/s]\n",
      "100%|████████████████████████████████████████████████████████████████████████████████| 213/213 [00:00<00:00, 549.00it/s]\n"
     ]
    },
    {
     "name": "stdout",
     "output_type": "stream",
     "text": [
      "Epoch [90/100]\n",
      "Train Loss: 4.6275\n",
      "Val Loss: 0.7255\n",
      "Best Val loss: 0.4773\n"
     ]
    },
    {
     "name": "stderr",
     "output_type": "stream",
     "text": [
      "100%|████████████████████████████████████████████████████████████████████████████████| 556/556 [00:02<00:00, 189.26it/s]\n",
      "100%|████████████████████████████████████████████████████████████████████████████████| 213/213 [00:00<00:00, 549.39it/s]\n"
     ]
    },
    {
     "name": "stdout",
     "output_type": "stream",
     "text": [
      "Epoch [91/100]\n",
      "Train Loss: 0.6939\n",
      "Val Loss: 0.6555\n",
      "Best Val loss: 0.4773\n"
     ]
    },
    {
     "name": "stderr",
     "output_type": "stream",
     "text": [
      "100%|████████████████████████████████████████████████████████████████████████████████| 556/556 [00:02<00:00, 189.25it/s]\n",
      "100%|████████████████████████████████████████████████████████████████████████████████| 213/213 [00:00<00:00, 547.67it/s]\n"
     ]
    },
    {
     "name": "stdout",
     "output_type": "stream",
     "text": [
      "Epoch [92/100]\n",
      "Train Loss: 0.6938\n",
      "Val Loss: 0.6947\n",
      "Best Val loss: 0.4773\n"
     ]
    },
    {
     "name": "stderr",
     "output_type": "stream",
     "text": [
      "100%|████████████████████████████████████████████████████████████████████████████████| 556/556 [00:02<00:00, 189.38it/s]\n",
      "100%|████████████████████████████████████████████████████████████████████████████████| 213/213 [00:00<00:00, 548.23it/s]\n"
     ]
    },
    {
     "name": "stdout",
     "output_type": "stream",
     "text": [
      "Epoch [93/100]\n",
      "Train Loss: 0.6935\n",
      "Val Loss: 0.7167\n",
      "Best Val loss: 0.4773\n"
     ]
    },
    {
     "name": "stderr",
     "output_type": "stream",
     "text": [
      "100%|████████████████████████████████████████████████████████████████████████████████| 556/556 [00:02<00:00, 189.45it/s]\n",
      "100%|████████████████████████████████████████████████████████████████████████████████| 213/213 [00:00<00:00, 549.24it/s]\n"
     ]
    },
    {
     "name": "stdout",
     "output_type": "stream",
     "text": [
      "Epoch [94/100]\n",
      "Train Loss: 0.6934\n",
      "Val Loss: 0.6768\n",
      "Best Val loss: 0.4773\n"
     ]
    },
    {
     "name": "stderr",
     "output_type": "stream",
     "text": [
      "100%|████████████████████████████████████████████████████████████████████████████████| 556/556 [00:02<00:00, 189.43it/s]\n",
      "100%|████████████████████████████████████████████████████████████████████████████████| 213/213 [00:00<00:00, 549.11it/s]\n"
     ]
    },
    {
     "name": "stdout",
     "output_type": "stream",
     "text": [
      "Epoch [95/100]\n",
      "Train Loss: 0.6934\n",
      "Val Loss: 0.662\n",
      "Best Val loss: 0.4773\n"
     ]
    },
    {
     "name": "stderr",
     "output_type": "stream",
     "text": [
      "100%|████████████████████████████████████████████████████████████████████████████████| 556/556 [00:02<00:00, 189.31it/s]\n",
      "100%|████████████████████████████████████████████████████████████████████████████████| 213/213 [00:00<00:00, 548.35it/s]\n"
     ]
    },
    {
     "name": "stdout",
     "output_type": "stream",
     "text": [
      "Epoch [96/100]\n",
      "Train Loss: 2.3362\n",
      "Val Loss: 15.6482\n",
      "Best Val loss: 0.4773\n"
     ]
    },
    {
     "name": "stderr",
     "output_type": "stream",
     "text": [
      "100%|████████████████████████████████████████████████████████████████████████████████| 556/556 [00:02<00:00, 189.34it/s]\n",
      "100%|████████████████████████████████████████████████████████████████████████████████| 213/213 [00:00<00:00, 549.83it/s]\n"
     ]
    },
    {
     "name": "stdout",
     "output_type": "stream",
     "text": [
      "Epoch [97/100]\n",
      "Train Loss: 6.8998\n",
      "Val Loss: 15.6482\n",
      "Best Val loss: 0.4773\n"
     ]
    },
    {
     "name": "stderr",
     "output_type": "stream",
     "text": [
      "100%|████████████████████████████████████████████████████████████████████████████████| 556/556 [00:02<00:00, 189.27it/s]\n",
      "100%|████████████████████████████████████████████████████████████████████████████████| 213/213 [00:00<00:00, 549.49it/s]\n"
     ]
    },
    {
     "name": "stdout",
     "output_type": "stream",
     "text": [
      "Epoch [98/100]\n",
      "Train Loss: 6.9031\n",
      "Val Loss: 15.6482\n",
      "Best Val loss: 0.4773\n"
     ]
    },
    {
     "name": "stderr",
     "output_type": "stream",
     "text": [
      "100%|████████████████████████████████████████████████████████████████████████████████| 556/556 [00:02<00:00, 189.25it/s]\n",
      "100%|████████████████████████████████████████████████████████████████████████████████| 213/213 [00:00<00:00, 548.85it/s]\n"
     ]
    },
    {
     "name": "stdout",
     "output_type": "stream",
     "text": [
      "Epoch [99/100]\n",
      "Train Loss: 5.0416\n",
      "Val Loss: 0.5933\n",
      "Best Val loss: 0.4773\n"
     ]
    },
    {
     "name": "stderr",
     "output_type": "stream",
     "text": [
      "100%|████████████████████████████████████████████████████████████████████████████████| 556/556 [00:02<00:00, 189.43it/s]\n",
      "100%|████████████████████████████████████████████████████████████████████████████████| 213/213 [00:00<00:00, 548.94it/s]"
     ]
    },
    {
     "name": "stdout",
     "output_type": "stream",
     "text": [
      "Epoch [100/100]\n",
      "Train Loss: 0.6133\n",
      "Val Loss: 0.6004\n",
      "Best Val loss: 0.4773\n"
     ]
    },
    {
     "name": "stderr",
     "output_type": "stream",
     "text": [
      "\n"
     ]
    }
   ],
   "source": [
    "train_dataset_index = -1\n",
    "change_every = 5\n",
    "\n",
    "for epoch in range(num_epochs):\n",
    "    \n",
    "    if epoch % change_every == 0:\n",
    "        train_dataset_index = (train_dataset_index + 1) % 6\n",
    "    \n",
    "        train_dataset = CustomDataset(\n",
    "        f\"./data/balanced_training/data_X_{train_dataset_index}.pt\",\n",
    "        f\"./data/balanced_training/data_x_{train_dataset_index}.pt\",\n",
    "        f\"./data/balanced_training/data_y_{train_dataset_index}.pt\",\n",
    "        )\n",
    "        train_dataloader = DataLoader(\n",
    "            train_dataset, batch_size=BATCH_SIZE, shuffle=True, drop_last=False\n",
    "        )\n",
    "    \n",
    "    \n",
    "    mean_train_loss = train(model, train_dataloader, criterion, optimizer)\n",
    "    mean_val_loss = validate(model, val_dataloader, criterion)\n",
    "\n",
    "    history.append([mean_train_loss, mean_val_loss])\n",
    "    print(\n",
    "        f\"Epoch [{epoch+1}/{num_epochs}]\\nTrain Loss: {round(mean_train_loss, 4)}\\nVal Loss: {round(mean_val_loss, 4)}\"\n",
    "        f\"\\nBest Val loss: {round(val_min_loss, 4)}\"\n",
    "    )\n",
    "\n",
    "    if mean_val_loss < val_min_loss:\n",
    "        val_min_loss = mean_val_loss\n",
    "        print(\"Saving best model....\")\n",
    "        torch.save(model.state_dict(), f\"./models/{model_name}_best.pt\")"
   ]
  },
  {
   "cell_type": "code",
   "execution_count": 427,
   "id": "b5e64252",
   "metadata": {},
   "outputs": [],
   "source": [
    "torch.save(model.state_dict(), f\"./models/{model_name}_last.pt\")"
   ]
  },
  {
   "cell_type": "code",
   "execution_count": 428,
   "id": "a1df9555",
   "metadata": {},
   "outputs": [],
   "source": [
    "best_weights = torch.load(f\"./models/{model_name}_best.pt\")\n",
    "model.load_state_dict(best_weights);"
   ]
  },
  {
   "cell_type": "code",
   "execution_count": 429,
   "id": "75b0791c",
   "metadata": {},
   "outputs": [
    {
     "data": {
      "text/plain": [
       "<matplotlib.legend.Legend at 0x7f1fb46671c0>"
      ]
     },
     "execution_count": 429,
     "metadata": {},
     "output_type": "execute_result"
    },
    {
     "data": {
      "image/png": "[encoded data removed]",
      "text/plain": [
       "<Figure size 640x480 with 1 Axes>"
      ]
     },
     "metadata": {},
     "output_type": "display_data"
    }
   ],
   "source": [
    "plt.plot(history)\n",
    "plt.legend([\"train\", \"val\"])"
   ]
  },
  {
   "cell_type": "markdown",
   "id": "b3988ecf",
   "metadata": {},
   "source": [
    "# Evaluation"
   ]
  },
  {
   "cell_type": "code",
   "execution_count": 430,
   "id": "97cc68e8",
   "metadata": {},
   "outputs": [],
   "source": [
    "model.eval()\n",
    "\n",
    "X_val = val_dataset.data_X#[:6000]\n",
    "x_val = val_dataset.data_x#[:6000]\n",
    "y_val = val_dataset.data_y#[:6000]\n",
    "\n",
    "predictions = model(X_val.to(DEVICE), x_val.to(DEVICE)).detach().cpu().numpy().argmax(axis=-1)\n",
    "ground_truth = y_val.numpy()[..., 0]"
   ]
  },
  {
   "cell_type": "markdown",
   "id": "a3bf04ee",
   "metadata": {},
   "source": [
    "### ACC"
   ]
  },
  {
   "cell_type": "code",
   "execution_count": 431,
   "id": "b9bca0ab",
   "metadata": {},
   "outputs": [],
   "source": [
    "from sklearn.metrics import precision_score, recall_score, f1_score, accuracy_score"
   ]
  },
  {
   "cell_type": "code",
   "execution_count": 432,
   "id": "298f6b22",
   "metadata": {},
   "outputs": [
    {
     "name": "stdout",
     "output_type": "stream",
     "text": [
      "Accuracy: 0.823\n",
      "Precision: 0.425\n",
      "Recall: 0.496\n",
      "F1 score: 0.457\n"
     ]
    }
   ],
   "source": [
    "accuracy = accuracy_score(ground_truth, predictions)\n",
    "precision = precision_score(ground_truth, predictions) \n",
    "recall = recall_score(ground_truth, predictions)\n",
    "f1score = f1_score(ground_truth, predictions)\n",
    "\n",
    "print(f\"Accuracy: {accuracy:.3f}\")\n",
    "print(f\"Precision: {precision:.3f}\")\n",
    "print(f\"Recall: {recall:.3f}\")\n",
    "print(f\"F1 score: {f1score:.3f}\")"
   ]
  },
  {
   "cell_type": "markdown",
   "id": "8004090d",
   "metadata": {},
   "source": [
    "### Confusion Matrix"
   ]
  },
  {
   "cell_type": "code",
   "execution_count": 433,
   "id": "33e826b8",
   "metadata": {},
   "outputs": [
    {
     "data": {
      "image/png": "[encoded data removed]",
      "text/plain": [
       "<Figure size 600x600 with 1 Axes>"
      ]
     },
     "metadata": {},
     "output_type": "display_data"
    }
   ],
   "source": [
    "# Calculate confusion matrix\n",
    "cm = confusion_matrix(ground_truth, predictions)\n",
    "\n",
    "# Create a heatmap\n",
    "plt.figure(figsize=(6, 6))\n",
    "sns.heatmap(cm, annot=True, fmt='d', cmap='Blues', cbar=False,)\n",
    "plt.xlabel('Predicted')\n",
    "plt.ylabel('Ground Truth')\n",
    "plt.title('Confusion Matrix')\n",
    "plt.show()\n"
   ]
  },
  {
   "cell_type": "markdown",
   "id": "6821fed2",
   "metadata": {},
   "source": [
    "### ROC Curve"
   ]
  },
  {
   "cell_type": "code",
   "execution_count": 239,
   "id": "548efad3",
   "metadata": {},
   "outputs": [],
   "source": [
    "# # Calculate ROC curve\n",
    "# fpr, tpr, thresholds = roc_curve(ground_truth, predictions)\n",
    "\n",
    "# # Calculate AUC score\n",
    "# auc_score = roc_auc_score(ground_truth, predictions)\n",
    "\n",
    "# # Create ROC curve plot\n",
    "# plt.figure(figsize=(6, 6))\n",
    "# plt.plot(fpr, tpr, color='b', label=f'AUC = {auc_score:.2f}')\n",
    "# plt.plot([0, 1], [0, 1], color='gray', linestyle='--')\n",
    "# plt.xlabel('False Positive Rate')\n",
    "# plt.ylabel('True Positive Rate')\n",
    "# plt.title('ROC Curve')\n",
    "# plt.legend()\n",
    "# plt.show()\n"
   ]
  },
  {
   "cell_type": "markdown",
   "id": "3f4c5a1a",
   "metadata": {},
   "source": [
    "## Kernel Density Estimation plot"
   ]
  },
  {
   "cell_type": "code",
   "execution_count": 240,
   "id": "872ce634",
   "metadata": {},
   "outputs": [
    {
     "data": {
      "image/png": "[encoded data removed]",
      "text/plain": [
       "<Figure size 640x480 with 1 Axes>"
      ]
     },
     "metadata": {},
     "output_type": "display_data"
    }
   ],
   "source": [
    "sns.kdeplot(ground_truth.flatten())\n",
    "sns.kdeplot(predictions.flatten())\n",
    "plt.legend([\"Ground truth\", \"Prediction\"])\n",
    "plt.show()"
   ]
  },
  {
   "cell_type": "code",
   "execution_count": null,
   "id": "b94bb5fd",
   "metadata": {},
   "outputs": [],
   "source": []
  }
 ],
 "metadata": {
  "kernelspec": {
   "display_name": "Python 3 (ipykernel)",
   "language": "python",
   "name": "python3"
  },
  "language_info": {
   "codemirror_mode": {
    "name": "ipython",
    "version": 3
   },
   "file_extension": ".py",
   "mimetype": "text/x-python",
   "name": "python",
   "nbconvert_exporter": "python",
   "pygments_lexer": "ipython3",
   "version": "3.9.12"
  }
 },
 "nbformat": 4,
 "nbformat_minor": 5
}
