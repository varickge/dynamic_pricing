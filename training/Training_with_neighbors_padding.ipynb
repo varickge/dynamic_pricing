{
 "cells": [
  {
   "cell_type": "code",
   "execution_count": 1,
   "id": "a5932b18",
   "metadata": {},
   "outputs": [],
   "source": [
    "from utils import *\n",
    "import pickle"
   ]
  },
  {
   "cell_type": "code",
   "execution_count": 2,
   "id": "ead2adbb",
   "metadata": {},
   "outputs": [],
   "source": [
    "class PointwiseLinear(torch.nn.Module):\n",
    "    def __init__(self, input_feature_dim, output_feature_dim):\n",
    "        super().__init__()\n",
    "\n",
    "        self.W1 = torch.nn.Parameter(torch.rand(output_feature_dim, 5, 1, input_feature_dim))\n",
    "        self.W2 = torch.nn.Parameter(torch.rand(output_feature_dim, 5, 1, output_feature_dim * 4))\n",
    "        self.W3 = torch.nn.Parameter(torch.rand(output_feature_dim, 5, 1, output_feature_dim * 2))\n",
    "        \n",
    "        torch.nn.init.xavier_uniform_(self.W1)\n",
    "        torch.nn.init.xavier_uniform_(self.W2)\n",
    "        torch.nn.init.xavier_uniform_(self.W3)\n",
    "        \n",
    "        self.fc1 = torch.nn.Linear(input_feature_dim, output_feature_dim * 4)\n",
    "        self.fc2 = torch.nn.Linear(output_feature_dim * 4, output_feature_dim * 2)\n",
    "        self.fc3 = torch.nn.Linear(output_feature_dim * 2, output_feature_dim)       \n",
    "        \n",
    "        self.relu = nn.ReLU()\n",
    "        \n",
    "        \n",
    "    def forward(self, x):\n",
    "        out = self.relu(self.W1 * x) #().mean(dim=(-2, -1))\n",
    "        out = self.fc1(out)\n",
    "        out = self.relu(self.W2 * out)\n",
    "        out = self.fc2(out)\n",
    "        out = self.relu(self.W3 * out)\n",
    "        out = (self.fc3(out)).mean(dim=(0, 2))\n",
    "        \n",
    "        return out"
   ]
  },
  {
   "cell_type": "code",
   "execution_count": 3,
   "id": "ab7f3c52",
   "metadata": {},
   "outputs": [],
   "source": [
    "class LSTMModel(nn.Module):\n",
    "    \n",
    "    def __init__(self, input_size, hidden_size, num_layers, output_size):\n",
    "        \n",
    "        super(LSTMModel, self).__init__()\n",
    "        \n",
    "        self.input_size = input_size\n",
    "        self.hidden_size = hidden_size\n",
    "        self.num_layers = num_layers\n",
    "        self.output_size = output_size\n",
    "        \n",
    "        self.lstm = nn.LSTM(\n",
    "            16,\n",
    "            self.hidden_size,\n",
    "            self.num_layers,\n",
    "            batch_first=True,\n",
    "            bias=True,\n",
    "            dropout=0.0,\n",
    "        )\n",
    "        \n",
    "        self.feature_extractor = PointwiseLinear(self.input_size, 16)\n",
    "        self.fc_1 = nn.Linear(self.hidden_size + 9, self.hidden_size)\n",
    "        \n",
    "        #TODO: reduce the size of the dense net below\n",
    "        self.fc_2 = nn.Sequential(\n",
    "            nn.Linear(self.hidden_size // 1, self.hidden_size // 2),\n",
    "            nn.LeakyReLU(),\n",
    "            nn.BatchNorm1d(self.hidden_size // 2),\n",
    "            nn.Dropout1d(0.0),\n",
    "            nn.Linear(self.hidden_size // 2, self.hidden_size // 4),\n",
    "            nn.LeakyReLU(),\n",
    "            nn.Dropout1d(0.0),\n",
    "            nn.Linear(self.hidden_size // 4, self.hidden_size // 8),\n",
    "            nn.LeakyReLU(),\n",
    "            nn.Dropout1d(0.0),\n",
    "            nn.Linear(self.hidden_size // 8, self.output_size),\n",
    "        )\n",
    "    \n",
    "\n",
    "    def forward(self, x, x_target):\n",
    "        \n",
    "        # B x T x N x F\n",
    "        \n",
    "        B = len(x)\n",
    "        T = len(x[0])\n",
    "        \n",
    "        features = []\n",
    "        \n",
    "        for i in range(B):\n",
    "            \n",
    "            time_features = []\n",
    "            extracted_features = self.feature_extractor(x[i].to(dtype=torch.float32, device=DEVICE))\n",
    "            features.append(extracted_features)\n",
    "        \n",
    "        features = torch.stack(features, dim=0)\n",
    "        lstm_features, _ = self.lstm(features)\n",
    "        lstm_features = lstm_features[:, -1, ...]\n",
    "        \n",
    "        x_target = torch.from_numpy(np.stack(x_target).astype(np.float32)).to(dtype=torch.float32, device=DEVICE)\n",
    "        combined_features = torch.cat([lstm_features, x_target], dim=-1)\n",
    "            \n",
    "        out = self.fc_1(combined_features)\n",
    "        out = self.fc_2(out)\n",
    "        \n",
    "        return out"
   ]
  },
  {
   "cell_type": "code",
   "execution_count": 4,
   "id": "eebf85b3",
   "metadata": {},
   "outputs": [],
   "source": [
    "model = LSTMModel(input_size=78, hidden_size=512, num_layers=5, output_size=1).to(DEVICE)"
   ]
  },
  {
   "cell_type": "code",
   "execution_count": 5,
   "id": "cfe3be99",
   "metadata": {},
   "outputs": [],
   "source": [
    "with open('./data/X_train_lstm_pad_06_09.pt', 'rb') as file:\n",
    "    X_train = pickle.load(file)\n",
    "    \n",
    "with open('./data/x_train_lstm_pad_06_09.pt', 'rb') as file:\n",
    "    x_train = pickle.load(file)\n",
    "    \n",
    "with open('./data/y_train_lstm_pad_06_09.pt', 'rb') as file:\n",
    "    y_train = pickle.load(file)    "
   ]
  },
  {
   "cell_type": "code",
   "execution_count": 6,
   "id": "dbb3a6c5",
   "metadata": {},
   "outputs": [],
   "source": [
    "with open('./data/X_val_lstm_pad_06_09.pt', 'rb') as file:\n",
    "    X_val = pickle.load(file)\n",
    "    \n",
    "with open('./data/x_val_lstm_pad_06_09.pt', 'rb') as file:\n",
    "    x_val = pickle.load(file)\n",
    "    \n",
    "with open('./data/y_val_lstm_pad_06_09.pt', 'rb') as file:\n",
    "    y_val = pickle.load(file)    "
   ]
  },
  {
   "cell_type": "code",
   "execution_count": 7,
   "id": "879ca72f",
   "metadata": {},
   "outputs": [],
   "source": [
    "indices = list(range(len(X_train)))"
   ]
  },
  {
   "cell_type": "code",
   "execution_count": 8,
   "id": "53a8996b",
   "metadata": {},
   "outputs": [],
   "source": [
    "BATCH_SIZE = 64\n",
    "NUM_EPOCHS = 60"
   ]
  },
  {
   "cell_type": "code",
   "execution_count": 9,
   "id": "8924bdeb",
   "metadata": {},
   "outputs": [],
   "source": [
    "criterion = nn.MSELoss()\n",
    "optimizer = optim.Adam(model.parameters(), lr=3e-4)"
   ]
  },
  {
   "cell_type": "code",
   "execution_count": 10,
   "id": "0d251f0e",
   "metadata": {
    "scrolled": true
   },
   "outputs": [
    {
     "name": "stderr",
     "output_type": "stream",
     "text": [
      "100%|██████████████████████████████████████████████████████████████████| 839/839 [00:42<00:00, 19.79it/s]\n",
      "100%|████████████████████████████████████████████████████████████████████| 43/43 [00:00<00:00, 45.90it/s]\n"
     ]
    },
    {
     "name": "stdout",
     "output_type": "stream",
     "text": [
      "Epoch [1/60]\n",
      "Train Loss: 0.038\n",
      "Val Loss: 0.0324\n"
     ]
    },
    {
     "name": "stderr",
     "output_type": "stream",
     "text": [
      "100%|██████████████████████████████████████████████████████████████████| 839/839 [00:42<00:00, 19.95it/s]\n",
      "100%|████████████████████████████████████████████████████████████████████| 43/43 [00:00<00:00, 45.50it/s]\n"
     ]
    },
    {
     "name": "stdout",
     "output_type": "stream",
     "text": [
      "Epoch [2/60]\n",
      "Train Loss: 0.0351\n",
      "Val Loss: 0.0314\n"
     ]
    },
    {
     "name": "stderr",
     "output_type": "stream",
     "text": [
      "100%|██████████████████████████████████████████████████████████████████| 839/839 [00:42<00:00, 19.71it/s]\n",
      "100%|████████████████████████████████████████████████████████████████████| 43/43 [00:00<00:00, 56.69it/s]\n"
     ]
    },
    {
     "name": "stdout",
     "output_type": "stream",
     "text": [
      "Epoch [3/60]\n",
      "Train Loss: 0.0345\n",
      "Val Loss: 0.0308\n"
     ]
    },
    {
     "name": "stderr",
     "output_type": "stream",
     "text": [
      "100%|██████████████████████████████████████████████████████████████████| 839/839 [00:43<00:00, 19.17it/s]\n",
      "100%|████████████████████████████████████████████████████████████████████| 43/43 [00:00<00:00, 55.50it/s]\n"
     ]
    },
    {
     "name": "stdout",
     "output_type": "stream",
     "text": [
      "Epoch [4/60]\n",
      "Train Loss: 0.0341\n",
      "Val Loss: 0.0308\n"
     ]
    },
    {
     "name": "stderr",
     "output_type": "stream",
     "text": [
      "100%|██████████████████████████████████████████████████████████████████| 839/839 [00:43<00:00, 19.36it/s]\n",
      "100%|████████████████████████████████████████████████████████████████████| 43/43 [00:00<00:00, 43.84it/s]\n"
     ]
    },
    {
     "name": "stdout",
     "output_type": "stream",
     "text": [
      "Epoch [5/60]\n",
      "Train Loss: 0.0338\n",
      "Val Loss: 0.0305\n"
     ]
    },
    {
     "name": "stderr",
     "output_type": "stream",
     "text": [
      "100%|██████████████████████████████████████████████████████████████████| 839/839 [00:42<00:00, 19.65it/s]\n",
      "100%|████████████████████████████████████████████████████████████████████| 43/43 [00:00<00:00, 47.25it/s]\n"
     ]
    },
    {
     "name": "stdout",
     "output_type": "stream",
     "text": [
      "Epoch [6/60]\n",
      "Train Loss: 0.0336\n",
      "Val Loss: 0.0304\n"
     ]
    },
    {
     "name": "stderr",
     "output_type": "stream",
     "text": [
      "100%|██████████████████████████████████████████████████████████████████| 839/839 [00:42<00:00, 19.82it/s]\n",
      "100%|████████████████████████████████████████████████████████████████████| 43/43 [00:00<00:00, 44.42it/s]\n"
     ]
    },
    {
     "name": "stdout",
     "output_type": "stream",
     "text": [
      "Epoch [7/60]\n",
      "Train Loss: 0.0334\n",
      "Val Loss: 0.0303\n"
     ]
    },
    {
     "name": "stderr",
     "output_type": "stream",
     "text": [
      "100%|██████████████████████████████████████████████████████████████████| 839/839 [00:42<00:00, 19.78it/s]\n",
      "100%|████████████████████████████████████████████████████████████████████| 43/43 [00:00<00:00, 46.19it/s]\n"
     ]
    },
    {
     "name": "stdout",
     "output_type": "stream",
     "text": [
      "Epoch [8/60]\n",
      "Train Loss: 0.0332\n",
      "Val Loss: 0.0302\n"
     ]
    },
    {
     "name": "stderr",
     "output_type": "stream",
     "text": [
      "100%|██████████████████████████████████████████████████████████████████| 839/839 [00:42<00:00, 19.84it/s]\n",
      "100%|████████████████████████████████████████████████████████████████████| 43/43 [00:00<00:00, 45.40it/s]\n"
     ]
    },
    {
     "name": "stdout",
     "output_type": "stream",
     "text": [
      "Epoch [9/60]\n",
      "Train Loss: 0.033\n",
      "Val Loss: 0.0302\n"
     ]
    },
    {
     "name": "stderr",
     "output_type": "stream",
     "text": [
      "100%|██████████████████████████████████████████████████████████████████| 839/839 [00:41<00:00, 20.16it/s]\n",
      "100%|████████████████████████████████████████████████████████████████████| 43/43 [00:00<00:00, 45.54it/s]\n"
     ]
    },
    {
     "name": "stdout",
     "output_type": "stream",
     "text": [
      "Epoch [10/60]\n",
      "Train Loss: 0.0329\n",
      "Val Loss: 0.0301\n"
     ]
    },
    {
     "name": "stderr",
     "output_type": "stream",
     "text": [
      "100%|██████████████████████████████████████████████████████████████████| 839/839 [00:43<00:00, 19.11it/s]\n",
      "100%|████████████████████████████████████████████████████████████████████| 43/43 [00:00<00:00, 45.32it/s]\n"
     ]
    },
    {
     "name": "stdout",
     "output_type": "stream",
     "text": [
      "Epoch [11/60]\n",
      "Train Loss: 0.0327\n",
      "Val Loss: 0.03\n"
     ]
    },
    {
     "name": "stderr",
     "output_type": "stream",
     "text": [
      "100%|██████████████████████████████████████████████████████████████████| 839/839 [00:43<00:00, 19.26it/s]\n",
      "100%|████████████████████████████████████████████████████████████████████| 43/43 [00:00<00:00, 44.32it/s]\n"
     ]
    },
    {
     "name": "stdout",
     "output_type": "stream",
     "text": [
      "Epoch [12/60]\n",
      "Train Loss: 0.0326\n",
      "Val Loss: 0.0301\n"
     ]
    },
    {
     "name": "stderr",
     "output_type": "stream",
     "text": [
      "100%|██████████████████████████████████████████████████████████████████| 839/839 [00:42<00:00, 19.66it/s]\n",
      "100%|████████████████████████████████████████████████████████████████████| 43/43 [00:00<00:00, 46.06it/s]\n"
     ]
    },
    {
     "name": "stdout",
     "output_type": "stream",
     "text": [
      "Epoch [13/60]\n",
      "Train Loss: 0.0325\n",
      "Val Loss: 0.0302\n"
     ]
    },
    {
     "name": "stderr",
     "output_type": "stream",
     "text": [
      "100%|██████████████████████████████████████████████████████████████████| 839/839 [00:42<00:00, 19.73it/s]\n",
      "100%|████████████████████████████████████████████████████████████████████| 43/43 [00:00<00:00, 43.84it/s]\n"
     ]
    },
    {
     "name": "stdout",
     "output_type": "stream",
     "text": [
      "Epoch [14/60]\n",
      "Train Loss: 0.0324\n",
      "Val Loss: 0.0299\n"
     ]
    },
    {
     "name": "stderr",
     "output_type": "stream",
     "text": [
      "100%|██████████████████████████████████████████████████████████████████| 839/839 [00:43<00:00, 19.27it/s]\n",
      "100%|████████████████████████████████████████████████████████████████████| 43/43 [00:00<00:00, 44.38it/s]\n"
     ]
    },
    {
     "name": "stdout",
     "output_type": "stream",
     "text": [
      "Epoch [15/60]\n",
      "Train Loss: 0.0322\n",
      "Val Loss: 0.03\n"
     ]
    },
    {
     "name": "stderr",
     "output_type": "stream",
     "text": [
      "100%|██████████████████████████████████████████████████████████████████| 839/839 [00:43<00:00, 19.33it/s]\n",
      "100%|████████████████████████████████████████████████████████████████████| 43/43 [00:00<00:00, 44.26it/s]\n"
     ]
    },
    {
     "name": "stdout",
     "output_type": "stream",
     "text": [
      "Epoch [16/60]\n",
      "Train Loss: 0.0321\n",
      "Val Loss: 0.03\n"
     ]
    },
    {
     "name": "stderr",
     "output_type": "stream",
     "text": [
      "100%|██████████████████████████████████████████████████████████████████| 839/839 [00:43<00:00, 19.36it/s]\n",
      "100%|████████████████████████████████████████████████████████████████████| 43/43 [00:00<00:00, 45.38it/s]\n"
     ]
    },
    {
     "name": "stdout",
     "output_type": "stream",
     "text": [
      "Epoch [17/60]\n",
      "Train Loss: 0.0321\n",
      "Val Loss: 0.0298\n"
     ]
    },
    {
     "name": "stderr",
     "output_type": "stream",
     "text": [
      "100%|██████████████████████████████████████████████████████████████████| 839/839 [00:43<00:00, 19.42it/s]\n",
      "100%|████████████████████████████████████████████████████████████████████| 43/43 [00:00<00:00, 45.14it/s]\n"
     ]
    },
    {
     "name": "stdout",
     "output_type": "stream",
     "text": [
      "Epoch [18/60]\n",
      "Train Loss: 0.032\n",
      "Val Loss: 0.0299\n"
     ]
    },
    {
     "name": "stderr",
     "output_type": "stream",
     "text": [
      "100%|██████████████████████████████████████████████████████████████████| 839/839 [00:42<00:00, 19.54it/s]\n",
      "100%|████████████████████████████████████████████████████████████████████| 43/43 [00:00<00:00, 44.87it/s]\n"
     ]
    },
    {
     "name": "stdout",
     "output_type": "stream",
     "text": [
      "Epoch [19/60]\n",
      "Train Loss: 0.0319\n",
      "Val Loss: 0.0297\n"
     ]
    },
    {
     "name": "stderr",
     "output_type": "stream",
     "text": [
      "100%|██████████████████████████████████████████████████████████████████| 839/839 [00:43<00:00, 19.28it/s]\n",
      "100%|████████████████████████████████████████████████████████████████████| 43/43 [00:00<00:00, 45.62it/s]\n"
     ]
    },
    {
     "name": "stdout",
     "output_type": "stream",
     "text": [
      "Epoch [20/60]\n",
      "Train Loss: 0.0318\n",
      "Val Loss: 0.0298\n"
     ]
    },
    {
     "name": "stderr",
     "output_type": "stream",
     "text": [
      "100%|██████████████████████████████████████████████████████████████████| 839/839 [00:42<00:00, 19.67it/s]\n",
      "100%|████████████████████████████████████████████████████████████████████| 43/43 [00:00<00:00, 45.95it/s]\n"
     ]
    },
    {
     "name": "stdout",
     "output_type": "stream",
     "text": [
      "Epoch [21/60]\n",
      "Train Loss: 0.0317\n",
      "Val Loss: 0.0297\n"
     ]
    },
    {
     "name": "stderr",
     "output_type": "stream",
     "text": [
      "100%|██████████████████████████████████████████████████████████████████| 839/839 [00:42<00:00, 19.71it/s]\n",
      "100%|████████████████████████████████████████████████████████████████████| 43/43 [00:00<00:00, 45.16it/s]\n"
     ]
    },
    {
     "name": "stdout",
     "output_type": "stream",
     "text": [
      "Epoch [22/60]\n",
      "Train Loss: 0.0316\n",
      "Val Loss: 0.0299\n"
     ]
    },
    {
     "name": "stderr",
     "output_type": "stream",
     "text": [
      "100%|██████████████████████████████████████████████████████████████████| 839/839 [00:43<00:00, 19.49it/s]\n",
      "100%|████████████████████████████████████████████████████████████████████| 43/43 [00:00<00:00, 57.91it/s]\n"
     ]
    },
    {
     "name": "stdout",
     "output_type": "stream",
     "text": [
      "Epoch [23/60]\n",
      "Train Loss: 0.0315\n",
      "Val Loss: 0.0297\n"
     ]
    },
    {
     "name": "stderr",
     "output_type": "stream",
     "text": [
      "100%|██████████████████████████████████████████████████████████████████| 839/839 [00:43<00:00, 19.35it/s]\n",
      "100%|████████████████████████████████████████████████████████████████████| 43/43 [00:00<00:00, 44.32it/s]\n"
     ]
    },
    {
     "name": "stdout",
     "output_type": "stream",
     "text": [
      "Epoch [24/60]\n",
      "Train Loss: 0.0314\n",
      "Val Loss: 0.0296\n"
     ]
    },
    {
     "name": "stderr",
     "output_type": "stream",
     "text": [
      "100%|██████████████████████████████████████████████████████████████████| 839/839 [00:43<00:00, 19.09it/s]\n",
      "100%|████████████████████████████████████████████████████████████████████| 43/43 [00:00<00:00, 44.37it/s]\n"
     ]
    },
    {
     "name": "stdout",
     "output_type": "stream",
     "text": [
      "Epoch [25/60]\n",
      "Train Loss: 0.0313\n",
      "Val Loss: 0.0297\n"
     ]
    },
    {
     "name": "stderr",
     "output_type": "stream",
     "text": [
      "100%|██████████████████████████████████████████████████████████████████| 839/839 [00:42<00:00, 19.60it/s]\n",
      "100%|████████████████████████████████████████████████████████████████████| 43/43 [00:00<00:00, 47.13it/s]\n"
     ]
    },
    {
     "name": "stdout",
     "output_type": "stream",
     "text": [
      "Epoch [26/60]\n",
      "Train Loss: 0.0312\n",
      "Val Loss: 0.0297\n"
     ]
    },
    {
     "name": "stderr",
     "output_type": "stream",
     "text": [
      "100%|██████████████████████████████████████████████████████████████████| 839/839 [00:42<00:00, 19.83it/s]\n",
      "100%|████████████████████████████████████████████████████████████████████| 43/43 [00:00<00:00, 45.69it/s]\n"
     ]
    },
    {
     "name": "stdout",
     "output_type": "stream",
     "text": [
      "Epoch [27/60]\n",
      "Train Loss: 0.0312\n",
      "Val Loss: 0.0296\n"
     ]
    },
    {
     "name": "stderr",
     "output_type": "stream",
     "text": [
      "100%|██████████████████████████████████████████████████████████████████| 839/839 [00:42<00:00, 19.82it/s]\n",
      "100%|████████████████████████████████████████████████████████████████████| 43/43 [00:00<00:00, 44.45it/s]\n"
     ]
    },
    {
     "name": "stdout",
     "output_type": "stream",
     "text": [
      "Epoch [28/60]\n",
      "Train Loss: 0.0311\n",
      "Val Loss: 0.0296\n"
     ]
    },
    {
     "name": "stderr",
     "output_type": "stream",
     "text": [
      "100%|██████████████████████████████████████████████████████████████████| 839/839 [00:42<00:00, 19.77it/s]\n",
      "100%|████████████████████████████████████████████████████████████████████| 43/43 [00:00<00:00, 44.52it/s]\n"
     ]
    },
    {
     "name": "stdout",
     "output_type": "stream",
     "text": [
      "Epoch [29/60]\n",
      "Train Loss: 0.031\n",
      "Val Loss: 0.0297\n"
     ]
    },
    {
     "name": "stderr",
     "output_type": "stream",
     "text": [
      "100%|██████████████████████████████████████████████████████████████████| 839/839 [00:42<00:00, 19.60it/s]\n",
      "100%|████████████████████████████████████████████████████████████████████| 43/43 [00:00<00:00, 48.75it/s]\n"
     ]
    },
    {
     "name": "stdout",
     "output_type": "stream",
     "text": [
      "Epoch [30/60]\n",
      "Train Loss: 0.0309\n",
      "Val Loss: 0.0296\n"
     ]
    },
    {
     "name": "stderr",
     "output_type": "stream",
     "text": [
      "100%|██████████████████████████████████████████████████████████████████| 839/839 [00:42<00:00, 19.71it/s]\n",
      "100%|████████████████████████████████████████████████████████████████████| 43/43 [00:00<00:00, 44.67it/s]\n"
     ]
    },
    {
     "name": "stdout",
     "output_type": "stream",
     "text": [
      "Epoch [31/60]\n",
      "Train Loss: 0.0308\n",
      "Val Loss: 0.0296\n"
     ]
    },
    {
     "name": "stderr",
     "output_type": "stream",
     "text": [
      "100%|██████████████████████████████████████████████████████████████████| 839/839 [00:42<00:00, 19.69it/s]\n",
      "100%|████████████████████████████████████████████████████████████████████| 43/43 [00:00<00:00, 45.89it/s]\n"
     ]
    },
    {
     "name": "stdout",
     "output_type": "stream",
     "text": [
      "Epoch [32/60]\n",
      "Train Loss: 0.0308\n",
      "Val Loss: 0.0295\n"
     ]
    },
    {
     "name": "stderr",
     "output_type": "stream",
     "text": [
      "100%|██████████████████████████████████████████████████████████████████| 839/839 [00:42<00:00, 19.83it/s]\n",
      "100%|████████████████████████████████████████████████████████████████████| 43/43 [00:00<00:00, 44.29it/s]\n"
     ]
    },
    {
     "name": "stdout",
     "output_type": "stream",
     "text": [
      "Epoch [33/60]\n",
      "Train Loss: 0.0307\n",
      "Val Loss: 0.0293\n"
     ]
    },
    {
     "name": "stderr",
     "output_type": "stream",
     "text": [
      "100%|██████████████████████████████████████████████████████████████████| 839/839 [00:42<00:00, 19.74it/s]\n",
      "100%|████████████████████████████████████████████████████████████████████| 43/43 [00:00<00:00, 47.08it/s]\n"
     ]
    },
    {
     "name": "stdout",
     "output_type": "stream",
     "text": [
      "Epoch [34/60]\n",
      "Train Loss: 0.0306\n",
      "Val Loss: 0.0295\n"
     ]
    },
    {
     "name": "stderr",
     "output_type": "stream",
     "text": [
      "100%|██████████████████████████████████████████████████████████████████| 839/839 [00:42<00:00, 19.96it/s]\n",
      "100%|████████████████████████████████████████████████████████████████████| 43/43 [00:00<00:00, 45.62it/s]\n"
     ]
    },
    {
     "name": "stdout",
     "output_type": "stream",
     "text": [
      "Epoch [35/60]\n",
      "Train Loss: 0.0305\n",
      "Val Loss: 0.0295\n"
     ]
    },
    {
     "name": "stderr",
     "output_type": "stream",
     "text": [
      "100%|██████████████████████████████████████████████████████████████████| 839/839 [00:43<00:00, 19.50it/s]\n",
      "100%|████████████████████████████████████████████████████████████████████| 43/43 [00:00<00:00, 45.03it/s]\n"
     ]
    },
    {
     "name": "stdout",
     "output_type": "stream",
     "text": [
      "Epoch [36/60]\n",
      "Train Loss: 0.0305\n",
      "Val Loss: 0.0294\n"
     ]
    },
    {
     "name": "stderr",
     "output_type": "stream",
     "text": [
      "100%|██████████████████████████████████████████████████████████████████| 839/839 [00:43<00:00, 19.46it/s]\n",
      "100%|████████████████████████████████████████████████████████████████████| 43/43 [00:00<00:00, 45.80it/s]\n"
     ]
    },
    {
     "name": "stdout",
     "output_type": "stream",
     "text": [
      "Epoch [37/60]\n",
      "Train Loss: 0.0304\n",
      "Val Loss: 0.0295\n"
     ]
    },
    {
     "name": "stderr",
     "output_type": "stream",
     "text": [
      "100%|██████████████████████████████████████████████████████████████████| 839/839 [00:42<00:00, 19.62it/s]\n",
      "100%|████████████████████████████████████████████████████████████████████| 43/43 [00:00<00:00, 44.39it/s]\n"
     ]
    },
    {
     "name": "stdout",
     "output_type": "stream",
     "text": [
      "Epoch [38/60]\n",
      "Train Loss: 0.0303\n",
      "Val Loss: 0.0295\n"
     ]
    },
    {
     "name": "stderr",
     "output_type": "stream",
     "text": [
      "100%|██████████████████████████████████████████████████████████████████| 839/839 [00:43<00:00, 19.46it/s]\n",
      "100%|████████████████████████████████████████████████████████████████████| 43/43 [00:00<00:00, 58.71it/s]\n"
     ]
    },
    {
     "name": "stdout",
     "output_type": "stream",
     "text": [
      "Epoch [39/60]\n",
      "Train Loss: 0.0302\n",
      "Val Loss: 0.0293\n"
     ]
    },
    {
     "name": "stderr",
     "output_type": "stream",
     "text": [
      "100%|██████████████████████████████████████████████████████████████████| 839/839 [00:43<00:00, 19.32it/s]\n",
      "100%|████████████████████████████████████████████████████████████████████| 43/43 [00:00<00:00, 45.21it/s]\n"
     ]
    },
    {
     "name": "stdout",
     "output_type": "stream",
     "text": [
      "Epoch [40/60]\n",
      "Train Loss: 0.0301\n",
      "Val Loss: 0.0293\n"
     ]
    },
    {
     "name": "stderr",
     "output_type": "stream",
     "text": [
      "100%|██████████████████████████████████████████████████████████████████| 839/839 [00:42<00:00, 19.74it/s]\n",
      "100%|████████████████████████████████████████████████████████████████████| 43/43 [00:00<00:00, 44.40it/s]\n"
     ]
    },
    {
     "name": "stdout",
     "output_type": "stream",
     "text": [
      "Epoch [41/60]\n",
      "Train Loss: 0.0301\n",
      "Val Loss: 0.0294\n"
     ]
    },
    {
     "name": "stderr",
     "output_type": "stream",
     "text": [
      "100%|██████████████████████████████████████████████████████████████████| 839/839 [00:42<00:00, 19.65it/s]\n",
      "100%|████████████████████████████████████████████████████████████████████| 43/43 [00:00<00:00, 44.54it/s]\n"
     ]
    },
    {
     "name": "stdout",
     "output_type": "stream",
     "text": [
      "Epoch [42/60]\n",
      "Train Loss: 0.03\n",
      "Val Loss: 0.0294\n"
     ]
    },
    {
     "name": "stderr",
     "output_type": "stream",
     "text": [
      "100%|██████████████████████████████████████████████████████████████████| 839/839 [00:42<00:00, 19.63it/s]\n",
      "100%|████████████████████████████████████████████████████████████████████| 43/43 [00:00<00:00, 44.06it/s]\n"
     ]
    },
    {
     "name": "stdout",
     "output_type": "stream",
     "text": [
      "Epoch [43/60]\n",
      "Train Loss: 0.0299\n",
      "Val Loss: 0.0292\n"
     ]
    },
    {
     "name": "stderr",
     "output_type": "stream",
     "text": [
      "100%|██████████████████████████████████████████████████████████████████| 839/839 [00:42<00:00, 19.66it/s]\n",
      "100%|████████████████████████████████████████████████████████████████████| 43/43 [00:00<00:00, 44.36it/s]\n"
     ]
    },
    {
     "name": "stdout",
     "output_type": "stream",
     "text": [
      "Epoch [44/60]\n",
      "Train Loss: 0.0298\n",
      "Val Loss: 0.0292\n"
     ]
    },
    {
     "name": "stderr",
     "output_type": "stream",
     "text": [
      "100%|██████████████████████████████████████████████████████████████████| 839/839 [00:42<00:00, 19.81it/s]\n",
      "100%|████████████████████████████████████████████████████████████████████| 43/43 [00:00<00:00, 45.12it/s]\n"
     ]
    },
    {
     "name": "stdout",
     "output_type": "stream",
     "text": [
      "Epoch [45/60]\n",
      "Train Loss: 0.0297\n",
      "Val Loss: 0.0293\n"
     ]
    },
    {
     "name": "stderr",
     "output_type": "stream",
     "text": [
      "100%|██████████████████████████████████████████████████████████████████| 839/839 [00:43<00:00, 19.21it/s]\n",
      "100%|████████████████████████████████████████████████████████████████████| 43/43 [00:00<00:00, 43.31it/s]\n"
     ]
    },
    {
     "name": "stdout",
     "output_type": "stream",
     "text": [
      "Epoch [46/60]\n",
      "Train Loss: 0.0297\n",
      "Val Loss: 0.0293\n"
     ]
    },
    {
     "name": "stderr",
     "output_type": "stream",
     "text": [
      "100%|██████████████████████████████████████████████████████████████████| 839/839 [00:43<00:00, 19.37it/s]\n",
      "100%|████████████████████████████████████████████████████████████████████| 43/43 [00:00<00:00, 44.38it/s]\n"
     ]
    },
    {
     "name": "stdout",
     "output_type": "stream",
     "text": [
      "Epoch [47/60]\n",
      "Train Loss: 0.0296\n",
      "Val Loss: 0.0294\n"
     ]
    },
    {
     "name": "stderr",
     "output_type": "stream",
     "text": [
      "100%|██████████████████████████████████████████████████████████████████| 839/839 [00:43<00:00, 19.36it/s]\n",
      "100%|████████████████████████████████████████████████████████████████████| 43/43 [00:00<00:00, 44.63it/s]\n"
     ]
    },
    {
     "name": "stdout",
     "output_type": "stream",
     "text": [
      "Epoch [48/60]\n",
      "Train Loss: 0.0295\n",
      "Val Loss: 0.0294\n"
     ]
    },
    {
     "name": "stderr",
     "output_type": "stream",
     "text": [
      "100%|██████████████████████████████████████████████████████████████████| 839/839 [00:43<00:00, 19.44it/s]\n",
      "100%|████████████████████████████████████████████████████████████████████| 43/43 [00:00<00:00, 43.99it/s]\n"
     ]
    },
    {
     "name": "stdout",
     "output_type": "stream",
     "text": [
      "Epoch [49/60]\n",
      "Train Loss: 0.0295\n",
      "Val Loss: 0.0294\n"
     ]
    },
    {
     "name": "stderr",
     "output_type": "stream",
     "text": [
      "100%|██████████████████████████████████████████████████████████████████| 839/839 [00:42<00:00, 19.64it/s]\n",
      "100%|████████████████████████████████████████████████████████████████████| 43/43 [00:00<00:00, 44.40it/s]\n"
     ]
    },
    {
     "name": "stdout",
     "output_type": "stream",
     "text": [
      "Epoch [50/60]\n",
      "Train Loss: 0.0294\n",
      "Val Loss: 0.0292\n"
     ]
    },
    {
     "name": "stderr",
     "output_type": "stream",
     "text": [
      "100%|██████████████████████████████████████████████████████████████████| 839/839 [00:42<00:00, 19.85it/s]\n",
      "100%|████████████████████████████████████████████████████████████████████| 43/43 [00:00<00:00, 45.24it/s]\n"
     ]
    },
    {
     "name": "stdout",
     "output_type": "stream",
     "text": [
      "Epoch [51/60]\n",
      "Train Loss: 0.0293\n",
      "Val Loss: 0.0293\n"
     ]
    },
    {
     "name": "stderr",
     "output_type": "stream",
     "text": [
      "100%|██████████████████████████████████████████████████████████████████| 839/839 [00:42<00:00, 19.80it/s]\n",
      "100%|████████████████████████████████████████████████████████████████████| 43/43 [00:00<00:00, 45.75it/s]\n"
     ]
    },
    {
     "name": "stdout",
     "output_type": "stream",
     "text": [
      "Epoch [52/60]\n",
      "Train Loss: 0.0292\n",
      "Val Loss: 0.0292\n"
     ]
    },
    {
     "name": "stderr",
     "output_type": "stream",
     "text": [
      "100%|██████████████████████████████████████████████████████████████████| 839/839 [00:43<00:00, 19.48it/s]\n",
      "100%|████████████████████████████████████████████████████████████████████| 43/43 [00:00<00:00, 43.96it/s]\n"
     ]
    },
    {
     "name": "stdout",
     "output_type": "stream",
     "text": [
      "Epoch [53/60]\n",
      "Train Loss: 0.0291\n",
      "Val Loss: 0.0295\n"
     ]
    },
    {
     "name": "stderr",
     "output_type": "stream",
     "text": [
      "100%|██████████████████████████████████████████████████████████████████| 839/839 [00:43<00:00, 19.44it/s]\n",
      "100%|████████████████████████████████████████████████████████████████████| 43/43 [00:01<00:00, 42.75it/s]\n"
     ]
    },
    {
     "name": "stdout",
     "output_type": "stream",
     "text": [
      "Epoch [54/60]\n",
      "Train Loss: 0.0291\n",
      "Val Loss: 0.0293\n"
     ]
    },
    {
     "name": "stderr",
     "output_type": "stream",
     "text": [
      "100%|██████████████████████████████████████████████████████████████████| 839/839 [00:43<00:00, 19.30it/s]\n",
      "100%|████████████████████████████████████████████████████████████████████| 43/43 [00:00<00:00, 43.48it/s]\n"
     ]
    },
    {
     "name": "stdout",
     "output_type": "stream",
     "text": [
      "Epoch [55/60]\n",
      "Train Loss: 0.0289\n",
      "Val Loss: 0.0293\n"
     ]
    },
    {
     "name": "stderr",
     "output_type": "stream",
     "text": [
      "100%|██████████████████████████████████████████████████████████████████| 839/839 [00:43<00:00, 19.39it/s]\n",
      "100%|████████████████████████████████████████████████████████████████████| 43/43 [00:00<00:00, 43.38it/s]\n"
     ]
    },
    {
     "name": "stdout",
     "output_type": "stream",
     "text": [
      "Epoch [56/60]\n",
      "Train Loss: 0.0289\n",
      "Val Loss: 0.0294\n"
     ]
    },
    {
     "name": "stderr",
     "output_type": "stream",
     "text": [
      "100%|██████████████████████████████████████████████████████████████████| 839/839 [00:43<00:00, 19.31it/s]\n",
      "100%|████████████████████████████████████████████████████████████████████| 43/43 [00:00<00:00, 43.51it/s]\n"
     ]
    },
    {
     "name": "stdout",
     "output_type": "stream",
     "text": [
      "Epoch [57/60]\n",
      "Train Loss: 0.0288\n",
      "Val Loss: 0.0295\n"
     ]
    },
    {
     "name": "stderr",
     "output_type": "stream",
     "text": [
      "100%|██████████████████████████████████████████████████████████████████| 839/839 [00:43<00:00, 19.32it/s]\n",
      "100%|████████████████████████████████████████████████████████████████████| 43/43 [00:00<00:00, 43.71it/s]\n"
     ]
    },
    {
     "name": "stdout",
     "output_type": "stream",
     "text": [
      "Epoch [58/60]\n",
      "Train Loss: 0.0287\n",
      "Val Loss: 0.0292\n"
     ]
    },
    {
     "name": "stderr",
     "output_type": "stream",
     "text": [
      "100%|██████████████████████████████████████████████████████████████████| 839/839 [00:42<00:00, 19.74it/s]\n",
      "100%|████████████████████████████████████████████████████████████████████| 43/43 [00:00<00:00, 43.32it/s]\n"
     ]
    },
    {
     "name": "stdout",
     "output_type": "stream",
     "text": [
      "Epoch [59/60]\n",
      "Train Loss: 0.0286\n",
      "Val Loss: 0.0293\n"
     ]
    },
    {
     "name": "stderr",
     "output_type": "stream",
     "text": [
      "100%|██████████████████████████████████████████████████████████████████| 839/839 [00:43<00:00, 19.26it/s]\n",
      "100%|████████████████████████████████████████████████████████████████████| 43/43 [00:00<00:00, 45.27it/s]"
     ]
    },
    {
     "name": "stdout",
     "output_type": "stream",
     "text": [
      "Epoch [60/60]\n",
      "Train Loss: 0.0286\n",
      "Val Loss: 0.0292\n"
     ]
    },
    {
     "name": "stderr",
     "output_type": "stream",
     "text": [
      "\n"
     ]
    }
   ],
   "source": [
    "# model_name = input(\"Input proper model name:\\t\")\n",
    "model_name = '07_09_T2'\n",
    "\n",
    "val_min_loss = None\n",
    "\n",
    "history = []\n",
    "\n",
    "for epoch_index in range(NUM_EPOCHS):\n",
    "    shuffle(X_train, x_train, y_train)\n",
    "    \n",
    "    running_loss_train = 0.0\n",
    "    model.train()\n",
    "\n",
    "    for batch_index in tqdm(range(len(X_train)//BATCH_SIZE)):\n",
    "        X_train_batch = []\n",
    "        x_train_batch = []\n",
    "        y_train_batch = []\n",
    "        \n",
    "        for item_index in range(BATCH_SIZE):\n",
    "            X_train_batch.append(X_train[BATCH_SIZE*batch_index + item_index])\n",
    "            x_train_batch.append(x_train[BATCH_SIZE*batch_index + item_index])\n",
    "            y_train_batch.append(y_train[BATCH_SIZE*batch_index + item_index])\n",
    "            \n",
    "        optimizer.zero_grad()\n",
    "        y_train_prediction = model(X_train_batch, x_train_batch)\n",
    "        \n",
    "        y_train_batch = torch.from_numpy(np.stack(y_train_batch)).to(dtype=torch.float32, device=DEVICE)\n",
    "        loss = criterion(y_train_batch.view(-1, 1), y_train_prediction)\n",
    "        \n",
    "        loss.backward()\n",
    "        optimizer.step()\n",
    "        \n",
    "        running_loss_train += loss.item()\n",
    "    \n",
    "    mean_train_loss = running_loss_train / (len(X_train) / BATCH_SIZE)\n",
    "    \n",
    "    \n",
    "    with torch.no_grad():\n",
    "        \n",
    "        running_loss_val = 0.0\n",
    "        model.eval()\n",
    "        for batch_index in tqdm(range(len(X_val)//BATCH_SIZE)):\n",
    "            X_val_batch = []\n",
    "            x_val_batch = []\n",
    "            y_val_batch = []\n",
    "\n",
    "            for item_index in range(BATCH_SIZE):\n",
    "\n",
    "                X_val_batch.append(X_val[BATCH_SIZE*batch_index + item_index])\n",
    "                x_val_batch.append(x_val[BATCH_SIZE*batch_index + item_index])\n",
    "                y_val_batch.append(y_val[BATCH_SIZE*batch_index + item_index])\n",
    "\n",
    "            \n",
    "            y_val_batch = torch.from_numpy(np.stack(y_val_batch)).to(dtype=torch.float32, device=DEVICE)\n",
    "            y_val_prediction = model(X_val_batch, x_val_batch)\n",
    "            loss = criterion(y_val_batch.view(-1, 1), y_val_prediction)\n",
    "            \n",
    "            running_loss_val += loss.item()\n",
    "        mean_val_loss = running_loss_val / (len(X_val) / BATCH_SIZE)\n",
    "        \n",
    "        \n",
    "    if val_min_loss is None:\n",
    "        val_min_loss = mean_val_loss\n",
    "    elif mean_val_loss < val_min_loss:\n",
    "        val_min_loss = mean_val_loss\n",
    "        torch.save(model.state_dict(), f\"./models/{model_name}.pth\")\n",
    "        \n",
    "    history.append([mean_train_loss, mean_val_loss])\n",
    "    print(\n",
    "        f\"Epoch [{epoch_index+1}/{NUM_EPOCHS}]\\nTrain Loss: {round(mean_train_loss, 4)}\\nVal Loss: {round(mean_val_loss, 4)}\"\n",
    "    )        "
   ]
  },
  {
   "cell_type": "code",
   "execution_count": 17,
   "id": "fcc1a85a",
   "metadata": {},
   "outputs": [
    {
     "data": {
      "image/png": "[encoded data removed]",
      "text/plain": [
       "<Figure size 640x480 with 1 Axes>"
      ]
     },
     "metadata": {},
     "output_type": "display_data"
    }
   ],
   "source": [
    "plt.plot(history)\n",
    "plt.legend([\"train\", \"val\"]);"
   ]
  },
  {
   "cell_type": "markdown",
   "id": "b3df1139",
   "metadata": {},
   "source": [
    "### Evaluation"
   ]
  },
  {
   "cell_type": "code",
   "execution_count": 18,
   "id": "602413bc",
   "metadata": {},
   "outputs": [],
   "source": [
    "model.load_state_dict(torch.load(f\"./models/{model_name}.pth\"))\n",
    "model.eval()\n",
    "prediction = model(X_val, x_val).detach().cpu().numpy()[..., 0]\n",
    "ground_truth = np.array(y_val)"
   ]
  },
  {
   "cell_type": "code",
   "execution_count": 19,
   "id": "04a2c8f4",
   "metadata": {},
   "outputs": [
    {
     "name": "stdout",
     "output_type": "stream",
     "text": [
      "0.1318\n"
     ]
    }
   ],
   "source": [
    "# MAE\n",
    "print(np.abs(prediction - ground_truth).mean().round(4))"
   ]
  },
  {
   "cell_type": "code",
   "execution_count": 20,
   "id": "00482a11",
   "metadata": {},
   "outputs": [
    {
     "data": {
      "text/plain": [
       "0.0297"
      ]
     },
     "execution_count": 20,
     "metadata": {},
     "output_type": "execute_result"
    }
   ],
   "source": [
    "# MSE\n",
    "np.round((criterion(torch.from_numpy(prediction[..., None]), torch.from_numpy(ground_truth[..., None])).item()), 4)"
   ]
  },
  {
   "cell_type": "code",
   "execution_count": 21,
   "id": "8ed39f12",
   "metadata": {},
   "outputs": [
    {
     "data": {
      "image/png": "[encoded data removed]",
      "text/plain": [
       "<Figure size 640x480 with 1 Axes>"
      ]
     },
     "metadata": {},
     "output_type": "display_data"
    }
   ],
   "source": [
    "# KDE plot\n",
    "sns.kdeplot([ground_truth, prediction])\n",
    "plt.legend([\"Ground truth\", \"Prediction\"]);"
   ]
  },
  {
   "cell_type": "code",
   "execution_count": 22,
   "id": "0ce5f55d",
   "metadata": {
    "scrolled": false
   },
   "outputs": [
    {
     "data": {
      "image/png": "[encoded data removed]",
      "text/plain": [
       "<Figure size 800x600 with 1 Axes>"
      ]
     },
     "metadata": {},
     "output_type": "display_data"
    }
   ],
   "source": [
    "# Scatter plot\n",
    "\n",
    "# Create a diagonal line for y = x\n",
    "x_values = np.linspace(\n",
    "    min(prediction.min(), ground_truth.min()),\n",
    "    max(prediction.max(), ground_truth.max()),\n",
    "    100,\n",
    ")\n",
    "y_values = x_values\n",
    "\n",
    "# Plot the scatter plot\n",
    "plt.figure(figsize=(8, 6))\n",
    "sns.scatterplot(x=ground_truth, y=prediction)\n",
    "\n",
    "# Plot the diagonal line\n",
    "plt.plot(x_values, y_values, color=\"red\", linestyle=\"dashed\", label=\"y = x\")\n",
    "\n",
    "# Set labels and title\n",
    "plt.xlabel(\"Ground Truth\")\n",
    "plt.ylabel(\"Predictions\")\n",
    "plt.title(\"Scatter plot - Predictions vs. Ground Truth\")\n",
    "\n",
    "# Show the plot\n",
    "plt.legend()\n",
    "plt.show()"
   ]
  },
  {
   "cell_type": "code",
   "execution_count": null,
   "id": "0acddfb1",
   "metadata": {},
   "outputs": [],
   "source": []
  },
  {
   "cell_type": "code",
   "execution_count": null,
   "id": "90639cf7",
   "metadata": {},
   "outputs": [],
   "source": []
  }
 ],
 "metadata": {
  "kernelspec": {
   "display_name": "Python 3 (ipykernel)",
   "language": "python",
   "name": "python3"
  },
  "language_info": {
   "codemirror_mode": {
    "name": "ipython",
    "version": 3
   },
   "file_extension": ".py",
   "mimetype": "text/x-python",
   "name": "python",
   "nbconvert_exporter": "python",
   "pygments_lexer": "ipython3",
   "version": "3.9.12"
  }
 },
 "nbformat": 4,
 "nbformat_minor": 5
}
