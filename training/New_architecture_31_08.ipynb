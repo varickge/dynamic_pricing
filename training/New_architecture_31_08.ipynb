{
 "cells": [
  {
   "cell_type": "code",
   "execution_count": 1,
   "id": "a5932b18",
   "metadata": {},
   "outputs": [],
   "source": [
    "from utils import *\n",
    "import pickle"
   ]
  },
  {
   "cell_type": "code",
   "execution_count": 2,
   "id": "ead2adbb",
   "metadata": {},
   "outputs": [],
   "source": [
    "class PointwiseLinear(torch.nn.Module):\n",
    "    def __init__(self, input_feature_dim, output_feature_dim):\n",
    "        super().__init__()\n",
    "        # 1 is for broadcasting\n",
    "        self.W1 = torch.nn.Parameter(torch.rand(output_feature_dim, 1, input_feature_dim))\n",
    "        self.W2 = torch.nn.Parameter(torch.rand(output_feature_dim, 1, input_feature_dim // 2))\n",
    "        self.W3 = torch.nn.Parameter(torch.rand(output_feature_dim, 1, input_feature_dim // 4))\n",
    "#         self.W1 = torch.nn.Parameter(torch.rand(output_feature_dim, 1, input_feature_dim))\n",
    "#         self.W2 = torch.nn.Parameter(torch.rand(output_feature_dim, 1, output_feature_dim * 4))\n",
    "#         self.W3 = torch.nn.Parameter(torch.rand(output_feature_dim, 1, output_feature_dim * 2))\n",
    "        \n",
    "        torch.nn.init.xavier_uniform_(self.W1)\n",
    "        torch.nn.init.xavier_uniform_(self.W2)\n",
    "        torch.nn.init.xavier_uniform_(self.W3)\n",
    "        \n",
    "        self.fc1 = torch.nn.Linear(input_feature_dim, input_feature_dim // 2)\n",
    "        self.fc2 = torch.nn.Linear(input_feature_dim // 2, input_feature_dim // 4)\n",
    "        self.fc3 = torch.nn.Linear(input_feature_dim // 4, input_feature_dim // 8)\n",
    "#         self.fc1 = torch.nn.Linear(input_feature_dim, output_feature_dim * 4)\n",
    "#         self.fc2 = torch.nn.Linear(output_feature_dim * 4, output_feature_dim * 2)\n",
    "#         self.fc3 = torch.nn.Linear(output_feature_dim * 2, output_feature_dim)\n",
    "        \n",
    "        self.relu = nn.ReLU()\n",
    "    \n",
    "    def forward(self, x):\n",
    "        out = self.relu(self.W1 * x) #().mean(dim=(-2, -1))\n",
    "        out = self.fc1(out)\n",
    "        out = self.relu(self.W2 * out)\n",
    "        out = self.fc2(out)\n",
    "        out = self.relu(self.W3 * out)\n",
    "        out = (self.fc3(out)).mean(dim=(-2, -1))\n",
    "        \n",
    "        return out"
   ]
  },
  {
   "cell_type": "code",
   "execution_count": 3,
   "id": "ab7f3c52",
   "metadata": {},
   "outputs": [],
   "source": [
    "class LSTMModel(nn.Module):\n",
    "    \n",
    "    def __init__(self, input_size, hidden_size, num_layers, output_size):\n",
    "        \n",
    "        super(LSTMModel, self).__init__()\n",
    "        \n",
    "        self.input_size = input_size\n",
    "        self.hidden_size = hidden_size\n",
    "        self.num_layers = num_layers\n",
    "        self.output_size = output_size\n",
    "        \n",
    "        self.lstm = nn.LSTM(\n",
    "            16,\n",
    "            self.hidden_size,\n",
    "            self.num_layers,\n",
    "            batch_first=True,\n",
    "            bias=True,\n",
    "            dropout=0.0,\n",
    "        )\n",
    "        \n",
    "        self.feature_extractor = PointwiseLinear(self.input_size, 16)\n",
    "        self.fc_1 = nn.Linear(self.hidden_size + 9, self.hidden_size)\n",
    "        \n",
    "        #TODO: reduce the size of the dense net below\n",
    "        self.fc_2 = nn.Sequential(\n",
    "            nn.Linear(self.hidden_size // 1, self.hidden_size // 2),\n",
    "            nn.LeakyReLU(),\n",
    "            nn.BatchNorm1d(self.hidden_size // 2),\n",
    "            nn.Dropout1d(0.05),\n",
    "            nn.Linear(self.hidden_size // 2, self.hidden_size // 4),\n",
    "            nn.LeakyReLU(),\n",
    "            nn.Dropout1d(0.05),\n",
    "            nn.Linear(self.hidden_size // 4, self.hidden_size // 8),\n",
    "            nn.LeakyReLU(),\n",
    "            nn.Dropout1d(0.05),\n",
    "            nn.Linear(self.hidden_size // 8, self.output_size),\n",
    "        )\n",
    "\n",
    "\n",
    "    def forward(self, x, x_target):\n",
    "        \n",
    "        # B x T x N x F\n",
    "        \n",
    "        B = len(x)\n",
    "        T = len(x[0])\n",
    "        \n",
    "        features = []\n",
    "        \n",
    "        for i in range(B):\n",
    "            \n",
    "            time_features = []\n",
    "            \n",
    "            #TODO: do not loop over time axis, pad the N axis :D\n",
    "            for j in range(T):\n",
    "                extracted_features = self.feature_extractor(torch.from_numpy(x[i][j].astype(np.float32)).to(dtype=torch.float32, device=DEVICE))\n",
    "                time_features.append(extracted_features)\n",
    "            \n",
    "            time_features = torch.stack(time_features, dim=0)\n",
    "            features.append(time_features)\n",
    "        \n",
    "        features = torch.stack(features, dim=0)\n",
    "        lstm_features, _ = self.lstm(features)\n",
    "        lstm_features = lstm_features[:, -1, ...]\n",
    "        \n",
    "        x_target = torch.from_numpy(np.stack(x_target).astype(np.float32)).to(dtype=torch.float32, device=DEVICE)\n",
    "        combined_features = torch.cat([lstm_features, x_target], dim=-1)\n",
    "            \n",
    "        \n",
    "        out = self.fc_1(combined_features)\n",
    "        out = self.fc_2(out)\n",
    "        \n",
    "        return out"
   ]
  },
  {
   "cell_type": "code",
   "execution_count": 4,
   "id": "eebf85b3",
   "metadata": {},
   "outputs": [],
   "source": [
    "model = LSTMModel(input_size=78, hidden_size=512, num_layers=5, output_size=1).to(DEVICE)"
   ]
  },
  {
   "cell_type": "code",
   "execution_count": 5,
   "id": "cfe3be99",
   "metadata": {},
   "outputs": [],
   "source": [
    "with open('./data/X_train_lstm_new_arch_new_algo_200.pt', 'rb') as file:\n",
    "    X_train = pickle.load(file)\n",
    "    \n",
    "with open('./data/x_train_lstm_new_arch_new_algo_200.pt', 'rb') as file:\n",
    "    x_train = pickle.load(file)\n",
    "    \n",
    "with open('./data/y_train_lstm_new_arch_new_algo_200.pt', 'rb') as file:\n",
    "    y_train = pickle.load(file)    "
   ]
  },
  {
   "cell_type": "code",
   "execution_count": 6,
   "id": "dbb3a6c5",
   "metadata": {},
   "outputs": [],
   "source": [
    "with open('./data/X_val_lstm_new_arch_new_algo_200.pt', 'rb') as file:\n",
    "    X_val = pickle.load(file)\n",
    "    \n",
    "with open('./data/x_val_lstm_new_arch_new_algo_200.pt', 'rb') as file:\n",
    "    x_val = pickle.load(file)\n",
    "    \n",
    "with open('./data/y_val_lstm_new_arch_new_algo_200.pt', 'rb') as file:\n",
    "    y_val = pickle.load(file)    "
   ]
  },
  {
   "cell_type": "code",
   "execution_count": 7,
   "id": "879ca72f",
   "metadata": {},
   "outputs": [],
   "source": [
    "indices = list(range(len(X_train)))"
   ]
  },
  {
   "cell_type": "code",
   "execution_count": 8,
   "id": "53a8996b",
   "metadata": {},
   "outputs": [],
   "source": [
    "BATCH_SIZE = 32\n",
    "NUM_EPOCHS = 40"
   ]
  },
  {
   "cell_type": "code",
   "execution_count": 9,
   "id": "8924bdeb",
   "metadata": {},
   "outputs": [],
   "source": [
    "criterion = nn.MSELoss()\n",
    "optimizer = optim.Adam(model.parameters(), lr=3e-4)"
   ]
  },
  {
   "cell_type": "code",
   "execution_count": 10,
   "id": "0d251f0e",
   "metadata": {
    "scrolled": true
   },
   "outputs": [
    {
     "name": "stdout",
     "output_type": "stream",
     "text": [
      "Input proper model name:\ttest_08\n"
     ]
    },
    {
     "name": "stderr",
     "output_type": "stream",
     "text": [
      "100%|████████████████████████████████████████████████████████████████| 1678/1678 [02:19<00:00, 11.99it/s]\n",
      "100%|████████████████████████████████████████████████████████████████████| 87/87 [00:02<00:00, 35.39it/s]\n"
     ]
    },
    {
     "name": "stdout",
     "output_type": "stream",
     "text": [
      "Epoch [1/40]\n",
      "Train Loss: 0.045\n",
      "Val Loss: 0.034\n"
     ]
    },
    {
     "name": "stderr",
     "output_type": "stream",
     "text": [
      "100%|████████████████████████████████████████████████████████████████| 1678/1678 [02:21<00:00, 11.89it/s]\n",
      "100%|████████████████████████████████████████████████████████████████████| 87/87 [00:02<00:00, 35.29it/s]\n"
     ]
    },
    {
     "name": "stdout",
     "output_type": "stream",
     "text": [
      "Epoch [2/40]\n",
      "Train Loss: 0.0412\n",
      "Val Loss: 0.0336\n"
     ]
    },
    {
     "name": "stderr",
     "output_type": "stream",
     "text": [
      "100%|████████████████████████████████████████████████████████████████| 1678/1678 [02:32<00:00, 11.00it/s]\n",
      "100%|████████████████████████████████████████████████████████████████████| 87/87 [00:02<00:00, 35.00it/s]\n"
     ]
    },
    {
     "name": "stdout",
     "output_type": "stream",
     "text": [
      "Epoch [3/40]\n",
      "Train Loss: 0.0408\n",
      "Val Loss: 0.0339\n"
     ]
    },
    {
     "name": "stderr",
     "output_type": "stream",
     "text": [
      "100%|████████████████████████████████████████████████████████████████| 1678/1678 [02:29<00:00, 11.20it/s]\n",
      "100%|████████████████████████████████████████████████████████████████████| 87/87 [00:02<00:00, 35.85it/s]\n"
     ]
    },
    {
     "name": "stdout",
     "output_type": "stream",
     "text": [
      "Epoch [4/40]\n",
      "Train Loss: 0.0402\n",
      "Val Loss: 0.0333\n"
     ]
    },
    {
     "name": "stderr",
     "output_type": "stream",
     "text": [
      "100%|████████████████████████████████████████████████████████████████| 1678/1678 [02:31<00:00, 11.07it/s]\n",
      "100%|████████████████████████████████████████████████████████████████████| 87/87 [00:02<00:00, 35.35it/s]\n"
     ]
    },
    {
     "name": "stdout",
     "output_type": "stream",
     "text": [
      "Epoch [5/40]\n",
      "Train Loss: 0.0401\n",
      "Val Loss: 0.0326\n"
     ]
    },
    {
     "name": "stderr",
     "output_type": "stream",
     "text": [
      "100%|████████████████████████████████████████████████████████████████| 1678/1678 [02:26<00:00, 11.46it/s]\n",
      "100%|████████████████████████████████████████████████████████████████████| 87/87 [00:02<00:00, 35.42it/s]\n"
     ]
    },
    {
     "name": "stdout",
     "output_type": "stream",
     "text": [
      "Epoch [6/40]\n",
      "Train Loss: 0.0401\n",
      "Val Loss: 0.0324\n"
     ]
    },
    {
     "name": "stderr",
     "output_type": "stream",
     "text": [
      "100%|████████████████████████████████████████████████████████████████| 1678/1678 [02:20<00:00, 11.93it/s]\n",
      "100%|████████████████████████████████████████████████████████████████████| 87/87 [00:02<00:00, 36.03it/s]\n"
     ]
    },
    {
     "name": "stdout",
     "output_type": "stream",
     "text": [
      "Epoch [7/40]\n",
      "Train Loss: 0.0394\n",
      "Val Loss: 0.0323\n"
     ]
    },
    {
     "name": "stderr",
     "output_type": "stream",
     "text": [
      "100%|████████████████████████████████████████████████████████████████| 1678/1678 [02:16<00:00, 12.25it/s]\n",
      "100%|████████████████████████████████████████████████████████████████████| 87/87 [00:02<00:00, 36.09it/s]\n"
     ]
    },
    {
     "name": "stdout",
     "output_type": "stream",
     "text": [
      "Epoch [8/40]\n",
      "Train Loss: 0.0395\n",
      "Val Loss: 0.0326\n"
     ]
    },
    {
     "name": "stderr",
     "output_type": "stream",
     "text": [
      "100%|████████████████████████████████████████████████████████████████| 1678/1678 [02:28<00:00, 11.33it/s]\n",
      "100%|████████████████████████████████████████████████████████████████████| 87/87 [00:05<00:00, 15.28it/s]\n"
     ]
    },
    {
     "name": "stdout",
     "output_type": "stream",
     "text": [
      "Epoch [9/40]\n",
      "Train Loss: 0.0396\n",
      "Val Loss: 0.0322\n"
     ]
    },
    {
     "name": "stderr",
     "output_type": "stream",
     "text": [
      "100%|████████████████████████████████████████████████████████████████| 1678/1678 [03:46<00:00,  7.39it/s]\n",
      "100%|████████████████████████████████████████████████████████████████████| 87/87 [00:05<00:00, 15.55it/s]\n"
     ]
    },
    {
     "name": "stdout",
     "output_type": "stream",
     "text": [
      "Epoch [10/40]\n",
      "Train Loss: 0.0397\n",
      "Val Loss: 0.0314\n"
     ]
    },
    {
     "name": "stderr",
     "output_type": "stream",
     "text": [
      "100%|████████████████████████████████████████████████████████████████| 1678/1678 [03:46<00:00,  7.41it/s]\n",
      "100%|████████████████████████████████████████████████████████████████████| 87/87 [00:05<00:00, 15.81it/s]\n"
     ]
    },
    {
     "name": "stdout",
     "output_type": "stream",
     "text": [
      "Epoch [11/40]\n",
      "Train Loss: 0.039\n",
      "Val Loss: 0.032\n"
     ]
    },
    {
     "name": "stderr",
     "output_type": "stream",
     "text": [
      "100%|████████████████████████████████████████████████████████████████| 1678/1678 [03:50<00:00,  7.29it/s]\n",
      "100%|████████████████████████████████████████████████████████████████████| 87/87 [00:05<00:00, 15.14it/s]\n"
     ]
    },
    {
     "name": "stdout",
     "output_type": "stream",
     "text": [
      "Epoch [12/40]\n",
      "Train Loss: 0.0392\n",
      "Val Loss: 0.0316\n"
     ]
    },
    {
     "name": "stderr",
     "output_type": "stream",
     "text": [
      "100%|████████████████████████████████████████████████████████████████| 1678/1678 [03:51<00:00,  7.26it/s]\n",
      "100%|████████████████████████████████████████████████████████████████████| 87/87 [00:05<00:00, 15.59it/s]\n"
     ]
    },
    {
     "name": "stdout",
     "output_type": "stream",
     "text": [
      "Epoch [13/40]\n",
      "Train Loss: 0.0391\n",
      "Val Loss: 0.0319\n"
     ]
    },
    {
     "name": "stderr",
     "output_type": "stream",
     "text": [
      "100%|████████████████████████████████████████████████████████████████| 1678/1678 [03:45<00:00,  7.43it/s]\n",
      "100%|████████████████████████████████████████████████████████████████████| 87/87 [00:02<00:00, 36.51it/s]\n"
     ]
    },
    {
     "name": "stdout",
     "output_type": "stream",
     "text": [
      "Epoch [14/40]\n",
      "Train Loss: 0.0385\n",
      "Val Loss: 0.0325\n"
     ]
    },
    {
     "name": "stderr",
     "output_type": "stream",
     "text": [
      "100%|████████████████████████████████████████████████████████████████| 1678/1678 [02:17<00:00, 12.20it/s]\n",
      "100%|████████████████████████████████████████████████████████████████████| 87/87 [00:02<00:00, 36.25it/s]\n"
     ]
    },
    {
     "name": "stdout",
     "output_type": "stream",
     "text": [
      "Epoch [15/40]\n",
      "Train Loss: 0.0388\n",
      "Val Loss: 0.0321\n"
     ]
    },
    {
     "name": "stderr",
     "output_type": "stream",
     "text": [
      "100%|████████████████████████████████████████████████████████████████| 1678/1678 [03:10<00:00,  8.82it/s]\n",
      "100%|████████████████████████████████████████████████████████████████████| 87/87 [00:05<00:00, 15.87it/s]\n"
     ]
    },
    {
     "name": "stdout",
     "output_type": "stream",
     "text": [
      "Epoch [16/40]\n",
      "Train Loss: 0.0388\n",
      "Val Loss: 0.0319\n"
     ]
    },
    {
     "name": "stderr",
     "output_type": "stream",
     "text": [
      "100%|████████████████████████████████████████████████████████████████| 1678/1678 [03:17<00:00,  8.49it/s]\n",
      "100%|████████████████████████████████████████████████████████████████████| 87/87 [00:02<00:00, 36.23it/s]\n"
     ]
    },
    {
     "name": "stdout",
     "output_type": "stream",
     "text": [
      "Epoch [17/40]\n",
      "Train Loss: 0.0386\n",
      "Val Loss: 0.0316\n"
     ]
    },
    {
     "name": "stderr",
     "output_type": "stream",
     "text": [
      "100%|████████████████████████████████████████████████████████████████| 1678/1678 [03:28<00:00,  8.04it/s]\n",
      "100%|████████████████████████████████████████████████████████████████████| 87/87 [00:05<00:00, 15.67it/s]\n"
     ]
    },
    {
     "name": "stdout",
     "output_type": "stream",
     "text": [
      "Epoch [18/40]\n",
      "Train Loss: 0.0383\n",
      "Val Loss: 0.032\n"
     ]
    },
    {
     "name": "stderr",
     "output_type": "stream",
     "text": [
      "100%|████████████████████████████████████████████████████████████████| 1678/1678 [03:49<00:00,  7.31it/s]\n",
      "100%|████████████████████████████████████████████████████████████████████| 87/87 [00:05<00:00, 15.92it/s]\n"
     ]
    },
    {
     "name": "stdout",
     "output_type": "stream",
     "text": [
      "Epoch [19/40]\n",
      "Train Loss: 0.0381\n",
      "Val Loss: 0.0318\n"
     ]
    },
    {
     "name": "stderr",
     "output_type": "stream",
     "text": [
      "100%|████████████████████████████████████████████████████████████████| 1678/1678 [03:28<00:00,  8.04it/s]\n",
      "100%|████████████████████████████████████████████████████████████████████| 87/87 [00:02<00:00, 34.41it/s]\n"
     ]
    },
    {
     "name": "stdout",
     "output_type": "stream",
     "text": [
      "Epoch [20/40]\n",
      "Train Loss: 0.0381\n",
      "Val Loss: 0.0317\n"
     ]
    },
    {
     "name": "stderr",
     "output_type": "stream",
     "text": [
      "100%|████████████████████████████████████████████████████████████████| 1678/1678 [02:18<00:00, 12.15it/s]\n",
      "100%|████████████████████████████████████████████████████████████████████| 87/87 [00:02<00:00, 36.21it/s]\n"
     ]
    },
    {
     "name": "stdout",
     "output_type": "stream",
     "text": [
      "Epoch [21/40]\n",
      "Train Loss: 0.0378\n",
      "Val Loss: 0.0318\n"
     ]
    },
    {
     "name": "stderr",
     "output_type": "stream",
     "text": [
      "100%|████████████████████████████████████████████████████████████████| 1678/1678 [02:17<00:00, 12.18it/s]\n",
      "100%|████████████████████████████████████████████████████████████████████| 87/87 [00:02<00:00, 35.96it/s]\n"
     ]
    },
    {
     "name": "stdout",
     "output_type": "stream",
     "text": [
      "Epoch [22/40]\n",
      "Train Loss: 0.0378\n",
      "Val Loss: 0.0314\n"
     ]
    },
    {
     "name": "stderr",
     "output_type": "stream",
     "text": [
      "100%|████████████████████████████████████████████████████████████████| 1678/1678 [03:25<00:00,  8.16it/s]\n",
      "100%|████████████████████████████████████████████████████████████████████| 87/87 [00:05<00:00, 16.48it/s]\n"
     ]
    },
    {
     "name": "stdout",
     "output_type": "stream",
     "text": [
      "Epoch [23/40]\n",
      "Train Loss: 0.0379\n",
      "Val Loss: 0.0318\n"
     ]
    },
    {
     "name": "stderr",
     "output_type": "stream",
     "text": [
      " 85%|██████████████████████████████████████████████████████▏         | 1420/1678 [03:17<00:35,  7.20it/s]\n"
     ]
    },
    {
     "ename": "KeyboardInterrupt",
     "evalue": "",
     "output_type": "error",
     "traceback": [
      "\u001b[0;31m---------------------------------------------------------------------------\u001b[0m",
      "\u001b[0;31mKeyboardInterrupt\u001b[0m                         Traceback (most recent call last)",
      "Cell \u001b[0;32mIn[10], line 23\u001b[0m\n\u001b[1;32m     20\u001b[0m     y_train_batch\u001b[38;5;241m.\u001b[39mappend(y_train[BATCH_SIZE\u001b[38;5;241m*\u001b[39mbatch_index \u001b[38;5;241m+\u001b[39m item_index])\n\u001b[1;32m     22\u001b[0m optimizer\u001b[38;5;241m.\u001b[39mzero_grad()\n\u001b[0;32m---> 23\u001b[0m y_train_prediction \u001b[38;5;241m=\u001b[39m \u001b[43mmodel\u001b[49m\u001b[43m(\u001b[49m\u001b[43mX_train_batch\u001b[49m\u001b[43m,\u001b[49m\u001b[43m \u001b[49m\u001b[43mx_train_batch\u001b[49m\u001b[43m)\u001b[49m\n\u001b[1;32m     25\u001b[0m y_train_batch \u001b[38;5;241m=\u001b[39m torch\u001b[38;5;241m.\u001b[39mfrom_numpy(np\u001b[38;5;241m.\u001b[39mstack(y_train_batch))\u001b[38;5;241m.\u001b[39mto(dtype\u001b[38;5;241m=\u001b[39mtorch\u001b[38;5;241m.\u001b[39mfloat32, device\u001b[38;5;241m=\u001b[39mDEVICE)\n\u001b[1;32m     26\u001b[0m loss \u001b[38;5;241m=\u001b[39m criterion(y_train_batch\u001b[38;5;241m.\u001b[39mview(\u001b[38;5;241m-\u001b[39m\u001b[38;5;241m1\u001b[39m, \u001b[38;5;241m1\u001b[39m), y_train_prediction)\n",
      "File \u001b[0;32m~/anaconda3/envs/RL_vs/lib/python3.9/site-packages/torch/nn/modules/module.py:1501\u001b[0m, in \u001b[0;36mModule._call_impl\u001b[0;34m(self, *args, **kwargs)\u001b[0m\n\u001b[1;32m   1496\u001b[0m \u001b[38;5;66;03m# If we don't have any hooks, we want to skip the rest of the logic in\u001b[39;00m\n\u001b[1;32m   1497\u001b[0m \u001b[38;5;66;03m# this function, and just call forward.\u001b[39;00m\n\u001b[1;32m   1498\u001b[0m \u001b[38;5;28;01mif\u001b[39;00m \u001b[38;5;129;01mnot\u001b[39;00m (\u001b[38;5;28mself\u001b[39m\u001b[38;5;241m.\u001b[39m_backward_hooks \u001b[38;5;129;01mor\u001b[39;00m \u001b[38;5;28mself\u001b[39m\u001b[38;5;241m.\u001b[39m_backward_pre_hooks \u001b[38;5;129;01mor\u001b[39;00m \u001b[38;5;28mself\u001b[39m\u001b[38;5;241m.\u001b[39m_forward_hooks \u001b[38;5;129;01mor\u001b[39;00m \u001b[38;5;28mself\u001b[39m\u001b[38;5;241m.\u001b[39m_forward_pre_hooks\n\u001b[1;32m   1499\u001b[0m         \u001b[38;5;129;01mor\u001b[39;00m _global_backward_pre_hooks \u001b[38;5;129;01mor\u001b[39;00m _global_backward_hooks\n\u001b[1;32m   1500\u001b[0m         \u001b[38;5;129;01mor\u001b[39;00m _global_forward_hooks \u001b[38;5;129;01mor\u001b[39;00m _global_forward_pre_hooks):\n\u001b[0;32m-> 1501\u001b[0m     \u001b[38;5;28;01mreturn\u001b[39;00m \u001b[43mforward_call\u001b[49m\u001b[43m(\u001b[49m\u001b[38;5;241;43m*\u001b[39;49m\u001b[43margs\u001b[49m\u001b[43m,\u001b[49m\u001b[43m \u001b[49m\u001b[38;5;241;43m*\u001b[39;49m\u001b[38;5;241;43m*\u001b[39;49m\u001b[43mkwargs\u001b[49m\u001b[43m)\u001b[49m\n\u001b[1;32m   1502\u001b[0m \u001b[38;5;66;03m# Do not call functions when jit is used\u001b[39;00m\n\u001b[1;32m   1503\u001b[0m full_backward_hooks, non_full_backward_hooks \u001b[38;5;241m=\u001b[39m [], []\n",
      "Cell \u001b[0;32mIn[3], line 55\u001b[0m, in \u001b[0;36mLSTMModel.forward\u001b[0;34m(self, x, x_target)\u001b[0m\n\u001b[1;32m     53\u001b[0m \u001b[38;5;66;03m#TODO: do not loop over time axis, pad the N axis :D\u001b[39;00m\n\u001b[1;32m     54\u001b[0m \u001b[38;5;28;01mfor\u001b[39;00m j \u001b[38;5;129;01min\u001b[39;00m \u001b[38;5;28mrange\u001b[39m(T):\n\u001b[0;32m---> 55\u001b[0m     extracted_features \u001b[38;5;241m=\u001b[39m \u001b[38;5;28mself\u001b[39m\u001b[38;5;241m.\u001b[39mfeature_extractor(\u001b[43mtorch\u001b[49m\u001b[38;5;241;43m.\u001b[39;49m\u001b[43mfrom_numpy\u001b[49m\u001b[43m(\u001b[49m\u001b[43mx\u001b[49m\u001b[43m[\u001b[49m\u001b[43mi\u001b[49m\u001b[43m]\u001b[49m\u001b[43m[\u001b[49m\u001b[43mj\u001b[49m\u001b[43m]\u001b[49m\u001b[38;5;241;43m.\u001b[39;49m\u001b[43mastype\u001b[49m\u001b[43m(\u001b[49m\u001b[43mnp\u001b[49m\u001b[38;5;241;43m.\u001b[39;49m\u001b[43mfloat32\u001b[49m\u001b[43m)\u001b[49m\u001b[43m)\u001b[49m\u001b[38;5;241;43m.\u001b[39;49m\u001b[43mto\u001b[49m\u001b[43m(\u001b[49m\u001b[43mdtype\u001b[49m\u001b[38;5;241;43m=\u001b[39;49m\u001b[43mtorch\u001b[49m\u001b[38;5;241;43m.\u001b[39;49m\u001b[43mfloat32\u001b[49m\u001b[43m,\u001b[49m\u001b[43m \u001b[49m\u001b[43mdevice\u001b[49m\u001b[38;5;241;43m=\u001b[39;49m\u001b[43mDEVICE\u001b[49m\u001b[43m)\u001b[49m)\n\u001b[1;32m     56\u001b[0m     time_features\u001b[38;5;241m.\u001b[39mappend(extracted_features)\n\u001b[1;32m     58\u001b[0m time_features \u001b[38;5;241m=\u001b[39m torch\u001b[38;5;241m.\u001b[39mstack(time_features, dim\u001b[38;5;241m=\u001b[39m\u001b[38;5;241m0\u001b[39m)\n",
      "\u001b[0;31mKeyboardInterrupt\u001b[0m: "
     ]
    }
   ],
   "source": [
    "model_name = input(\"Input proper model name:\\t\")\n",
    "val_min_loss = None\n",
    "\n",
    "history = []\n",
    "\n",
    "for epoch_index in range(NUM_EPOCHS):\n",
    "    shuffle(X_train, x_train, y_train)\n",
    "    \n",
    "    running_loss_train = 0.0\n",
    "    model.train()\n",
    "    \n",
    "    for batch_index in tqdm(range(len(X_train)//BATCH_SIZE)):\n",
    "        X_train_batch = []\n",
    "        x_train_batch = []\n",
    "        y_train_batch = []\n",
    "        \n",
    "        for item_index in range(BATCH_SIZE):\n",
    "            X_train_batch.append(X_train[BATCH_SIZE*batch_index + item_index])\n",
    "            x_train_batch.append(x_train[BATCH_SIZE*batch_index + item_index])\n",
    "            y_train_batch.append(y_train[BATCH_SIZE*batch_index + item_index])\n",
    "            \n",
    "        optimizer.zero_grad()\n",
    "        y_train_prediction = model(X_train_batch, x_train_batch)\n",
    "        \n",
    "        y_train_batch = torch.from_numpy(np.stack(y_train_batch)).to(dtype=torch.float32, device=DEVICE)\n",
    "        loss = criterion(y_train_batch.view(-1, 1), y_train_prediction)\n",
    "        \n",
    "        loss.backward()\n",
    "        optimizer.step()\n",
    "        \n",
    "        running_loss_train += loss.item()\n",
    "    \n",
    "    mean_train_loss = running_loss_train / (len(X_train) / BATCH_SIZE)\n",
    "    \n",
    "    \n",
    "    with torch.no_grad():\n",
    "        \n",
    "        running_loss_val = 0.0\n",
    "        model.eval()\n",
    "        for batch_index in tqdm(range(len(X_val)//BATCH_SIZE)):\n",
    "            X_val_batch = []\n",
    "            x_val_batch = []\n",
    "            y_val_batch = []\n",
    "\n",
    "            for item_index in range(BATCH_SIZE):\n",
    "\n",
    "                X_val_batch.append(X_val[BATCH_SIZE*batch_index + item_index])\n",
    "                x_val_batch.append(x_val[BATCH_SIZE*batch_index + item_index])\n",
    "                y_val_batch.append(y_val[BATCH_SIZE*batch_index + item_index])\n",
    "\n",
    "            \n",
    "            y_val_batch = torch.from_numpy(np.stack(y_val_batch)).to(dtype=torch.float32, device=DEVICE)\n",
    "            y_val_prediction = model(X_val_batch, x_val_batch)\n",
    "            loss = criterion(y_val_batch.view(-1, 1), y_val_prediction)\n",
    "            \n",
    "            running_loss_val += loss.item()\n",
    "        mean_val_loss = running_loss_val / (len(X_val) / BATCH_SIZE)\n",
    "        \n",
    "        \n",
    "    if val_min_loss is None:\n",
    "        val_min_loss = mean_val_loss\n",
    "    elif mean_val_loss < val_min_loss:\n",
    "        val_min_loss = mean_val_loss\n",
    "        torch.save(model.state_dict(), f\"./models/{model_name}.pth\")\n",
    "        \n",
    "    history.append([mean_train_loss, mean_val_loss])\n",
    "    print(\n",
    "        f\"Epoch [{epoch_index+1}/{NUM_EPOCHS}]\\nTrain Loss: {round(mean_train_loss, 4)}\\nVal Loss: {round(mean_val_loss, 4)}\"\n",
    "    )        "
   ]
  },
  {
   "cell_type": "code",
   "execution_count": null,
   "id": "fcc1a85a",
   "metadata": {},
   "outputs": [],
   "source": [
    "plt.plot(history)\n",
    "plt.legend([\"train\", \"val\"]);"
   ]
  },
  {
   "cell_type": "markdown",
   "id": "b3df1139",
   "metadata": {},
   "source": [
    "### Evaluation"
   ]
  },
  {
   "cell_type": "code",
   "execution_count": 27,
   "id": "602413bc",
   "metadata": {},
   "outputs": [],
   "source": [
    "model.load_state_dict(torch.load(f\"./models/{model_name}.pth\"))\n",
    "model.eval()\n",
    "prediction = model(X_val, x_val).detach().cpu().numpy()[..., 0]\n",
    "ground_truth = np.array(y_val)"
   ]
  },
  {
   "cell_type": "code",
   "execution_count": 28,
   "id": "04a2c8f4",
   "metadata": {},
   "outputs": [
    {
     "name": "stdout",
     "output_type": "stream",
     "text": [
      "0.1437\n"
     ]
    }
   ],
   "source": [
    "# MAE\n",
    "print(np.abs(prediction - ground_truth).mean().round(4))"
   ]
  },
  {
   "cell_type": "code",
   "execution_count": 29,
   "id": "00482a11",
   "metadata": {},
   "outputs": [
    {
     "data": {
      "text/plain": [
       "0.0321"
      ]
     },
     "execution_count": 29,
     "metadata": {},
     "output_type": "execute_result"
    }
   ],
   "source": [
    "# MSE\n",
    "np.round((criterion(torch.from_numpy(prediction[..., None]), torch.from_numpy(ground_truth[..., None])).item()), 4)"
   ]
  },
  {
   "cell_type": "code",
   "execution_count": 30,
   "id": "8ed39f12",
   "metadata": {},
   "outputs": [
    {
     "data": {
      "image/png": "[encoded data removed]",
      "text/plain": [
       "<Figure size 640x480 with 1 Axes>"
      ]
     },
     "metadata": {},
     "output_type": "display_data"
    }
   ],
   "source": [
    "# KDE plot\n",
    "sns.kdeplot([ground_truth, prediction])\n",
    "plt.legend([\"Ground truth\", \"Prediction\"]);"
   ]
  },
  {
   "cell_type": "code",
   "execution_count": 31,
   "id": "0ce5f55d",
   "metadata": {},
   "outputs": [
    {
     "data": {
      "image/png": "[encoded data removed]",
      "text/plain": [
       "<Figure size 800x600 with 1 Axes>"
      ]
     },
     "metadata": {},
     "output_type": "display_data"
    }
   ],
   "source": [
    "# Scatter plot\n",
    "\n",
    "# Create a diagonal line for y = x\n",
    "x_values = np.linspace(\n",
    "    min(prediction.min(), ground_truth.min()),\n",
    "    max(prediction.max(), ground_truth.max()),\n",
    "    100,\n",
    ")\n",
    "y_values = x_values\n",
    "\n",
    "# Plot the scatter plot\n",
    "plt.figure(figsize=(8, 6))\n",
    "sns.scatterplot(x=ground_truth, y=prediction)\n",
    "\n",
    "# Plot the diagonal line\n",
    "plt.plot(x_values, y_values, color=\"red\", linestyle=\"dashed\", label=\"y = x\")\n",
    "\n",
    "# Set labels and title\n",
    "plt.xlabel(\"Ground Truth\")\n",
    "\n",
    "plt.ylabel(\"Predictions\")\n",
    "plt.title(\"Scatter plot - Predictions vs. Ground Truth\")\n",
    "\n",
    "# Show the plot\n",
    "plt.legend()\n",
    "plt.show()"
   ]
  },
  {
   "cell_type": "code",
   "execution_count": null,
   "id": "0acddfb1",
   "metadata": {},
   "outputs": [],
   "source": []
  }
 ],
 "metadata": {
  "kernelspec": {
   "display_name": "Python 3 (ipykernel)",
   "language": "python",
   "name": "python3"
  },
  "language_info": {
   "codemirror_mode": {
    "name": "ipython",
    "version": 3
   },
   "file_extension": ".py",
   "mimetype": "text/x-python",
   "name": "python",
   "nbconvert_exporter": "python",
   "pygments_lexer": "ipython3",
   "version": "3.9.12"
  }
 },
 "nbformat": 4,
 "nbformat_minor": 5
}
