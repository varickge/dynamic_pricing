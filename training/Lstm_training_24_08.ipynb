{
 "cells": [
  {
   "cell_type": "code",
   "execution_count": null,
   "id": "c5ff7cdc",
   "metadata": {},
   "outputs": [],
   "source": [
    "from utils import *\n",
    "\n",
    "RANDOM_STATE = 2001\n",
    "torch.manual_seed(RANDOM_STATE);"
   ]
  },
  {
   "cell_type": "markdown",
   "id": "7d2a038d",
   "metadata": {},
   "source": [
    "# Data preprocessing and loading for fast training"
   ]
  },
  {
   "cell_type": "markdown",
   "id": "33799aeb",
   "metadata": {},
   "source": [
    "## Load source data"
   ]
  },
  {
   "cell_type": "code",
   "execution_count": null,
   "id": "89d7fcb4",
   "metadata": {},
   "outputs": [],
   "source": [
    "CONST_COLUMNS = [\n",
    "    \"Stellensubart_1\",\n",
    "    \"Stellensubart_2\",\n",
    "    \"Stellensubart_3\",\n",
    "    \"Stellensubart_4\",\n",
    "    *[f\"T{i}\" for i in range(1, 35)],\n",
    "    \"Preis\",\n",
    "    \"Beleuchtet\",\n",
    "    \"Laenge\",\n",
    "    \"Breite\",\n",
    "    \"Eigenfläche\",\n",
    "    \"PPSVACWert\",\n",
    "    \"Qid\",\n",
    "    \"GJ\",\n",
    "]\n",
    "data = pd.read_pickle(\"data/df_gesamt_15_08_prepocessed_einworner_added.pkl\")\n",
    "target_year_having_qid = data[data.GJ == 2023].Qid\n",
    "cleaned_data = data[data.Qid.isin(target_year_having_qid)]\n",
    "cleaned_data = cleaned_data.sort_values(by=[\"Qid\", \"GJ\"]).set_index(\"Qid\", drop=False)\n",
    "cleaned_data = cleaned_data.loc[:, CONST_COLUMNS]"
   ]
  },
  {
   "cell_type": "markdown",
   "id": "39df41e5",
   "metadata": {},
   "source": [
    "## Load distance data"
   ]
  },
  {
   "cell_type": "code",
   "execution_count": null,
   "id": "6a013d49",
   "metadata": {},
   "outputs": [],
   "source": [
    "distance_2018 = pd.read_csv(\"./data/distances/distances_2018.csv\").set_index(\"Qid1\")\n",
    "distance_2019 = pd.read_csv(\"./data/distances/distances_2019.csv\").set_index(\"Qid1\")\n",
    "distance_2020 = pd.read_csv(\"./data/distances/distances_2020.csv\").set_index(\"Qid1\")\n",
    "distance_2021 = pd.read_csv(\"./data/distances/distances_2021.csv\").set_index(\"Qid1\")\n",
    "distance_2022 = pd.read_csv(\"./data/distances/distances_2022.csv\").set_index(\"Qid1\")"
   ]
  },
  {
   "cell_type": "markdown",
   "id": "3871a3c8",
   "metadata": {},
   "source": [
    "## Normalize cols"
   ]
  },
  {
   "cell_type": "code",
   "execution_count": null,
   "id": "cf65d9ab",
   "metadata": {},
   "outputs": [],
   "source": [
    "cleaned_data.Preis = (\n",
    "    cleaned_data.Preis - cleaned_data.Preis.mean()\n",
    ") / cleaned_data.Preis.std()\n",
    "\n",
    "cleaned_data.Laenge = (cleaned_data.Laenge - (-180.0)) / (2 * 180.0)\n",
    "cleaned_data.Breite = (cleaned_data.Breite - (-90.0)) / (2 * 90.0)\n",
    "\n",
    "cleaned_data.PPSVACWert = (\n",
    "    cleaned_data.PPSVACWert - cleaned_data.PPSVACWert.mean()\n",
    ") / cleaned_data.PPSVACWert.std()"
   ]
  },
  {
   "cell_type": "code",
   "execution_count": null,
   "id": "2c4cf740",
   "metadata": {},
   "outputs": [],
   "source": [
    "cleaned_data.loc[:, \"T1\":\"T22\"] = cleaned_data.loc[:, \"T1\":\"T22\"].replace(-1, 0)"
   ]
  },
  {
   "cell_type": "markdown",
   "id": "84316edb",
   "metadata": {},
   "source": [
    "## Split data into years"
   ]
  },
  {
   "cell_type": "code",
   "execution_count": null,
   "id": "060a7586",
   "metadata": {},
   "outputs": [],
   "source": [
    "data_2018 = cleaned_data[cleaned_data.GJ == 2018].drop(columns=[\"Qid\", \"GJ\"]).copy()\n",
    "data_2019 = cleaned_data[cleaned_data.GJ == 2019].drop(columns=[\"Qid\", \"GJ\"]).copy()\n",
    "data_2020 = cleaned_data[cleaned_data.GJ == 2020].drop(columns=[\"Qid\", \"GJ\"]).copy()\n",
    "data_2021 = cleaned_data[cleaned_data.GJ == 2021].drop(columns=[\"Qid\", \"GJ\"]).copy()\n",
    "data_2022 = cleaned_data[cleaned_data.GJ == 2022].drop(columns=[\"Qid\", \"GJ\"]).copy()\n",
    "data_2023 = cleaned_data[cleaned_data.GJ == 2023].drop(columns=[\"Qid\", \"GJ\"]).copy()"
   ]
  },
  {
   "cell_type": "markdown",
   "id": "8086a29a",
   "metadata": {},
   "source": [
    "## Calculate label"
   ]
  },
  {
   "cell_type": "code",
   "execution_count": null,
   "id": "3c6a4253",
   "metadata": {},
   "outputs": [],
   "source": [
    "data_2023[\"target\"] = data_2023.loc[:, \"T1\":\"T22\"].mean(axis=1)\n",
    "# data_2023[\"target\"] = (data_2023[\"target\"] - data_2023[\"target\"].mean()) / data_2023[\"target\"].std()"
   ]
  },
  {
   "cell_type": "markdown",
   "id": "5015a4ff",
   "metadata": {},
   "source": [
    "## Train / Validation split"
   ]
  },
  {
   "cell_type": "code",
   "execution_count": null,
   "id": "b4199599",
   "metadata": {},
   "outputs": [],
   "source": [
    "all_valid_qids = cleaned_data.Qid.unique()\n",
    "qid_train, qid_val = train_test_split(\n",
    "    all_valid_qids, test_size=0.1, random_state=RANDOM_STATE\n",
    ")"
   ]
  },
  {
   "cell_type": "markdown",
   "id": "63c78be7",
   "metadata": {},
   "source": [
    "## Data Loading"
   ]
  },
  {
   "cell_type": "code",
   "execution_count": null,
   "id": "4cd0e808",
   "metadata": {},
   "outputs": [],
   "source": [
    "all_year_data = [\n",
    "    data_2018,\n",
    "    data_2019,\n",
    "    data_2020,\n",
    "    data_2021,\n",
    "    data_2022,\n",
    "    data_2023,\n",
    "]\n",
    "\n",
    "all_year_distances = [\n",
    "    distance_2018,\n",
    "    distance_2019,\n",
    "    distance_2020,\n",
    "    distance_2021,\n",
    "    distance_2022,\n",
    "]"
   ]
  },
  {
   "cell_type": "markdown",
   "id": "653d1c14",
   "metadata": {},
   "source": [
    "### Train data"
   ]
  },
  {
   "cell_type": "code",
   "execution_count": null,
   "id": "b770e626",
   "metadata": {},
   "outputs": [],
   "source": [
    "X_train, x_train, y_train = preprocess_data(\n",
    "    qid_train, all_year_data, all_year_distances, data_2023\n",
    ")\n",
    "\n",
    "torch.save(X_train, \"./data/proof_of_concept/X_train_lstm_year_price.pt\")\n",
    "torch.save(x_train, \"./data/proof_of_concept/x_train_lstm_year_price.pt\")\n",
    "torch.save(y_train, \"./data/proof_of_concept/y_train_lstm_year_price.pt\")"
   ]
  },
  {
   "cell_type": "markdown",
   "id": "13987ac1",
   "metadata": {},
   "source": [
    "### Validation data"
   ]
  },
  {
   "cell_type": "code",
   "execution_count": null,
   "id": "eb275eea",
   "metadata": {},
   "outputs": [],
   "source": [
    "X_val, x_val, y_val = preprocess_data(\n",
    "    qid_val, all_year_data, all_year_distances, data_2023\n",
    ")\n",
    "\n",
    "torch.save(X_val, \"./data/proof_of_concept/X_val_lstm_year_price.pt\")\n",
    "torch.save(x_val, \"./data/proof_of_concept/x_val_lstm_year_price.pt\")\n",
    "torch.save(y_val, \"./data/proof_of_concept/y_val_lstm_year_price.pt\")"
   ]
  },
  {
   "cell_type": "markdown",
   "id": "b5c4138d",
   "metadata": {},
   "source": [
    "### Test data"
   ]
  },
  {
   "cell_type": "code",
   "execution_count": null,
   "id": "d53758c1",
   "metadata": {},
   "outputs": [],
   "source": [
    "X_test, x_test, y_test = preprocess_data(\n",
    "    [9860, 9673, 9855, 9333], all_year_data, all_year_distances, data_2023\n",
    ")\n",
    "\n",
    "torch.save(X_test, \"./data/proof_of_concept/X_test_lstm_year_price.pt\")\n",
    "torch.save(x_test, \"./data/proof_of_concept/x_test_lstm_year_price.pt\")\n",
    "torch.save(y_test, \"./data/proof_of_concept/y_test_lstm_year_price.pt\")"
   ]
  },
  {
   "cell_type": "markdown",
   "id": "d851d1e4",
   "metadata": {},
   "source": [
    "# Preparation for training"
   ]
  },
  {
   "cell_type": "code",
   "execution_count": null,
   "id": "3057d8e3",
   "metadata": {},
   "outputs": [],
   "source": [
    "BATCH_SIZE = 64\n",
    "LEARNING_RATE = 0.0003\n",
    "WEIGHT_DECAY = 0.0001"
   ]
  },
  {
   "cell_type": "code",
   "execution_count": null,
   "id": "ca25474a",
   "metadata": {},
   "outputs": [],
   "source": [
    "model = LSTMModel(44, 2048, 16, 1).to(DEVICE)\n",
    "criterion = nn.L1Loss(reduction='none')\n",
    "criterion_val = nn.L1Loss()"
   ]
  },
  {
   "cell_type": "code",
   "execution_count": null,
   "id": "ead06f92",
   "metadata": {},
   "outputs": [],
   "source": [
    "optimizer = torch.optim.AdamW(model.parameters(), lr=LEARNING_RATE, weight_decay=WEIGHT_DECAY)"
   ]
  },
  {
   "cell_type": "code",
   "execution_count": null,
   "id": "0527bc5f",
   "metadata": {},
   "outputs": [],
   "source": [
    "def relative_criterion(y_true, y_pred, eps=1/(4*22)):\n",
    "    \n",
    "    global criterion\n",
    "    pre_loss = criterion(y_true, y_pred)\n",
    "    pre_loss = pre_loss / torch.maximum(y_true, torch.tensor(eps)).to(device=DEVICE)\n",
    "    \n",
    "    return pre_loss.mean()"
   ]
  },
  {
   "cell_type": "code",
   "execution_count": null,
   "id": "ba46abb0",
   "metadata": {},
   "outputs": [],
   "source": [
    "train_dataset = CustomDataset(\n",
    "    \"./data/proof_of_concept/X_train_lstm_year_price.pt\",\n",
    "    \"./data/proof_of_concept/x_train_lstm_year_price.pt\",\n",
    "    \"./data/proof_of_concept/y_train_lstm_year_price.pt\",\n",
    "    upsample=True,\n",
    "    distort_prob=0.1,\n",
    "    smooth_labels=True,\n",
    "    shuffle_neighbours=True,\n",
    ")\n",
    "\n",
    "val_dataset = CustomDataset(\n",
    "    \"./data/proof_of_concept/X_val_lstm_year_price.pt\",\n",
    "    \"./data/proof_of_concept/x_val_lstm_year_price.pt\",\n",
    "    \"./data/proof_of_concept/y_val_lstm_year_price.pt\",\n",
    ")\n",
    "\n",
    "train_dataloader = DataLoader(\n",
    "    train_dataset, batch_size=BATCH_SIZE, shuffle=True, drop_last=False\n",
    ")\n",
    "val_dataloader = DataLoader(\n",
    "    val_dataset, batch_size=BATCH_SIZE, shuffle=False, drop_last=False\n",
    ")\n",
    "\n",
    "print(f\"Total training instances:\\t{train_dataset.data_X.shape[0]}\")\n",
    "print(f\"Total validation instances:\\t{val_dataset.data_X.shape[0]}\")"
   ]
  },
  {
   "cell_type": "markdown",
   "id": "688c72fb",
   "metadata": {},
   "source": [
    "# Training"
   ]
  },
  {
   "cell_type": "code",
   "execution_count": null,
   "id": "5ac941ea",
   "metadata": {},
   "outputs": [],
   "source": [
    "num_epochs = 200\n",
    "history = []\n",
    "val_min_loss = float(\"+inf\")\n",
    "\n",
    "model_name = \"\"\n",
    "\n",
    "while model_name == \"\":\n",
    "    model_name = input(\"Input proper model name:\\t\")"
   ]
  },
  {
   "cell_type": "code",
   "execution_count": null,
   "id": "cb7c527e",
   "metadata": {
    "scrolled": true
   },
   "outputs": [],
   "source": [
    "for epoch in range(num_epochs):\n",
    "    mean_train_loss = train(model, train_dataloader, relative_criterion, optimizer)\n",
    "    mean_val_loss = validate(model, val_dataloader, criterion_val)\n",
    "\n",
    "    history.append([mean_train_loss, mean_val_loss])\n",
    "    print(\n",
    "        f\"Epoch [{epoch+1}/{num_epochs}]\\nTrain Loss: {round(mean_train_loss, 4)}\\nVal Loss: {round(mean_val_loss, 4)}\"\n",
    "        f\"\\nBest Val loss: {round(val_min_loss, 4)}\"\n",
    "    )\n",
    "\n",
    "    if mean_val_loss < val_min_loss:\n",
    "        val_min_loss = mean_val_loss\n",
    "        print(\"Saving best model....\")\n",
    "        torch.save(model.state_dict(), f\"./models/{model_name}_best.pt\")"
   ]
  },
  {
   "cell_type": "code",
   "execution_count": null,
   "id": "b5e64252",
   "metadata": {},
   "outputs": [],
   "source": [
    "torch.save(model.state_dict(), f\"./models/{model_name}_last.pt\")"
   ]
  },
  {
   "cell_type": "code",
   "execution_count": null,
   "id": "a1df9555",
   "metadata": {},
   "outputs": [],
   "source": [
    "best_weights = torch.load(f\"./models/{model_name}_best.pt\")\n",
    "model.load_state_dict(best_weights)"
   ]
  },
  {
   "cell_type": "code",
   "execution_count": null,
   "id": "75b0791c",
   "metadata": {},
   "outputs": [],
   "source": [
    "plt.plot(history)\n",
    "plt.legend([\"train\", \"val\"])"
   ]
  },
  {
   "cell_type": "markdown",
   "id": "b3988ecf",
   "metadata": {},
   "source": [
    "# Evaluation"
   ]
  },
  {
   "cell_type": "code",
   "execution_count": null,
   "id": "97cc68e8",
   "metadata": {},
   "outputs": [],
   "source": [
    "model.eval()\n",
    "\n",
    "X_val = val_dataset.data_X\n",
    "x_val = val_dataset.data_x\n",
    "y_val = val_dataset.data_y\n",
    "\n",
    "predictions = model(X_val.to(DEVICE), x_val.to(DEVICE)).detach().cpu().numpy()\n",
    "ground_truth = y_val.numpy()"
   ]
  },
  {
   "cell_type": "markdown",
   "id": "d78f197c",
   "metadata": {},
   "source": [
    "### MAE"
   ]
  },
  {
   "cell_type": "code",
   "execution_count": null,
   "id": "18667580",
   "metadata": {},
   "outputs": [],
   "source": [
    "print(np.abs(predictions - ground_truth).mean().round(4))"
   ]
  },
  {
   "cell_type": "markdown",
   "id": "2be7803f",
   "metadata": {},
   "source": [
    "### $R^{2}$"
   ]
  },
  {
   "cell_type": "code",
   "execution_count": null,
   "id": "7683c2c2",
   "metadata": {},
   "outputs": [],
   "source": [
    "r2_score(ground_truth, predictions)"
   ]
  },
  {
   "cell_type": "markdown",
   "id": "3f4c5a1a",
   "metadata": {},
   "source": [
    "## Kernel Density Estimation plot"
   ]
  },
  {
   "cell_type": "code",
   "execution_count": null,
   "id": "872ce634",
   "metadata": {},
   "outputs": [],
   "source": [
    "sns.kdeplot(ground_truth.flatten())\n",
    "sns.kdeplot( predictions.flatten())\n",
    "plt.legend([\"Ground truth\", \"Prediction\"])\n",
    "plt.show()"
   ]
  },
  {
   "cell_type": "markdown",
   "id": "27e58f2a",
   "metadata": {},
   "source": [
    "## Scatter plot of ground_truth and preds"
   ]
  },
  {
   "cell_type": "code",
   "execution_count": null,
   "id": "95c65d79",
   "metadata": {},
   "outputs": [],
   "source": [
    "x_values = np.linspace(\n",
    "    min(predictions.min(), ground_truth.min()),\n",
    "    max(predictions.max(), ground_truth.max()),\n",
    "    1_000,\n",
    ")\n",
    "y_values = x_values\n",
    "\n",
    "plt.figure(figsize=(8, 6))\n",
    "sns.scatterplot(x=ground_truth.flatten(), y=predictions.flatten())\n",
    "\n",
    "plt.plot(x_values, y_values, color=\"red\", linestyle=\"dashed\", label=\"y = x\")\n",
    "\n",
    "plt.xlabel(\"Ground Truth\")\n",
    "plt.ylabel(\"Predictions\")\n",
    "plt.title(\"Scatter plot - Predictions vs. Ground Truth\")\n",
    "plt.legend()\n",
    "plt.show()"
   ]
  },
  {
   "cell_type": "code",
   "execution_count": null,
   "id": "e4e38630",
   "metadata": {},
   "outputs": [],
   "source": []
  }
 ],
 "metadata": {
  "kernelspec": {
   "display_name": "Python 3 (ipykernel)",
   "language": "python",
   "name": "python3"
  },
  "language_info": {
   "codemirror_mode": {
    "name": "ipython",
    "version": 3
   },
   "file_extension": ".py",
   "mimetype": "text/x-python",
   "name": "python",
   "nbconvert_exporter": "python",
   "pygments_lexer": "ipython3",
   "version": "3.9.12"
  }
 },
 "nbformat": 4,
 "nbformat_minor": 5
}
