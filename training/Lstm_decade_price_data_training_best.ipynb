{
 "cells": [
  {
   "cell_type": "code",
   "execution_count": 1,
   "id": "c5ff7cdc",
   "metadata": {},
   "outputs": [],
   "source": [
    "from utils import *"
   ]
  },
  {
   "cell_type": "code",
   "execution_count": 2,
   "id": "89d7fcb4",
   "metadata": {},
   "outputs": [],
   "source": [
    "CONST_COLUMNS = [\n",
    "    \"Stellensubart_1\",\n",
    "    \"Stellensubart_2\",\n",
    "    \"Stellensubart_3\",\n",
    "    \"Stellensubart_4\",\n",
    "    *[f\"T{i}\" for i in range(1, 35)],\n",
    "    *[f\"TD{i:02d}\" for i in range(1, 35)],\n",
    "    \"Preis\",\n",
    "    \"Beleuchtet\",\n",
    "    \"Laenge\",\n",
    "    \"Breite\",\n",
    "    \"Eigenfläche\",\n",
    "    \"PPSVACWert\",\n",
    "    \"Qid\",\n",
    "    \"GJ\",\n",
    "]"
   ]
  },
  {
   "cell_type": "code",
   "execution_count": 3,
   "id": "6a013d49",
   "metadata": {},
   "outputs": [],
   "source": [
    "data = pd.read_pickle(\"data/decade_price_data_combined_01_09.pkl\")"
   ]
  },
  {
   "cell_type": "code",
   "execution_count": 4,
   "id": "586b77bb",
   "metadata": {},
   "outputs": [],
   "source": [
    "distance_2018 = pd.read_csv(\n",
    "    \"./data/distances/distances_2018_new_algo_200.csv\"\n",
    ").set_index(\"Qid_1\")\n",
    "distance_2019 = pd.read_csv(\n",
    "    \"./data/distances/distances_2019_new_algo_200.csv\"\n",
    ").set_index(\"Qid_1\")\n",
    "distance_2020 = pd.read_csv(\n",
    "    \"./data/distances/distances_2020_new_algo_200.csv\"\n",
    ").set_index(\"Qid_1\")\n",
    "distance_2021 = pd.read_csv(\n",
    "    \"./data/distances/distances_2021_new_algo_200.csv\"\n",
    ").set_index(\"Qid_1\")\n",
    "distance_2022 = pd.read_csv(\n",
    "    \"./data/distances/distances_2022_new_algo_200.csv\"\n",
    ").set_index(\"Qid_1\")"
   ]
  },
  {
   "cell_type": "code",
   "execution_count": 5,
   "id": "4bdd1154",
   "metadata": {},
   "outputs": [],
   "source": [
    "cleaned_data = data.sort_values(by=[\"Qid\", \"GJ\"]).set_index(\"Qid\", drop=False)\n",
    "cleaned_data = cleaned_data.loc[:, CONST_COLUMNS]"
   ]
  },
  {
   "cell_type": "markdown",
   "id": "3871a3c8",
   "metadata": {},
   "source": [
    "# Normalize cols"
   ]
  },
  {
   "cell_type": "code",
   "execution_count": 6,
   "id": "cf65d9ab",
   "metadata": {},
   "outputs": [],
   "source": [
    "list_of_t = [f\"TD{i:02d}\" for i in range(1, 35)]\n",
    "\n",
    "for i in list_of_t:\n",
    "    cleaned_data[i] = (\n",
    "        cleaned_data[i] - cleaned_data[i].mean()\n",
    "    ) / cleaned_data[i].std()\n",
    "\n",
    "cleaned_data.Preis = (\n",
    "    cleaned_data.Preis - cleaned_data.Preis.mean()\n",
    ") / cleaned_data.Preis.std()\n",
    "cleaned_data.Laenge = (\n",
    "    cleaned_data.Laenge - cleaned_data.Laenge.mean()\n",
    ") / cleaned_data.Laenge.std()\n",
    "cleaned_data.Breite = (\n",
    "    cleaned_data.Breite - cleaned_data.Breite.mean()\n",
    ") / cleaned_data.Breite.std()\n",
    "cleaned_data.PPSVACWert = (\n",
    "    cleaned_data.PPSVACWert - cleaned_data.PPSVACWert.mean()\n",
    ") / cleaned_data.PPSVACWert.std()"
   ]
  },
  {
   "cell_type": "code",
   "execution_count": 7,
   "id": "060a7586",
   "metadata": {},
   "outputs": [],
   "source": [
    "data_2018 = cleaned_data[cleaned_data.GJ == 2018].drop(columns=[\"Qid\", \"GJ\"]).copy()\n",
    "data_2019 = cleaned_data[cleaned_data.GJ == 2019].drop(columns=[\"Qid\", \"GJ\"]).copy()\n",
    "data_2020 = cleaned_data[cleaned_data.GJ == 2020].drop(columns=[\"Qid\", \"GJ\"]).copy()\n",
    "data_2021 = cleaned_data[cleaned_data.GJ == 2021].drop(columns=[\"Qid\", \"GJ\"]).copy()\n",
    "data_2022 = cleaned_data[cleaned_data.GJ == 2022].drop(columns=[\"Qid\", \"GJ\"]).copy()\n",
    "data_2023 = cleaned_data[cleaned_data.GJ == 2023].drop(columns=[\"Qid\", \"GJ\"]).copy()"
   ]
  },
  {
   "cell_type": "code",
   "execution_count": 8,
   "id": "3c6a4253",
   "metadata": {},
   "outputs": [],
   "source": [
    "data_2023.loc[:, \"T1\":\"T22\"] = data_2023.loc[:, \"T1\":\"T22\"].replace(-1, 0)"
   ]
  },
  {
   "cell_type": "code",
   "execution_count": 9,
   "id": "b4199599",
   "metadata": {},
   "outputs": [],
   "source": [
    "all_valid_qids = cleaned_data[cleaned_data.Eigenfläche == 1].Qid.unique()"
   ]
  },
  {
   "cell_type": "code",
   "execution_count": 10,
   "id": "cfd7a40b",
   "metadata": {},
   "outputs": [],
   "source": [
    "qid_train, qid_val = train_test_split(all_valid_qids, test_size=0.05, random_state=666)"
   ]
  },
  {
   "cell_type": "markdown",
   "id": "63c78be7",
   "metadata": {},
   "source": [
    "# Data Loading"
   ]
  },
  {
   "cell_type": "code",
   "execution_count": 11,
   "id": "63d69c95",
   "metadata": {
    "scrolled": false
   },
   "outputs": [],
   "source": [
    "def DataPreprocessor(qids):\n",
    "    \n",
    "    MAX_NEIGH = 10\n",
    "    \n",
    "    columns_to_drop = [\n",
    "        \"PPSVACWert\",\n",
    "        *[f\"T{i}\" for i in range(1, 35)],\n",
    "        *[f\"TD{i:02d}\" for i in range(1, 35)],\n",
    "    ]\n",
    "\n",
    "    global data_2018, data_2019, data_2020, data_2021, data_2022, data_2023\n",
    "    global distance_2018, distance_2019, distance_2020, distance_2021, distance_2022\n",
    "    X, x, y = [], [], []\n",
    "\n",
    "    all_year_data = [data_2018, data_2019, data_2020, data_2021, data_2022]\n",
    "    all_year_distances = [\n",
    "        distance_2018,\n",
    "        distance_2019,\n",
    "        distance_2020,\n",
    "        distance_2021,\n",
    "        distance_2022,\n",
    "    ]\n",
    "\n",
    "    for idx, qid in enumerate(tqdm(qids)):\n",
    "        \n",
    "        if (data_2023.index == qid).sum():\n",
    "\n",
    "            neighbours_features = []\n",
    "\n",
    "            for year_data, year_distances in zip(all_year_data, all_year_distances):\n",
    "                current_distances = year_distances[year_distances.index == qid]\n",
    "\n",
    "                if (current_distances.shape[0] != 0) and ((year_data.index == qid).sum() != 0):\n",
    "                    current_year_neighbours = current_distances[\n",
    "                        current_distances.Qid_2 != qid\n",
    "                    ]\n",
    "#                     current_year_neighbours_data = torch.from_numpy(\n",
    "#                         year_data.loc[current_year_neighbours.Qid_2].values\n",
    "#                     )\n",
    "                    \n",
    "                    current_year_neighbours_data = torch.from_numpy(\n",
    "                        year_data[year_data.index.isin(current_year_neighbours.Qid_2)].values\n",
    "                    )\n",
    "                    current_year_neighbours_data_padded = pad(\n",
    "                        current_year_neighbours_data,\n",
    "                        (0, 0, 0, MAX_NEIGH - current_year_neighbours_data.shape[0]),\n",
    "                        \"constant\",\n",
    "                        0,\n",
    "                    )\n",
    "\n",
    "                    current_year_self_data = torch.from_numpy(year_data.loc[qid].values)\n",
    "\n",
    "                    if (current_year_self_data.ndim == 2) and (\n",
    "                        current_year_self_data.shape[0] > 1\n",
    "                    ):\n",
    "                        current_year_self_data = current_year_self_data[0]\n",
    "\n",
    "                    current_year_data_point = torch.cat(\n",
    "                        [current_year_self_data[None], current_year_neighbours_data_padded],\n",
    "                        dim=0,\n",
    "                    )\n",
    "\n",
    "                else:\n",
    "                    # Fill with dummy zeros\n",
    "                    current_year_data_point = torch.zeros(11, 78)\n",
    "\n",
    "                neighbours_features.append(current_year_data_point)\n",
    "\n",
    "\n",
    "            self_data_2023 = torch.from_numpy(\n",
    "                data_2023.loc[qid].drop(labels=columns_to_drop).values\n",
    "            )\n",
    "\n",
    "            neighbours_features = torch.stack(neighbours_features, dim=0)\n",
    "            label = torch.tensor(data_2023.loc[qid, \"T1\":\"T22\"].mean())\n",
    "\n",
    "            X.append(neighbours_features)\n",
    "            x.append(self_data_2023)\n",
    "            y.append(label)\n",
    "\n",
    "    X = torch.stack(X, dim=0)\n",
    "    x = torch.stack(x, dim=0)\n",
    "    y = torch.stack(y, dim=0)\n",
    "\n",
    "    return X, x, y"
   ]
  },
  {
   "cell_type": "code",
   "execution_count": 12,
   "id": "b770e626",
   "metadata": {},
   "outputs": [
    {
     "name": "stderr",
     "output_type": "stream",
     "text": [
      "100%|██████████████████████████████████████████████████████████████| 63586/63586 [11:53<00:00, 89.15it/s]\n"
     ]
    }
   ],
   "source": [
    "X_train, x_train, y_train = DataPreprocessor(qid_train)"
   ]
  },
  {
   "cell_type": "code",
   "execution_count": 13,
   "id": "13987ac1",
   "metadata": {},
   "outputs": [],
   "source": [
    "torch.save(X_train, \"./data/X_train_lstm_decade_price_08_09.pt\")\n",
    "torch.save(x_train, \"./data/x_train_lstm_decade_price_08_09.pt\")\n",
    "torch.save(y_train, \"./data/y_train_lstm_decade_price_08_09.pt\")"
   ]
  },
  {
   "cell_type": "code",
   "execution_count": 14,
   "id": "eb275eea",
   "metadata": {},
   "outputs": [
    {
     "name": "stderr",
     "output_type": "stream",
     "text": [
      "100%|████████████████████████████████████████████████████████████████| 3347/3347 [00:38<00:00, 87.31it/s]\n"
     ]
    }
   ],
   "source": [
    "X_val, x_val, y_val = DataPreprocessor(qid_val)"
   ]
  },
  {
   "cell_type": "code",
   "execution_count": 15,
   "id": "49be947c",
   "metadata": {},
   "outputs": [],
   "source": [
    "torch.save(X_val, \"./data/X_val_lstm_decade_price_08_09.pt\")\n",
    "torch.save(x_val, \"./data/x_val_lstm_decade_price_08_09.pt\")\n",
    "torch.save(y_val, \"./data/y_val_lstm_decade_price_08_09.pt\")"
   ]
  },
  {
   "cell_type": "code",
   "execution_count": 50,
   "id": "8787e2bd",
   "metadata": {},
   "outputs": [],
   "source": [
    "# test_qids = [9333.,   9339.,   9340.,   9350.,   9352.,   9394.,   9400.,\n",
    "#              9404.,   9405.,   9502.,   9503.,   9525.,   9526.,   9641.,\n",
    "#              9642.,   9815.,   9816.,   9817.,   9818.,   9846.,   9847.,\n",
    "#              9858.,   9859.,   9932.,   9933., 785704., 931305., 931326.,\n",
    "#              9855.,   9948.,  20457.,  20472.,  20594.,  20595.,  20643.,\n",
    "#              20775.,  20917.,  20918.,  20919.,  20941.,  24605.,  26395.,\n",
    "#              26396., 327508., 327509., 344212., 814900., 840435., 842866.,\n",
    "#              887322., 931310., 931324.,   9860.,   9672.,   9673.,   9674.]\n",
    "\n",
    "# test_qids.sort()\n",
    "test_qids = np.array([9860, 9673, 9855, 9333])"
   ]
  },
  {
   "cell_type": "code",
   "execution_count": 1,
   "id": "d53758c1",
   "metadata": {},
   "outputs": [
    {
     "ename": "NameError",
     "evalue": "name 'DataPreprocessor' is not defined",
     "output_type": "error",
     "traceback": [
      "\u001b[0;31m---------------------------------------------------------------------------\u001b[0m",
      "\u001b[0;31mNameError\u001b[0m                                 Traceback (most recent call last)",
      "Cell \u001b[0;32mIn[1], line 2\u001b[0m\n\u001b[1;32m      1\u001b[0m \u001b[38;5;66;03m# # loading test data\u001b[39;00m\n\u001b[0;32m----> 2\u001b[0m X_test, x_test, y_test \u001b[38;5;241m=\u001b[39m \u001b[43mDataPreprocessor\u001b[49m(test_qids)\n\u001b[1;32m      4\u001b[0m torch\u001b[38;5;241m.\u001b[39msave(X_test, \u001b[38;5;124m\"\u001b[39m\u001b[38;5;124m./data/X_test_lstm_decade_price_07_09.pt\u001b[39m\u001b[38;5;124m\"\u001b[39m)\n\u001b[1;32m      5\u001b[0m torch\u001b[38;5;241m.\u001b[39msave(x_test, \u001b[38;5;124m\"\u001b[39m\u001b[38;5;124m./data/x_test_lstm_decade_price_07_09.pt\u001b[39m\u001b[38;5;124m\"\u001b[39m)\n",
      "\u001b[0;31mNameError\u001b[0m: name 'DataPreprocessor' is not defined"
     ]
    }
   ],
   "source": [
    "# # loading test data\n",
    "X_test, x_test, y_test = DataPreprocessor(test_qids)\n",
    "\n",
    "torch.save(X_test, \"./data/X_test_lstm_decade_price_07_09.pt\")\n",
    "torch.save(x_test, \"./data/x_test_lstm_decade_price_07_09.pt\")\n",
    "torch.save(y_test, \"./data/y_test_lstm_decade_price_07_09.pt\")"
   ]
  },
  {
   "cell_type": "markdown",
   "id": "dcc4355e",
   "metadata": {},
   "source": [
    "# Models"
   ]
  },
  {
   "cell_type": "code",
   "execution_count": 2,
   "id": "d37212e9",
   "metadata": {},
   "outputs": [],
   "source": [
    "from utils import *"
   ]
  },
  {
   "cell_type": "code",
   "execution_count": 3,
   "id": "8e60d3d3",
   "metadata": {},
   "outputs": [],
   "source": [
    "class LSTMModel(nn.Module):\n",
    "    def __init__(self, input_size, hidden_size, num_layers, output_size):\n",
    "        super(LSTMModel, self).__init__()\n",
    "        self.hidden_size = hidden_size\n",
    "        self.num_layers = num_layers\n",
    "        self.lstm = nn.LSTM(\n",
    "            input_size,\n",
    "            hidden_size,\n",
    "            num_layers,\n",
    "            batch_first=True,\n",
    "            bias=True,\n",
    "            dropout=0.0,\n",
    "        )\n",
    "\n",
    "        self.fc_1 = nn.Sequential(\n",
    "            nn.Linear(11, 1),\n",
    "        )\n",
    "\n",
    "        self.fc_2 = nn.Sequential(\n",
    "            nn.Linear(hidden_size // 1, hidden_size // 2),\n",
    "            nn.LeakyReLU(),\n",
    "            nn.BatchNorm1d(hidden_size // 2),\n",
    "            nn.Dropout1d(0.0),\n",
    "            nn.Linear(hidden_size // 2, hidden_size // 4),\n",
    "            nn.LeakyReLU(),\n",
    "            nn.Dropout1d(0.0),\n",
    "            nn.Linear(hidden_size // 4, hidden_size // 8),\n",
    "            nn.LeakyReLU(),\n",
    "            nn.Dropout1d(0.0),\n",
    "            nn.Linear(hidden_size // 8, output_size),\n",
    "        )\n",
    "\n",
    "        self.fc_b = nn.Linear(input_size - 69, input_size)\n",
    "\n",
    "    def forward(self, x, x_2023):\n",
    "        out = self.fc_1(x)\n",
    "        out = out[..., 0]\n",
    "\n",
    "        x_2023 = self.fc_b(x_2023)[:, None, ...]\n",
    "        out = torch.cat([out, x_2023], dim=1)\n",
    "\n",
    "        out, _ = self.lstm(out)\n",
    "        out = out[:, -1, ...]\n",
    "\n",
    "        out = self.fc_2(out)\n",
    "        \n",
    "        return out"
   ]
  },
  {
   "cell_type": "code",
   "execution_count": 32,
   "id": "a4a97b36",
   "metadata": {},
   "outputs": [],
   "source": [
    "class CustomDataset(torch.utils.data.Dataset):\n",
    "    \n",
    "    def __init__(self, path_X, path_x, path_y, p=0.1, smooth_labels=False):\n",
    "        \n",
    "        self.data_X = torch.load(path_X)\n",
    "        self.data_X = self.data_X.permute(0, 1, 3, 2)\n",
    "        self.data_x = torch.load(path_x)\n",
    "        self.data_y = torch.load(path_y)\n",
    "\n",
    "        self.p = p\n",
    "\n",
    "    def __getitem__(self, index):\n",
    "        if torch.rand(1) < self.p:\n",
    "            return self.__transform(\n",
    "                self.data_X[index].clone(),\n",
    "                self.data_x[index].clone(),\n",
    "                self.data_y[index].clone(),\n",
    "            )\n",
    "        else:\n",
    "            return (\n",
    "                self.data_X[index],\n",
    "                self.data_x[index],\n",
    "                self.data_y[index]\n",
    "            )\n",
    "\n",
    "    def __len__(self):\n",
    "        return len(self.data_X)\n",
    "\n",
    "    def __transform(self, item_X, item_x, item_y, k=2):\n",
    "        max_price = max(item_X[:, -6, 0])\n",
    "        item_x[-5] = k * max_price\n",
    "        item_y = item_y * 0\n",
    "\n",
    "        N = item_X.shape[-1] - 1\n",
    "        neighbours_features = item_X[:, :, 1:][:, :, torch.randperm(N)]\n",
    "        self_features = item_X[:, :, 0][:, :, None]\n",
    "        \n",
    "        item_X = torch.cat([self_features, neighbours_features], dim=-1)\n",
    "\n",
    "        return item_X, item_x, item_y"
   ]
  },
  {
   "cell_type": "markdown",
   "id": "d851d1e4",
   "metadata": {},
   "source": [
    "# Defining hyperparametrs"
   ]
  },
  {
   "cell_type": "code",
   "execution_count": 5,
   "id": "3057d8e3",
   "metadata": {},
   "outputs": [],
   "source": [
    "BATCH_SIZE = 64\n",
    "LEARNING_RATE = 0.00003"
   ]
  },
  {
   "cell_type": "code",
   "execution_count": 6,
   "id": "ead06f92",
   "metadata": {},
   "outputs": [],
   "source": [
    "model = LSTMModel(78, 512, 5, 1).to(DEVICE)\n",
    "criterion = nn.L1Loss()\n",
    "optimizer = torch.optim.Adam(model.parameters(), lr=LEARNING_RATE, weight_decay=1e-5)\n",
    "scheduler = optim.lr_scheduler.CyclicLR(optimizer, LEARNING_RATE, LEARNING_RATE*10, mode=\"exp_range\", cycle_momentum=False)"
   ]
  },
  {
   "cell_type": "code",
   "execution_count": 33,
   "id": "ba46abb0",
   "metadata": {},
   "outputs": [],
   "source": [
    "train_dataset = CustomDataset(\n",
    "    \"./data/X_train_lstm_decade_price_08_09.pt\",\n",
    "    \"./data/x_train_lstm_decade_price_08_09.pt\",\n",
    "    \"./data/y_train_lstm_decade_price_08_09.pt\",\n",
    "    p=1.\n",
    ")\n",
    "\n",
    "val_dataset = CustomDataset(\n",
    "    \"./data/X_val_lstm_decade_price_08_09.pt\",\n",
    "    \"./data/x_val_lstm_decade_price_08_09.pt\",\n",
    "    \"./data/y_val_lstm_decade_price_08_09.pt\",\n",
    ")"
   ]
  },
  {
   "cell_type": "code",
   "execution_count": 7,
   "id": "d6b630bd",
   "metadata": {},
   "outputs": [],
   "source": [
    "train_dataloader = DataLoader(\n",
    "    train_dataset, batch_size=BATCH_SIZE, shuffle=True, drop_last=False\n",
    ")\n",
    "val_dataloader = DataLoader(\n",
    "    val_dataset, batch_size=BATCH_SIZE, shuffle=True, drop_last=False\n",
    ")"
   ]
  },
  {
   "cell_type": "code",
   "execution_count": 8,
   "id": "cb7c527e",
   "metadata": {
    "scrolled": true
   },
   "outputs": [
    {
     "name": "stdout",
     "output_type": "stream",
     "text": [
      "Input proper model name:\ttest_088\n"
     ]
    },
    {
     "name": "stderr",
     "output_type": "stream",
     "text": [
      "100%|█████████████████████████████████████████████████████████████████| 839/839 [00:05<00:00, 147.97it/s]\n",
      "100%|███████████████████████████████████████████████████████████████████| 45/45 [00:00<00:00, 286.13it/s]\n"
     ]
    },
    {
     "name": "stdout",
     "output_type": "stream",
     "text": [
      "Epoch [1/200]\n",
      "Train Loss: 0.207\n",
      "Val Loss: 0.1675\n"
     ]
    },
    {
     "name": "stderr",
     "output_type": "stream",
     "text": [
      "100%|█████████████████████████████████████████████████████████████████| 839/839 [00:05<00:00, 156.55it/s]\n",
      "100%|███████████████████████████████████████████████████████████████████| 45/45 [00:00<00:00, 355.58it/s]\n"
     ]
    },
    {
     "name": "stdout",
     "output_type": "stream",
     "text": [
      "Epoch [2/200]\n",
      "Train Loss: 0.1562\n",
      "Val Loss: 0.1438\n"
     ]
    },
    {
     "name": "stderr",
     "output_type": "stream",
     "text": [
      "100%|█████████████████████████████████████████████████████████████████| 839/839 [00:05<00:00, 155.23it/s]\n",
      "100%|███████████████████████████████████████████████████████████████████| 45/45 [00:00<00:00, 356.37it/s]\n"
     ]
    },
    {
     "name": "stdout",
     "output_type": "stream",
     "text": [
      "Epoch [3/200]\n",
      "Train Loss: 0.1395\n",
      "Val Loss: 0.1316\n"
     ]
    },
    {
     "name": "stderr",
     "output_type": "stream",
     "text": [
      "100%|█████████████████████████████████████████████████████████████████| 839/839 [00:05<00:00, 155.38it/s]\n",
      "100%|███████████████████████████████████████████████████████████████████| 45/45 [00:00<00:00, 276.00it/s]\n"
     ]
    },
    {
     "name": "stdout",
     "output_type": "stream",
     "text": [
      "Epoch [4/200]\n",
      "Train Loss: 0.1278\n",
      "Val Loss: 0.1238\n"
     ]
    },
    {
     "name": "stderr",
     "output_type": "stream",
     "text": [
      "100%|█████████████████████████████████████████████████████████████████| 839/839 [00:05<00:00, 151.82it/s]\n",
      "100%|███████████████████████████████████████████████████████████████████| 45/45 [00:00<00:00, 284.14it/s]\n"
     ]
    },
    {
     "name": "stdout",
     "output_type": "stream",
     "text": [
      "Epoch [5/200]\n",
      "Train Loss: 0.1198\n",
      "Val Loss: 0.1202\n"
     ]
    },
    {
     "name": "stderr",
     "output_type": "stream",
     "text": [
      "100%|█████████████████████████████████████████████████████████████████| 839/839 [00:05<00:00, 157.76it/s]\n",
      "100%|███████████████████████████████████████████████████████████████████| 45/45 [00:00<00:00, 347.91it/s]\n"
     ]
    },
    {
     "name": "stdout",
     "output_type": "stream",
     "text": [
      "Epoch [6/200]\n",
      "Train Loss: 0.1173\n",
      "Val Loss: 0.1198\n"
     ]
    },
    {
     "name": "stderr",
     "output_type": "stream",
     "text": [
      "100%|█████████████████████████████████████████████████████████████████| 839/839 [00:05<00:00, 157.25it/s]\n",
      "100%|███████████████████████████████████████████████████████████████████| 45/45 [00:00<00:00, 350.60it/s]\n"
     ]
    },
    {
     "name": "stdout",
     "output_type": "stream",
     "text": [
      "Epoch [7/200]\n",
      "Train Loss: 0.1125\n",
      "Val Loss: 0.1083\n"
     ]
    },
    {
     "name": "stderr",
     "output_type": "stream",
     "text": [
      "100%|█████████████████████████████████████████████████████████████████| 839/839 [00:05<00:00, 151.45it/s]\n",
      "100%|███████████████████████████████████████████████████████████████████| 45/45 [00:00<00:00, 348.15it/s]\n"
     ]
    },
    {
     "name": "stdout",
     "output_type": "stream",
     "text": [
      "Epoch [8/200]\n",
      "Train Loss: 0.1053\n",
      "Val Loss: 0.101\n"
     ]
    },
    {
     "name": "stderr",
     "output_type": "stream",
     "text": [
      "100%|█████████████████████████████████████████████████████████████████| 839/839 [00:05<00:00, 154.81it/s]\n",
      "100%|███████████████████████████████████████████████████████████████████| 45/45 [00:00<00:00, 345.75it/s]\n"
     ]
    },
    {
     "name": "stdout",
     "output_type": "stream",
     "text": [
      "Epoch [9/200]\n",
      "Train Loss: 0.0993\n",
      "Val Loss: 0.0985\n"
     ]
    },
    {
     "name": "stderr",
     "output_type": "stream",
     "text": [
      "100%|█████████████████████████████████████████████████████████████████| 839/839 [00:05<00:00, 153.54it/s]\n",
      "100%|███████████████████████████████████████████████████████████████████| 45/45 [00:00<00:00, 342.00it/s]\n"
     ]
    },
    {
     "name": "stdout",
     "output_type": "stream",
     "text": [
      "Epoch [10/200]\n",
      "Train Loss: 0.0947\n",
      "Val Loss: 0.0971\n"
     ]
    },
    {
     "name": "stderr",
     "output_type": "stream",
     "text": [
      "100%|█████████████████████████████████████████████████████████████████| 839/839 [00:05<00:00, 156.82it/s]\n",
      "100%|███████████████████████████████████████████████████████████████████| 45/45 [00:00<00:00, 336.95it/s]\n"
     ]
    },
    {
     "name": "stdout",
     "output_type": "stream",
     "text": [
      "Epoch [11/200]\n",
      "Train Loss: 0.0962\n",
      "Val Loss: 0.0991\n"
     ]
    },
    {
     "name": "stderr",
     "output_type": "stream",
     "text": [
      "100%|█████████████████████████████████████████████████████████████████| 839/839 [00:05<00:00, 153.33it/s]\n",
      "100%|███████████████████████████████████████████████████████████████████| 45/45 [00:00<00:00, 281.99it/s]\n"
     ]
    },
    {
     "name": "stdout",
     "output_type": "stream",
     "text": [
      "Epoch [12/200]\n",
      "Train Loss: 0.0981\n",
      "Val Loss: 0.0987\n"
     ]
    },
    {
     "name": "stderr",
     "output_type": "stream",
     "text": [
      "100%|█████████████████████████████████████████████████████████████████| 839/839 [00:05<00:00, 154.03it/s]\n",
      "100%|███████████████████████████████████████████████████████████████████| 45/45 [00:00<00:00, 279.45it/s]\n"
     ]
    },
    {
     "name": "stdout",
     "output_type": "stream",
     "text": [
      "Epoch [13/200]\n",
      "Train Loss: 0.0966\n",
      "Val Loss: 0.1044\n"
     ]
    },
    {
     "name": "stderr",
     "output_type": "stream",
     "text": [
      "100%|█████████████████████████████████████████████████████████████████| 839/839 [00:05<00:00, 156.21it/s]\n",
      "100%|███████████████████████████████████████████████████████████████████| 45/45 [00:00<00:00, 349.73it/s]\n"
     ]
    },
    {
     "name": "stdout",
     "output_type": "stream",
     "text": [
      "Epoch [14/200]\n",
      "Train Loss: 0.0934\n",
      "Val Loss: 0.09\n"
     ]
    },
    {
     "name": "stderr",
     "output_type": "stream",
     "text": [
      "100%|█████████████████████████████████████████████████████████████████| 839/839 [00:05<00:00, 152.71it/s]\n",
      "100%|███████████████████████████████████████████████████████████████████| 45/45 [00:00<00:00, 338.47it/s]\n"
     ]
    },
    {
     "name": "stdout",
     "output_type": "stream",
     "text": [
      "Epoch [15/200]\n",
      "Train Loss: 0.0911\n",
      "Val Loss: 0.0955\n"
     ]
    },
    {
     "name": "stderr",
     "output_type": "stream",
     "text": [
      "100%|█████████████████████████████████████████████████████████████████| 839/839 [00:05<00:00, 156.76it/s]\n",
      "100%|███████████████████████████████████████████████████████████████████| 45/45 [00:00<00:00, 359.13it/s]\n"
     ]
    },
    {
     "name": "stdout",
     "output_type": "stream",
     "text": [
      "Epoch [16/200]\n",
      "Train Loss: 0.0926\n",
      "Val Loss: 0.095\n"
     ]
    },
    {
     "name": "stderr",
     "output_type": "stream",
     "text": [
      "100%|█████████████████████████████████████████████████████████████████| 839/839 [00:05<00:00, 158.50it/s]\n",
      "100%|███████████████████████████████████████████████████████████████████| 45/45 [00:00<00:00, 350.08it/s]\n"
     ]
    },
    {
     "name": "stdout",
     "output_type": "stream",
     "text": [
      "Epoch [17/200]\n",
      "Train Loss: 0.0952\n",
      "Val Loss: 0.093\n"
     ]
    },
    {
     "name": "stderr",
     "output_type": "stream",
     "text": [
      "100%|█████████████████████████████████████████████████████████████████| 839/839 [00:05<00:00, 156.50it/s]\n",
      "100%|███████████████████████████████████████████████████████████████████| 45/45 [00:00<00:00, 347.43it/s]\n"
     ]
    },
    {
     "name": "stdout",
     "output_type": "stream",
     "text": [
      "Epoch [18/200]\n",
      "Train Loss: 0.0927\n",
      "Val Loss: 0.0924\n"
     ]
    },
    {
     "name": "stderr",
     "output_type": "stream",
     "text": [
      "100%|█████████████████████████████████████████████████████████████████| 839/839 [00:05<00:00, 154.30it/s]\n",
      "100%|███████████████████████████████████████████████████████████████████| 45/45 [00:00<00:00, 345.01it/s]\n"
     ]
    },
    {
     "name": "stdout",
     "output_type": "stream",
     "text": [
      "Epoch [19/200]\n",
      "Train Loss: 0.0897\n",
      "Val Loss: 0.0888\n"
     ]
    },
    {
     "name": "stderr",
     "output_type": "stream",
     "text": [
      "100%|█████████████████████████████████████████████████████████████████| 839/839 [00:05<00:00, 152.44it/s]\n",
      "100%|███████████████████████████████████████████████████████████████████| 45/45 [00:00<00:00, 273.33it/s]\n"
     ]
    },
    {
     "name": "stdout",
     "output_type": "stream",
     "text": [
      "Epoch [20/200]\n",
      "Train Loss: 0.0888\n",
      "Val Loss: 0.0887\n"
     ]
    },
    {
     "name": "stderr",
     "output_type": "stream",
     "text": [
      "100%|█████████████████████████████████████████████████████████████████| 839/839 [00:05<00:00, 157.10it/s]\n",
      "100%|███████████████████████████████████████████████████████████████████| 45/45 [00:00<00:00, 345.59it/s]\n"
     ]
    },
    {
     "name": "stdout",
     "output_type": "stream",
     "text": [
      "Epoch [21/200]\n",
      "Train Loss: 0.0911\n",
      "Val Loss: 0.1015\n"
     ]
    },
    {
     "name": "stderr",
     "output_type": "stream",
     "text": [
      "100%|█████████████████████████████████████████████████████████████████| 839/839 [00:05<00:00, 152.49it/s]\n",
      "100%|███████████████████████████████████████████████████████████████████| 45/45 [00:00<00:00, 240.69it/s]\n"
     ]
    },
    {
     "name": "stdout",
     "output_type": "stream",
     "text": [
      "Epoch [22/200]\n",
      "Train Loss: 0.0931\n",
      "Val Loss: 0.0892\n"
     ]
    },
    {
     "name": "stderr",
     "output_type": "stream",
     "text": [
      "100%|█████████████████████████████████████████████████████████████████| 839/839 [00:05<00:00, 154.23it/s]\n",
      "100%|███████████████████████████████████████████████████████████████████| 45/45 [00:00<00:00, 339.18it/s]\n"
     ]
    },
    {
     "name": "stdout",
     "output_type": "stream",
     "text": [
      "Epoch [23/200]\n",
      "Train Loss: 0.09\n",
      "Val Loss: 0.0866\n"
     ]
    },
    {
     "name": "stderr",
     "output_type": "stream",
     "text": [
      "100%|█████████████████████████████████████████████████████████████████| 839/839 [00:05<00:00, 155.01it/s]\n",
      "100%|███████████████████████████████████████████████████████████████████| 45/45 [00:00<00:00, 343.42it/s]\n"
     ]
    },
    {
     "name": "stdout",
     "output_type": "stream",
     "text": [
      "Epoch [24/200]\n",
      "Train Loss: 0.0862\n",
      "Val Loss: 0.0865\n"
     ]
    },
    {
     "name": "stderr",
     "output_type": "stream",
     "text": [
      "100%|█████████████████████████████████████████████████████████████████| 839/839 [00:05<00:00, 151.88it/s]\n",
      "100%|███████████████████████████████████████████████████████████████████| 45/45 [00:00<00:00, 276.72it/s]\n"
     ]
    },
    {
     "name": "stdout",
     "output_type": "stream",
     "text": [
      "Epoch [25/200]\n",
      "Train Loss: 0.087\n",
      "Val Loss: 0.0885\n"
     ]
    },
    {
     "name": "stderr",
     "output_type": "stream",
     "text": [
      "100%|█████████████████████████████████████████████████████████████████| 839/839 [00:05<00:00, 149.38it/s]\n",
      "100%|███████████████████████████████████████████████████████████████████| 45/45 [00:00<00:00, 349.08it/s]\n"
     ]
    },
    {
     "name": "stdout",
     "output_type": "stream",
     "text": [
      "Epoch [26/200]\n",
      "Train Loss: 0.0888\n",
      "Val Loss: 0.0959\n"
     ]
    },
    {
     "name": "stderr",
     "output_type": "stream",
     "text": [
      "100%|█████████████████████████████████████████████████████████████████| 839/839 [00:05<00:00, 151.13it/s]\n",
      "100%|███████████████████████████████████████████████████████████████████| 45/45 [00:00<00:00, 275.59it/s]\n"
     ]
    },
    {
     "name": "stdout",
     "output_type": "stream",
     "text": [
      "Epoch [27/200]\n",
      "Train Loss: 0.09\n",
      "Val Loss: 0.0873\n"
     ]
    },
    {
     "name": "stderr",
     "output_type": "stream",
     "text": [
      "100%|█████████████████████████████████████████████████████████████████| 839/839 [00:05<00:00, 153.80it/s]\n",
      "100%|███████████████████████████████████████████████████████████████████| 45/45 [00:00<00:00, 345.72it/s]\n"
     ]
    },
    {
     "name": "stdout",
     "output_type": "stream",
     "text": [
      "Epoch [28/200]\n",
      "Train Loss: 0.0869\n",
      "Val Loss: 0.0853\n"
     ]
    },
    {
     "name": "stderr",
     "output_type": "stream",
     "text": [
      "100%|█████████████████████████████████████████████████████████████████| 839/839 [00:05<00:00, 154.81it/s]\n",
      "100%|███████████████████████████████████████████████████████████████████| 45/45 [00:00<00:00, 313.35it/s]\n"
     ]
    },
    {
     "name": "stdout",
     "output_type": "stream",
     "text": [
      "Epoch [29/200]\n",
      "Train Loss: 0.0844\n",
      "Val Loss: 0.0867\n"
     ]
    },
    {
     "name": "stderr",
     "output_type": "stream",
     "text": [
      "100%|█████████████████████████████████████████████████████████████████| 839/839 [00:05<00:00, 152.57it/s]\n",
      "100%|███████████████████████████████████████████████████████████████████| 45/45 [00:00<00:00, 327.11it/s]\n"
     ]
    },
    {
     "name": "stdout",
     "output_type": "stream",
     "text": [
      "Epoch [30/200]\n",
      "Train Loss: 0.0855\n",
      "Val Loss: 0.089\n"
     ]
    },
    {
     "name": "stderr",
     "output_type": "stream",
     "text": [
      "100%|█████████████████████████████████████████████████████████████████| 839/839 [00:05<00:00, 152.21it/s]\n",
      "100%|███████████████████████████████████████████████████████████████████| 45/45 [00:00<00:00, 279.03it/s]\n"
     ]
    },
    {
     "name": "stdout",
     "output_type": "stream",
     "text": [
      "Epoch [31/200]\n",
      "Train Loss: 0.0875\n",
      "Val Loss: 0.0887\n"
     ]
    },
    {
     "name": "stderr",
     "output_type": "stream",
     "text": [
      "100%|█████████████████████████████████████████████████████████████████| 839/839 [00:05<00:00, 154.03it/s]\n",
      "100%|███████████████████████████████████████████████████████████████████| 45/45 [00:00<00:00, 351.19it/s]\n"
     ]
    },
    {
     "name": "stdout",
     "output_type": "stream",
     "text": [
      "Epoch [32/200]\n",
      "Train Loss: 0.0874\n",
      "Val Loss: 0.0943\n"
     ]
    },
    {
     "name": "stderr",
     "output_type": "stream",
     "text": [
      "100%|█████████████████████████████████████████████████████████████████| 839/839 [00:05<00:00, 151.24it/s]\n",
      "100%|███████████████████████████████████████████████████████████████████| 45/45 [00:00<00:00, 353.46it/s]\n"
     ]
    },
    {
     "name": "stdout",
     "output_type": "stream",
     "text": [
      "Epoch [33/200]\n",
      "Train Loss: 0.0851\n",
      "Val Loss: 0.0851\n"
     ]
    },
    {
     "name": "stderr",
     "output_type": "stream",
     "text": [
      "100%|█████████████████████████████████████████████████████████████████| 839/839 [00:05<00:00, 156.43it/s]\n",
      "100%|███████████████████████████████████████████████████████████████████| 45/45 [00:00<00:00, 333.16it/s]\n"
     ]
    },
    {
     "name": "stdout",
     "output_type": "stream",
     "text": [
      "Epoch [34/200]\n",
      "Train Loss: 0.0832\n",
      "Val Loss: 0.0874\n"
     ]
    },
    {
     "name": "stderr",
     "output_type": "stream",
     "text": [
      "100%|█████████████████████████████████████████████████████████████████| 839/839 [00:05<00:00, 156.77it/s]\n",
      "100%|███████████████████████████████████████████████████████████████████| 45/45 [00:00<00:00, 281.28it/s]\n"
     ]
    },
    {
     "name": "stdout",
     "output_type": "stream",
     "text": [
      "Epoch [35/200]\n",
      "Train Loss: 0.0847\n",
      "Val Loss: 0.0929\n"
     ]
    },
    {
     "name": "stderr",
     "output_type": "stream",
     "text": [
      "100%|█████████████████████████████████████████████████████████████████| 839/839 [00:05<00:00, 156.36it/s]\n",
      "100%|███████████████████████████████████████████████████████████████████| 45/45 [00:00<00:00, 349.25it/s]\n"
     ]
    },
    {
     "name": "stdout",
     "output_type": "stream",
     "text": [
      "Epoch [36/200]\n",
      "Train Loss: 0.0859\n",
      "Val Loss: 0.091\n"
     ]
    },
    {
     "name": "stderr",
     "output_type": "stream",
     "text": [
      "100%|█████████████████████████████████████████████████████████████████| 839/839 [00:05<00:00, 152.91it/s]\n",
      "100%|███████████████████████████████████████████████████████████████████| 45/45 [00:00<00:00, 277.43it/s]\n"
     ]
    },
    {
     "name": "stdout",
     "output_type": "stream",
     "text": [
      "Epoch [37/200]\n",
      "Train Loss: 0.0857\n",
      "Val Loss: 0.0884\n"
     ]
    },
    {
     "name": "stderr",
     "output_type": "stream",
     "text": [
      "100%|█████████████████████████████████████████████████████████████████| 839/839 [00:05<00:00, 151.06it/s]\n",
      "100%|███████████████████████████████████████████████████████████████████| 45/45 [00:00<00:00, 276.82it/s]\n"
     ]
    },
    {
     "name": "stdout",
     "output_type": "stream",
     "text": [
      "Epoch [38/200]\n",
      "Train Loss: 0.083\n",
      "Val Loss: 0.0849\n"
     ]
    },
    {
     "name": "stderr",
     "output_type": "stream",
     "text": [
      "100%|█████████████████████████████████████████████████████████████████| 839/839 [00:05<00:00, 156.44it/s]\n",
      "100%|███████████████████████████████████████████████████████████████████| 45/45 [00:00<00:00, 348.52it/s]\n"
     ]
    },
    {
     "name": "stdout",
     "output_type": "stream",
     "text": [
      "Epoch [39/200]\n",
      "Train Loss: 0.0816\n",
      "Val Loss: 0.0853\n"
     ]
    },
    {
     "name": "stderr",
     "output_type": "stream",
     "text": [
      "100%|█████████████████████████████████████████████████████████████████| 839/839 [00:05<00:00, 154.38it/s]\n",
      "100%|███████████████████████████████████████████████████████████████████| 45/45 [00:00<00:00, 354.20it/s]\n"
     ]
    },
    {
     "name": "stdout",
     "output_type": "stream",
     "text": [
      "Epoch [40/200]\n",
      "Train Loss: 0.0839\n",
      "Val Loss: 0.0898\n"
     ]
    },
    {
     "name": "stderr",
     "output_type": "stream",
     "text": [
      "100%|█████████████████████████████████████████████████████████████████| 839/839 [00:05<00:00, 153.90it/s]\n",
      "100%|███████████████████████████████████████████████████████████████████| 45/45 [00:00<00:00, 279.91it/s]\n"
     ]
    },
    {
     "name": "stdout",
     "output_type": "stream",
     "text": [
      "Epoch [41/200]\n",
      "Train Loss: 0.0853\n",
      "Val Loss: 0.087\n"
     ]
    },
    {
     "name": "stderr",
     "output_type": "stream",
     "text": [
      "100%|█████████████████████████████████████████████████████████████████| 839/839 [00:05<00:00, 152.54it/s]\n",
      "100%|███████████████████████████████████████████████████████████████████| 45/45 [00:00<00:00, 285.00it/s]\n"
     ]
    },
    {
     "name": "stdout",
     "output_type": "stream",
     "text": [
      "Epoch [42/200]\n",
      "Train Loss: 0.0838\n",
      "Val Loss: 0.0845\n"
     ]
    },
    {
     "name": "stderr",
     "output_type": "stream",
     "text": [
      "100%|█████████████████████████████████████████████████████████████████| 839/839 [00:05<00:00, 157.85it/s]\n",
      "100%|███████████████████████████████████████████████████████████████████| 45/45 [00:00<00:00, 356.64it/s]\n"
     ]
    },
    {
     "name": "stdout",
     "output_type": "stream",
     "text": [
      "Epoch [43/200]\n",
      "Train Loss: 0.081\n",
      "Val Loss: 0.0844\n"
     ]
    },
    {
     "name": "stderr",
     "output_type": "stream",
     "text": [
      "100%|█████████████████████████████████████████████████████████████████| 839/839 [00:05<00:00, 156.08it/s]\n",
      "100%|███████████████████████████████████████████████████████████████████| 45/45 [00:00<00:00, 289.42it/s]\n"
     ]
    },
    {
     "name": "stdout",
     "output_type": "stream",
     "text": [
      "Epoch [44/200]\n",
      "Train Loss: 0.0815\n",
      "Val Loss: 0.0851\n"
     ]
    },
    {
     "name": "stderr",
     "output_type": "stream",
     "text": [
      "100%|█████████████████████████████████████████████████████████████████| 839/839 [00:05<00:00, 153.96it/s]\n",
      "100%|███████████████████████████████████████████████████████████████████| 45/45 [00:00<00:00, 285.90it/s]\n"
     ]
    },
    {
     "name": "stdout",
     "output_type": "stream",
     "text": [
      "Epoch [45/200]\n",
      "Train Loss: 0.0834\n",
      "Val Loss: 0.0877\n"
     ]
    },
    {
     "name": "stderr",
     "output_type": "stream",
     "text": [
      "100%|█████████████████████████████████████████████████████████████████| 839/839 [00:05<00:00, 150.28it/s]\n",
      "100%|███████████████████████████████████████████████████████████████████| 45/45 [00:00<00:00, 329.71it/s]\n"
     ]
    },
    {
     "name": "stdout",
     "output_type": "stream",
     "text": [
      "Epoch [46/200]\n",
      "Train Loss: 0.0842\n",
      "Val Loss: 0.0858\n"
     ]
    },
    {
     "name": "stderr",
     "output_type": "stream",
     "text": [
      "100%|█████████████████████████████████████████████████████████████████| 839/839 [00:05<00:00, 153.47it/s]\n",
      "100%|███████████████████████████████████████████████████████████████████| 45/45 [00:00<00:00, 278.90it/s]\n"
     ]
    },
    {
     "name": "stdout",
     "output_type": "stream",
     "text": [
      "Epoch [47/200]\n",
      "Train Loss: 0.082\n",
      "Val Loss: 0.084\n"
     ]
    },
    {
     "name": "stderr",
     "output_type": "stream",
     "text": [
      "100%|█████████████████████████████████████████████████████████████████| 839/839 [00:05<00:00, 156.19it/s]\n",
      "100%|███████████████████████████████████████████████████████████████████| 45/45 [00:00<00:00, 344.08it/s]\n"
     ]
    },
    {
     "name": "stdout",
     "output_type": "stream",
     "text": [
      "Epoch [48/200]\n",
      "Train Loss: 0.0798\n",
      "Val Loss: 0.0844\n"
     ]
    },
    {
     "name": "stderr",
     "output_type": "stream",
     "text": [
      "100%|█████████████████████████████████████████████████████████████████| 839/839 [00:05<00:00, 152.44it/s]\n",
      "100%|███████████████████████████████████████████████████████████████████| 45/45 [00:00<00:00, 350.06it/s]\n"
     ]
    },
    {
     "name": "stdout",
     "output_type": "stream",
     "text": [
      "Epoch [49/200]\n",
      "Train Loss: 0.0805\n",
      "Val Loss: 0.0875\n"
     ]
    },
    {
     "name": "stderr",
     "output_type": "stream",
     "text": [
      "100%|█████████████████████████████████████████████████████████████████| 839/839 [00:05<00:00, 153.69it/s]\n",
      "100%|███████████████████████████████████████████████████████████████████| 45/45 [00:00<00:00, 280.85it/s]\n"
     ]
    },
    {
     "name": "stdout",
     "output_type": "stream",
     "text": [
      "Epoch [50/200]\n",
      "Train Loss: 0.0827\n",
      "Val Loss: 0.0868\n"
     ]
    },
    {
     "name": "stderr",
     "output_type": "stream",
     "text": [
      "100%|█████████████████████████████████████████████████████████████████| 839/839 [00:05<00:00, 155.78it/s]\n",
      "100%|███████████████████████████████████████████████████████████████████| 45/45 [00:00<00:00, 340.57it/s]\n"
     ]
    },
    {
     "name": "stdout",
     "output_type": "stream",
     "text": [
      "Epoch [51/200]\n",
      "Train Loss: 0.0828\n",
      "Val Loss: 0.0812\n"
     ]
    },
    {
     "name": "stderr",
     "output_type": "stream",
     "text": [
      "100%|█████████████████████████████████████████████████████████████████| 839/839 [00:05<00:00, 153.54it/s]\n",
      "100%|███████████████████████████████████████████████████████████████████| 45/45 [00:00<00:00, 279.37it/s]\n"
     ]
    },
    {
     "name": "stdout",
     "output_type": "stream",
     "text": [
      "Epoch [52/200]\n",
      "Train Loss: 0.0802\n",
      "Val Loss: 0.0841\n"
     ]
    },
    {
     "name": "stderr",
     "output_type": "stream",
     "text": [
      "100%|█████████████████████████████████████████████████████████████████| 839/839 [00:05<00:00, 156.07it/s]\n",
      "100%|███████████████████████████████████████████████████████████████████| 45/45 [00:00<00:00, 348.56it/s]\n"
     ]
    },
    {
     "name": "stdout",
     "output_type": "stream",
     "text": [
      "Epoch [53/200]\n",
      "Train Loss: 0.0782\n",
      "Val Loss: 0.081\n"
     ]
    },
    {
     "name": "stderr",
     "output_type": "stream",
     "text": [
      "100%|█████████████████████████████████████████████████████████████████| 839/839 [00:05<00:00, 151.78it/s]\n",
      "100%|███████████████████████████████████████████████████████████████████| 45/45 [00:00<00:00, 280.44it/s]\n"
     ]
    },
    {
     "name": "stdout",
     "output_type": "stream",
     "text": [
      "Epoch [54/200]\n",
      "Train Loss: 0.0794\n",
      "Val Loss: 0.0875\n"
     ]
    },
    {
     "name": "stderr",
     "output_type": "stream",
     "text": [
      "100%|█████████████████████████████████████████████████████████████████| 839/839 [00:05<00:00, 156.58it/s]\n",
      "100%|███████████████████████████████████████████████████████████████████| 45/45 [00:00<00:00, 282.75it/s]\n"
     ]
    },
    {
     "name": "stdout",
     "output_type": "stream",
     "text": [
      "Epoch [55/200]\n",
      "Train Loss: 0.0819\n",
      "Val Loss: 0.0837\n"
     ]
    },
    {
     "name": "stderr",
     "output_type": "stream",
     "text": [
      "100%|█████████████████████████████████████████████████████████████████| 839/839 [00:05<00:00, 153.19it/s]\n",
      "100%|███████████████████████████████████████████████████████████████████| 45/45 [00:00<00:00, 284.08it/s]\n"
     ]
    },
    {
     "name": "stdout",
     "output_type": "stream",
     "text": [
      "Epoch [56/200]\n",
      "Train Loss: 0.0815\n",
      "Val Loss: 0.0858\n"
     ]
    },
    {
     "name": "stderr",
     "output_type": "stream",
     "text": [
      "100%|█████████████████████████████████████████████████████████████████| 839/839 [00:05<00:00, 158.18it/s]\n",
      "100%|███████████████████████████████████████████████████████████████████| 45/45 [00:00<00:00, 359.28it/s]\n"
     ]
    },
    {
     "name": "stdout",
     "output_type": "stream",
     "text": [
      "Epoch [57/200]\n",
      "Train Loss: 0.0785\n",
      "Val Loss: 0.0863\n"
     ]
    },
    {
     "name": "stderr",
     "output_type": "stream",
     "text": [
      "100%|█████████████████████████████████████████████████████████████████| 839/839 [00:05<00:00, 152.74it/s]\n",
      "100%|███████████████████████████████████████████████████████████████████| 45/45 [00:00<00:00, 354.85it/s]\n"
     ]
    },
    {
     "name": "stdout",
     "output_type": "stream",
     "text": [
      "Epoch [58/200]\n",
      "Train Loss: 0.0767\n",
      "Val Loss: 0.0819\n"
     ]
    },
    {
     "name": "stderr",
     "output_type": "stream",
     "text": [
      "100%|█████████████████████████████████████████████████████████████████| 839/839 [00:05<00:00, 150.68it/s]\n",
      "100%|███████████████████████████████████████████████████████████████████| 45/45 [00:00<00:00, 279.93it/s]\n"
     ]
    },
    {
     "name": "stdout",
     "output_type": "stream",
     "text": [
      "Epoch [59/200]\n",
      "Train Loss: 0.0788\n",
      "Val Loss: 0.0845\n"
     ]
    },
    {
     "name": "stderr",
     "output_type": "stream",
     "text": [
      "100%|█████████████████████████████████████████████████████████████████| 839/839 [00:05<00:00, 154.38it/s]\n",
      "100%|███████████████████████████████████████████████████████████████████| 45/45 [00:00<00:00, 280.77it/s]\n"
     ]
    },
    {
     "name": "stdout",
     "output_type": "stream",
     "text": [
      "Epoch [60/200]\n",
      "Train Loss: 0.0801\n",
      "Val Loss: 0.0889\n"
     ]
    },
    {
     "name": "stderr",
     "output_type": "stream",
     "text": [
      "100%|█████████████████████████████████████████████████████████████████| 839/839 [00:05<00:00, 151.41it/s]\n",
      "100%|███████████████████████████████████████████████████████████████████| 45/45 [00:00<00:00, 352.73it/s]\n"
     ]
    },
    {
     "name": "stdout",
     "output_type": "stream",
     "text": [
      "Epoch [61/200]\n",
      "Train Loss: 0.0796\n",
      "Val Loss: 0.0842\n"
     ]
    },
    {
     "name": "stderr",
     "output_type": "stream",
     "text": [
      "100%|█████████████████████████████████████████████████████████████████| 839/839 [00:05<00:00, 155.82it/s]\n",
      "100%|███████████████████████████████████████████████████████████████████| 45/45 [00:00<00:00, 349.64it/s]\n"
     ]
    },
    {
     "name": "stdout",
     "output_type": "stream",
     "text": [
      "Epoch [62/200]\n",
      "Train Loss: 0.0769\n",
      "Val Loss: 0.0842\n"
     ]
    },
    {
     "name": "stderr",
     "output_type": "stream",
     "text": [
      "100%|█████████████████████████████████████████████████████████████████| 839/839 [00:05<00:00, 157.34it/s]\n",
      "100%|███████████████████████████████████████████████████████████████████| 45/45 [00:00<00:00, 275.90it/s]\n"
     ]
    },
    {
     "name": "stdout",
     "output_type": "stream",
     "text": [
      "Epoch [63/200]\n",
      "Train Loss: 0.076\n",
      "Val Loss: 0.0855\n"
     ]
    },
    {
     "name": "stderr",
     "output_type": "stream",
     "text": [
      "100%|█████████████████████████████████████████████████████████████████| 839/839 [00:05<00:00, 150.80it/s]\n",
      "100%|███████████████████████████████████████████████████████████████████| 45/45 [00:00<00:00, 350.88it/s]\n"
     ]
    },
    {
     "name": "stdout",
     "output_type": "stream",
     "text": [
      "Epoch [64/200]\n",
      "Train Loss: 0.0778\n",
      "Val Loss: 0.0861\n"
     ]
    },
    {
     "name": "stderr",
     "output_type": "stream",
     "text": [
      "100%|█████████████████████████████████████████████████████████████████| 839/839 [00:05<00:00, 151.53it/s]\n",
      "100%|███████████████████████████████████████████████████████████████████| 45/45 [00:00<00:00, 276.58it/s]\n"
     ]
    },
    {
     "name": "stdout",
     "output_type": "stream",
     "text": [
      "Epoch [65/200]\n",
      "Train Loss: 0.0794\n",
      "Val Loss: 0.0867\n"
     ]
    },
    {
     "name": "stderr",
     "output_type": "stream",
     "text": [
      "100%|█████████████████████████████████████████████████████████████████| 839/839 [00:05<00:00, 150.52it/s]\n",
      "100%|███████████████████████████████████████████████████████████████████| 45/45 [00:00<00:00, 274.55it/s]\n"
     ]
    },
    {
     "name": "stdout",
     "output_type": "stream",
     "text": [
      "Epoch [66/200]\n",
      "Train Loss: 0.0771\n",
      "Val Loss: 0.0846\n"
     ]
    },
    {
     "name": "stderr",
     "output_type": "stream",
     "text": [
      "100%|█████████████████████████████████████████████████████████████████| 839/839 [00:05<00:00, 148.90it/s]\n",
      "100%|███████████████████████████████████████████████████████████████████| 45/45 [00:00<00:00, 270.85it/s]\n"
     ]
    },
    {
     "name": "stdout",
     "output_type": "stream",
     "text": [
      "Epoch [67/200]\n",
      "Train Loss: 0.074\n",
      "Val Loss: 0.0844\n"
     ]
    },
    {
     "name": "stderr",
     "output_type": "stream",
     "text": [
      "100%|█████████████████████████████████████████████████████████████████| 839/839 [00:05<00:00, 151.61it/s]\n",
      "100%|███████████████████████████████████████████████████████████████████| 45/45 [00:00<00:00, 276.16it/s]\n"
     ]
    },
    {
     "name": "stdout",
     "output_type": "stream",
     "text": [
      "Epoch [68/200]\n",
      "Train Loss: 0.0746\n",
      "Val Loss: 0.0859\n"
     ]
    },
    {
     "name": "stderr",
     "output_type": "stream",
     "text": [
      "100%|█████████████████████████████████████████████████████████████████| 839/839 [00:05<00:00, 151.57it/s]\n",
      "100%|███████████████████████████████████████████████████████████████████| 45/45 [00:00<00:00, 283.02it/s]\n"
     ]
    },
    {
     "name": "stdout",
     "output_type": "stream",
     "text": [
      "Epoch [69/200]\n",
      "Train Loss: 0.0769\n",
      "Val Loss: 0.0859\n"
     ]
    },
    {
     "name": "stderr",
     "output_type": "stream",
     "text": [
      "100%|█████████████████████████████████████████████████████████████████| 839/839 [00:05<00:00, 152.22it/s]\n",
      "100%|███████████████████████████████████████████████████████████████████| 45/45 [00:00<00:00, 275.74it/s]\n"
     ]
    },
    {
     "name": "stdout",
     "output_type": "stream",
     "text": [
      "Epoch [70/200]\n",
      "Train Loss: 0.0772\n",
      "Val Loss: 0.0836\n"
     ]
    },
    {
     "name": "stderr",
     "output_type": "stream",
     "text": [
      "100%|█████████████████████████████████████████████████████████████████| 839/839 [00:05<00:00, 151.89it/s]\n",
      "100%|███████████████████████████████████████████████████████████████████| 45/45 [00:00<00:00, 346.39it/s]\n"
     ]
    },
    {
     "name": "stdout",
     "output_type": "stream",
     "text": [
      "Epoch [71/200]\n",
      "Train Loss: 0.0752\n",
      "Val Loss: 0.0875\n"
     ]
    },
    {
     "name": "stderr",
     "output_type": "stream",
     "text": [
      "100%|█████████████████████████████████████████████████████████████████| 839/839 [00:05<00:00, 153.33it/s]\n",
      "100%|███████████████████████████████████████████████████████████████████| 45/45 [00:00<00:00, 274.01it/s]\n"
     ]
    },
    {
     "name": "stdout",
     "output_type": "stream",
     "text": [
      "Epoch [72/200]\n",
      "Train Loss: 0.0726\n",
      "Val Loss: 0.0861\n"
     ]
    },
    {
     "name": "stderr",
     "output_type": "stream",
     "text": [
      "100%|█████████████████████████████████████████████████████████████████| 839/839 [00:05<00:00, 153.71it/s]\n",
      "100%|███████████████████████████████████████████████████████████████████| 45/45 [00:00<00:00, 332.95it/s]\n"
     ]
    },
    {
     "name": "stdout",
     "output_type": "stream",
     "text": [
      "Epoch [73/200]\n",
      "Train Loss: 0.0734\n",
      "Val Loss: 0.0856\n"
     ]
    },
    {
     "name": "stderr",
     "output_type": "stream",
     "text": [
      "100%|█████████████████████████████████████████████████████████████████| 839/839 [00:05<00:00, 154.07it/s]\n",
      "100%|███████████████████████████████████████████████████████████████████| 45/45 [00:00<00:00, 280.31it/s]\n"
     ]
    },
    {
     "name": "stdout",
     "output_type": "stream",
     "text": [
      "Epoch [74/200]\n",
      "Train Loss: 0.0754\n",
      "Val Loss: 0.0848\n"
     ]
    },
    {
     "name": "stderr",
     "output_type": "stream",
     "text": [
      "100%|█████████████████████████████████████████████████████████████████| 839/839 [00:05<00:00, 154.41it/s]\n",
      "100%|███████████████████████████████████████████████████████████████████| 45/45 [00:00<00:00, 354.67it/s]\n"
     ]
    },
    {
     "name": "stdout",
     "output_type": "stream",
     "text": [
      "Epoch [75/200]\n",
      "Train Loss: 0.076\n",
      "Val Loss: 0.0862\n"
     ]
    },
    {
     "name": "stderr",
     "output_type": "stream",
     "text": [
      "100%|█████████████████████████████████████████████████████████████████| 839/839 [00:05<00:00, 154.79it/s]\n",
      "100%|███████████████████████████████████████████████████████████████████| 45/45 [00:00<00:00, 324.80it/s]\n"
     ]
    },
    {
     "name": "stdout",
     "output_type": "stream",
     "text": [
      "Epoch [76/200]\n",
      "Train Loss: 0.0726\n",
      "Val Loss: 0.0828\n"
     ]
    },
    {
     "name": "stderr",
     "output_type": "stream",
     "text": [
      "100%|█████████████████████████████████████████████████████████████████| 839/839 [00:05<00:00, 150.00it/s]\n",
      "100%|███████████████████████████████████████████████████████████████████| 45/45 [00:00<00:00, 280.47it/s]\n"
     ]
    },
    {
     "name": "stdout",
     "output_type": "stream",
     "text": [
      "Epoch [77/200]\n",
      "Train Loss: 0.0704\n",
      "Val Loss: 0.0851\n"
     ]
    },
    {
     "name": "stderr",
     "output_type": "stream",
     "text": [
      "100%|█████████████████████████████████████████████████████████████████| 839/839 [00:05<00:00, 151.88it/s]\n",
      "100%|███████████████████████████████████████████████████████████████████| 45/45 [00:00<00:00, 351.08it/s]\n"
     ]
    },
    {
     "name": "stdout",
     "output_type": "stream",
     "text": [
      "Epoch [78/200]\n",
      "Train Loss: 0.0724\n",
      "Val Loss: 0.0866\n"
     ]
    },
    {
     "name": "stderr",
     "output_type": "stream",
     "text": [
      "100%|█████████████████████████████████████████████████████████████████| 839/839 [00:05<00:00, 152.55it/s]\n",
      "100%|███████████████████████████████████████████████████████████████████| 45/45 [00:00<00:00, 278.53it/s]\n"
     ]
    },
    {
     "name": "stdout",
     "output_type": "stream",
     "text": [
      "Epoch [79/200]\n",
      "Train Loss: 0.0749\n",
      "Val Loss: 0.086\n"
     ]
    },
    {
     "name": "stderr",
     "output_type": "stream",
     "text": [
      "100%|█████████████████████████████████████████████████████████████████| 839/839 [00:05<00:00, 150.95it/s]\n",
      "100%|███████████████████████████████████████████████████████████████████| 45/45 [00:00<00:00, 285.13it/s]\n"
     ]
    },
    {
     "name": "stdout",
     "output_type": "stream",
     "text": [
      "Epoch [80/200]\n",
      "Train Loss: 0.0733\n",
      "Val Loss: 0.0863\n"
     ]
    },
    {
     "name": "stderr",
     "output_type": "stream",
     "text": [
      "100%|█████████████████████████████████████████████████████████████████| 839/839 [00:05<00:00, 150.91it/s]\n",
      "100%|███████████████████████████████████████████████████████████████████| 45/45 [00:00<00:00, 278.76it/s]\n"
     ]
    },
    {
     "name": "stdout",
     "output_type": "stream",
     "text": [
      "Epoch [81/200]\n",
      "Train Loss: 0.0698\n",
      "Val Loss: 0.0878\n"
     ]
    },
    {
     "name": "stderr",
     "output_type": "stream",
     "text": [
      "100%|█████████████████████████████████████████████████████████████████| 839/839 [00:05<00:00, 149.67it/s]\n",
      "100%|███████████████████████████████████████████████████████████████████| 45/45 [00:00<00:00, 274.99it/s]\n"
     ]
    },
    {
     "name": "stdout",
     "output_type": "stream",
     "text": [
      "Epoch [82/200]\n",
      "Train Loss: 0.0686\n",
      "Val Loss: 0.0833\n"
     ]
    },
    {
     "name": "stderr",
     "output_type": "stream",
     "text": [
      "100%|█████████████████████████████████████████████████████████████████| 839/839 [00:05<00:00, 152.55it/s]\n",
      "100%|███████████████████████████████████████████████████████████████████| 45/45 [00:00<00:00, 347.32it/s]\n"
     ]
    },
    {
     "name": "stdout",
     "output_type": "stream",
     "text": [
      "Epoch [83/200]\n",
      "Train Loss: 0.0707\n",
      "Val Loss: 0.0874\n"
     ]
    },
    {
     "name": "stderr",
     "output_type": "stream",
     "text": [
      "100%|█████████████████████████████████████████████████████████████████| 839/839 [00:05<00:00, 152.42it/s]\n",
      "100%|███████████████████████████████████████████████████████████████████| 45/45 [00:00<00:00, 282.52it/s]\n"
     ]
    },
    {
     "name": "stdout",
     "output_type": "stream",
     "text": [
      "Epoch [84/200]\n",
      "Train Loss: 0.0732\n",
      "Val Loss: 0.0867\n"
     ]
    },
    {
     "name": "stderr",
     "output_type": "stream",
     "text": [
      "100%|█████████████████████████████████████████████████████████████████| 839/839 [00:05<00:00, 151.82it/s]\n",
      "100%|███████████████████████████████████████████████████████████████████| 45/45 [00:00<00:00, 349.19it/s]\n"
     ]
    },
    {
     "name": "stdout",
     "output_type": "stream",
     "text": [
      "Epoch [85/200]\n",
      "Train Loss: 0.0706\n",
      "Val Loss: 0.0853\n"
     ]
    },
    {
     "name": "stderr",
     "output_type": "stream",
     "text": [
      "100%|█████████████████████████████████████████████████████████████████| 839/839 [00:05<00:00, 152.34it/s]\n",
      "100%|███████████████████████████████████████████████████████████████████| 45/45 [00:00<00:00, 346.26it/s]\n"
     ]
    },
    {
     "name": "stdout",
     "output_type": "stream",
     "text": [
      "Epoch [86/200]\n",
      "Train Loss: 0.067\n",
      "Val Loss: 0.085\n"
     ]
    },
    {
     "name": "stderr",
     "output_type": "stream",
     "text": [
      "100%|█████████████████████████████████████████████████████████████████| 839/839 [00:05<00:00, 151.15it/s]\n",
      "100%|███████████████████████████████████████████████████████████████████| 45/45 [00:00<00:00, 275.85it/s]\n"
     ]
    },
    {
     "name": "stdout",
     "output_type": "stream",
     "text": [
      "Epoch [87/200]\n",
      "Train Loss: 0.067\n",
      "Val Loss: 0.0876\n"
     ]
    },
    {
     "name": "stderr",
     "output_type": "stream",
     "text": [
      "100%|█████████████████████████████████████████████████████████████████| 839/839 [00:05<00:00, 151.65it/s]\n",
      "100%|███████████████████████████████████████████████████████████████████| 45/45 [00:00<00:00, 347.98it/s]\n"
     ]
    },
    {
     "name": "stdout",
     "output_type": "stream",
     "text": [
      "Epoch [88/200]\n",
      "Train Loss: 0.0703\n",
      "Val Loss: 0.088\n"
     ]
    },
    {
     "name": "stderr",
     "output_type": "stream",
     "text": [
      "100%|█████████████████████████████████████████████████████████████████| 839/839 [00:05<00:00, 156.75it/s]\n",
      "100%|███████████████████████████████████████████████████████████████████| 45/45 [00:00<00:00, 349.03it/s]\n"
     ]
    },
    {
     "name": "stdout",
     "output_type": "stream",
     "text": [
      "Epoch [89/200]\n",
      "Train Loss: 0.0715\n",
      "Val Loss: 0.0917\n"
     ]
    },
    {
     "name": "stderr",
     "output_type": "stream",
     "text": [
      "100%|█████████████████████████████████████████████████████████████████| 839/839 [00:05<00:00, 151.54it/s]\n",
      "100%|███████████████████████████████████████████████████████████████████| 45/45 [00:00<00:00, 341.34it/s]\n"
     ]
    },
    {
     "name": "stdout",
     "output_type": "stream",
     "text": [
      "Epoch [90/200]\n",
      "Train Loss: 0.0678\n",
      "Val Loss: 0.085\n"
     ]
    },
    {
     "name": "stderr",
     "output_type": "stream",
     "text": [
      "100%|█████████████████████████████████████████████████████████████████| 839/839 [00:05<00:00, 153.08it/s]\n",
      "100%|███████████████████████████████████████████████████████████████████| 45/45 [00:00<00:00, 281.01it/s]\n"
     ]
    },
    {
     "name": "stdout",
     "output_type": "stream",
     "text": [
      "Epoch [91/200]\n",
      "Train Loss: 0.0643\n",
      "Val Loss: 0.0873\n"
     ]
    },
    {
     "name": "stderr",
     "output_type": "stream",
     "text": [
      "100%|█████████████████████████████████████████████████████████████████| 839/839 [00:05<00:00, 152.96it/s]\n",
      "100%|███████████████████████████████████████████████████████████████████| 45/45 [00:00<00:00, 279.77it/s]\n"
     ]
    },
    {
     "name": "stdout",
     "output_type": "stream",
     "text": [
      "Epoch [92/200]\n",
      "Train Loss: 0.0653\n",
      "Val Loss: 0.0867\n"
     ]
    },
    {
     "name": "stderr",
     "output_type": "stream",
     "text": [
      "100%|█████████████████████████████████████████████████████████████████| 839/839 [00:05<00:00, 154.52it/s]\n",
      "100%|███████████████████████████████████████████████████████████████████| 45/45 [00:00<00:00, 273.87it/s]\n"
     ]
    },
    {
     "name": "stdout",
     "output_type": "stream",
     "text": [
      "Epoch [93/200]\n",
      "Train Loss: 0.0686\n",
      "Val Loss: 0.087\n"
     ]
    },
    {
     "name": "stderr",
     "output_type": "stream",
     "text": [
      "100%|█████████████████████████████████████████████████████████████████| 839/839 [00:05<00:00, 152.32it/s]\n",
      "100%|███████████████████████████████████████████████████████████████████| 45/45 [00:00<00:00, 284.14it/s]\n"
     ]
    },
    {
     "name": "stdout",
     "output_type": "stream",
     "text": [
      "Epoch [94/200]\n",
      "Train Loss: 0.069\n",
      "Val Loss: 0.0876\n"
     ]
    },
    {
     "name": "stderr",
     "output_type": "stream",
     "text": [
      "100%|█████████████████████████████████████████████████████████████████| 839/839 [00:05<00:00, 151.52it/s]\n",
      "100%|███████████████████████████████████████████████████████████████████| 45/45 [00:00<00:00, 277.30it/s]\n"
     ]
    },
    {
     "name": "stdout",
     "output_type": "stream",
     "text": [
      "Epoch [95/200]\n",
      "Train Loss: 0.0648\n",
      "Val Loss: 0.0858\n"
     ]
    },
    {
     "name": "stderr",
     "output_type": "stream",
     "text": [
      "100%|█████████████████████████████████████████████████████████████████| 839/839 [00:05<00:00, 153.22it/s]\n",
      "100%|███████████████████████████████████████████████████████████████████| 45/45 [00:00<00:00, 224.25it/s]\n"
     ]
    },
    {
     "name": "stdout",
     "output_type": "stream",
     "text": [
      "Epoch [96/200]\n",
      "Train Loss: 0.0619\n",
      "Val Loss: 0.0876\n"
     ]
    },
    {
     "name": "stderr",
     "output_type": "stream",
     "text": [
      "100%|█████████████████████████████████████████████████████████████████| 839/839 [00:05<00:00, 148.04it/s]\n",
      "100%|███████████████████████████████████████████████████████████████████| 45/45 [00:00<00:00, 275.39it/s]\n"
     ]
    },
    {
     "name": "stdout",
     "output_type": "stream",
     "text": [
      "Epoch [97/200]\n",
      "Train Loss: 0.0642\n",
      "Val Loss: 0.086\n"
     ]
    },
    {
     "name": "stderr",
     "output_type": "stream",
     "text": [
      "100%|█████████████████████████████████████████████████████████████████| 839/839 [00:05<00:00, 149.32it/s]\n",
      "100%|███████████████████████████████████████████████████████████████████| 45/45 [00:00<00:00, 272.85it/s]\n"
     ]
    },
    {
     "name": "stdout",
     "output_type": "stream",
     "text": [
      "Epoch [98/200]\n",
      "Train Loss: 0.0669\n",
      "Val Loss: 0.088\n"
     ]
    },
    {
     "name": "stderr",
     "output_type": "stream",
     "text": [
      "100%|█████████████████████████████████████████████████████████████████| 839/839 [00:05<00:00, 147.17it/s]\n",
      "100%|███████████████████████████████████████████████████████████████████| 45/45 [00:00<00:00, 329.21it/s]\n"
     ]
    },
    {
     "name": "stdout",
     "output_type": "stream",
     "text": [
      "Epoch [99/200]\n",
      "Train Loss: 0.0656\n",
      "Val Loss: 0.0879\n"
     ]
    },
    {
     "name": "stderr",
     "output_type": "stream",
     "text": [
      "100%|█████████████████████████████████████████████████████████████████| 839/839 [00:05<00:00, 155.18it/s]\n",
      "100%|███████████████████████████████████████████████████████████████████| 45/45 [00:00<00:00, 285.25it/s]\n"
     ]
    },
    {
     "name": "stdout",
     "output_type": "stream",
     "text": [
      "Epoch [100/200]\n",
      "Train Loss: 0.0617\n",
      "Val Loss: 0.0891\n"
     ]
    },
    {
     "name": "stderr",
     "output_type": "stream",
     "text": [
      "100%|█████████████████████████████████████████████████████████████████| 839/839 [00:05<00:00, 151.58it/s]\n",
      "100%|███████████████████████████████████████████████████████████████████| 45/45 [00:00<00:00, 364.13it/s]\n"
     ]
    },
    {
     "name": "stdout",
     "output_type": "stream",
     "text": [
      "Epoch [101/200]\n",
      "Train Loss: 0.0592\n",
      "Val Loss: 0.0895\n"
     ]
    },
    {
     "name": "stderr",
     "output_type": "stream",
     "text": [
      "100%|█████████████████████████████████████████████████████████████████| 839/839 [00:05<00:00, 159.90it/s]\n",
      "100%|███████████████████████████████████████████████████████████████████| 45/45 [00:00<00:00, 361.43it/s]\n"
     ]
    },
    {
     "name": "stdout",
     "output_type": "stream",
     "text": [
      "Epoch [102/200]\n",
      "Train Loss: 0.0623\n",
      "Val Loss: 0.0929\n"
     ]
    },
    {
     "name": "stderr",
     "output_type": "stream",
     "text": [
      "100%|█████████████████████████████████████████████████████████████████| 839/839 [00:05<00:00, 154.44it/s]\n",
      "100%|███████████████████████████████████████████████████████████████████| 45/45 [00:00<00:00, 273.23it/s]\n"
     ]
    },
    {
     "name": "stdout",
     "output_type": "stream",
     "text": [
      "Epoch [103/200]\n",
      "Train Loss: 0.0647\n",
      "Val Loss: 0.0874\n"
     ]
    },
    {
     "name": "stderr",
     "output_type": "stream",
     "text": [
      "100%|█████████████████████████████████████████████████████████████████| 839/839 [00:05<00:00, 151.98it/s]\n",
      "100%|███████████████████████████████████████████████████████████████████| 45/45 [00:00<00:00, 342.08it/s]\n"
     ]
    },
    {
     "name": "stdout",
     "output_type": "stream",
     "text": [
      "Epoch [104/200]\n",
      "Train Loss: 0.0622\n",
      "Val Loss: 0.0874\n"
     ]
    },
    {
     "name": "stderr",
     "output_type": "stream",
     "text": [
      "100%|█████████████████████████████████████████████████████████████████| 839/839 [00:05<00:00, 151.73it/s]\n",
      "100%|███████████████████████████████████████████████████████████████████| 45/45 [00:00<00:00, 357.99it/s]\n"
     ]
    },
    {
     "name": "stdout",
     "output_type": "stream",
     "text": [
      "Epoch [105/200]\n",
      "Train Loss: 0.0584\n",
      "Val Loss: 0.0883\n"
     ]
    },
    {
     "name": "stderr",
     "output_type": "stream",
     "text": [
      "100%|█████████████████████████████████████████████████████████████████| 839/839 [00:05<00:00, 154.62it/s]\n",
      "100%|███████████████████████████████████████████████████████████████████| 45/45 [00:00<00:00, 359.76it/s]\n"
     ]
    },
    {
     "name": "stdout",
     "output_type": "stream",
     "text": [
      "Epoch [106/200]\n",
      "Train Loss: 0.057\n",
      "Val Loss: 0.0873\n"
     ]
    },
    {
     "name": "stderr",
     "output_type": "stream",
     "text": [
      "100%|█████████████████████████████████████████████████████████████████| 839/839 [00:05<00:00, 154.32it/s]\n",
      "100%|███████████████████████████████████████████████████████████████████| 45/45 [00:00<00:00, 273.56it/s]\n"
     ]
    },
    {
     "name": "stdout",
     "output_type": "stream",
     "text": [
      "Epoch [107/200]\n",
      "Train Loss: 0.0608\n",
      "Val Loss: 0.0893\n"
     ]
    },
    {
     "name": "stderr",
     "output_type": "stream",
     "text": [
      "100%|█████████████████████████████████████████████████████████████████| 839/839 [00:05<00:00, 151.29it/s]\n",
      "100%|███████████████████████████████████████████████████████████████████| 45/45 [00:00<00:00, 275.14it/s]\n"
     ]
    },
    {
     "name": "stdout",
     "output_type": "stream",
     "text": [
      "Epoch [108/200]\n",
      "Train Loss: 0.0627\n",
      "Val Loss: 0.0868\n"
     ]
    },
    {
     "name": "stderr",
     "output_type": "stream",
     "text": [
      "100%|█████████████████████████████████████████████████████████████████| 839/839 [00:05<00:00, 152.46it/s]\n",
      "100%|███████████████████████████████████████████████████████████████████| 45/45 [00:00<00:00, 306.48it/s]\n"
     ]
    },
    {
     "name": "stdout",
     "output_type": "stream",
     "text": [
      "Epoch [109/200]\n",
      "Train Loss: 0.0586\n",
      "Val Loss: 0.087\n"
     ]
    },
    {
     "name": "stderr",
     "output_type": "stream",
     "text": [
      "100%|█████████████████████████████████████████████████████████████████| 839/839 [00:05<00:00, 151.39it/s]\n",
      "100%|███████████████████████████████████████████████████████████████████| 45/45 [00:00<00:00, 347.95it/s]\n"
     ]
    },
    {
     "name": "stdout",
     "output_type": "stream",
     "text": [
      "Epoch [110/200]\n",
      "Train Loss: 0.0544\n",
      "Val Loss: 0.0874\n"
     ]
    },
    {
     "name": "stderr",
     "output_type": "stream",
     "text": [
      "100%|█████████████████████████████████████████████████████████████████| 839/839 [00:05<00:00, 151.25it/s]\n",
      "100%|███████████████████████████████████████████████████████████████████| 45/45 [00:00<00:00, 345.84it/s]\n"
     ]
    },
    {
     "name": "stdout",
     "output_type": "stream",
     "text": [
      "Epoch [111/200]\n",
      "Train Loss: 0.0552\n",
      "Val Loss: 0.0894\n"
     ]
    },
    {
     "name": "stderr",
     "output_type": "stream",
     "text": [
      "100%|█████████████████████████████████████████████████████████████████| 839/839 [00:05<00:00, 150.35it/s]\n",
      "100%|███████████████████████████████████████████████████████████████████| 45/45 [00:00<00:00, 338.39it/s]\n"
     ]
    },
    {
     "name": "stdout",
     "output_type": "stream",
     "text": [
      "Epoch [112/200]\n",
      "Train Loss: 0.0588\n",
      "Val Loss: 0.0907\n"
     ]
    },
    {
     "name": "stderr",
     "output_type": "stream",
     "text": [
      "100%|█████████████████████████████████████████████████████████████████| 839/839 [00:05<00:00, 152.19it/s]\n",
      "100%|███████████████████████████████████████████████████████████████████| 45/45 [00:00<00:00, 281.84it/s]\n"
     ]
    },
    {
     "name": "stdout",
     "output_type": "stream",
     "text": [
      "Epoch [113/200]\n",
      "Train Loss: 0.0599\n",
      "Val Loss: 0.0898\n"
     ]
    },
    {
     "name": "stderr",
     "output_type": "stream",
     "text": [
      "100%|█████████████████████████████████████████████████████████████████| 839/839 [00:05<00:00, 150.62it/s]\n",
      "100%|███████████████████████████████████████████████████████████████████| 45/45 [00:00<00:00, 283.68it/s]\n"
     ]
    },
    {
     "name": "stdout",
     "output_type": "stream",
     "text": [
      "Epoch [114/200]\n",
      "Train Loss: 0.0551\n",
      "Val Loss: 0.0889\n"
     ]
    },
    {
     "name": "stderr",
     "output_type": "stream",
     "text": [
      "100%|█████████████████████████████████████████████████████████████████| 839/839 [00:05<00:00, 150.38it/s]\n",
      "100%|███████████████████████████████████████████████████████████████████| 45/45 [00:00<00:00, 287.57it/s]\n"
     ]
    },
    {
     "name": "stdout",
     "output_type": "stream",
     "text": [
      "Epoch [115/200]\n",
      "Train Loss: 0.0511\n",
      "Val Loss: 0.0897\n"
     ]
    },
    {
     "name": "stderr",
     "output_type": "stream",
     "text": [
      "100%|█████████████████████████████████████████████████████████████████| 839/839 [00:05<00:00, 152.03it/s]\n",
      "100%|███████████████████████████████████████████████████████████████████| 45/45 [00:00<00:00, 274.49it/s]\n"
     ]
    },
    {
     "name": "stdout",
     "output_type": "stream",
     "text": [
      "Epoch [116/200]\n",
      "Train Loss: 0.0535\n",
      "Val Loss: 0.0897\n"
     ]
    },
    {
     "name": "stderr",
     "output_type": "stream",
     "text": [
      "100%|█████████████████████████████████████████████████████████████████| 839/839 [00:05<00:00, 151.44it/s]\n",
      "100%|███████████████████████████████████████████████████████████████████| 45/45 [00:00<00:00, 351.33it/s]\n"
     ]
    },
    {
     "name": "stdout",
     "output_type": "stream",
     "text": [
      "Epoch [117/200]\n",
      "Train Loss: 0.0573\n",
      "Val Loss: 0.0901\n"
     ]
    },
    {
     "name": "stderr",
     "output_type": "stream",
     "text": [
      "100%|█████████████████████████████████████████████████████████████████| 839/839 [00:05<00:00, 154.84it/s]\n",
      "100%|███████████████████████████████████████████████████████████████████| 45/45 [00:00<00:00, 356.34it/s]\n"
     ]
    },
    {
     "name": "stdout",
     "output_type": "stream",
     "text": [
      "Epoch [118/200]\n",
      "Train Loss: 0.0562\n",
      "Val Loss: 0.0902\n"
     ]
    },
    {
     "name": "stderr",
     "output_type": "stream",
     "text": [
      " 19%|████████████▌                                                    | 162/839 [00:01<00:04, 151.12it/s]\n"
     ]
    },
    {
     "ename": "KeyboardInterrupt",
     "evalue": "",
     "output_type": "error",
     "traceback": [
      "\u001b[0;31m---------------------------------------------------------------------------\u001b[0m",
      "\u001b[0;31mKeyboardInterrupt\u001b[0m                         Traceback (most recent call last)",
      "Cell \u001b[0;32mIn[8], line 10\u001b[0m\n\u001b[1;32m      7\u001b[0m train_running_loss \u001b[38;5;241m=\u001b[39m \u001b[38;5;241m0.0\u001b[39m\n\u001b[1;32m      8\u001b[0m model\u001b[38;5;241m.\u001b[39mtrain()\n\u001b[0;32m---> 10\u001b[0m \u001b[38;5;28;01mfor\u001b[39;00m batch \u001b[38;5;129;01min\u001b[39;00m tqdm(train_dataloader, position\u001b[38;5;241m=\u001b[39m\u001b[38;5;241m0\u001b[39m, leave\u001b[38;5;241m=\u001b[39m\u001b[38;5;28;01mTrue\u001b[39;00m):\n\u001b[1;32m     11\u001b[0m     \u001b[38;5;66;03m# Every data instance is an input + label pair\u001b[39;00m\n\u001b[1;32m     12\u001b[0m     X_train1 \u001b[38;5;241m=\u001b[39m batch[\u001b[38;5;241m0\u001b[39m]\u001b[38;5;241m.\u001b[39mto(torch\u001b[38;5;241m.\u001b[39mfloat32)\u001b[38;5;241m.\u001b[39mto(DEVICE)\n\u001b[1;32m     13\u001b[0m     x_train1 \u001b[38;5;241m=\u001b[39m batch[\u001b[38;5;241m1\u001b[39m]\u001b[38;5;241m.\u001b[39mto(torch\u001b[38;5;241m.\u001b[39mfloat32)\u001b[38;5;241m.\u001b[39mto(DEVICE)\n",
      "File \u001b[0;32m~/anaconda3/envs/RL_vs/lib/python3.9/site-packages/tqdm/std.py:1182\u001b[0m, in \u001b[0;36mtqdm.__iter__\u001b[0;34m(self)\u001b[0m\n\u001b[1;32m   1179\u001b[0m time \u001b[38;5;241m=\u001b[39m \u001b[38;5;28mself\u001b[39m\u001b[38;5;241m.\u001b[39m_time\n\u001b[1;32m   1181\u001b[0m \u001b[38;5;28;01mtry\u001b[39;00m:\n\u001b[0;32m-> 1182\u001b[0m     \u001b[38;5;28;01mfor\u001b[39;00m obj \u001b[38;5;129;01min\u001b[39;00m iterable:\n\u001b[1;32m   1183\u001b[0m         \u001b[38;5;28;01myield\u001b[39;00m obj\n\u001b[1;32m   1184\u001b[0m         \u001b[38;5;66;03m# Update and possibly print the progressbar.\u001b[39;00m\n\u001b[1;32m   1185\u001b[0m         \u001b[38;5;66;03m# Note: does not call self.update(1) for speed optimisation.\u001b[39;00m\n",
      "File \u001b[0;32m~/anaconda3/envs/RL_vs/lib/python3.9/site-packages/torch/utils/data/dataloader.py:633\u001b[0m, in \u001b[0;36m_BaseDataLoaderIter.__next__\u001b[0;34m(self)\u001b[0m\n\u001b[1;32m    630\u001b[0m \u001b[38;5;28;01mif\u001b[39;00m \u001b[38;5;28mself\u001b[39m\u001b[38;5;241m.\u001b[39m_sampler_iter \u001b[38;5;129;01mis\u001b[39;00m \u001b[38;5;28;01mNone\u001b[39;00m:\n\u001b[1;32m    631\u001b[0m     \u001b[38;5;66;03m# TODO(https://github.com/pytorch/pytorch/issues/76750)\u001b[39;00m\n\u001b[1;32m    632\u001b[0m     \u001b[38;5;28mself\u001b[39m\u001b[38;5;241m.\u001b[39m_reset()  \u001b[38;5;66;03m# type: ignore[call-arg]\u001b[39;00m\n\u001b[0;32m--> 633\u001b[0m data \u001b[38;5;241m=\u001b[39m \u001b[38;5;28;43mself\u001b[39;49m\u001b[38;5;241;43m.\u001b[39;49m\u001b[43m_next_data\u001b[49m\u001b[43m(\u001b[49m\u001b[43m)\u001b[49m\n\u001b[1;32m    634\u001b[0m \u001b[38;5;28mself\u001b[39m\u001b[38;5;241m.\u001b[39m_num_yielded \u001b[38;5;241m+\u001b[39m\u001b[38;5;241m=\u001b[39m \u001b[38;5;241m1\u001b[39m\n\u001b[1;32m    635\u001b[0m \u001b[38;5;28;01mif\u001b[39;00m \u001b[38;5;28mself\u001b[39m\u001b[38;5;241m.\u001b[39m_dataset_kind \u001b[38;5;241m==\u001b[39m _DatasetKind\u001b[38;5;241m.\u001b[39mIterable \u001b[38;5;129;01mand\u001b[39;00m \\\n\u001b[1;32m    636\u001b[0m         \u001b[38;5;28mself\u001b[39m\u001b[38;5;241m.\u001b[39m_IterableDataset_len_called \u001b[38;5;129;01mis\u001b[39;00m \u001b[38;5;129;01mnot\u001b[39;00m \u001b[38;5;28;01mNone\u001b[39;00m \u001b[38;5;129;01mand\u001b[39;00m \\\n\u001b[1;32m    637\u001b[0m         \u001b[38;5;28mself\u001b[39m\u001b[38;5;241m.\u001b[39m_num_yielded \u001b[38;5;241m>\u001b[39m \u001b[38;5;28mself\u001b[39m\u001b[38;5;241m.\u001b[39m_IterableDataset_len_called:\n",
      "File \u001b[0;32m~/anaconda3/envs/RL_vs/lib/python3.9/site-packages/torch/utils/data/dataloader.py:677\u001b[0m, in \u001b[0;36m_SingleProcessDataLoaderIter._next_data\u001b[0;34m(self)\u001b[0m\n\u001b[1;32m    675\u001b[0m \u001b[38;5;28;01mdef\u001b[39;00m \u001b[38;5;21m_next_data\u001b[39m(\u001b[38;5;28mself\u001b[39m):\n\u001b[1;32m    676\u001b[0m     index \u001b[38;5;241m=\u001b[39m \u001b[38;5;28mself\u001b[39m\u001b[38;5;241m.\u001b[39m_next_index()  \u001b[38;5;66;03m# may raise StopIteration\u001b[39;00m\n\u001b[0;32m--> 677\u001b[0m     data \u001b[38;5;241m=\u001b[39m \u001b[38;5;28;43mself\u001b[39;49m\u001b[38;5;241;43m.\u001b[39;49m\u001b[43m_dataset_fetcher\u001b[49m\u001b[38;5;241;43m.\u001b[39;49m\u001b[43mfetch\u001b[49m\u001b[43m(\u001b[49m\u001b[43mindex\u001b[49m\u001b[43m)\u001b[49m  \u001b[38;5;66;03m# may raise StopIteration\u001b[39;00m\n\u001b[1;32m    678\u001b[0m     \u001b[38;5;28;01mif\u001b[39;00m \u001b[38;5;28mself\u001b[39m\u001b[38;5;241m.\u001b[39m_pin_memory:\n\u001b[1;32m    679\u001b[0m         data \u001b[38;5;241m=\u001b[39m _utils\u001b[38;5;241m.\u001b[39mpin_memory\u001b[38;5;241m.\u001b[39mpin_memory(data, \u001b[38;5;28mself\u001b[39m\u001b[38;5;241m.\u001b[39m_pin_memory_device)\n",
      "File \u001b[0;32m~/anaconda3/envs/RL_vs/lib/python3.9/site-packages/torch/utils/data/_utils/fetch.py:51\u001b[0m, in \u001b[0;36m_MapDatasetFetcher.fetch\u001b[0;34m(self, possibly_batched_index)\u001b[0m\n\u001b[1;32m     49\u001b[0m         data \u001b[38;5;241m=\u001b[39m \u001b[38;5;28mself\u001b[39m\u001b[38;5;241m.\u001b[39mdataset\u001b[38;5;241m.\u001b[39m__getitems__(possibly_batched_index)\n\u001b[1;32m     50\u001b[0m     \u001b[38;5;28;01melse\u001b[39;00m:\n\u001b[0;32m---> 51\u001b[0m         data \u001b[38;5;241m=\u001b[39m [\u001b[38;5;28mself\u001b[39m\u001b[38;5;241m.\u001b[39mdataset[idx] \u001b[38;5;28;01mfor\u001b[39;00m idx \u001b[38;5;129;01min\u001b[39;00m possibly_batched_index]\n\u001b[1;32m     52\u001b[0m \u001b[38;5;28;01melse\u001b[39;00m:\n\u001b[1;32m     53\u001b[0m     data \u001b[38;5;241m=\u001b[39m \u001b[38;5;28mself\u001b[39m\u001b[38;5;241m.\u001b[39mdataset[possibly_batched_index]\n",
      "File \u001b[0;32m~/anaconda3/envs/RL_vs/lib/python3.9/site-packages/torch/utils/data/_utils/fetch.py:51\u001b[0m, in \u001b[0;36m<listcomp>\u001b[0;34m(.0)\u001b[0m\n\u001b[1;32m     49\u001b[0m         data \u001b[38;5;241m=\u001b[39m \u001b[38;5;28mself\u001b[39m\u001b[38;5;241m.\u001b[39mdataset\u001b[38;5;241m.\u001b[39m__getitems__(possibly_batched_index)\n\u001b[1;32m     50\u001b[0m     \u001b[38;5;28;01melse\u001b[39;00m:\n\u001b[0;32m---> 51\u001b[0m         data \u001b[38;5;241m=\u001b[39m [\u001b[38;5;28;43mself\u001b[39;49m\u001b[38;5;241;43m.\u001b[39;49m\u001b[43mdataset\u001b[49m\u001b[43m[\u001b[49m\u001b[43midx\u001b[49m\u001b[43m]\u001b[49m \u001b[38;5;28;01mfor\u001b[39;00m idx \u001b[38;5;129;01min\u001b[39;00m possibly_batched_index]\n\u001b[1;32m     52\u001b[0m \u001b[38;5;28;01melse\u001b[39;00m:\n\u001b[1;32m     53\u001b[0m     data \u001b[38;5;241m=\u001b[39m \u001b[38;5;28mself\u001b[39m\u001b[38;5;241m.\u001b[39mdataset[possibly_batched_index]\n",
      "Cell \u001b[0;32mIn[3], line 13\u001b[0m, in \u001b[0;36mCustomDataset.__getitem__\u001b[0;34m(self, index)\u001b[0m\n\u001b[1;32m     12\u001b[0m \u001b[38;5;28;01mdef\u001b[39;00m \u001b[38;5;21m__getitem__\u001b[39m(\u001b[38;5;28mself\u001b[39m, index):\n\u001b[0;32m---> 13\u001b[0m     \u001b[38;5;28;01mif\u001b[39;00m \u001b[43mtorch\u001b[49m\u001b[38;5;241;43m.\u001b[39;49m\u001b[43mrand\u001b[49m\u001b[43m(\u001b[49m\u001b[38;5;241;43m1\u001b[39;49m\u001b[43m)\u001b[49m\u001b[43m \u001b[49m\u001b[38;5;241;43m<\u001b[39;49m\u001b[43m \u001b[49m\u001b[38;5;28;43mself\u001b[39;49m\u001b[38;5;241;43m.\u001b[39;49m\u001b[43mp\u001b[49m:\n\u001b[1;32m     14\u001b[0m         \u001b[38;5;28;01mreturn\u001b[39;00m \u001b[38;5;28mself\u001b[39m\u001b[38;5;241m.\u001b[39m__transform(\n\u001b[1;32m     15\u001b[0m             \u001b[38;5;28mself\u001b[39m\u001b[38;5;241m.\u001b[39mdata_X[index]\u001b[38;5;241m.\u001b[39mclone(),\n\u001b[1;32m     16\u001b[0m             \u001b[38;5;28mself\u001b[39m\u001b[38;5;241m.\u001b[39mdata_x[index]\u001b[38;5;241m.\u001b[39mclone(),\n\u001b[1;32m     17\u001b[0m             \u001b[38;5;28mself\u001b[39m\u001b[38;5;241m.\u001b[39mdata_y[index]\u001b[38;5;241m.\u001b[39mclone(),\n\u001b[1;32m     18\u001b[0m         )\n\u001b[1;32m     19\u001b[0m     \u001b[38;5;28;01melse\u001b[39;00m:\n",
      "\u001b[0;31mKeyboardInterrupt\u001b[0m: "
     ]
    }
   ],
   "source": [
    "num_epochs = 200\n",
    "history = []\n",
    "val_min_loss = None\n",
    "model_name = input(\"Input proper model name:\\t\")\n",
    "\n",
    "for epoch in range(num_epochs):\n",
    "    train_running_loss = 0.0\n",
    "    model.train()\n",
    "\n",
    "    for batch in tqdm(train_dataloader, position=0, leave=True):\n",
    "        # Every data instance is an input + label pair\n",
    "        X_train1 = batch[0].to(torch.float32).to(DEVICE)\n",
    "        x_train1 = batch[1].to(torch.float32).to(DEVICE)\n",
    "        y_train1 = batch[2].to(torch.float32).to(DEVICE)\n",
    "        outputs = model(X_train1, x_train1)\n",
    "        loss = criterion(outputs, y_train1.view(-1, 1))\n",
    "        loss.backward()\n",
    "        optimizer.step()\n",
    "        scheduler.step()\n",
    "        optimizer.zero_grad()\n",
    "        train_running_loss += loss.item()\n",
    "\n",
    "    model.eval()\n",
    "    val_running_loss = 0.0\n",
    "\n",
    "    with torch.no_grad():\n",
    "        for batch in tqdm(val_dataloader, position=0, leave=True):\n",
    "            # Every data instance is an input + label pair\n",
    "            X_val1 = batch[0].to(torch.float32).to(DEVICE)\n",
    "            x_val1 = batch[1].to(torch.float32).to(DEVICE)\n",
    "            y_val1 = batch[2].to(torch.float32).to(DEVICE)\n",
    "            outputs = model(X_val1, x_val1)\n",
    "            loss = criterion(outputs, y_val1.view(-1, 1))\n",
    "            val_running_loss += loss.item()\n",
    "\n",
    "    mean_train_loss = train_running_loss / len(train_dataloader)\n",
    "    mean_val_loss = val_running_loss / len(val_dataloader)\n",
    "\n",
    "    # scheduler.step(mean_val_loss)\n",
    "\n",
    "    if val_min_loss is None:\n",
    "        val_min_loss = mean_val_loss\n",
    "    elif mean_val_loss < val_min_loss:\n",
    "        val_min_loss = mean_val_loss\n",
    "        torch.save(model.state_dict(), f\"./models/{model_name}.pth\")\n",
    "\n",
    "    history.append([mean_train_loss, mean_val_loss])\n",
    "    print(\n",
    "        f\"Epoch [{epoch+1}/{num_epochs}]\\nTrain Loss: {round(mean_train_loss, 4)}\\nVal Loss: {round(mean_val_loss, 4)}\"\n",
    "    )"
   ]
  },
  {
   "cell_type": "code",
   "execution_count": 9,
   "id": "75b0791c",
   "metadata": {},
   "outputs": [
    {
     "data": {
      "image/png": "[encoded data removed]",
      "text/plain": [
       "<Figure size 640x480 with 1 Axes>"
      ]
     },
     "metadata": {},
     "output_type": "display_data"
    }
   ],
   "source": [
    "plt.plot(history)\n",
    "plt.legend([\"train\", \"val\"]);"
   ]
  },
  {
   "cell_type": "markdown",
   "id": "b3988ecf",
   "metadata": {},
   "source": [
    "# Evaluation"
   ]
  },
  {
   "cell_type": "code",
   "execution_count": 10,
   "id": "97cc68e8",
   "metadata": {},
   "outputs": [],
   "source": [
    "model.load_state_dict(torch.load(f\"./models/{model_name}.pth\"))\n",
    "model.eval()\n",
    "X_val = val_dataset.data_X\n",
    "x_val = val_dataset.data_x\n",
    "y_val = val_dataset.data_y\n",
    "preds = (\n",
    "    torch.clamp(\n",
    "    model(X_val.to(torch.float32).to(DEVICE), x_val.to(torch.float32).to(DEVICE))\n",
    "    .detach()\n",
    "    .cpu()\n",
    "    , min=0, max=1)\n",
    "    .numpy()\n",
    "    )\n",
    "ground_truth = (y_val).numpy()"
   ]
  },
  {
   "cell_type": "markdown",
   "id": "f9305c07",
   "metadata": {},
   "source": [
    "## MAE"
   ]
  },
  {
   "cell_type": "code",
   "execution_count": 11,
   "id": "18667580",
   "metadata": {},
   "outputs": [
    {
     "name": "stdout",
     "output_type": "stream",
     "text": [
      "0.0541\n"
     ]
    }
   ],
   "source": [
    "print(np.abs(preds[..., 0] - ground_truth).mean().round(4))"
   ]
  },
  {
   "cell_type": "markdown",
   "id": "3f4c5a1a",
   "metadata": {},
   "source": [
    "## Kernel Density Estimation plot"
   ]
  },
  {
   "cell_type": "code",
   "execution_count": 12,
   "id": "872ce634",
   "metadata": {},
   "outputs": [
    {
     "data": {
      "image/png": "[encoded data removed]",
      "text/plain": [
       "<Figure size 640x480 with 1 Axes>"
      ]
     },
     "metadata": {},
     "output_type": "display_data"
    }
   ],
   "source": [
    "import warnings\n",
    "with warnings.catch_warnings():\n",
    "    warnings.filterwarnings(\"ignore\")\n",
    "    sns.distplot(preds[..., 0],  kde_kws={'clip': (0.0, 1.0)}, hist=False, label='Ground truth')\n",
    "    sns.distplot(ground_truth,  kde_kws={'clip': (0.0, 1.0)}, hist=False, label='Prediction')\n",
    "    plt.legend();\n",
    "    plt.xlabel(\"Mean booked decades\");"
   ]
  },
  {
   "cell_type": "markdown",
   "id": "27e58f2a",
   "metadata": {},
   "source": [
    "## Scatter plot of ground_truth and preds"
   ]
  },
  {
   "cell_type": "code",
   "execution_count": 13,
   "id": "95c65d79",
   "metadata": {
    "scrolled": false
   },
   "outputs": [
    {
     "data": {
      "image/png": "[encoded data removed]",
      "text/plain": [
       "<Figure size 800x600 with 1 Axes>"
      ]
     },
     "metadata": {},
     "output_type": "display_data"
    }
   ],
   "source": [
    "# Create a diagonal line for y = x\n",
    "x_values = np.linspace(\n",
    "    min(preds[..., 0].min(), ground_truth.min()),\n",
    "    max(preds[..., 0].max(), ground_truth.max()),\n",
    "    100,\n",
    ")\n",
    "y_values = x_values\n",
    "\n",
    "# Plot the scatter plot\n",
    "plt.figure(figsize=(8, 6))\n",
    "sns.scatterplot(x=ground_truth, y=preds[..., 0])\n",
    "\n",
    "# Plot the diagonal line\n",
    "plt.plot(x_values, y_values, color=\"red\", linestyle=\"dashed\", label=\"y = x\")\n",
    "\n",
    "# Set labels and title\n",
    "plt.xlabel(\"Ground Truth\")\n",
    "\n",
    "plt.ylabel(\"Predictions\")\n",
    "plt.title(\"Scatter plot - Predictions vs. Ground Truth\")\n",
    "\n",
    "# Show the plot\n",
    "plt.legend()\n",
    "plt.show()"
   ]
  }
 ],
 "metadata": {
  "kernelspec": {
   "display_name": "Python 3 (ipykernel)",
   "language": "python",
   "name": "python3"
  },
  "language_info": {
   "codemirror_mode": {
    "name": "ipython",
    "version": 3
   },
   "file_extension": ".py",
   "mimetype": "text/x-python",
   "name": "python",
   "nbconvert_exporter": "python",
   "pygments_lexer": "ipython3",
   "version": "3.9.12"
  }
 },
 "nbformat": 4,
 "nbformat_minor": 5
}
