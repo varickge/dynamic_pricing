{
 "cells": [
  {
   "cell_type": "code",
   "execution_count": 1,
   "id": "29a77486",
   "metadata": {},
   "outputs": [],
   "source": [
    "from utils import *\n",
    "from pathlib import Path"
   ]
  },
  {
   "cell_type": "code",
   "execution_count": 2,
   "id": "323a483b",
   "metadata": {},
   "outputs": [],
   "source": [
    "class CustomDataset(torch.utils.data.Dataset):\n",
    "    def __init__(self, path_x, path_y):\n",
    "        \n",
    "        self.data_x = torch.load(path_x)\n",
    "        self.data_y = torch.load(path_y)\n",
    "    \n",
    "    def __getitem__(self, index):\n",
    "\n",
    "        return self.data_x[index].clone(), self.data_y[index]   \n",
    "    \n",
    "    def __len__(self):\n",
    "        return len(self.data_x)"
   ]
  },
  {
   "cell_type": "markdown",
   "id": "ba1211f3",
   "metadata": {},
   "source": [
    "## Define a model"
   ]
  },
  {
   "cell_type": "code",
   "execution_count": 3,
   "id": "8534156f",
   "metadata": {},
   "outputs": [],
   "source": [
    "class LSTMModel(nn.Module):\n",
    "    \n",
    "    def __init__(self, input_size, hidden_size, num_layers, output_size):\n",
    "        super(LSTMModel, self).__init__()\n",
    "        self.hidden_size = hidden_size\n",
    "        self.num_layers = num_layers\n",
    "        self.lstm = nn.LSTM(input_size, hidden_size, num_layers, batch_first=True)\n",
    "        self.fc = nn.Linear(hidden_size, output_size)\n",
    "        \n",
    "    def forward(self, X):\n",
    "        X = X.reshape(*X.shape[:2],-1)\n",
    "        out, _ = self.lstm(X)\n",
    "        out = self.fc(out[:, -1])\n",
    "        pos_out = torch.sigmoid(out)\n",
    "        \n",
    "        return pos_out"
   ]
  },
  {
   "cell_type": "code",
   "execution_count": 4,
   "id": "0467986d",
   "metadata": {},
   "outputs": [],
   "source": [
    "# Defining hyperparams\n",
    "BATCH_SIZE = 64\n",
    "NUM_SEQUENCE = 168\n",
    "NUM_FEATURES = 10*129\n",
    "NUM_LAYERS = 3\n",
    "OUTPUT_SIZE = 1\n",
    "HIDDEN_SIZE = 64\n",
    "INPUT_SIZE = NUM_FEATURES"
   ]
  },
  {
   "cell_type": "code",
   "execution_count": 5,
   "id": "b2298bd1",
   "metadata": {},
   "outputs": [],
   "source": [
    "## get total number of chunks for training\n",
    "total_train_chunks = len(list(Path(\"./data/saved_train_val_data/\").glob(\"X_train_17_08_*.pt\")))"
   ]
  },
  {
   "cell_type": "code",
   "execution_count": 6,
   "id": "f075f4f8",
   "metadata": {},
   "outputs": [],
   "source": [
    "val_dataset = CustomDataset(\"./data/saved_train_val_data/X_val_17_08.pt\", \n",
    "                            \"./data/saved_train_val_data/y_val_17_08.pt\")\n",
    "\n",
    "# Create a DataLoader to handle batching\n",
    "val_dataloader = DataLoader(val_dataset, batch_size=BATCH_SIZE, shuffle=True)"
   ]
  },
  {
   "cell_type": "markdown",
   "id": "8c0af158",
   "metadata": {},
   "source": [
    "## Creating model"
   ]
  },
  {
   "cell_type": "code",
   "execution_count": 7,
   "id": "e05411a8",
   "metadata": {},
   "outputs": [],
   "source": [
    "model = LSTMModel(INPUT_SIZE, HIDDEN_SIZE, NUM_LAYERS, OUTPUT_SIZE)\n",
    "model.to(DEVICE)\n",
    "# Defining Loss function\n",
    "criterion = nn.MSELoss()  \n",
    "# Defining optimizer\n",
    "lr = 0.0003\n",
    "optimizer = torch.optim.Adam(model.parameters(), lr=lr) "
   ]
  },
  {
   "cell_type": "code",
   "execution_count": 8,
   "id": "9df22bd5",
   "metadata": {},
   "outputs": [
    {
     "name": "stdout",
     "output_type": "stream",
     "text": [
      "Input proper model name:\tmodel_with_chunks\n"
     ]
    }
   ],
   "source": [
    "num_epochs = 20\n",
    "history = []\n",
    "\n",
    "scheduler = torch.optim.lr_scheduler.CyclicLR(optimizer, base_lr=lr, max_lr=0.001, cycle_momentum=False)\n",
    "\n",
    "val_min_loss = None\n",
    "\n",
    "model_name = input(\"Input proper model name:\\t\")"
   ]
  },
  {
   "cell_type": "markdown",
   "id": "885f2909",
   "metadata": {},
   "source": [
    "## Training"
   ]
  },
  {
   "cell_type": "code",
   "execution_count": 9,
   "id": "78f485bc",
   "metadata": {},
   "outputs": [
    {
     "data": {
      "application/vnd.jupyter.widget-view+json": {
       "model_id": "ccf292b64cda416bb558da7973ebfde7",
       "version_major": 2,
       "version_minor": 0
      },
      "text/plain": [
       "  0%|          | 0/313 [00:00<?, ?it/s]"
      ]
     },
     "metadata": {},
     "output_type": "display_data"
    },
    {
     "data": {
      "application/vnd.jupyter.widget-view+json": {
       "model_id": "690abff080894f3a89aa1e60f19a8ff2",
       "version_major": 2,
       "version_minor": 0
      },
      "text/plain": [
       "  0%|          | 0/125 [00:00<?, ?it/s]"
      ]
     },
     "metadata": {},
     "output_type": "display_data"
    },
    {
     "name": "stdout",
     "output_type": "stream",
     "text": [
      "/bin/bash: /home/server3090ti/anaconda3/lib/libtinfo.so.6: no version information available (required by /bin/bash)\n",
      "[sudo] password for server3090ti: Epoch [1/20]\n",
      "Train Loss: 0.0458\n",
      "Val Loss: 0.0361\n"
     ]
    },
    {
     "data": {
      "application/vnd.jupyter.widget-view+json": {
       "model_id": "dd5fba2df3af4d52be33bf08176b00bb",
       "version_major": 2,
       "version_minor": 0
      },
      "text/plain": [
       "  0%|          | 0/313 [00:00<?, ?it/s]"
      ]
     },
     "metadata": {},
     "output_type": "display_data"
    },
    {
     "data": {
      "application/vnd.jupyter.widget-view+json": {
       "model_id": "fddaa854cda140ca839359cc7fc58231",
       "version_major": 2,
       "version_minor": 0
      },
      "text/plain": [
       "  0%|          | 0/125 [00:00<?, ?it/s]"
      ]
     },
     "metadata": {},
     "output_type": "display_data"
    },
    {
     "name": "stdout",
     "output_type": "stream",
     "text": [
      "/bin/bash: /home/server3090ti/anaconda3/lib/libtinfo.so.6: no version information available (required by /bin/bash)\n",
      "[sudo] password for server3090ti: Epoch [2/20]\n",
      "Train Loss: 0.0348\n",
      "Val Loss: 0.0341\n"
     ]
    },
    {
     "data": {
      "application/vnd.jupyter.widget-view+json": {
       "model_id": "2bd6f2a7e6e444e591d2a11d1f4f37f1",
       "version_major": 2,
       "version_minor": 0
      },
      "text/plain": [
       "  0%|          | 0/313 [00:00<?, ?it/s]"
      ]
     },
     "metadata": {},
     "output_type": "display_data"
    },
    {
     "data": {
      "application/vnd.jupyter.widget-view+json": {
       "model_id": "8785a4183d944cba96c6e17b3858f67d",
       "version_major": 2,
       "version_minor": 0
      },
      "text/plain": [
       "  0%|          | 0/125 [00:00<?, ?it/s]"
      ]
     },
     "metadata": {},
     "output_type": "display_data"
    },
    {
     "name": "stdout",
     "output_type": "stream",
     "text": [
      "/bin/bash: /home/server3090ti/anaconda3/lib/libtinfo.so.6: no version information available (required by /bin/bash)\n",
      "[sudo] password for server3090ti: Epoch [3/20]\n",
      "Train Loss: 0.0334\n",
      "Val Loss: 0.0358\n"
     ]
    },
    {
     "data": {
      "application/vnd.jupyter.widget-view+json": {
       "model_id": "c07e783706b9487f9c9628709c97154c",
       "version_major": 2,
       "version_minor": 0
      },
      "text/plain": [
       "  0%|          | 0/313 [00:00<?, ?it/s]"
      ]
     },
     "metadata": {},
     "output_type": "display_data"
    },
    {
     "data": {
      "application/vnd.jupyter.widget-view+json": {
       "model_id": "a1828dda000c432d8a7ed820624e2c16",
       "version_major": 2,
       "version_minor": 0
      },
      "text/plain": [
       "  0%|          | 0/125 [00:00<?, ?it/s]"
      ]
     },
     "metadata": {},
     "output_type": "display_data"
    },
    {
     "name": "stdout",
     "output_type": "stream",
     "text": [
      "/bin/bash: /home/server3090ti/anaconda3/lib/libtinfo.so.6: no version information available (required by /bin/bash)\n",
      "[sudo] password for server3090ti: Epoch [4/20]\n",
      "Train Loss: 0.0324\n",
      "Val Loss: 0.0317\n"
     ]
    },
    {
     "data": {
      "application/vnd.jupyter.widget-view+json": {
       "model_id": "adb2bc68ee2e4599a3807c7d7d808e66",
       "version_major": 2,
       "version_minor": 0
      },
      "text/plain": [
       "  0%|          | 0/313 [00:00<?, ?it/s]"
      ]
     },
     "metadata": {},
     "output_type": "display_data"
    },
    {
     "data": {
      "application/vnd.jupyter.widget-view+json": {
       "model_id": "186e949a81b048c2854611a1b8bffab6",
       "version_major": 2,
       "version_minor": 0
      },
      "text/plain": [
       "  0%|          | 0/125 [00:00<?, ?it/s]"
      ]
     },
     "metadata": {},
     "output_type": "display_data"
    },
    {
     "name": "stdout",
     "output_type": "stream",
     "text": [
      "/bin/bash: /home/server3090ti/anaconda3/lib/libtinfo.so.6: no version information available (required by /bin/bash)\n",
      "[sudo] password for server3090ti: Epoch [5/20]\n",
      "Train Loss: 0.0313\n",
      "Val Loss: 0.0315\n"
     ]
    },
    {
     "data": {
      "application/vnd.jupyter.widget-view+json": {
       "model_id": "6dd193fc6e62494480c2a17ccb2230fa",
       "version_major": 2,
       "version_minor": 0
      },
      "text/plain": [
       "  0%|          | 0/313 [00:00<?, ?it/s]"
      ]
     },
     "metadata": {},
     "output_type": "display_data"
    },
    {
     "data": {
      "application/vnd.jupyter.widget-view+json": {
       "model_id": "923da7e248fd4c39988be11721dec0b3",
       "version_major": 2,
       "version_minor": 0
      },
      "text/plain": [
       "  0%|          | 0/125 [00:00<?, ?it/s]"
      ]
     },
     "metadata": {},
     "output_type": "display_data"
    },
    {
     "name": "stdout",
     "output_type": "stream",
     "text": [
      "/bin/bash: /home/server3090ti/anaconda3/lib/libtinfo.so.6: no version information available (required by /bin/bash)\n",
      "[sudo] password for server3090ti: Epoch [6/20]\n",
      "Train Loss: 0.0311\n",
      "Val Loss: 0.0301\n"
     ]
    },
    {
     "data": {
      "application/vnd.jupyter.widget-view+json": {
       "model_id": "4b7b92572d5b43ac87b220f665dd753b",
       "version_major": 2,
       "version_minor": 0
      },
      "text/plain": [
       "  0%|          | 0/313 [00:00<?, ?it/s]"
      ]
     },
     "metadata": {},
     "output_type": "display_data"
    },
    {
     "data": {
      "application/vnd.jupyter.widget-view+json": {
       "model_id": "c1e6011bfeea4d769dd779fc1e727e6e",
       "version_major": 2,
       "version_minor": 0
      },
      "text/plain": [
       "  0%|          | 0/125 [00:00<?, ?it/s]"
      ]
     },
     "metadata": {},
     "output_type": "display_data"
    },
    {
     "name": "stdout",
     "output_type": "stream",
     "text": [
      "/bin/bash: /home/server3090ti/anaconda3/lib/libtinfo.so.6: no version information available (required by /bin/bash)\n",
      "[sudo] password for server3090ti: Epoch [7/20]\n",
      "Train Loss: 0.0302\n",
      "Val Loss: 0.0293\n"
     ]
    },
    {
     "data": {
      "application/vnd.jupyter.widget-view+json": {
       "model_id": "3598c7a0f2cd47cd9ed11af1c7940aaa",
       "version_major": 2,
       "version_minor": 0
      },
      "text/plain": [
       "  0%|          | 0/313 [00:00<?, ?it/s]"
      ]
     },
     "metadata": {},
     "output_type": "display_data"
    },
    {
     "data": {
      "application/vnd.jupyter.widget-view+json": {
       "model_id": "697254e505604abba2647a2084f0932b",
       "version_major": 2,
       "version_minor": 0
      },
      "text/plain": [
       "  0%|          | 0/125 [00:00<?, ?it/s]"
      ]
     },
     "metadata": {},
     "output_type": "display_data"
    },
    {
     "name": "stdout",
     "output_type": "stream",
     "text": [
      "/bin/bash: /home/server3090ti/anaconda3/lib/libtinfo.so.6: no version information available (required by /bin/bash)\n",
      "[sudo] password for server3090ti: Epoch [8/20]\n",
      "Train Loss: 0.0294\n",
      "Val Loss: 0.0295\n"
     ]
    },
    {
     "data": {
      "application/vnd.jupyter.widget-view+json": {
       "model_id": "079a340e6c4441f2920b1ae657ebdb62",
       "version_major": 2,
       "version_minor": 0
      },
      "text/plain": [
       "  0%|          | 0/313 [00:00<?, ?it/s]"
      ]
     },
     "metadata": {},
     "output_type": "display_data"
    },
    {
     "data": {
      "application/vnd.jupyter.widget-view+json": {
       "model_id": "ea8b26458cb343d29f79516af21a25dd",
       "version_major": 2,
       "version_minor": 0
      },
      "text/plain": [
       "  0%|          | 0/125 [00:00<?, ?it/s]"
      ]
     },
     "metadata": {},
     "output_type": "display_data"
    },
    {
     "name": "stdout",
     "output_type": "stream",
     "text": [
      "/bin/bash: /home/server3090ti/anaconda3/lib/libtinfo.so.6: no version information available (required by /bin/bash)\n",
      "[sudo] password for server3090ti: Epoch [9/20]\n",
      "Train Loss: 0.0285\n",
      "Val Loss: 0.0289\n"
     ]
    },
    {
     "data": {
      "application/vnd.jupyter.widget-view+json": {
       "model_id": "292650345de64d848a3852ef430a656e",
       "version_major": 2,
       "version_minor": 0
      },
      "text/plain": [
       "  0%|          | 0/313 [00:00<?, ?it/s]"
      ]
     },
     "metadata": {},
     "output_type": "display_data"
    },
    {
     "data": {
      "application/vnd.jupyter.widget-view+json": {
       "model_id": "6101deeedfeb4290801c312efa9057e7",
       "version_major": 2,
       "version_minor": 0
      },
      "text/plain": [
       "  0%|          | 0/125 [00:00<?, ?it/s]"
      ]
     },
     "metadata": {},
     "output_type": "display_data"
    },
    {
     "name": "stdout",
     "output_type": "stream",
     "text": [
      "/bin/bash: /home/server3090ti/anaconda3/lib/libtinfo.so.6: no version information available (required by /bin/bash)\n",
      "[sudo] password for server3090ti: Epoch [10/20]\n",
      "Train Loss: 0.0287\n",
      "Val Loss: 0.0288\n"
     ]
    },
    {
     "data": {
      "application/vnd.jupyter.widget-view+json": {
       "model_id": "1c4da97fe03b4bb0a3216fe43508fbb7",
       "version_major": 2,
       "version_minor": 0
      },
      "text/plain": [
       "  0%|          | 0/313 [00:00<?, ?it/s]"
      ]
     },
     "metadata": {},
     "output_type": "display_data"
    },
    {
     "data": {
      "application/vnd.jupyter.widget-view+json": {
       "model_id": "c162d6292514467c94909aa382872443",
       "version_major": 2,
       "version_minor": 0
      },
      "text/plain": [
       "  0%|          | 0/125 [00:00<?, ?it/s]"
      ]
     },
     "metadata": {},
     "output_type": "display_data"
    },
    {
     "name": "stdout",
     "output_type": "stream",
     "text": [
      "/bin/bash: /home/server3090ti/anaconda3/lib/libtinfo.so.6: no version information available (required by /bin/bash)\n",
      "[sudo] password for server3090ti: Epoch [11/20]\n",
      "Train Loss: 0.0273\n",
      "Val Loss: 0.0284\n"
     ]
    },
    {
     "data": {
      "application/vnd.jupyter.widget-view+json": {
       "model_id": "c95634a9ceea4d04b064ede84bd9c45b",
       "version_major": 2,
       "version_minor": 0
      },
      "text/plain": [
       "  0%|          | 0/313 [00:00<?, ?it/s]"
      ]
     },
     "metadata": {},
     "output_type": "display_data"
    },
    {
     "data": {
      "application/vnd.jupyter.widget-view+json": {
       "model_id": "c7c5ded98e8a44c3a1ba5778128544fe",
       "version_major": 2,
       "version_minor": 0
      },
      "text/plain": [
       "  0%|          | 0/125 [00:00<?, ?it/s]"
      ]
     },
     "metadata": {},
     "output_type": "display_data"
    },
    {
     "name": "stdout",
     "output_type": "stream",
     "text": [
      "/bin/bash: /home/server3090ti/anaconda3/lib/libtinfo.so.6: no version information available (required by /bin/bash)\n",
      "[sudo] password for server3090ti: Epoch [12/20]\n",
      "Train Loss: 0.0269\n",
      "Val Loss: 0.0273\n"
     ]
    },
    {
     "data": {
      "application/vnd.jupyter.widget-view+json": {
       "model_id": "af871cf88dce41d7ac006b933db7f84f",
       "version_major": 2,
       "version_minor": 0
      },
      "text/plain": [
       "  0%|          | 0/313 [00:00<?, ?it/s]"
      ]
     },
     "metadata": {},
     "output_type": "display_data"
    },
    {
     "data": {
      "application/vnd.jupyter.widget-view+json": {
       "model_id": "e6b73e706dbe411ba87d9d493cbacf72",
       "version_major": 2,
       "version_minor": 0
      },
      "text/plain": [
       "  0%|          | 0/125 [00:00<?, ?it/s]"
      ]
     },
     "metadata": {},
     "output_type": "display_data"
    },
    {
     "name": "stdout",
     "output_type": "stream",
     "text": [
      "/bin/bash: /home/server3090ti/anaconda3/lib/libtinfo.so.6: no version information available (required by /bin/bash)\n",
      "[sudo] password for server3090ti: Epoch [13/20]\n",
      "Train Loss: 0.0259\n",
      "Val Loss: 0.0265\n"
     ]
    },
    {
     "data": {
      "application/vnd.jupyter.widget-view+json": {
       "model_id": "559a8254877e4ad8a7f5d01e46d93426",
       "version_major": 2,
       "version_minor": 0
      },
      "text/plain": [
       "  0%|          | 0/313 [00:00<?, ?it/s]"
      ]
     },
     "metadata": {},
     "output_type": "display_data"
    },
    {
     "data": {
      "application/vnd.jupyter.widget-view+json": {
       "model_id": "b9be71b97ac04babafcc6be95d1a9212",
       "version_major": 2,
       "version_minor": 0
      },
      "text/plain": [
       "  0%|          | 0/125 [00:00<?, ?it/s]"
      ]
     },
     "metadata": {},
     "output_type": "display_data"
    },
    {
     "name": "stdout",
     "output_type": "stream",
     "text": [
      "/bin/bash: /home/server3090ti/anaconda3/lib/libtinfo.so.6: no version information available (required by /bin/bash)\n",
      "[sudo] password for server3090ti: Epoch [14/20]\n",
      "Train Loss: 0.0258\n",
      "Val Loss: 0.0288\n"
     ]
    },
    {
     "data": {
      "application/vnd.jupyter.widget-view+json": {
       "model_id": "ea9e299a25994411bcbdf84df8efbbbc",
       "version_major": 2,
       "version_minor": 0
      },
      "text/plain": [
       "  0%|          | 0/313 [00:00<?, ?it/s]"
      ]
     },
     "metadata": {},
     "output_type": "display_data"
    },
    {
     "data": {
      "application/vnd.jupyter.widget-view+json": {
       "model_id": "b067e3c2ec8b4d598bf0f6f72c24d34a",
       "version_major": 2,
       "version_minor": 0
      },
      "text/plain": [
       "  0%|          | 0/125 [00:00<?, ?it/s]"
      ]
     },
     "metadata": {},
     "output_type": "display_data"
    },
    {
     "name": "stdout",
     "output_type": "stream",
     "text": [
      "/bin/bash: /home/server3090ti/anaconda3/lib/libtinfo.so.6: no version information available (required by /bin/bash)\n",
      "[sudo] password for server3090ti: Epoch [15/20]\n",
      "Train Loss: 0.0256\n",
      "Val Loss: 0.0256\n"
     ]
    },
    {
     "data": {
      "application/vnd.jupyter.widget-view+json": {
       "model_id": "33e81a4183b84343ac00b0e7a6b98309",
       "version_major": 2,
       "version_minor": 0
      },
      "text/plain": [
       "  0%|          | 0/313 [00:00<?, ?it/s]"
      ]
     },
     "metadata": {},
     "output_type": "display_data"
    },
    {
     "data": {
      "application/vnd.jupyter.widget-view+json": {
       "model_id": "70b1a691e79e4abba45baccb0e38865e",
       "version_major": 2,
       "version_minor": 0
      },
      "text/plain": [
       "  0%|          | 0/125 [00:00<?, ?it/s]"
      ]
     },
     "metadata": {},
     "output_type": "display_data"
    },
    {
     "name": "stdout",
     "output_type": "stream",
     "text": [
      "/bin/bash: /home/server3090ti/anaconda3/lib/libtinfo.so.6: no version information available (required by /bin/bash)\n",
      "[sudo] password for server3090ti: Epoch [16/20]\n",
      "Train Loss: 0.0252\n",
      "Val Loss: 0.0254\n"
     ]
    },
    {
     "data": {
      "application/vnd.jupyter.widget-view+json": {
       "model_id": "661c52d7eca34c209cd9a3fac42635f6",
       "version_major": 2,
       "version_minor": 0
      },
      "text/plain": [
       "  0%|          | 0/313 [00:00<?, ?it/s]"
      ]
     },
     "metadata": {},
     "output_type": "display_data"
    },
    {
     "data": {
      "application/vnd.jupyter.widget-view+json": {
       "model_id": "1abb42040d894d269fb7bbec1abd779b",
       "version_major": 2,
       "version_minor": 0
      },
      "text/plain": [
       "  0%|          | 0/125 [00:00<?, ?it/s]"
      ]
     },
     "metadata": {},
     "output_type": "display_data"
    },
    {
     "name": "stdout",
     "output_type": "stream",
     "text": [
      "/bin/bash: /home/server3090ti/anaconda3/lib/libtinfo.so.6: no version information available (required by /bin/bash)\n",
      "[sudo] password for server3090ti: Epoch [17/20]\n",
      "Train Loss: 0.0251\n",
      "Val Loss: 0.0251\n"
     ]
    },
    {
     "data": {
      "application/vnd.jupyter.widget-view+json": {
       "model_id": "699fcea497084b809447187b33fc9a27",
       "version_major": 2,
       "version_minor": 0
      },
      "text/plain": [
       "  0%|          | 0/313 [00:00<?, ?it/s]"
      ]
     },
     "metadata": {},
     "output_type": "display_data"
    },
    {
     "data": {
      "application/vnd.jupyter.widget-view+json": {
       "model_id": "26e76e5af7c84bb894f7bcbb198288dc",
       "version_major": 2,
       "version_minor": 0
      },
      "text/plain": [
       "  0%|          | 0/125 [00:00<?, ?it/s]"
      ]
     },
     "metadata": {},
     "output_type": "display_data"
    },
    {
     "name": "stdout",
     "output_type": "stream",
     "text": [
      "/bin/bash: /home/server3090ti/anaconda3/lib/libtinfo.so.6: no version information available (required by /bin/bash)\n",
      "[sudo] password for server3090ti: Epoch [18/20]\n",
      "Train Loss: 0.0251\n",
      "Val Loss: 0.0261\n"
     ]
    },
    {
     "data": {
      "application/vnd.jupyter.widget-view+json": {
       "model_id": "6dae8ee92e72471fa2fc416d9d4470d9",
       "version_major": 2,
       "version_minor": 0
      },
      "text/plain": [
       "  0%|          | 0/313 [00:00<?, ?it/s]"
      ]
     },
     "metadata": {},
     "output_type": "display_data"
    },
    {
     "data": {
      "application/vnd.jupyter.widget-view+json": {
       "model_id": "ca103c3105a84b6f92cad5a9d56a3d46",
       "version_major": 2,
       "version_minor": 0
      },
      "text/plain": [
       "  0%|          | 0/125 [00:00<?, ?it/s]"
      ]
     },
     "metadata": {},
     "output_type": "display_data"
    },
    {
     "name": "stdout",
     "output_type": "stream",
     "text": [
      "/bin/bash: /home/server3090ti/anaconda3/lib/libtinfo.so.6: no version information available (required by /bin/bash)\n",
      "[sudo] password for server3090ti: Epoch [19/20]\n",
      "Train Loss: 0.0258\n",
      "Val Loss: 0.0253\n"
     ]
    },
    {
     "data": {
      "application/vnd.jupyter.widget-view+json": {
       "model_id": "49ffc7a843944e2bb1113195c0a4d909",
       "version_major": 2,
       "version_minor": 0
      },
      "text/plain": [
       "  0%|          | 0/313 [00:00<?, ?it/s]"
      ]
     },
     "metadata": {},
     "output_type": "display_data"
    },
    {
     "data": {
      "application/vnd.jupyter.widget-view+json": {
       "model_id": "138e9cd5a3ea4d22b63bae00ea484302",
       "version_major": 2,
       "version_minor": 0
      },
      "text/plain": [
       "  0%|          | 0/125 [00:00<?, ?it/s]"
      ]
     },
     "metadata": {},
     "output_type": "display_data"
    },
    {
     "name": "stdout",
     "output_type": "stream",
     "text": [
      "/bin/bash: /home/server3090ti/anaconda3/lib/libtinfo.so.6: no version information available (required by /bin/bash)\n",
      "[sudo] password for server3090ti: Epoch [20/20]\n",
      "Train Loss: 0.0251\n",
      "Val Loss: 0.0274\n"
     ]
    }
   ],
   "source": [
    "chunk_number = 0\n",
    "train_dataset = CustomDataset(f\"./data/saved_train_val_data/X_train_17_08_{chunk_number}.pt\", \n",
    "                        f\"./data/saved_train_val_data/y_train_17_08_{chunk_number}.pt\")\n",
    "train_dataloader = DataLoader(train_dataset, batch_size=BATCH_SIZE, shuffle=True)\n",
    "\n",
    "for epoch in range(num_epochs):\n",
    "    train_running_loss = 0.0\n",
    "    model.train()\n",
    "    \n",
    "    for i, batch in enumerate(tqdm(train_dataloader, position=0, leave=True)):\n",
    "\n",
    "        # Every data instance is an input + label pair\n",
    "        X_train1, y_train1 = batch[0].to(torch.float32).to(DEVICE), batch[1].to(torch.float32).to(DEVICE)\n",
    "\n",
    "        # Make predictions for this batch\n",
    "        outputs = model(X_train1)\n",
    "\n",
    "        # Compute the loss and its gradients\n",
    "        loss = criterion(outputs, y_train1)\n",
    "        loss.backward()\n",
    "\n",
    "        # Adjust learning weights\n",
    "        optimizer.step()\n",
    "        scheduler.step()\n",
    "        \n",
    "        # Zero your gradients for every batch!\n",
    "        optimizer.zero_grad()\n",
    "\n",
    "        # Gather data and report\n",
    "        train_running_loss += loss.item()\n",
    "    \n",
    "    model.eval()\n",
    "    val_running_loss = 0.\n",
    "    \n",
    "    with torch.no_grad():\n",
    "        for i, batch in enumerate(tqdm(val_dataloader, position=0, leave=True)):\n",
    "\n",
    "            # Every data instance is an input + label pair\n",
    "            X_val1, y_val1 = batch[0].to(torch.float32).to(DEVICE), batch[1].to(torch.float32).to(DEVICE)\n",
    "\n",
    "            # Make predictions for this batch\n",
    "            outputs = model(X_val1)\n",
    "            # Compute the loss and its gradients\n",
    "            loss = criterion(outputs, y_val1)\n",
    "            \n",
    "            # Gather data and report\n",
    "            val_running_loss += loss.item()\n",
    "\n",
    "    mean_train_loss = train_running_loss/len(train_dataloader)\n",
    "    mean_val_loss = val_running_loss/len(val_dataloader)\n",
    "    \n",
    "    if val_min_loss is None:\n",
    "        val_min_loss = mean_val_loss\n",
    "    else:\n",
    "        if mean_val_loss < val_min_loss:\n",
    "            val_min_loss = mean_val_loss\n",
    "            torch.save(model.state_dict(), f'./models/{model_name}.pth')\n",
    "    \n",
    "    history.append([mean_train_loss, mean_val_loss])\n",
    "    \n",
    "    # change the chunk number\n",
    "    \n",
    "    if (epoch % (num_epochs // total_train_chunks) == 0) and (epoch != 0):\n",
    "        del train_dataset\n",
    "        print(\"Selecting next chunk for training....\")\n",
    "        chunk_number = (chunk_number + 1) % total_train_chunks\n",
    "    !echo \"ararat\" | sudo -S sh -c 'echo 3 > /proc/sys/vm/drop_caches'\n",
    "    print(f\"Epoch [{epoch+1}/{num_epochs}]\\nTrain Loss: {round(mean_train_loss, 4)}\\nVal Loss: {round(mean_val_loss, 4)}\")"
   ]
  },
  {
   "cell_type": "code",
   "execution_count": 10,
   "id": "54dc8fe1",
   "metadata": {},
   "outputs": [
    {
     "data": {
      "image/png": "[encoded data removed]",
      "text/plain": [
       "<Figure size 640x480 with 1 Axes>"
      ]
     },
     "metadata": {},
     "output_type": "display_data"
    }
   ],
   "source": [
    "history = np.array(history)\n",
    "plt.plot(history)\n",
    "plt.legend([\"train\", \"val\"])\n",
    "plt.show()"
   ]
  },
  {
   "cell_type": "code",
   "execution_count": 11,
   "id": "6220e4b1",
   "metadata": {},
   "outputs": [],
   "source": [
    "model = LSTMModel(INPUT_SIZE, HIDDEN_SIZE, NUM_LAYERS, OUTPUT_SIZE)\n",
    "model.load_state_dict(torch.load(\"models/model_with_chunks.pth\"))\n",
    "model.to(DEVICE);"
   ]
  },
  {
   "cell_type": "code",
   "execution_count": 12,
   "id": "b1eb3422",
   "metadata": {},
   "outputs": [],
   "source": [
    "X_val = torch.load(\"data/saved_train_val_data/X_val_17_08.pt\")\n",
    "y_val = torch.load(\"data/saved_train_val_data/y_val_17_08.pt\")\n",
    "\n",
    "model.eval()\n",
    "preds = model(X_val[:3000].to(torch.float32).to(DEVICE)).detach().cpu().numpy()\n",
    "ground_truth = (y_val[:3000]).numpy()"
   ]
  },
  {
   "cell_type": "markdown",
   "id": "8aa95e36",
   "metadata": {},
   "source": [
    "# MAE"
   ]
  },
  {
   "cell_type": "code",
   "execution_count": 13,
   "id": "369337f1",
   "metadata": {},
   "outputs": [
    {
     "name": "stdout",
     "output_type": "stream",
     "text": [
      "0.1119\n"
     ]
    }
   ],
   "source": [
    "print(np.abs(preds - ground_truth).mean().round(4))"
   ]
  },
  {
   "cell_type": "code",
   "execution_count": 14,
   "id": "b8497ab2",
   "metadata": {},
   "outputs": [
    {
     "data": {
      "image/png": "[encoded data removed]",
      "text/plain": [
       "<Figure size 800x600 with 1 Axes>"
      ]
     },
     "metadata": {},
     "output_type": "display_data"
    }
   ],
   "source": [
    "# Create KDE plots for predictions and ground truth\n",
    "plt.figure(figsize=(8, 6))\n",
    "sns.kdeplot(preds.squeeze(), label='Predictions', color='blue')\n",
    "sns.kdeplot(ground_truth.squeeze(), label='Ground Truth', color='red')\n",
    "\n",
    "# Set labels and title\n",
    "plt.xlabel('Mean Booking')\n",
    "plt.ylabel('Density')\n",
    "plt.title('Kernel Density Estimation - Predictions vs. Ground Truth')\n",
    "plt.legend()\n",
    "\n",
    "# Show the plot\n",
    "plt.show()"
   ]
  },
  {
   "cell_type": "code",
   "execution_count": 15,
   "id": "655dbf2a",
   "metadata": {},
   "outputs": [
    {
     "data": {
      "image/png": "[encoded data removed]",
      "text/plain": [
       "<Figure size 800x600 with 1 Axes>"
      ]
     },
     "metadata": {},
     "output_type": "display_data"
    }
   ],
   "source": [
    "# Create a diagonal line for y = x\n",
    "x_values = np.linspace(min(preds[..., 0].min(), ground_truth[..., 0].min()), max(preds[..., 0].max(), ground_truth[..., 0].max()), 100)\n",
    "y_values = x_values\n",
    "\n",
    "# Plot the scatter plot\n",
    "plt.figure(figsize=(8, 6))\n",
    "sns.scatterplot(x=preds[..., 0], y=ground_truth[..., 0])\n",
    "\n",
    "# Plot the diagonal line\n",
    "plt.plot(x_values, y_values, color='red', linestyle='dashed', label='y = x')\n",
    "\n",
    "# Set labels and title\n",
    "plt.xlabel('Predictions')\n",
    "plt.ylabel('Ground Truth')\n",
    "plt.title('Scatter plot - Predictions vs. Ground Truth')\n",
    "\n",
    "# Show the plot\n",
    "plt.legend()\n",
    "plt.show()\n"
   ]
  },
  {
   "cell_type": "code",
   "execution_count": null,
   "id": "56792aae",
   "metadata": {},
   "outputs": [],
   "source": []
  }
 ],
 "metadata": {
  "kernelspec": {
   "display_name": "Python 3 (ipykernel)",
   "language": "python",
   "name": "python3"
  },
  "language_info": {
   "codemirror_mode": {
    "name": "ipython",
    "version": 3
   },
   "file_extension": ".py",
   "mimetype": "text/x-python",
   "name": "python",
   "nbconvert_exporter": "python",
   "pygments_lexer": "ipython3",
   "version": "3.9.12"
  }
 },
 "nbformat": 4,
 "nbformat_minor": 5
}
