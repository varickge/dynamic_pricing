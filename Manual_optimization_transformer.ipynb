{
 "cells": [
  {
   "cell_type": "code",
   "execution_count": null,
   "id": "ea18236c",
   "metadata": {},
   "outputs": [],
   "source": [
    "from utils import *\n",
    "from tst import Transformer\n"
   ]
  },
  {
   "cell_type": "code",
   "execution_count": null,
   "id": "c4192afe",
   "metadata": {},
   "outputs": [],
   "source": [
    "class SimpleModel(nn.Module):\n",
    "    \n",
    "    def __init__(self):\n",
    "        \n",
    "        super().__init__()\n",
    "        self.transformer = Transformer(d_input=220, d_model=1024, d_output=16, q=8, v=8, h=20, N=20, chunk_mode=None)\n",
    "        self.target_year_linear = nn.Linear(9, 16)\n",
    "        self.intermediate_linear = nn.Linear(192, 32)\n",
    "        self.prediction_head = nn.Linear(32, 1)\n",
    "        self.activation = nn.ReLU()\n",
    "        self.batchnorm = nn.BatchNorm1d(32)\n",
    "    \n",
    "    def forward(self, X, x):\n",
    "        \n",
    "        transformer_features = self.transformer(X)\n",
    "        \n",
    "        x_features = self.target_year_linear(x)\n",
    "                \n",
    "        transformer_features = transformer_features.reshape(transformer_features.shape[0], -1)\n",
    "        \n",
    "        joint_features = torch.cat([transformer_features, x_features], dim=-1)\n",
    "        \n",
    "        joint_features = self.activation(self.batchnorm(self.intermediate_linear(joint_features)))\n",
    "        \n",
    "        prediction = self.prediction_head(joint_features)\n",
    "        \n",
    "        return prediction"
   ]
  },
  {
   "cell_type": "code",
   "execution_count": null,
   "id": "3257f0b3",
   "metadata": {},
   "outputs": [],
   "source": [
    "model = SimpleModel().to(device=DEVICE).eval()"
   ]
  },
  {
   "cell_type": "code",
   "execution_count": null,
   "id": "43919541",
   "metadata": {},
   "outputs": [],
   "source": [
    "def Reward(outputs, price):\n",
    "    reward = outputs * price\n",
    "    return reward"
   ]
  },
  {
   "cell_type": "code",
   "execution_count": null,
   "id": "60f5b57a",
   "metadata": {},
   "outputs": [],
   "source": [
    "data_X = torch.split(torch.load('data/proof_of_concept/X_test.pt').to(torch.float32), 1)\n",
    "data_x = torch.split(torch.load('data/proof_of_concept/x_test.pt').to(torch.float32), 1)"
   ]
  },
  {
   "cell_type": "code",
   "execution_count": null,
   "id": "e0bb638d",
   "metadata": {},
   "outputs": [],
   "source": [
    "SH = data_X[0].shape"
   ]
  },
  {
   "cell_type": "code",
   "execution_count": null,
   "id": "d0ef60e0",
   "metadata": {},
   "outputs": [],
   "source": [
    "M = len(data_X)\n",
    "N = 1000\n",
    "history = np.zeros((M, 3, N))\n",
    "\n",
    "for i, (sample_X, sample_x) in enumerate(zip(data_X, data_x)):\n",
    "\n",
    "    for j, price in enumerate(np.linspace(0, 500, N)):\n",
    "\n",
    "        sample_x[0, -5] = price\n",
    "        mean_b = model(sample_X.view(1, 11, -1).to(DEVICE), sample_x.to(DEVICE))\n",
    "        reward = Reward(price, mean_b)\n",
    "\n",
    "        history[i, 0, j] = price\n",
    "        history[i, 1, j] = mean_b\n",
    "        history[i, 2, j] = reward    "
   ]
  },
  {
   "cell_type": "code",
   "execution_count": null,
   "id": "0ce7a7ed",
   "metadata": {
    "scrolled": false
   },
   "outputs": [],
   "source": [
    "fig, ax = plt.subplots(M, 2, figsize=(15, 10))\n",
    "\n",
    "for i in range(M):\n",
    "    ax[i, 0].plot(history[i, 0, :], history[i, 1, :])\n",
    "    ax[i, 1].plot(history[i, 0, :], history[i, 2, :])\n",
    "    \n",
    "for ax_, col in zip(ax[0], [\"Mean booked decades\", \"Reward\"]):\n",
    "    ax_.set_title(col)\n",
    "\n",
    "for i in range(M):\n",
    "    ylabel = ax[i, 0].set_ylabel(f\"case {i+1}\")\n",
    "    ylabel.set_rotation(0)\n",
    "    \n",
    "    ax[i, 0].set_xlabel(f\"Price\")\n",
    "    ax[i, 1].set_xlabel(f\"Price\")\n",
    "    \n",
    "plt.tight_layout()"
   ]
  },
  {
   "cell_type": "code",
   "execution_count": null,
   "id": "2a6ad5fd",
   "metadata": {},
   "outputs": [],
   "source": [
    "M = len(data_X)\n",
    "N = 1000\n",
    "history = np.zeros((M, 3, N))\n",
    "\n",
    "for i, (sample_X, sample_x) in enumerate(zip(data_X, data_x)):\n",
    "\n",
    "    for j, price in enumerate(np.linspace(0, 50, N)):\n",
    "\n",
    "        sample_x[0, -5] = price\n",
    "        mean_b = model(sample_X.view(1, 11, -1).to(DEVICE), sample_x.to(DEVICE))\n",
    "        reward = Reward(price, mean_b)\n",
    "\n",
    "        history[i, 0, j] = price\n",
    "        history[i, 1, j] = mean_b\n",
    "        history[i, 2, j] = reward    "
   ]
  },
  {
   "cell_type": "code",
   "execution_count": null,
   "id": "0951f086",
   "metadata": {},
   "outputs": [],
   "source": [
    "lbl = np.round(np.linspace(0, 50, 25), 0)"
   ]
  },
  {
   "cell_type": "code",
   "execution_count": null,
   "id": "d3efc535",
   "metadata": {},
   "outputs": [],
   "source": [
    "fig, ax = plt.subplots(M, 2, figsize=(15, 10))\n",
    "from matplotlib.ticker import MaxNLocator\n",
    "\n",
    "for i in range(M):\n",
    "    ax[i, 0].plot(history[i, 0, :], history[i, 1, :])\n",
    "    ax[i, 1].plot(history[i, 0, :], history[i, 2, :])\n",
    "    \n",
    "for ax_, col in zip(ax[0], [\"Mean booked decades\", \"Reward\"]):\n",
    "    ax_.set_title(col)\n",
    "\n",
    "for i in range(M):\n",
    "    ylabel = ax[i, 0].set_ylabel(f\"case {i+1}\")\n",
    "    ylabel.set_rotation(0)\n",
    "    \n",
    "    ax[i, 0].set_xlabel(f\"Price\")\n",
    "    ax[i, 1].set_xlabel(f\"Price\")\n",
    "    \n",
    "    ax[i, 0].set_xticks(lbl)\n",
    "    ax[i, 0].set_xticklabels(lbl)\n",
    "    ax[i, 1].set_xticks(lbl)\n",
    "    ax[i, 1].set_xticklabels(lbl)\n",
    "    \n",
    "    ax[i, 0].tick_params(axis='x', labelsize=8)  \n",
    "    ax[i, 1].tick_params(axis='x', labelsize=8)  \n",
    "    \n",
    "\n",
    "\n",
    "plt.tight_layout()"
   ]
  }
 ],
 "metadata": {
  "kernelspec": {
   "display_name": "Python 3 (ipykernel)",
   "language": "python",
   "name": "python3"
  },
  "language_info": {
   "codemirror_mode": {
    "name": "ipython",
    "version": 3
   },
   "file_extension": ".py",
   "mimetype": "text/x-python",
   "name": "python",
   "nbconvert_exporter": "python",
   "pygments_lexer": "ipython3",
   "version": "3.9.12"
  }
 },
 "nbformat": 4,
 "nbformat_minor": 5
}
