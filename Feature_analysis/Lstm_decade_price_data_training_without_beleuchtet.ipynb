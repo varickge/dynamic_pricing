{
 "cells": [
  {
   "cell_type": "code",
   "execution_count": 1,
   "id": "c5ff7cdc",
   "metadata": {},
   "outputs": [],
   "source": [
    "from utils import *"
   ]
  },
  {
   "cell_type": "code",
   "execution_count": 6,
   "id": "89d7fcb4",
   "metadata": {},
   "outputs": [],
   "source": [
    "CONST_COLUMNS = [\n",
    "    'Stellensubart_1', \n",
    "    'Stellensubart_2',\n",
    "    'Stellensubart_3',\n",
    "    'Stellensubart_4',\n",
    "    *[f\"T{i}\" for i in range(1, 35)],\n",
    "    *[f\"TD{i:02d}\" for i in range(1, 35)],\n",
    "    \"Preis\",\n",
    "#     \"Beleuchtet\",\n",
    "    \"Laenge\",\n",
    "    \"Breite\",\n",
    "    \"Eigenfläche\",\n",
    "    \"PPSVACWert\",\n",
    "    \"Qid\",\n",
    "    \"GJ\",\n",
    "]"
   ]
  },
  {
   "cell_type": "code",
   "execution_count": 7,
   "id": "6a013d49",
   "metadata": {},
   "outputs": [],
   "source": [
    "data = pd.read_pickle(\"../data/decade_price_data_combined_01_09.pkl\")"
   ]
  },
  {
   "cell_type": "code",
   "execution_count": 8,
   "id": "586b77bb",
   "metadata": {},
   "outputs": [],
   "source": [
    "distance_2018 = pd.read_csv(\n",
    "    \"../data/distances/distances_2018_new_algo_200.csv\"\n",
    ").set_index(\"Qid_1\")\n",
    "distance_2019 = pd.read_csv(\n",
    "    \"../data/distances/distances_2019_new_algo_200.csv\"\n",
    ").set_index(\"Qid_1\")\n",
    "distance_2020 = pd.read_csv(\n",
    "    \"../data/distances/distances_2020_new_algo_200.csv\"\n",
    ").set_index(\"Qid_1\")\n",
    "distance_2021 = pd.read_csv(\n",
    "    \"../data/distances/distances_2021_new_algo_200.csv\"\n",
    ").set_index(\"Qid_1\")\n",
    "distance_2022 = pd.read_csv(\n",
    "    \"../data/distances/distances_2022_new_algo_200.csv\"\n",
    ").set_index(\"Qid_1\")"
   ]
  },
  {
   "cell_type": "code",
   "execution_count": 9,
   "id": "4bdd1154",
   "metadata": {},
   "outputs": [],
   "source": [
    "cleaned_data = data.sort_values(by=[\"Qid\", \"GJ\"]).set_index(\"Qid\", drop=False)\n",
    "cleaned_data = cleaned_data.loc[:, CONST_COLUMNS]"
   ]
  },
  {
   "cell_type": "markdown",
   "id": "3871a3c8",
   "metadata": {},
   "source": [
    "# Normalize cols"
   ]
  },
  {
   "cell_type": "code",
   "execution_count": 10,
   "id": "cf65d9ab",
   "metadata": {},
   "outputs": [],
   "source": [
    "list_of_t =['TD01', 'TD02', 'TD03', 'TD04',\n",
    "           'TD05', 'TD06', 'TD07', 'TD08', 'TD09', 'TD10', 'TD11', 'TD12', 'TD13',\n",
    "           'TD14', 'TD15', 'TD16', 'TD17', 'TD18', 'TD19', 'TD20', 'TD21', 'TD22',\n",
    "           'TD23', 'TD24', 'TD25', 'TD26', 'TD27', 'TD28', 'TD29', 'TD30', 'TD31',\n",
    "           'TD32', 'TD33', 'TD34']\n",
    "\n",
    "for i in list_of_t:\n",
    "    cleaned_data[i] = (\n",
    "        cleaned_data[i] - cleaned_data[i].mean()\n",
    "    ) / cleaned_data[i].std()\n",
    "\n",
    "cleaned_data.Preis = (\n",
    "    cleaned_data.Preis - cleaned_data.Preis.mean()\n",
    ") / cleaned_data.Preis.std()\n",
    "cleaned_data.Laenge = (\n",
    "    cleaned_data.Laenge - cleaned_data.Laenge.mean()\n",
    ") / cleaned_data.Laenge.std()\n",
    "cleaned_data.Breite = (\n",
    "    cleaned_data.Breite - cleaned_data.Breite.mean()\n",
    ") / cleaned_data.Breite.std()\n",
    "cleaned_data.PPSVACWert = (\n",
    "    cleaned_data.PPSVACWert - cleaned_data.PPSVACWert.mean()\n",
    ") / cleaned_data.PPSVACWert.std()"
   ]
  },
  {
   "cell_type": "code",
   "execution_count": 11,
   "id": "060a7586",
   "metadata": {},
   "outputs": [],
   "source": [
    "data_2018 = cleaned_data[cleaned_data.GJ == 2018].drop(columns=[\"Qid\", \"GJ\"]).copy()\n",
    "data_2019 = cleaned_data[cleaned_data.GJ == 2019].drop(columns=[\"Qid\", \"GJ\"]).copy()\n",
    "data_2020 = cleaned_data[cleaned_data.GJ == 2020].drop(columns=[\"Qid\", \"GJ\"]).copy()\n",
    "data_2021 = cleaned_data[cleaned_data.GJ == 2021].drop(columns=[\"Qid\", \"GJ\"]).copy()\n",
    "data_2022 = cleaned_data[cleaned_data.GJ == 2022].drop(columns=[\"Qid\", \"GJ\"]).copy()\n",
    "data_2023 = cleaned_data[cleaned_data.GJ == 2023].drop(columns=[\"Qid\", \"GJ\"]).copy()"
   ]
  },
  {
   "cell_type": "code",
   "execution_count": 12,
   "id": "3c6a4253",
   "metadata": {},
   "outputs": [],
   "source": [
    "data_2023.loc[:, \"T1\":\"T22\"] = data_2023.loc[:, \"T1\":\"T22\"].replace(-1, 0)"
   ]
  },
  {
   "cell_type": "code",
   "execution_count": 13,
   "id": "b4199599",
   "metadata": {},
   "outputs": [],
   "source": [
    "all_valid_qids = cleaned_data[cleaned_data.Eigenfläche == 1].Qid.unique()"
   ]
  },
  {
   "cell_type": "code",
   "execution_count": 14,
   "id": "cfd7a40b",
   "metadata": {},
   "outputs": [],
   "source": [
    "qid_train, qid_val = train_test_split(all_valid_qids, test_size=0.05, random_state=666)"
   ]
  },
  {
   "cell_type": "markdown",
   "id": "63c78be7",
   "metadata": {},
   "source": [
    "# Data Loading"
   ]
  },
  {
   "cell_type": "code",
   "execution_count": 15,
   "id": "63d69c95",
   "metadata": {
    "scrolled": false
   },
   "outputs": [],
   "source": [
    "def DataPreprocessor(qids):\n",
    "    \n",
    "    MAX_NEIGH = 10\n",
    "    \n",
    "    columns_to_drop = [\n",
    "        \"PPSVACWert\",\n",
    "        *[f\"T{i}\" for i in range(1, 35)],\n",
    "        *[f\"TD{i:02d}\" for i in range(1, 35)],\n",
    "    ]\n",
    "\n",
    "    global data_2018, data_2019, data_2020, data_2021, data_2022, data_2023\n",
    "    global distance_2018, distance_2019, distance_2020, distance_2021, distance_2022\n",
    "    X, x, y = [], [], []\n",
    "\n",
    "    all_year_data = [data_2018, data_2019, data_2020, data_2021, data_2022]\n",
    "    all_year_distances = [\n",
    "        distance_2018,\n",
    "        distance_2019,\n",
    "        distance_2020,\n",
    "        distance_2021,\n",
    "        distance_2022,\n",
    "    ]\n",
    "\n",
    "    for idx, qid in enumerate(tqdm(qids)):\n",
    "        \n",
    "        if (data_2023.index == qid).sum():\n",
    "\n",
    "            neighbours_features = []\n",
    "\n",
    "            for year_data, year_distances in zip(all_year_data, all_year_distances):\n",
    "                current_distances = year_distances[year_distances.index == qid]\n",
    "\n",
    "                if (current_distances.shape[0] != 0) and ((year_data.index == qid).sum() != 0):\n",
    "                    current_year_neighbours = current_distances[\n",
    "                        current_distances.Qid_2 != qid\n",
    "                    ]\n",
    "#                     current_year_neighbours_data = torch.from_numpy(\n",
    "#                         year_data.loc[current_year_neighbours.Qid_2].values\n",
    "#                     )\n",
    "                    \n",
    "                    current_year_neighbours_data = torch.from_numpy(\n",
    "                        year_data[year_data.index.isin(current_year_neighbours.Qid_2)].values\n",
    "                    )\n",
    "                    current_year_neighbours_data_padded = pad(\n",
    "                        current_year_neighbours_data,\n",
    "                        (0, 0, 0, MAX_NEIGH - current_year_neighbours_data.shape[0]),\n",
    "                        \"constant\",\n",
    "                        0,\n",
    "                    )\n",
    "\n",
    "                    current_year_self_data = torch.from_numpy(year_data.loc[qid].values)\n",
    "\n",
    "                    if (current_year_self_data.ndim == 2) and (\n",
    "                        current_year_self_data.shape[0] > 1\n",
    "                    ):\n",
    "                        current_year_self_data = current_year_self_data[0]\n",
    "\n",
    "                    current_year_data_point = torch.cat(\n",
    "                        [current_year_self_data[None], current_year_neighbours_data_padded],\n",
    "                        dim=0,\n",
    "                    )\n",
    "\n",
    "                else:\n",
    "                    # Fill with dummy zeros\n",
    "                    current_year_data_point = torch.zeros(11, 77)\n",
    "\n",
    "                neighbours_features.append(current_year_data_point)\n",
    "\n",
    "\n",
    "            self_data_2023 = torch.from_numpy(\n",
    "                data_2023.loc[qid].drop(labels=columns_to_drop).values\n",
    "            )\n",
    "\n",
    "            neighbours_features = torch.stack(neighbours_features, dim=0)\n",
    "            label = torch.tensor(data_2023.loc[qid, \"T1\":\"T22\"].mean())\n",
    "\n",
    "            X.append(neighbours_features)\n",
    "            x.append(self_data_2023)\n",
    "            y.append(label)\n",
    "\n",
    "    X = torch.stack(X, dim=0)\n",
    "    x = torch.stack(x, dim=0)\n",
    "    y = torch.stack(y, dim=0)\n",
    "\n",
    "    return X, x, y"
   ]
  },
  {
   "cell_type": "code",
   "execution_count": 16,
   "id": "b770e626",
   "metadata": {},
   "outputs": [
    {
     "name": "stderr",
     "output_type": "stream",
     "text": [
      "100%|█████████████████████████████████████| 63586/63586 [10:56<00:00, 96.86it/s]\n"
     ]
    }
   ],
   "source": [
    "X_train, x_train, y_train = DataPreprocessor(qid_train)"
   ]
  },
  {
   "cell_type": "code",
   "execution_count": 17,
   "id": "13987ac1",
   "metadata": {},
   "outputs": [],
   "source": [
    "torch.save(X_train, \"./data/X_train_lstm_decade_price_without_beleuchtet.pt\")\n",
    "torch.save(x_train, \"./data/x_train_lstm_decade_price_without_beleuchtet.pt\")\n",
    "torch.save(y_train, \"./data/y_train_lstm_decade_price_without_beleuchtet.pt\")"
   ]
  },
  {
   "cell_type": "code",
   "execution_count": 18,
   "id": "eb275eea",
   "metadata": {},
   "outputs": [
    {
     "name": "stderr",
     "output_type": "stream",
     "text": [
      "100%|███████████████████████████████████████| 3347/3347 [00:35<00:00, 94.64it/s]\n"
     ]
    }
   ],
   "source": [
    "X_val, x_val, y_val = DataPreprocessor(qid_val)"
   ]
  },
  {
   "cell_type": "code",
   "execution_count": 19,
   "id": "49be947c",
   "metadata": {},
   "outputs": [],
   "source": [
    "torch.save(X_val, \"./data/X_val_lstm_decade_price_without_beleuchtet.pt\")\n",
    "torch.save(x_val, \"./data/x_val_lstm_decade_price_without_beleuchtet.pt\")\n",
    "torch.save(y_val, \"./data/y_val_lstm_decade_price_without_beleuchtet.pt\")"
   ]
  },
  {
   "cell_type": "code",
   "execution_count": 20,
   "id": "8787e2bd",
   "metadata": {},
   "outputs": [],
   "source": [
    "test_qids = np.array([9333, 9855, 9673, 9860])"
   ]
  },
  {
   "cell_type": "code",
   "execution_count": 21,
   "id": "d53758c1",
   "metadata": {},
   "outputs": [
    {
     "name": "stderr",
     "output_type": "stream",
     "text": [
      "100%|█████████████████████████████████████████████| 4/4 [00:00<00:00, 73.75it/s]\n"
     ]
    }
   ],
   "source": [
    "# # loading test data\n",
    "X_test, x_test, y_test = DataPreprocessor(test_qids)\n",
    "\n",
    "torch.save(X_test, \"./data/X_test_lstm_decade_price_without_beleuchtet.pt\")\n",
    "torch.save(x_test, \"./data/x_test_lstm_decade_price_without_beleuchtet.pt\")\n",
    "torch.save(y_test, \"./data/y_test_lstm_decade_price_without_beleuchtet.pt\")"
   ]
  },
  {
   "cell_type": "code",
   "execution_count": 22,
   "id": "6eebd2fd",
   "metadata": {},
   "outputs": [],
   "source": [
    "qids=np.load('../data/val_qids_1000.npy')\n",
    "qids.sort()"
   ]
  },
  {
   "cell_type": "code",
   "execution_count": 23,
   "id": "83c8e80a",
   "metadata": {},
   "outputs": [
    {
     "name": "stderr",
     "output_type": "stream",
     "text": [
      "100%|███████████████████████████████████████| 1000/1000 [00:14<00:00, 71.13it/s]\n"
     ]
    }
   ],
   "source": [
    "X_test_1000, x_test_1000, y_test_1000 = DataPreprocessor(qids)"
   ]
  },
  {
   "cell_type": "code",
   "execution_count": 24,
   "id": "f241367e",
   "metadata": {},
   "outputs": [],
   "source": [
    "torch.save(X_test_1000, \"./data/X_val_1000__without_beleuchtet.pt\")\n",
    "torch.save(x_test_1000, \"./data/x_val_1000__without_beleuchtet.pt\")\n",
    "torch.save(y_test_1000, \"./data/y_val_1000__without_beleuchtet.pt\")"
   ]
  },
  {
   "cell_type": "markdown",
   "id": "dcc4355e",
   "metadata": {},
   "source": [
    "# Models"
   ]
  },
  {
   "cell_type": "code",
   "execution_count": 25,
   "id": "d37212e9",
   "metadata": {},
   "outputs": [],
   "source": [
    "from utils import *"
   ]
  },
  {
   "cell_type": "code",
   "execution_count": 26,
   "id": "8e60d3d3",
   "metadata": {},
   "outputs": [],
   "source": [
    "class LSTMModel(nn.Module):\n",
    "    def __init__(self, input_size, hidden_size, num_layers, output_size):\n",
    "        super(LSTMModel, self).__init__()\n",
    "        self.hidden_size = hidden_size\n",
    "        self.num_layers = num_layers\n",
    "        self.lstm = nn.LSTM(\n",
    "            input_size,\n",
    "            hidden_size,\n",
    "            num_layers,\n",
    "            batch_first=True,\n",
    "            bias=True,\n",
    "            dropout=0.0,\n",
    "        )\n",
    "\n",
    "        self.fc_1 = nn.Sequential(\n",
    "            nn.Linear(11, 1),\n",
    "        )\n",
    "\n",
    "        self.fc_2 = nn.Sequential(\n",
    "            nn.Linear(hidden_size // 1, hidden_size // 2),\n",
    "            nn.LeakyReLU(),\n",
    "            nn.BatchNorm1d(hidden_size // 2),\n",
    "            nn.Dropout1d(0.0),\n",
    "            nn.Linear(hidden_size // 2, hidden_size // 4),\n",
    "            nn.LeakyReLU(),\n",
    "            nn.Dropout1d(0.0),\n",
    "            nn.Linear(hidden_size // 4, hidden_size // 8),\n",
    "            nn.LeakyReLU(),\n",
    "            nn.Dropout1d(0.0),\n",
    "            nn.Linear(hidden_size // 8, output_size),\n",
    "        )\n",
    "\n",
    "        self.fc_b = nn.Linear(input_size - 69, input_size)\n",
    "\n",
    "        # self.sigmoid  = nn.Sigmoid()\n",
    "\n",
    "    def forward(self, x, x_2023):\n",
    "        out = self.fc_1(x)\n",
    "        out = out[..., 0]\n",
    "\n",
    "        x_2023 = self.fc_b(x_2023)[:, None, ...]\n",
    "        out = torch.cat([out, x_2023], dim=1)\n",
    "\n",
    "        out, _ = self.lstm(out)\n",
    "        out = out[:, -1, ...]\n",
    "\n",
    "        out = self.fc_2(out)\n",
    "\n",
    "        # out = self.sigmoid(out)\n",
    "\n",
    "        return out\n",
    "    \n",
    "    \n"
   ]
  },
  {
   "cell_type": "code",
   "execution_count": 27,
   "id": "a4a97b36",
   "metadata": {},
   "outputs": [],
   "source": [
    "class CustomDataset(torch.utils.data.Dataset):\n",
    "    \n",
    "    def __init__(self, path_X, path_x, path_y, p=0.1, smooth_labels=False):\n",
    "        \n",
    "        self.data_X = torch.load(path_X)\n",
    "        self.data_X = self.data_X.permute(0, 1, 3, 2)\n",
    "        self.data_x = torch.load(path_x)\n",
    "        self.data_y = torch.load(path_y)\n",
    "\n",
    "        self.p = p\n",
    "\n",
    "    def __getitem__(self, index):\n",
    "        if torch.rand(1) < self.p:\n",
    "            return self.__transform(\n",
    "                self.data_X[index].clone(),\n",
    "                self.data_x[index].clone(),\n",
    "                self.data_y[index].clone(),\n",
    "            )\n",
    "        else:\n",
    "            return (\n",
    "                self.data_X[index],\n",
    "                self.data_x[index],\n",
    "                self.data_y[index]\n",
    "            )\n",
    "\n",
    "    def __len__(self):\n",
    "        return len(self.data_X)\n",
    "\n",
    "    def __transform(self, item_X, item_x, item_y, k=2):\n",
    "        max_price = max(item_X[:, -6, 0])\n",
    "        item_x[-5] = k * max_price\n",
    "        item_y = item_y * 0\n",
    "\n",
    "        return item_X, item_x, item_y"
   ]
  },
  {
   "cell_type": "markdown",
   "id": "d851d1e4",
   "metadata": {},
   "source": [
    "# Defining hyperparametrs"
   ]
  },
  {
   "cell_type": "code",
   "execution_count": 28,
   "id": "3057d8e3",
   "metadata": {},
   "outputs": [],
   "source": [
    "BATCH_SIZE = 64\n",
    "LEARNING_RATE = 0.00003"
   ]
  },
  {
   "cell_type": "code",
   "execution_count": 29,
   "id": "ead06f92",
   "metadata": {},
   "outputs": [],
   "source": [
    "model = LSTMModel(77, 512, 5, 1).to(DEVICE)\n",
    "criterion = nn.L1Loss()\n",
    "optimizer = torch.optim.Adam(model.parameters(), lr=LEARNING_RATE, weight_decay=1e-5)\n",
    "scheduler = optim.lr_scheduler.CyclicLR(optimizer, LEARNING_RATE, LEARNING_RATE*10, mode=\"exp_range\", cycle_momentum=False)"
   ]
  },
  {
   "cell_type": "code",
   "execution_count": 30,
   "id": "ba46abb0",
   "metadata": {},
   "outputs": [],
   "source": [
    "train_dataset = CustomDataset(\n",
    "    \"./data/X_train_lstm_decade_price_without_beleuchtet.pt\",\n",
    "    \"./data/x_train_lstm_decade_price_without_beleuchtet.pt\",\n",
    "    \"./data/y_train_lstm_decade_price_without_beleuchtet.pt\",\n",
    ")\n",
    "\n",
    "val_dataset = CustomDataset(\n",
    "    \"./data/X_val_lstm_decade_price_without_beleuchtet.pt\",\n",
    "    \"./data/x_val_lstm_decade_price_without_beleuchtet.pt\",\n",
    "    \"./data/y_val_lstm_decade_price_without_beleuchtet.pt\",\n",
    ")"
   ]
  },
  {
   "cell_type": "code",
   "execution_count": 31,
   "id": "d6b630bd",
   "metadata": {},
   "outputs": [],
   "source": [
    "train_dataloader = DataLoader(\n",
    "    train_dataset, batch_size=BATCH_SIZE, shuffle=True, drop_last=False\n",
    ")\n",
    "val_dataloader = DataLoader(\n",
    "    val_dataset, batch_size=BATCH_SIZE, shuffle=True, drop_last=False\n",
    ")"
   ]
  },
  {
   "cell_type": "code",
   "execution_count": 32,
   "id": "cb7c527e",
   "metadata": {
    "scrolled": true
   },
   "outputs": [
    {
     "name": "stdout",
     "output_type": "stream",
     "text": [
      "Input proper model name:\twithout_beleuchtet\n"
     ]
    },
    {
     "name": "stderr",
     "output_type": "stream",
     "text": [
      "100%|████████████████████████████████████████| 839/839 [00:05<00:00, 155.36it/s]\n",
      "100%|██████████████████████████████████████████| 45/45 [00:00<00:00, 358.02it/s]\n"
     ]
    },
    {
     "name": "stdout",
     "output_type": "stream",
     "text": [
      "Epoch [1/100]\n",
      "Train Loss: 0.1828\n",
      "Val Loss: 0.1446\n"
     ]
    },
    {
     "name": "stderr",
     "output_type": "stream",
     "text": [
      "100%|████████████████████████████████████████| 839/839 [00:05<00:00, 158.43it/s]\n",
      "100%|██████████████████████████████████████████| 45/45 [00:00<00:00, 360.03it/s]\n"
     ]
    },
    {
     "name": "stdout",
     "output_type": "stream",
     "text": [
      "Epoch [2/100]\n",
      "Train Loss: 0.1313\n",
      "Val Loss: 0.1313\n"
     ]
    },
    {
     "name": "stderr",
     "output_type": "stream",
     "text": [
      "100%|████████████████████████████████████████| 839/839 [00:05<00:00, 158.35it/s]\n",
      "100%|██████████████████████████████████████████| 45/45 [00:00<00:00, 359.82it/s]\n"
     ]
    },
    {
     "name": "stdout",
     "output_type": "stream",
     "text": [
      "Epoch [3/100]\n",
      "Train Loss: 0.1124\n",
      "Val Loss: 0.1009\n"
     ]
    },
    {
     "name": "stderr",
     "output_type": "stream",
     "text": [
      "100%|████████████████████████████████████████| 839/839 [00:05<00:00, 160.07it/s]\n",
      "100%|██████████████████████████████████████████| 45/45 [00:00<00:00, 358.37it/s]\n"
     ]
    },
    {
     "name": "stdout",
     "output_type": "stream",
     "text": [
      "Epoch [4/100]\n",
      "Train Loss: 0.0996\n",
      "Val Loss: 0.0929\n"
     ]
    },
    {
     "name": "stderr",
     "output_type": "stream",
     "text": [
      "100%|████████████████████████████████████████| 839/839 [00:05<00:00, 158.84it/s]\n",
      "100%|██████████████████████████████████████████| 45/45 [00:00<00:00, 362.75it/s]\n"
     ]
    },
    {
     "name": "stdout",
     "output_type": "stream",
     "text": [
      "Epoch [5/100]\n",
      "Train Loss: 0.0945\n",
      "Val Loss: 0.0928\n"
     ]
    },
    {
     "name": "stderr",
     "output_type": "stream",
     "text": [
      "100%|████████████████████████████████████████| 839/839 [00:05<00:00, 159.42it/s]\n",
      "100%|██████████████████████████████████████████| 45/45 [00:00<00:00, 331.57it/s]\n"
     ]
    },
    {
     "name": "stdout",
     "output_type": "stream",
     "text": [
      "Epoch [6/100]\n",
      "Train Loss: 0.0946\n",
      "Val Loss: 0.0947\n"
     ]
    },
    {
     "name": "stderr",
     "output_type": "stream",
     "text": [
      "100%|████████████████████████████████████████| 839/839 [00:05<00:00, 160.88it/s]\n",
      "100%|██████████████████████████████████████████| 45/45 [00:00<00:00, 335.75it/s]\n"
     ]
    },
    {
     "name": "stdout",
     "output_type": "stream",
     "text": [
      "Epoch [7/100]\n",
      "Train Loss: 0.0952\n",
      "Val Loss: 0.0915\n"
     ]
    },
    {
     "name": "stderr",
     "output_type": "stream",
     "text": [
      "100%|████████████████████████████████████████| 839/839 [00:05<00:00, 158.95it/s]\n",
      "100%|██████████████████████████████████████████| 45/45 [00:00<00:00, 363.48it/s]\n"
     ]
    },
    {
     "name": "stdout",
     "output_type": "stream",
     "text": [
      "Epoch [8/100]\n",
      "Train Loss: 0.0946\n",
      "Val Loss: 0.0936\n"
     ]
    },
    {
     "name": "stderr",
     "output_type": "stream",
     "text": [
      "100%|████████████████████████████████████████| 839/839 [00:05<00:00, 159.40it/s]\n",
      "100%|██████████████████████████████████████████| 45/45 [00:00<00:00, 364.21it/s]\n"
     ]
    },
    {
     "name": "stdout",
     "output_type": "stream",
     "text": [
      "Epoch [9/100]\n",
      "Train Loss: 0.091\n",
      "Val Loss: 0.0882\n"
     ]
    },
    {
     "name": "stderr",
     "output_type": "stream",
     "text": [
      "100%|████████████████████████████████████████| 839/839 [00:05<00:00, 158.81it/s]\n",
      "100%|██████████████████████████████████████████| 45/45 [00:00<00:00, 360.48it/s]\n"
     ]
    },
    {
     "name": "stdout",
     "output_type": "stream",
     "text": [
      "Epoch [10/100]\n",
      "Train Loss: 0.0881\n",
      "Val Loss: 0.091\n"
     ]
    },
    {
     "name": "stderr",
     "output_type": "stream",
     "text": [
      "100%|████████████████████████████████████████| 839/839 [00:05<00:00, 160.81it/s]\n",
      "100%|██████████████████████████████████████████| 45/45 [00:00<00:00, 360.81it/s]\n"
     ]
    },
    {
     "name": "stdout",
     "output_type": "stream",
     "text": [
      "Epoch [11/100]\n",
      "Train Loss: 0.0898\n",
      "Val Loss: 0.0888\n"
     ]
    },
    {
     "name": "stderr",
     "output_type": "stream",
     "text": [
      "100%|████████████████████████████████████████| 839/839 [00:05<00:00, 161.01it/s]\n",
      "100%|██████████████████████████████████████████| 45/45 [00:00<00:00, 356.34it/s]\n"
     ]
    },
    {
     "name": "stdout",
     "output_type": "stream",
     "text": [
      "Epoch [12/100]\n",
      "Train Loss: 0.0919\n",
      "Val Loss: 0.0956\n"
     ]
    },
    {
     "name": "stderr",
     "output_type": "stream",
     "text": [
      "100%|████████████████████████████████████████| 839/839 [00:05<00:00, 159.67it/s]\n",
      "100%|██████████████████████████████████████████| 45/45 [00:00<00:00, 354.58it/s]\n"
     ]
    },
    {
     "name": "stdout",
     "output_type": "stream",
     "text": [
      "Epoch [13/100]\n",
      "Train Loss: 0.0903\n",
      "Val Loss: 0.0908\n"
     ]
    },
    {
     "name": "stderr",
     "output_type": "stream",
     "text": [
      "100%|████████████████████████████████████████| 839/839 [00:05<00:00, 159.86it/s]\n",
      "100%|██████████████████████████████████████████| 45/45 [00:00<00:00, 365.01it/s]\n"
     ]
    },
    {
     "name": "stdout",
     "output_type": "stream",
     "text": [
      "Epoch [14/100]\n",
      "Train Loss: 0.0877\n",
      "Val Loss: 0.0867\n"
     ]
    },
    {
     "name": "stderr",
     "output_type": "stream",
     "text": [
      "100%|████████████████████████████████████████| 839/839 [00:05<00:00, 160.37it/s]\n",
      "100%|██████████████████████████████████████████| 45/45 [00:00<00:00, 363.75it/s]\n"
     ]
    },
    {
     "name": "stdout",
     "output_type": "stream",
     "text": [
      "Epoch [15/100]\n",
      "Train Loss: 0.0857\n",
      "Val Loss: 0.0891\n"
     ]
    },
    {
     "name": "stderr",
     "output_type": "stream",
     "text": [
      "100%|████████████████████████████████████████| 839/839 [00:05<00:00, 159.87it/s]\n",
      "100%|██████████████████████████████████████████| 45/45 [00:00<00:00, 363.44it/s]\n"
     ]
    },
    {
     "name": "stdout",
     "output_type": "stream",
     "text": [
      "Epoch [16/100]\n",
      "Train Loss: 0.0875\n",
      "Val Loss: 0.0883\n"
     ]
    },
    {
     "name": "stderr",
     "output_type": "stream",
     "text": [
      "100%|████████████████████████████████████████| 839/839 [00:05<00:00, 160.17it/s]\n",
      "100%|██████████████████████████████████████████| 45/45 [00:00<00:00, 355.46it/s]\n"
     ]
    },
    {
     "name": "stdout",
     "output_type": "stream",
     "text": [
      "Epoch [17/100]\n",
      "Train Loss: 0.0894\n",
      "Val Loss: 0.0861\n"
     ]
    },
    {
     "name": "stderr",
     "output_type": "stream",
     "text": [
      "100%|████████████████████████████████████████| 839/839 [00:05<00:00, 159.02it/s]\n",
      "100%|██████████████████████████████████████████| 45/45 [00:00<00:00, 358.40it/s]\n"
     ]
    },
    {
     "name": "stdout",
     "output_type": "stream",
     "text": [
      "Epoch [18/100]\n",
      "Train Loss: 0.0879\n",
      "Val Loss: 0.0858\n"
     ]
    },
    {
     "name": "stderr",
     "output_type": "stream",
     "text": [
      "100%|████████████████████████████████████████| 839/839 [00:05<00:00, 158.27it/s]\n",
      "100%|██████████████████████████████████████████| 45/45 [00:00<00:00, 350.75it/s]\n"
     ]
    },
    {
     "name": "stdout",
     "output_type": "stream",
     "text": [
      "Epoch [19/100]\n",
      "Train Loss: 0.0856\n",
      "Val Loss: 0.0834\n"
     ]
    },
    {
     "name": "stderr",
     "output_type": "stream",
     "text": [
      "100%|████████████████████████████████████████| 839/839 [00:06<00:00, 127.12it/s]\n",
      "100%|██████████████████████████████████████████| 45/45 [00:00<00:00, 198.02it/s]\n"
     ]
    },
    {
     "name": "stdout",
     "output_type": "stream",
     "text": [
      "Epoch [20/100]\n",
      "Train Loss: 0.0843\n",
      "Val Loss: 0.0844\n"
     ]
    },
    {
     "name": "stderr",
     "output_type": "stream",
     "text": [
      "100%|█████████████████████████████████████████| 839/839 [00:08<00:00, 99.71it/s]\n",
      "100%|██████████████████████████████████████████| 45/45 [00:00<00:00, 195.48it/s]\n"
     ]
    },
    {
     "name": "stdout",
     "output_type": "stream",
     "text": [
      "Epoch [21/100]\n",
      "Train Loss: 0.0863\n",
      "Val Loss: 0.0903\n"
     ]
    },
    {
     "name": "stderr",
     "output_type": "stream",
     "text": [
      "100%|████████████████████████████████████████| 839/839 [00:08<00:00, 100.52it/s]\n",
      "100%|██████████████████████████████████████████| 45/45 [00:00<00:00, 199.40it/s]\n"
     ]
    },
    {
     "name": "stdout",
     "output_type": "stream",
     "text": [
      "Epoch [22/100]\n",
      "Train Loss: 0.088\n",
      "Val Loss: 0.0885\n"
     ]
    },
    {
     "name": "stderr",
     "output_type": "stream",
     "text": [
      "100%|█████████████████████████████████████████| 839/839 [00:08<00:00, 99.84it/s]\n",
      "100%|██████████████████████████████████████████| 45/45 [00:00<00:00, 198.41it/s]\n"
     ]
    },
    {
     "name": "stdout",
     "output_type": "stream",
     "text": [
      "Epoch [23/100]\n",
      "Train Loss: 0.0854\n",
      "Val Loss: 0.0855\n"
     ]
    },
    {
     "name": "stderr",
     "output_type": "stream",
     "text": [
      "100%|█████████████████████████████████████████| 839/839 [00:08<00:00, 99.33it/s]\n",
      "100%|██████████████████████████████████████████| 45/45 [00:00<00:00, 229.06it/s]\n"
     ]
    },
    {
     "name": "stdout",
     "output_type": "stream",
     "text": [
      "Epoch [24/100]\n",
      "Train Loss: 0.0838\n",
      "Val Loss: 0.0857\n"
     ]
    },
    {
     "name": "stderr",
     "output_type": "stream",
     "text": [
      "100%|█████████████████████████████████████████| 839/839 [00:08<00:00, 98.99it/s]\n",
      "100%|██████████████████████████████████████████| 45/45 [00:00<00:00, 227.02it/s]\n"
     ]
    },
    {
     "name": "stdout",
     "output_type": "stream",
     "text": [
      "Epoch [25/100]\n",
      "Train Loss: 0.084\n",
      "Val Loss: 0.0866\n"
     ]
    },
    {
     "name": "stderr",
     "output_type": "stream",
     "text": [
      "100%|█████████████████████████████████████████| 839/839 [00:08<00:00, 99.45it/s]\n",
      "100%|██████████████████████████████████████████| 45/45 [00:00<00:00, 230.94it/s]\n"
     ]
    },
    {
     "name": "stdout",
     "output_type": "stream",
     "text": [
      "Epoch [26/100]\n",
      "Train Loss: 0.0851\n",
      "Val Loss: 0.0904\n"
     ]
    },
    {
     "name": "stderr",
     "output_type": "stream",
     "text": [
      "100%|█████████████████████████████████████████| 839/839 [00:08<00:00, 98.68it/s]\n",
      "100%|██████████████████████████████████████████| 45/45 [00:00<00:00, 236.65it/s]\n"
     ]
    },
    {
     "name": "stdout",
     "output_type": "stream",
     "text": [
      "Epoch [27/100]\n",
      "Train Loss: 0.0858\n",
      "Val Loss: 0.0888\n"
     ]
    },
    {
     "name": "stderr",
     "output_type": "stream",
     "text": [
      "100%|█████████████████████████████████████████| 839/839 [00:08<00:00, 99.41it/s]\n",
      "100%|██████████████████████████████████████████| 45/45 [00:00<00:00, 303.27it/s]\n"
     ]
    },
    {
     "name": "stdout",
     "output_type": "stream",
     "text": [
      "Epoch [28/100]\n",
      "Train Loss: 0.0839\n",
      "Val Loss: 0.0878\n"
     ]
    },
    {
     "name": "stderr",
     "output_type": "stream",
     "text": [
      "100%|█████████████████████████████████████████| 839/839 [00:08<00:00, 98.82it/s]\n",
      "100%|██████████████████████████████████████████| 45/45 [00:00<00:00, 275.16it/s]\n"
     ]
    },
    {
     "name": "stdout",
     "output_type": "stream",
     "text": [
      "Epoch [29/100]\n",
      "Train Loss: 0.0823\n",
      "Val Loss: 0.0839\n"
     ]
    },
    {
     "name": "stderr",
     "output_type": "stream",
     "text": [
      "100%|█████████████████████████████████████████| 839/839 [00:08<00:00, 99.70it/s]\n",
      "100%|██████████████████████████████████████████| 45/45 [00:00<00:00, 241.63it/s]\n"
     ]
    },
    {
     "name": "stdout",
     "output_type": "stream",
     "text": [
      "Epoch [30/100]\n",
      "Train Loss: 0.0827\n",
      "Val Loss: 0.0889\n"
     ]
    },
    {
     "name": "stderr",
     "output_type": "stream",
     "text": [
      "100%|█████████████████████████████████████████| 839/839 [00:08<00:00, 99.11it/s]\n",
      "100%|██████████████████████████████████████████| 45/45 [00:00<00:00, 238.36it/s]\n"
     ]
    },
    {
     "name": "stdout",
     "output_type": "stream",
     "text": [
      "Epoch [31/100]\n",
      "Train Loss: 0.0845\n",
      "Val Loss: 0.0891\n"
     ]
    },
    {
     "name": "stderr",
     "output_type": "stream",
     "text": [
      "100%|█████████████████████████████████████████| 839/839 [00:08<00:00, 99.09it/s]\n",
      "100%|██████████████████████████████████████████| 45/45 [00:00<00:00, 242.75it/s]\n"
     ]
    },
    {
     "name": "stdout",
     "output_type": "stream",
     "text": [
      "Epoch [32/100]\n",
      "Train Loss: 0.0837\n",
      "Val Loss: 0.0854\n"
     ]
    },
    {
     "name": "stderr",
     "output_type": "stream",
     "text": [
      "100%|█████████████████████████████████████████| 839/839 [00:08<00:00, 99.28it/s]\n",
      "100%|██████████████████████████████████████████| 45/45 [00:00<00:00, 239.62it/s]\n"
     ]
    },
    {
     "name": "stdout",
     "output_type": "stream",
     "text": [
      "Epoch [33/100]\n",
      "Train Loss: 0.0822\n",
      "Val Loss: 0.0858\n"
     ]
    },
    {
     "name": "stderr",
     "output_type": "stream",
     "text": [
      "100%|█████████████████████████████████████████| 839/839 [00:08<00:00, 98.35it/s]\n",
      "100%|██████████████████████████████████████████| 45/45 [00:00<00:00, 241.56it/s]\n"
     ]
    },
    {
     "name": "stdout",
     "output_type": "stream",
     "text": [
      "Epoch [34/100]\n",
      "Train Loss: 0.0803\n",
      "Val Loss: 0.084\n"
     ]
    },
    {
     "name": "stderr",
     "output_type": "stream",
     "text": [
      "100%|█████████████████████████████████████████| 839/839 [00:08<00:00, 99.51it/s]\n",
      "100%|██████████████████████████████████████████| 45/45 [00:00<00:00, 212.18it/s]\n"
     ]
    },
    {
     "name": "stdout",
     "output_type": "stream",
     "text": [
      "Epoch [35/100]\n",
      "Train Loss: 0.0818\n",
      "Val Loss: 0.0883\n"
     ]
    },
    {
     "name": "stderr",
     "output_type": "stream",
     "text": [
      "100%|████████████████████████████████████████| 839/839 [00:08<00:00, 100.03it/s]\n",
      "100%|██████████████████████████████████████████| 45/45 [00:00<00:00, 210.50it/s]\n"
     ]
    },
    {
     "name": "stdout",
     "output_type": "stream",
     "text": [
      "Epoch [36/100]\n",
      "Train Loss: 0.0835\n",
      "Val Loss: 0.0859\n"
     ]
    },
    {
     "name": "stderr",
     "output_type": "stream",
     "text": [
      "100%|█████████████████████████████████████████| 839/839 [00:08<00:00, 99.84it/s]\n",
      "100%|██████████████████████████████████████████| 45/45 [00:00<00:00, 212.83it/s]\n"
     ]
    },
    {
     "name": "stdout",
     "output_type": "stream",
     "text": [
      "Epoch [37/100]\n",
      "Train Loss: 0.0828\n",
      "Val Loss: 0.0847\n"
     ]
    },
    {
     "name": "stderr",
     "output_type": "stream",
     "text": [
      "100%|█████████████████████████████████████████| 839/839 [00:08<00:00, 99.49it/s]\n",
      "100%|██████████████████████████████████████████| 45/45 [00:00<00:00, 212.66it/s]\n"
     ]
    },
    {
     "name": "stdout",
     "output_type": "stream",
     "text": [
      "Epoch [38/100]\n",
      "Train Loss: 0.0803\n",
      "Val Loss: 0.0839\n"
     ]
    },
    {
     "name": "stderr",
     "output_type": "stream",
     "text": [
      "100%|█████████████████████████████████████████| 839/839 [00:09<00:00, 93.06it/s]\n",
      "100%|██████████████████████████████████████████| 45/45 [00:00<00:00, 218.39it/s]\n"
     ]
    },
    {
     "name": "stdout",
     "output_type": "stream",
     "text": [
      "Epoch [39/100]\n",
      "Train Loss: 0.0794\n",
      "Val Loss: 0.0845\n"
     ]
    },
    {
     "name": "stderr",
     "output_type": "stream",
     "text": [
      "100%|█████████████████████████████████████████| 839/839 [00:08<00:00, 99.25it/s]\n",
      "100%|██████████████████████████████████████████| 45/45 [00:00<00:00, 196.68it/s]\n"
     ]
    },
    {
     "name": "stdout",
     "output_type": "stream",
     "text": [
      "Epoch [40/100]\n",
      "Train Loss: 0.0809\n",
      "Val Loss: 0.0853\n"
     ]
    },
    {
     "name": "stderr",
     "output_type": "stream",
     "text": [
      "100%|█████████████████████████████████████████| 839/839 [00:08<00:00, 98.05it/s]\n",
      "100%|██████████████████████████████████████████| 45/45 [00:00<00:00, 199.02it/s]\n"
     ]
    },
    {
     "name": "stdout",
     "output_type": "stream",
     "text": [
      "Epoch [41/100]\n",
      "Train Loss: 0.0816\n",
      "Val Loss: 0.0933\n"
     ]
    },
    {
     "name": "stderr",
     "output_type": "stream",
     "text": [
      "100%|█████████████████████████████████████████| 839/839 [00:08<00:00, 99.46it/s]\n",
      "100%|██████████████████████████████████████████| 45/45 [00:00<00:00, 197.78it/s]\n"
     ]
    },
    {
     "name": "stdout",
     "output_type": "stream",
     "text": [
      "Epoch [42/100]\n",
      "Train Loss: 0.0805\n",
      "Val Loss: 0.0851\n"
     ]
    },
    {
     "name": "stderr",
     "output_type": "stream",
     "text": [
      "100%|█████████████████████████████████████████| 839/839 [00:08<00:00, 99.16it/s]\n",
      "100%|██████████████████████████████████████████| 45/45 [00:00<00:00, 199.08it/s]\n"
     ]
    },
    {
     "name": "stdout",
     "output_type": "stream",
     "text": [
      "Epoch [43/100]\n",
      "Train Loss: 0.0783\n",
      "Val Loss: 0.0852\n"
     ]
    },
    {
     "name": "stderr",
     "output_type": "stream",
     "text": [
      "100%|█████████████████████████████████████████| 839/839 [00:08<00:00, 99.76it/s]\n",
      "100%|██████████████████████████████████████████| 45/45 [00:00<00:00, 204.51it/s]\n"
     ]
    },
    {
     "name": "stdout",
     "output_type": "stream",
     "text": [
      "Epoch [44/100]\n",
      "Train Loss: 0.0778\n",
      "Val Loss: 0.0856\n"
     ]
    },
    {
     "name": "stderr",
     "output_type": "stream",
     "text": [
      "100%|█████████████████████████████████████████| 839/839 [00:08<00:00, 99.41it/s]\n",
      "100%|██████████████████████████████████████████| 45/45 [00:00<00:00, 197.89it/s]\n"
     ]
    },
    {
     "name": "stdout",
     "output_type": "stream",
     "text": [
      "Epoch [45/100]\n",
      "Train Loss: 0.0795\n",
      "Val Loss: 0.0847\n"
     ]
    },
    {
     "name": "stderr",
     "output_type": "stream",
     "text": [
      "100%|█████████████████████████████████████████| 839/839 [00:08<00:00, 99.37it/s]\n",
      "100%|██████████████████████████████████████████| 45/45 [00:00<00:00, 192.80it/s]\n"
     ]
    },
    {
     "name": "stdout",
     "output_type": "stream",
     "text": [
      "Epoch [46/100]\n",
      "Train Loss: 0.0803\n",
      "Val Loss: 0.0833\n"
     ]
    },
    {
     "name": "stderr",
     "output_type": "stream",
     "text": [
      "100%|█████████████████████████████████████████| 839/839 [00:08<00:00, 99.89it/s]\n",
      "100%|██████████████████████████████████████████| 45/45 [00:00<00:00, 201.13it/s]\n"
     ]
    },
    {
     "name": "stdout",
     "output_type": "stream",
     "text": [
      "Epoch [47/100]\n",
      "Train Loss: 0.0788\n",
      "Val Loss: 0.0837\n"
     ]
    },
    {
     "name": "stderr",
     "output_type": "stream",
     "text": [
      "100%|█████████████████████████████████████████| 839/839 [00:08<00:00, 99.48it/s]\n",
      "100%|██████████████████████████████████████████| 45/45 [00:00<00:00, 199.46it/s]\n"
     ]
    },
    {
     "name": "stdout",
     "output_type": "stream",
     "text": [
      "Epoch [48/100]\n",
      "Train Loss: 0.0765\n",
      "Val Loss: 0.0856\n"
     ]
    },
    {
     "name": "stderr",
     "output_type": "stream",
     "text": [
      "100%|█████████████████████████████████████████| 839/839 [00:08<00:00, 99.79it/s]\n",
      "100%|██████████████████████████████████████████| 45/45 [00:00<00:00, 192.12it/s]\n"
     ]
    },
    {
     "name": "stdout",
     "output_type": "stream",
     "text": [
      "Epoch [49/100]\n",
      "Train Loss: 0.0771\n",
      "Val Loss: 0.0885\n"
     ]
    },
    {
     "name": "stderr",
     "output_type": "stream",
     "text": [
      "100%|█████████████████████████████████████████| 839/839 [00:08<00:00, 99.39it/s]\n",
      "100%|██████████████████████████████████████████| 45/45 [00:00<00:00, 194.26it/s]\n"
     ]
    },
    {
     "name": "stdout",
     "output_type": "stream",
     "text": [
      "Epoch [50/100]\n",
      "Train Loss: 0.0788\n",
      "Val Loss: 0.087\n"
     ]
    },
    {
     "name": "stderr",
     "output_type": "stream",
     "text": [
      "100%|█████████████████████████████████████████| 839/839 [00:08<00:00, 99.99it/s]\n",
      "100%|██████████████████████████████████████████| 45/45 [00:00<00:00, 194.38it/s]\n"
     ]
    },
    {
     "name": "stdout",
     "output_type": "stream",
     "text": [
      "Epoch [51/100]\n",
      "Train Loss: 0.0787\n",
      "Val Loss: 0.0861\n"
     ]
    },
    {
     "name": "stderr",
     "output_type": "stream",
     "text": [
      "100%|████████████████████████████████████████| 839/839 [00:08<00:00, 100.00it/s]\n",
      "100%|██████████████████████████████████████████| 45/45 [00:00<00:00, 200.16it/s]\n"
     ]
    },
    {
     "name": "stdout",
     "output_type": "stream",
     "text": [
      "Epoch [52/100]\n",
      "Train Loss: 0.0763\n",
      "Val Loss: 0.083\n"
     ]
    },
    {
     "name": "stderr",
     "output_type": "stream",
     "text": [
      "100%|█████████████████████████████████████████| 839/839 [00:08<00:00, 99.80it/s]\n",
      "100%|██████████████████████████████████████████| 45/45 [00:00<00:00, 214.50it/s]\n"
     ]
    },
    {
     "name": "stdout",
     "output_type": "stream",
     "text": [
      "Epoch [53/100]\n",
      "Train Loss: 0.0741\n",
      "Val Loss: 0.0862\n"
     ]
    },
    {
     "name": "stderr",
     "output_type": "stream",
     "text": [
      "100%|█████████████████████████████████████████| 839/839 [00:08<00:00, 99.82it/s]\n",
      "100%|██████████████████████████████████████████| 45/45 [00:00<00:00, 192.13it/s]\n"
     ]
    },
    {
     "name": "stdout",
     "output_type": "stream",
     "text": [
      "Epoch [54/100]\n",
      "Train Loss: 0.0751\n",
      "Val Loss: 0.088\n"
     ]
    },
    {
     "name": "stderr",
     "output_type": "stream",
     "text": [
      "100%|████████████████████████████████████████| 839/839 [00:08<00:00, 100.71it/s]\n",
      "100%|██████████████████████████████████████████| 45/45 [00:00<00:00, 195.29it/s]\n"
     ]
    },
    {
     "name": "stdout",
     "output_type": "stream",
     "text": [
      "Epoch [55/100]\n",
      "Train Loss: 0.0775\n",
      "Val Loss: 0.0847\n"
     ]
    },
    {
     "name": "stderr",
     "output_type": "stream",
     "text": [
      "100%|█████████████████████████████████████████| 839/839 [00:08<00:00, 97.88it/s]\n",
      "100%|██████████████████████████████████████████| 45/45 [00:00<00:00, 196.56it/s]\n"
     ]
    },
    {
     "name": "stdout",
     "output_type": "stream",
     "text": [
      "Epoch [56/100]\n",
      "Train Loss: 0.0763\n",
      "Val Loss: 0.0862\n"
     ]
    },
    {
     "name": "stderr",
     "output_type": "stream",
     "text": [
      "100%|█████████████████████████████████████████| 839/839 [00:08<00:00, 99.15it/s]\n",
      "100%|██████████████████████████████████████████| 45/45 [00:00<00:00, 199.50it/s]\n"
     ]
    },
    {
     "name": "stdout",
     "output_type": "stream",
     "text": [
      "Epoch [57/100]\n",
      "Train Loss: 0.0737\n",
      "Val Loss: 0.0828\n"
     ]
    },
    {
     "name": "stderr",
     "output_type": "stream",
     "text": [
      "100%|████████████████████████████████████████| 839/839 [00:08<00:00, 100.00it/s]\n",
      "100%|██████████████████████████████████████████| 45/45 [00:00<00:00, 197.10it/s]\n"
     ]
    },
    {
     "name": "stdout",
     "output_type": "stream",
     "text": [
      "Epoch [58/100]\n",
      "Train Loss: 0.0721\n",
      "Val Loss: 0.0874\n"
     ]
    },
    {
     "name": "stderr",
     "output_type": "stream",
     "text": [
      "100%|█████████████████████████████████████████| 839/839 [00:08<00:00, 99.58it/s]\n",
      "100%|██████████████████████████████████████████| 45/45 [00:00<00:00, 202.54it/s]\n"
     ]
    },
    {
     "name": "stdout",
     "output_type": "stream",
     "text": [
      "Epoch [59/100]\n",
      "Train Loss: 0.0737\n",
      "Val Loss: 0.0871\n"
     ]
    },
    {
     "name": "stderr",
     "output_type": "stream",
     "text": [
      "100%|█████████████████████████████████████████| 839/839 [00:08<00:00, 99.26it/s]\n",
      "100%|██████████████████████████████████████████| 45/45 [00:00<00:00, 198.86it/s]\n"
     ]
    },
    {
     "name": "stdout",
     "output_type": "stream",
     "text": [
      "Epoch [60/100]\n",
      "Train Loss: 0.0756\n",
      "Val Loss: 0.088\n"
     ]
    },
    {
     "name": "stderr",
     "output_type": "stream",
     "text": [
      "100%|█████████████████████████████████████████| 839/839 [00:08<00:00, 99.50it/s]\n",
      "100%|██████████████████████████████████████████| 45/45 [00:00<00:00, 198.71it/s]\n"
     ]
    },
    {
     "name": "stdout",
     "output_type": "stream",
     "text": [
      "Epoch [61/100]\n",
      "Train Loss: 0.0741\n",
      "Val Loss: 0.085\n"
     ]
    },
    {
     "name": "stderr",
     "output_type": "stream",
     "text": [
      "100%|█████████████████████████████████████████| 839/839 [00:08<00:00, 99.82it/s]\n",
      "100%|██████████████████████████████████████████| 45/45 [00:00<00:00, 196.55it/s]\n"
     ]
    },
    {
     "name": "stdout",
     "output_type": "stream",
     "text": [
      "Epoch [62/100]\n",
      "Train Loss: 0.0707\n",
      "Val Loss: 0.0869\n"
     ]
    },
    {
     "name": "stderr",
     "output_type": "stream",
     "text": [
      "100%|█████████████████████████████████████████| 839/839 [00:08<00:00, 99.02it/s]\n",
      "100%|██████████████████████████████████████████| 45/45 [00:00<00:00, 195.63it/s]\n"
     ]
    },
    {
     "name": "stdout",
     "output_type": "stream",
     "text": [
      "Epoch [63/100]\n",
      "Train Loss: 0.0696\n",
      "Val Loss: 0.0873\n"
     ]
    },
    {
     "name": "stderr",
     "output_type": "stream",
     "text": [
      "100%|█████████████████████████████████████████| 839/839 [00:08<00:00, 99.75it/s]\n",
      "100%|██████████████████████████████████████████| 45/45 [00:00<00:00, 205.79it/s]\n"
     ]
    },
    {
     "name": "stdout",
     "output_type": "stream",
     "text": [
      "Epoch [64/100]\n",
      "Train Loss: 0.0719\n",
      "Val Loss: 0.0919\n"
     ]
    },
    {
     "name": "stderr",
     "output_type": "stream",
     "text": [
      "100%|█████████████████████████████████████████| 839/839 [00:08<00:00, 99.60it/s]\n",
      "100%|██████████████████████████████████████████| 45/45 [00:00<00:00, 195.64it/s]\n"
     ]
    },
    {
     "name": "stdout",
     "output_type": "stream",
     "text": [
      "Epoch [65/100]\n",
      "Train Loss: 0.0737\n",
      "Val Loss: 0.0877\n"
     ]
    },
    {
     "name": "stderr",
     "output_type": "stream",
     "text": [
      "100%|█████████████████████████████████████████| 839/839 [00:08<00:00, 99.44it/s]\n",
      "100%|██████████████████████████████████████████| 45/45 [00:00<00:00, 205.25it/s]\n"
     ]
    },
    {
     "name": "stdout",
     "output_type": "stream",
     "text": [
      "Epoch [66/100]\n",
      "Train Loss: 0.0708\n",
      "Val Loss: 0.0867\n"
     ]
    },
    {
     "name": "stderr",
     "output_type": "stream",
     "text": [
      "100%|█████████████████████████████████████████| 839/839 [00:08<00:00, 99.37it/s]\n",
      "100%|██████████████████████████████████████████| 45/45 [00:00<00:00, 197.30it/s]\n"
     ]
    },
    {
     "name": "stdout",
     "output_type": "stream",
     "text": [
      "Epoch [67/100]\n",
      "Train Loss: 0.0672\n",
      "Val Loss: 0.0866\n"
     ]
    },
    {
     "name": "stderr",
     "output_type": "stream",
     "text": [
      "100%|█████████████████████████████████████████| 839/839 [00:08<00:00, 99.00it/s]\n",
      "100%|██████████████████████████████████████████| 45/45 [00:00<00:00, 195.48it/s]\n"
     ]
    },
    {
     "name": "stdout",
     "output_type": "stream",
     "text": [
      "Epoch [68/100]\n",
      "Train Loss: 0.0673\n",
      "Val Loss: 0.0862\n"
     ]
    },
    {
     "name": "stderr",
     "output_type": "stream",
     "text": [
      "100%|█████████████████████████████████████████| 839/839 [00:08<00:00, 99.07it/s]\n",
      "100%|██████████████████████████████████████████| 45/45 [00:00<00:00, 200.90it/s]\n"
     ]
    },
    {
     "name": "stdout",
     "output_type": "stream",
     "text": [
      "Epoch [69/100]\n",
      "Train Loss: 0.07\n",
      "Val Loss: 0.0893\n"
     ]
    },
    {
     "name": "stderr",
     "output_type": "stream",
     "text": [
      "100%|████████████████████████████████████████| 839/839 [00:08<00:00, 100.45it/s]\n",
      "100%|██████████████████████████████████████████| 45/45 [00:00<00:00, 197.61it/s]\n"
     ]
    },
    {
     "name": "stdout",
     "output_type": "stream",
     "text": [
      "Epoch [70/100]\n",
      "Train Loss: 0.0702\n",
      "Val Loss: 0.0855\n"
     ]
    },
    {
     "name": "stderr",
     "output_type": "stream",
     "text": [
      "100%|█████████████████████████████████████████| 839/839 [00:08<00:00, 96.91it/s]\n",
      "100%|██████████████████████████████████████████| 45/45 [00:00<00:00, 198.10it/s]\n"
     ]
    },
    {
     "name": "stdout",
     "output_type": "stream",
     "text": [
      "Epoch [71/100]\n",
      "Train Loss: 0.0675\n",
      "Val Loss: 0.0865\n"
     ]
    },
    {
     "name": "stderr",
     "output_type": "stream",
     "text": [
      "100%|█████████████████████████████████████████| 839/839 [00:08<00:00, 99.99it/s]\n",
      "100%|██████████████████████████████████████████| 45/45 [00:00<00:00, 197.00it/s]\n"
     ]
    },
    {
     "name": "stdout",
     "output_type": "stream",
     "text": [
      "Epoch [72/100]\n",
      "Train Loss: 0.064\n",
      "Val Loss: 0.0886\n"
     ]
    },
    {
     "name": "stderr",
     "output_type": "stream",
     "text": [
      "100%|█████████████████████████████████████████| 839/839 [00:08<00:00, 99.99it/s]\n",
      "100%|██████████████████████████████████████████| 45/45 [00:00<00:00, 199.39it/s]\n"
     ]
    },
    {
     "name": "stdout",
     "output_type": "stream",
     "text": [
      "Epoch [73/100]\n",
      "Train Loss: 0.0651\n",
      "Val Loss: 0.0855\n"
     ]
    },
    {
     "name": "stderr",
     "output_type": "stream",
     "text": [
      "100%|████████████████████████████████████████| 839/839 [00:08<00:00, 100.28it/s]\n",
      "100%|██████████████████████████████████████████| 45/45 [00:00<00:00, 201.14it/s]\n"
     ]
    },
    {
     "name": "stdout",
     "output_type": "stream",
     "text": [
      "Epoch [74/100]\n",
      "Train Loss: 0.0681\n",
      "Val Loss: 0.0881\n"
     ]
    },
    {
     "name": "stderr",
     "output_type": "stream",
     "text": [
      "100%|█████████████████████████████████████████| 839/839 [00:08<00:00, 99.86it/s]\n",
      "100%|██████████████████████████████████████████| 45/45 [00:00<00:00, 193.01it/s]\n"
     ]
    },
    {
     "name": "stdout",
     "output_type": "stream",
     "text": [
      "Epoch [75/100]\n",
      "Train Loss: 0.0674\n",
      "Val Loss: 0.0862\n"
     ]
    },
    {
     "name": "stderr",
     "output_type": "stream",
     "text": [
      "100%|█████████████████████████████████████████| 839/839 [00:08<00:00, 99.82it/s]\n",
      "100%|██████████████████████████████████████████| 45/45 [00:00<00:00, 194.00it/s]\n"
     ]
    },
    {
     "name": "stdout",
     "output_type": "stream",
     "text": [
      "Epoch [76/100]\n",
      "Train Loss: 0.0637\n",
      "Val Loss: 0.0879\n"
     ]
    },
    {
     "name": "stderr",
     "output_type": "stream",
     "text": [
      "100%|█████████████████████████████████████████| 839/839 [00:08<00:00, 99.55it/s]\n",
      "100%|██████████████████████████████████████████| 45/45 [00:00<00:00, 196.32it/s]\n"
     ]
    },
    {
     "name": "stdout",
     "output_type": "stream",
     "text": [
      "Epoch [77/100]\n",
      "Train Loss: 0.0607\n",
      "Val Loss: 0.0868\n"
     ]
    },
    {
     "name": "stderr",
     "output_type": "stream",
     "text": [
      "100%|█████████████████████████████████████████| 839/839 [00:08<00:00, 98.37it/s]\n",
      "100%|██████████████████████████████████████████| 45/45 [00:00<00:00, 191.26it/s]\n"
     ]
    },
    {
     "name": "stdout",
     "output_type": "stream",
     "text": [
      "Epoch [78/100]\n",
      "Train Loss: 0.0629\n",
      "Val Loss: 0.0905\n"
     ]
    },
    {
     "name": "stderr",
     "output_type": "stream",
     "text": [
      "100%|████████████████████████████████████████| 839/839 [00:08<00:00, 100.32it/s]\n",
      "100%|██████████████████████████████████████████| 45/45 [00:00<00:00, 202.77it/s]\n"
     ]
    },
    {
     "name": "stdout",
     "output_type": "stream",
     "text": [
      "Epoch [79/100]\n",
      "Train Loss: 0.0654\n",
      "Val Loss: 0.0884\n"
     ]
    },
    {
     "name": "stderr",
     "output_type": "stream",
     "text": [
      "100%|████████████████████████████████████████| 839/839 [00:08<00:00, 100.47it/s]\n",
      "100%|██████████████████████████████████████████| 45/45 [00:00<00:00, 200.09it/s]\n"
     ]
    },
    {
     "name": "stdout",
     "output_type": "stream",
     "text": [
      "Epoch [80/100]\n",
      "Train Loss: 0.0635\n",
      "Val Loss: 0.0871\n"
     ]
    },
    {
     "name": "stderr",
     "output_type": "stream",
     "text": [
      "100%|█████████████████████████████████████████| 839/839 [00:08<00:00, 99.58it/s]\n",
      "100%|██████████████████████████████████████████| 45/45 [00:00<00:00, 195.45it/s]\n"
     ]
    },
    {
     "name": "stdout",
     "output_type": "stream",
     "text": [
      "Epoch [81/100]\n",
      "Train Loss: 0.0595\n",
      "Val Loss: 0.0857\n"
     ]
    },
    {
     "name": "stderr",
     "output_type": "stream",
     "text": [
      "100%|█████████████████████████████████████████| 839/839 [00:08<00:00, 99.60it/s]\n",
      "100%|██████████████████████████████████████████| 45/45 [00:00<00:00, 199.21it/s]\n"
     ]
    },
    {
     "name": "stdout",
     "output_type": "stream",
     "text": [
      "Epoch [82/100]\n",
      "Train Loss: 0.0573\n",
      "Val Loss: 0.089\n"
     ]
    },
    {
     "name": "stderr",
     "output_type": "stream",
     "text": [
      "100%|█████████████████████████████████████████| 839/839 [00:08<00:00, 99.28it/s]\n",
      "100%|██████████████████████████████████████████| 45/45 [00:00<00:00, 195.56it/s]\n"
     ]
    },
    {
     "name": "stdout",
     "output_type": "stream",
     "text": [
      "Epoch [83/100]\n",
      "Train Loss: 0.0608\n",
      "Val Loss: 0.0901\n"
     ]
    },
    {
     "name": "stderr",
     "output_type": "stream",
     "text": [
      "100%|█████████████████████████████████████████| 839/839 [00:08<00:00, 99.55it/s]\n",
      "100%|██████████████████████████████████████████| 45/45 [00:00<00:00, 196.06it/s]\n"
     ]
    },
    {
     "name": "stdout",
     "output_type": "stream",
     "text": [
      "Epoch [84/100]\n",
      "Train Loss: 0.0625\n",
      "Val Loss: 0.0884\n"
     ]
    },
    {
     "name": "stderr",
     "output_type": "stream",
     "text": [
      "100%|█████████████████████████████████████████| 839/839 [00:08<00:00, 98.45it/s]\n",
      "100%|██████████████████████████████████████████| 45/45 [00:00<00:00, 194.51it/s]\n"
     ]
    },
    {
     "name": "stdout",
     "output_type": "stream",
     "text": [
      "Epoch [85/100]\n",
      "Train Loss: 0.0599\n",
      "Val Loss: 0.0902\n"
     ]
    },
    {
     "name": "stderr",
     "output_type": "stream",
     "text": [
      "100%|█████████████████████████████████████████| 839/839 [00:08<00:00, 99.38it/s]\n",
      "100%|██████████████████████████████████████████| 45/45 [00:00<00:00, 199.10it/s]\n"
     ]
    },
    {
     "name": "stdout",
     "output_type": "stream",
     "text": [
      "Epoch [86/100]\n",
      "Train Loss: 0.0553\n",
      "Val Loss: 0.0869\n"
     ]
    },
    {
     "name": "stderr",
     "output_type": "stream",
     "text": [
      "100%|█████████████████████████████████████████| 839/839 [00:08<00:00, 98.62it/s]\n",
      "100%|██████████████████████████████████████████| 45/45 [00:00<00:00, 195.63it/s]\n"
     ]
    },
    {
     "name": "stdout",
     "output_type": "stream",
     "text": [
      "Epoch [87/100]\n",
      "Train Loss: 0.0547\n",
      "Val Loss: 0.0903\n"
     ]
    },
    {
     "name": "stderr",
     "output_type": "stream",
     "text": [
      "100%|█████████████████████████████████████████| 839/839 [00:08<00:00, 98.41it/s]\n",
      "100%|██████████████████████████████████████████| 45/45 [00:00<00:00, 196.29it/s]\n"
     ]
    },
    {
     "name": "stdout",
     "output_type": "stream",
     "text": [
      "Epoch [88/100]\n",
      "Train Loss: 0.0577\n",
      "Val Loss: 0.0903\n"
     ]
    },
    {
     "name": "stderr",
     "output_type": "stream",
     "text": [
      "100%|█████████████████████████████████████████| 839/839 [00:08<00:00, 98.80it/s]\n",
      "100%|██████████████████████████████████████████| 45/45 [00:00<00:00, 198.56it/s]\n"
     ]
    },
    {
     "name": "stdout",
     "output_type": "stream",
     "text": [
      "Epoch [89/100]\n",
      "Train Loss: 0.0595\n",
      "Val Loss: 0.0903\n"
     ]
    },
    {
     "name": "stderr",
     "output_type": "stream",
     "text": [
      "100%|█████████████████████████████████████████| 839/839 [00:08<00:00, 99.44it/s]\n",
      "100%|██████████████████████████████████████████| 45/45 [00:00<00:00, 198.36it/s]\n"
     ]
    },
    {
     "name": "stdout",
     "output_type": "stream",
     "text": [
      "Epoch [90/100]\n",
      "Train Loss: 0.0557\n",
      "Val Loss: 0.089\n"
     ]
    },
    {
     "name": "stderr",
     "output_type": "stream",
     "text": [
      "100%|█████████████████████████████████████████| 839/839 [00:08<00:00, 99.95it/s]\n",
      "100%|██████████████████████████████████████████| 45/45 [00:00<00:00, 198.03it/s]\n"
     ]
    },
    {
     "name": "stdout",
     "output_type": "stream",
     "text": [
      "Epoch [91/100]\n",
      "Train Loss: 0.0511\n",
      "Val Loss: 0.0896\n"
     ]
    },
    {
     "name": "stderr",
     "output_type": "stream",
     "text": [
      "100%|█████████████████████████████████████████| 839/839 [00:08<00:00, 99.73it/s]\n",
      "100%|██████████████████████████████████████████| 45/45 [00:00<00:00, 197.69it/s]\n"
     ]
    },
    {
     "name": "stdout",
     "output_type": "stream",
     "text": [
      "Epoch [92/100]\n",
      "Train Loss: 0.0523\n",
      "Val Loss: 0.0902\n"
     ]
    },
    {
     "name": "stderr",
     "output_type": "stream",
     "text": [
      "100%|████████████████████████████████████████| 839/839 [00:08<00:00, 100.00it/s]\n",
      "100%|██████████████████████████████████████████| 45/45 [00:00<00:00, 198.07it/s]\n"
     ]
    },
    {
     "name": "stdout",
     "output_type": "stream",
     "text": [
      "Epoch [93/100]\n",
      "Train Loss: 0.0558\n",
      "Val Loss: 0.0911\n"
     ]
    },
    {
     "name": "stderr",
     "output_type": "stream",
     "text": [
      "100%|█████████████████████████████████████████| 839/839 [00:08<00:00, 98.96it/s]\n",
      "100%|██████████████████████████████████████████| 45/45 [00:00<00:00, 196.53it/s]\n"
     ]
    },
    {
     "name": "stdout",
     "output_type": "stream",
     "text": [
      "Epoch [94/100]\n",
      "Train Loss: 0.0563\n",
      "Val Loss: 0.0918\n"
     ]
    },
    {
     "name": "stderr",
     "output_type": "stream",
     "text": [
      "100%|█████████████████████████████████████████| 839/839 [00:08<00:00, 99.29it/s]\n",
      "100%|██████████████████████████████████████████| 45/45 [00:00<00:00, 195.41it/s]\n"
     ]
    },
    {
     "name": "stdout",
     "output_type": "stream",
     "text": [
      "Epoch [95/100]\n",
      "Train Loss: 0.0514\n",
      "Val Loss: 0.0901\n"
     ]
    },
    {
     "name": "stderr",
     "output_type": "stream",
     "text": [
      "100%|█████████████████████████████████████████| 839/839 [00:08<00:00, 99.04it/s]\n",
      "100%|██████████████████████████████████████████| 45/45 [00:00<00:00, 193.52it/s]\n"
     ]
    },
    {
     "name": "stdout",
     "output_type": "stream",
     "text": [
      "Epoch [96/100]\n",
      "Train Loss: 0.0475\n",
      "Val Loss: 0.0896\n"
     ]
    },
    {
     "name": "stderr",
     "output_type": "stream",
     "text": [
      "100%|█████████████████████████████████████████| 839/839 [00:08<00:00, 99.49it/s]\n",
      "100%|██████████████████████████████████████████| 45/45 [00:00<00:00, 196.84it/s]\n"
     ]
    },
    {
     "name": "stdout",
     "output_type": "stream",
     "text": [
      "Epoch [97/100]\n",
      "Train Loss: 0.0499\n",
      "Val Loss: 0.0915\n"
     ]
    },
    {
     "name": "stderr",
     "output_type": "stream",
     "text": [
      "100%|█████████████████████████████████████████| 839/839 [00:08<00:00, 99.78it/s]\n",
      "100%|██████████████████████████████████████████| 45/45 [00:00<00:00, 194.16it/s]\n"
     ]
    },
    {
     "name": "stdout",
     "output_type": "stream",
     "text": [
      "Epoch [98/100]\n",
      "Train Loss: 0.0538\n",
      "Val Loss: 0.0896\n"
     ]
    },
    {
     "name": "stderr",
     "output_type": "stream",
     "text": [
      "100%|█████████████████████████████████████████| 839/839 [00:08<00:00, 99.21it/s]\n",
      "100%|██████████████████████████████████████████| 45/45 [00:00<00:00, 194.78it/s]\n"
     ]
    },
    {
     "name": "stdout",
     "output_type": "stream",
     "text": [
      "Epoch [99/100]\n",
      "Train Loss: 0.0528\n",
      "Val Loss: 0.0893\n"
     ]
    },
    {
     "name": "stderr",
     "output_type": "stream",
     "text": [
      "100%|█████████████████████████████████████████| 839/839 [00:08<00:00, 98.43it/s]\n",
      "100%|██████████████████████████████████████████| 45/45 [00:00<00:00, 198.10it/s]"
     ]
    },
    {
     "name": "stdout",
     "output_type": "stream",
     "text": [
      "Epoch [100/100]\n",
      "Train Loss: 0.0475\n",
      "Val Loss: 0.0927\n"
     ]
    },
    {
     "name": "stderr",
     "output_type": "stream",
     "text": [
      "\n"
     ]
    }
   ],
   "source": [
    "num_epochs = 100\n",
    "history = []\n",
    "val_min_loss = None\n",
    "model_name = input(\"Input proper model name:\\t\")\n",
    "\n",
    "for epoch in range(num_epochs):\n",
    "    train_running_loss = 0.0\n",
    "    model.train()\n",
    "\n",
    "    for batch in tqdm(train_dataloader, position=0, leave=True):\n",
    "        # Every data instance is an input + label pair\n",
    "        X_train1 = batch[0].to(torch.float32).to(DEVICE)\n",
    "        x_train1 = batch[1].to(torch.float32).to(DEVICE)\n",
    "        y_train1 = batch[2].to(torch.float32).to(DEVICE)\n",
    "        outputs = model(X_train1, x_train1)\n",
    "        loss = criterion(outputs, y_train1.view(-1, 1))\n",
    "        loss.backward()\n",
    "        optimizer.step()\n",
    "        scheduler.step()\n",
    "        optimizer.zero_grad()\n",
    "        train_running_loss += loss.item()\n",
    "\n",
    "    model.eval()\n",
    "    val_running_loss = 0.0\n",
    "\n",
    "    with torch.no_grad():\n",
    "        for batch in tqdm(val_dataloader, position=0, leave=True):\n",
    "            # Every data instance is an input + label pair\n",
    "            X_val1 = batch[0].to(torch.float32).to(DEVICE)\n",
    "            x_val1 = batch[1].to(torch.float32).to(DEVICE)\n",
    "            y_val1 = batch[2].to(torch.float32).to(DEVICE)\n",
    "            outputs = model(X_val1, x_val1)\n",
    "            loss = criterion(outputs, y_val1.view(-1, 1))\n",
    "            val_running_loss += loss.item()\n",
    "\n",
    "    mean_train_loss = train_running_loss / len(train_dataloader)\n",
    "    mean_val_loss = val_running_loss / len(val_dataloader)\n",
    "\n",
    "    # scheduler.step(mean_val_loss)\n",
    "\n",
    "    if val_min_loss is None:\n",
    "        val_min_loss = mean_val_loss\n",
    "    elif mean_val_loss < val_min_loss:\n",
    "        val_min_loss = mean_val_loss\n",
    "        torch.save(model.state_dict(), f\"./models/{model_name}.pth\")\n",
    "\n",
    "    history.append([mean_train_loss, mean_val_loss])\n",
    "    print(\n",
    "        f\"Epoch [{epoch+1}/{num_epochs}]\\nTrain Loss: {round(mean_train_loss, 4)}\\nVal Loss: {round(mean_val_loss, 4)}\"\n",
    "    )"
   ]
  },
  {
   "cell_type": "code",
   "execution_count": 34,
   "id": "75b0791c",
   "metadata": {},
   "outputs": [
    {
     "data": {
      "image/png": "[encoded data removed]",
      "text/plain": [
       "<Figure size 640x480 with 1 Axes>"
      ]
     },
     "metadata": {},
     "output_type": "display_data"
    }
   ],
   "source": [
    "plt.plot(history)\n",
    "plt.legend([\"train\", \"val\"]);"
   ]
  },
  {
   "cell_type": "markdown",
   "id": "b3988ecf",
   "metadata": {},
   "source": [
    "# Evaluation"
   ]
  },
  {
   "cell_type": "code",
   "execution_count": 35,
   "id": "97cc68e8",
   "metadata": {},
   "outputs": [],
   "source": [
    "model.load_state_dict(torch.load(f\"./models/{model_name}.pth\"))\n",
    "model.eval()\n",
    "X_val = val_dataset.data_X\n",
    "x_val = val_dataset.data_x\n",
    "y_val = val_dataset.data_y\n",
    "preds = (\n",
    "    torch.clamp(\n",
    "    model(X_val.to(torch.float32).to(DEVICE), x_val.to(torch.float32).to(DEVICE))\n",
    "    .detach()\n",
    "    .cpu()\n",
    "    , min=0, max=1)\n",
    "    .numpy()\n",
    "    )\n",
    "ground_truth = (y_val).numpy()"
   ]
  },
  {
   "cell_type": "markdown",
   "id": "f9305c07",
   "metadata": {},
   "source": [
    "## MAE"
   ]
  },
  {
   "cell_type": "code",
   "execution_count": 36,
   "id": "18667580",
   "metadata": {},
   "outputs": [
    {
     "name": "stdout",
     "output_type": "stream",
     "text": [
      "0.0905\n"
     ]
    }
   ],
   "source": [
    "print(np.abs(preds[..., 0] - ground_truth).mean().round(4))"
   ]
  },
  {
   "cell_type": "markdown",
   "id": "3f4c5a1a",
   "metadata": {},
   "source": [
    "## Kernel Density Estimation plot"
   ]
  },
  {
   "cell_type": "code",
   "execution_count": 37,
   "id": "872ce634",
   "metadata": {},
   "outputs": [
    {
     "data": {
      "image/png": "[encoded data removed]",
      "text/plain": [
       "<Figure size 640x480 with 1 Axes>"
      ]
     },
     "metadata": {},
     "output_type": "display_data"
    }
   ],
   "source": [
    "import warnings\n",
    "with warnings.catch_warnings():\n",
    "    warnings.filterwarnings(\"ignore\")\n",
    "    sns.distplot(preds[..., 0],  kde_kws={'clip': (0.0, 1.0)}, hist=False, label='Ground truth')\n",
    "    sns.distplot(ground_truth,  kde_kws={'clip': (0.0, 1.0)}, hist=False, label='Prediction')\n",
    "    plt.legend();\n",
    "    plt.xlabel(\"Mean booked decades\");"
   ]
  },
  {
   "cell_type": "markdown",
   "id": "27e58f2a",
   "metadata": {},
   "source": [
    "## Scatter plot of ground_truth and preds"
   ]
  },
  {
   "cell_type": "code",
   "execution_count": 38,
   "id": "95c65d79",
   "metadata": {
    "scrolled": false
   },
   "outputs": [
    {
     "data": {
      "image/png": "[encoded data removed]",
      "text/plain": [
       "<Figure size 800x600 with 1 Axes>"
      ]
     },
     "metadata": {},
     "output_type": "display_data"
    }
   ],
   "source": [
    "# Create a diagonal line for y = x\n",
    "x_values = np.linspace(\n",
    "    min(preds[..., 0].min(), ground_truth.min()),\n",
    "    max(preds[..., 0].max(), ground_truth.max()),\n",
    "    100,\n",
    ")\n",
    "y_values = x_values\n",
    "\n",
    "# Plot the scatter plot\n",
    "plt.figure(figsize=(8, 6))\n",
    "sns.scatterplot(x=ground_truth, y=preds[..., 0])\n",
    "\n",
    "# Plot the diagonal line\n",
    "plt.plot(x_values, y_values, color=\"red\", linestyle=\"dashed\", label=\"y = x\")\n",
    "\n",
    "# Set labels and title\n",
    "plt.xlabel(\"Ground Truth\")\n",
    "\n",
    "plt.ylabel(\"Predictions\")\n",
    "plt.title(\"Scatter plot - Predictions vs. Ground Truth\")\n",
    "\n",
    "# Show the plot\n",
    "plt.legend()\n",
    "plt.show()"
   ]
  },
  {
   "cell_type": "code",
   "execution_count": null,
   "id": "9298279b",
   "metadata": {},
   "outputs": [],
   "source": []
  }
 ],
 "metadata": {
  "kernelspec": {
   "display_name": "Python 3 (ipykernel)",
   "language": "python",
   "name": "python3"
  },
  "language_info": {
   "codemirror_mode": {
    "name": "ipython",
    "version": 3
   },
   "file_extension": ".py",
   "mimetype": "text/x-python",
   "name": "python",
   "nbconvert_exporter": "python",
   "pygments_lexer": "ipython3",
   "version": "3.9.12"
  }
 },
 "nbformat": 4,
 "nbformat_minor": 5
}
